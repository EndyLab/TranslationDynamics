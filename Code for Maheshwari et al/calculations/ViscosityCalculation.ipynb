{
 "cells": [
  {
   "cell_type": "code",
   "execution_count": 13,
   "metadata": {},
   "outputs": [],
   "source": [
    "# Alp Sunol, 6/1/2020, \n",
    "# Script for analysis of constant strain viscosity of translation voxels\n",
    "import numpy as np\n",
    "#Enter in parameters and dimensions:\n",
    "r_rib = 0.01305; # radius in um\n",
    "r_tern = 0.0059;\n",
    "r_crowd = 0.002;\n",
    "\n",
    "dr = [0.6, 1, 1.5, 2, 2.5, 3]; # doubling rates\n",
    "vox = np.array([0.1008553156299825, 0.09292614340673645, 0.08424111219214989,\n",
    "       0.07738620566244644, 0.07199644075126958, 0.06767802200013741]); # original voxel sizes\n",
    "n_rib = np.array([3.5431368807732677, 7.83939708791492, 9.053235633635463,\n",
    "         8.728526590655443, 8.013776336457527, 7.258097524079424]); # number of ribosomes in a translation voxel\n",
    "n_tern = 42; # number of ternary complexes\n",
    "n_crowd = np.array([1970.0, 2096.0, 1791.0, 1418.0, 1090.0, 820.0]); # crowders\n",
    "n_tot = n_rib + n_tern + n_crowd; # total molecules\n",
    "phi = (4/3)*np.pi*(n_rib*r_rib**3 + n_tern*r_tern**3 + n_crowd*r_crowd**3)/(vox**3); # volume fractions across doubling rates\n",
    "phi_rib = (4/3)*np.pi*(n_rib*r_rib**3)/(vox**3); # volume fraction of each species (ribosome)\n",
    "phi_tern = (4/3)*np.pi*(n_tern*r_tern**3)/(vox**3); # volume fraction of ternary complexes\n",
    "phi_crowd = (4/3)*np.pi*(n_crowd*r_crowd**3)/(vox**3); # volume fraction of crowders\n",
    "\n",
    "mult = 100; # increase system size by this much to get better stats\n",
    "vox_new = (mult**(1/3))*(vox/r_rib/2); # new voxel sizes\n",
    "n_rib_new = mult*n_rib; # new total number, these were rounded to nearest 1 in simulation\n",
    "n_tern_new = mult*n_tern;\n",
    "n_crowd_new = mult*n_crowd;\n",
    "n_tot_new = mult*n_tot;\n",
    "\n",
    "# Size ratios:\n",
    "ratio_3 = r_rib/r_crowd;\n",
    "ratio_2 = r_rib/r_tern;\n",
    "\n",
    "# LAMMPS Stress output:\n",
    "stress_poly = [0.30687505, 1.2353882, 2.5700916,  3.8343913, 5.0503564,  5.8327729];"
   ]
  },
  {
   "cell_type": "code",
   "execution_count": 14,
   "metadata": {},
   "outputs": [],
   "source": [
    "#Scale the LAMMPS stress output such that it is equivilant to a monodispersed\n",
    "#case of size ribosomes.  Note in LAMMPS documentation, viscosity, and\n",
    "#herefore off diagonal stress, scales with the size squared:\n",
    "#(https://lammps.sandia.gov/doc/units.html)\n",
    "stress_poly_adjusted = n_tot_new*stress_poly/(n_rib_new + (ratio_2**2)*n_tern_new + (ratio_3**2)*n_crowd_new) \n",
    "\n",
    "# Convert to Brownian dynamics units from Foss and Brady 2000:\n",
    "strain_rate = 1; # in D/(2a)^2 (LAMMPS units)\n",
    "Pe_1 = strain_rate/4;  #peclet number, noting that strain is defined in \n",
    "                       # diameter for lammps but we converted to radius.\n",
    "                       # Note that this is 1/4 for the ribosome, but\n",
    "                       # 1/4/ratio_2^3 and 1/4/ratio_3^3 for the crowders,\n",
    "                       # meaning the peclet number for the whole suspension\n",
    "                       # is very low, meaning our system is close to\n",
    "                       # equilibirum.\n",
    "sigma_poly = stress_poly_adjusted/8; # in a^3/kT, with a being ribosome radius\n",
    "visc_poly_p = sigma_poly*6*np.pi/Pe_1; # interparticle contribution to viscosity\n",
    "visc_poly = 1 + (5/2)*phi + visc_poly_p; # final normalized viscosity"
   ]
  },
  {
   "cell_type": "code",
   "execution_count": 15,
   "metadata": {},
   "outputs": [
    {
     "data": {
      "text/plain": [
       "array([1.39863657, 1.83806931, 2.33803169, 2.76564579, 3.15041649,\n",
       "       3.41838736])"
      ]
     },
     "execution_count": 15,
     "metadata": {},
     "output_type": "execute_result"
    }
   ],
   "source": [
    "visc_poly"
   ]
  },
  {
   "cell_type": "code",
   "execution_count": 41,
   "metadata": {},
   "outputs": [
    {
     "data": {
      "text/plain": [
       "[<matplotlib.lines.Line2D at 0x7fafd8475c50>]"
      ]
     },
     "execution_count": 41,
     "metadata": {},
     "output_type": "execute_result"
    },
    {
     "data": {
      "image/png": "[encoded data removed]",
      "text/plain": [
       "<Figure size 432x288 with 1 Axes>"
      ]
     },
     "metadata": {
      "needs_background": "light"
     },
     "output_type": "display_data"
    }
   ],
   "source": [
    "%matplotlib inline\n",
    "monodisperse = np.array([1.37769311250437,          1.73718706235011,          2.20769189898426,\n",
    "          2.76172691958858,          3.41403512049185,          4.14715796024852])/(1.37769311250437)\n",
    "import matplotlib.pyplot as plt\n",
    "plt.plot(visc_poly/visc_poly[0])\n",
    "plt.plot(monodisperse,color='red')\n"
   ]
  },
  {
   "cell_type": "code",
   "execution_count": 27,
   "metadata": {},
   "outputs": [
    {
     "data": {
      "text/plain": [
       "array([1.        , 1.3141865 , 1.67165062, 1.97738701, 2.25249114,\n",
       "       2.44408549])"
      ]
     },
     "execution_count": 27,
     "metadata": {},
     "output_type": "execute_result"
    }
   ],
   "source": [
    "visc_poly/visc_poly[0]"
   ]
  },
  {
   "cell_type": "code",
   "execution_count": 28,
   "metadata": {},
   "outputs": [
    {
     "data": {
      "text/plain": [
       "array([1.        , 1.26093906, 1.6024555 , 2.0046024 , 2.478081  ,\n",
       "       3.01021898])"
      ]
     },
     "execution_count": 28,
     "metadata": {},
     "output_type": "execute_result"
    }
   ],
   "source": [
    "monodisperse"
   ]
  },
  {
   "cell_type": "code",
   "execution_count": 32,
   "metadata": {},
   "outputs": [],
   "source": [
    "phi_list = np.array([0.13172292, 0.22350473, 0.30181037, 0.35583449, 0.3945994 ,\n",
    "       0.42317604])\n",
    "a = []\n",
    "for i in phi_list:\n",
    "    a.append(1+2.5*i+6.2*i**2)"
   ]
  },
  {
   "cell_type": "code",
   "execution_count": 35,
   "metadata": {},
   "outputs": [
    {
     "data": {
      "text/plain": [
       "[<matplotlib.lines.Line2D at 0x7fafc00d8090>]"
      ]
     },
     "execution_count": 35,
     "metadata": {},
     "output_type": "execute_result"
    },
    {
     "data": {
      "image/png": "[encoded data removed]",
      "text/plain": [
       "<Figure size 432x288 with 1 Axes>"
      ]
     },
     "metadata": {
      "needs_background": "light"
     },
     "output_type": "display_data"
    }
   ],
   "source": [
    "plt.plot(phi_list,visc_poly)\n",
    "plt.plot(phi_list,a,color='purple')"
   ]
  },
  {
   "cell_type": "code",
   "execution_count": 36,
   "metadata": {},
   "outputs": [
    {
     "data": {
      "text/plain": [
       "array([1.39863657, 1.83806931, 2.33803169, 2.76564579, 3.15041649,\n",
       "       3.41838736])"
      ]
     },
     "execution_count": 36,
     "metadata": {},
     "output_type": "execute_result"
    }
   ],
   "source": [
    "visc_poly"
   ]
  },
  {
   "cell_type": "code",
   "execution_count": 40,
   "metadata": {},
   "outputs": [
    {
     "data": {
      "text/plain": [
       "array([1.37769311, 1.73718706, 2.2076919 , 2.76172692, 3.41403512,\n",
       "       4.14715796])"
      ]
     },
     "execution_count": 40,
     "metadata": {},
     "output_type": "execute_result"
    }
   ],
   "source": [
    "monodisperse"
   ]
  },
  {
   "cell_type": "code",
   "execution_count": null,
   "metadata": {},
   "outputs": [],
   "source": []
  }
 ],
 "metadata": {
  "kernelspec": {
   "display_name": "Python 3",
   "language": "python",
   "name": "python3"
  },
  "language_info": {
   "codemirror_mode": {
    "name": "ipython",
    "version": 3
   },
   "file_extension": ".py",
   "mimetype": "text/x-python",
   "name": "python",
   "nbconvert_exporter": "python",
   "pygments_lexer": "ipython3",
   "version": "3.7.4"
  }
 },
 "nbformat": 4,
 "nbformat_minor": 2
}
