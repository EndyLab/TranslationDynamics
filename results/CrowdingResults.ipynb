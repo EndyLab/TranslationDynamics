{
 "cells": [
  {
   "cell_type": "markdown",
   "metadata": {},
   "source": [
    "This notebook evaluates the collision dynamics of tRNAs and ribosomes in a polydisperse setting at biologically-accurate crowding levels at 1) different time scales and 2) total simulation volume"
   ]
  },
  {
   "cell_type": "code",
   "execution_count": 30,
   "metadata": {},
   "outputs": [
    {
     "name": "stdout",
     "output_type": "stream",
     "text": [
      "The autoreload extension is already loaded. To reload it, use:\n",
      "  %reload_ext autoreload\n"
     ]
    }
   ],
   "source": [
    "from src import analysis_utils as utils\n",
    "import matplotlib.pyplot as plt\n",
    "import numpy as np\n",
    "import pickle as pkl\n",
    "import seaborn as sns; sns.set()\n",
    "import pandas as pd\n",
    "%matplotlib inline \n",
    "%load_ext autoreload\n",
    "%autoreload"
   ]
  },
  {
   "cell_type": "code",
   "execution_count": 16,
   "metadata": {},
   "outputs": [],
   "source": [
    "with open(\"expt5_analysis.p\", 'rb') as f:\n",
    "    data=pkl.load(f)\n",
    "tRNACollisionCount_rt = data[0]\n",
    "incorrectCollisions_rt = data[1]"
   ]
  },
  {
   "cell_type": "code",
   "execution_count": 17,
   "metadata": {},
   "outputs": [
    {
     "name": "stdout",
     "output_type": "stream",
     "text": [
      "[[ 5273.  5354.  5221.]\n",
      " [ 5049.  5172.  5093.]\n",
      " [ 4424.  4846.  4834.]\n",
      " [ 4985.  5051.  4581.]\n",
      " [ 4862.  5096.  4880.]\n",
      " [ 4502.  4951.  4845.]\n",
      " [ 5213.  5335.  5218.]]\n",
      "Initial tRNA x ribosome x collisionGapNumber has shape: (7, 3, 0)\n",
      "Currently processing ribosome # 0\n",
      "Currently processing ribosome # 1\n",
      "Currently processing ribosome # 2\n",
      "Currently processing ribosome # 3\n",
      "Currently processing ribosome # 4\n",
      "Currently processing ribosome # 5\n",
      "Currently processing ribosome # 6\n"
     ]
    }
   ],
   "source": [
    "df= utils.readSimData(\"data/expt5_47tRNAEfTu_1ribosome_0tRNASynth_0aa_1000nmSidelength_20180424.xls\")\n",
    "tRNACollisionCount_rt=utils.countRibosomeCollisions(df, np.arange(1,4),np.arange(48,55))\n",
    "incorrectCollisions_rt=utils.countIncorrectRibosomeCollisions(df, np.arange(1,4),np.arange(48,55))\n",
    "\n"
   ]
  },
  {
   "cell_type": "code",
   "execution_count": null,
   "metadata": {},
   "outputs": [
    {
     "name": "stdout",
     "output_type": "stream",
     "text": [
      "[[ 453.  680.  565.]\n",
      " [ 471.  436.  477.]\n",
      " [ 484.  611.  708.]\n",
      " [ 531.  610.  405.]\n",
      " [ 511.  394.  340.]\n",
      " [ 509.  495.  525.]\n",
      " [ 396.  447.  440.]]\n",
      "[[ 1139.  1239.  1076.]\n",
      " [  919.  1037.  1036.]\n",
      " [  832.  1060.  1153.]\n",
      " [ 1105.  1155.   963.]\n",
      " [  991.   963.   883.]\n",
      " [  793.   864.   887.]\n",
      " [  843.  1051.  1102.]]\n",
      "[[ 1635.  1806.  1616.]\n",
      " [ 1497.  1484.  1598.]\n",
      " [ 1263.  1481.  1547.]\n",
      " [ 1547.  1686.  1555.]\n",
      " [ 1587.  1690.  1495.]\n",
      " [ 1124.  1288.  1373.]\n",
      " [ 1376.  1689.  1666.]]\n",
      "[[ 2191.  2341.  2160.]\n",
      " [ 1923.  1961.  1973.]\n",
      " [ 1625.  1952.  2080.]\n",
      " [ 1925.  2143.  1897.]\n",
      " [ 2109.  2202.  2008.]\n",
      " [ 1643.  1711.  1734.]\n",
      " [ 1969.  2280.  2345.]]\n",
      "[[ 2797.  2841.  2733.]\n",
      " [ 2382.  2427.  2485.]\n",
      " [ 2166.  2610.  2672.]\n",
      " [ 2303.  2694.  2330.]\n",
      " [ 2597.  2761.  2577.]\n",
      " [ 2073.  2285.  2247.]\n",
      " [ 2507.  2843.  2901.]]\n",
      "[[ 3427.  3440.  3265.]\n",
      " [ 2904.  2884.  3063.]\n",
      " [ 2645.  3053.  2967.]\n",
      " [ 2756.  3072.  2777.]\n",
      " [ 2968.  3245.  3060.]\n",
      " [ 2658.  2945.  2713.]\n",
      " [ 3187.  3334.  3390.]]\n",
      "[[ 3953.  3963.  3762.]\n",
      " [ 3434.  3461.  3511.]\n",
      " [ 3096.  3459.  3436.]\n",
      " [ 3487.  3612.  3246.]\n",
      " [ 3429.  3674.  3540.]\n",
      " [ 3244.  3477.  3327.]\n",
      " [ 3707.  3731.  3775.]]\n"
     ]
    }
   ],
   "source": [
    "timesplitdf=utils.timeSplitter(df)\n",
    "\n",
    "row_max=3\n",
    "col_max=3\n",
    "fig, ax = plt.subplots(row_max,col_max)\n",
    "\n",
    "for j in range(row_max):\n",
    "    for k in range(col_max):\n",
    "        tRNACollisionCount_rt = utils.countRibosomeCollisions(pd.concat(timesplitdf[0:col_max*j+k+1]), np.arange(1,4),np.arange(48,55))\n",
    "        #Could make 5x more efficient by summing the 2D array outputs instead of concat the original dfs.But couldn't do this for distribution\n",
    "        #analysis where things are lists instead of nice clean 2D vectors.[though Could iterate through both lists, adding as we go to make new list]\n",
    "        for i in range(3):\n",
    "            ax[j,k].bar(.1*i+np.arange(0,7),tRNACollisionCount_rt[:,i], width=0.1, label=\"tRNA \"+str(i))\n",
    "        ax[j,k].set_title(\"Split \"+str(col_max*j+k))\n",
    "\n",
    "plt.tight_layout(pad=0.1, w_pad=2, h_pad=1)\n",
    "\n",
    "#ax[j,k].set_title(\"# times ribosome sampled by a given tRNA\")\n",
    "#ax[j,k].set_xlabel(\"Ribosome ID #\")\n",
    "#ax[j,k].set_xticklabels([\"0\",\"r0\",\"r1\",\"r2\",\"r3\",\"r4\",\"r5\",\"r6\"])\n",
    "#ax[j,k].set_ylabel(\"# collision events\")\n",
    "\n",
    "##not summed up. As a secondary graph, maybe I can show 2 line on line graph over more fine grained accumulation of hits for a single/2 ribosomes.\n",
    "#To show 1 high 1 low and then over time they become more even or something. Can get this probably from just plotting a sorted df, df sort by\n",
    "#ribosome&tRNA and then plotting all tRNA hit time points."
   ]
  },
  {
   "cell_type": "code",
   "execution_count": null,
   "metadata": {},
   "outputs": [],
   "source": [
    "tRNACollisionCount_rt = utils.countRibosomeCollisions(timesplitdf[k_max*j+k], np.arange(1,3),np.arange(51,55))"
   ]
  },
  {
   "cell_type": "code",
   "execution_count": null,
   "metadata": {},
   "outputs": [],
   "source": []
  },
  {
   "cell_type": "markdown",
   "metadata": {},
   "source": [
    "Citations:\n",
    "1. Check model excel sheet for numbers.\n",
    "2. Show citation for crowding percentage being biologically accurate/what's in a cell"
   ]
  }
 ],
 "metadata": {
  "kernelspec": {
   "display_name": "Python [default]",
   "language": "python",
   "name": "python3"
  },
  "language_info": {
   "codemirror_mode": {
    "name": "ipython",
    "version": 3
   },
   "file_extension": ".py",
   "mimetype": "text/x-python",
   "name": "python",
   "nbconvert_exporter": "python",
   "pygments_lexer": "ipython3",
   "version": "3.5.2"
  }
 },
 "nbformat": 4,
 "nbformat_minor": 2
}
