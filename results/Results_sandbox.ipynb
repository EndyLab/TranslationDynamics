{
 "cells": [
  {
   "cell_type": "code",
   "execution_count": 598,
   "metadata": {},
   "outputs": [
    {
     "name": "stdout",
     "output_type": "stream",
     "text": [
      "The autoreload extension is already loaded. To reload it, use:\n",
      "  %reload_ext autoreload\n"
     ]
    }
   ],
   "source": [
    "import pandas as pd\n",
    "from src import analysis_utils as utils\n",
    "import numpy as np\n",
    "import matplotlib.pyplot as plt\n",
    "%matplotlib inline  \n",
    "%load_ext autoreload\n",
    "%autoreload\n",
    "import time\n",
    "import math"
   ]
  },
  {
   "cell_type": "code",
   "execution_count": 105,
   "metadata": {},
   "outputs": [],
   "source": [
    "def readSimData(path):\n",
    "    df = pandas.read_csv(path,sep=\" \")\n",
    "    df.columns=[\"time\",\"rxn\",\"x\",\"y\",\"z\",\"reactantA\",\"reactantB\",\"productA\",\"productB\"]\n",
    "    return df\n",
    "\n",
    "def avg(col):\n",
    "    tot=0\n",
    "    for i in range(len(col)):\n",
    "        tot+=(sum(col[i])/len(col[i]))\n",
    "    return tot/len(col)\n",
    "    #The average is still 47, but now there's 2 populations: those that are interacting very often with the ribosome, and those are interacting very infrequently.\n",
    "def avgArr(col):\n",
    "    avgArr=list()\n",
    "    stdArr=list()\n",
    "    for arr_i in range(len(col)):\n",
    "        avgArr.append(np.average(col[arr_i]))\n",
    "    return avgArr\n",
    "\n",
    "def median(col):\n",
    "    tot=0\n",
    "    for i in range(len(col)):\n",
    "       tot+=(np.median(np.array(col[i])))\n",
    "    return tot/len(col)\n",
    "\n"
   ]
  },
  {
   "cell_type": "code",
   "execution_count": 5,
   "metadata": {},
   "outputs": [
    {
     "name": "stdout",
     "output_type": "stream",
     "text": [
      "2\n",
      "19\n"
     ]
    }
   ],
   "source": [
    "#Experiment 12\n",
    "df12=readSimData(\"./data/AM4S_expt12_47tRNAEfTuEfTu7ribosome.xls\")\n",
    "rib12,timeavg12=utils.countRibosomeCollisions(df=df12,tRNAid=1,ribosomeIDList=list(range(48,55)))\n",
    "col12=utils.countIncorrectRibosomeCollisions(df12, tRNAidList=list(range(1,20)),ribosomeID=51)\n",
    "print(len(col12))"
   ]
  },
  {
   "cell_type": "code",
   "execution_count": 23,
   "metadata": {},
   "outputs": [
    {
     "name": "stdout",
     "output_type": "stream",
     "text": [
      "46.12532815883022\n",
      "31.7368421053\n"
     ]
    },
    {
     "data": {
      "image/png": "[encoded data removed]",
      "text/plain": [
       "<matplotlib.figure.Figure at 0x11cf8c208>"
      ]
     },
     "metadata": {},
     "output_type": "display_data"
    }
   ],
   "source": [
    "plt.hist(col12,bins=10,range=(1,1000)) #expt 5\n",
    "print(avg(col12))\n",
    "print(median(col12))\n",
    "#plt.plot(col[0][0:1000])\n",
    "#People have talked about the average hit time, but as far as I've seen, nobody has shown the power law distribution of sample times.\n",
    "#If I show with average TIMESTEPS btwn correct collision, maybe this will turn gaussian?\n",
    "#Why is median only 31 instead of 46?"
   ]
  },
  {
   "cell_type": "code",
   "execution_count": 7,
   "metadata": {},
   "outputs": [
    {
     "name": "stdout",
     "output_type": "stream",
     "text": [
      "2\n"
     ]
    },
    {
     "ename": "NameError",
     "evalue": "name 'col' is not defined",
     "output_type": "error",
     "traceback": [
      "\u001b[0;31m---------------------------------------------------------------------------\u001b[0m",
      "\u001b[0;31mNameError\u001b[0m                                 Traceback (most recent call last)",
      "\u001b[0;32m<ipython-input-7-f3800ed05b2c>\u001b[0m in \u001b[0;36m<module>\u001b[0;34m()\u001b[0m\n\u001b[1;32m      3\u001b[0m \u001b[0mrib11\u001b[0m\u001b[0;34m,\u001b[0m\u001b[0mtimeavg11\u001b[0m\u001b[0;34m=\u001b[0m\u001b[0mutils\u001b[0m\u001b[0;34m.\u001b[0m\u001b[0mcountRibosomeCollisions\u001b[0m\u001b[0;34m(\u001b[0m\u001b[0mdf\u001b[0m\u001b[0;34m=\u001b[0m\u001b[0mdf11\u001b[0m\u001b[0;34m,\u001b[0m\u001b[0mtRNAid\u001b[0m\u001b[0;34m=\u001b[0m\u001b[0;36m1\u001b[0m\u001b[0;34m,\u001b[0m\u001b[0mribosomeIDList\u001b[0m\u001b[0;34m=\u001b[0m\u001b[0mlist\u001b[0m\u001b[0;34m(\u001b[0m\u001b[0mrange\u001b[0m\u001b[0;34m(\u001b[0m\u001b[0;36m48\u001b[0m\u001b[0;34m,\u001b[0m\u001b[0;36m55\u001b[0m\u001b[0;34m)\u001b[0m\u001b[0;34m)\u001b[0m\u001b[0;34m)\u001b[0m\u001b[0;34m\u001b[0m\u001b[0m\n\u001b[1;32m      4\u001b[0m \u001b[0mcol11\u001b[0m\u001b[0;34m=\u001b[0m\u001b[0mutils\u001b[0m\u001b[0;34m.\u001b[0m\u001b[0mcountIncorrectRibosomeCollisions\u001b[0m\u001b[0;34m(\u001b[0m\u001b[0mdf11\u001b[0m\u001b[0;34m,\u001b[0m \u001b[0mtRNAidList\u001b[0m\u001b[0;34m=\u001b[0m\u001b[0mlist\u001b[0m\u001b[0;34m(\u001b[0m\u001b[0mrange\u001b[0m\u001b[0;34m(\u001b[0m\u001b[0;36m1\u001b[0m\u001b[0;34m,\u001b[0m\u001b[0;36m20\u001b[0m\u001b[0;34m)\u001b[0m\u001b[0;34m)\u001b[0m\u001b[0;34m,\u001b[0m\u001b[0mribosomeID\u001b[0m\u001b[0;34m=\u001b[0m\u001b[0;36m51\u001b[0m\u001b[0;34m)\u001b[0m\u001b[0;34m\u001b[0m\u001b[0m\n\u001b[0;32m----> 5\u001b[0;31m \u001b[0mprint\u001b[0m\u001b[0;34m(\u001b[0m\u001b[0mlen\u001b[0m\u001b[0;34m(\u001b[0m\u001b[0mcol\u001b[0m\u001b[0;34m)\u001b[0m\u001b[0;34m)\u001b[0m\u001b[0;34m\u001b[0m\u001b[0m\n\u001b[0m\u001b[1;32m      6\u001b[0m \u001b[0;31m#print(col)\u001b[0m\u001b[0;34m\u001b[0m\u001b[0;34m\u001b[0m\u001b[0m\n",
      "\u001b[0;31mNameError\u001b[0m: name 'col' is not defined"
     ]
    }
   ],
   "source": [
    "#Experiment 11: 6tRNA\n",
    "df11=readSimData(\"./data/AM4S_expt11_47tRNAEfTuEfTu7ribosomev2.xls\")\n",
    "rib11,timeavg11=utils.countRibosomeCollisions(df=df11,tRNAid=1,ribosomeIDList=list(range(48,55)))\n",
    "col11=utils.countIncorrectRibosomeCollisions(df11, tRNAidList=list(range(1,20)),ribosomeID=51)\n",
    "\n",
    "#print(col)"
   ]
  },
  {
   "cell_type": "code",
   "execution_count": 72,
   "metadata": {},
   "outputs": [
    {
     "name": "stdout",
     "output_type": "stream",
     "text": [
      "19\n",
      "46.76607817577013\n",
      "9.0\n"
     ]
    },
    {
     "data": {
      "image/png": "[encoded data removed]",
      "text/plain": [
       "<matplotlib.figure.Figure at 0x11d39f6d8>"
      ]
     },
     "metadata": {},
     "output_type": "display_data"
    }
   ],
   "source": [
    "print(len(col11))\n",
    "plt.hist(col11[0:5],bins=10,range=(1,1000)) #expt 11\n",
    "print(avg(col11))\n",
    "print(median(np.nonzero(col11)))\n",
    "#plt.plot(col[0][0:1000])"
   ]
  },
  {
   "cell_type": "code",
   "execution_count": 25,
   "metadata": {},
   "outputs": [
    {
     "name": "stdout",
     "output_type": "stream",
     "text": [
      "2\n"
     ]
    }
   ],
   "source": [
    "#Experiment 13: 6tRNA\n",
    "df13=readSimData(\"./data/AM4S_expt13_47tRNAEfTuEfTu7ribosome.xls\")\n",
    "rib13,timeavg11=utils.countRibosomeCollisions(df=df13,tRNAid=1,ribosomeIDList=list(range(48,55)))\n",
    "col13=utils.countIncorrectRibosomeCollisions(df13, tRNAidList=list(range(1,20)),ribosomeID=51)\n",
    "\n",
    "#print(col)"
   ]
  },
  {
   "cell_type": "code",
   "execution_count": null,
   "metadata": {},
   "outputs": [],
   "source": []
  },
  {
   "cell_type": "code",
   "execution_count": 27,
   "metadata": {},
   "outputs": [],
   "source": [
    "col13_48=utils.countIncorrectRibosomeCollisions(df13, tRNAidList=list(range(1,20)),ribosomeID=48)\n"
   ]
  },
  {
   "cell_type": "code",
   "execution_count": 26,
   "metadata": {},
   "outputs": [
    {
     "name": "stdout",
     "output_type": "stream",
     "text": [
      "19\n",
      "46.27639709627217\n",
      "9.0\n"
     ]
    },
    {
     "data": {
      "image/png": "[encoded data removed]",
      "text/plain": [
       "<matplotlib.figure.Figure at 0x123803160>"
      ]
     },
     "metadata": {},
     "output_type": "display_data"
    }
   ],
   "source": [
    "print(len(col13))\n",
    "plt.hist(col13,bins=10,range=(1,1000)) #expt 11\n",
    "print(avg(col13))\n",
    "print(median(np.nonzero(col13)))\n",
    "#plt.plot(col[0][0:1000])"
   ]
  },
  {
   "cell_type": "code",
   "execution_count": 31,
   "metadata": {},
   "outputs": [
    {
     "name": "stdout",
     "output_type": "stream",
     "text": [
      "46.21832657534107\n"
     ]
    },
    {
     "data": {
      "image/png": "[encoded data removed]",
      "text/plain": [
       "<matplotlib.figure.Figure at 0x135d8f2b0>"
      ]
     },
     "metadata": {},
     "output_type": "display_data"
    }
   ],
   "source": [
    "plt.hist(col13_48,bins=10,range=(1,1000)) #expt 11\n",
    "print(avg(col13_48))\n"
   ]
  },
  {
   "cell_type": "code",
   "execution_count": 43,
   "metadata": {},
   "outputs": [
    {
     "data": {
      "text/plain": [
       "(array([ 573.,  170.,   61.,   19.,    3.,    5.,    0.,    0.,    1.,    0.]),\n",
       " array([    1. ,   100.9,   200.8,   300.7,   400.6,   500.5,   600.4,\n",
       "          700.3,   800.2,   900.1,  1000. ]),\n",
       " <a list of 10 Patch objects>)"
      ]
     },
     "execution_count": 43,
     "metadata": {},
     "output_type": "execute_result"
    },
    {
     "data": {
      "image/png": "[encoded data removed]",
      "text/plain": [
       "<matplotlib.figure.Figure at 0x12134bfd0>"
      ]
     },
     "metadata": {},
     "output_type": "display_data"
    }
   ],
   "source": [
    "plt.hist(col13_48[13],bins=10,range=(1,1000)) #expt 11\n",
    "plt.hist(col13[13],bins=10,range=(1,1000)) #expt 11\n"
   ]
  },
  {
   "cell_type": "code",
   "execution_count": 76,
   "metadata": {},
   "outputs": [
    {
     "data": {
      "text/plain": [
       "19"
      ]
     },
     "execution_count": 76,
     "metadata": {},
     "output_type": "execute_result"
    },
    {
     "data": {
      "image/png": "[encoded data removed]",
      "text/plain": [
       "<matplotlib.figure.Figure at 0x11dc61358>"
      ]
     },
     "metadata": {},
     "output_type": "display_data"
    }
   ],
   "source": [
    "len(col13[1])\n",
    "plt.scatter(range(1,20),avgArr(col13))\n",
    "plt.scatter(range(1,20),avgArr(col13_48))\n"
   ]
  },
  {
   "cell_type": "code",
   "execution_count": 103,
   "metadata": {},
   "outputs": [
    {
     "name": "stdout",
     "output_type": "stream",
     "text": [
      "19\n",
      "19\n"
     ]
    },
    {
     "data": {
      "text/plain": [
       "{'bodies': [<matplotlib.collections.PolyCollection at 0x11dc72ba8>,\n",
       "  <matplotlib.collections.PolyCollection at 0x11dc72080>],\n",
       " 'cbars': <matplotlib.collections.LineCollection at 0x11e18e278>,\n",
       " 'cmaxes': <matplotlib.collections.LineCollection at 0x11dc72e48>,\n",
       " 'cmins': <matplotlib.collections.LineCollection at 0x11e18ec18>}"
      ]
     },
     "execution_count": 103,
     "metadata": {},
     "output_type": "execute_result"
    },
    {
     "data": {
      "image/png": "[encoded data removed]",
      "text/plain": [
       "<matplotlib.figure.Figure at 0x120a1c160>"
      ]
     },
     "metadata": {},
     "output_type": "display_data"
    }
   ],
   "source": [
    "print(len(list(range(1,20))))\n",
    "print(len(col13))\n",
    "pos = [1, 2]\n",
    "data=[col13[6],col13_48[6]]\n",
    "plt.violinplot(data,pos)"
   ]
  },
  {
   "cell_type": "code",
   "execution_count": 207,
   "metadata": {},
   "outputs": [
    {
     "name": "stdout",
     "output_type": "stream",
     "text": [
      "48\n",
      "49\n",
      "50\n",
      "51\n",
      "52\n",
      "53\n",
      "54\n",
      "--- 583.3095009326935 seconds ---\n"
     ]
    },
    {
     "data": {
      "text/plain": [
       "7"
      ]
     },
     "execution_count": 207,
     "metadata": {},
     "output_type": "execute_result"
    }
   ],
   "source": [
    "#Experiment 13: 6tRNA\n",
    "\n",
    "df13=readSimData(\"./data/AM4S_expt13_47tRNAEfTuEfTu7ribosome.xls\")\n",
    "start_time = time.time()\n",
    "col13=utils.countIncorrectRibosomeCollisions(df13, tRNAidList=list(range(1,3)),ribosomeidList=list(range(48,55)))\n",
    "print(\"--- %s seconds ---\" % (time.time() - start_time))\n",
    "len(col13)"
   ]
  },
  {
   "cell_type": "code",
   "execution_count": null,
   "metadata": {},
   "outputs": [],
   "source": [
    "plt.violinplot(data,pos)"
   ]
  },
  {
   "cell_type": "code",
   "execution_count": null,
   "metadata": {},
   "outputs": [],
   "source": [
    "#Create method for seeing how 1 tRNA did with all ribosomes (just expand my methods to include ribosome data)\n",
    "\n",
    "#I expect a longer tail for experiment 11 w/ crowding.Check to see if there's a split population \n",
    "#(i.e. 1 tRNA that's mostly in 1 ribosome w/ 0 others; and that's very few intrxns w/ another ribosome)\n",
    "\n",
    "#redo this analysis with a 0.5ms delay\n",
    "\n",
    "#Try by keeping ribosomes close to each other and encoding same thing\n",
    "\n",
    "#Set up the 0.5ms delay such that that the delay occurs for 1 ribosome with some of the tRNAs\n",
    "#and another ribosome for the other tRNAs maybe?\n",
    "\n",
    "#OR, set it up s.t. 1 ribosome causes a few of the tRNA to block the ribosome for 0.5ms,\n",
    "#but no other ribosome does.\n",
    "\n",
    "#ACTUALLY, what if gemiante reactions are part of the proofreading process? i.e.,\n",
    "#the system is so crowded that a correct tRNA is likely to keep getting pushed back\n",
    "#in if it sneaks out. But then that would suggest that correct tRNAs are somehow\n",
    "#enriched by ribosomes correctly...maybe by binding to something or getting trapped\n",
    "# or being passed on by a near polysome; else the wrong tRNA would keep getting shoved\n",
    "#back in as well. OR, the wrong tRNA gets shoved off some other way.\n",
    "\n",
    "#Could there be a way for ribosome to kick the tRNA back to next ribosome on the\n",
    "#mRNA chain once its done with the tRNA?\n",
    "\n",
    "#ok now i remember; the trick was, let the ribosome not acept the correct tRNA after it's \n",
    "#bound correctly once for ~0.5ms (i.e. maybe the min. time it takes for the next ribosome on \n",
    "#the polysome to arrive near this location). Then see if that leads to more correct binding\n",
    "#(fewer incorrect bindings; don't turn off reactions for the other 46 tRNAs so can directly\n",
    "#compare binding takes time vs. without this 0.5 ms thing. \n",
    "#Make the 0.5ms as short as needed to still see an effect\n",
    "\n",
    "#Maybe it won't be bimodal at the 100ms scale, but if I look at a shorter scale,\n",
    "#like 1ms or 10ms, not all tRNA will be able to sample all ribosome....make plot\n",
    "#w/ this idea"
   ]
  },
  {
   "cell_type": "code",
   "execution_count": 138,
   "metadata": {},
   "outputs": [
    {
     "data": {
      "text/plain": [
       "1"
      ]
     },
     "execution_count": 138,
     "metadata": {},
     "output_type": "execute_result"
    }
   ],
   "source": [
    "#I need a positive control where I'd definitely see a difference in sampling\n",
    "#Try supercrowded situation?\n",
    "#Also, normalize counts maybe?\n",
    "#Actually, as negative control, I can just do the same experiment but without\n",
    "#any bounce btwn tRNAs/other molecules; only count reactions btwn ribosomes and\n",
    "#tRNAs\n",
    "\n",
    "#CREATE TIME DYNAMICS; i.e., how 1 tRNA samples all 6 ribosomes (or even just 2 different ribosomes) over time\n",
    "#This will help us quantify caging dynamics. And do this as above w/ controls.\n",
    "#Run these 3 setups for a long time; then can calculate avg intrxns as i've done\n",
    "#above across time (same as seeing distrib shift w/ time but w/ a number metric)"
   ]
  },
  {
   "cell_type": "code",
   "execution_count": null,
   "metadata": {},
   "outputs": [],
   "source": []
  },
  {
   "cell_type": "code",
   "execution_count": null,
   "metadata": {},
   "outputs": [],
   "source": [
    "col13_fast=utils.countIncorrectRibosomeCollisionsFast(df13, list(range(1,3)),list(range(48,55)))\n"
   ]
  },
  {
   "cell_type": "code",
   "execution_count": null,
   "metadata": {},
   "outputs": [],
   "source": []
  },
  {
   "cell_type": "code",
   "execution_count": null,
   "metadata": {},
   "outputs": [],
   "source": []
  },
  {
   "cell_type": "code",
   "execution_count": 599,
   "metadata": {},
   "outputs": [
    {
     "name": "stdout",
     "output_type": "stream",
     "text": [
      "Reached tRNA  2 . Completed counting collisions between tRNA  1  and ribosomes  [48, 49, 50, 51, 52, 53, 54]\n",
      "Initial tRNA x ribosome x collisionGapNumber has shape: (4, 3, 0)\n",
      "Currently processing ribosome # 0\n",
      "Currently processing ribosome # 1\n",
      "Currently processing ribosome # 2\n"
     ]
    }
   ],
   "source": [
    "#df1a2=df1a2.sort_values(['time'], ascending=[True])\n",
    "#print(df1a2.iloc[df1a2.shape[0]-1]['time'])\n",
    "#df1a2=df1a2.sort_values(['time'], ascending=[True])\n",
    "#a=df1a2.groupby(pd.cut(df1a2[\"time\"],np.arange(0,1.0001,0.1)))\n",
    "#magroups = [a.get_group(x) for x in a.groups]\n",
    "#mapgroups = [name for name, unused_df in a]\n",
    "#b=[]\n",
    "df12=readSimData(\"./data/AM4S_expt12_47tRNAEfTuEfTu7ribosome.xls\")\n",
    "rib12,timeavg12=utils.countRibosomeCollisions(df=df12,tRNAid=1,ribosomeIDList=list(range(48,55)))\n",
    "col12=utils.countIncorrectRibosomeCollisions(df12, tRNA_IDList=list(range(1,5)),ribosome_IDList=list(range(48,51)))\n",
    "\n",
    "a=utils.timeSplitter(df12,time_interval=0.2,scale=\"log\")\n"
   ]
  },
  {
   "cell_type": "code",
   "execution_count": 600,
   "metadata": {},
   "outputs": [
    {
     "name": "stdout",
     "output_type": "stream",
     "text": [
      "2\n",
      "Initial tRNA x ribosome x collisionGapNumber has shape: (4, 3, 0)\n",
      "Currently processing ribosome # 0\n",
      "Currently processing ribosome # 1\n",
      "Currently processing ribosome # 2\n"
     ]
    },
    {
     "data": {
      "text/plain": [
       "([array([ 854.,   83.,    8.,    2.,    0.,    0.,    0.,    0.,    0.,    0.]),\n",
       "  array([ 832.,   84.,    7.,    0.,    0.,    0.,    0.,    0.,    0.,    0.]),\n",
       "  array([ 766.,  101.,    7.,    1.,    0.,    0.,    0.,    0.,    0.,    0.])],\n",
       " array([    1. ,   100.9,   200.8,   300.7,   400.6,   500.5,   600.4,\n",
       "          700.3,   800.2,   900.1,  1000. ]),\n",
       " <a list of 3 Lists of Patches objects>)"
      ]
     },
     "execution_count": 600,
     "metadata": {},
     "output_type": "execute_result"
    },
    {
     "data": {
      "image/png": "[encoded data removed]",
      "text/plain": [
       "<matplotlib.figure.Figure at 0x17b410fd0>"
      ]
     },
     "metadata": {},
     "output_type": "display_data"
    }
   ],
   "source": [
    "print(len(a))\n",
    "j=utils.countIncorrectRibosomeCollisions(a[1],tRNA_IDList=list(range(1,5)),ribosome_IDList=list(range(48,51)))\n",
    "plt.hist(j[0],bins=10,range=(1,1000)) #expt 11"
   ]
  },
  {
   "cell_type": "code",
   "execution_count": null,
   "metadata": {},
   "outputs": [],
   "source": [
    "#Create new notebook and compare above methods w/ positive control (infinite crowding/stucj), negative control(molecules can go thru each other), and experimental params."
   ]
  },
  {
   "cell_type": "code",
   "execution_count": null,
   "metadata": {},
   "outputs": [],
   "source": [
    "#Module for analysis of number of wrong collisions before correct tRNA reaches ribosome 1.4 times\n",
    "#Produces graph of distribution of number of collisions in between two correct events\n",
    "#Need to check to see how far the poisson (power law?) distribution is for caged events vs. free diffusing/mixing events\n",
    "#to identify anomalies/spatial effects other than just being rare events being sampled.\n",
    "#or we find out that the distribution is same for each ribosome, just spends less time near the ribosome.\n",
    "#Fluitt uses \"average\", but really we have a poisson sampling rate where \"avg\" less meaningful\n",
    "#Rewrite this code to just do calculation of riboosme&tRNA count w/ 1 pass of df"
   ]
  }
 ],
 "metadata": {
  "kernelspec": {
   "display_name": "Python [default]",
   "language": "python",
   "name": "python3"
  },
  "language_info": {
   "codemirror_mode": {
    "name": "ipython",
    "version": 3
   },
   "file_extension": ".py",
   "mimetype": "text/x-python",
   "name": "python",
   "nbconvert_exporter": "python",
   "pygments_lexer": "ipython3",
   "version": "3.5.2"
  }
 },
 "nbformat": 4,
 "nbformat_minor": 2
}
