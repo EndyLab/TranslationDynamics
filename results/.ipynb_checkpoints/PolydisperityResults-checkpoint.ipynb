{
 "cells": [
  {
   "cell_type": "markdown",
   "metadata": {},
   "source": [
    "This notebook evaluates the effects of 1)crowding, 2) polydisperity and 3) closed boundaries on the distribution of collisions between ribosomes and tRNA.\n",
    "\n",
    "It demonstrates that polydisperse crowding (as opposed to monodisperse crowding or dilute polydisperity) and closed boundaries are important for creating non-random distributions (at certain time scales)."
   ]
  },
  {
   "cell_type": "code",
   "execution_count": 43,
   "metadata": {},
   "outputs": [
    {
     "name": "stdout",
     "output_type": "stream",
     "text": [
      "The autoreload extension is already loaded. To reload it, use:\n",
      "  %reload_ext autoreload\n"
     ]
    }
   ],
   "source": [
    "from src import analysis_utils as utils\n",
    "import matplotlib.pyplot as plt\n",
    "import numpy as np\n",
    "%matplotlib inline \n",
    "%load_ext autoreload\n",
    "%autoreload"
   ]
  },
  {
   "cell_type": "markdown",
   "metadata": {},
   "source": [
    "Experiment 1:\n",
    "\n"
   ]
  },
  {
   "cell_type": "code",
   "execution_count": 49,
   "metadata": {},
   "outputs": [
    {
     "name": "stdout",
     "output_type": "stream",
     "text": [
      "Reached tRNA  2 . Completed counting collisions between tRNA  1  and ribosomes  [48 49 50 51 52 53 54]\n"
     ]
    },
    {
     "data": {
      "text/plain": [
       "<function matplotlib.pyplot.tight_layout>"
      ]
     },
     "execution_count": 49,
     "metadata": {},
     "output_type": "execute_result"
    },
    {
     "data": {
      "image/png": "[encoded data removed]",
      "text/plain": [
       "<matplotlib.figure.Figure at 0x119163400>"
      ]
     },
     "metadata": {},
     "output_type": "display_data"
    }
   ],
   "source": [
    "\n",
    "df = utils.readSimData(\"data/AM4S_expt10_47tRNAEfTuEfTu7ribosomev2.xls\")\n",
    "rib,timeavg=utils.countRibosomeCollisions(df, 1,np.arange(48,55) )\n",
    "\n",
    "fig, ax = plt.subplots(1,2)\n",
    "ax[0].bar([0,1,2,3,4,5,6],rib,color='b')\n",
    "ax[0].set_title(\"# times ribosome \\n sampled a specific tRNA\",y=1.05)\n",
    "plt.tight_layout"
   ]
  },
  {
   "cell_type": "code",
   "execution_count": null,
   "metadata": {},
   "outputs": [],
   "source": []
  },
  {
   "cell_type": "code",
   "execution_count": null,
   "metadata": {},
   "outputs": [],
   "source": []
  }
 ],
 "metadata": {
  "kernelspec": {
   "display_name": "Python [default]",
   "language": "python",
   "name": "python3"
  },
  "language_info": {
   "codemirror_mode": {
    "name": "ipython",
    "version": 3
   },
   "file_extension": ".py",
   "mimetype": "text/x-python",
   "name": "python",
   "nbconvert_exporter": "python",
   "pygments_lexer": "ipython3",
   "version": "3.5.2"
  }
 },
 "nbformat": 4,
 "nbformat_minor": 2
}
