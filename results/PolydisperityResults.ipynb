{
 "cells": [
  {
   "cell_type": "markdown",
   "metadata": {},
   "source": [
    "This notebook evaluates the effects of 1) crowding, 2) polydisperity and 3) closed boundaries on the distribution of collisions between ribosomes and tRNA given the biologically expected ratios of molecules as calculated in 04172018_tRNAModelCalculations.xlsx\n",
    "\n",
    "It demonstrates that polydisperse crowding (as opposed to monodisperse crowding or dilute polydisperity) and closed boundaries are each independently important for creating non-random distributions (at certain time scales)."
   ]
  },
  {
   "cell_type": "code",
   "execution_count": 160,
   "metadata": {},
   "outputs": [
    {
     "name": "stdout",
     "output_type": "stream",
     "text": [
      "The autoreload extension is already loaded. To reload it, use:\n",
      "  %reload_ext autoreload\n"
     ]
    }
   ],
   "source": [
    "from src import analysis_utils as utils\n",
    "import matplotlib.pyplot as plt\n",
    "import numpy as np\n",
    "%matplotlib inline \n",
    "%load_ext autoreload\n",
    "%autoreload"
   ]
  },
  {
   "cell_type": "markdown",
   "metadata": {},
   "source": [
    "<B>What are the effects of crowding on collisions (with minimal polydisperity)?</B>\n",
    "\n",
    "Experiment 5: 47 tRNAEFTu, 7 ribosomes, 0 tRNAsynth, 0 aa, 85nm side (phi=~0.22)"
   ]
  },
  {
   "cell_type": "code",
   "execution_count": 172,
   "metadata": {},
   "outputs": [
    {
     "name": "stdout",
     "output_type": "stream",
     "text": [
      "[[ 5273.  5354.  5221.]\n",
      " [ 5049.  5172.  5093.]\n",
      " [ 4424.  4846.  4834.]\n",
      " [ 4985.  5051.  4581.]\n",
      " [ 4862.  5096.  4880.]\n",
      " [ 4502.  4951.  4845.]\n",
      " [ 5213.  5335.  5218.]]\n",
      "Initial tRNA x ribosome x collisionGapNumber has shape: (7, 3, 0)\n",
      "Currently processing ribosome # 0\n",
      "Currently processing ribosome # 1\n",
      "Currently processing ribosome # 2\n",
      "Currently processing ribosome # 3\n",
      "Currently processing ribosome # 4\n",
      "Currently processing ribosome # 5\n",
      "Currently processing ribosome # 6\n"
     ]
    }
   ],
   "source": [
    "df= utils.readSimData(\"data/expt5_47tRNAEfTu_1ribosome_0tRNASynth_0aa_1000nmSidelength_20180424_smoldyn.xls\")\n",
    "tRNACollisionCount_rt=utils.countRibosomeCollisions(df, np.arange(1,4),np.arange(48,55))\n",
    "incorrectCollisions_rt=utils.countIncorrectRibosomeCollisions(df, np.arange(1,4),np.arange(48,55))"
   ]
  },
  {
   "cell_type": "markdown",
   "metadata": {},
   "source": [
    "Experiment 6: 94 tRNAEFTu, 14 ribosomes, 0 tRNAsynth, 0 aa, 85nm side (phi=~0.44)"
   ]
  },
  {
   "cell_type": "code",
   "execution_count": 246,
   "metadata": {},
   "outputs": [
    {
     "data": {
      "image/png": "[encoded data removed]",
      "text/plain": [
       "<matplotlib.figure.Figure at 0x11e212b38>"
      ]
     },
     "metadata": {},
     "output_type": "display_data"
    }
   ],
   "source": [
    "fig, ax = plt.subplots(1,2)\n",
    "#ax[0].bar([0,1,2,3,4,5,6],rib11)\n",
    "for i in range(3):\n",
    "    ax[0].bar(.1*i+np.arange(0,7),tRNACollisionCount_rt[:,i], width=0.1)\n",
    "\n",
    "ax[0].set_title(\"# times ribosome \\n sampled by a specific tRNA\",y=1.05)\n",
    "ax[0].set_xlabel(\"Ribosome ID #\")\n",
    "ax[0].set_xticklabels([\"0\",\"r0\",\"r1\",\"r2\",\"r3\",\"r4\",\"r5\",\"r6\"])\n",
    "ax[0].set_ylabel(\"# collision events\")\n",
    "\n",
    "ax[1].hist(incorrectCollisions_rt[0],bins=10,range=(1,1000)) #expt 11\n",
    "ax[1].set_title(\"Distribution of incorrect tRNA\\n collisions per correct tRNA\\n collision for given ribosome\")\n",
    "ax[1].set_xlabel(\"# of other tRNA collisions\\n with a given ribosome before\\n specified collision (binned)\")\n",
    "ax[1].set_ylabel(\"# of times\")\n",
    "\n",
    "plt.tight_layout(pad=0.4, w_pad=2, h_pad=1.0)\n"
   ]
  },
  {
   "cell_type": "code",
   "execution_count": null,
   "metadata": {},
   "outputs": [],
   "source": []
  },
  {
   "cell_type": "code",
   "execution_count": null,
   "metadata": {},
   "outputs": [],
   "source": []
  },
  {
   "cell_type": "markdown",
   "metadata": {},
   "source": [
    "<B>What are the effects of closed boundaries on collisions (with minimal polydisperity)?</B>\n",
    "\n",
    "Experiment 5: 47 tRNAEFTu, 7 ribosomes, 0 tRNAsynth, 0 aa, 85nm side (phi=~0.22)"
   ]
  },
  {
   "cell_type": "code",
   "execution_count": 188,
   "metadata": {},
   "outputs": [
    {
     "data": {
      "text/plain": [
       "(7, 3)"
      ]
     },
     "execution_count": 188,
     "metadata": {},
     "output_type": "execute_result"
    }
   ],
   "source": [
    "np.shape(incorrectCollisions_rt)"
   ]
  },
  {
   "cell_type": "code",
   "execution_count": null,
   "metadata": {},
   "outputs": [],
   "source": []
  },
  {
   "cell_type": "code",
   "execution_count": 198,
   "metadata": {},
   "outputs": [
    {
     "data": {
      "text/plain": [
       "array([[ 5273.,  5354.,  5221.],\n",
       "       [ 5049.,  5172.,  5093.],\n",
       "       [ 4424.,  4846.,  4834.],\n",
       "       [ 4985.,  5051.,  4581.],\n",
       "       [ 4862.,  5096.,  4880.],\n",
       "       [ 4502.,  4951.,  4845.],\n",
       "       [ 5213.,  5335.,  5218.]])"
      ]
     },
     "execution_count": 198,
     "metadata": {},
     "output_type": "execute_result"
    }
   ],
   "source": [
    "tRNACollisionCount_rt"
   ]
  },
  {
   "cell_type": "code",
   "execution_count": 196,
   "metadata": {},
   "outputs": [
    {
     "data": {
      "text/plain": [
       "<function matplotlib.pyplot.tight_layout>"
      ]
     },
     "execution_count": 196,
     "metadata": {},
     "output_type": "execute_result"
    },
    {
     "data": {
      "image/png": "[encoded data removed]",
      "text/plain": [
       "<matplotlib.figure.Figure at 0x11a0ec780>"
      ]
     },
     "metadata": {},
     "output_type": "display_data"
    }
   ],
   "source": []
  },
  {
   "cell_type": "code",
   "execution_count": 194,
   "metadata": {},
   "outputs": [
    {
     "data": {
      "text/plain": [
       "<function matplotlib.pyplot.tight_layout>"
      ]
     },
     "execution_count": 194,
     "metadata": {},
     "output_type": "execute_result"
    },
    {
     "data": {
      "image/png": "[encoded data removed]",
      "text/plain": [
       "<matplotlib.figure.Figure at 0x11a474da0>"
      ]
     },
     "metadata": {},
     "output_type": "display_data"
    }
   ],
   "source": [
    "fig, ax = plt.subplots(1,1)\n",
    "#ax[0].bar([0,1,2,3,4,5,6],rib11)\n",
    "for i in range(3):\n",
    "    ax.bar(.1*i+np.arange(0,7),rib11[:,i], width=0.1)\n",
    "\n",
    "ax.set_title(\"# times ribosome \\n sampled by a specific tRNA\",y=1.05)\n",
    "plt.tight_layout"
   ]
  },
  {
   "cell_type": "code",
   "execution_count": null,
   "metadata": {},
   "outputs": [],
   "source": []
  }
 ],
 "metadata": {
  "kernelspec": {
   "display_name": "Python [default]",
   "language": "python",
   "name": "python3"
  },
  "language_info": {
   "codemirror_mode": {
    "name": "ipython",
    "version": 3
   },
   "file_extension": ".py",
   "mimetype": "text/x-python",
   "name": "python",
   "nbconvert_exporter": "python",
   "pygments_lexer": "ipython3",
   "version": "3.5.2"
  }
 },
 "nbformat": 4,
 "nbformat_minor": 2
}
