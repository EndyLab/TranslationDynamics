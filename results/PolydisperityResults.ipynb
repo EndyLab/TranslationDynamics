{
 "cells": [
  {
   "cell_type": "markdown",
   "metadata": {},
   "source": [
    "This notebook evaluates the effects of 1) crowding, 2) polydisperity and 3) closed boundaries on the distribution of collisions between ribosomes and tRNA given the biologically expected ratios of molecules as calculated in 04172018_tRNAModelCalculations.xlsx\n",
    "\n",
    "It demonstrates that polydisperse crowding (as opposed to monodisperse crowding or dilute polydisperity) and closed boundaries are each independently important for creating non-random distributions (at certain time scales)."
   ]
  },
  {
   "cell_type": "code",
   "execution_count": 407,
   "metadata": {},
   "outputs": [
    {
     "name": "stdout",
     "output_type": "stream",
     "text": [
      "The autoreload extension is already loaded. To reload it, use:\n",
      "  %reload_ext autoreload\n"
     ]
    }
   ],
   "source": [
    "from src import analysis_utils as utils\n",
    "import matplotlib.pyplot as plt\n",
    "import numpy as np\n",
    "import pickle as pkl\n",
    "import seaborn as sns; sns.set()\n",
    "%matplotlib inline \n",
    "%load_ext autoreload\n",
    "%autoreload"
   ]
  },
  {
   "cell_type": "markdown",
   "metadata": {},
   "source": [
    "<B>What are the effects of crowding on collisions (with minimal polydisperity)?</B>\n",
    "\n",
    "Experiment 5: 47 tRNAEFTu, 7 ribosomes, 0 tRNAsynth, 0 aa, 85nm side (phi=~0.22)"
   ]
  },
  {
   "cell_type": "code",
   "execution_count": 403,
   "metadata": {},
   "outputs": [
    {
     "ename": "FileNotFoundError",
     "evalue": "File b'data/expt5_47tRNAEfTu_1ribosome_0tRNASynth_0aa_1000nmSidelength_20180424_smoldyn.xls' does not exist",
     "output_type": "error",
     "traceback": [
      "\u001b[0;31m---------------------------------------------------------------------------\u001b[0m",
      "\u001b[0;31mFileNotFoundError\u001b[0m                         Traceback (most recent call last)",
      "\u001b[0;32m<ipython-input-403-c897bb1dfc24>\u001b[0m in \u001b[0;36m<module>\u001b[0;34m()\u001b[0m\n\u001b[0;32m----> 1\u001b[0;31m \u001b[0mdf\u001b[0m\u001b[0;34m=\u001b[0m \u001b[0mutils\u001b[0m\u001b[0;34m.\u001b[0m\u001b[0mreadSimData\u001b[0m\u001b[0;34m(\u001b[0m\u001b[0;34m\"data/expt5_47tRNAEfTu_1ribosome_0tRNASynth_0aa_1000nmSidelength_20180424_smoldyn.xls\"\u001b[0m\u001b[0;34m)\u001b[0m\u001b[0;34m\u001b[0m\u001b[0m\n\u001b[0m\u001b[1;32m      2\u001b[0m \u001b[0mtRNACollisionCount_rt\u001b[0m\u001b[0;34m=\u001b[0m\u001b[0mutils\u001b[0m\u001b[0;34m.\u001b[0m\u001b[0mcountRibosomeCollisions\u001b[0m\u001b[0;34m(\u001b[0m\u001b[0mdf\u001b[0m\u001b[0;34m,\u001b[0m \u001b[0mnp\u001b[0m\u001b[0;34m.\u001b[0m\u001b[0marange\u001b[0m\u001b[0;34m(\u001b[0m\u001b[0;36m1\u001b[0m\u001b[0;34m,\u001b[0m\u001b[0;36m47\u001b[0m\u001b[0;34m)\u001b[0m\u001b[0;34m,\u001b[0m\u001b[0mnp\u001b[0m\u001b[0;34m.\u001b[0m\u001b[0marange\u001b[0m\u001b[0;34m(\u001b[0m\u001b[0;36m48\u001b[0m\u001b[0;34m,\u001b[0m\u001b[0;36m55\u001b[0m\u001b[0;34m)\u001b[0m\u001b[0;34m)\u001b[0m\u001b[0;34m\u001b[0m\u001b[0m\n\u001b[1;32m      3\u001b[0m \u001b[0mincorrectCollisions_rt\u001b[0m\u001b[0;34m=\u001b[0m\u001b[0mutils\u001b[0m\u001b[0;34m.\u001b[0m\u001b[0mcountIncorrectRibosomeCollisions\u001b[0m\u001b[0;34m(\u001b[0m\u001b[0mdf\u001b[0m\u001b[0;34m,\u001b[0m \u001b[0mnp\u001b[0m\u001b[0;34m.\u001b[0m\u001b[0marange\u001b[0m\u001b[0;34m(\u001b[0m\u001b[0;36m1\u001b[0m\u001b[0;34m,\u001b[0m\u001b[0;36m47\u001b[0m\u001b[0;34m)\u001b[0m\u001b[0;34m,\u001b[0m\u001b[0mnp\u001b[0m\u001b[0;34m.\u001b[0m\u001b[0marange\u001b[0m\u001b[0;34m(\u001b[0m\u001b[0;36m48\u001b[0m\u001b[0;34m,\u001b[0m\u001b[0;36m55\u001b[0m\u001b[0;34m)\u001b[0m\u001b[0;34m)\u001b[0m\u001b[0;34m\u001b[0m\u001b[0m\n\u001b[1;32m      4\u001b[0m \u001b[0mpkl\u001b[0m\u001b[0;34m.\u001b[0m\u001b[0mdump\u001b[0m\u001b[0;34m(\u001b[0m\u001b[0;34m[\u001b[0m\u001b[0mtRNACollisionCount_rt\u001b[0m\u001b[0;34m,\u001b[0m\u001b[0mincorrectCollisions_rt\u001b[0m\u001b[0;34m]\u001b[0m\u001b[0;34m,\u001b[0m\u001b[0mopen\u001b[0m\u001b[0;34m(\u001b[0m\u001b[0;34m\"expt5_analysis.p\"\u001b[0m\u001b[0;34m,\u001b[0m\u001b[0;34m\"wb\"\u001b[0m\u001b[0;34m)\u001b[0m\u001b[0;34m)\u001b[0m\u001b[0;34m\u001b[0m\u001b[0m\n",
      "\u001b[0;32m/Users/Akshay/Dropbox/Life/Research/Endy Lab/Research/Simulations/TranslationDynamics/results/src/analysis_utils.py\u001b[0m in \u001b[0;36mreadSimData\u001b[0;34m(path)\u001b[0m\n\u001b[1;32m     25\u001b[0m             \u001b[0mproductB\u001b[0m\u001b[0;34m:\u001b[0m \u001b[0mGives\u001b[0m \u001b[0mthe\u001b[0m \u001b[0mid\u001b[0m \u001b[0mof\u001b[0m \u001b[0mthe\u001b[0m \u001b[0msecond\u001b[0m \u001b[0mproduct\u001b[0m \u001b[0mdefined\u001b[0m \u001b[0;34m(\u001b[0m\u001b[0musually\u001b[0m \u001b[0msame\u001b[0m \u001b[0;32mas\u001b[0m \u001b[0mreactant\u001b[0m \u001b[0mB\u001b[0m\u001b[0;34m)\u001b[0m\u001b[0;34m\u001b[0m\u001b[0m\n\u001b[1;32m     26\u001b[0m     \"\"\"\n\u001b[0;32m---> 27\u001b[0;31m     \u001b[0mdf\u001b[0m \u001b[0;34m=\u001b[0m \u001b[0mpd\u001b[0m\u001b[0;34m.\u001b[0m\u001b[0mread_csv\u001b[0m\u001b[0;34m(\u001b[0m\u001b[0mpath\u001b[0m\u001b[0;34m,\u001b[0m\u001b[0msep\u001b[0m\u001b[0;34m=\u001b[0m\u001b[0;34m\" \"\u001b[0m\u001b[0;34m)\u001b[0m\u001b[0;34m\u001b[0m\u001b[0m\n\u001b[0m\u001b[1;32m     28\u001b[0m     \u001b[0mdf\u001b[0m\u001b[0;34m.\u001b[0m\u001b[0mcolumns\u001b[0m\u001b[0;34m=\u001b[0m\u001b[0;34m[\u001b[0m\u001b[0;34m\"time\"\u001b[0m\u001b[0;34m,\u001b[0m\u001b[0;34m\"rxn\"\u001b[0m\u001b[0;34m,\u001b[0m\u001b[0;34m\"x\"\u001b[0m\u001b[0;34m,\u001b[0m\u001b[0;34m\"y\"\u001b[0m\u001b[0;34m,\u001b[0m\u001b[0;34m\"z\"\u001b[0m\u001b[0;34m,\u001b[0m\u001b[0;34m\"reactantA\"\u001b[0m\u001b[0;34m,\u001b[0m\u001b[0;34m\"reactantB\"\u001b[0m\u001b[0;34m,\u001b[0m\u001b[0;34m\"productA\"\u001b[0m\u001b[0;34m,\u001b[0m\u001b[0;34m\"productB\"\u001b[0m\u001b[0;34m]\u001b[0m\u001b[0;34m\u001b[0m\u001b[0m\n\u001b[1;32m     29\u001b[0m \u001b[0;34m\u001b[0m\u001b[0m\n",
      "\u001b[0;32m/Users/Akshay/anaconda3/lib/python3.5/site-packages/pandas/io/parsers.py\u001b[0m in \u001b[0;36mparser_f\u001b[0;34m(filepath_or_buffer, sep, delimiter, header, names, index_col, usecols, squeeze, prefix, mangle_dupe_cols, dtype, engine, converters, true_values, false_values, skipinitialspace, skiprows, nrows, na_values, keep_default_na, na_filter, verbose, skip_blank_lines, parse_dates, infer_datetime_format, keep_date_col, date_parser, dayfirst, iterator, chunksize, compression, thousands, decimal, lineterminator, quotechar, quoting, escapechar, comment, encoding, dialect, tupleize_cols, error_bad_lines, warn_bad_lines, skipfooter, skip_footer, doublequote, delim_whitespace, as_recarray, compact_ints, use_unsigned, low_memory, buffer_lines, memory_map, float_precision)\u001b[0m\n\u001b[1;32m    644\u001b[0m                     skip_blank_lines=skip_blank_lines)\n\u001b[1;32m    645\u001b[0m \u001b[0;34m\u001b[0m\u001b[0m\n\u001b[0;32m--> 646\u001b[0;31m         \u001b[0;32mreturn\u001b[0m \u001b[0m_read\u001b[0m\u001b[0;34m(\u001b[0m\u001b[0mfilepath_or_buffer\u001b[0m\u001b[0;34m,\u001b[0m \u001b[0mkwds\u001b[0m\u001b[0;34m)\u001b[0m\u001b[0;34m\u001b[0m\u001b[0m\n\u001b[0m\u001b[1;32m    647\u001b[0m \u001b[0;34m\u001b[0m\u001b[0m\n\u001b[1;32m    648\u001b[0m     \u001b[0mparser_f\u001b[0m\u001b[0;34m.\u001b[0m\u001b[0m__name__\u001b[0m \u001b[0;34m=\u001b[0m \u001b[0mname\u001b[0m\u001b[0;34m\u001b[0m\u001b[0m\n",
      "\u001b[0;32m/Users/Akshay/anaconda3/lib/python3.5/site-packages/pandas/io/parsers.py\u001b[0m in \u001b[0;36m_read\u001b[0;34m(filepath_or_buffer, kwds)\u001b[0m\n\u001b[1;32m    387\u001b[0m \u001b[0;34m\u001b[0m\u001b[0m\n\u001b[1;32m    388\u001b[0m     \u001b[0;31m# Create the parser.\u001b[0m\u001b[0;34m\u001b[0m\u001b[0;34m\u001b[0m\u001b[0m\n\u001b[0;32m--> 389\u001b[0;31m     \u001b[0mparser\u001b[0m \u001b[0;34m=\u001b[0m \u001b[0mTextFileReader\u001b[0m\u001b[0;34m(\u001b[0m\u001b[0mfilepath_or_buffer\u001b[0m\u001b[0;34m,\u001b[0m \u001b[0;34m**\u001b[0m\u001b[0mkwds\u001b[0m\u001b[0;34m)\u001b[0m\u001b[0;34m\u001b[0m\u001b[0m\n\u001b[0m\u001b[1;32m    390\u001b[0m \u001b[0;34m\u001b[0m\u001b[0m\n\u001b[1;32m    391\u001b[0m     \u001b[0;32mif\u001b[0m \u001b[0;34m(\u001b[0m\u001b[0mnrows\u001b[0m \u001b[0;32mis\u001b[0m \u001b[0;32mnot\u001b[0m \u001b[0;32mNone\u001b[0m\u001b[0;34m)\u001b[0m \u001b[0;32mand\u001b[0m \u001b[0;34m(\u001b[0m\u001b[0mchunksize\u001b[0m \u001b[0;32mis\u001b[0m \u001b[0;32mnot\u001b[0m \u001b[0;32mNone\u001b[0m\u001b[0;34m)\u001b[0m\u001b[0;34m:\u001b[0m\u001b[0;34m\u001b[0m\u001b[0m\n",
      "\u001b[0;32m/Users/Akshay/anaconda3/lib/python3.5/site-packages/pandas/io/parsers.py\u001b[0m in \u001b[0;36m__init__\u001b[0;34m(self, f, engine, **kwds)\u001b[0m\n\u001b[1;32m    728\u001b[0m             \u001b[0mself\u001b[0m\u001b[0;34m.\u001b[0m\u001b[0moptions\u001b[0m\u001b[0;34m[\u001b[0m\u001b[0;34m'has_index_names'\u001b[0m\u001b[0;34m]\u001b[0m \u001b[0;34m=\u001b[0m \u001b[0mkwds\u001b[0m\u001b[0;34m[\u001b[0m\u001b[0;34m'has_index_names'\u001b[0m\u001b[0;34m]\u001b[0m\u001b[0;34m\u001b[0m\u001b[0m\n\u001b[1;32m    729\u001b[0m \u001b[0;34m\u001b[0m\u001b[0m\n\u001b[0;32m--> 730\u001b[0;31m         \u001b[0mself\u001b[0m\u001b[0;34m.\u001b[0m\u001b[0m_make_engine\u001b[0m\u001b[0;34m(\u001b[0m\u001b[0mself\u001b[0m\u001b[0;34m.\u001b[0m\u001b[0mengine\u001b[0m\u001b[0;34m)\u001b[0m\u001b[0;34m\u001b[0m\u001b[0m\n\u001b[0m\u001b[1;32m    731\u001b[0m \u001b[0;34m\u001b[0m\u001b[0m\n\u001b[1;32m    732\u001b[0m     \u001b[0;32mdef\u001b[0m \u001b[0mclose\u001b[0m\u001b[0;34m(\u001b[0m\u001b[0mself\u001b[0m\u001b[0;34m)\u001b[0m\u001b[0;34m:\u001b[0m\u001b[0;34m\u001b[0m\u001b[0m\n",
      "\u001b[0;32m/Users/Akshay/anaconda3/lib/python3.5/site-packages/pandas/io/parsers.py\u001b[0m in \u001b[0;36m_make_engine\u001b[0;34m(self, engine)\u001b[0m\n\u001b[1;32m    921\u001b[0m     \u001b[0;32mdef\u001b[0m \u001b[0m_make_engine\u001b[0m\u001b[0;34m(\u001b[0m\u001b[0mself\u001b[0m\u001b[0;34m,\u001b[0m \u001b[0mengine\u001b[0m\u001b[0;34m=\u001b[0m\u001b[0;34m'c'\u001b[0m\u001b[0;34m)\u001b[0m\u001b[0;34m:\u001b[0m\u001b[0;34m\u001b[0m\u001b[0m\n\u001b[1;32m    922\u001b[0m         \u001b[0;32mif\u001b[0m \u001b[0mengine\u001b[0m \u001b[0;34m==\u001b[0m \u001b[0;34m'c'\u001b[0m\u001b[0;34m:\u001b[0m\u001b[0;34m\u001b[0m\u001b[0m\n\u001b[0;32m--> 923\u001b[0;31m             \u001b[0mself\u001b[0m\u001b[0;34m.\u001b[0m\u001b[0m_engine\u001b[0m \u001b[0;34m=\u001b[0m \u001b[0mCParserWrapper\u001b[0m\u001b[0;34m(\u001b[0m\u001b[0mself\u001b[0m\u001b[0;34m.\u001b[0m\u001b[0mf\u001b[0m\u001b[0;34m,\u001b[0m \u001b[0;34m**\u001b[0m\u001b[0mself\u001b[0m\u001b[0;34m.\u001b[0m\u001b[0moptions\u001b[0m\u001b[0;34m)\u001b[0m\u001b[0;34m\u001b[0m\u001b[0m\n\u001b[0m\u001b[1;32m    924\u001b[0m         \u001b[0;32melse\u001b[0m\u001b[0;34m:\u001b[0m\u001b[0;34m\u001b[0m\u001b[0m\n\u001b[1;32m    925\u001b[0m             \u001b[0;32mif\u001b[0m \u001b[0mengine\u001b[0m \u001b[0;34m==\u001b[0m \u001b[0;34m'python'\u001b[0m\u001b[0;34m:\u001b[0m\u001b[0;34m\u001b[0m\u001b[0m\n",
      "\u001b[0;32m/Users/Akshay/anaconda3/lib/python3.5/site-packages/pandas/io/parsers.py\u001b[0m in \u001b[0;36m__init__\u001b[0;34m(self, src, **kwds)\u001b[0m\n\u001b[1;32m   1388\u001b[0m         \u001b[0mkwds\u001b[0m\u001b[0;34m[\u001b[0m\u001b[0;34m'allow_leading_cols'\u001b[0m\u001b[0;34m]\u001b[0m \u001b[0;34m=\u001b[0m \u001b[0mself\u001b[0m\u001b[0;34m.\u001b[0m\u001b[0mindex_col\u001b[0m \u001b[0;32mis\u001b[0m \u001b[0;32mnot\u001b[0m \u001b[0;32mFalse\u001b[0m\u001b[0;34m\u001b[0m\u001b[0m\n\u001b[1;32m   1389\u001b[0m \u001b[0;34m\u001b[0m\u001b[0m\n\u001b[0;32m-> 1390\u001b[0;31m         \u001b[0mself\u001b[0m\u001b[0;34m.\u001b[0m\u001b[0m_reader\u001b[0m \u001b[0;34m=\u001b[0m \u001b[0m_parser\u001b[0m\u001b[0;34m.\u001b[0m\u001b[0mTextReader\u001b[0m\u001b[0;34m(\u001b[0m\u001b[0msrc\u001b[0m\u001b[0;34m,\u001b[0m \u001b[0;34m**\u001b[0m\u001b[0mkwds\u001b[0m\u001b[0;34m)\u001b[0m\u001b[0;34m\u001b[0m\u001b[0m\n\u001b[0m\u001b[1;32m   1391\u001b[0m \u001b[0;34m\u001b[0m\u001b[0m\n\u001b[1;32m   1392\u001b[0m         \u001b[0;31m# XXX\u001b[0m\u001b[0;34m\u001b[0m\u001b[0;34m\u001b[0m\u001b[0m\n",
      "\u001b[0;32mpandas/parser.pyx\u001b[0m in \u001b[0;36mpandas.parser.TextReader.__cinit__ (pandas/parser.c:4184)\u001b[0;34m()\u001b[0m\n",
      "\u001b[0;32mpandas/parser.pyx\u001b[0m in \u001b[0;36mpandas.parser.TextReader._setup_parser_source (pandas/parser.c:8449)\u001b[0;34m()\u001b[0m\n",
      "\u001b[0;31mFileNotFoundError\u001b[0m: File b'data/expt5_47tRNAEfTu_1ribosome_0tRNASynth_0aa_1000nmSidelength_20180424_smoldyn.xls' does not exist"
     ]
    }
   ],
   "source": [
    "df= utils.readSimData(\"data/expt5_47tRNAEfTu_1ribosome_0tRNASynth_0aa_1000nmSidelength_20180424.xls\")\n",
    "tRNACollisionCount_rt=utils.countRibosomeCollisions(df, np.arange(1,47),np.arange(48,55))\n",
    "incorrectCollisions_rt=utils.countIncorrectRibosomeCollisions(df, np.arange(1,47),np.arange(48,55))\n",
    "pkl.dump([tRNACollisionCount_rt,incorrectCollisions_rt],open(\"expt5_analysis.p\",\"wb\"))"
   ]
  },
  {
   "cell_type": "code",
   "execution_count": 408,
   "metadata": {},
   "outputs": [
    {
     "name": "stdout",
     "output_type": "stream",
     "text": [
      "[[ 5273.  5354.  5221.  4938.  5049.  4870.  5142.  5046.  5371.  5121.\n",
      "   4775.  4911.  5067.  4902.  5072.  5067.  5172.  4682.  5045.  4925.\n",
      "   4741.  5282.  4877.  4916.  5012.  5365.  4653.  5000.  5379.  5334.\n",
      "   4908.  4999.  4795.  4988.  4766.  4996.  5245.  5004.  4892.  4912.\n",
      "   4961.  5136.  5026.  5055.  5140.  5032.  5146.]\n",
      " [ 5049.  5172.  5093.  5088.  5002.  5081.  4625.  4891.  5025.  5068.\n",
      "   4846.  5245.  5176.  4924.  4724.  5071.  5140.  5012.  5057.  5211.\n",
      "   4926.  5045.  5301.  5283.  4953.  4806.  5101.  5318.  5156.  4979.\n",
      "   5490.  5220.  4931.  4838.  4983.  5317.  5226.  5194.  4962.  4683.\n",
      "   4954.  5258.  5016.  4892.  5578.  5193.  4996.]\n",
      " [ 4424.  4846.  4834.  4950.  4829.  4823.  5097.  4671.  4668.  4251.\n",
      "   4899.  4875.  4694.  4838.  4914.  4938.  4936.  5007.  5019.  4751.\n",
      "   5131.  4935.  5172.  5125.  4641.  4613.  4543.  4942.  4842.  4584.\n",
      "   5120.  5417.  4835.  4613.  4985.  5208.  4578.  4955.  4427.  4778.\n",
      "   4901.  4662.  4721.  5012.  4777.  4796.  4850.]\n",
      " [ 4985.  5051.  4581.  4808.  4787.  5328.  4735.  5092.  4828.  4989.\n",
      "   5088.  5162.  4788.  4524.  5044.  5099.  4843.  4925.  4925.  4624.\n",
      "   4678.  4679.  4603.  5104.  4362.  5032.  5131.  4888.  4913.  4920.\n",
      "   4639.  5109.  4486.  5049.  4755.  4390.  4798.  5252.  4774.  5062.\n",
      "   4662.  5198.  5301.  4999.  4541.  4912.  5011.]\n",
      " [ 4862.  5096.  4880.  4904.  5134.  4787.  4365.  4593.  5037.  5149.\n",
      "   5257.  4437.  4393.  5243.  4538.  4990.  4675.  4907.  5117.  4934.\n",
      "   4703.  4758.  4535.  5130.  4759.  4829.  4881.  4946.  4471.  4608.\n",
      "   4808.  4819.  4773.  4615.  4644.  4787.  5071.  4736.  4735.  4552.\n",
      "   4372.  4293.  4665.  4196.  4949.  4304.  4969.]\n",
      " [ 4502.  4951.  4845.  4685.  4860.  4659.  4370.  4993.  4953.  4629.\n",
      "   4529.  4471.  4598.  4979.  4898.  4824.  4910.  4387.  4812.  4892.\n",
      "   4807.  4492.  5296.  5028.  4799.  4992.  4722.  4617.  4918.  4996.\n",
      "   4832.  5070.  5162.  4483.  4520.  4677.  4641.  5185.  4795.  4926.\n",
      "   4744.  4861.  5097.  4711.  5122.  4724.  4462.]\n",
      " [ 5213.  5335.  5218.  5280.  5519.  5293.  5032.  4937.  4815.  5233.\n",
      "   4937.  5316.  4783.  4921.  4842.  4856.  4842.  4676.  5052.  5031.\n",
      "   4954.  4740.  4815.  4672.  5306.  5061.  5320.  4998.  5274.  4942.\n",
      "   5071.  4989.  4948.  4898.  4909.  4837.  5249.  5042.  5418.  4951.\n",
      "   5038.  5113.  4973.  4777.  5296.  5433.  4828.]]\n",
      "Initial tRNA x ribosome x collisionGapNumber has shape: (7, 47, 0)\n",
      "Currently processing ribosome # 0\n",
      "Currently processing ribosome # 1\n",
      "Currently processing ribosome # 2\n",
      "Currently processing ribosome # 3\n",
      "Currently processing ribosome # 4\n",
      "Currently processing ribosome # 5\n",
      "Currently processing ribosome # 6\n"
     ]
    },
    {
     "ename": "NameError",
     "evalue": "name 'pickle' is not defined",
     "output_type": "error",
     "traceback": [
      "\u001b[0;31m---------------------------------------------------------------------------\u001b[0m",
      "\u001b[0;31mNameError\u001b[0m                                 Traceback (most recent call last)",
      "\u001b[0;32m<ipython-input-408-21c71cef8106>\u001b[0m in \u001b[0;36m<module>\u001b[0;34m()\u001b[0m\n\u001b[0;32m----> 1\u001b[0;31m \u001b[0mutils\u001b[0m\u001b[0;34m.\u001b[0m\u001b[0manalyze\u001b[0m\u001b[0;34m(\u001b[0m\u001b[0;34m\"data/expt5_47tRNAEfTu_1ribosome_0tRNASynth_0aa_1000nmSidelength_20180424.xls\"\u001b[0m\u001b[0;34m)\u001b[0m\u001b[0;34m\u001b[0m\u001b[0m\n\u001b[0m\u001b[1;32m      2\u001b[0m \u001b[0mp\u001b[0m\u001b[0;34m=\u001b[0m\u001b[0mpkl\u001b[0m\u001b[0;34m.\u001b[0m\u001b[0mload\u001b[0m\u001b[0;34m(\u001b[0m\u001b[0;34m\"data/expt5_47tRNAEfTu_1ribosome_0tRNASynth_0aa_1000nmSidelength_20180424.xls.p\"\u001b[0m\u001b[0;34m)\u001b[0m\u001b[0;34m\u001b[0m\u001b[0m\n",
      "\u001b[0;32m/Users/Akshay/Dropbox/Life/Research/Endy Lab/Research/Simulations/TranslationDynamics/results/src/analysis_utils.py\u001b[0m in \u001b[0;36manalyze\u001b[0;34m(path, countRibosomeCollisionsMethod, countIncorrectRibosomeCollisionsMethod, tRNA_range, rib_range)\u001b[0m\n\u001b[1;32m    174\u001b[0m     \u001b[0mtRNACollisionCount_rt\u001b[0m\u001b[0;34m=\u001b[0m\u001b[0mcountRibosomeCollisions\u001b[0m\u001b[0;34m(\u001b[0m\u001b[0mdf\u001b[0m\u001b[0;34m,\u001b[0m \u001b[0mtRNA_range_arr\u001b[0m\u001b[0;34m,\u001b[0m\u001b[0mrib_range_arr\u001b[0m\u001b[0;34m)\u001b[0m\u001b[0;34m\u001b[0m\u001b[0m\n\u001b[1;32m    175\u001b[0m     \u001b[0mincorrectCollisions_rt\u001b[0m\u001b[0;34m=\u001b[0m\u001b[0mcountIncorrectRibosomeCollisions\u001b[0m\u001b[0;34m(\u001b[0m\u001b[0mdf\u001b[0m\u001b[0;34m,\u001b[0m \u001b[0mtRNA_range_arr\u001b[0m\u001b[0;34m,\u001b[0m\u001b[0mrib_range_arr\u001b[0m\u001b[0;34m)\u001b[0m\u001b[0;34m\u001b[0m\u001b[0m\n\u001b[0;32m--> 176\u001b[0;31m     \u001b[0mpickle\u001b[0m\u001b[0;34m.\u001b[0m\u001b[0mdump\u001b[0m\u001b[0;34m(\u001b[0m\u001b[0;34m[\u001b[0m\u001b[0mtRNACollisionCount_rt\u001b[0m\u001b[0;34m,\u001b[0m\u001b[0mincorrectCollisions_rt\u001b[0m\u001b[0;34m]\u001b[0m\u001b[0;34m,\u001b[0m\u001b[0mopen\u001b[0m\u001b[0;34m(\u001b[0m\u001b[0mpath\u001b[0m\u001b[0;34m+\u001b[0m\u001b[0;34m\".p\"\u001b[0m\u001b[0;34m,\u001b[0m\u001b[0;34m\"wb\"\u001b[0m\u001b[0;34m)\u001b[0m\u001b[0;34m)\u001b[0m\u001b[0;34m\u001b[0m\u001b[0m\n\u001b[0m\u001b[1;32m    177\u001b[0m \u001b[0;34m\u001b[0m\u001b[0m\n\u001b[1;32m    178\u001b[0m \u001b[0;31m#how do the 2 most \"different\" tRNAs (across histogram for all 3 ribosomes) -- create a calculation\u001b[0m\u001b[0;34m\u001b[0m\u001b[0;34m\u001b[0m\u001b[0m\n",
      "\u001b[0;31mNameError\u001b[0m: name 'pickle' is not defined"
     ]
    }
   ],
   "source": [
    "utils.analyze(\"data/expt5_47tRNAEfTu_1ribosome_0tRNASynth_0aa_1000nmSidelength_20180424.xls\")\n",
    "p=pkl.load(\"data/expt5_47tRNAEfTu_1ribosome_0tRNASynth_0aa_1000nmSidelength_20180424.xls.p\")"
   ]
  },
  {
   "cell_type": "code",
   "execution_count": 368,
   "metadata": {},
   "outputs": [
    {
     "data": {
      "text/plain": [
       "<matplotlib.legend.Legend at 0x12691b630>"
      ]
     },
     "execution_count": 368,
     "metadata": {},
     "output_type": "execute_result"
    },
    {
     "data": {
      "image/png": "[encoded data removed]",
      "text/plain": [
       "<matplotlib.figure.Figure at 0x12a094748>"
      ]
     },
     "metadata": {},
     "output_type": "display_data"
    }
   ],
   "source": [
    "fig, ax = plt.subplots(2,1)\n",
    "\n",
    "for i in range(3):\n",
    "    ax[0].bar(.1*i+np.arange(0,7),tRNACollisionCount_rt[:,i], width=0.1, label=\"tRNA \"+str(i))\n",
    "\n",
    "ax[0].set_title(\"# times ribosome sampled by a given tRNA\")\n",
    "ax[0].set_xlabel(\"Ribosome ID #\")\n",
    "ax[0].set_xticklabels([\"0\",\"r0\",\"r1\",\"r2\",\"r3\",\"r4\",\"r5\",\"r6\"])\n",
    "ax[0].set_ylabel(\"# collision events\")\n",
    "\n",
    "ax[1].hist(incorrectCollisions_rt[0],bins=10,range=(1,1000)) #expt 11\n",
    "ax[1].set_title(\"Distribution of incorrect tRNA collisions per correct tRNA\\n collision for given ribosome\")\n",
    "ax[1].set_xlabel(\"# of other tRNA collisions\\n with a given ribosome before\\n specified collision (binned)\")\n",
    "ax[1].set_ylabel(\"# of times\")\n",
    "\n",
    "plt.tight_layout(pad=0.1, w_pad=2, h_pad=1)\n",
    "\n",
    "ax[0].legend(loc=(1.04,-0.8))"
   ]
  },
  {
   "cell_type": "code",
   "execution_count": null,
   "metadata": {},
   "outputs": [],
   "source": [
    "#ax1= sns.heatmap(tRNACollisionCount_rt)\n",
    "#ax1.set_xlabel(\"Ribosome ID\")\n",
    "#ax1.set_ylabel(\"tRNA ID\")"
   ]
  },
  {
   "cell_type": "markdown",
   "metadata": {},
   "source": [
    "<B>Experiment 6</B>: 94 tRNAEFTu, 14 ribosomes, 0 tRNAsynth, 0 aa, 85nm side (phi=~0.44)"
   ]
  },
  {
   "cell_type": "code",
   "execution_count": null,
   "metadata": {},
   "outputs": [],
   "source": [
    "utils.analyze(\"data/expt6_47tRNAEfTu_1ribosome_0tRNASynth_0aa_1000nmSidelength_20180424.xls\")\n",
    "p=pkl.load(\"data/expt6_47tRNAEfTu_1ribosome_0tRNASynth_0aa_1000nmSidelength_20180424.xls.p\")"
   ]
  },
  {
   "cell_type": "markdown",
   "metadata": {},
   "source": [
    "<B>What are the effects of closed boundaries on collisions (with minimal polydisperity)?</B>\n",
    "\n",
    "Experiment 5: 47 tRNAEFTu, 7 ribosomes, 0 tRNAsynth, 0 aa, 85nm side (phi=~0.22)"
   ]
  },
  {
   "cell_type": "code",
   "execution_count": 320,
   "metadata": {},
   "outputs": [
    {
     "data": {
      "text/plain": [
       "<matplotlib.image.AxesImage at 0x13493c860>"
      ]
     },
     "execution_count": 320,
     "metadata": {},
     "output_type": "execute_result"
    },
    {
     "data": {
      "image/png": "[encoded data removed]",
      "text/plain": [
       "<matplotlib.figure.Figure at 0x11dd15128>"
      ]
     },
     "metadata": {},
     "output_type": "display_data"
    }
   ],
   "source": []
  },
  {
   "cell_type": "code",
   "execution_count": null,
   "metadata": {},
   "outputs": [],
   "source": []
  },
  {
   "cell_type": "code",
   "execution_count": 198,
   "metadata": {},
   "outputs": [
    {
     "data": {
      "text/plain": [
       "array([[ 5273.,  5354.,  5221.],\n",
       "       [ 5049.,  5172.,  5093.],\n",
       "       [ 4424.,  4846.,  4834.],\n",
       "       [ 4985.,  5051.,  4581.],\n",
       "       [ 4862.,  5096.,  4880.],\n",
       "       [ 4502.,  4951.,  4845.],\n",
       "       [ 5213.,  5335.,  5218.]])"
      ]
     },
     "execution_count": 198,
     "metadata": {},
     "output_type": "execute_result"
    }
   ],
   "source": [
    "tRNACollisionCount_rt"
   ]
  },
  {
   "cell_type": "code",
   "execution_count": 196,
   "metadata": {},
   "outputs": [
    {
     "data": {
      "text/plain": [
       "<function matplotlib.pyplot.tight_layout>"
      ]
     },
     "execution_count": 196,
     "metadata": {},
     "output_type": "execute_result"
    },
    {
     "data": {
      "image/png": "[encoded data removed]",
      "text/plain": [
       "<matplotlib.figure.Figure at 0x11a0ec780>"
      ]
     },
     "metadata": {},
     "output_type": "display_data"
    }
   ],
   "source": []
  },
  {
   "cell_type": "code",
   "execution_count": 194,
   "metadata": {},
   "outputs": [
    {
     "data": {
      "text/plain": [
       "<function matplotlib.pyplot.tight_layout>"
      ]
     },
     "execution_count": 194,
     "metadata": {},
     "output_type": "execute_result"
    },
    {
     "data": {
      "image/png": "[encoded data removed]",
      "text/plain": [
       "<matplotlib.figure.Figure at 0x11a474da0>"
      ]
     },
     "metadata": {},
     "output_type": "display_data"
    }
   ],
   "source": [
    "fig, ax = plt.subplots(1,1)\n",
    "#ax[0].bar([0,1,2,3,4,5,6],rib11)\n",
    "for i in range(3):\n",
    "    ax.bar(.1*i+np.arange(0,7),rib11[:,i], width=0.1)\n",
    "\n",
    "ax.set_title(\"# times ribosome \\n sampled by a specific tRNA\",y=1.05)\n",
    "plt.tight_layout"
   ]
  },
  {
   "cell_type": "code",
   "execution_count": 251,
   "metadata": {},
   "outputs": [],
   "source": [
    "pickle.dump([tRNACollisionCount_rt,incorrectCollisions_rt],open(\"expt5_analysis.p\",\"wb\"))"
   ]
  },
  {
   "cell_type": "code",
   "execution_count": 384,
   "metadata": {},
   "outputs": [
    {
     "data": {
      "text/plain": [
       "array([48, 49, 50, 51, 52, 53, 54])"
      ]
     },
     "execution_count": 384,
     "metadata": {},
     "output_type": "execute_result"
    }
   ],
   "source": []
  },
  {
   "cell_type": "code",
   "execution_count": 379,
   "metadata": {},
   "outputs": [
    {
     "data": {
      "text/plain": [
       "48"
      ]
     },
     "execution_count": 379,
     "metadata": {},
     "output_type": "execute_result"
    }
   ],
   "source": []
  },
  {
   "cell_type": "code",
   "execution_count": null,
   "metadata": {},
   "outputs": [],
   "source": []
  }
 ],
 "metadata": {
  "kernelspec": {
   "display_name": "Python [default]",
   "language": "python",
   "name": "python3"
  },
  "language_info": {
   "codemirror_mode": {
    "name": "ipython",
    "version": 3
   },
   "file_extension": ".py",
   "mimetype": "text/x-python",
   "name": "python",
   "nbconvert_exporter": "python",
   "pygments_lexer": "ipython3",
   "version": "3.5.2"
  }
 },
 "nbformat": 4,
 "nbformat_minor": 2
}
