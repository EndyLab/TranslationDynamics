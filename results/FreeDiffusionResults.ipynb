{
 "cells": [
  {
   "cell_type": "markdown",
   "metadata": {},
   "source": [
    "This notebook tests the tRNA arrival times that Fluitt et. al 2007 model that computes estimate. Here we assume that each tRNA has an arrival time that is independent of all other molecuels (i.e., no effects of crowding)."
   ]
  },
  {
   "cell_type": "code",
   "execution_count": 27,
   "metadata": {},
   "outputs": [
    {
     "name": "stdout",
     "output_type": "stream",
     "text": [
      "The autoreload extension is already loaded. To reload it, use:\n",
      "  %reload_ext autoreload\n"
     ]
    }
   ],
   "source": [
    "from src import analysis_utils as utils\n",
    "import matplotlib.pyplot as plt\n",
    "import numpy as np\n",
    "%matplotlib inline \n",
    "%load_ext autoreload\n",
    "%autoreload"
   ]
  },
  {
   "cell_type": "markdown",
   "metadata": {},
   "source": [
    "Experiment 1:"
   ]
  },
  {
   "cell_type": "code",
   "execution_count": 29,
   "metadata": {},
   "outputs": [
    {
     "name": "stdout",
     "output_type": "stream",
     "text": [
      "        time   rxn         x         y         z  reactantA  reactantB  \\\n",
      "3   0.020738  rxn2  0.107825  0.342034  0.360648          5        944   \n",
      "8   0.044410  rxn2  0.111969  0.426183  0.321056          7        944   \n",
      "0   0.004156  rxn2  0.105339  0.389095  0.373546         31        944   \n",
      "19  0.097838  rxn2  0.236762  0.455260  0.375622         35        944   \n",
      "4   0.023343  rxn2  0.090169  0.351653  0.347108         57        944   \n",
      "1   0.005152  rxn2  0.104372  0.382225  0.368647         97        944   \n",
      "13  0.064279  rxn2  0.125495  0.476096  0.408433        211        944   \n",
      "10  0.045965  rxn2  0.100388  0.432685  0.342003        263        944   \n",
      "18  0.092113  rxn2  0.211868  0.481179  0.385255        357        944   \n",
      "2   0.018620  rxn2  0.117376  0.335364  0.353077        390        944   \n",
      "12  0.057454  rxn2  0.096324  0.488994  0.384551        402        944   \n",
      "16  0.073708  rxn2  0.141732  0.463280  0.397179        441        944   \n",
      "14  0.070369  rxn2  0.120358  0.469974  0.387009        481        944   \n",
      "11  0.049601  rxn2  0.092179  0.448736  0.380611        500        944   \n",
      "17  0.080617  rxn2  0.170168  0.500233  0.375767        532        944   \n",
      "7   0.044131  rxn2  0.114495  0.417130  0.317844        560        944   \n",
      "6   0.030895  rxn2  0.065170  0.392821  0.362440        722        944   \n",
      "5   0.028465  rxn2  0.073894  0.384899  0.360087        779        944   \n",
      "15  0.071376  rxn2  0.127645  0.470140  0.398865        805        944   \n",
      "9   0.044805  rxn2  0.105089  0.427552  0.332518        895        944   \n",
      "\n",
      "    productA  productB  \n",
      "3          5       944  \n",
      "8          7       944  \n",
      "0         31       944  \n",
      "19        35       944  \n",
      "4         57       944  \n",
      "1         97       944  \n",
      "13       211       944  \n",
      "10       263       944  \n",
      "18       357       944  \n",
      "2        390       944  \n",
      "12       402       944  \n",
      "16       441       944  \n",
      "14       481       944  \n",
      "11       500       944  \n",
      "17       532       944  \n",
      "7        560       944  \n",
      "6        722       944  \n",
      "5        779       944  \n",
      "15       805       944  \n",
      "9        895       944  \n",
      "test 944\n",
      "Reached tRNA  7 . Completed counting collisions between tRNA  5  and ribosomes  [944]\n"
     ]
    },
    {
     "data": {
      "text/plain": [
       "<function matplotlib.pyplot.tight_layout>"
      ]
     },
     "execution_count": 29,
     "metadata": {},
     "output_type": "execute_result"
    },
    {
     "data": {
      "image/png": "[encoded data removed]",
      "text/plain": [
       "<matplotlib.figure.Figure at 0x11c5e80f0>"
      ]
     },
     "metadata": {},
     "output_type": "display_data"
    }
   ],
   "source": [
    "df = utils.readSimData(\"data/expt1_943tRNAEfTu_1ribosome_0tRNASynth_0aa_1000nmSidelength_20180424_smoldyn.xls\")\n",
    "rib,timeavg=utils.countRibosomeCollisions(df, 5,np.array([944]) )\n",
    "\n",
    "fig, ax = plt.subplots(1,2)\n",
    "ax[0].bar([0],rib,color='b')\n",
    "ax[0].set_title(\"# times ribosome \\n sampled a specific tRNA\",y=1.05)\n",
    "plt.tight_layout"
   ]
  },
  {
   "cell_type": "code",
   "execution_count": null,
   "metadata": {},
   "outputs": [],
   "source": []
  },
  {
   "cell_type": "code",
   "execution_count": null,
   "metadata": {},
   "outputs": [],
   "source": []
  }
 ],
 "metadata": {
  "kernelspec": {
   "display_name": "Python [default]",
   "language": "python",
   "name": "python3"
  },
  "language_info": {
   "codemirror_mode": {
    "name": "ipython",
    "version": 3
   },
   "file_extension": ".py",
   "mimetype": "text/x-python",
   "name": "python",
   "nbconvert_exporter": "python",
   "pygments_lexer": "ipython3",
   "version": "3.5.2"
  }
 },
 "nbformat": 4,
 "nbformat_minor": 2
}
