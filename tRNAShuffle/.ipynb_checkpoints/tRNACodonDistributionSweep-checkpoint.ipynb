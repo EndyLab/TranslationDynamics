{
 "cells": [
  {
   "cell_type": "code",
   "execution_count": 7,
   "metadata": {},
   "outputs": [
    {
     "name": "stdout",
     "output_type": "stream",
     "text": [
      "The autoreload extension is already loaded. To reload it, use:\n",
      "  %reload_ext autoreload\n"
     ]
    }
   ],
   "source": [
    "from analysis_utils import *\n",
    "import numpy as np\n",
    "%load_ext autoreload\n",
    "import pandas as pd\n",
    "ptRNA = pd.read_excel('sweep/tRNAValues-dumb.xlsx',header=None)\n",
    "gr04_ptRNA=ptRNA[0]\n",
    "gr07_ptRNA=ptRNA[1]\n",
    "gr107_ptRNA=ptRNA[2]\n",
    "gr16_ptRNA=ptRNA[3]\n",
    "gr25_ptRNA=ptRNA[4]\n",
    "\n",
    "pCodon = pd.read_excel('sweep/codonValues-dumb.xlsx',header=None)\n",
    "gr04_pCodon = pCodon[0]\n",
    "gr07_pCodon = pCodon[1]\n",
    "gr107_pCodon = pCodon[2]\n",
    "gr16_pCodon = pCodon[3]\n",
    "gr25_pCodon = pCodon[4]"
   ]
  },
  {
   "cell_type": "code",
   "execution_count": null,
   "metadata": {},
   "outputs": [
    {
     "name": "stdout",
     "output_type": "stream",
     "text": [
      "The autoreload extension is already loaded. To reload it, use:\n",
      "  %reload_ext autoreload\n",
      "Starting scaling =  200\n",
      "Computing...\n"
     ]
    }
   ],
   "source": [
    "#Growth rate = 0.6\n",
    "from analysis_utils import *\n",
    "%load_ext autoreload\n",
    "%autoreload\n",
    "path = \"/Users/Akshay/Documents/TranslationDynamics/data/\"\n",
    "\n",
    "\n",
    "ribs=[4,8,9,9,8,7]\n",
    "#These scaling factors scale all kinetic parametesr; 200 = normal simulation; 67 = 3x faster; 50x = 4x faster\n",
    "scalingFactorList = [200]\n",
    "rxndiff_list = list()\n",
    "\n",
    "\n",
    "for _, scalingFactor in enumerate(scalingFactorList):\n",
    "    print('Starting scaling = ', scalingFactor)\n",
    "    NR_scaledrates = {'k1r':718*200/scalingFactor,'k2f':1475*200/scalingFactor,'k2r_nr':1120*200/scalingFactor,'k3_nr':6*200/scalingFactor,'k4':209*200/scalingFactor}\n",
    "\n",
    "    rxndiff=dict()\n",
    "\n",
    "    gr_sim = dict()\n",
    "\n",
    "    data = \"191003_2140/\"\n",
    "    for i in range(1,7):\n",
    "        sim_i = computeTransportRxnTimes(path+data, 1e15, 1e15, 100*(i-1),100*(i-1)+100,cogtRNANum=i, ribosomeNum = 4,scaling=scalingFactor, NR_scaling = NR_scaledrates)\n",
    "        gr_sim[i] = (CellLatencies(sim_i))\n",
    "\n",
    "    data = \"191105_1738/\"\n",
    "    for i in range(7,16):\n",
    "        sim_i = computeTransportRxnTimes(path+data, 1e15, 1e15, 100*(i-1-6),100*(i-1-6)+100,cogtRNANum=i, ribosomeNum = 4,scaling=scalingFactor,NR_scaling = NR_scaledrates)\n",
    "        gr_sim[i] = (CellLatencies(sim_i))\n",
    "\n",
    "    data = \"191105_1817/\"\n",
    "    for i in range(16,25):\n",
    "        sim_i = computeTransportRxnTimes(path+data, 1e15, 1e15, 100*(i-1-15),100*(i-1-15)+100,cogtRNANum=i, ribosomeNum = 4,scaling=scalingFactor,NR_scaling = NR_scaledrates)\n",
    "        gr_sim[i] = (CellLatencies(sim_i))\n",
    "\n",
    "    data = \"191105_1934/\"\n",
    "    for i in range(25,34):\n",
    "        sim_i = computeTransportRxnTimes(path+data, 1e15, 1e15, 100*(i-1-24),100*(i-1-24)+100,cogtRNANum=i, ribosomeNum = 4,scaling=scalingFactor,NR_scaling = NR_scaledrates)\n",
    "        gr_sim[i] = (CellLatencies(sim_i))\n",
    "\n",
    "    gr_dict = {'gr_1':gr_sim}\n",
    "\n",
    "    transportRxnResults = transportRxnCalc(gr_dict,gr07_ptRNA,gr07_pCodon)\n",
    "\n",
    "    search_list = transportRxnResults[0]\n",
    "    rxndiff['06'] = transportRxnResults[1:]\n",
    "\n",
    "\n",
    "    #Growth rate = 1.0\n",
    "    from analysis_utils import *\n",
    "    path = \"/Users/Akshay/Documents/TranslationDynamics/data/\"\n",
    "\n",
    "    gr_sim = dict()\n",
    "\n",
    "    data = \"191004_0018/\"\n",
    "    for i in range(1,7):\n",
    "        sim_i = computeTransportRxnTimes(path+data, 1e15, 1e15, 100*(i-1),100*(i-1)+100,cogtRNANum=i, ribosomeNum = 8,scaling=scalingFactor, NR_scaling = NR_scaledrates)\n",
    "        gr_sim[i] = (CellLatencies(sim_i))\n",
    "\n",
    "    data = \"191105_2012/\"\n",
    "    for i in range(7,16):\n",
    "        sim_i = computeTransportRxnTimes(path+data, 1e15, 1e15, 100*(i-1-6),100*(i-1-6)+100,cogtRNANum=i, ribosomeNum = 8,scaling=scalingFactor, NR_scaling = NR_scaledrates)\n",
    "        gr_sim[i] = (CellLatencies(sim_i))\n",
    "\n",
    "    data = \"191105_2115/\"\n",
    "    for i in range(16,25):\n",
    "        sim_i = computeTransportRxnTimes(path+data, 1e15, 1e15, 100*(i-1-15),100*(i-1-15)+100,cogtRNANum=i, ribosomeNum = 8,scaling=scalingFactor, NR_scaling = NR_scaledrates)\n",
    "        gr_sim[i] = (CellLatencies(sim_i))\n",
    "\n",
    "    data = \"191105_2238/\"\n",
    "    for i in range(25,34):\n",
    "        sim_i = computeTransportRxnTimes(path+data, 1e15, 1e15, 100*(i-1-24),100*(i-1-24)+100,cogtRNANum=i, ribosomeNum = 8,scaling=scalingFactor, NR_scaling = NR_scaledrates)\n",
    "        gr_sim[i] = (CellLatencies(sim_i))\n",
    "    gr_dict = {'gr_1':gr_sim}\n",
    "\n",
    "    transportRxnResults = transportRxnCalc(gr_dict,gr107_ptRNA,gr107_pCodon)\n",
    "\n",
    "    search_list = transportRxnResults[0]\n",
    "    rxndiff['10'] = transportRxnResults[1:]\n",
    "\n",
    "    #Growth rate = 1.5\n",
    "    from analysis_utils import *\n",
    "    path = \"/Users/Akshay/Documents/TranslationDynamics/data/\"\n",
    "\n",
    "    gr_sim = dict()\n",
    "\n",
    "    data = \"191004_0104/\"\n",
    "    for i in range(1,7):\n",
    "        sim_i = computeTransportRxnTimes(path+data, 1e15, 1e15, 100*(i-1),100*(i-1)+100,cogtRNANum=i, ribosomeNum = 9,scaling=scalingFactor, NR_scaling = NR_scaledrates)\n",
    "        gr_sim[i] = (CellLatencies(sim_i))\n",
    "\n",
    "    data = \"191106_0916/\"\n",
    "    for i in range(7,16):\n",
    "        sim_i = computeTransportRxnTimes(path+data, 1e15, 1e15, 100*(i-1-6),100*(i-1-6)+100,cogtRNANum=i, ribosomeNum = 9,scaling=scalingFactor, NR_scaling = NR_scaledrates)\n",
    "        gr_sim[i] = (CellLatencies(sim_i))\n",
    "\n",
    "    data = \"191106_1041/\"\n",
    "    for i in range(16,25):\n",
    "        sim_i = computeTransportRxnTimes(path+data, 1e15, 1e15, 100*(i-1-15),100*(i-1-15)+100,cogtRNANum=i, ribosomeNum = 9,scaling=scalingFactor, NR_scaling = NR_scaledrates)\n",
    "        gr_sim[i] = (CellLatencies(sim_i))\n",
    "\n",
    "    data = \"191106_1206/\"\n",
    "    for i in range(25,34):\n",
    "        sim_i = computeTransportRxnTimes(path+data, 1e15, 1e15, 100*(i-1-24),100*(i-1-24)+100,cogtRNANum=i, ribosomeNum = 9,scaling=scalingFactor, NR_scaling = NR_scaledrates)\n",
    "        gr_sim[i] = (CellLatencies(sim_i))\n",
    "    gr_dict = {'gr_1':gr_sim}\n",
    "\n",
    "    transportRxnResults = transportRxnCalc(gr_dict,gr16_ptRNA,gr16_pCodon)\n",
    "\n",
    "    search_list = transportRxnResults[0]\n",
    "    rxndiff['15'] = transportRxnResults[1:]\n",
    "\n",
    "    #Growth rate = 2.0\n",
    "    from analysis_utils import *\n",
    "    path = \"/Users/Akshay/Documents/TranslationDynamics/data/\"\n",
    "\n",
    "    gr_sim = dict()\n",
    "\n",
    "    data = \"191004_1129/\"\n",
    "    for i in range(1,7):\n",
    "        sim_i = computeTransportRxnTimes(path+data, 1e15, 1e15, 100*(i-1),100*(i-1)+100,cogtRNANum=i, ribosomeNum = 9,scaling=scalingFactor, NR_scaling = NR_scaledrates)\n",
    "        gr_sim[i] = (CellLatencies(sim_i))\n",
    "\n",
    "    data = \"191106_1348/\"\n",
    "    for i in range(7,16):\n",
    "        sim_i = computeTransportRxnTimes(path+data, 1e15, 1e15, 100*(i-1-6),100*(i-1-6)+100,cogtRNANum=i, ribosomeNum = 9,scaling=scalingFactor, NR_scaling = NR_scaledrates)\n",
    "        gr_sim[i] = (CellLatencies(sim_i))\n",
    "\n",
    "    data = \"191106_1428/\"\n",
    "    for i in range(16,25):\n",
    "        sim_i = computeTransportRxnTimes(path+data, 1e15, 1e15, 100*(i-1-15),100*(i-1-15)+100,cogtRNANum=i, ribosomeNum = 9,scaling=scalingFactor, NR_scaling = NR_scaledrates)\n",
    "        gr_sim[i] = (CellLatencies(sim_i))\n",
    "\n",
    "    data = \"191106_1506/\"\n",
    "    for i in range(25,34):\n",
    "        sim_i = computeTransportRxnTimes(path+data, 1e15, 1e15, 100*(i-1-24),100*(i-1-24)+100,cogtRNANum=i, ribosomeNum = 9,scaling=scalingFactor, NR_scaling = NR_scaledrates)\n",
    "        gr_sim[i] = (CellLatencies(sim_i))\n",
    "    gr_dict = {'gr_1':gr_sim}\n",
    "\n",
    "    transportRxnResults = transportRxnCalc(gr_dict,gr16_ptRNA,gr16_pCodon)\n",
    "\n",
    "    search_list = transportRxnResults[0]\n",
    "    rxndiff['20'] = transportRxnResults[1:]\n",
    "\n",
    "    #Growth rate = 2.5\n",
    "    from analysis_utils import *\n",
    "    path = \"/Users/Akshay/Documents/TranslationDynamics/data/\"\n",
    "\n",
    "    gr_sim = dict()\n",
    "\n",
    "    data = \"191004_1217/\"\n",
    "    for i in range(1,7):\n",
    "        sim_i = computeTransportRxnTimes(path+data, 1e15, 1e15, 100*(i-1),100*(i-1)+100,cogtRNANum=i, ribosomeNum = 8,scaling=scalingFactor, NR_scaling = NR_scaledrates)\n",
    "        gr_sim[i] = (CellLatencies(sim_i))\n",
    "\n",
    "    data = \"191106_1556/\"\n",
    "    for i in range(7,16):\n",
    "        sim_i = computeTransportRxnTimes(path+data, 1e15, 1e15, 100*(i-1-6),100*(i-1-6)+100,cogtRNANum=i, ribosomeNum = 8,scaling=scalingFactor, NR_scaling = NR_scaledrates)\n",
    "        gr_sim[i] = (CellLatencies(sim_i))\n",
    "\n",
    "    data = \"191106_1714/\"\n",
    "    for i in range(16,25):\n",
    "        sim_i = computeTransportRxnTimes(path+data, 1e15, 1e15, 100*(i-1-15),100*(i-1-15)+100,cogtRNANum=i, ribosomeNum = 8,scaling=scalingFactor, NR_scaling = NR_scaledrates)\n",
    "        gr_sim[i] = (CellLatencies(sim_i))\n",
    "\n",
    "    data = \"191106_1757/\"\n",
    "    for i in range(25,34):\n",
    "        sim_i = computeTransportRxnTimes(path+data, 1e15, 1e15, 100*(i-1-24),100*(i-1-24)+100,cogtRNANum=i, ribosomeNum = 8,scaling=scalingFactor, NR_scaling = NR_scaledrates)\n",
    "        gr_sim[i] = (CellLatencies(sim_i))\n",
    "    gr_dict = {'gr_1':gr_sim}\n",
    "\n",
    "    transportRxnResults = transportRxnCalc(gr_dict,gr25_ptRNA,gr25_pCodon)\n",
    "\n",
    "    search_list = transportRxnResults[0]\n",
    "    rxndiff['25'] = transportRxnResults[1:]\n",
    "\n",
    "    #Growth rate = 3.0\n",
    "    from analysis_utils import *\n",
    "    path = \"/Users/Akshay/Documents/TranslationDynamics/data/\"\n",
    "\n",
    "    gr_sim = dict()\n",
    "\n",
    "    data = \"191003_2210/\"\n",
    "    for i in range(1,7):\n",
    "        sim_i = computeTransportRxnTimes(path+data, 1e15, 1e15, 100*(i-1),100*(i-1)+100,cogtRNANum=i, ribosomeNum = 7,scaling=scalingFactor, NR_scaling = NR_scaledrates)\n",
    "        gr_sim[i] = (CellLatencies(sim_i))\n",
    "\n",
    "    data = \"191105_0908/\"\n",
    "    for i in range(7,16):\n",
    "        sim_i = computeTransportRxnTimes(path+data, 1e15, 1e15, 100*(i-1-6),100*(i-1-6)+100,cogtRNANum=i, ribosomeNum = 7,scaling=scalingFactor, NR_scaling = NR_scaledrates)\n",
    "        gr_sim[i] = (CellLatencies(sim_i))\n",
    "\n",
    "    data = \"191105_0951/\"\n",
    "    for i in range(16,25):\n",
    "        sim_i = computeTransportRxnTimes(path+data, 1e15, 1e15, 100*(i-1-15),100*(i-1-15)+100,cogtRNANum=i, ribosomeNum = 7,scaling=scalingFactor, NR_scaling = NR_scaledrates)\n",
    "        gr_sim[i] = (CellLatencies(sim_i))\n",
    "\n",
    "    data = \"191105_1033/\"\n",
    "    for i in range(25,34):\n",
    "        sim_i = computeTransportRxnTimes(path+data, 1e15, 1e15, 100*(i-1-24),100*(i-1-24)+100,cogtRNANum=i, ribosomeNum = 7,scaling=scalingFactor, NR_scaling = NR_scaledrates)\n",
    "        gr_sim[i] = (CellLatencies(sim_i))\n",
    "    gr_dict = {'gr_1':gr_sim}\n",
    "\n",
    "\n",
    "    transportRxnResults = transportRxnCalc(gr_dict,gr25_ptRNA,gr25_pCodon)\n",
    "\n",
    "    search_list = transportRxnResults[0]\n",
    "    rxndiff['30'] = transportRxnResults[1:]\n",
    "\n",
    "    rxndiff_list.append(rxndiff)\n"
   ]
  },
  {
   "cell_type": "code",
   "execution_count": 8,
   "metadata": {},
   "outputs": [
    {
     "name": "stdout",
     "output_type": "stream",
     "text": [
      "[295.78074133307916, 287.0317555046732, 214.16154690692883, 170.798688582851, 157.50219704468827, 135.1109224900536] [15.673141663284989, 18.932319519302787, 11.582631775363398, 8.220618561989044, 7.10059912538712, 5.863884903244429]\n"
     ]
    }
   ],
   "source": [
    "rxndiff = rxndiff_list[0]\n",
    "print([rxndiff[d][2][0]+(1000/1475+1000/1529+1000/209+1000/200+1000/32) for d in rxndiff],[rxndiff[d][5][0] for d in rxndiff])"
   ]
  },
  {
   "cell_type": "code",
   "execution_count": 3,
   "metadata": {},
   "outputs": [
    {
     "name": "stdout",
     "output_type": "stream",
     "text": [
      "[327.85354729752146, 314.3539566442911, 235.95879215072867, 186.94704371596092, 177.34228835794158, 148.39737438057685] [20.482615378834655, 24.607402152805754, 15.46912090868132, 10.813404498614577, 9.756730064286279, 8.00541731079979]\n"
     ]
    }
   ],
   "source": [
    "rxndiff = rxndiff_list[0]\n",
    "print([rxndiff[d][2][0]+(1000/1475+1000/1529+1000/209+1000/200+1000/32) for d in rxndiff],[rxndiff[d][5][0] for d in rxndiff])"
   ]
  },
  {
   "cell_type": "code",
   "execution_count": 9,
   "metadata": {},
   "outputs": [
    {
     "name": "stdout",
     "output_type": "stream",
     "text": [
      "[333.52898366089096, 318.525235829126, 239.12728699904835, 189.23767078470837, 177.2599803087907, 148.30344047623385] [20.704092869014673, 24.756642044427288, 15.57029684355545, 10.899302329545305, 9.784983343315748, 8.028200327584923]\n"
     ]
    }
   ],
   "source": [
    "rxndiff = rxndiff_list[0]\n",
    "print([rxndiff[d][2][0]+(1000/1475+1000/1529+1000/209+1000/200+1000/32) for d in rxndiff],[rxndiff[d][5][0] for d in rxndiff])"
   ]
  },
  {
   "cell_type": "code",
   "execution_count": 1,
   "metadata": {},
   "outputs": [],
   "source": [
    "def computedElongationLatency_gr3(gr25_ptRNA,gr25_pCodon):\n",
    "    import numpy as np\n",
    "\n",
    "    scalingFactor = 200\n",
    "    rxndiff=dict()\n",
    "\n",
    "    print('Starting scaling = ', scalingFactor)\n",
    "    NR_scaledrates = {'k1r':718*200/scalingFactor,'k2f':1475*200/scalingFactor,'k2r_nr':1120*200/scalingFactor,'k3_nr':6*200/scalingFactor,'k4':209*200/scalingFactor}\n",
    "\n",
    "\n",
    "    #Growth rate = 3.0\n",
    "    path = \"/Users/Akshay/Documents/TranslationDynamics/data/\"\n",
    "\n",
    "    gr_sim = dict()\n",
    "\n",
    "    data = \"191003_2210/\"\n",
    "    for i in range(1,7):\n",
    "        sim_i = computeTransportRxnTimes(path+data, 1e15, 1e15, 100*(i-1),100*(i-1)+100,cogtRNANum=i, ribosomeNum = 7,scaling=scalingFactor, NR_scaling = NR_scaledrates)\n",
    "        gr_sim[i] = (CellLatencies(sim_i))\n",
    "\n",
    "    data = \"191105_0908/\"\n",
    "    for i in range(7,14):\n",
    "        sim_i = computeTransportRxnTimes(path+data, 1e15, 1e15, 100*(i-1-6),100*(i-1-6)+100,cogtRNANum=i, ribosomeNum = 7,scaling=scalingFactor, NR_scaling = NR_scaledrates)\n",
    "        gr_sim[i] = (CellLatencies(sim_i))\n",
    "\n",
    "\n",
    "    gr_dict = {'gr_1':gr_sim}\n",
    "\n",
    "    transportRxnResults = transportRxnCalc(gr_dict,gr25_ptRNA,gr25_pCodon)\n",
    "\n",
    "    search_list = transportRxnResults[0]\n",
    "    rxndiff['30'] = transportRxnResults[1:]\n",
    "    return([rxndiff[d][2][0]+(1000/1475+1000/1529+1000/209+1000/200+1000/32) for d in rxndiff],[rxndiff[d][5][0] for d in rxndiff])"
   ]
  },
  {
   "cell_type": "code",
   "execution_count": 4,
   "metadata": {},
   "outputs": [
    {
     "name": "stdout",
     "output_type": "stream",
     "text": [
      "Starting scaling =  200\n",
      "Computing...\n",
      "Computing...\n",
      "Computing...\n",
      "Computing...\n",
      "Computing...\n",
      "Computing...\n",
      "Computing...\n",
      "Computing...\n",
      "Computing...\n",
      "Computing...\n",
      "Computing...\n",
      "Computing...\n",
      "Computing...\n",
      "Unweighted search time ( 1  cognate) 208.93698325396662\n",
      "Unweighted search time ( 2  cognate) 109.07652327689615\n",
      "Unweighted search time ( 3  cognate) 81.68454919465134\n",
      "Unweighted search time ( 4  cognate) 56.61687904260256\n",
      "Unweighted search time ( 5  cognate) 40.68576299217233\n",
      "Unweighted search time ( 6  cognate) 32.81514353226164\n",
      "Unweighted search time ( 7  cognate) 28.86575131587246\n",
      "Unweighted search time ( 8  cognate) 23.977965221766112\n",
      "Unweighted search time ( 9  cognate) 18.40878689194997\n",
      "Unweighted search time ( 10  cognate) 17.81976507024673\n",
      "Unweighted search time ( 11  cognate) 17.362363288396296\n",
      "Unweighted search time ( 12  cognate) 13.66767204569624\n",
      "Unweighted search time ( 13  cognate) nan\n",
      "Transport time:  [82.73427833302874]  +/-  [5.112568571393585]\n",
      "Reaction time:  [9.72096335262154]  +/-  [0.793858163798332]\n",
      "Search time:  [92.45524168565028]  +/-  [5.820630229480025]\n"
     ]
    },
    {
     "name": "stderr",
     "output_type": "stream",
     "text": [
      "/Users/akshay/Documents/TranslationDynamics/tRNAShuffle/analysis_utils.py:760: RuntimeWarning: invalid value encountered in double_scalars\n",
      "  print('Unweighted search time (', str(i), ' cognate)', np.array(search_vals/p_codon_count_hist_weighted_avg[i]))\n"
     ]
    },
    {
     "data": {
      "text/plain": [
       "([134.82191901931657], [5.820630229480025])"
      ]
     },
     "execution_count": 4,
     "metadata": {},
     "output_type": "execute_result"
    }
   ],
   "source": [
    "from analysis_utils import *\n",
    "import numpy as np\n",
    "%load_ext autoreload\n",
    "import pandas as pd\n",
    "gr25_ptRNA = [0.0602409638554217, 0.010542168674698798, 0.07379518072289158, 0.00602409638554217, 0.010542168674698798, 0.00602409638554217, 0.021084337349397596, 0.043674698795180725, 0.021084337349397596, 0.01204819277108434, 0.01807228915662651, 0.08433734939759038, 0.03162650602409639, 0.07228915662650603, 0.01204819277108434, 0.07078313253012049, 0.06325301204819278, 0.01656626506024097, 0.009036144578313254, 0.027108433734939763, 0.010542168674698798, 0.03012048192771085, 0.013554216867469882, 0.015060240963855425, 0.0075301204819277125, 0.010542168674698798, 0.0075301204819277125, 0.003012048192771085, 0.021084337349397596, 0.004518072289156627, 0.01656626506024097, 0.01204819277108434, 0.0015060240963855425, 0.009036144578313254, 0.01656626506024097, 0.019578313253012052, 0.015060240963855425, 0.027108434, 0.05873493975903616, 0.019578313]\n",
    "gr25_Codon = np.array([2.36, 1.26, 45.55, 34.17, 16.97, 57.86, 19.27, 33.74, 14.98, 22.31, 43.18, 7.67, 24.11, 24.87, 39.49, 11.81, 0.03, 0.63, 2.19, 9.31, 17.22, 55.01, 5.61, 29.21, 21.67, 0.52, 15.79, 43.86, 4.17, 2.61, 20.64, 26.7, 7.03, 0.19, 2.76, 3.81, 6.72, 16.52, 4.27, 2.73, 7.92, 23.25, 2.51, 1.98, 16.33, 11.68, 0.62, 0.67, 43.82, 20.59, 27.28, 7.01, 6.78, 14.21, 60.75, 0.82, 3.86, 4.09, 28.82, 5.18, 4.38, 1.09])\n",
    "gr25_pCodon = gr25_Codon/np.sum(gr25_Codon)\n",
    "computedElongationLatency_gr3(gr25_ptRNA,gr25_pCodon)"
   ]
  },
  {
   "cell_type": "code",
   "execution_count": 3,
   "metadata": {},
   "outputs": [
    {
     "name": "stdout",
     "output_type": "stream",
     "text": [
      "Starting scaling =  200\n",
      "Computing...\n",
      "Computing...\n",
      "Computing...\n",
      "Computing...\n",
      "Computing...\n",
      "Computing...\n",
      "Computing...\n",
      "Computing...\n",
      "Computing...\n",
      "Computing...\n",
      "Computing...\n",
      "Computing...\n",
      "Computing...\n",
      "Unweighted search time ( 1  cognate) 309.58063727926\n",
      "Unweighted search time ( 2  cognate) 159.88127481992225\n",
      "Unweighted search time ( 3  cognate) 119.048359727149\n",
      "Unweighted search time ( 4  cognate) 81.5502639508223\n",
      "Unweighted search time ( 5  cognate) 59.8456666792106\n",
      "Unweighted search time ( 6  cognate) 48.33228770072629\n",
      "Unweighted search time ( 7  cognate) 41.994109812034004\n",
      "Unweighted search time ( 8  cognate) 34.756772831393434\n",
      "Unweighted search time ( 9  cognate) 27.268317649590546\n",
      "Unweighted search time ( 10  cognate) 25.881772900436467\n",
      "Unweighted search time ( 11  cognate) 24.953855930064748\n",
      "Unweighted search time ( 12  cognate) nan\n",
      "Unweighted search time ( 13  cognate) nan\n",
      "Transport time:  [136.496472460431]  +/-  [8.435797163384679]\n",
      "Reaction time:  [16.46218887760108]  +/-  [1.341381806890845]\n",
      "Search time:  [152.9586613380321]  +/-  [9.65879823040457]\n"
     ]
    },
    {
     "data": {
      "text/plain": [
       "([195.32533867169838], [9.65879823040457])"
      ]
     },
     "execution_count": 3,
     "metadata": {},
     "output_type": "execute_result"
    }
   ],
   "source": [
    "ptRNA_uniform = np.ones(len(gr25_ptRNA))/sum(np.ones(len(gr25_ptRNA)))\n",
    "pCodon_uniform = np.ones(len(gr25_pCodon))/sum(np.ones(len(gr25_pCodon)))\n",
    "computedElongationLatency_gr3(ptRNA_uniform,pCodon_uniform)"
   ]
  },
  {
   "cell_type": "code",
   "execution_count": 9,
   "metadata": {},
   "outputs": [
    {
     "name": "stdout",
     "output_type": "stream",
     "text": [
      "Starting scaling =  200\n",
      "Computing...\n",
      "Computing...\n",
      "Computing...\n",
      "Computing...\n",
      "Computing...\n",
      "Computing...\n",
      "Computing...\n",
      "Computing...\n",
      "Computing...\n",
      "Computing...\n",
      "Computing...\n",
      "Computing...\n",
      "Computing...\n",
      "Unweighted search time ( 1  cognate) 211.00146341363575\n",
      "Unweighted search time ( 2  cognate) 108.97058438771204\n",
      "Unweighted search time ( 3  cognate) 81.14001683109859\n",
      "Unweighted search time ( 4  cognate) 55.582368414953045\n",
      "Unweighted search time ( 5  cognate) 40.78912479557734\n",
      "Unweighted search time ( 6  cognate) 32.941929200122274\n",
      "Unweighted search time ( 7  cognate) 28.622005248665193\n",
      "Unweighted search time ( 8  cognate) 23.689239725751502\n",
      "Unweighted search time ( 9  cognate) nan\n",
      "Unweighted search time ( 10  cognate) 17.64028915285567\n",
      "Unweighted search time ( 11  cognate) 17.007847019537866\n",
      "Unweighted search time ( 12  cognate) 13.45698738548096\n",
      "Unweighted search time ( 13  cognate) 14.396575046675894\n",
      "Transport time:  [30.5624369463179]  +/-  [2.34867871642552]\n",
      "Reaction time:  [3.7033779427858877]  +/-  [0.37620731432233656]\n",
      "Search time:  [34.26581488910379]  +/-  [2.6931901091097292]\n"
     ]
    },
    {
     "data": {
      "text/plain": [
       "([76.63249222277005], [2.6931901091097292])"
      ]
     },
     "execution_count": 9,
     "metadata": {},
     "output_type": "execute_result"
    }
   ],
   "source": [
    "one_ptRNA = np.array([0.95, 0.010542168674698798, 0.07379518072289158, 0.00602409638554217, 0.010542168674698798, 0.00602409638554217, 0.021084337349397596, 0.043674698795180725, 0.021084337349397596, 0.01204819277108434, 0.01807228915662651, 0.08433734939759038, 0.03162650602409639, 0.07228915662650603, 0.01204819277108434, 0.07078313253012049, 0.06325301204819278, 0.01656626506024097, 0.009036144578313254, 0.027108433734939763, 0.010542168674698798, 0.03012048192771085, 0.013554216867469882, 0.015060240963855425, 0.0075301204819277125, 0.010542168674698798, 0.0075301204819277125, 0.003012048192771085, 0.021084337349397596, 0.004518072289156627, 0.01656626506024097, 0.01204819277108434, 0.0015060240963855425, 0.009036144578313254, 0.01656626506024097, 0.019578313253012052, 0.015060240963855425, 0.027108434, 0.05873493975903616, 0.019578313])\n",
    "one_Codon = np.array([1600, 1.26, 45.55, 34.17, 16.97, 57.86, 19.27, 33.74, 14.98, 22.31, 43.18, 7.67, 24.11, 24.87, 39.49, 11.81, 0.03, 0.63, 2.19, 9.31, 17.22, 55.01, 5.61, 29.21, 21.67, 0.52, 15.79, 43.86, 4.17, 2.61, 20.64, 26.7, 7.03, 0.19, 2.76, 3.81, 6.72, 16.52, 4.27, 2.73, 7.92, 23.25, 2.51, 1.98, 16.33, 11.68, 0.62, 0.67, 43.82, 20.59, 27.28, 7.01, 6.78, 14.21, 60.75, 0.82, 3.86, 4.09, 28.82, 5.18, 4.38, 1.09])\n",
    "one_ptRNA[12]=0.001\n",
    "\n",
    "computedElongationLatency_gr3(one_ptRNA/sum(one_ptRNA),one_Codon/sum(one_Codon))"
   ]
  },
  {
   "cell_type": "code",
   "execution_count": 22,
   "metadata": {},
   "outputs": [
    {
     "name": "stdout",
     "output_type": "stream",
     "text": [
      "[4.50551598e-01 3.25422939e-01 1.27231652e-01 4.35151763e-02\n",
      " 1.51822143e-02 3.03942138e-03 8.12652430e-04 8.17673242e-05\n",
      " 5.33351923e-06 0.00000000e+00 1.56320839e-05 4.51539178e-05\n",
      " 1.16071821e-04 1.92328414e-04 3.15030867e-04 6.50920821e-04\n",
      " 1.19343041e-03 1.56408668e-03 2.51338752e-03 3.31770748e-03\n",
      " 3.71367646e-03 4.10198034e-03 4.27105959e-03 3.45733307e-03\n",
      " 2.96919104e-03 2.44643877e-03 1.49870216e-03 8.87000406e-04\n",
      " 4.88582117e-04 2.42097450e-04 1.02488455e-04 3.91526553e-05\n",
      " 1.57935768e-05 0.00000000e+00 0.00000000e+00 0.00000000e+00\n",
      " 0.00000000e+00 0.00000000e+00 0.00000000e+00 0.00000000e+00\n",
      " 0.00000000e+00 0.00000000e+00]\n"
     ]
    }
   ],
   "source": [
    "print(cognateDistrib(one_ptRNA,one_Codon))\n",
    "#200 ms"
   ]
  },
  {
   "cell_type": "code",
   "execution_count": 23,
   "metadata": {},
   "outputs": [
    {
     "name": "stdout",
     "output_type": "stream",
     "text": [
      "[7.46502537e-01 1.17730257e-01 5.90502224e-02 2.71873153e-02\n",
      " 1.08995340e-02 3.47826969e-03 8.90983001e-04 8.65240751e-05\n",
      " 1.34371081e-05 0.00000000e+00 1.34670200e-05 1.75193089e-05\n",
      " 1.10070559e-04 1.37688566e-04 2.35756600e-04 5.68646364e-04\n",
      " 9.18198167e-04 1.42984958e-03 2.35534007e-03 3.05549652e-03\n",
      " 3.24984045e-03 4.30614978e-03 4.28614708e-03 3.58203267e-03\n",
      " 3.19023382e-03 2.69121430e-03 1.73095749e-03 1.10933513e-03\n",
      " 6.39386172e-04 3.17096187e-04 1.33914116e-04 6.67872642e-05\n",
      " 1.57935768e-05 0.00000000e+00 0.00000000e+00 0.00000000e+00\n",
      " 0.00000000e+00 0.00000000e+00 0.00000000e+00 0.00000000e+00\n",
      " 0.00000000e+00 0.00000000e+00]\n"
     ]
    }
   ],
   "source": [
    "one_ptRNA = np.array([0.95, 0.010542168674698798, 0.07379518072289158, 0.00602409638554217, 0.010542168674698798, 0.00602409638554217, 0.021084337349397596, 0.043674698795180725, 0.021084337349397596, 0.01204819277108434, 0.01807228915662651, 0.08433734939759038, 0.03162650602409639, 0.07228915662650603, 0.01204819277108434, 0.07078313253012049, 0.06325301204819278, 0.01656626506024097, 0.009036144578313254, 0.027108433734939763, 0.010542168674698798, 0.03012048192771085, 0.013554216867469882, 0.015060240963855425, 0.0075301204819277125, 0.010542168674698798, 0.0075301204819277125, 0.003012048192771085, 0.021084337349397596, 0.004518072289156627, 0.01656626506024097, 0.01204819277108434, 0.0015060240963855425, 0.009036144578313254, 0.01656626506024097, 0.019578313253012052, 0.015060240963855425, 0.027108434, 0.05873493975903616, 0.019578313])\n",
    "one_ptRNA[12]=0.001\n",
    "#177 ms\n",
    "\n",
    "\n",
    "print(cognateDistrib(one_ptRNA,one_Codon))"
   ]
  },
  {
   "cell_type": "code",
   "execution_count": 12,
   "metadata": {},
   "outputs": [
    {
     "name": "stdout",
     "output_type": "stream",
     "text": [
      "[4.50551598e-01 3.25422939e-01 1.27231652e-01 4.35151763e-02\n",
      " 1.51822143e-02 3.03942138e-03 8.12652430e-04 8.17673242e-05\n",
      " 5.33351923e-06 0.00000000e+00 1.56320839e-05 4.51539178e-05\n",
      " 1.16071821e-04 1.92328414e-04 3.15030867e-04 6.50920821e-04\n",
      " 1.19343041e-03 1.56408668e-03 2.51338752e-03 3.31770748e-03\n",
      " 3.71367646e-03 4.10198034e-03 4.27105959e-03 3.45733307e-03\n",
      " 2.96919104e-03 2.44643877e-03 1.49870216e-03 8.87000406e-04\n",
      " 4.88582117e-04 2.42097450e-04 1.02488455e-04 3.91526553e-05\n",
      " 1.57935768e-05 0.00000000e+00 0.00000000e+00 0.00000000e+00\n",
      " 0.00000000e+00 0.00000000e+00 0.00000000e+00 0.00000000e+00\n",
      " 0.00000000e+00 0.00000000e+00]\n"
     ]
    }
   ],
   "source": [
    "#Not scaling by the missing 0s\n",
    "one_ptRNA = np.array([0.95, 0.010542168674698798, 0.07379518072289158, 0.00602409638554217, 0.010542168674698798, 0.00602409638554217, 0.021084337349397596, 0.043674698795180725, 0.021084337349397596, 0.01204819277108434, 0.01807228915662651, 0.08433734939759038, 0.03162650602409639, 0.07228915662650603, 0.01204819277108434, 0.07078313253012049, 0.06325301204819278, 0.01656626506024097, 0.009036144578313254, 0.027108433734939763, 0.010542168674698798, 0.03012048192771085, 0.013554216867469882, 0.015060240963855425, 0.0075301204819277125, 0.010542168674698798, 0.0075301204819277125, 0.003012048192771085, 0.021084337349397596, 0.004518072289156627, 0.01656626506024097, 0.01204819277108434, 0.0015060240963855425, 0.009036144578313254, 0.01656626506024097, 0.019578313253012052, 0.015060240963855425, 0.027108434, 0.05873493975903616, 0.019578313])\n",
    "print(cognateDistrib(one_ptRNA,one_Codon))\n",
    "#129.4"
   ]
  },
  {
   "cell_type": "code",
   "execution_count": 11,
   "metadata": {},
   "outputs": [
    {
     "name": "stdout",
     "output_type": "stream",
     "text": [
      "[7.46502537e-01 1.17730257e-01 5.90502224e-02 2.71873153e-02\n",
      " 1.08995340e-02 3.47826969e-03 8.90983001e-04 8.65240751e-05\n",
      " 1.34371081e-05 0.00000000e+00 1.34670200e-05 1.75193089e-05\n",
      " 1.10070559e-04 1.37688566e-04 2.35756600e-04 5.68646364e-04\n",
      " 9.18198167e-04 1.42984958e-03 2.35534007e-03 3.05549652e-03\n",
      " 3.24984045e-03 4.30614978e-03 4.28614708e-03 3.58203267e-03\n",
      " 3.19023382e-03 2.69121430e-03 1.73095749e-03 1.10933513e-03\n",
      " 6.39386172e-04 3.17096187e-04 1.33914116e-04 6.67872642e-05\n",
      " 1.57935768e-05 0.00000000e+00 0.00000000e+00 0.00000000e+00\n",
      " 0.00000000e+00 0.00000000e+00 0.00000000e+00 0.00000000e+00\n",
      " 0.00000000e+00 0.00000000e+00]\n"
     ]
    }
   ],
   "source": [
    "#Not scaling by the missing 0s\n",
    "one_ptRNA = np.array([0.95, 0.010542168674698798, 0.07379518072289158, 0.00602409638554217, 0.010542168674698798, 0.00602409638554217, 0.021084337349397596, 0.043674698795180725, 0.021084337349397596, 0.01204819277108434, 0.01807228915662651, 0.08433734939759038, 0.03162650602409639, 0.07228915662650603, 0.01204819277108434, 0.07078313253012049, 0.06325301204819278, 0.01656626506024097, 0.009036144578313254, 0.027108433734939763, 0.010542168674698798, 0.03012048192771085, 0.013554216867469882, 0.015060240963855425, 0.0075301204819277125, 0.010542168674698798, 0.0075301204819277125, 0.003012048192771085, 0.021084337349397596, 0.004518072289156627, 0.01656626506024097, 0.01204819277108434, 0.0015060240963855425, 0.009036144578313254, 0.01656626506024097, 0.019578313253012052, 0.015060240963855425, 0.027108434, 0.05873493975903616, 0.019578313])\n",
    "one_ptRNA[12]=0.001\n",
    "#76.63249222277005\n",
    "\n",
    "\n",
    "print(cognateDistrib(one_ptRNA,one_Codon))"
   ]
  },
  {
   "cell_type": "code",
   "execution_count": 30,
   "metadata": {},
   "outputs": [
    {
     "name": "stdout",
     "output_type": "stream",
     "text": [
      "The autoreload extension is already loaded. To reload it, use:\n",
      "  %reload_ext autoreload\n",
      "[1.17622955e-04 5.69247630e-01 2.16573449e-01 1.14154052e-01\n",
      " 5.23042947e-02 2.73762591e-02 1.21681628e-02 5.54026669e-03\n",
      " 1.64243086e-03 5.91396863e-04 1.96996280e-04 8.74382360e-05\n",
      " 0.00000000e+00 0.00000000e+00 0.00000000e+00 0.00000000e+00\n",
      " 0.00000000e+00 0.00000000e+00 0.00000000e+00 0.00000000e+00\n",
      " 0.00000000e+00 0.00000000e+00 0.00000000e+00 0.00000000e+00\n",
      " 0.00000000e+00 0.00000000e+00 0.00000000e+00 0.00000000e+00\n",
      " 0.00000000e+00 0.00000000e+00 0.00000000e+00 0.00000000e+00\n",
      " 0.00000000e+00 0.00000000e+00 0.00000000e+00 0.00000000e+00\n",
      " 0.00000000e+00 0.00000000e+00 0.00000000e+00 0.00000000e+00\n",
      " 0.00000000e+00 0.00000000e+00]\n",
      "Starting scaling =  200\n",
      "Computing...\n",
      "Computing...\n",
      "Computing...\n",
      "Computing...\n",
      "Computing...\n",
      "Computing...\n",
      "Computing...\n",
      "Computing...\n",
      "Computing...\n",
      "Computing...\n",
      "Computing...\n",
      "Computing...\n",
      "Computing...\n",
      "Unweighted search time ( 1  cognate) 211.00146341363575\n",
      "Unweighted search time ( 2  cognate) 108.97058438771204\n",
      "Unweighted search time ( 3  cognate) 81.1400168310986\n",
      "Unweighted search time ( 4  cognate) 55.58236841495304\n",
      "Unweighted search time ( 5  cognate) 40.78912479557733\n",
      "Unweighted search time ( 6  cognate) 32.941929200122274\n",
      "Unweighted search time ( 7  cognate) 28.622005248665193\n",
      "Unweighted search time ( 8  cognate) 23.689239725751502\n",
      "Unweighted search time ( 9  cognate) 18.585319093136118\n",
      "Unweighted search time ( 10  cognate) 17.64028915285567\n",
      "Unweighted search time ( 11  cognate) 17.007847019537866\n",
      "Unweighted search time ( 12  cognate) nan\n",
      "Unweighted search time ( 13  cognate) nan\n",
      "Transport time:  [140.47435539279516]  +/-  [11.182580001097541]\n",
      "Reaction time:  [17.13845257376111]  +/-  [1.806272491589757]\n",
      "Search time:  [157.61280796655635]  +/-  [12.844982201530932]\n"
     ]
    },
    {
     "data": {
      "text/plain": [
       "([199.97948530022262], [12.844982201530932])"
      ]
     },
     "execution_count": 30,
     "metadata": {},
     "output_type": "execute_result"
    }
   ],
   "source": [
    "from analysis_utils import *\n",
    "import numpy as np\n",
    "%load_ext autoreload\n",
    "import pandas as pd\n",
    "#Not scaling by the missing 0s\n",
    "one_ptRNA = np.array([0.01, 0.010542168674698798, 0.07379518072289158, 0.00602409638554217, 0.010542168674698798, 0.00602409638554217, 0.021084337349397596, 0.043674698795180725, 0.021084337349397596, 0.01204819277108434, 0.01807228915662651, 0.08433734939759038, 0.03162650602409639, 0.07228915662650603, 0.01204819277108434, 0.07078313253012049, 0.06325301204819278, 0.01656626506024097, 0.009036144578313254, 0.027108433734939763, 0.010542168674698798, 0.03012048192771085, 0.013554216867469882, 0.015060240963855425, 0.0075301204819277125, 0.010542168674698798, 0.0075301204819277125, 0.003012048192771085, 0.021084337349397596, 0.004518072289156627, 0.01656626506024097, 0.01204819277108434, 0.0015060240963855425, 0.009036144578313254, 0.01656626506024097, 0.019578313253012052, 0.015060240963855425, 0.027108434, 0.05873493975903616, 0.019578313])\n",
    "one_Codon = np.array([1600, 1.26, 45.55, 34.17, 16.97, 57.86, 19.27, 33.74, 14.98, 22.31, 43.18, 7.67, 24.11, 24.87, 39.49, 11.81, 0.03, 0.63, 2.19, 9.31, 17.22, 55.01, 5.61, 29.21, 21.67, 0.52, 15.79, 43.86, 4.17, 2.61, 20.64, 26.7, 7.03, 0.19, 2.76, 3.81, 6.72, 16.52, 4.27, 2.73, 7.92, 23.25, 2.51, 1.98, 16.33, 11.68, 0.62, 0.67, 43.82, 20.59, 27.28, 7.01, 6.78, 14.21, 60.75, 0.82, 3.86, 4.09, 28.82, 5.18, 4.38, 1.09])\n",
    "one_ptRNA[12]=0.4\n",
    "\n",
    "print(cognateDistrib(one_ptRNA,one_Codon))\n",
    "#Combine the 0 into the 1\n",
    "computedElongationLatency_gr3(one_ptRNA/sum(one_ptRNA),one_Codon/sum(one_Codon))"
   ]
  },
  {
   "cell_type": "code",
   "execution_count": 14,
   "metadata": {},
   "outputs": [
    {
     "name": "stdout",
     "output_type": "stream",
     "text": [
      "[4.74076161e-07 9.99367165e-01 7.44527427e-05 7.82756634e-06\n",
      " 5.44027340e-07 0.00000000e+00 0.00000000e+00 0.00000000e+00\n",
      " 0.00000000e+00 0.00000000e+00 0.00000000e+00 0.00000000e+00\n",
      " 0.00000000e+00 0.00000000e+00 0.00000000e+00 0.00000000e+00\n",
      " 0.00000000e+00 0.00000000e+00 0.00000000e+00 0.00000000e+00\n",
      " 0.00000000e+00 0.00000000e+00 0.00000000e+00 0.00000000e+00\n",
      " 0.00000000e+00 0.00000000e+00 0.00000000e+00 0.00000000e+00\n",
      " 0.00000000e+00 0.00000000e+00 0.00000000e+00 9.39528107e-08\n",
      " 1.38958942e-06 2.59906773e-06 8.03884061e-06 1.79201244e-05\n",
      " 4.17178935e-05 6.95868257e-05 1.05878089e-04 1.27599766e-04\n",
      " 1.01666054e-04 7.30467622e-05]\n",
      "Starting scaling =  200\n",
      "Computing...\n",
      "Computing...\n",
      "Computing...\n",
      "Computing...\n",
      "Computing...\n",
      "Computing...\n",
      "Computing...\n",
      "Computing...\n",
      "Computing...\n",
      "Computing...\n",
      "Computing...\n",
      "Computing...\n",
      "Computing...\n",
      "Unweighted search time ( 1  cognate) 211.00146341363575\n",
      "Unweighted search time ( 2  cognate) 108.97058438771202\n",
      "Unweighted search time ( 3  cognate) 81.14001683109859\n",
      "Unweighted search time ( 4  cognate) 55.58236841495304\n",
      "Unweighted search time ( 5  cognate) nan\n",
      "Unweighted search time ( 6  cognate) nan\n",
      "Unweighted search time ( 7  cognate) nan\n",
      "Unweighted search time ( 8  cognate) nan\n",
      "Unweighted search time ( 9  cognate) nan\n",
      "Unweighted search time ( 10  cognate) nan\n",
      "Unweighted search time ( 11  cognate) nan\n",
      "Unweighted search time ( 12  cognate) nan\n",
      "Unweighted search time ( 13  cognate) nan\n",
      "Transport time:  [187.09040516272842]  +/-  [19.16573973556044]\n",
      "Reaction time:  [23.786307586161396]  +/-  [3.1358095946704316]\n",
      "Search time:  [210.87671274888984]  +/-  [22.07477675382752]\n"
     ]
    },
    {
     "data": {
      "text/plain": [
       "([253.24339008255612], [22.07477675382752])"
      ]
     },
     "execution_count": 14,
     "metadata": {},
     "output_type": "execute_result"
    }
   ],
   "source": [
    "#Not scaling by the missing 0s\n",
    "one_ptRNA = np.array([10, 0.010542168674698798, 0.07379518072289158, 0.00602409638554217, 0.010542168674698798, 0.00602409638554217, 0.021084337349397596, 0.043674698795180725, 0.021084337349397596, 0.01204819277108434, 0.01807228915662651, 0.08433734939759038, 0.03162650602409639, 0.07228915662650603, 0.01204819277108434, 0.07078313253012049, 0.06325301204819278, 0.01656626506024097, 0.009036144578313254, 0.027108433734939763, 0.010542168674698798, 0.03012048192771085, 0.013554216867469882, 0.015060240963855425, 0.0075301204819277125, 0.010542168674698798, 0.0075301204819277125, 0.003012048192771085, 0.021084337349397596, 0.004518072289156627, 0.01656626506024097, 0.01204819277108434, 0.0015060240963855425, 0.009036144578313254, 0.01656626506024097, 0.019578313253012052, 0.015060240963855425, 0.027108434, 0.05873493975903616, 0.019578313])\n",
    "one_Codon = np.array([160000, 1.26, 45.55, 34.17, 16.97, 57.86, 19.27, 33.74, 14.98, 22.31, 43.18, 7.67, 24.11, 24.87, 39.49, 11.81, 0.03, 0.63, 2.19, 9.31, 17.22, 55.01, 5.61, 29.21, 21.67, 0.52, 15.79, 43.86, 4.17, 2.61, 20.64, 26.7, 7.03, 0.19, 2.76, 3.81, 6.72, 16.52, 4.27, 2.73, 7.92, 23.25, 2.51, 1.98, 16.33, 11.68, 0.62, 0.67, 43.82, 20.59, 27.28, 7.01, 6.78, 14.21, 60.75, 0.82, 3.86, 4.09, 28.82, 5.18, 4.38, 1.09])\n",
    "one_ptRNA[12]=0.00\n",
    "#Combine the 0 into the 1\n",
    "\n",
    "print(cognateDistrib(one_ptRNA,one_Codon))\n",
    "computedElongationLatency_gr3(one_ptRNA/sum(one_ptRNA),one_Codon/sum(one_Codon))"
   ]
  },
  {
   "cell_type": "code",
   "execution_count": 26,
   "metadata": {},
   "outputs": [
    {
     "name": "stdout",
     "output_type": "stream",
     "text": [
      "The autoreload extension is already loaded. To reload it, use:\n",
      "  %reload_ext autoreload\n",
      "Starting scaling =  200\n",
      "Computing...\n",
      "Computing...\n",
      "Computing...\n",
      "Computing...\n",
      "Computing...\n",
      "Computing...\n",
      "Computing...\n",
      "Computing...\n",
      "Computing...\n",
      "Computing...\n",
      "Computing...\n",
      "Computing...\n",
      "Computing...\n",
      "Unweighted search time ( 1  cognate) 211.00146341363575\n",
      "Unweighted search time ( 2  cognate) 108.97058438771204\n",
      "Unweighted search time ( 3  cognate) 81.14001683109859\n",
      "Unweighted search time ( 4  cognate) 55.58236841495304\n",
      "Unweighted search time ( 5  cognate) 40.78912479557734\n",
      "Unweighted search time ( 6  cognate) 32.941929200122274\n",
      "Unweighted search time ( 7  cognate) 28.622005248665193\n",
      "Unweighted search time ( 8  cognate) 23.689239725751502\n",
      "Unweighted search time ( 9  cognate) 18.585319093136118\n",
      "Unweighted search time ( 10  cognate) 17.64028915285567\n",
      "Unweighted search time ( 11  cognate) 17.007847019537866\n",
      "Unweighted search time ( 12  cognate) 13.45698738548096\n",
      "Unweighted search time ( 13  cognate) 14.396575046675894\n",
      "Transport time:  [140.83338399492482]  +/-  [11.53457631724651]\n",
      "Reaction time:  [17.260576838088912]  +/-  [1.8719163700016015]\n",
      "Search time:  [158.09396083301377]  +/-  [13.26226902403389]\n"
     ]
    },
    {
     "data": {
      "text/plain": [
       "([200.46063816668004], [13.26226902403389])"
      ]
     },
     "execution_count": 26,
     "metadata": {},
     "output_type": "execute_result"
    }
   ],
   "source": [
    "from analysis_utils import *\n",
    "import numpy as np\n",
    "%load_ext autoreload\n",
    "import pandas as pd\n",
    "gr25_ptRNA = [0.0602409638554217, 0.010542168674698798, 0.07379518072289158, 0.00602409638554217, 0.010542168674698798, 0.00602409638554217, 0.021084337349397596, 0.043674698795180725, 0.021084337349397596, 0.01204819277108434, 0.01807228915662651, 0.08433734939759038, 0.03162650602409639, 0.07228915662650603, 0.01204819277108434, 0.07078313253012049, 0.06325301204819278, 0.01656626506024097, 0.009036144578313254, 0.027108433734939763, 0.010542168674698798, 0.03012048192771085, 0.013554216867469882, 0.015060240963855425, 0.0075301204819277125, 0.010542168674698798, 0.0075301204819277125, 0.003012048192771085, 0.021084337349397596, 0.004518072289156627, 0.01656626506024097, 0.01204819277108434, 0.0015060240963855425, 0.009036144578313254, 0.01656626506024097, 0.019578313253012052, 0.015060240963855425, 0.027108434, 0.05873493975903616, 0.019578313]\n",
    "gr25_Codon = np.array([2.36, 1.26, 45.55, 34.17, 16.97, 57.86, 19.27, 33.74, 14.98, 22.31, 43.18, 7.67, 24.11, 24.87, 39.49, 11.81, 0.03, 0.63, 2.19, 9.31, 17.22, 55.01, 5.61, 29.21, 21.67, 0.52, 15.79, 43.86, 4.17, 2.61, 20.64, 26.7, 7.03, 0.19, 2.76, 3.81, 6.72, 16.52, 4.27, 2.73, 7.92, 23.25, 2.51, 1.98, 16.33, 11.68, 0.62, 0.67, 43.82, 20.59, 27.28, 7.01, 6.78, 14.21, 60.75, 0.82, 3.86, 4.09, 28.82, 5.18, 4.38, 1.09])\n",
    "gr25_ptRNA[16] = gr25_ptRNA[16]*5\n",
    "gr25_pCodon = gr25_Codon/np.sum(gr25_Codon)\n",
    "gr25_ptRNA = gr25_ptRNA/np.sum(gr25_ptRNA)\n",
    "\n",
    "\n",
    "computedElongationLatency_gr3(gr25_ptRNA,gr25_pCodon)"
   ]
  },
  {
   "cell_type": "code",
   "execution_count": 27,
   "metadata": {},
   "outputs": [
    {
     "name": "stdout",
     "output_type": "stream",
     "text": [
      "The autoreload extension is already loaded. To reload it, use:\n",
      "  %reload_ext autoreload\n",
      "Starting scaling =  200\n",
      "Computing...\n",
      "Computing...\n",
      "Computing...\n",
      "Computing...\n",
      "Computing...\n",
      "Computing...\n",
      "Computing...\n",
      "Computing...\n",
      "Computing...\n",
      "Computing...\n",
      "Computing...\n",
      "Computing...\n",
      "Computing...\n",
      "Unweighted search time ( 1  cognate) 211.00146341363575\n",
      "Unweighted search time ( 2  cognate) 108.97058438771205\n",
      "Unweighted search time ( 3  cognate) 81.14001683109859\n",
      "Unweighted search time ( 4  cognate) 55.58236841495304\n",
      "Unweighted search time ( 5  cognate) 40.78912479557734\n",
      "Unweighted search time ( 6  cognate) 32.941929200122274\n",
      "Unweighted search time ( 7  cognate) 28.622005248665197\n",
      "Unweighted search time ( 8  cognate) 23.689239725751502\n",
      "Unweighted search time ( 9  cognate) 18.585319093136118\n",
      "Unweighted search time ( 10  cognate) 17.64028915285567\n",
      "Unweighted search time ( 11  cognate) 17.007847019537866\n",
      "Unweighted search time ( 12  cognate) 13.45698738548096\n",
      "Unweighted search time ( 13  cognate) nan\n",
      "Transport time:  [129.65196175939352]  +/-  [9.969615578293702]\n",
      "Reaction time:  [15.735122627302898]  +/-  [1.6111510148601118]\n",
      "Search time:  [145.38708438669647]  +/-  [11.452532083543154]\n"
     ]
    },
    {
     "data": {
      "text/plain": [
       "([187.75376172036275], [11.452532083543154])"
      ]
     },
     "execution_count": 27,
     "metadata": {},
     "output_type": "execute_result"
    }
   ],
   "source": [
    "from analysis_utils import *\n",
    "import numpy as np\n",
    "%load_ext autoreload\n",
    "import pandas as pd\n",
    "gr25_ptRNA = [0.0602409638554217, 0.010542168674698798, 0.07379518072289158, 0.00602409638554217, 0.010542168674698798, 0.00602409638554217, 0.021084337349397596, 0.043674698795180725, 0.021084337349397596, 0.01204819277108434, 0.01807228915662651, 0.08433734939759038, 0.03162650602409639, 0.07228915662650603, 0.01204819277108434, 0.07078313253012049, 0.06325301204819278, 0.01656626506024097, 0.009036144578313254, 0.027108433734939763, 0.010542168674698798, 0.03012048192771085, 0.013554216867469882, 0.015060240963855425, 0.0075301204819277125, 0.010542168674698798, 0.0075301204819277125, 0.003012048192771085, 0.021084337349397596, 0.004518072289156627, 0.01656626506024097, 0.01204819277108434, 0.0015060240963855425, 0.009036144578313254, 0.01656626506024097, 0.019578313253012052, 0.015060240963855425, 0.027108434, 0.05873493975903616, 0.019578313]\n",
    "gr25_Codon = np.array([2.36, 1.26, 45.55, 34.17, 16.97, 57.86, 19.27, 33.74, 14.98, 22.31, 43.18, 7.67, 24.11, 24.87, 39.49, 11.81, 0.03, 0.63, 2.19, 9.31, 17.22, 55.01, 5.61, 29.21, 21.67, 0.52, 15.79, 43.86, 4.17, 2.61, 20.64, 26.7, 7.03, 0.19, 2.76, 3.81, 6.72, 16.52, 4.27, 2.73, 7.92, 23.25, 2.51, 1.98, 16.33, 11.68, 0.62, 0.67, 43.82, 20.59, 27.28, 7.01, 6.78, 14.21, 60.75, 0.82, 3.86, 4.09, 28.82, 5.18, 4.38, 1.09])\n",
    "gr25_ptRNA[16] = gr25_ptRNA[16]\n",
    "gr25_pCodon = gr25_Codon/np.sum(gr25_Codon)\n",
    "gr25_ptRNA = gr25_ptRNA/np.sum(gr25_ptRNA)\n",
    "\n",
    "\n",
    "computedElongationLatency_gr3(gr25_ptRNA,gr25_pCodon)"
   ]
  },
  {
   "cell_type": "code",
   "execution_count": 19,
   "metadata": {},
   "outputs": [
    {
     "name": "stdout",
     "output_type": "stream",
     "text": [
      "Starting scaling =  200\n",
      "Computing...\n",
      "Computing...\n",
      "Computing...\n",
      "Computing...\n",
      "Computing...\n",
      "Computing...\n",
      "Computing...\n",
      "Computing...\n",
      "Computing...\n",
      "Computing...\n",
      "Computing...\n",
      "Computing...\n",
      "Computing...\n",
      "Unweighted search time ( 1  cognate) 211.00146341363572\n",
      "Unweighted search time ( 2  cognate) 108.97058438771204\n",
      "Unweighted search time ( 3  cognate) 81.14001683109859\n",
      "Unweighted search time ( 4  cognate) 55.58236841495304\n",
      "Unweighted search time ( 5  cognate) 40.78912479557734\n",
      "Unweighted search time ( 6  cognate) 32.941929200122274\n",
      "Unweighted search time ( 7  cognate) 28.622005248665197\n",
      "Unweighted search time ( 8  cognate) 23.689239725751502\n",
      "Unweighted search time ( 9  cognate) 18.585319093136118\n",
      "Unweighted search time ( 10  cognate) 17.64028915285567\n",
      "Unweighted search time ( 11  cognate) 17.007847019537866\n",
      "Unweighted search time ( 12  cognate) nan\n",
      "Unweighted search time ( 13  cognate) nan\n",
      "Transport time:  [152.47573827098032]  +/-  [13.017850132369317]\n",
      "Reaction time:  [18.809933255535956]  +/-  [2.1147306691900645]\n",
      "Search time:  [171.28567152651632]  +/-  [14.971100188058813]\n"
     ]
    }
   ],
   "source": [
    "ptRNA_uniform = np.ones(len(gr25_ptRNA))/sum(np.ones(len(gr25_ptRNA)))\n",
    "pCodon_uniform = np.ones(len(gr25_pCodon))/sum(np.ones(len(gr25_pCodon)))\n",
    "elong_t, std = computedElongationLatency_gr3(ptRNA_uniform,pCodon_uniform)"
   ]
  },
  {
   "cell_type": "code",
   "execution_count": null,
   "metadata": {},
   "outputs": [
    {
     "name": "stdout",
     "output_type": "stream",
     "text": [
      "The autoreload extension is already loaded. To reload it, use:\n",
      "  %reload_ext autoreload\n",
      "Starting scaling =  200\n",
      "Computing...\n"
     ]
    }
   ],
   "source": [
    "%%time\n",
    "from analysis_utils import *\n",
    "import numpy as np\n",
    "%load_ext autoreload\n",
    "import pandas as pd\n",
    "\n",
    "elong_t_list = list()\n",
    "p_tRNA_list = list()\n",
    "gr25_Codon = np.array([2.36, 1.26, 45.55, 34.17, 16.97, 57.86, 19.27, 33.74, 14.98, 22.31, 43.18, 7.67, 24.11, 24.87, 39.49, 11.81, 0.03, 0.63, 2.19, 9.31, 17.22, 55.01, 5.61, 29.21, 21.67, 0.52, 15.79, 43.86, 4.17, 2.61, 20.64, 26.7, 7.03, 0.19, 2.76, 3.81, 6.72, 16.52, 4.27, 2.73, 7.92, 23.25, 2.51, 1.98, 16.33, 11.68, 0.62, 0.67, 43.82, 20.59, 27.28, 7.01, 6.78, 14.21, 60.75, 0.82, 3.86, 4.09, 28.82, 5.18, 4.38, 1.09])\n",
    "gr25_pCodon = gr25_Codon/np.sum(gr25_Codon)\n",
    "gr25_ptRNA = [0.0602409638554217, 0.010542168674698798, 0.07379518072289158, 0.00602409638554217, 0.010542168674698798, 0.00602409638554217, 0.021084337349397596, 0.043674698795180725, 0.021084337349397596, 0.01204819277108434, 0.01807228915662651, 0.08433734939759038, 0.03162650602409639, 0.07228915662650603, 0.01204819277108434, 0.07078313253012049, 0.06325301204819278, 0.01656626506024097, 0.009036144578313254, 0.027108433734939763, 0.010542168674698798, 0.03012048192771085, 0.013554216867469882, 0.015060240963855425, 0.0075301204819277125, 0.010542168674698798, 0.0075301204819277125, 0.003012048192771085, 0.021084337349397596, 0.004518072289156627, 0.01656626506024097, 0.01204819277108434, 0.0015060240963855425, 0.009036144578313254, 0.01656626506024097, 0.019578313253012052, 0.015060240963855425, 0.027108434, 0.05873493975903616, 0.019578313]\n",
    "gr25_ptRNA = gr25_ptRNA/np.sum(gr25_ptRNA)\n",
    "\n",
    "for i in range(3):\n",
    "    ptRNA_uniform = np.random.uniform(min(gr25_ptRNA),max(gr25_ptRNA),len(gr25_ptRNA))\n",
    "    elong_t, std = computedElongationLatency_gr3(ptRNA_uniform,gr25_pCodon)\n",
    "    elong_t_list.append(elong_t[0])\n",
    "    p_tRNA_list.append(ptRNA_uniform)"
   ]
  },
  {
   "cell_type": "code",
   "execution_count": 44,
   "metadata": {},
   "outputs": [
    {
     "name": "stdout",
     "output_type": "stream",
     "text": [
      "[array([0.05780238, 0.03299513, 0.04818752, 0.02148259, 0.03105553,\n",
      "       0.00798122, 0.03362387, 0.03433384, 0.05777854, 0.00861248,\n",
      "       0.06458568, 0.06662094, 0.02925773, 0.08042561, 0.07754407,\n",
      "       0.02412458, 0.07341266, 0.03554188, 0.02586118, 0.04092505,\n",
      "       0.00477423, 0.06539839, 0.06610581, 0.02596199, 0.02713198,\n",
      "       0.07656388, 0.06108   , 0.00198966, 0.0023142 , 0.03406247,\n",
      "       0.01522152, 0.06799823, 0.01038517, 0.06132448, 0.0559703 ,\n",
      "       0.04978886, 0.03342137, 0.02453241, 0.04572517, 0.07978011]), array([0.025076  , 0.05157586, 0.02182914, 0.05746643, 0.04925678,\n",
      "       0.02463496, 0.07674086, 0.03117074, 0.0307801 , 0.0769548 ,\n",
      "       0.08224423, 0.02803716, 0.06476578, 0.03782459, 0.04319732,\n",
      "       0.05120951, 0.00695462, 0.06281363, 0.01506164, 0.08253472,\n",
      "       0.05425255, 0.01654942, 0.0383514 , 0.04087347, 0.08169032,\n",
      "       0.08322472, 0.01154282, 0.00547621, 0.08518387, 0.0161137 ,\n",
      "       0.01828362, 0.04539195, 0.05075853, 0.00872165, 0.01543784,\n",
      "       0.02968257, 0.02332154, 0.02732251, 0.02458281, 0.05347295]), array([0.025076  , 0.05157586, 0.02182914, 0.05746643, 0.04925678,\n",
      "       0.02463496, 0.07674086, 0.03117074, 0.0307801 , 0.0769548 ,\n",
      "       0.08224423, 0.02803716, 0.06476578, 0.03782459, 0.04319732,\n",
      "       0.05120951, 0.00695462, 0.06281363, 0.01506164, 0.08253472,\n",
      "       0.05425255, 0.01654942, 0.0383514 , 0.04087347, 0.08169032,\n",
      "       0.08322472, 0.01154282, 0.00547621, 0.08518387, 0.0161137 ,\n",
      "       0.01828362, 0.04539195, 0.05075853, 0.00872165, 0.01543784,\n",
      "       0.02968257, 0.02332154, 0.02732251, 0.02458281, 0.05347295])]\n"
     ]
    },
    {
     "data": {
      "image/png": "[encoded data removed]",
      "text/plain": [
       "<Figure size 432x288 with 1 Axes>"
      ]
     },
     "metadata": {
      "needs_background": "light"
     },
     "output_type": "display_data"
    }
   ],
   "source": [
    "import matplotlib.pyplot as plt\n",
    "\n",
    "plt.hist(elong_t_list)\n",
    "print(p_tRNA_list)"
   ]
  },
  {
   "cell_type": "code",
   "execution_count": null,
   "metadata": {},
   "outputs": [],
   "source": [
    "#0 to 1 is a good approximation because, voxels will only have 0, when the latency should be greater than the 1 latency. "
   ]
  },
  {
   "cell_type": "code",
   "execution_count": 37,
   "metadata": {},
   "outputs": [
    {
     "data": {
      "text/plain": [
       "array([0.010589  , 0.06950157, 0.05086894, 0.04980972, 0.03331403,\n",
       "       0.05976393, 0.00931909, 0.07825247, 0.05878434, 0.0501591 ,\n",
       "       0.07070154, 0.0387549 , 0.010156  , 0.05377255, 0.04833978,\n",
       "       0.06325022, 0.01279004, 0.04785084, 0.00949727, 0.07059123,\n",
       "       0.04337155, 0.00552803, 0.03597796, 0.05149327, 0.082674  ,\n",
       "       0.04818547, 0.05179929, 0.07996628, 0.03266376, 0.07847747,\n",
       "       0.00638008, 0.0366937 , 0.07417719, 0.0445745 , 0.05669995,\n",
       "       0.01876264, 0.05892952, 0.05101636, 0.06745539, 0.05188003])"
      ]
     },
     "execution_count": 37,
     "metadata": {},
     "output_type": "execute_result"
    }
   ],
   "source": [
    "np.random.uniform(min(gr25_ptRNA),max(gr25_ptRNA),len(gr25_ptRNA))"
   ]
  },
  {
   "cell_type": "code",
   "execution_count": null,
   "metadata": {},
   "outputs": [],
   "source": []
  }
 ],
 "metadata": {
  "kernelspec": {
   "display_name": "Python 3",
   "language": "python",
   "name": "python3"
  },
  "language_info": {
   "codemirror_mode": {
    "name": "ipython",
    "version": 3
   },
   "file_extension": ".py",
   "mimetype": "text/x-python",
   "name": "python",
   "nbconvert_exporter": "python",
   "pygments_lexer": "ipython3",
   "version": "3.7.4"
  }
 },
 "nbformat": 4,
 "nbformat_minor": 2
}
