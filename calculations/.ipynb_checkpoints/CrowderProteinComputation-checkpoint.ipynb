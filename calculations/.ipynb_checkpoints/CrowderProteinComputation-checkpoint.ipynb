{
 "cells": [
  {
   "cell_type": "code",
   "execution_count": 4,
   "metadata": {},
   "outputs": [],
   "source": [
    "import pandas as pd\n",
    "import numpy as np\n",
    "import matplotlib.pyplot as plt\n",
    "%matplotlib inline"
   ]
  },
  {
   "cell_type": "code",
   "execution_count": 15,
   "metadata": {},
   "outputs": [
    {
     "name": "stdout",
     "output_type": "stream",
     "text": [
      "mean:  0.001997903344601266 median:  0.002032337675952646\n"
     ]
    },
    {
     "data": {
      "text/plain": [
       "Text(0.5, 0, 'Radius (µm)')"
      ]
     },
     "execution_count": 15,
     "metadata": {},
     "output_type": "execute_result"
    },
    {
     "data": {
      "image/png": "[encoded data removed]",
      "text/plain": [
       "<Figure size 432x288 with 1 Axes>"
      ]
     },
     "metadata": {
      "needs_background": "light"
     },
     "output_type": "display_data"
    }
   ],
   "source": [
    "df=pd.read_excel('crowderCalculation.xlsx')\n",
    "df=df[['Description','Molecular weight (Da)','Glucose']]\n",
    "df = df[~df['Description'].str.contains(\"30S ribosomal\")]\n",
    "df = df[~df['Description'].str.contains(\"50S ribosomal\")]\n",
    "df = df[~df['Description'].str.contains(\"Elongation factor Tu 1\")]\n",
    "\n",
    "proteindistrib =[]\n",
    "MWs = df['Molecular weight (Da)'].values\n",
    "\n",
    "# Calculate volumes of each protein from mass in Daltons. Convert Daltons\n",
    "# to grams, then divide by mass density, then convert cm^3 to µm^3.\n",
    "V = [((m/6.022e23)/1.41)*1e12 for m in MWs]\n",
    "\n",
    "#Calculate the effective spherical radius of each protein\n",
    "r = [((3/4)*(1/3.1415)*v)**(1/3) for v in V]\n",
    "counts = df['Glucose'].values\n",
    "for i in range(len(df['Molecular weight (Da)'])):\n",
    "    #proteindistrib.append([MWs[i]]*int(counts[i]))\n",
    "    proteindistrib.append([r[i]]*int(counts[i]))\n",
    "\n",
    "proteindistrib = [j for i in proteindistrib for j in i]\n",
    "plt.hist(proteindistrib,bins=10)\n",
    "print(\"mean: \",np.mean(proteindistrib), \"median: \", np.median(proteindistrib))\n",
    "plt.title(\"E. coli protein size distribution\")\n",
    "plt.ylabel(\"Abundance\")\n",
    "plt.xlabel(\"Radius (µm)\")"
   ]
  },
  {
   "cell_type": "code",
   "execution_count": null,
   "metadata": {},
   "outputs": [],
   "source": []
  },
  {
   "cell_type": "code",
   "execution_count": null,
   "metadata": {},
   "outputs": [],
   "source": []
  }
 ],
 "metadata": {
  "kernelspec": {
   "display_name": "Python 3",
   "language": "python",
   "name": "python3"
  },
  "language_info": {
   "codemirror_mode": {
    "name": "ipython",
    "version": 3
   },
   "file_extension": ".py",
   "mimetype": "text/x-python",
   "name": "python",
   "nbconvert_exporter": "python",
   "pygments_lexer": "ipython3",
   "version": "3.7.4"
  }
 },
 "nbformat": 4,
 "nbformat_minor": 2
}
