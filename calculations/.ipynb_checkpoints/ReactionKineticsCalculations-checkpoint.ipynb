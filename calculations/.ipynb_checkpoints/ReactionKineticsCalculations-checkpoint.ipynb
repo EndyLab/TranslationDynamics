{
 "cells": [
  {
   "cell_type": "code",
   "execution_count": 8,
   "metadata": {},
   "outputs": [],
   "source": [
    "import numpy as np\n",
    "import matplotlib.pyplot as plt\n",
    "%matplotlib inline\n",
    "\n",
    "#Cognate kinetics\n",
    "k1r=718\n",
    "k2f=1475\n",
    "k2r_cog=2.1\n",
    "k3_cog=1529\n",
    "k4=209\n",
    "k5_cog=200\n",
    "k6_cog = 32\n",
    "\n",
    "t1r = 1000/k1r\n",
    "t2f = 1000/k2f\n",
    "t2r_cog = 1000/k2r_cog\n",
    "t3_cog = 1000/k3_cog\n",
    "t4 = 1000/k4\n",
    "t5_cog = 1000/k5_cog\n",
    "t6_cog = 1000/k6_cog\n",
    "\n",
    "#Near-cognate kinetics\n",
    "k1r=718\n",
    "k2f=1475\n",
    "k2r_nr = 1120\n",
    "k3_nr = 6\n",
    "k4=209\n",
    "\n",
    "t2r_nr = 1000/k2r_nr\n",
    "t3_nr = 1000/k3_nr\n",
    "\n",
    "#Non-cognate kinetics\n",
    "k1r=718"
   ]
  },
  {
   "cell_type": "code",
   "execution_count": 10,
   "metadata": {},
   "outputs": [
    {
     "name": "stdout",
     "output_type": "stream",
     "text": [
      "1.3871834571507315\n",
      "0.6654345668683457\n",
      "476.37105150778655\n",
      "0.6569705162271943\n",
      "4.817620598402602\n",
      "5.010373257065323\n",
      "31.40871649725717\n",
      "0.8755426069227361\n",
      "165.29523708765146\n"
     ]
    }
   ],
   "source": [
    "np.random.seed(1)\n",
    "t1r_exp=np.random.exponential(t1r,size=4000)\n",
    "t2f_exp=np.random.exponential(t2f,size=4000)\n",
    "t2r_cog_exp=np.random.exponential(t2r_cog,size=4000)\n",
    "t3_cog_exp=np.random.exponential(t3_cog,size=4000)\n",
    "t4_exp=np.random.exponential(t4,size=4000)\n",
    "t5_cog_exp=np.random.exponential(t5_cog,size=4000)\n",
    "t6_cog_exp = np.random.exponential(t6_cog,size=4000)\n",
    "\n",
    "t2r_nr_exp=np.random.exponential(t2r_nr,size=4000)\n",
    "t3_nr_exp=np.random.exponential(t3_nr,size=4000)\n",
    "\n",
    "print(np.average(t1r_exp))\n",
    "print(np.average(t2f_exp))\n",
    "print(np.average(t2r_cog_exp))\n",
    "print(np.average(t3_cog_exp))\n",
    "print(np.average(t4_exp))\n",
    "print(np.average(t5_cog_exp))\n",
    "print(np.average(t6_cog_exp))\n",
    "\n",
    "print(np.average(t2r_nr_exp))\n",
    "print(np.average(t3_nr_exp))"
   ]
  },
  {
   "cell_type": "code",
   "execution_count": 22,
   "metadata": {},
   "outputs": [
    {
     "name": "stdout",
     "output_type": "stream",
     "text": [
      "6782\n",
      "6768\n",
      "42.76463812945484\n",
      "0.8894555061562124\n",
      "0.6768\n"
     ]
    },
    {
     "data": {
      "text/plain": [
       "Text(0.5, 1.0, 'Cognate (Succesful)')"
      ]
     },
     "execution_count": 22,
     "metadata": {},
     "output_type": "execute_result"
    },
    {
     "data": {
      "image/png": "[encoded data removed]",
      "text/plain": [
       "<Figure size 432x288 with 1 Axes>"
      ]
     },
     "metadata": {
      "needs_background": "light"
     },
     "output_type": "display_data"
    }
   ],
   "source": [
    "#Cognate calculation (distribution pulling from exponential)\n",
    "\n",
    "dwelltime_cog_success = list()\n",
    "dwelltime_cog_fail = list()\n",
    "count = 0\n",
    "count1 = 0\n",
    "\n",
    "for i in range(10000):\n",
    "    dwell_t = 0\n",
    "    state=1\n",
    "    while state != 0 and state != 3:\n",
    "        dwell_t1r = np.random.choice(t1r_exp)\n",
    "        dwell_t2f = np.random.choice(t2f_exp)\n",
    "        if state==1:\n",
    "            if dwell_t1r<dwell_t2f:\n",
    "                dwell_t+=dwell_t1r\n",
    "                dwelltime_cog_fail.append(dwell_t)\n",
    "                state=0\n",
    "                continue;\n",
    "            else:\n",
    "                dwell_t+=dwell_t2f\n",
    "                state = 2\n",
    "                \n",
    "        if state==2:\n",
    "            count+=1\n",
    "            dwell_t2r_cog = np.random.choice(t2r_cog_exp)\n",
    "            dwell_t3_cog = np.random.choice(t3_cog_exp)\n",
    "            if dwell_t2r_cog<dwell_t3_cog:\n",
    "                dwell_t+= t2r_cog\n",
    "                state = 1\n",
    "            else:\n",
    "                count1+=1\n",
    "                dwell_t += dwell_t3_cog\n",
    "                state = 3\n",
    "        \n",
    "        if state==3:\n",
    "            dwell_t+=np.random.choice(t4_exp)+np.random.choice(t5_cog_exp)+np.random.choice(t6_cog_exp)\n",
    "            \n",
    "    if state!=0: dwelltime_cog_success.append(dwell_t)\n",
    "\n",
    "print(count)\n",
    "print(count1)\n",
    "plt.hist(dwelltime_cog_success,bins=100,density=True)\n",
    "print(np.mean(dwelltime_cog_success))\n",
    "print(np.mean(dwelltime_cog_fail))\n",
    "print(len(dwelltime_cog_success)/(len(dwelltime_cog_success)+len(dwelltime_cog_fail)))\n",
    "plt.title('Cognate (Succesful)')"
   ]
  },
  {
   "cell_type": "code",
   "execution_count": 19,
   "metadata": {},
   "outputs": [
    {
     "data": {
      "text/plain": [
       "Text(0.5, 1.0, 'Cognate (Unsuccesful)')"
      ]
     },
     "execution_count": 19,
     "metadata": {},
     "output_type": "execute_result"
    },
    {
     "data": {
      "image/png": "[encoded data removed]",
      "text/plain": [
       "<Figure size 432x288 with 1 Axes>"
      ]
     },
     "metadata": {
      "needs_background": "light"
     },
     "output_type": "display_data"
    }
   ],
   "source": [
    "plt.hist(dwelltime_cog_fail,bins=100,density=True);\n",
    "plt.title('Cognate (Unsuccessful)')"
   ]
  },
  {
   "cell_type": "code",
   "execution_count": 31,
   "metadata": {},
   "outputs": [
    {
     "name": "stdout",
     "output_type": "stream",
     "text": [
      "3.186132436345184\n",
      "3.611795427981895\n"
     ]
    },
    {
     "name": "stderr",
     "output_type": "stream",
     "text": [
      "/Users/akshay/opt/anaconda3/lib/python3.7/site-packages/ipykernel_launcher.py:32: MatplotlibDeprecationWarning: \n",
      "The 'normed' kwarg was deprecated in Matplotlib 2.1 and will be removed in 3.1. Use 'density' instead.\n"
     ]
    },
    {
     "data": {
      "text/plain": [
       "Text(0.5, 1.0, 'Near-cognate (unsuccesful)')"
      ]
     },
     "execution_count": 31,
     "metadata": {},
     "output_type": "execute_result"
    },
    {
     "data": {
      "image/png": "[encoded data removed]",
      "text/plain": [
       "<Figure size 432x288 with 1 Axes>"
      ]
     },
     "metadata": {
      "needs_background": "light"
     },
     "output_type": "display_data"
    }
   ],
   "source": [
    "#Near-cognate calculation\n",
    "dwelltime_nr_success = list()\n",
    "dwelltime_nr_fail = list()\n",
    "\n",
    "for i in range(10000):\n",
    "    dwell_t = 0\n",
    "    state=1\n",
    "    while state != 0 and state != 3:\n",
    "        dwell_t1r = np.random.choice(t1r_exp)\n",
    "        dwell_t2f = np.random.choice(t2f_exp)\n",
    "        if state==1:\n",
    "            if dwell_t1r<dwell_t2f: \n",
    "                dwell_t+=dwell_t1r\n",
    "                dwelltime_nr_fail.append(dwell_t)\n",
    "                state=0\n",
    "            else:\n",
    "                dwell_t+=dwell_t2f\n",
    "                state = 2\n",
    "                \n",
    "        if state==2:\n",
    "            dwell_t2r_nr = np.random.choice(t2r_nr_exp)\n",
    "            dwell_t3_nr = np.random.choice(t3_nr_exp)\n",
    "            if dwell_t2r_nr < dwell_t3_nr:\n",
    "                dwell_t+= dwell_t2r_nr\n",
    "                state = 1\n",
    "            else:\n",
    "                dwell_t += dwell_t3_nr\n",
    "                state = 3\n",
    "                dwelltime_nr_success.append(dwell_t)\n",
    "                \n",
    "\n",
    "plt.hist(dwelltime_nr_fail,bins=100,normed=True)\n",
    "print(np.mean(dwelltime_nr_fail))\n",
    "print(np.std(dwelltime_nr_fail))\n",
    "plt.title('Near-cognate (Unsuccessful)')"
   ]
  },
  {
   "cell_type": "code",
   "execution_count": 32,
   "metadata": {},
   "outputs": [
    {
     "name": "stdout",
     "output_type": "stream",
     "text": [
      "1.3922751322749292\n"
     ]
    },
    {
     "name": "stderr",
     "output_type": "stream",
     "text": [
      "/Users/akshay/opt/anaconda3/lib/python3.7/site-packages/ipykernel_launcher.py:4: MatplotlibDeprecationWarning: \n",
      "The 'normed' kwarg was deprecated in Matplotlib 2.1 and will be removed in 3.1. Use 'density' instead.\n",
      "  after removing the cwd from sys.path.\n"
     ]
    },
    {
     "data": {
      "text/plain": [
       "Text(0.5, 1.0, 'Non-cognate (Unsuccessful)')"
      ]
     },
     "execution_count": 32,
     "metadata": {},
     "output_type": "execute_result"
    },
    {
     "data": {
      "image/png": "[encoded data removed]",
      "text/plain": [
       "<Figure size 432x288 with 1 Axes>"
      ]
     },
     "metadata": {
      "needs_background": "light"
     },
     "output_type": "display_data"
    }
   ],
   "source": [
    "#Non-cognate calculation (distribution pulling from exponential)\n",
    "\n",
    "t1rdist=(np.random.exponential(t1r,size=1000000))\n",
    "plt.hist(t1rdist,bins=100,normed=True)\n",
    "print(np.average(t1rdist))\n",
    "plt.title('Non-cognate (Unsuccessful)')"
   ]
  },
  {
   "cell_type": "code",
   "execution_count": null,
   "metadata": {},
   "outputs": [],
   "source": [
    "fig = plt.figure(figsize=(20,5))\n",
    "fig.suptitle(\"Distribution of dwell times for cognate, near-cognate, and non-cognate tRNAs\")\n",
    "\n",
    "plt.subplot(1,3,1)\n",
    "plt.hist(dwelltime_cog_success,bins=100,normed=True)\n",
    "plt.title(\"Cognate (Succesful)\")\n",
    "\n",
    "plt.subplot(1,3,1)\n",
    "plt.hist(dwelltime_cog_success,bins=100,normed=True)\n",
    "plt.title(\"Cognate (Succesful)\")\n",
    "\n",
    "plt.subplot(1,3,2)\n",
    "plt.hist(dwelltime_nr_fail,bins=100,normed=True)\n",
    "plt.title(\"Near cognates (Unsuccesful)\")\n",
    "#plt.subplot(1,4,3)\n",
    "#plt.hist(dwelltime_nr_success,bins=100,normed=True)\n",
    "#plt.title(\"Near cognates (Succesful)\")\n",
    "plt.subplot(1,3,3)\n",
    "plt.hist(t1rdist,bins=100,normed=True)\n",
    "plt.title(\"Non-cognates (Unsuccesful)\")\n",
    "\n",
    "fig.text(0.5, 0.04, 'Dwell time (ms)', ha='center')\n",
    "fig.text(0.07, 0.5, 'Probability density', va='center', rotation='vertical')\n",
    "\n",
    "\n",
    "print(\"Average cognate dwell time (successful):\", round(np.average(dwelltime_cog_success),1), \" ms\")\n",
    "print(\"Average cognate dwell time (unsucessful):\", round(np.average(dwelltime_cog_fail),1), \" ms\")\n",
    "print(\"Proportion of succesful cognate incorporation vs. attempts: \",round(len(dwelltime_cog_success)/(len(dwelltime_cog_success)+len(dwelltime_cog_fail)),2))\n",
    "print(\"Average near cognate dwell time (unsuccesful)\", round(np.average(dwelltime_nr_fail),1),\" ms\")\n",
    "print(\"Average non-cognate dwell time (unsuccesful)\", round(np.average(t1rdist),1), \"ms\")"
   ]
  }
 ],
 "metadata": {
  "kernelspec": {
   "display_name": "Python 3",
   "language": "python",
   "name": "python3"
  },
  "language_info": {
   "codemirror_mode": {
    "name": "ipython",
    "version": 3
   },
   "file_extension": ".py",
   "mimetype": "text/x-python",
   "name": "python",
   "nbconvert_exporter": "python",
   "pygments_lexer": "ipython3",
   "version": "3.7.4"
  }
 },
 "nbformat": 4,
 "nbformat_minor": 2
}
