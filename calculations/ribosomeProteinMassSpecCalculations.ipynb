{
 "cells": [
  {
   "cell_type": "code",
   "execution_count": 2,
   "metadata": {
    "collapsed": false
   },
   "outputs": [],
   "source": [
    "import pandas as pd\n",
    "import numpy as np"
   ]
  },
  {
   "cell_type": "code",
   "execution_count": 3,
   "metadata": {
    "collapsed": false
   },
   "outputs": [],
   "source": [
    "df=pd.read_excel('MassSpec_table5.xlsx')"
   ]
  },
  {
   "cell_type": "code",
   "execution_count": 4,
   "metadata": {
    "collapsed": false
   },
   "outputs": [],
   "source": [
    "df.rename(columns={'Unnamed: 1': 'ProtDescrip','Unnamed: 6': 'MW', 'Unnamed: 7': 'glucCount'}, inplace=True)"
   ]
  },
  {
   "cell_type": "code",
   "execution_count": 5,
   "metadata": {
    "collapsed": false
   },
   "outputs": [],
   "source": [
    "df=df[['ProtDescrip','MW','glucCount']]\n",
    "df = df.iloc[1:2060]"
   ]
  },
  {
   "cell_type": "code",
   "execution_count": 6,
   "metadata": {
    "collapsed": false
   },
   "outputs": [
    {
     "data": {
      "text/html": [
       "<div>\n",
       "<style scoped>\n",
       "    .dataframe tbody tr th:only-of-type {\n",
       "        vertical-align: middle;\n",
       "    }\n",
       "\n",
       "    .dataframe tbody tr th {\n",
       "        vertical-align: top;\n",
       "    }\n",
       "\n",
       "    .dataframe thead th {\n",
       "        text-align: right;\n",
       "    }\n",
       "</style>\n",
       "<table border=\"1\" class=\"dataframe\">\n",
       "  <thead>\n",
       "    <tr style=\"text-align: right;\">\n",
       "      <th></th>\n",
       "      <th>ProtDescrip</th>\n",
       "      <th>MW</th>\n",
       "      <th>glucCount</th>\n",
       "    </tr>\n",
       "  </thead>\n",
       "  <tbody>\n",
       "    <tr>\n",
       "      <th>86</th>\n",
       "      <td>50S ribosomal protein L2 OS=Escherichia coli (...</td>\n",
       "      <td>29824</td>\n",
       "      <td>14190.9</td>\n",
       "    </tr>\n",
       "    <tr>\n",
       "      <th>172</th>\n",
       "      <td>50S ribosomal protein L5 OS=Escherichia coli (...</td>\n",
       "      <td>20270.7</td>\n",
       "      <td>31769.3</td>\n",
       "    </tr>\n",
       "    <tr>\n",
       "      <th>201</th>\n",
       "      <td>50S ribosomal protein L1 OS=Escherichia coli (...</td>\n",
       "      <td>24696.3</td>\n",
       "      <td>28501.7</td>\n",
       "    </tr>\n",
       "    <tr>\n",
       "      <th>275</th>\n",
       "      <td>50S ribosomal protein L3 OS=Escherichia coli (...</td>\n",
       "      <td>22211.8</td>\n",
       "      <td>16502.4</td>\n",
       "    </tr>\n",
       "    <tr>\n",
       "      <th>376</th>\n",
       "      <td>50S ribosomal protein L6 OS=Escherichia coli (...</td>\n",
       "      <td>18874.2</td>\n",
       "      <td>18103.8</td>\n",
       "    </tr>\n",
       "    <tr>\n",
       "      <th>482</th>\n",
       "      <td>50S ribosomal protein L25 OS=Escherichia coli ...</td>\n",
       "      <td>10668.7</td>\n",
       "      <td>20176.3</td>\n",
       "    </tr>\n",
       "    <tr>\n",
       "      <th>490</th>\n",
       "      <td>50S ribosomal protein L11 OS=Escherichia coli ...</td>\n",
       "      <td>14847.9</td>\n",
       "      <td>11140</td>\n",
       "    </tr>\n",
       "    <tr>\n",
       "      <th>550</th>\n",
       "      <td>50S ribosomal protein L24 OS=Escherichia coli ...</td>\n",
       "      <td>11291.3</td>\n",
       "      <td>49826.2</td>\n",
       "    </tr>\n",
       "    <tr>\n",
       "      <th>551</th>\n",
       "      <td>50S ribosomal protein L4 OS=Escherichia coli (...</td>\n",
       "      <td>22054.9</td>\n",
       "      <td>21083.7</td>\n",
       "    </tr>\n",
       "    <tr>\n",
       "      <th>553</th>\n",
       "      <td>50S ribosomal protein L17 OS=Escherichia coli ...</td>\n",
       "      <td>14337.6</td>\n",
       "      <td>18397.5</td>\n",
       "    </tr>\n",
       "    <tr>\n",
       "      <th>558</th>\n",
       "      <td>50S ribosomal protein L14 OS=Escherichia coli ...</td>\n",
       "      <td>13514.4</td>\n",
       "      <td>7097.95</td>\n",
       "    </tr>\n",
       "    <tr>\n",
       "      <th>633</th>\n",
       "      <td>50S ribosomal protein L10 OS=Escherichia coli ...</td>\n",
       "      <td>17682.4</td>\n",
       "      <td>34448.1</td>\n",
       "    </tr>\n",
       "    <tr>\n",
       "      <th>634</th>\n",
       "      <td>50S ribosomal protein L13 OS=Escherichia coli ...</td>\n",
       "      <td>15990.5</td>\n",
       "      <td>31491.8</td>\n",
       "    </tr>\n",
       "    <tr>\n",
       "      <th>645</th>\n",
       "      <td>50S ribosomal protein L19 OS=Escherichia coli ...</td>\n",
       "      <td>13107.2</td>\n",
       "      <td>5503.06</td>\n",
       "    </tr>\n",
       "    <tr>\n",
       "      <th>710</th>\n",
       "      <td>50S ribosomal protein L7/L12 OS=Escherichia co...</td>\n",
       "      <td>12269.5</td>\n",
       "      <td>61706.5</td>\n",
       "    </tr>\n",
       "    <tr>\n",
       "      <th>711</th>\n",
       "      <td>50S ribosomal protein L9 OS=Escherichia coli (...</td>\n",
       "      <td>15741.5</td>\n",
       "      <td>34888.8</td>\n",
       "    </tr>\n",
       "    <tr>\n",
       "      <th>729</th>\n",
       "      <td>50S ribosomal protein L30 OS=Escherichia coli ...</td>\n",
       "      <td>6519.63</td>\n",
       "      <td>8297.79</td>\n",
       "    </tr>\n",
       "    <tr>\n",
       "      <th>731</th>\n",
       "      <td>50S ribosomal protein L28 OS=Escherichia coli ...</td>\n",
       "      <td>8982.86</td>\n",
       "      <td>9795.06</td>\n",
       "    </tr>\n",
       "    <tr>\n",
       "      <th>792</th>\n",
       "      <td>50S ribosomal protein L22 OS=Escherichia coli ...</td>\n",
       "      <td>12200.8</td>\n",
       "      <td>49716.9</td>\n",
       "    </tr>\n",
       "    <tr>\n",
       "      <th>798</th>\n",
       "      <td>50S ribosomal protein L31 OS=Escherichia coli ...</td>\n",
       "      <td>7847.91</td>\n",
       "      <td>8140.58</td>\n",
       "    </tr>\n",
       "    <tr>\n",
       "      <th>802</th>\n",
       "      <td>50S ribosomal protein L15 OS=Escherichia coli ...</td>\n",
       "      <td>14953.3</td>\n",
       "      <td>6986.01</td>\n",
       "    </tr>\n",
       "    <tr>\n",
       "      <th>1057</th>\n",
       "      <td>50S ribosomal protein L16 OS=Escherichia coli ...</td>\n",
       "      <td>15253.4</td>\n",
       "      <td>33115.2</td>\n",
       "    </tr>\n",
       "    <tr>\n",
       "      <th>1062</th>\n",
       "      <td>50S ribosomal protein L21 OS=Escherichia coli ...</td>\n",
       "      <td>11539.2</td>\n",
       "      <td>7357.86</td>\n",
       "    </tr>\n",
       "    <tr>\n",
       "      <th>1064</th>\n",
       "      <td>50S ribosomal protein L18 OS=Escherichia coli ...</td>\n",
       "      <td>12743.9</td>\n",
       "      <td>6145.81</td>\n",
       "    </tr>\n",
       "    <tr>\n",
       "      <th>1203</th>\n",
       "      <td>50S ribosomal protein L29 OS=Escherichia coli ...</td>\n",
       "      <td>7250.97</td>\n",
       "      <td>52939</td>\n",
       "    </tr>\n",
       "    <tr>\n",
       "      <th>1208</th>\n",
       "      <td>50S ribosomal protein L27 OS=Escherichia coli ...</td>\n",
       "      <td>9100.87</td>\n",
       "      <td>23305.1</td>\n",
       "    </tr>\n",
       "    <tr>\n",
       "      <th>1209</th>\n",
       "      <td>50S ribosomal protein L33 OS=Escherichia coli ...</td>\n",
       "      <td>6349.61</td>\n",
       "      <td>27959.9</td>\n",
       "    </tr>\n",
       "    <tr>\n",
       "      <th>1210</th>\n",
       "      <td>50S ribosomal protein L32 OS=Escherichia coli ...</td>\n",
       "      <td>6424.42</td>\n",
       "      <td>26636.1</td>\n",
       "    </tr>\n",
       "    <tr>\n",
       "      <th>1218</th>\n",
       "      <td>50S ribosomal protein L20 OS=Escherichia coli ...</td>\n",
       "      <td>13470.7</td>\n",
       "      <td>3576.75</td>\n",
       "    </tr>\n",
       "    <tr>\n",
       "      <th>1228</th>\n",
       "      <td>50S ribosomal protein L23 OS=Escherichia coli ...</td>\n",
       "      <td>11174.2</td>\n",
       "      <td>1877.19</td>\n",
       "    </tr>\n",
       "    <tr>\n",
       "      <th>1530</th>\n",
       "      <td>50S ribosomal protein L34 OS=Escherichia coli ...</td>\n",
       "      <td>5359.07</td>\n",
       "      <td>14566</td>\n",
       "    </tr>\n",
       "    <tr>\n",
       "      <th>1780</th>\n",
       "      <td>50S ribosomal protein L36 OS=Escherichia coli ...</td>\n",
       "      <td>4343.44</td>\n",
       "      <td>150.554</td>\n",
       "    </tr>\n",
       "    <tr>\n",
       "      <th>1812</th>\n",
       "      <td>50S ribosomal protein L35 OS=Escherichia coli ...</td>\n",
       "      <td>7266.26</td>\n",
       "      <td>85.6688</td>\n",
       "    </tr>\n",
       "  </tbody>\n",
       "</table>\n",
       "</div>"
      ],
      "text/plain": [
       "                                            ProtDescrip       MW glucCount\n",
       "86    50S ribosomal protein L2 OS=Escherichia coli (...    29824   14190.9\n",
       "172   50S ribosomal protein L5 OS=Escherichia coli (...  20270.7   31769.3\n",
       "201   50S ribosomal protein L1 OS=Escherichia coli (...  24696.3   28501.7\n",
       "275   50S ribosomal protein L3 OS=Escherichia coli (...  22211.8   16502.4\n",
       "376   50S ribosomal protein L6 OS=Escherichia coli (...  18874.2   18103.8\n",
       "482   50S ribosomal protein L25 OS=Escherichia coli ...  10668.7   20176.3\n",
       "490   50S ribosomal protein L11 OS=Escherichia coli ...  14847.9     11140\n",
       "550   50S ribosomal protein L24 OS=Escherichia coli ...  11291.3   49826.2\n",
       "551   50S ribosomal protein L4 OS=Escherichia coli (...  22054.9   21083.7\n",
       "553   50S ribosomal protein L17 OS=Escherichia coli ...  14337.6   18397.5\n",
       "558   50S ribosomal protein L14 OS=Escherichia coli ...  13514.4   7097.95\n",
       "633   50S ribosomal protein L10 OS=Escherichia coli ...  17682.4   34448.1\n",
       "634   50S ribosomal protein L13 OS=Escherichia coli ...  15990.5   31491.8\n",
       "645   50S ribosomal protein L19 OS=Escherichia coli ...  13107.2   5503.06\n",
       "710   50S ribosomal protein L7/L12 OS=Escherichia co...  12269.5   61706.5\n",
       "711   50S ribosomal protein L9 OS=Escherichia coli (...  15741.5   34888.8\n",
       "729   50S ribosomal protein L30 OS=Escherichia coli ...  6519.63   8297.79\n",
       "731   50S ribosomal protein L28 OS=Escherichia coli ...  8982.86   9795.06\n",
       "792   50S ribosomal protein L22 OS=Escherichia coli ...  12200.8   49716.9\n",
       "798   50S ribosomal protein L31 OS=Escherichia coli ...  7847.91   8140.58\n",
       "802   50S ribosomal protein L15 OS=Escherichia coli ...  14953.3   6986.01\n",
       "1057  50S ribosomal protein L16 OS=Escherichia coli ...  15253.4   33115.2\n",
       "1062  50S ribosomal protein L21 OS=Escherichia coli ...  11539.2   7357.86\n",
       "1064  50S ribosomal protein L18 OS=Escherichia coli ...  12743.9   6145.81\n",
       "1203  50S ribosomal protein L29 OS=Escherichia coli ...  7250.97     52939\n",
       "1208  50S ribosomal protein L27 OS=Escherichia coli ...  9100.87   23305.1\n",
       "1209  50S ribosomal protein L33 OS=Escherichia coli ...  6349.61   27959.9\n",
       "1210  50S ribosomal protein L32 OS=Escherichia coli ...  6424.42   26636.1\n",
       "1218  50S ribosomal protein L20 OS=Escherichia coli ...  13470.7   3576.75\n",
       "1228  50S ribosomal protein L23 OS=Escherichia coli ...  11174.2   1877.19\n",
       "1530  50S ribosomal protein L34 OS=Escherichia coli ...  5359.07     14566\n",
       "1780  50S ribosomal protein L36 OS=Escherichia coli ...  4343.44   150.554\n",
       "1812  50S ribosomal protein L35 OS=Escherichia coli ...  7266.26   85.6688"
      ]
     },
     "execution_count": 6,
     "metadata": {},
     "output_type": "execute_result"
    }
   ],
   "source": [
    "df[df['ProtDescrip'].str.contains(\"50S ribosomal\")]"
   ]
  },
  {
   "cell_type": "code",
   "execution_count": 7,
   "metadata": {
    "collapsed": false
   },
   "outputs": [
    {
     "data": {
      "text/html": [
       "<div>\n",
       "<style scoped>\n",
       "    .dataframe tbody tr th:only-of-type {\n",
       "        vertical-align: middle;\n",
       "    }\n",
       "\n",
       "    .dataframe tbody tr th {\n",
       "        vertical-align: top;\n",
       "    }\n",
       "\n",
       "    .dataframe thead th {\n",
       "        text-align: right;\n",
       "    }\n",
       "</style>\n",
       "<table border=\"1\" class=\"dataframe\">\n",
       "  <thead>\n",
       "    <tr style=\"text-align: right;\">\n",
       "      <th></th>\n",
       "      <th>ProtDescrip</th>\n",
       "      <th>MW</th>\n",
       "      <th>glucCount</th>\n",
       "    </tr>\n",
       "  </thead>\n",
       "  <tbody>\n",
       "    <tr>\n",
       "      <th>22</th>\n",
       "      <td>30S ribosomal protein S1 OS=Escherichia coli (...</td>\n",
       "      <td>61102.7</td>\n",
       "      <td>23797.1</td>\n",
       "    </tr>\n",
       "    <tr>\n",
       "      <th>135</th>\n",
       "      <td>30S ribosomal protein S2 OS=Escherichia coli (...</td>\n",
       "      <td>26708.8</td>\n",
       "      <td>29156.4</td>\n",
       "    </tr>\n",
       "    <tr>\n",
       "      <th>226</th>\n",
       "      <td>30S ribosomal protein S3 OS=Escherichia coli (...</td>\n",
       "      <td>25949.2</td>\n",
       "      <td>15952.2</td>\n",
       "    </tr>\n",
       "    <tr>\n",
       "      <th>247</th>\n",
       "      <td>30S ribosomal protein S7 OS=Escherichia coli (...</td>\n",
       "      <td>19988.7</td>\n",
       "      <td>54021.7</td>\n",
       "    </tr>\n",
       "    <tr>\n",
       "      <th>252</th>\n",
       "      <td>30S ribosomal protein S4 OS=Escherichia coli (...</td>\n",
       "      <td>23436.6</td>\n",
       "      <td>13608.4</td>\n",
       "    </tr>\n",
       "    <tr>\n",
       "      <th>302</th>\n",
       "      <td>30S ribosomal protein S6 OS=Escherichia coli (...</td>\n",
       "      <td>15675.6</td>\n",
       "      <td>17452</td>\n",
       "    </tr>\n",
       "    <tr>\n",
       "      <th>303</th>\n",
       "      <td>30S ribosomal protein S5 OS=Escherichia coli (...</td>\n",
       "      <td>17574.3</td>\n",
       "      <td>18042.3</td>\n",
       "    </tr>\n",
       "    <tr>\n",
       "      <th>431</th>\n",
       "      <td>30S ribosomal protein S8 OS=Escherichia coli (...</td>\n",
       "      <td>14099.5</td>\n",
       "      <td>22152.3</td>\n",
       "    </tr>\n",
       "    <tr>\n",
       "      <th>492</th>\n",
       "      <td>30S ribosomal protein S9 OS=Escherichia coli (...</td>\n",
       "      <td>14829</td>\n",
       "      <td>8821.47</td>\n",
       "    </tr>\n",
       "    <tr>\n",
       "      <th>549</th>\n",
       "      <td>30S ribosomal protein S10 OS=Escherichia coli ...</td>\n",
       "      <td>11710.4</td>\n",
       "      <td>39792</td>\n",
       "    </tr>\n",
       "    <tr>\n",
       "      <th>555</th>\n",
       "      <td>30S ribosomal protein S13 OS=Escherichia coli ...</td>\n",
       "      <td>13073.3</td>\n",
       "      <td>23449.5</td>\n",
       "    </tr>\n",
       "    <tr>\n",
       "      <th>921</th>\n",
       "      <td>30S ribosomal protein S19 OS=Escherichia coli ...</td>\n",
       "      <td>10405.7</td>\n",
       "      <td>19008.1</td>\n",
       "    </tr>\n",
       "    <tr>\n",
       "      <th>922</th>\n",
       "      <td>30S ribosomal protein S21 OS=Escherichia coli ...</td>\n",
       "      <td>8476.72</td>\n",
       "      <td>28385.3</td>\n",
       "    </tr>\n",
       "    <tr>\n",
       "      <th>1056</th>\n",
       "      <td>30S ribosomal protein S16 OS=Escherichia coli ...</td>\n",
       "      <td>9166.94</td>\n",
       "      <td>65081.7</td>\n",
       "    </tr>\n",
       "    <tr>\n",
       "      <th>1058</th>\n",
       "      <td>30S ribosomal protein S20 OS=Escherichia coli ...</td>\n",
       "      <td>9660.31</td>\n",
       "      <td>28842.6</td>\n",
       "    </tr>\n",
       "    <tr>\n",
       "      <th>1060</th>\n",
       "      <td>30S ribosomal protein S11 OS=Escherichia coli ...</td>\n",
       "      <td>13818.4</td>\n",
       "      <td>10768.8</td>\n",
       "    </tr>\n",
       "    <tr>\n",
       "      <th>1065</th>\n",
       "      <td>30S ribosomal protein S12 OS=Escherichia coli ...</td>\n",
       "      <td>13710.5</td>\n",
       "      <td>2321.81</td>\n",
       "    </tr>\n",
       "    <tr>\n",
       "      <th>1199</th>\n",
       "      <td>30S ribosomal protein S15 OS=Escherichia coli ...</td>\n",
       "      <td>10244.5</td>\n",
       "      <td>33109.5</td>\n",
       "    </tr>\n",
       "    <tr>\n",
       "      <th>1211</th>\n",
       "      <td>30S ribosomal protein S17 OS=Escherichia coli ...</td>\n",
       "      <td>9680.27</td>\n",
       "      <td>4180.22</td>\n",
       "    </tr>\n",
       "    <tr>\n",
       "      <th>1216</th>\n",
       "      <td>30S ribosomal protein S14 OS=Escherichia coli ...</td>\n",
       "      <td>11555.3</td>\n",
       "      <td>10078.6</td>\n",
       "    </tr>\n",
       "    <tr>\n",
       "      <th>1361</th>\n",
       "      <td>30S ribosomal protein S18 OS=Escherichia coli ...</td>\n",
       "      <td>8962.84</td>\n",
       "      <td>25415.9</td>\n",
       "    </tr>\n",
       "  </tbody>\n",
       "</table>\n",
       "</div>"
      ],
      "text/plain": [
       "                                            ProtDescrip       MW glucCount\n",
       "22    30S ribosomal protein S1 OS=Escherichia coli (...  61102.7   23797.1\n",
       "135   30S ribosomal protein S2 OS=Escherichia coli (...  26708.8   29156.4\n",
       "226   30S ribosomal protein S3 OS=Escherichia coli (...  25949.2   15952.2\n",
       "247   30S ribosomal protein S7 OS=Escherichia coli (...  19988.7   54021.7\n",
       "252   30S ribosomal protein S4 OS=Escherichia coli (...  23436.6   13608.4\n",
       "302   30S ribosomal protein S6 OS=Escherichia coli (...  15675.6     17452\n",
       "303   30S ribosomal protein S5 OS=Escherichia coli (...  17574.3   18042.3\n",
       "431   30S ribosomal protein S8 OS=Escherichia coli (...  14099.5   22152.3\n",
       "492   30S ribosomal protein S9 OS=Escherichia coli (...    14829   8821.47\n",
       "549   30S ribosomal protein S10 OS=Escherichia coli ...  11710.4     39792\n",
       "555   30S ribosomal protein S13 OS=Escherichia coli ...  13073.3   23449.5\n",
       "921   30S ribosomal protein S19 OS=Escherichia coli ...  10405.7   19008.1\n",
       "922   30S ribosomal protein S21 OS=Escherichia coli ...  8476.72   28385.3\n",
       "1056  30S ribosomal protein S16 OS=Escherichia coli ...  9166.94   65081.7\n",
       "1058  30S ribosomal protein S20 OS=Escherichia coli ...  9660.31   28842.6\n",
       "1060  30S ribosomal protein S11 OS=Escherichia coli ...  13818.4   10768.8\n",
       "1065  30S ribosomal protein S12 OS=Escherichia coli ...  13710.5   2321.81\n",
       "1199  30S ribosomal protein S15 OS=Escherichia coli ...  10244.5   33109.5\n",
       "1211  30S ribosomal protein S17 OS=Escherichia coli ...  9680.27   4180.22\n",
       "1216  30S ribosomal protein S14 OS=Escherichia coli ...  11555.3   10078.6\n",
       "1361  30S ribosomal protein S18 OS=Escherichia coli ...  8962.84   25415.9"
      ]
     },
     "execution_count": 7,
     "metadata": {},
     "output_type": "execute_result"
    }
   ],
   "source": [
    "df[df['ProtDescrip'].str.contains(\"30S ribosomal\")]"
   ]
  },
  {
   "cell_type": "code",
   "execution_count": 8,
   "metadata": {
    "collapsed": false
   },
   "outputs": [
    {
     "ename": "NameError",
     "evalue": "name 'rprot_arr' is not defined",
     "output_type": "error",
     "traceback": [
      "\u001b[0;31m---------------------------------------------------------------------------\u001b[0m",
      "\u001b[0;31mNameError\u001b[0m                                 Traceback (most recent call last)",
      "\u001b[0;32m<ipython-input-8-cf351aed6d90>\u001b[0m in \u001b[0;36m<module>\u001b[0;34m\u001b[0m\n\u001b[1;32m      1\u001b[0m \u001b[0mr30sprot_arr\u001b[0m \u001b[0;34m=\u001b[0m \u001b[0mnp\u001b[0m\u001b[0;34m.\u001b[0m\u001b[0marray\u001b[0m\u001b[0;34m(\u001b[0m\u001b[0;34m(\u001b[0m\u001b[0mdf\u001b[0m\u001b[0;34m[\u001b[0m\u001b[0mdf\u001b[0m\u001b[0;34m[\u001b[0m\u001b[0;34m'ProtDescrip'\u001b[0m\u001b[0;34m]\u001b[0m\u001b[0;34m.\u001b[0m\u001b[0mstr\u001b[0m\u001b[0;34m.\u001b[0m\u001b[0mcontains\u001b[0m\u001b[0;34m(\u001b[0m\u001b[0;34m\"30S ribosomal\"\u001b[0m\u001b[0;34m)\u001b[0m\u001b[0;34m]\u001b[0m\u001b[0;34m[\u001b[0m\u001b[0;34m'glucCount'\u001b[0m\u001b[0;34m]\u001b[0m\u001b[0;34m)\u001b[0m\u001b[0;34m)\u001b[0m\u001b[0;34m.\u001b[0m\u001b[0mastype\u001b[0m\u001b[0;34m(\u001b[0m\u001b[0;34m'float'\u001b[0m\u001b[0;34m)\u001b[0m\u001b[0;34m\u001b[0m\u001b[0;34m\u001b[0m\u001b[0m\n\u001b[1;32m      2\u001b[0m \u001b[0mr50sprot_arr\u001b[0m \u001b[0;34m=\u001b[0m \u001b[0mnp\u001b[0m\u001b[0;34m.\u001b[0m\u001b[0marray\u001b[0m\u001b[0;34m(\u001b[0m\u001b[0;34m(\u001b[0m\u001b[0mdf\u001b[0m\u001b[0;34m[\u001b[0m\u001b[0mdf\u001b[0m\u001b[0;34m[\u001b[0m\u001b[0;34m'ProtDescrip'\u001b[0m\u001b[0;34m]\u001b[0m\u001b[0;34m.\u001b[0m\u001b[0mstr\u001b[0m\u001b[0;34m.\u001b[0m\u001b[0mcontains\u001b[0m\u001b[0;34m(\u001b[0m\u001b[0;34m\"50S ribosomal\"\u001b[0m\u001b[0;34m)\u001b[0m\u001b[0;34m]\u001b[0m\u001b[0;34m[\u001b[0m\u001b[0;34m'glucCount'\u001b[0m\u001b[0;34m]\u001b[0m\u001b[0;34m)\u001b[0m\u001b[0;34m)\u001b[0m\u001b[0;34m.\u001b[0m\u001b[0mastype\u001b[0m\u001b[0;34m(\u001b[0m\u001b[0;34m'float'\u001b[0m\u001b[0;34m)\u001b[0m\u001b[0;34m[\u001b[0m\u001b[0;36m0\u001b[0m\u001b[0;34m:\u001b[0m\u001b[0;34m-\u001b[0m\u001b[0;36m2\u001b[0m\u001b[0;34m]\u001b[0m\u001b[0;34m\u001b[0m\u001b[0;34m\u001b[0m\u001b[0m\n\u001b[0;32m----> 3\u001b[0;31m \u001b[0mr50sprot_arr\u001b[0m\u001b[0;34m[\u001b[0m\u001b[0;34m(\u001b[0m\u001b[0mrprot_arr\u001b[0m \u001b[0;34m>\u001b[0m \u001b[0;36m61706\u001b[0m\u001b[0;34m)\u001b[0m \u001b[0;34m&\u001b[0m \u001b[0;34m(\u001b[0m\u001b[0mrprot_arr\u001b[0m\u001b[0;34m<\u001b[0m\u001b[0;36m61707\u001b[0m\u001b[0;34m)\u001b[0m\u001b[0;34m]\u001b[0m \u001b[0;34m=\u001b[0m \u001b[0;36m61707\u001b[0m\u001b[0;34m/\u001b[0m\u001b[0;36m4\u001b[0m \u001b[0;31m##Change L7/L12 to number of ribosomes via 4:1 stochiometry\u001b[0m\u001b[0;34m\u001b[0m\u001b[0;34m\u001b[0m\u001b[0m\n\u001b[0m",
      "\u001b[0;31mNameError\u001b[0m: name 'rprot_arr' is not defined"
     ]
    }
   ],
   "source": [
    "r30sprot_arr = np.array((df[df['ProtDescrip'].str.contains(\"30S ribosomal\")]['glucCount'])).astype('float')\n",
    "r50sprot_arr = np.array((df[df['ProtDescrip'].str.contains(\"50S ribosomal\")]['glucCount'])).astype('float')[0:-2]\n",
    "r50sprot_arr[(rprot_arr > 61706) & (rprot_arr<61707)] = 61707/4 ##Change L7/L12 to number of ribosomes via 4:1 stochiometry"
   ]
  },
  {
   "cell_type": "code",
   "execution_count": 9,
   "metadata": {
    "collapsed": false
   },
   "outputs": [
    {
     "data": {
      "text/plain": [
       "18524.47237212553"
      ]
     },
     "execution_count": 9,
     "metadata": {},
     "output_type": "execute_result"
    }
   ],
   "source": [
    "10**np.average(np.log10(r30sprot_arr))"
   ]
  },
  {
   "cell_type": "code",
   "execution_count": 157,
   "metadata": {
    "collapsed": false
   },
   "outputs": [
    {
     "data": {
      "text/plain": [
       "16415.041794832083"
      ]
     },
     "execution_count": 157,
     "metadata": {},
     "output_type": "execute_result"
    }
   ],
   "source": [
    "10**np.average(np.log10(r50sprot_arr))"
   ]
  },
  {
   "cell_type": "code",
   "execution_count": 162,
   "metadata": {
    "collapsed": false
   },
   "outputs": [
    {
     "data": {
      "text/plain": [
       "17236.35667226461"
      ]
     },
     "execution_count": 162,
     "metadata": {},
     "output_type": "execute_result"
    }
   ],
   "source": [
    "10**np.average(np.log10(np.concatenate((r30sprot_arr,r50sprot_arr))))"
   ]
  },
  {
   "cell_type": "code",
   "execution_count": 154,
   "metadata": {
    "collapsed": false
   },
   "outputs": [
    {
     "data": {
      "text/plain": [
       "array([ 14190.92380396,  31769.31351281,  28501.74710308,  16502.44602857,\n",
       "        18103.78513452,  20176.32012743,  11140.03012465,  49826.17401963,\n",
       "        21083.67839268,  18397.46214784,   7097.9518422 ,  34448.14559051,\n",
       "        31491.78038602,   5503.05600924,  61706.452103  ,  34888.77253142,\n",
       "         8297.79387968,   9795.0597979 ,  49716.94311193,   8140.58002815,\n",
       "         6986.00875063,  33115.17045082,   7357.86299319,   6145.80502457,\n",
       "        52938.96888949,  23305.1495246 ,  27959.87663584,  26636.05613471,\n",
       "         3576.75114264,   1877.19453303,  14566.02212835])"
      ]
     },
     "execution_count": 154,
     "metadata": {},
     "output_type": "execute_result"
    }
   ],
   "source": [
    "r50sprot_arr"
   ]
  },
  {
   "cell_type": "code",
   "execution_count": 160,
   "metadata": {
    "collapsed": false
   },
   "outputs": [
    {
     "data": {
      "text/plain": [
       "52"
      ]
     },
     "execution_count": 160,
     "metadata": {},
     "output_type": "execute_result"
    }
   ],
   "source": [
    "len(np.concatenate((r30sprot_arr,r50sprot_arr)))"
   ]
  },
  {
   "cell_type": "code",
   "execution_count": 17,
   "metadata": {
    "collapsed": false
   },
   "outputs": [
    {
     "data": {
      "text/plain": [
       "array([2.77851936e+03, 3.95743446e+03, 7.59554205e+03, ...,\n",
       "       1.07043543e+01, 1.61043509e+01, 2.47071195e+00])"
      ]
     },
     "execution_count": 17,
     "metadata": {},
     "output_type": "execute_result"
    }
   ],
   "source": []
  },
  {
   "cell_type": "code",
   "execution_count": 1,
   "metadata": {
    "collapsed": false
   },
   "outputs": [
    {
     "ename": "NameError",
     "evalue": "name 'df' is not defined",
     "output_type": "error",
     "traceback": [
      "\u001b[0;31m---------------------------------------------------------------------------\u001b[0m",
      "\u001b[0;31mNameError\u001b[0m                                 Traceback (most recent call last)",
      "\u001b[0;32m<ipython-input-1-00cf07b74dcd>\u001b[0m in \u001b[0;36m<module>\u001b[0;34m\u001b[0m\n\u001b[0;32m----> 1\u001b[0;31m \u001b[0mdf\u001b[0m\u001b[0;34m\u001b[0m\u001b[0;34m\u001b[0m\u001b[0m\n\u001b[0m",
      "\u001b[0;31mNameError\u001b[0m: name 'df' is not defined"
     ]
    }
   ],
   "source": [
    "df"
   ]
  },
  {
   "cell_type": "code",
   "execution_count": 56,
   "metadata": {
    "collapsed": false
   },
   "outputs": [
    {
     "name": "stdout",
     "output_type": "stream",
     "text": [
      "mean:  0.019979033446012685 median:  0.02032337675952646\n"
     ]
    },
    {
     "data": {
      "text/plain": [
       "Text(0.5, 0, 'Radius')"
      ]
     },
     "execution_count": 56,
     "metadata": {},
     "output_type": "execute_result"
    },
    {
     "data": {
      "image/png": "[encoded data removed]",
      "text/plain": [
       "<Figure size 432x288 with 1 Axes>"
      ]
     },
     "metadata": {
      "needs_background": "light"
     },
     "output_type": "display_data"
    }
   ],
   "source": [
    "import matplotlib.pyplot as plt\n",
    "%matplotlib inline\n",
    "\n",
    "df=pd.read_excel('crowderCalculation.xlsx')\n",
    "df=df[['Description','Molecular weight (Da)','Glucose']]\n",
    "df = df[~df['Description'].str.contains(\"30S ribosomal\")]\n",
    "df = df[~df['Description'].str.contains(\"50S ribosomal\")]\n",
    "df = df[~df['Description'].str.contains(\"Elongation factor Tu 1\")]\n",
    "\n",
    "proteindistrib =[]\n",
    "MWs = df['Molecular weight (Da)'].values\n",
    "r = [((3/4)*(1/3.1415)*((m/(6.022e20))/1.41)*1e12)**(1/3) for m in MWs]\n",
    "counts = df['Glucose'].values\n",
    "for i in range(len(df['Molecular weight (Da)'])):\n",
    "    #proteindistrib.append([MWs[i]]*int(counts[i]))\n",
    "    proteindistrib.append([r[i]]*int(counts[i]))\n",
    "\n",
    "proteindistrib = [j for i in proteindistrib for j in i]\n",
    "plt.hist(proteindistrib,bins=10)\n",
    "print(\"mean: \",np.mean(proteindistrib), \"median: \", np.median(proteindistrib))\n",
    "plt.title(\"E. coli protein size distribution\")\n",
    "plt.ylabel(\"Abundance\")\n",
    "plt.xlabel(\"Radius\")"
   ]
  },
  {
   "cell_type": "code",
   "execution_count": 11,
   "metadata": {
    "collapsed": false
   },
   "outputs": [
    {
     "name": "stdout",
     "output_type": "stream",
     "text": [
      "Glucose\n",
      "mean:  0.0019978986312149446 median:  0.0020323376759526384\n",
      "LB\n",
      "mean:  0.001980660210792158 median:  0.0019852521560375083\n",
      "Glycerol + AA\n",
      "mean:  0.0019927059521928775 median:  0.0020443010482336468\n",
      "Acetate\n",
      "mean:  0.0020151440906480437 median:  0.002086341447921341\n",
      "Fumarate\n",
      "mean:  0.0019951383427492097 median:  0.002052983093527671\n",
      "Glucosamine\n",
      "mean:  0.0019804025744395454 median:  0.0020218485501353714\n",
      "Glycerol\n",
      "mean:  0.001991972407244038 median:  0.0020323376759526384\n",
      "Pyruvate\n",
      "mean:  0.0020171569163485383 median:  0.0020698491698180038\n",
      "Xylose\n",
      "mean:  0.001998209916298332 median:  0.0020443010482336468\n",
      "Mannose\n",
      "mean:  0.0020029415351874836 median:  0.002052983093527671\n",
      "Galactose\n",
      "mean:  0.001994435521768466 median:  0.002056065159641895\n",
      "Succinate\n",
      "mean:  0.0020037849599374765 median:  0.0020534354260614653\n",
      "Fructose\n",
      "mean:  0.0020172456072983717 median:  0.0020698491698180038\n",
      "1.9990535897014987 0.01166981633909358\n",
      "2.0462988242201154 0.02429093169333908\n"
     ]
    },
    {
     "data": {
      "image/png": "[encoded data removed]",
      "text/plain": [
       "<Figure size 1440x720 with 14 Axes>"
      ]
     },
     "metadata": {
      "needs_background": "light"
     },
     "output_type": "display_data"
    }
   ],
   "source": [
    "import matplotlib.pyplot as plt\n",
    "%matplotlib inline\n",
    "#Glucose = 0.83, LB = 2.5, Glycerol + AA = 2, acetate = 0.43, fumarate = 0.59, \n",
    "#glucosamine = 0.67, glycerol = 0.67, pyruvate = 0.59, xylose = 0.77, mannose=0.67, galactose=0.37, succinate=0.63, fructose=0.9\n",
    "\n",
    "conditions=['Glucose','LB','Glycerol + AA','Acetate','Fumarate','Glucosamine','Glycerol','Pyruvate','Xylose', 'Mannose', 'Galactose', 'Succinate', 'Fructose']\n",
    "df=pd.read_excel('crowderCalculation.xlsx')\n",
    "df = df[~df['Description'].str.contains(\"30S ribosomal\")]\n",
    "df = df[~df['Description'].str.contains(\"50S ribosomal\")]\n",
    "df = df[~df['Description'].str.contains(\"Elongation factor Tu 1\")]\n",
    "\n",
    "\n",
    "MWs = df['Molecular weight (Da)'].values\n",
    "r = [((3/4)*(1/3.1415)*((m/(6.022e23))/(1.41+0.145*np.exp(-m*1e-3)))*1e12)**(1/3) for m in MWs]\n",
    "fig, ax = plt.subplots(7,2,figsize=(20,10))\n",
    "means = []\n",
    "medians = []\n",
    "for c_i,c in enumerate(conditions):\n",
    "    proteindistrib =[]\n",
    "    counts = df[conditions[c_i]].values\n",
    "    for i in range(len(df['Molecular weight (Da)'])):\n",
    "        #proteindistrib.append([MWs[i]]*int(counts[i]))\n",
    "        proteindistrib.append([r[i]]*int(counts[i]))\n",
    "    proteindistrib = np.array([j for i in proteindistrib for j in i])\n",
    "    ax[c_i%7,int(c_i/7)].hist(proteindistrib,bins=20,density=True)\n",
    "    print(c)\n",
    "    print(\"mean: \",np.mean(proteindistrib), \"median: \", np.median(proteindistrib))\n",
    "    means.append(np.mean(proteindistrib)*1000)\n",
    "    medians.append(np.median(proteindistrib)*1000)\n",
    "    plt.title(\"E. coli protein size distribution\")\n",
    "    plt.ylabel(\"Abundance\")\n",
    "    plt.xlabel(\"Radius\")\n",
    "print(np.mean(means),np.std(means))\n",
    "print(np.mean(medians),np.std(medians))"
   ]
  },
  {
   "cell_type": "code",
   "execution_count": 10,
   "metadata": {
    "collapsed": false
   },
   "outputs": [
    {
     "data": {
      "text/plain": [
       "5.8917871596175786e-05"
      ]
     },
     "execution_count": 10,
     "metadata": {},
     "output_type": "execute_result"
    }
   ],
   "source": [
    "import math\n",
    "m=55.642\n",
    "(1.41+0.145*math.exp(-m/(13)))-(m/(6.022*10**20))/(6.544*10**-8*10**-12)"
   ]
  },
  {
   "cell_type": "code",
   "execution_count": 124,
   "metadata": {
    "collapsed": false
   },
   "outputs": [
    {
     "name": "stdout",
     "output_type": "stream",
     "text": [
      "r:  0.002\n",
      "Volume:  3.35103216e-08\n",
      "Num aa: 258.6698281018472\n",
      "Mass:  28.453681091203194 KD\n"
     ]
    }
   ],
   "source": [
    "r = 0.002\n",
    "V = 4/3*3.14159265*r**3\n",
    "aa = (((V*10**-12)*1.41)*6.022e+20)/0.11\n",
    "m = aa*0.11\n",
    "\n",
    "print(\"r: \", r)\n",
    "print(\"Volume: \", V)\n",
    "print(\"Num aa:\", aa)\n",
    "print(\"Mass: \", m, \"KD\")"
   ]
  },
  {
   "cell_type": "code",
   "execution_count": 126,
   "metadata": {
    "collapsed": false
   },
   "outputs": [
    {
     "data": {
      "text/plain": [
       "263.8888888888889"
      ]
     },
     "execution_count": 126,
     "metadata": {},
     "output_type": "execute_result"
    }
   ],
   "source": [
    "28500/108"
   ]
  },
  {
   "cell_type": "code",
   "execution_count": null,
   "metadata": {
    "collapsed": false
   },
   "outputs": [],
   "source": []
  },
  {
   "cell_type": "code",
   "execution_count": null,
   "metadata": {
    "collapsed": true
   },
   "outputs": [],
   "source": []
  }
 ],
 "metadata": {
  "kernelspec": {
   "display_name": "Python 3",
   "language": "python",
   "name": "python3"
  },
  "language_info": {
   "codemirror_mode": {
    "name": "ipython",
    "version": 3
   },
   "file_extension": ".py",
   "mimetype": "text/x-python",
   "name": "python",
   "nbconvert_exporter": "python",
   "pygments_lexer": "ipython3",
   "version": "3.6.7"
  }
 },
 "nbformat": 4,
 "nbformat_minor": 2
}
