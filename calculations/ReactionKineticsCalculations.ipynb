{
 "cells": [
  {
   "cell_type": "code",
   "execution_count": 57,
   "metadata": {},
   "outputs": [],
   "source": [
    "import numpy as np\n",
    "import matplotlib.pyplot as plt\n",
    "%matplotlib inline\n",
    "\n",
    "#Cognate kinetics\n",
    "k1r=718\n",
    "k2f=1475\n",
    "k2r_cog=2.1\n",
    "k3_cog=1529\n",
    "k4=209\n",
    "k5_cog=200\n",
    "k6_cog = 32\n",
    "\n",
    "t1r = 1000/k1r\n",
    "t2f = 1000/k2f\n",
    "t2r_cog = 1000/k2r_cog\n",
    "t3_cog = 1000/k3_cog\n",
    "t4 = 1000/k4\n",
    "t5_cog = 1000/k5_cog\n",
    "t6_cog = 1000/k6_cog\n",
    "\n",
    "#Near-cognate kinetics\n",
    "k1r=718\n",
    "k2f=1475\n",
    "k2r_nr = 1120\n",
    "k3_nr = 6\n",
    "k4=209\n",
    "\n",
    "t2r_nr = 1000/k2r_nr\n",
    "t3_nr = 1000/k3_nr\n",
    "\n",
    "#Non-cognate kinetics\n",
    "k1r=718"
   ]
  },
  {
   "cell_type": "code",
   "execution_count": 58,
   "metadata": {},
   "outputs": [
    {
     "name": "stdout",
     "output_type": "stream",
     "text": [
      "1.3871834571507315\n",
      "0.6654345668683457\n",
      "476.37105150778655\n",
      "0.6569705162271943\n",
      "4.817620598402602\n",
      "5.010373257065323\n",
      "31.40871649725717\n",
      "0.8755426069227361\n",
      "165.29523708765146\n"
     ]
    }
   ],
   "source": [
    "np.random.seed(1)\n",
    "t1r_exp=np.random.exponential(t1r,size=4000)\n",
    "t2f_exp=np.random.exponential(t2f,size=4000)\n",
    "t2r_cog_exp=np.random.exponential(t2r_cog,size=4000)\n",
    "t3_cog_exp=np.random.exponential(t3_cog,size=4000)\n",
    "t4_exp=np.random.exponential(t4,size=4000)\n",
    "t5_cog_exp=np.random.exponential(t5_cog,size=4000)\n",
    "t6_cog_exp = np.random.exponential(t6_cog,size=4000)\n",
    "\n",
    "t2r_nr_exp=np.random.exponential(t2r_nr,size=4000)\n",
    "t3_nr_exp=np.random.exponential(t3_nr,size=4000)\n",
    "\n",
    "print(np.average(t1r_exp))\n",
    "print(np.average(t2f_exp))\n",
    "print(np.average(t2r_cog_exp))\n",
    "print(np.average(t3_cog_exp))\n",
    "print(np.average(t4_exp))\n",
    "print(np.average(t5_cog_exp))\n",
    "print(np.average(t6_cog_exp))\n",
    "\n",
    "print(np.average(t2r_nr_exp))\n",
    "print(np.average(t3_nr_exp))"
   ]
  },
  {
   "cell_type": "code",
   "execution_count": 56,
   "metadata": {},
   "outputs": [
    {
     "name": "stdout",
     "output_type": "stream",
     "text": [
      "67720\n",
      "67719\n",
      "43.35047043050423\n",
      "1.3758131711001464\n",
      "0.67719\n",
      "Probability of rejection after recognition 0.0\n"
     ]
    },
    {
     "data": {
      "text/plain": [
       "Text(0.5, 1.0, 'Cognate (Succesful)')"
      ]
     },
     "execution_count": 56,
     "metadata": {},
     "output_type": "execute_result"
    },
    {
     "data": {
      "image/png": "[encoded data removed]",
      "text/plain": [
       "<Figure size 432x288 with 1 Axes>"
      ]
     },
     "metadata": {
      "needs_background": "light"
     },
     "output_type": "display_data"
    }
   ],
   "source": [
    "#Cognate calculation including k\n",
    "\n",
    "dwelltime_cog_success = list()\n",
    "dwelltime_cog_fail = list()\n",
    "count = 0\n",
    "count1 = 0\n",
    "reject_after_recognition_count = 0\n",
    "N = 100000\n",
    "\n",
    "#Set include t2r true to compute the probability of rejection following codon recognition\n",
    "#Set include t2r false to compute the latency that we used in our simulation\n",
    "includet2r = True\n",
    "\n",
    "for i in range(N):\n",
    "    dwell_t = 0\n",
    "    state=1\n",
    "    codon_recognition = False\n",
    "\n",
    "    while state != 0 and state != 3:\n",
    "        dwell_t1r = np.random.choice(t1r_exp)\n",
    "        dwell_t2f = np.random.choice(t2f_exp)\n",
    "        if state==1:\n",
    "            if dwell_t1r<dwell_t2f:\n",
    "                dwell_t+=np.random.choice(t1r_exp)\n",
    "                dwelltime_cog_fail.append(dwell_t)\n",
    "                state=0\n",
    "                if codon_recognition:\n",
    "                    reject_after_recognition_count +=1\n",
    "                continue;\n",
    "            else:\n",
    "                dwell_t+=np.random.choice(t2f_exp)\n",
    "                state = 2\n",
    "                codon_recognition = True\n",
    "                \n",
    "        if state==2:\n",
    "            count+=1\n",
    "            dwell_t2r_cog = np.random.choice(t2r_cog_exp)\n",
    "            dwell_t3_cog = np.random.choice(t3_cog_exp)\n",
    "            if dwell_t2r_cog<dwell_t3_cog:\n",
    "                if includet2r:\n",
    "                    dwell_t+= np.random.choice(t2r_cog_exp)\n",
    "                    state = 1\n",
    "                else:\n",
    "                    state = 2\n",
    "            else:\n",
    "                count1+=1\n",
    "                dwell_t += np.random.choice(t3_cog_exp)\n",
    "                state = 3\n",
    "        \n",
    "        if state==3:\n",
    "            dwell_t+=np.random.choice(t4_exp)+np.random.choice(t5_cog_exp)+np.random.choice(t6_cog_exp)\n",
    "            \n",
    "    if state!=0: dwelltime_cog_success.append(dwell_t)\n",
    "#print(max(dwelltime_cog_fail))\n",
    "print(count)\n",
    "print(count1)\n",
    "plt.hist(dwelltime_cog_success,bins=100,range=(0,400),density=True)\n",
    "print(np.mean(dwelltime_cog_success))\n",
    "print(np.mean(dwelltime_cog_fail))\n",
    "print(len(dwelltime_cog_success)/(len(dwelltime_cog_success)+len(dwelltime_cog_fail)))\n",
    "print(\"Probability of rejection after recognition\",reject_after_recognition_count/N)\n",
    "plt.title('Cognate (Succesful)')"
   ]
  },
  {
   "cell_type": "code",
   "execution_count": 87,
   "metadata": {},
   "outputs": [
    {
     "data": {
      "text/plain": [
       "Text(0.5, 1.0, 'Cognate (Unsuccessful)')"
      ]
     },
     "execution_count": 87,
     "metadata": {},
     "output_type": "execute_result"
    },
    {
     "data": {
      "image/png": "[encoded data removed]",
      "text/plain": [
       "<Figure size 432x288 with 1 Axes>"
      ]
     },
     "metadata": {
      "needs_background": "light"
     },
     "output_type": "display_data"
    }
   ],
   "source": [
    "plt.hist(dwelltime_cog_fail,bins=100,range=(0,20),density=True);\n",
    "plt.title('Cognate (Unsuccessful)')"
   ]
  },
  {
   "cell_type": "code",
   "execution_count": 35,
   "metadata": {},
   "outputs": [
    {
     "name": "stderr",
     "output_type": "stream",
     "text": [
      "/Users/akshay/opt/anaconda3/lib/python3.7/site-packages/ipykernel_launcher.py:38: MatplotlibDeprecationWarning: \n",
      "The 'normed' kwarg was deprecated in Matplotlib 2.1 and will be removed in 3.1. Use 'density' instead.\n"
     ]
    },
    {
     "name": "stdout",
     "output_type": "stream",
     "text": [
      "18.564723242064783\n",
      "18.246465659655325\n",
      "866 9134 0.09481059776658637\n"
     ]
    },
    {
     "data": {
      "image/png": "[encoded data removed]",
      "text/plain": [
       "<Figure size 432x288 with 1 Axes>"
      ]
     },
     "metadata": {
      "needs_background": "light"
     },
     "output_type": "display_data"
    }
   ],
   "source": [
    "#Near-cognate calculation\n",
    "dwelltime_nr_success = list()\n",
    "dwelltime_nr_fail = list()\n",
    "success_count = 0\n",
    "fail_count = 0\n",
    "\n",
    "t2f_exp=np.random.exponential(t2f/10,size=4000)\n",
    "\n",
    "for i in range(10000):\n",
    "    dwell_t = 0\n",
    "    state=1\n",
    "    while state != 0 and state != 3:\n",
    "        dwell_t1r = np.random.choice(t1r_exp)\n",
    "        dwell_t2f = np.random.choice(t2f_exp)\n",
    "        if state==1:\n",
    "            if dwell_t1r<dwell_t2f: \n",
    "                dwell_t+=np.random.choice(t1r_exp)\n",
    "                dwelltime_nr_fail.append(dwell_t)\n",
    "                state=0\n",
    "                fail_count += 1\n",
    "            else:\n",
    "                dwell_t+=np.random.choice(t2f_exp)\n",
    "                state = 2\n",
    "                \n",
    "        if state==2:\n",
    "            dwell_t2r_nr = np.random.choice(t2r_nr_exp)\n",
    "            dwell_t3_nr = np.random.choice(t3_nr_exp)\n",
    "            if dwell_t2r_nr < dwell_t3_nr:\n",
    "                dwell_t+= np.random.choice(t2r_nr_exp)\n",
    "                state = 1\n",
    "            else:\n",
    "                dwell_t += np.random.choice(t3_nr_exp)\n",
    "                state = 3\n",
    "                dwelltime_nr_success.append(dwell_t)\n",
    "                success_count+=1\n",
    "                \n",
    "\n",
    "plt.hist(dwelltime_nr_fail,bins=100,normed=True)\n",
    "print(np.mean(dwelltime_nr_fail))\n",
    "print(np.std(dwelltime_nr_fail))\n",
    "plt.title('Near-cognate (Unsuccessful)')\n",
    "print(success_count,fail_count, success_count/fail_count)"
   ]
  },
  {
   "cell_type": "code",
   "execution_count": 25,
   "metadata": {},
   "outputs": [
    {
     "data": {
      "text/plain": [
       "{'k1r': 718, 'k2f': 1475, 'k2r_nr': 1120, 'k3_nr': 6, 'k4': 209}"
      ]
     },
     "execution_count": 25,
     "metadata": {},
     "output_type": "execute_result"
    }
   ],
   "source": []
  },
  {
   "cell_type": "code",
   "execution_count": 6,
   "metadata": {},
   "outputs": [
    {
     "name": "stdout",
     "output_type": "stream",
     "text": [
      "1.3928059009194944\n"
     ]
    },
    {
     "name": "stderr",
     "output_type": "stream",
     "text": [
      "/Users/akshay/opt/anaconda3/lib/python3.7/site-packages/ipykernel_launcher.py:4: MatplotlibDeprecationWarning: \n",
      "The 'normed' kwarg was deprecated in Matplotlib 2.1 and will be removed in 3.1. Use 'density' instead.\n",
      "  after removing the cwd from sys.path.\n"
     ]
    },
    {
     "data": {
      "text/plain": [
       "Text(0.5, 1.0, 'Non-cognate (Unsuccessful)')"
      ]
     },
     "execution_count": 6,
     "metadata": {},
     "output_type": "execute_result"
    },
    {
     "data": {
      "image/png": "[encoded data removed]",
      "text/plain": [
       "<Figure size 432x288 with 1 Axes>"
      ]
     },
     "metadata": {
      "needs_background": "light"
     },
     "output_type": "display_data"
    }
   ],
   "source": [
    "#Non-cognate calculation (distribution pulling from exponential)\n",
    "\n",
    "dwelltime_non=(np.random.exponential(t1r,size=1000000))\n",
    "plt.hist(dwelltime_non,bins=100,normed=True)\n",
    "print(np.average(dwelltime_non))\n",
    "plt.title('Non-cognate (Unsuccessful)')"
   ]
  },
  {
   "cell_type": "code",
   "execution_count": 99,
   "metadata": {},
   "outputs": [
    {
     "name": "stdout",
     "output_type": "stream",
     "text": [
      "Average cognate dwell time (successful): 42.5  ms\n",
      "Average cognate dwell time (unsucessful): 1.4  ms\n",
      "Proportion of succesful cognate incorporation vs. attempts:  0.68\n",
      "Average near cognate dwell time (unsuccesful) 4.6  ms\n",
      "Average non-cognate dwell time (unsuccesful) 1.4 ms\n"
     ]
    },
    {
     "data": {
      "image/png": "[encoded data removed]",
      "text/plain": [
       "<Figure size 1440x360 with 4 Axes>"
      ]
     },
     "metadata": {
      "needs_background": "light"
     },
     "output_type": "display_data"
    }
   ],
   "source": [
    "import matplotlib.ticker as mticker\n",
    "\n",
    "\n",
    "fig = plt.figure(figsize=(20,5))\n",
    "#fig.suptitle(\"Distribution of time spent by ternary complexes reacting with ribosomes\",fontsize=35,y=1.1)\n",
    "\n",
    "ax = plt.subplot(1,4,1)\n",
    "plt.hist(dwelltime_cog_success,bins=300,density=True,color='grey')\n",
    "plt.title(\"Cognate (Success)\",fontsize=25,pad=20)\n",
    "plt.xticks(fontsize=20)\n",
    "plt.yticks(fontsize=20)\n",
    "plt.setp(ax.spines.values(), linewidth=5)\n",
    "plt.xlim(0,300)\n",
    "plt.xticks(np.arange(0,301,100))\n",
    "plt.yticks(np.arange(0,0.021,0.005))\n",
    "plt.ylim(0,0.021)\n",
    "ax.plot([np.average(dwelltime_cog_success)]*2,[0,0.021],linewidth=3)\n",
    "\n",
    "ax.yaxis.set_major_formatter(mticker.FormatStrFormatter('%.3f'))\n",
    "\n",
    "\n",
    "ax=plt.subplot(1,4,2)\n",
    "plt.hist(dwelltime_cog_fail,bins=100,range=(0,20),density=True,color='grey');\n",
    "plt.title(\"Cognate (Reject)\",fontsize=25,pad=20)\n",
    "plt.xticks(fontsize=20)\n",
    "plt.yticks(fontsize=20)\n",
    "plt.setp(ax.spines.values(), linewidth=5)\n",
    "ax.set_ylim(0,0.72)\n",
    "plt.xticks(np.arange(0,11,2))\n",
    "plt.xlim(0,10)\n",
    "ax.plot([np.average(dwelltime_cog_fail)]*2,[0,0.72],linewidth=3)\n",
    "\n",
    "ax=plt.subplot(1,4,3)\n",
    "plt.hist(dwelltime_nr_fail,bins=100,density=True,color='grey')\n",
    "plt.title(\"Near cognates (Reject)\",fontsize=25,pad=20)\n",
    "plt.xticks(fontsize=20)\n",
    "plt.yticks(fontsize=20)\n",
    "plt.setp(ax.spines.values(), linewidth=5)\n",
    "plt.yticks(np.arange(0,0.21,0.05))\n",
    "plt.xticks(np.arange(0,31,10))\n",
    "plt.xlim(0,30)\n",
    "plt.ylim(0,0.21)\n",
    "ax.plot([np.average(dwelltime_nr_fail)]*2,[0,0.21],linewidth=3)\n",
    "\n",
    "\n",
    "ax=plt.subplot(1,4,4)\n",
    "plt.hist(dwelltime_non,bins=100,density=True,color='grey')\n",
    "plt.title(\"Non-cognates (Reject)\",fontsize=25,pad=20)\n",
    "plt.xticks(fontsize=20)\n",
    "plt.yticks(fontsize=20)\n",
    "plt.setp(ax.spines.values(), linewidth=5)\n",
    "plt.xticks(np.arange(0,11,2))\n",
    "ax.set_ylim(0,0.72)\n",
    "plt.xlim(0,10)\n",
    "ax.plot([np.average(dwelltime_non)]*2,[0,0.72],linewidth=3)\n",
    "\n",
    "\n",
    "\n",
    "fig.text(0.5, -0.04, 'Time spent reacting (ms)', ha='center',fontsize=30)\n",
    "fig.text(-0.02, 0.5, 'Probability density', va='center', rotation='vertical',fontsize=30)\n",
    "\n",
    "\n",
    "print(\"Average cognate dwell time (successful):\", round(np.average(dwelltime_cog_success),1), \" ms\")\n",
    "print(\"Average cognate dwell time (unsucessful):\", round(np.average(dwelltime_cog_fail),1), \" ms\")\n",
    "print(\"Proportion of succesful cognate incorporation vs. attempts: \",round(len(dwelltime_cog_success)/(len(dwelltime_cog_success)+len(dwelltime_cog_fail)),2))\n",
    "print(\"Average near cognate dwell time (unsuccesful)\", round(np.average(dwelltime_nr_fail),1),\" ms\")\n",
    "print(\"Average non-cognate dwell time (unsuccesful)\", round(np.average(dwelltime_non),1), \"ms\")\n",
    "plt.tight_layout(pad=3.0)"
   ]
  },
  {
   "cell_type": "code",
   "execution_count": 72,
   "metadata": {},
   "outputs": [
    {
     "name": "stdout",
     "output_type": "stream",
     "text": [
      "Dwell time,  11181.585751292492\n",
      "ta 6289\n",
      "tb 3711\n",
      "tb/ta: 0.5900779138177771  vs. expected:  0.6\n"
     ]
    }
   ],
   "source": [
    "##Next three cells: Showing that checking if one exponential is less than the other is equivalent to \n",
    "# drawing from a uniform\n",
    "\n",
    "import numpy as np\n",
    "import matplotlib.pyplot as plt\n",
    "%matplotlib inline\n",
    "\n",
    "#forward1 = 500; forward2 = 300\n",
    "\n",
    "ta_count = 0\n",
    "tb_count = 0\n",
    "\n",
    "ta_exp=np.random.exponential(1000/500,size=4000)\n",
    "tb_exp=np.random.exponential(1000/300,size=4000)\n",
    "\n",
    "ta_uni=np.random.uniform(1000/500,size=4000)\n",
    "tb_uni=np.random.uniform(1000/300,size=4000)\n",
    "\n",
    "dwell_t = 0\n",
    "for i in range(10000):\n",
    "    dwell_ta = np.random.choice(ta_exp)\n",
    "    dwell_tb = np.random.choice(tb_exp)\n",
    "    if dwell_ta<dwell_tb: \n",
    "        dwell_t+=np.random.choice(t1r_exp)\n",
    "        ta_count+=1\n",
    "    else:\n",
    "        dwell_t+=np.random.choice(t2f_exp)\n",
    "        tb_count+=1\n",
    "        \n",
    "print(\"Dwell time, \", dwell_t, \"vs. expected: \", )\n",
    "print(\"ta\", ta_count)\n",
    "print(\"tb\", tb_count)\n",
    "print(\"tb/ta:\", tb_count/ta_count, \" vs. expected: \", 300/500 )"
   ]
  },
  {
   "cell_type": "code",
   "execution_count": 75,
   "metadata": {},
   "outputs": [
    {
     "name": "stdout",
     "output_type": "stream",
     "text": [
      "Dwell time,  12452.514403459709 vs. expected: \n",
      "ta 7938\n",
      "tb 2062\n",
      "tb/ta: 0.2597631645250693  vs. expected:  0.6\n"
     ]
    }
   ],
   "source": [
    "import numpy as np\n",
    "import matplotlib.pyplot as plt\n",
    "%matplotlib inline\n",
    "\n",
    "#forward1 = 500; forward2 = 300\n",
    "\n",
    "ta_count = 0\n",
    "tb_count = 0\n",
    "\n",
    "ta_exp=np.random.exponential(1000/500,size=4000)\n",
    "tb_exp=np.random.exponential(1000/300,size=4000)\n",
    "\n",
    "ta_uni=np.random.uniform(1000/500,size=4000)\n",
    "tb_uni=np.random.uniform(1000/300,size=4000)\n",
    "\n",
    "dwell_t = 0\n",
    "for i in range(10000):\n",
    "    dwell_ta = np.random.choice(ta_uni)\n",
    "    dwell_tb = np.random.choice(tb_uni)\n",
    "    if dwell_ta<dwell_tb: \n",
    "        dwell_t+=np.random.choice(t1r_exp)\n",
    "        ta_count+=1\n",
    "    else:\n",
    "        dwell_t+=np.random.choice(t2f_exp)\n",
    "        tb_count+=1\n",
    "        \n",
    "print(\"Dwell time, \", dwell_t, \"vs. expected: \", )\n",
    "print(\"ta\", ta_count)\n",
    "print(\"tb\", tb_count)\n",
    "print(\"tb/ta:\", tb_count/ta_count, \" vs. expected: \", 300/500 )"
   ]
  },
  {
   "cell_type": "code",
   "execution_count": 76,
   "metadata": {},
   "outputs": [
    {
     "name": "stdout",
     "output_type": "stream",
     "text": [
      "Dwell time,  11209.05421402803 vs. expected: \n",
      "ta 6275\n",
      "tb 3725\n",
      "tb/ta: 0.5936254980079682  vs. expected:  0.6\n"
     ]
    }
   ],
   "source": [
    "import numpy as np\n",
    "import matplotlib.pyplot as plt\n",
    "%matplotlib inline\n",
    "\n",
    "#forward1 = 500; forward2 = 300\n",
    "\n",
    "ta_count = 0\n",
    "tb_count = 0\n",
    "\n",
    "ta_exp=np.random.exponential(1000/500,size=4000)\n",
    "tb_exp=np.random.exponential(1000/300,size=4000)\n",
    "\n",
    "ta_uni=np.random.uniform(1000/500,size=4000)\n",
    "tb_uni=np.random.uniform(1000/300,size=4000)\n",
    "tab_uni=np.random.uniform(800,size=4000)\n",
    "\n",
    "dwell_t = 0\n",
    "for i in range(10000):\n",
    "    dwell_ta = np.random.choice(ta_uni)\n",
    "    dwell_tb = np.random.choice(tb_uni)\n",
    "    if np.random.choice(tab_uni)<500: \n",
    "        dwell_t+=np.random.choice(t1r_exp)\n",
    "        ta_count+=1\n",
    "    else:\n",
    "        dwell_t+=np.random.choice(t2f_exp)\n",
    "        tb_count+=1\n",
    "        \n",
    "print(\"Dwell time, \", dwell_t, \"vs. expected: \", )\n",
    "print(\"ta\", ta_count)\n",
    "print(\"tb\", tb_count)\n",
    "print(\"tb/ta:\", tb_count/ta_count, \" vs. expected: \", 300/500 )\n"
   ]
  },
  {
   "cell_type": "code",
   "execution_count": null,
   "metadata": {},
   "outputs": [],
   "source": []
  }
 ],
 "metadata": {
  "kernelspec": {
   "display_name": "Python 3",
   "language": "python",
   "name": "python3"
  },
  "language_info": {
   "codemirror_mode": {
    "name": "ipython",
    "version": 3
   },
   "file_extension": ".py",
   "mimetype": "text/x-python",
   "name": "python",
   "nbconvert_exporter": "python",
   "pygments_lexer": "ipython3",
   "version": "3.7.4"
  }
 },
 "nbformat": 4,
 "nbformat_minor": 2
}
