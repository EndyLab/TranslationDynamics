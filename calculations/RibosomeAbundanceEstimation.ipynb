{
 "cells": [
  {
   "cell_type": "code",
   "execution_count": 6,
   "metadata": {},
   "outputs": [
    {
     "name": "stdout",
     "output_type": "stream",
     "text": [
      "Number of ribosomes :  16782.91788882726\n"
     ]
    }
   ],
   "source": [
    "import pandas as pd\n",
    "import numpy as np\n",
    "\n",
    "df=pd.read_excel('MassSpec_table5.xlsx')\n",
    "df.rename(columns={'Unnamed: 1': 'ProtDescrip','Unnamed: 6': 'MW', 'Unnamed: 7': 'glucCount'}, inplace=True)\n",
    "df=df[['ProtDescrip','MW','glucCount']]\n",
    "df = df.iloc[1:2060]\n",
    "\n",
    "#Pull 30S and 50S ribosomal proteins from mass spectometry data\n",
    "r30sprot_arr = np.array((df[df['ProtDescrip'].str.contains(\"30S ribosomal\")]['glucCount'])).astype('float')\n",
    "r50sprot_arr = np.array((df[df['ProtDescrip'].str.contains(\"50S ribosomal\")]['glucCount'])).astype('float')[0:-2]\n",
    "\n",
    "##Change L7/L12 to number of ribosomes via 4:1 stochiometry of L7/L12 to number of ribosomes\n",
    "r50sprot_arr[(r50sprot_arr > 61706) & (r50sprot_arr<61707)] = 61707/4 \n",
    "\n",
    "averageAbundance = 10**np.average(np.log10(np.concatenate((r30sprot_arr,r50sprot_arr))))\n",
    "print(\"Number of ribosomes : \", averageAbundance)"
   ]
  },
  {
   "cell_type": "code",
   "execution_count": null,
   "metadata": {},
   "outputs": [],
   "source": []
  },
  {
   "cell_type": "code",
   "execution_count": null,
   "metadata": {},
   "outputs": [],
   "source": []
  },
  {
   "cell_type": "code",
   "execution_count": null,
   "metadata": {},
   "outputs": [],
   "source": []
  }
 ],
 "metadata": {
  "kernelspec": {
   "display_name": "Python 3",
   "language": "python",
   "name": "python3"
  },
  "language_info": {
   "codemirror_mode": {
    "name": "ipython",
    "version": 3
   },
   "file_extension": ".py",
   "mimetype": "text/x-python",
   "name": "python",
   "nbconvert_exporter": "python",
   "pygments_lexer": "ipython3",
   "version": "3.7.4"
  }
 },
 "nbformat": 4,
 "nbformat_minor": 2
}
