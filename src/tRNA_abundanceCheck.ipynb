{
 "cells": [
  {
   "cell_type": "code",
   "execution_count": 4,
   "metadata": {},
   "outputs": [],
   "source": [
    "import numpy as np\n",
    "\n",
    "def cognateDistrib(ptRNA):\n",
    "\n",
    "    ptRNA = np.divide(ptRNA,sum(ptRNA))\n",
    "\n",
    "    tRNA_tags = [\"Ala1B\", \"Ala2\", \"Arg2\", \"Arg3\", \"Arg4\", \"Arg5\", \"Asn\", \"Asp1\", \"Cys\", \"Gln1\", \"Gln2\", \\\n",
    "    \"Glu2\", \"Gly2\", \"Gly3\", \"His\", \"Ile1\", \"Leu1\", \"Leu2\", \"Leu3\", \"Leu4\", \"Leu5\", \"Lys\", \\\n",
    "    \"Met_m\", \"Phe\", \"Pro1\", \"Pro2\", \"Pro3\", \"Sel_Cys\", \"Ser1\", \"Ser2\", \"Ser3\", \"Ser5\", \"Thr1\", \\\n",
    "    \"Thr2\", \"Thr3\", \"Thr4\", \"Trp\", \"Tyr1pTyr2\", \"Val1\", \"Val2ApB\"]\n",
    "\n",
    "    ptRNA_dict = dict(zip(tRNA_tags, ptRNA))\n",
    "\n",
    "    codons_Ec = [\"GGG\", \"GGA\", \"GGU\", \"GGC\", \"GAG\", \"GAA\", \"GAU\", \"GAC\", \"GUG\", \"GUA\", \"GUU\", \\\n",
    "    \"GUC\", \"GCG\", \"GCA\", \"GCU\", \"GCC\", \"AGG\", \"AGA\", \"AGU\", \"AGC\", \"AAG\", \"AAA\", \\\n",
    "    \"AAU\", \"AAC\", \"AUG\", \"AUA\", \"AUU\", \"AUC\", \"ACG\", \"ACA\", \"ACU\", \"ACC\", \"UGG\", \\\n",
    "    \"UGA\", \"UGU\", \"UGC\", \"UAU\", \"UAC\", \"UUG\", \"UUA\", \"UUU\", \"UUC\", \"UCG\", \"UCA\", \\\n",
    "    \"UCU\", \"UCC\", \"CGG\", \"CGA\", \"CGU\", \"CGC\", \"CAG\", \"CAA\", \"CAU\", \"CAC\", \"CUG\", \\\n",
    "    \"CUA\", \"CUU\", \"CUC\", \"CCG\", \"CCA\", \"CCU\", \"CCC\"]\n",
    "\n",
    "    pcodons_Ec =[0.00483, 0.00272, 0.03847, 0.03579, 0.01665, 0.05335, 0.02436, \\\n",
    "    0.02885, 0.02150, 0.01594, 0.03146, 0.01130, 0.03047, 0.02223, \\\n",
    "    0.02898, 0.01989, 0.00009, 0.00113, 0.00401, 0.01203, 0.01214, \\\n",
    "    0.04464, 0.00984, 0.02808, 0.02247, 0.00093, 0.02148, 0.03685, \\\n",
    "    0.00757, 0.00350, 0.01394, 0.02663, 0.00981, 0.00031, 0.00425, \\\n",
    "    0.00531, 0.01073, 0.01628, 0.00666, 0.00616, 0.01261, 0.02279, \\\n",
    "    0.00608, 0.00391, 0.01318, 0.01120, 0.00176, 0.00133, 0.03126, \\\n",
    "    0.02235, 0.02938, 0.01024, 0.00927, 0.01396, 0.06041, 0.00216, \\\n",
    "    0.00573, 0.00622, 0.02965, 0.00655, 0.00501, 0.00332]\n",
    "    pcodons_Ec = np.divide(pcodons_Ec,sum(pcodons_Ec))\n",
    "\n",
    "    pcodon_dict = dict(zip(codons_Ec, pcodons_Ec))\n",
    "\n",
    "    #Note AUA does not have an assigned tRNA\n",
    "    codon_dict={'GGG': ['Gly2'], 'GGA': ['Gly2'], 'GGU': ['Gly3'], 'GGC': ['Gly3'], \\\n",
    "    'GAG': ['Glu2'], 'GAA': ['Glu2'], 'GAU': ['Asp1'], 'GAC': ['Asp1'], \\\n",
    "    'GUG': ['Val1'], 'GUA': ['Val1'], 'GUU': ['Val1','Val2ApB'], \\\n",
    "    'GUC': ['Val2ApB'], 'GCG': ['Ala1B'], 'GCA': ['Ala1B'], 'GCU': ['Ala1B'], \\\n",
    "    'GCC': ['Ala2'], 'AGG': ['Arg5'], 'AGA': ['Arg4'], 'AGU': ['Ser3'], \\\n",
    "    'AGC': ['Ser3'], 'AAG': ['Lys'], 'AAA': ['Lys'], 'AAU': ['Asn'], \\\n",
    "    'AAC': ['Asn'], 'AUG': ['Met_m'], 'AUA': [], 'AUU': ['Ile1'], \\\n",
    "    'AUC': ['Ile1'], 'ACG': ['Thr2','Thr4'], 'ACA': ['Thr4'], \\\n",
    "    'ACU': ['Thr1','Thr4','Thr3'], 'ACC': ['Thr3','Thr1'], \\\n",
    "    'UGG': ['Trp'], 'UGA': ['Sel_Cys'], 'UGU': ['Cys'], 'UGC': ['Cys'], \\\n",
    "    'UAU': ['Tyr1pTyr2'], 'UAC': ['Tyr1pTyr2'], 'UUG': ['Leu5','Leu4'], \\\n",
    "    'UUA': ['Leu5'], 'UUU': ['Phe'], 'UUC': ['Phe'], 'UCG': ['Ser1','Ser2'], \\\n",
    "    'UCA': ['Ser1'], 'UCU': ['Ser5','Ser1'], 'UCC': ['Ser5'], 'CGG': ['Arg3'], \\\n",
    "    'CGA': ['Arg2'], 'CGU': ['Arg2'], 'CGC': ['Arg2'], 'CAG': ['Gln2'], \\\n",
    "    'CAA': ['Gln1'], 'CAU': ['His'], 'CAC': ['His'], 'CUG': ['Leu1','Leu3'], \\\n",
    "    'CUA': ['Leu3'], 'CUU': ['Leu2'], 'CUC': ['Leu2'], 'CCG': ['Pro1','Pro3'], \\\n",
    "    'CCA': ['Pro3'], 'CCU': ['Pro2','Pro3'], 'CCC': ['Pro2']}\n",
    "\n",
    "    cells = 1\n",
    "    TU = 9500*20\n",
    "    time = 180\n",
    "    tRNA_distrib_arr = list()\n",
    "    codon_count = {}\n",
    "    codon_time = {}\n",
    "    codon_time_avg = {}\n",
    "    codon_time_weighted_avg={}\n",
    "    codon_count_hist = {}\n",
    "    codon_count_hist_weighted_avg = np.zeros(42)\n",
    "    p_codon_tRNA = {}\n",
    "\n",
    "    for key in codon_dict:\n",
    "        codon_count[key] = []\n",
    "        codon_time[key] = []\n",
    "        codon_time_avg[key] = []\n",
    "        codon_time_weighted_avg[key]=[]\n",
    "        codon_count_hist[key]=[]\n",
    "        p_codon_tRNA[key] = []\n",
    "\n",
    "    # Construct dictionary that assigns probability of all tRNA specific to a certain codon\n",
    "    # to that codon (p_codon_tRNA)\n",
    "    for codon in codon_dict:\n",
    "        p_codon_tRNA_i = 0\n",
    "        for tRNA in codon_dict[codon]:\n",
    "            p_codon_tRNA_i += ptRNA_dict[tRNA]\n",
    "        p_codon_tRNA[codon].append(p_codon_tRNA_i)\n",
    "\n",
    "    for cell in range(cells):\n",
    "        # Generate distribution for cognate tRNA count for each codon\n",
    "        for i in range(TU):\n",
    "\n",
    "            #Construct translation unit with random tRNA (weighted by specific tRNA abundances)\n",
    "            #and 1 random codon (weighted by codon probabilities).\n",
    "            tRNA_vox = list(np.random.choice(tRNA_tags,42,p=ptRNA))\n",
    "            codon_vox = np.random.choice(codons_Ec, 1)\n",
    "\n",
    "            #Count how many cognate tRNA appeared in the translation unit (for given codon) and record in codon_count\n",
    "            codon_count_i = 0\n",
    "            for tRNA in codon_dict[codon_vox[0]]:\n",
    "                codon_count_i += tRNA_vox.count(tRNA)\n",
    "            codon_count[codon_vox[0]].append(codon_count_i)\n",
    "\n",
    "        for codon in codon_count:\n",
    "            #Generate histogram of cognate tRNA counts for each codon\n",
    "            codon_count_hist[codon] = np.histogram(codon_count[codon], bins=np.arange(0,43))[0]/sum(np.histogram(codon_count[codon], bins=np.arange(0,43))[0])\n",
    "\n",
    "            #Weight histogram by codon probabilities to generate weighted average histogram for all codon\n",
    "            codon_count_hist_weighted_avg += codon_count_hist[codon]*pcodon_dict[codon]\n",
    "        p_codon_count_hist_weighted_avg = codon_count_hist_weighted_avg\n",
    "        #print(p_codon_count_hist_weighted_avg)\n",
    "    return p_codon_count_hist_weighted_avg"
   ]
  },
  {
   "cell_type": "code",
   "execution_count": 5,
   "metadata": {},
   "outputs": [],
   "source": [
    "import pandas as pd\n",
    "WS = pd.read_excel('tRNAValues.xlsx',header=None)\n",
    "WS_np = np.array(WS)\n",
    "gr04=WS[0]\n",
    "gr07=WS[1]\n",
    "gr107=WS[2]\n",
    "gr16=WS[3]\n",
    "gr25=WS[4]"
   ]
  },
  {
   "cell_type": "code",
   "execution_count": 6,
   "metadata": {},
   "outputs": [
    {
     "name": "stdout",
     "output_type": "stream",
     "text": [
      "0.9875338229120482\n",
      "[2.43411884e-01 2.59170855e-01 1.99189896e-01 1.36103450e-01\n",
      " 8.38386670e-02 4.54773428e-02 2.03417295e-02 8.44141661e-03\n",
      " 2.83403205e-03 8.57870168e-04 2.65789080e-04 4.20486663e-05\n",
      " 2.50205106e-05 0.00000000e+00 0.00000000e+00 0.00000000e+00\n",
      " 0.00000000e+00 0.00000000e+00 0.00000000e+00 0.00000000e+00\n",
      " 0.00000000e+00 0.00000000e+00 0.00000000e+00 0.00000000e+00\n",
      " 0.00000000e+00 0.00000000e+00 0.00000000e+00 0.00000000e+00\n",
      " 0.00000000e+00 0.00000000e+00 0.00000000e+00 0.00000000e+00\n",
      " 0.00000000e+00 0.00000000e+00 0.00000000e+00 0.00000000e+00\n",
      " 0.00000000e+00 0.00000000e+00 0.00000000e+00 0.00000000e+00\n",
      " 0.00000000e+00 0.00000000e+00]\n",
      "1.8435564301375449\n"
     ]
    },
    {
     "data": {
      "image/png": "[encoded data removed]",
      "text/plain": [
       "<Figure size 432x432 with 1 Axes>"
      ]
     },
     "metadata": {
      "needs_background": "light"
     },
     "output_type": "display_data"
    }
   ],
   "source": [
    "from analysis_utils import *\n",
    "import matplotlib.pyplot as plt\n",
    "import matplotlib.patches as mpatches\n",
    "import matplotlib as mpl\n",
    "%matplotlib inline\n",
    "\n",
    "ptRNA = gr04\n",
    "p_codon_count_hist_weighted_avg=cognateDistrib(ptRNA)\n",
    "\n",
    "fig,ax=plt.subplots(1,1,figsize=(6,6))\n",
    "plt.bar(np.arange(0,42),p_codon_count_hist_weighted_avg,linewidth=4,color='darkblue',align='edge')\n",
    "plt.xlabel('# of cognate tRNA per TU',fontsize=25)\n",
    "plt.ylabel('Probability',fontsize=25)\n",
    "plt.ylim(0,0.3)\n",
    "plt.xlim(0,8)\n",
    "print(sum(p_codon_count_hist_weighted_avg[0:7]))\n",
    "print(p_codon_count_hist_weighted_avg)\n",
    "print(sum(np.multiply(p_codon_count_hist_weighted_avg,np.arange(0,42))))\n",
    "plt.gca().spines['left'].set_linewidth(4)\n",
    "plt.gca().spines['bottom'].set_linewidth(4)\n",
    "plt.gca().spines['top'].set_linewidth(4)\n",
    "plt.gca().spines['right'].set_linewidth(4)\n",
    "plt.gca().tick_params(axis='both', which='major', labelsize=20)"
   ]
  },
  {
   "cell_type": "code",
   "execution_count": 45,
   "metadata": {},
   "outputs": [
    {
     "name": "stdout",
     "output_type": "stream",
     "text": [
      "0.988485366068048\n",
      "[2.42177742e-01 2.61064137e-01 1.98535063e-01 1.39338765e-01\n",
      " 8.26319569e-02 4.39161359e-02 2.08215654e-02 7.97713811e-03\n",
      " 2.35273862e-03 8.82653037e-04 2.96839968e-04 5.26420079e-06\n",
      " 0.00000000e+00 0.00000000e+00 0.00000000e+00 0.00000000e+00\n",
      " 0.00000000e+00 0.00000000e+00 0.00000000e+00 0.00000000e+00\n",
      " 0.00000000e+00 0.00000000e+00 0.00000000e+00 0.00000000e+00\n",
      " 0.00000000e+00 0.00000000e+00 0.00000000e+00 0.00000000e+00\n",
      " 0.00000000e+00 0.00000000e+00 0.00000000e+00 0.00000000e+00\n",
      " 0.00000000e+00 0.00000000e+00 0.00000000e+00 0.00000000e+00\n",
      " 0.00000000e+00 0.00000000e+00 0.00000000e+00 0.00000000e+00\n",
      " 0.00000000e+00 0.00000000e+00]\n",
      "1.836820518241085\n"
     ]
    },
    {
     "data": {
      "image/png": "[encoded data removed]",
      "text/plain": [
       "<Figure size 432x432 with 1 Axes>"
      ]
     },
     "metadata": {
      "needs_background": "light"
     },
     "output_type": "display_data"
    }
   ],
   "source": [
    "from analysis_utils import *\n",
    "import matplotlib.pyplot as plt\n",
    "import matplotlib.patches as mpatches\n",
    "import matplotlib as mpl\n",
    "%matplotlib inline\n",
    "\n",
    "ptRNA = gr07\n",
    "p_codon_count_hist_weighted_avg=cognateDistrib(ptRNA)\n",
    "\n",
    "fig,ax=plt.subplots(1,1,figsize=(6,6))\n",
    "plt.bar(np.arange(0,42),p_codon_count_hist_weighted_avg,linewidth=4,color='darkblue',align='edge')\n",
    "plt.xlabel('# of cognate tRNA per TU',fontsize=25)\n",
    "plt.ylabel('Probability',fontsize=25)\n",
    "plt.ylim(0,0.3)\n",
    "plt.xlim(0,8)\n",
    "print(sum(p_codon_count_hist_weighted_avg[0:7]))\n",
    "print(p_codon_count_hist_weighted_avg)\n",
    "print(sum(np.multiply(p_codon_count_hist_weighted_avg,np.arange(0,42))))\n",
    "plt.gca().spines['left'].set_linewidth(4)\n",
    "plt.gca().spines['bottom'].set_linewidth(4)\n",
    "plt.gca().spines['top'].set_linewidth(4)\n",
    "plt.gca().spines['right'].set_linewidth(4)\n",
    "plt.gca().tick_params(axis='both', which='major', labelsize=20)"
   ]
  },
  {
   "cell_type": "code",
   "execution_count": 46,
   "metadata": {},
   "outputs": [
    {
     "name": "stdout",
     "output_type": "stream",
     "text": [
      "0.9879477444222748\n",
      "[2.37966608e-01 2.60994752e-01 2.02782228e-01 1.38866114e-01\n",
      " 8.41727645e-02 4.26504274e-02 2.05148506e-02 8.12150703e-03\n",
      " 2.82709050e-03 7.79174264e-04 2.26666629e-04 7.75521364e-05\n",
      " 0.00000000e+00 2.02650117e-05 0.00000000e+00 0.00000000e+00\n",
      " 0.00000000e+00 0.00000000e+00 0.00000000e+00 0.00000000e+00\n",
      " 0.00000000e+00 0.00000000e+00 0.00000000e+00 0.00000000e+00\n",
      " 0.00000000e+00 0.00000000e+00 0.00000000e+00 0.00000000e+00\n",
      " 0.00000000e+00 0.00000000e+00 0.00000000e+00 0.00000000e+00\n",
      " 0.00000000e+00 0.00000000e+00 0.00000000e+00 0.00000000e+00\n",
      " 0.00000000e+00 0.00000000e+00 0.00000000e+00 0.00000000e+00\n",
      " 0.00000000e+00 0.00000000e+00]\n",
      "1.8460528744317317\n"
     ]
    },
    {
     "data": {
      "image/png": "[encoded data removed]",
      "text/plain": [
       "<Figure size 432x432 with 1 Axes>"
      ]
     },
     "metadata": {
      "needs_background": "light"
     },
     "output_type": "display_data"
    }
   ],
   "source": [
    "from analysis_utils import *\n",
    "import matplotlib.pyplot as plt\n",
    "import matplotlib.patches as mpatches\n",
    "import matplotlib as mpl\n",
    "%matplotlib inline\n",
    "\n",
    "ptRNA = gr107\n",
    "p_codon_count_hist_weighted_avg=cognateDistrib(ptRNA)\n",
    "\n",
    "fig,ax=plt.subplots(1,1,figsize=(6,6))\n",
    "plt.bar(np.arange(0,42),p_codon_count_hist_weighted_avg,linewidth=4,color='darkblue',align='edge')\n",
    "plt.xlabel('# of cognate tRNA per TU',fontsize=25)\n",
    "plt.ylabel('Probability',fontsize=25)\n",
    "plt.ylim(0,0.3)\n",
    "plt.xlim(0,8)\n",
    "print(sum(p_codon_count_hist_weighted_avg[0:7]))\n",
    "print(p_codon_count_hist_weighted_avg)\n",
    "print(sum(np.multiply(p_codon_count_hist_weighted_avg,np.arange(0,42))))\n",
    "plt.gca().spines['left'].set_linewidth(4)\n",
    "plt.gca().spines['bottom'].set_linewidth(4)\n",
    "plt.gca().spines['top'].set_linewidth(4)\n",
    "plt.gca().spines['right'].set_linewidth(4)\n",
    "plt.gca().tick_params(axis='both', which='major', labelsize=20)"
   ]
  },
  {
   "cell_type": "code",
   "execution_count": 47,
   "metadata": {},
   "outputs": [
    {
     "name": "stdout",
     "output_type": "stream",
     "text": [
      "0.9853410741056869\n",
      "[2.46608656e-01 2.50884919e-01 1.94020418e-01 1.37022169e-01\n",
      " 8.74155131e-02 4.78284902e-02 2.15609080e-02 9.56604313e-03\n",
      " 3.61351942e-03 1.09088780e-03 3.53689935e-04 2.45911765e-05\n",
      " 1.01944264e-05 0.00000000e+00 0.00000000e+00 0.00000000e+00\n",
      " 0.00000000e+00 0.00000000e+00 0.00000000e+00 0.00000000e+00\n",
      " 0.00000000e+00 0.00000000e+00 0.00000000e+00 0.00000000e+00\n",
      " 0.00000000e+00 0.00000000e+00 0.00000000e+00 0.00000000e+00\n",
      " 0.00000000e+00 0.00000000e+00 0.00000000e+00 0.00000000e+00\n",
      " 0.00000000e+00 0.00000000e+00 0.00000000e+00 0.00000000e+00\n",
      " 0.00000000e+00 0.00000000e+00 0.00000000e+00 0.00000000e+00\n",
      " 0.00000000e+00 0.00000000e+00]\n",
      "1.8777803973453482\n"
     ]
    },
    {
     "data": {
      "image/png": "[encoded data removed]",
      "text/plain": [
       "<Figure size 432x432 with 1 Axes>"
      ]
     },
     "metadata": {
      "needs_background": "light"
     },
     "output_type": "display_data"
    }
   ],
   "source": [
    "from analysis_utils import *\n",
    "import matplotlib.pyplot as plt\n",
    "import matplotlib.patches as mpatches\n",
    "import matplotlib as mpl\n",
    "%matplotlib inline\n",
    "\n",
    "ptRNA = gr16\n",
    "p_codon_count_hist_weighted_avg=cognateDistrib(ptRNA)\n",
    "\n",
    "fig,ax=plt.subplots(1,1,figsize=(6,6))\n",
    "plt.bar(np.arange(0,42),p_codon_count_hist_weighted_avg,linewidth=4,color='darkblue',align='edge')\n",
    "plt.xlabel('# of cognate tRNA per TU',fontsize=25)\n",
    "plt.ylabel('Probability',fontsize=25)\n",
    "plt.ylim(0,0.3)\n",
    "plt.xlim(0,8)\n",
    "print(sum(p_codon_count_hist_weighted_avg[0:7]))\n",
    "print(p_codon_count_hist_weighted_avg)\n",
    "print(sum(np.multiply(p_codon_count_hist_weighted_avg,np.arange(0,42))))\n",
    "plt.gca().spines['left'].set_linewidth(4)\n",
    "plt.gca().spines['bottom'].set_linewidth(4)\n",
    "plt.gca().spines['top'].set_linewidth(4)\n",
    "plt.gca().spines['right'].set_linewidth(4)\n",
    "plt.gca().tick_params(axis='both', which='major', labelsize=20)"
   ]
  },
  {
   "cell_type": "code",
   "execution_count": 53,
   "metadata": {},
   "outputs": [
    {
     "name": "stdout",
     "output_type": "stream",
     "text": [
      "0.9858521417365802\n",
      "[2.41299446e-01 2.49654098e-01 1.92333064e-01 1.38455600e-01\n",
      " 8.95404143e-02 5.01147692e-02 2.44547502e-02 9.56489588e-03\n",
      " 3.51658872e-03 7.09541458e-04 3.25327989e-04 3.15042135e-05\n",
      " 0.00000000e+00 0.00000000e+00 0.00000000e+00 0.00000000e+00\n",
      " 0.00000000e+00 0.00000000e+00 0.00000000e+00 0.00000000e+00\n",
      " 0.00000000e+00 0.00000000e+00 0.00000000e+00 0.00000000e+00\n",
      " 0.00000000e+00 0.00000000e+00 0.00000000e+00 0.00000000e+00\n",
      " 0.00000000e+00 0.00000000e+00 0.00000000e+00 0.00000000e+00\n",
      " 0.00000000e+00 0.00000000e+00 0.00000000e+00 0.00000000e+00\n",
      " 0.00000000e+00 0.00000000e+00 0.00000000e+00 0.00000000e+00\n",
      " 0.00000000e+00 0.00000000e+00]\n",
      "1.9102237111213636\n"
     ]
    },
    {
     "data": {
      "image/png": "[encoded data removed]",
      "text/plain": [
       "<Figure size 432x432 with 1 Axes>"
      ]
     },
     "metadata": {
      "needs_background": "light"
     },
     "output_type": "display_data"
    }
   ],
   "source": [
    "from analysis_utils import *\n",
    "import matplotlib.pyplot as plt\n",
    "import matplotlib.patches as mpatches\n",
    "import matplotlib as mpl\n",
    "%matplotlib inline\n",
    "\n",
    "ptRNA = gr25\n",
    "p_codon_count_hist_weighted_avg=cognateDistrib(ptRNA)\n",
    "\n",
    "fig,ax=plt.subplots(1,1,figsize=(6,6))\n",
    "plt.bar(np.arange(0,42),p_codon_count_hist_weighted_avg,linewidth=4,color='darkblue',align='edge')\n",
    "plt.xlabel('# of cognate tRNA per TU',fontsize=25)\n",
    "plt.ylabel('Probability',fontsize=25)\n",
    "plt.ylim(0,0.3)\n",
    "plt.xlim(0,8)\n",
    "print(sum(p_codon_count_hist_weighted_avg[0:7]))\n",
    "print(p_codon_count_hist_weighted_avg)\n",
    "print(sum(np.multiply(p_codon_count_hist_weighted_avg,np.arange(0,42))))\n",
    "plt.gca().spines['left'].set_linewidth(4)\n",
    "plt.gca().spines['bottom'].set_linewidth(4)\n",
    "plt.gca().spines['top'].set_linewidth(4)\n",
    "plt.gca().spines['right'].set_linewidth(4)\n",
    "plt.gca().tick_params(axis='both', which='major', labelsize=20)"
   ]
  },
  {
   "cell_type": "code",
   "execution_count": 55,
   "metadata": {},
   "outputs": [
    {
     "data": {
      "text/plain": [
       "0     0.050584\n",
       "1     0.009339\n",
       "2     0.073930\n",
       "3     0.010117\n",
       "4     0.013230\n",
       "5     0.006226\n",
       "6     0.018677\n",
       "7     0.037354\n",
       "8     0.024903\n",
       "9     0.011673\n",
       "10    0.014008\n",
       "11    0.073152\n",
       "12    0.033463\n",
       "13    0.067704\n",
       "14    0.010117\n",
       "15    0.053696\n",
       "16    0.069261\n",
       "17    0.014786\n",
       "18    0.010117\n",
       "19    0.029572\n",
       "20    0.017899\n",
       "21    0.029572\n",
       "22    0.018677\n",
       "23    0.016342\n",
       "24    0.014008\n",
       "25    0.010895\n",
       "26    0.009339\n",
       "27    0.003113\n",
       "28    0.020233\n",
       "29    0.005447\n",
       "30    0.021790\n",
       "31    0.011673\n",
       "32    0.001556\n",
       "33    0.008560\n",
       "34    0.017121\n",
       "35    0.014008\n",
       "36    0.014786\n",
       "37    0.031128\n",
       "38    0.059922\n",
       "39    0.020233\n",
       "Name: 0, dtype: float64"
      ]
     },
     "execution_count": 55,
     "metadata": {},
     "output_type": "execute_result"
    }
   ],
   "source": [
    "gr04"
   ]
  },
  {
   "cell_type": "code",
   "execution_count": 56,
   "metadata": {},
   "outputs": [
    {
     "data": {
      "text/plain": [
       "0     0.058565\n",
       "1     0.010249\n",
       "2     0.071742\n",
       "3     0.005857\n",
       "4     0.010249\n",
       "5     0.005857\n",
       "6     0.020498\n",
       "7     0.042460\n",
       "8     0.020498\n",
       "9     0.011713\n",
       "10    0.017570\n",
       "11    0.081991\n",
       "12    0.030747\n",
       "13    0.070278\n",
       "14    0.011713\n",
       "15    0.068814\n",
       "16    0.061493\n",
       "17    0.016105\n",
       "18    0.008785\n",
       "19    0.026354\n",
       "20    0.010249\n",
       "21    0.029283\n",
       "22    0.027818\n",
       "23    0.014641\n",
       "24    0.007321\n",
       "25    0.010249\n",
       "26    0.007321\n",
       "27    0.002928\n",
       "28    0.020498\n",
       "29    0.004392\n",
       "30    0.016105\n",
       "31    0.011713\n",
       "32    0.001464\n",
       "33    0.008785\n",
       "34    0.016105\n",
       "35    0.019034\n",
       "36    0.014641\n",
       "37    0.026354\n",
       "38    0.057101\n",
       "39    0.019034\n",
       "Name: 4, dtype: float64"
      ]
     },
     "execution_count": 56,
     "metadata": {},
     "output_type": "execute_result"
    }
   ],
   "source": [
    "gr25"
   ]
  },
  {
   "cell_type": "code",
   "execution_count": null,
   "metadata": {},
   "outputs": [],
   "source": []
  },
  {
   "cell_type": "code",
   "execution_count": null,
   "metadata": {},
   "outputs": [],
   "source": []
  }
 ],
 "metadata": {
  "anaconda-cloud": {},
  "kernelspec": {
   "display_name": "Python 3",
   "language": "python",
   "name": "python3"
  },
  "language_info": {
   "codemirror_mode": {
    "name": "ipython",
    "version": 3
   },
   "file_extension": ".py",
   "mimetype": "text/x-python",
   "name": "python",
   "nbconvert_exporter": "python",
   "pygments_lexer": "ipython3",
   "version": "3.7.4"
  }
 },
 "nbformat": 4,
 "nbformat_minor": 2
}
