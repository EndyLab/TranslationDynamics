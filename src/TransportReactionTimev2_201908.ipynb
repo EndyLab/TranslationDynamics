{
 "cells": [
  {
   "cell_type": "code",
   "execution_count": 1,
   "metadata": {
    "collapsed": false
   },
   "outputs": [
    {
     "name": "stdout",
     "output_type": "stream",
     "text": [
      "[1.82408503e-01 2.26014201e-01 2.06303972e-01 1.61205852e-01\n",
      " 1.11169045e-01 6.24079838e-02 3.09341429e-02 1.28230641e-02\n",
      " 4.87731459e-03 1.34766762e-03 3.98711260e-04 9.32792472e-05\n",
      " 1.62638472e-05 0.00000000e+00 0.00000000e+00 0.00000000e+00\n",
      " 0.00000000e+00 0.00000000e+00 0.00000000e+00 0.00000000e+00\n",
      " 0.00000000e+00 0.00000000e+00 0.00000000e+00 0.00000000e+00\n",
      " 0.00000000e+00 0.00000000e+00 0.00000000e+00 0.00000000e+00\n",
      " 0.00000000e+00 0.00000000e+00 0.00000000e+00 0.00000000e+00\n",
      " 0.00000000e+00 0.00000000e+00 0.00000000e+00 0.00000000e+00\n",
      " 0.00000000e+00 0.00000000e+00 0.00000000e+00 0.00000000e+00\n",
      " 0.00000000e+00 0.00000000e+00]\n"
     ]
    }
   ],
   "source": [
    "import numpy as np\n",
    "\n",
    "ptRNA = [0.0521, 0.0099, 0.0762, 0.0102, 0.0139, 0.0067, 0.0191, 0.0384, 0.0255, 0.0123, 0.0141,\\\n",
    " 0.0757, 0.0343, 0.0699, 0.0102, 0.0557, 0.0717, 0.0151, 0.0107, 0.0307, \\\n",
    " 0.0165, 0.0309, 0.0113, 0.0166, 0.0144, 0.0115, 0.0093, 0.0035, 0.0208, 0.0055, 0.0226, \\\n",
    " 0.0123, 0.0017, 0.0087, 0.0176, 0.0147, 0.0151, 0.0326, 0.0616,0.0203]\n",
    "ptRNA = np.divide(ptRNA,sum(ptRNA))\n",
    "\n",
    "tRNA_tags = [\"Ala1B\", \"Ala2\", \"Arg2\", \"Arg3\", \"Arg4\", \"Arg5\", \"Asn\", \"Asp1\", \"Cys\", \"Gln1\", \"Gln2\", \\\n",
    "\"Glu2\", \"Gly2\", \"Gly3\", \"His\", \"Ile1\", \"Leu1\", \"Leu2\", \"Leu3\", \"Leu4\", \"Leu5\", \"Lys\", \\\n",
    "\"Met_m\", \"Phe\", \"Pro1\", \"Pro2\", \"Pro3\", \"Sel_Cys\", \"Ser1\", \"Ser2\", \"Ser3\", \"Ser5\", \"Thr1\", \\\n",
    "\"Thr2\", \"Thr3\", \"Thr4\", \"Trp\", \"Tyr1pTyr2\", \"Val1\", \"Val2ApB\"]\n",
    "\n",
    "ptRNA_dict = dict(zip(tRNA_tags, ptRNA))\n",
    "\n",
    "codons_Ec = [\"GGG\", \"GGA\", \"GGU\", \"GGC\", \"GAG\", \"GAA\", \"GAU\", \"GAC\", \"GUG\", \"GUA\", \"GUU\", \\\n",
    "\"GUC\", \"GCG\", \"GCA\", \"GCU\", \"GCC\", \"AGG\", \"AGA\", \"AGU\", \"AGC\", \"AAG\", \"AAA\", \\\n",
    "\"AAU\", \"AAC\", \"AUG\", \"AUA\", \"AUU\", \"AUC\", \"ACG\", \"ACA\", \"ACU\", \"ACC\", \"UGG\", \\\n",
    "\"UGA\", \"UGU\", \"UGC\", \"UAU\", \"UAC\", \"UUG\", \"UUA\", \"UUU\", \"UUC\", \"UCG\", \"UCA\", \\\n",
    "\"UCU\", \"UCC\", \"CGG\", \"CGA\", \"CGU\", \"CGC\", \"CAG\", \"CAA\", \"CAU\", \"CAC\", \"CUG\", \\\n",
    "\"CUA\", \"CUU\", \"CUC\", \"CCG\", \"CCA\", \"CCU\", \"CCC\"]\n",
    "\n",
    "pcodons_Ec =[0.00483, 0.00272, 0.03847, 0.03579, 0.01665, 0.05335, 0.02436, \\\n",
    "0.02885, 0.02150, 0.01594, 0.03146, 0.01130, 0.03047, 0.02223, \\\n",
    "0.02898, 0.01989, 0.00009, 0.00113, 0.00401, 0.01203, 0.01214, \\\n",
    "0.04464, 0.00984, 0.02808, 0.02247, 0.00093, 0.02148, 0.03685, \\\n",
    "0.00757, 0.00350, 0.01394, 0.02663, 0.00981, 0.00031, 0.00425, \\\n",
    "0.00531, 0.01073, 0.01628, 0.00666, 0.00616, 0.01261, 0.02279, \\\n",
    "0.00608, 0.00391, 0.01318, 0.01120, 0.00176, 0.00133, 0.03126, \\\n",
    "0.02235, 0.02938, 0.01024, 0.00927, 0.01396, 0.06041, 0.00216, \\\n",
    "0.00573, 0.00622, 0.02965, 0.00655, 0.00501, 0.00332]\n",
    "pcodons_Ec = np.divide(pcodons_Ec,sum(pcodons_Ec))\n",
    "\n",
    "pcodon_dict = dict(zip(codons_Ec, pcodons_Ec))\n",
    "\n",
    "#Note AUA does not have an assigned tRNA\n",
    "codon_dict={'GGG': ['Gly2'], 'GGA': ['Gly2'], 'GGU': ['Gly3'], 'GGC': ['Gly3'], \\\n",
    "'GAG': ['Glu2'], 'GAA': ['Glu2'], 'GAU': ['Asp1'], 'GAC': ['Asp1'], \\\n",
    "'GUG': ['Val1'], 'GUA': ['Val1'], 'GUU': ['Val1','Val2ApB'], \\\n",
    "'GUC': ['Val2ApB'], 'GCG': ['Ala1B'], 'GCA': ['Ala1B'], 'GCU': ['Ala1B'], \\\n",
    "'GCC': ['Ala2'], 'AGG': ['Arg5'], 'AGA': ['Arg4'], 'AGU': ['Ser3'], \\\n",
    "'AGC': ['Ser3'], 'AAG': ['Lys'], 'AAA': ['Lys'], 'AAU': ['Asn'], \\\n",
    "'AAC': ['Asn'], 'AUG': ['Met_m'], 'AUA': [], 'AUU': ['Ile1'], \\\n",
    "'AUC': ['Ile1'], 'ACG': ['Thr2','Thr4'], 'ACA': ['Thr4'], \\\n",
    "'ACU': ['Thr1','Thr4','Thr3'], 'ACC': ['Thr3','Thr1'], \\\n",
    "'UGG': ['Trp'], 'UGA': ['Sel_Cys'], 'UGU': ['Cys'], 'UGC': ['Cys'], \\\n",
    "'UAU': ['Tyr1pTyr2'], 'UAC': ['Tyr1pTyr2'], 'UUG': ['Leu5','Leu4'], \\\n",
    "'UUA': ['Leu5'], 'UUU': ['Phe'], 'UUC': ['Phe'], 'UCG': ['Ser1','Ser2'], \\\n",
    "'UCA': ['Ser1'], 'UCU': ['Ser5','Ser1'], 'UCC': ['Ser5'], 'CGG': ['Arg3'], \\\n",
    "'CGA': ['Arg2'], 'CGU': ['Arg2'], 'CGC': ['Arg2'], 'CAG': ['Gln2'], \\\n",
    "'CAA': ['Gln1'], 'CAU': ['His'], 'CAC': ['His'], 'CUG': ['Leu1','Leu3'], \\\n",
    "'CUA': ['Leu3'], 'CUU': ['Leu2'], 'CUC': ['Leu2'], 'CCG': ['Pro1','Pro3'], \\\n",
    "'CCA': ['Pro3'], 'CCU': ['Pro2','Pro3'], 'CCC': ['Pro2']}\n",
    "\n",
    "cells = 1\n",
    "TU = 9500*20\n",
    "time = 180\n",
    "tRNA_distrib_arr = list()\n",
    "codon_count = {}\n",
    "codon_time = {}\n",
    "codon_time_avg = {}\n",
    "codon_time_weighted_avg={}\n",
    "codon_count_hist = {}\n",
    "codon_count_hist_weighted_avg = np.zeros(42)\n",
    "p_codon_tRNA = {}\n",
    "\n",
    "for key in codon_dict:\n",
    "    codon_count[key] = []\n",
    "    codon_time[key] = []\n",
    "    codon_time_avg[key] = []\n",
    "    codon_time_weighted_avg[key]=[]\n",
    "    codon_count_hist[key]=[]\n",
    "    p_codon_tRNA[key] = []\n",
    "\n",
    "# Construct dictionary that assigns probability of all tRNA specific to a certain codon\n",
    "# to that codon (p_codon_tRNA)\n",
    "for codon in codon_dict:\n",
    "    p_codon_tRNA_i = 0\n",
    "    for tRNA in codon_dict[codon]:\n",
    "        p_codon_tRNA_i += ptRNA_dict[tRNA]\n",
    "    p_codon_tRNA[codon].append(p_codon_tRNA_i)\n",
    "\n",
    "for cell in range(cells):\n",
    "    # Generate distribution for cognate tRNA count for each codon\n",
    "    for i in range(TU):\n",
    "            \n",
    "        #Construct translation unit with random tRNA (weighted by specific tRNA abundances)\n",
    "        #and 1 random codon (weighted by codon probabilities).\n",
    "        tRNA_vox = list(np.random.choice(tRNA_tags,42,p=ptRNA))\n",
    "        codon_vox = np.random.choice(codons_Ec, 1, p=pcodons_Ec)\n",
    "\n",
    "        #Count how many cognate tRNA appeared in the translation unit (for given codon) and record in codon_count\n",
    "        codon_count_i = 0\n",
    "        for tRNA in codon_dict[codon_vox[0]]:\n",
    "            codon_count_i += tRNA_vox.count(tRNA)\n",
    "        codon_count[codon_vox[0]].append(codon_count_i)\n",
    "    \n",
    "    for codon in codon_count:\n",
    "        #Generate histogram of cognate tRNA counts for each codon\n",
    "        codon_count_hist[codon] = np.histogram(codon_count[codon], bins=np.arange(0,43))[0]\n",
    "        \n",
    "        #Weight histogram by codon probabilities to generate weighted average histogram for all codon\n",
    "        codon_count_hist_weighted_avg += codon_count_hist[codon]*pcodon_dict[codon]\n",
    "    p_codon_count_hist_weighted_avg = codon_count_hist_weighted_avg/sum(codon_count_hist_weighted_avg)\n",
    "    print(p_codon_count_hist_weighted_avg)"
   ]
  },
  {
   "cell_type": "code",
   "execution_count": 4,
   "metadata": {
    "collapsed": false
   },
   "outputs": [
    {
     "data": {
      "text/plain": [
       "Text(0, 0.5, 'Probability')"
      ]
     },
     "execution_count": 4,
     "metadata": {},
     "output_type": "execute_result"
    },
    {
     "data": {
      "image/png": "[encoded data removed]",
      "text/plain": [
       "<Figure size 432x288 with 1 Axes>"
      ]
     },
     "metadata": {
      "needs_background": "light"
     },
     "output_type": "display_data"
    }
   ],
   "source": [
    "from analysis_utils import *\n",
    "import matplotlib.pyplot as plt\n",
    "import matplotlib.patches as mpatches\n",
    "import matplotlib as mpl\n",
    "%matplotlib inline\n",
    "\n",
    "plt.bar(np.arange(0,42),p_codon_count_hist_weighted_avg)\n",
    "plt.xlabel('# of cognate tRNA per TU',fontsize=20)\n",
    "plt.ylabel('Probability',fontsize=20)"
   ]
  },
  {
   "cell_type": "code",
   "execution_count": 5,
   "metadata": {
    "collapsed": false
   },
   "outputs": [
    {
     "name": "stdout",
     "output_type": "stream",
     "text": [
      "The autoreload extension is already loaded. To reload it, use:\n",
      "  %reload_ext autoreload\n",
      "test\n",
      "test\n",
      "missing expt\n",
      "168\n",
      "missing expt\n",
      "176\n",
      "missing expt\n",
      "188\n",
      "test\n",
      "missing expt\n",
      "320\n",
      "test\n",
      "test\n",
      "test\n",
      "missing expt\n",
      "838\n",
      "test\n",
      "test\n",
      "missing expt\n",
      "231\n",
      "test\n",
      "test\n",
      "test\n",
      "test\n",
      "missing expt\n",
      "839\n"
     ]
    }
   ],
   "source": [
    "from analysis_utils import *\n",
    "%load_ext autoreload\n",
    "%autoreload\n",
    "path = \"/Users/Akshay/Dropbox/Life/EndyLab/Research/TranslationDynamics/data/\"\n",
    "\n",
    "gr06 = dict()\n",
    "data = \"190404_0410/\"\n",
    "for i in range(1,7):\n",
    "    sim_i = computeTransportRxnTimes(path+data, 1000, 1000, 150*(i-1),150*(i-1)+100,scaling=10)\n",
    "    gr06[i] = (CellLatencies(sim_i))\n",
    "    \n",
    "gr30 = dict()\n",
    "data = \"190404_0933/\"\n",
    "for i in range(1,7):\n",
    "    sim_i = computeTransportRxnTimes(path+data, 1000, 1000, 150*(i-1),150*(i-1)+100,scaling=10)\n",
    "    gr30[i] = (CellLatencies(sim_i))\n",
    "    \n",
    "gr = {0.6:gr06,3.0:gr30}"
   ]
  },
  {
   "cell_type": "code",
   "execution_count": 6,
   "metadata": {
    "collapsed": false
   },
   "outputs": [
    {
     "ename": "NameError",
     "evalue": "name 'gr_i' is not defined",
     "output_type": "error",
     "traceback": [
      "\u001b[0;31m---------------------------------------------------------------------------\u001b[0m",
      "\u001b[0;31mNameError\u001b[0m                                 Traceback (most recent call last)",
      "\u001b[0;32m<ipython-input-6-5168c8d156a4>\u001b[0m in \u001b[0;36m<module>\u001b[0;34m\u001b[0m\n\u001b[0;32m----> 1\u001b[0;31m \u001b[0mgr\u001b[0m\u001b[0;34m[\u001b[0m\u001b[0mgr_i\u001b[0m\u001b[0;34m]\u001b[0m\u001b[0;34m[\u001b[0m\u001b[0mi\u001b[0m\u001b[0;34m]\u001b[0m\u001b[0;34m\u001b[0m\u001b[0;34m\u001b[0m\u001b[0m\n\u001b[0m",
      "\u001b[0;31mNameError\u001b[0m: name 'gr_i' is not defined"
     ]
    }
   ],
   "source": [
    "gr[gr_i][i]"
   ]
  },
  {
   "cell_type": "code",
   "execution_count": 7,
   "metadata": {
    "collapsed": false
   },
   "outputs": [
    {
     "data": {
      "text/html": [
       "<style>.container { width:80% !important; }</style>"
      ],
      "text/plain": [
       "<IPython.core.display.HTML object>"
      ]
     },
     "metadata": {},
     "output_type": "display_data"
    },
    {
     "name": "stdout",
     "output_type": "stream",
     "text": [
      "The autoreload extension is already loaded. To reload it, use:\n",
      "  %reload_ext autoreload\n",
      "[array(30.30934402), array(11.8114136), array(7.10712904), array(4.41117048), array(1.79278759), array(0.69326589)]\n",
      "[array(23.21397483), array(12.69496592), array(6.39877931), array(3.31497642), array(1.20898887), array(0.68757594)]\n",
      "[52.25938981834266, 40.77821404172745]\n",
      "[3.8657208032820503, 6.741047250485952]\n",
      "[56.125110621624714, 47.51926129221341]\n"
     ]
    },
    {
     "data": {
      "text/plain": [
       "Text(0, 0.5, 'Search time (ms)')"
      ]
     },
     "execution_count": 7,
     "metadata": {},
     "output_type": "execute_result"
    },
    {
     "data": {
      "image/png": "[encoded data removed]",
      "text/plain": [
       "<Figure size 1800x504 with 3 Axes>"
      ]
     },
     "metadata": {
      "needs_background": "light"
     },
     "output_type": "display_data"
    }
   ],
   "source": [
    "#Figure 3\n",
    "from analysis_utils import *\n",
    "import matplotlib.pyplot as plt\n",
    "import matplotlib.patches as mpatches\n",
    "import matplotlib as mpl\n",
    "from IPython.core.display import display, HTML\n",
    "display(HTML(\"<style>.container { width:80% !important; }</style>\"))\n",
    "\n",
    "%matplotlib inline\n",
    "%load_ext autoreload\n",
    "%autoreload\n",
    "hfont = {'fontname':'Helvetica'}\n",
    "\n",
    "####### transport vs. reaction for different growth rates #####\n",
    "\n",
    "colors = ['darkblue','#D43F3A']\n",
    "gr_i_list = [0.6,3.0]\n",
    "phi_list = [0.14,0.43]\n",
    "markers = ['*','^']\n",
    "transport_phi = list()\n",
    "reaction_phi = list()\n",
    "search_phi = list()\n",
    "for j,gr_i in enumerate(gr_i_list):\n",
    "    transport_vals_list = list()\n",
    "    reaction_vals_list = list()\n",
    "    search_vals_list = list()\n",
    "    \n",
    "    for i in range(1,7):\n",
    "        transport_vals = gr[gr_i][i].avg_transportT*1000*p_codon_count_hist_weighted_avg[i]/(1-p_codon_count_hist_weighted_avg[0])\n",
    "        rxn_vals = gr[gr_i][i].avg_rxnT*1000*p_codon_count_hist_weighted_avg[i]/(1-p_codon_count_hist_weighted_avg[0])\n",
    "        search_vals = gr[gr_i][i].avg_searchT*1000*p_codon_count_hist_weighted_avg[i]/(1-p_codon_count_hist_weighted_avg[0])\n",
    "        \n",
    "        transport_vals_list.append(np.array(transport_vals))\n",
    "        reaction_vals_list.append(np.array(rxn_vals))\n",
    "        search_vals_list.append(np.array(search_vals))\n",
    "    print(search_vals_list)\n",
    "    transport_phi.append(np.sum(transport_vals_list))\n",
    "    reaction_phi.append(np.sum(reaction_vals_list))\n",
    "    search_phi.append(np.sum(search_vals_list))\n",
    "print(transport_phi)\n",
    "print(reaction_phi)\n",
    "print(search_phi)\n",
    "    \n",
    "#############################################################################\n",
    "fig,[ax1,ax2,ax]= plt.subplots(1,3,figsize=(25,7))\n",
    "\n",
    "for _,axes in enumerate([ax,ax1,ax2]):\n",
    "    axes.spines['left'].set_linewidth(4)\n",
    "    axes.spines['bottom'].set_linewidth(4)\n",
    "    axes.spines['top'].set_linewidth(4)\n",
    "    axes.spines['right'].set_linewidth(4)\n",
    "    axes.tick_params(axis='both', which='major', labelsize=20)\n",
    "    axes.set_xlim(0.1,0.5)\n",
    "    \n",
    "ax1.plot(phi_list,transport_phi,linewidth=4)\n",
    "ax1.set_xlabel(r'$\\mathregular{\\phi_{ voxel}}$',fontsize=25)\n",
    "ax1.set_ylabel(\"Transport time (ms)\",fontsize=25)\n",
    "\n",
    "ax2.plot(phi_list,reaction_phi,linewidth=4)\n",
    "ax2.set_xlabel(r'$\\mathregular{\\phi_{ voxel}}$',fontsize=25)\n",
    "ax2.set_ylabel(\"Time spent incorrectly bound (ms)\",fontsize=25)\n",
    "\n",
    "ax.plot(phi_list,search_phi,linewidth=4)\n",
    "ax.set_xlabel(r'$\\mathregular{\\phi_{ voxel}}$',fontsize=25)\n",
    "ax.set_ylabel(\"Search time (ms)\",fontsize=25)"
   ]
  },
  {
   "cell_type": "code",
   "execution_count": 8,
   "metadata": {
    "collapsed": false
   },
   "outputs": [
    {
     "name": "stdout",
     "output_type": "stream",
     "text": [
      "The autoreload extension is already loaded. To reload it, use:\n",
      "  %reload_ext autoreload\n",
      "test\n",
      "test\n",
      "test\n",
      "test\n",
      "test\n",
      "test\n",
      "test\n",
      "test\n",
      "test\n",
      "test\n",
      "missing expt\n",
      "914\n",
      "missing expt\n",
      "919\n",
      "test\n",
      "test\n",
      "missing expt\n",
      "1108\n",
      "missing expt\n",
      "1199\n",
      "test\n",
      "missing expt\n",
      "65\n",
      "test\n",
      "missing expt\n",
      "106\n",
      "test\n",
      "test\n",
      "test\n",
      "test\n",
      "test\n",
      "missing expt\n",
      "632\n",
      "missing expt\n",
      "637\n",
      "test\n",
      "test\n",
      "test\n",
      "test\n",
      "test\n",
      "missing expt\n",
      "1122\n",
      "missing expt\n",
      "1136\n",
      "missing expt\n",
      "1199\n",
      "test\n",
      "test\n",
      "test\n",
      "test\n",
      "test\n",
      "test\n",
      "test\n",
      "test\n",
      "test\n",
      "missing expt\n",
      "888\n",
      "test\n",
      "test\n",
      "test\n",
      "missing expt\n",
      "1199\n"
     ]
    }
   ],
   "source": [
    "#1e-8\n",
    "from analysis_utils import *\n",
    "%load_ext autoreload\n",
    "%autoreload\n",
    "path = \"/Users/Akshay/Dropbox/Life/EndyLab/Research/TranslationDynamics/data/\"\n",
    "\n",
    "gr06 = dict()\n",
    "data = \"190807_1607/\"\n",
    "for i in range(1,7):\n",
    "    sim_i = computeTransportRxnTimes(path+data, 1000, 1000, 100*(i-1),100*i,scaling=10)\n",
    "    gr06[i] = (CellLatencies(sim_i))\n",
    "    \n",
    "gr10 = dict()\n",
    "data = \"190807_1607/\"\n",
    "for i in range(1,7):\n",
    "    sim_i = computeTransportRxnTimes(path+data, 1000, 1000, 600+100*(i-1),600+100*i,scaling=10)\n",
    "    gr10[i] = (CellLatencies(sim_i))\n",
    "    \n",
    "gr15 = dict()\n",
    "data = \"190807_1929/\"\n",
    "for i in range(1,7):\n",
    "    sim_i = computeTransportRxnTimes(path+data, 1000, 1000, 100*(i-1),100*i,scaling=10)\n",
    "    gr15[i] = (CellLatencies(sim_i))\n",
    "    \n",
    "gr20 = dict()\n",
    "data = \"190807_1929/\"\n",
    "for i in range(1,7):\n",
    "    sim_i = computeTransportRxnTimes(path+data, 1000, 1000, 600+100*(i-1),600+100*i,scaling=10)\n",
    "    gr20[i] = (CellLatencies(sim_i))\n",
    "    \n",
    "gr25 = dict()\n",
    "data = \"190807_2231/\"\n",
    "for i in range(1,7):\n",
    "    sim_i = computeTransportRxnTimes(path+data, 1000, 1000, 100*(i-1),100*i,scaling=10)\n",
    "    gr25[i] = (CellLatencies(sim_i))\n",
    "    \n",
    "gr30 = dict()\n",
    "data = \"190807_2231/\"\n",
    "for i in range(1,7):\n",
    "    sim_i = computeTransportRxnTimes(path+data, 1000, 1000, 600+100*(i-1),600+100*i,scaling=10)\n",
    "    gr30[i] = (CellLatencies(sim_i))\n",
    "    \n",
    "gr = {0.6:gr06,1.0:gr10,1.5:gr15,2.0:gr20,2.5:gr25,3.0:gr30}"
   ]
  },
  {
   "cell_type": "code",
   "execution_count": 9,
   "metadata": {
    "collapsed": false
   },
   "outputs": [
    {
     "data": {
      "text/html": [
       "<style>.container { width:80% !important; }</style>"
      ],
      "text/plain": [
       "<IPython.core.display.HTML object>"
      ]
     },
     "metadata": {},
     "output_type": "display_data"
    },
    {
     "name": "stdout",
     "output_type": "stream",
     "text": [
      "The autoreload extension is already loaded. To reload it, use:\n",
      "  %reload_ext autoreload\n",
      "[array(26.2873358), array(12.77748762), array(7.15746519), array(3.74005926), array(1.52899601), array(0.67742255)]\n",
      "[array(28.48718619), array(11.32987171), array(6.65840565), array(3.09998653), array(1.48673706), array(0.67715687)]\n",
      "[array(26.27170948), array(12.25983783), array(5.42195515), array(3.46575861), array(1.63379152), array(0.69283102)]\n",
      "[array(27.92540691), array(13.35580207), array(5.89634931), array(2.98072001), array(1.27841115), array(0.59722698)]\n",
      "[array(30.56245049), array(11.52757535), array(6.93477916), array(2.80850655), array(1.45998157), array(0.60514275)]\n",
      "[array(25.12758394), array(9.76463053), array(4.39575278), array(3.06533663), array(1.8954746), array(0.60948112)]\n",
      "[48.60774876360404, 42.93572387100687, 40.22357345439002, 41.944174972003054, 45.0294154594089, 38.415443716653655]\n",
      "[3.561017669222551, 8.803620147011689, 9.522310154031707, 10.089741457950652, 8.86902040503849, 6.4428158886201645]\n",
      "[52.16876643282657, 51.739344018018556, 49.74588360842173, 52.0339164299537, 53.8984358644474, 44.85825960527382]\n"
     ]
    },
    {
     "data": {
      "image/png": "[encoded data removed]",
      "text/plain": [
       "<Figure size 1800x504 with 7 Axes>"
      ]
     },
     "metadata": {
      "needs_background": "light"
     },
     "output_type": "display_data"
    }
   ],
   "source": [
    "#Figure 3\n",
    "from analysis_utils import *\n",
    "import matplotlib.pyplot as plt\n",
    "import matplotlib.patches as mpatches\n",
    "import matplotlib as mpl\n",
    "from IPython.core.display import display, HTML\n",
    "display(HTML(\"<style>.container { width:80% !important; }</style>\"))\n",
    "\n",
    "%matplotlib inline\n",
    "%load_ext autoreload\n",
    "%autoreload\n",
    "hfont = {'fontname':'Helvetica'}\n",
    "\n",
    "####### transport vs. reaction for different growth rates #####\n",
    "\n",
    "colors = ['darkblue','#D43F3A']\n",
    "gr_i_list = [0.6,1.0,1.5,2.0,2.5,3.0]\n",
    "phi_list = [0.13,0.22,0.30,0.36,0.39,0.42]\n",
    "markers = ['*','^']\n",
    "transport_phi = list()\n",
    "reaction_phi = list()\n",
    "search_phi = list()\n",
    "for j,gr_i in enumerate(gr_i_list):\n",
    "    transport_vals_list = list()\n",
    "    reaction_vals_list = list()\n",
    "    search_vals_list = list()\n",
    "    \n",
    "    for i in range(1,7):\n",
    "        transport_vals = gr[gr_i][i].avg_transportT*1000*p_codon_count_hist_weighted_avg[i]/(1-p_codon_count_hist_weighted_avg[0])\n",
    "        rxn_vals = gr[gr_i][i].avg_rxnT*1000*p_codon_count_hist_weighted_avg[i]/(1-p_codon_count_hist_weighted_avg[0])\n",
    "        search_vals = gr[gr_i][i].avg_searchT*1000*p_codon_count_hist_weighted_avg[i]/(1-p_codon_count_hist_weighted_avg[0])\n",
    "        \n",
    "        transport_vals_list.append(np.array(transport_vals))\n",
    "        reaction_vals_list.append(np.array(rxn_vals))\n",
    "        search_vals_list.append(np.array(search_vals))\n",
    "    print(search_vals_list)\n",
    "    transport_phi.append(np.sum(transport_vals_list))\n",
    "    reaction_phi.append(np.sum(reaction_vals_list))\n",
    "    search_phi.append(np.sum(search_vals_list))\n",
    "print(transport_phi)\n",
    "print(reaction_phi)\n",
    "print(search_phi)\n",
    "    \n",
    "#############################################################################\n",
    "fig,[ax1,ax2,ax]= plt.subplots(1,3,figsize=(25,7))\n",
    "twin1 = ax1.twiny()\n",
    "twin1a = ax1.twiny()\n",
    "twin2 = ax2.twiny()\n",
    "twin2a = ax2.twiny()\n",
    "\n",
    "for _,axes in enumerate([ax,ax1,ax2,twin1,twin1a,twin2,twin2a]):\n",
    "    axes.spines['left'].set_linewidth(4)\n",
    "    axes.spines['bottom'].set_linewidth(4)\n",
    "    axes.spines['top'].set_linewidth(4)\n",
    "    axes.spines['right'].set_linewidth(4)\n",
    "    axes.tick_params(axis='both', which='major', labelsize=20)\n",
    "    axes.set_xlim(0.1,0.5)\n",
    "    \n",
    "ax1.plot(phi_list,transport_phi,linewidth=4)\n",
    "ax1.set_xlabel('$\\phi_{ voxel}$',fontsize=25)\n",
    "ax1.set_ylabel(\"Transport time (ms)\",fontsize=25)\n",
    "\n",
    "ax2.plot(phi_list,reaction_phi,linewidth=4)\n",
    "ax2.set_xlabel('$\\phi_{ voxel}$',fontsize=25)\n",
    "ax2.set_ylabel(\"Time spent incorrectly bound (ms)\",fontsize=25)\n",
    "\n",
    "ax.plot(phi_list,search_phi,linewidth=4)\n",
    "ax.set_xlabel('$\\phi_{ voxel}$',fontsize=25)\n",
    "ax.set_ylabel(\"Search time (ms)\",fontsize=25)\n",
    "\n",
    "twin1.plot(transport_phi, transport_phi,linewidth=0)\n",
    "twin1.spines['bottom'].set_position(('outward', 75))\n",
    "twin1.xaxis.set_ticks_position(\"bottom\")\n",
    "twin1.xaxis.set_label_position(\"bottom\")\n",
    "twin1.set_xlabel('$Relative\\: Viscosity\\:(η_{r,0})$',fontsize=25)\n",
    "twin1.set_xticklabels([1.3, 1.6,2.2,9.9,13])\n",
    "\n",
    "twin1a.plot(transport_phi, transport_phi,linewidth=0)\n",
    "twin1a.spines['bottom'].set_position(('outward', 150))\n",
    "twin1a.xaxis.set_ticks_position(\"bottom\")\n",
    "twin1a.xaxis.set_label_position(\"bottom\")\n",
    "twin1a.set_xlabel('$L_{vox}\\:[nm] $',fontsize=25)\n",
    "twin1a.set_xticklabels([101,93,84,77,72,68])\n",
    "\n",
    "twin2.plot(reaction_phi, reaction_phi,linewidth=0)\n",
    "twin2.spines['bottom'].set_position(('outward', 75))\n",
    "twin2.xaxis.set_ticks_position(\"bottom\")\n",
    "twin2.xaxis.set_label_position(\"bottom\")\n",
    "twin2.set_xlabel('$\\phi_{ribosome}$',fontsize=25)\n",
    "twin2.set_xticklabels(np.round(np.array([0.03215227415651342, 0.09094714428745478, 0.14097811277507588,0.17533572924895058,0.19990528711580194,0.21797163000890407]),2))\n",
    "\n",
    "twin2a.plot(reaction_phi, reaction_phi,linewidth=0)\n",
    "twin2a.spines['bottom'].set_position(('outward', 150))\n",
    "twin2a.xaxis.set_ticks_position(\"bottom\")\n",
    "twin2a.xaxis.set_label_position(\"bottom\")\n",
    "twin2a.set_xlabel('$Relative\\:repeat\\:reaction\\:rate$',fontsize=25)\n",
    "twin2a.set_xticklabels(np.round(np.array([21.17668825161887,\n",
    " 10.196348884381338,\n",
    " 8.549512036434614,\n",
    " 6.520406375897705,\n",
    " 6.031409285025486,\n",
    " 5.689668195306178])/5.689668195306178,1));\n",
    "#the secondary rise in transport time could be because the\n",
    "#decrease in crowding is reducing facilitiated mixing of \n",
    "#not only cognate away from incorrect repeats,\n",
    "#but also incorrect cognates repeat reacting and blocking the cognate ribosome!\n",
    "#I should also get a graph to show that cognate blocking point. Can compare the \n",
    "#2nd and 5th point which have same ribosomes, but 2nd has more crowders (though)\n",
    "#different voxel size. 2nd maybe faster bcz facilitated mixing"
   ]
  },
  {
   "cell_type": "code",
   "execution_count": 10,
   "metadata": {
    "collapsed": false
   },
   "outputs": [
    {
     "name": "stdout",
     "output_type": "stream",
     "text": [
      "The autoreload extension is already loaded. To reload it, use:\n",
      "  %reload_ext autoreload\n",
      "last 1e-9\n",
      "test\n",
      "missing expt\n",
      "14\n",
      "missing expt\n",
      "18\n",
      "test\n",
      "test\n",
      "test\n",
      "missing expt\n",
      "314\n",
      "test\n",
      "test\n",
      "test\n",
      "missing expt\n",
      "633\n",
      "test\n",
      "missing expt\n",
      "712\n",
      "test\n",
      "test\n",
      "test\n",
      "test\n",
      "missing expt\n",
      "1199\n",
      "second 1e-9\n",
      "test\n",
      "test\n",
      "test\n",
      "test\n",
      "test\n",
      "test\n",
      "test\n",
      "test\n",
      "test\n",
      "test\n",
      "test\n",
      "test\n",
      "missing expt\n",
      "1199\n",
      "1e-9\n",
      "test\n",
      "missing expt\n",
      "6\n",
      "missing expt\n",
      "30\n",
      "missing expt\n",
      "38\n",
      "missing expt\n",
      "74\n",
      "test\n",
      "test\n",
      "test\n",
      "test\n",
      "test\n",
      "test\n",
      "missing expt\n",
      "648\n",
      "missing expt\n",
      "667\n",
      "test\n",
      "test\n",
      "test\n",
      "test\n",
      "test\n",
      "missing expt\n",
      "1199\n"
     ]
    }
   ],
   "source": [
    "#1e-9\n",
    "from analysis_utils import *\n",
    "%load_ext autoreload\n",
    "%autoreload\n",
    "path = \"/Users/Akshay/Dropbox/Life/EndyLab/Research/TranslationDynamics/data/\"\n",
    "\n",
    "print('last 1e-9')\n",
    "gr06 = dict()\n",
    "data = \"190811_2337/\"\n",
    "for i in range(1,7):\n",
    "    sim_i = computeTransportRxnTimes(path+data, 1000, 1000, 100*(i-1),100*i,scaling=10)\n",
    "    gr06[i] = (CellLatencies(sim_i))\n",
    "    \n",
    "gr10 = dict()\n",
    "data = \"190811_2337/\"\n",
    "for i in range(1,7):\n",
    "    sim_i = computeTransportRxnTimes(path+data, 1000, 1000, 600+100*(i-1),600+100*i,scaling=10)\n",
    "    gr10[i] = (CellLatencies(sim_i))\n",
    "\n",
    "print('second 1e-9')\n",
    "gr15 = dict()\n",
    "data = \"190811_0011/\" #190808_1228/\"\n",
    "for i in range(1,7):\n",
    "    sim_i = computeTransportRxnTimes(path+data, 1000, 1000, 100*(i-1),100*i,scaling=10)\n",
    "    gr15[i] = (CellLatencies(sim_i))\n",
    "    \n",
    "gr20 = dict()\n",
    "data = \"190811_0011/\"\n",
    "for i in range(1,7):\n",
    "    sim_i = computeTransportRxnTimes(path+data, 1000, 1000, 600+100*(i-1),600+100*i,scaling=10)\n",
    "    gr20[i] = (CellLatencies(sim_i))\n",
    "\n",
    "print('1e-9')\n",
    "gr25 = dict()\n",
    "data = \"190808_0209/\"\n",
    "for i in range(1,7):\n",
    "    sim_i = computeTransportRxnTimes(path+data, 1000, 1000, 100*(i-1),100*i,scaling=10)\n",
    "    gr25[i] = (CellLatencies(sim_i))\n",
    "    \n",
    "gr30 = dict()\n",
    "data = \"190808_0209/\"\n",
    "for i in range(1,7):\n",
    "    sim_i = computeTransportRxnTimes(path+data, 1000, 1000, 600+100*(i-1),600+100*i,scaling=10)\n",
    "    gr30[i] = (CellLatencies(sim_i))\n",
    "    \n",
    "gr = {0.6:gr06,1.0:gr10,1.5:gr15,2.0:gr20,2.5:gr25,3.0:gr30}\n",
    "\n"
   ]
  },
  {
   "cell_type": "code",
   "execution_count": 11,
   "metadata": {
    "collapsed": false
   },
   "outputs": [
    {
     "data": {
      "text/html": [
       "<style>.container { width:80% !important; }</style>"
      ],
      "text/plain": [
       "<IPython.core.display.HTML object>"
      ]
     },
     "metadata": {},
     "output_type": "display_data"
    },
    {
     "name": "stdout",
     "output_type": "stream",
     "text": [
      "The autoreload extension is already loaded. To reload it, use:\n",
      "  %reload_ext autoreload\n",
      "[array(42.78401096), array(19.69365996), array(8.73708887), array(5.62639778), array(2.6012868), array(1.03993963)]\n",
      "[array(34.60242954), array(15.70537053), array(7.95528275), array(4.22350697), array(1.81646951), array(0.69397216)]\n",
      "[array(29.66813603), array(12.51700304), array(8.75962775), array(4.15200125), array(1.56218565), array(0.64711739)]\n",
      "[array(27.314334), array(12.82311274), array(7.62456432), array(3.63773889), array(1.4497063), array(0.63969992)]\n",
      "[array(21.4006911), array(11.42304398), array(7.54052451), array(3.52770998), array(1.64220179), array(0.51027959)]\n",
      "[array(20.39360582), array(12.23687246), array(4.75341995), array(3.91857429), array(1.44579745), array(0.62917405)]\n",
      "transport time  [74.55732091125215, 53.607377382185106, 46.42229660365965, 43.215435359100255, 37.868149962308735, 37.38750445935399]\n",
      "reaction time  [5.925063087382437, 11.38965409436934, 10.88377450717137, 10.273720818714915, 8.176300986441044, 5.989939562390357]\n",
      "search time  [80.48238399863455, 64.99703147655445, 57.30607111083102, 53.48915617781518, 46.044450948749784, 43.37744402174434]\n"
     ]
    },
    {
     "data": {
      "image/png": "[encoded data removed]",
      "text/plain": [
       "<Figure size 1800x504 with 7 Axes>"
      ]
     },
     "metadata": {
      "needs_background": "light"
     },
     "output_type": "display_data"
    }
   ],
   "source": [
    "#Figure 3\n",
    "from analysis_utils import *\n",
    "import matplotlib.pyplot as plt\n",
    "import matplotlib.patches as mpatches\n",
    "import matplotlib as mpl\n",
    "from IPython.core.display import display, HTML\n",
    "display(HTML(\"<style>.container { width:80% !important; }</style>\"))\n",
    "\n",
    "%matplotlib inline\n",
    "%load_ext autoreload\n",
    "%autoreload\n",
    "hfont = {'fontname':'Helvetica'}\n",
    "\n",
    "####### transport vs. reaction for different growth rates #####\n",
    "\n",
    "colors = ['darkblue','#D43F3A']\n",
    "gr_i_list = [0.6,1.0,1.5,2.0,2.5,3.0]\n",
    "phi_list = [0.13,0.22,0.30,0.36,0.39,0.42]\n",
    "markers = ['*','^']\n",
    "transport_phi = list()\n",
    "reaction_phi = list()\n",
    "search_phi = list()\n",
    "for j,gr_i in enumerate(gr_i_list):\n",
    "    transport_vals_list = list()\n",
    "    reaction_vals_list = list()\n",
    "    search_vals_list = list()\n",
    "    \n",
    "    for i in range(1,7):\n",
    "        transport_vals = gr[gr_i][i].avg_transportT*1000*p_codon_count_hist_weighted_avg[i]/(1-p_codon_count_hist_weighted_avg[0])\n",
    "        rxn_vals = gr[gr_i][i].avg_rxnT*1000*p_codon_count_hist_weighted_avg[i]/(1-p_codon_count_hist_weighted_avg[0])\n",
    "        search_vals = gr[gr_i][i].avg_searchT*1000*p_codon_count_hist_weighted_avg[i]/(1-p_codon_count_hist_weighted_avg[0])\n",
    "        \n",
    "        transport_vals_list.append(np.array(transport_vals))\n",
    "        reaction_vals_list.append(np.array(rxn_vals))\n",
    "        search_vals_list.append(np.array(search_vals))\n",
    "    print(search_vals_list)\n",
    "    transport_phi.append(np.sum(transport_vals_list))\n",
    "    reaction_phi.append(np.sum(reaction_vals_list))\n",
    "    search_phi.append(np.sum(search_vals_list))\n",
    "print('transport time ', transport_phi)\n",
    "print('reaction time ', reaction_phi)\n",
    "print('search time ', search_phi)\n",
    "    \n",
    "#############################################################################\n",
    "fig,[ax1,ax2,ax]= plt.subplots(1,3,figsize=(25,7))\n",
    "twin1 = ax1.twiny()\n",
    "twin1a = ax1.twiny()\n",
    "twin2 = ax2.twiny()\n",
    "twin2a = ax2.twiny()\n",
    "\n",
    "for _,axes in enumerate([ax,ax1,ax2,twin1,twin1a,twin2,twin2a]):\n",
    "    axes.spines['left'].set_linewidth(4)\n",
    "    axes.spines['bottom'].set_linewidth(4)\n",
    "    axes.spines['top'].set_linewidth(4)\n",
    "    axes.spines['right'].set_linewidth(4)\n",
    "    axes.tick_params(axis='both', which='major', labelsize=20)\n",
    "    axes.set_xlim(0.1,0.5)\n",
    "    \n",
    "ax1.plot(phi_list,transport_phi,linewidth=4)\n",
    "ax1.set_xlabel('$\\phi_{ voxel}$',fontsize=25)\n",
    "ax1.set_ylabel(\"Transport time (ms)\",fontsize=25)\n",
    "\n",
    "ax2.plot(phi_list,reaction_phi,linewidth=4)\n",
    "ax2.set_xlabel('$\\phi_{ voxel}$',fontsize=25)\n",
    "ax2.set_ylabel(\"Time spent incorrectly bound (ms)\",fontsize=25)\n",
    "\n",
    "ax.plot(phi_list,search_phi,linewidth=4)\n",
    "ax.set_xlabel('$\\phi_{ voxel}$',fontsize=25)\n",
    "ax.set_ylabel(\"Search time (ms)\",fontsize=25)\n",
    "\n",
    "twin1.plot(transport_phi, transport_phi,linewidth=0)\n",
    "twin1.spines['bottom'].set_position(('outward', 75))\n",
    "twin1.xaxis.set_ticks_position(\"bottom\")\n",
    "twin1.xaxis.set_label_position(\"bottom\")\n",
    "twin1.set_xlabel('$Relative\\: Viscosity\\:(η_{r,0})$',fontsize=25)\n",
    "twin1.set_xticklabels([1.3, 1.6,2.2,9.9,13])\n",
    "\n",
    "twin1a.plot(transport_phi, transport_phi,linewidth=0)\n",
    "twin1a.spines['bottom'].set_position(('outward', 150))\n",
    "twin1a.xaxis.set_ticks_position(\"bottom\")\n",
    "twin1a.xaxis.set_label_position(\"bottom\")\n",
    "twin1a.set_xlabel('$L_{vox}\\:[nm] $',fontsize=25)\n",
    "twin1a.set_xticklabels([101,93,84,77,72,68])\n",
    "\n",
    "twin2.plot(reaction_phi, reaction_phi,linewidth=0)\n",
    "twin2.spines['bottom'].set_position(('outward', 75))\n",
    "twin2.xaxis.set_ticks_position(\"bottom\")\n",
    "twin2.xaxis.set_label_position(\"bottom\")\n",
    "twin2.set_xlabel('$\\phi_{ribosome}$',fontsize=25)\n",
    "twin2.set_xticklabels(np.round(np.array([0.03215227415651342, 0.09094714428745478, 0.14097811277507588,0.17533572924895058,0.19990528711580194,0.21797163000890407]),2))\n",
    "\n",
    "twin2a.plot(reaction_phi, reaction_phi,linewidth=0)\n",
    "twin2a.spines['bottom'].set_position(('outward', 150))\n",
    "twin2a.xaxis.set_ticks_position(\"bottom\")\n",
    "twin2a.xaxis.set_label_position(\"bottom\")\n",
    "twin2a.set_xlabel('$Relative\\:repeat\\:reaction\\:rate$',fontsize=25)\n",
    "twin2a.set_xticklabels(np.round(np.array([21.17668825161887,\n",
    " 10.196348884381338,\n",
    " 8.549512036434614,\n",
    " 6.520406375897705,\n",
    " 6.031409285025486,\n",
    " 5.689668195306178])/5.689668195306178,1));\n",
    "#the secondary rise in transport time could be because the\n",
    "#decrease in crowding is reducing facilitiated mixing of \n",
    "#not only cognate away from incorrect repeats,\n",
    "#but also incorrect cognates repeat reacting and blocking the cognate ribosome!\n",
    "#I should also get a graph to show that cognate blocking point. Can compare the \n",
    "#2nd and 5th point which have same ribosomes, but 2nd has more crowders (though)\n",
    "#different voxel size. 2nd maybe faster bcz facilitated mixing"
   ]
  },
  {
   "cell_type": "code",
   "execution_count": 12,
   "metadata": {
    "collapsed": false
   },
   "outputs": [
    {
     "data": {
      "text/plain": [
       "0.0109362"
      ]
     },
     "execution_count": 12,
     "metadata": {},
     "output_type": "execute_result"
    }
   ],
   "source": [
    "gr06[1].rxnT[70]"
   ]
  },
  {
   "cell_type": "code",
   "execution_count": 13,
   "metadata": {
    "collapsed": false
   },
   "outputs": [
    {
     "name": "stdout",
     "output_type": "stream",
     "text": [
      "The autoreload extension is already loaded. To reload it, use:\n",
      "  %reload_ext autoreload\n",
      "1e-8\n",
      "test\n",
      "test\n",
      "test\n",
      "test\n",
      "test\n",
      "test\n",
      "1e-9\n",
      "test\n",
      "test\n",
      "test\n",
      "test\n",
      "test\n",
      "missing expt\n",
      "1093\n",
      "test\n",
      "missing expt\n",
      "1169\n",
      "missing expt\n",
      "1199\n"
     ]
    },
    {
     "data": {
      "text/html": [
       "<style>.container { width:80% !important; }</style>"
      ],
      "text/plain": [
       "<IPython.core.display.HTML object>"
      ]
     },
     "metadata": {},
     "output_type": "display_data"
    },
    {
     "name": "stdout",
     "output_type": "stream",
     "text": [
      "The autoreload extension is already loaded. To reload it, use:\n",
      "  %reload_ext autoreload\n",
      "[array(30.39247283), array(43.02273706), array(11.29522551), array(9.22700389), array(3.19455869), array(1.70880416)]\n",
      "[array(7.04059804), array(12.19227443), array(4.39834708), array(3.58218329), array(1.31166427), array(0.97264485)]\n",
      "[89.94783463496175, 26.848536071340973]\n",
      "[8.892967510716028, 2.649175900135768]\n",
      "[98.84080214567778, 29.497711971476743]\n"
     ]
    }
   ],
   "source": [
    "#1e-8 and 1e-9 (100 scale)\n",
    "from analysis_utils import *\n",
    "%load_ext autoreload\n",
    "%autoreload\n",
    "path = \"/Users/Akshay/Dropbox/Life/EndyLab/Research/TranslationDynamics/data/\"\n",
    "\n",
    "print('1e-8')\n",
    "gr06_1e8 = dict()\n",
    "data = \"190814_0330/\"\n",
    "for i in range(1,7):\n",
    "    sim_i = computeTransportRxnTimes(path+data, 1000, 1000, 100*(i-1),100*i,scaling=100)\n",
    "    gr06_1e8[i] = (CellLatencies(sim_i))\n",
    "\n",
    "print('1e-9')\n",
    "gr06_1e9 = dict()\n",
    "data = \"190814_0330/\"\n",
    "for i in range(1,7):\n",
    "    sim_i = computeTransportRxnTimes(path+data, 1000, 1000, 600+100*(i-1),600+100*i,scaling=100)\n",
    "    gr06_1e9[i] = (CellLatencies(sim_i))\n",
    "\n",
    "gr = {0.6:gr06_1e8,1.0:gr06_1e9}\n",
    "\n",
    "#Figure 3\n",
    "from analysis_utils import *\n",
    "from IPython.core.display import display, HTML\n",
    "display(HTML(\"<style>.container { width:80% !important; }</style>\"))\n",
    "\n",
    "%load_ext autoreload\n",
    "%autoreload\n",
    "\n",
    "####### transport vs. reaction for different growth rates #####\n",
    "\n",
    "colors = ['darkblue','#D43F3A']\n",
    "gr_i_list = [0.6,1.0]\n",
    "phi_list = [0.13,0.22,0.30,0.36,0.39,0.42]\n",
    "markers = ['*','^']\n",
    "transport_phi = list()\n",
    "reaction_phi = list()\n",
    "search_phi = list()\n",
    "for j,gr_i in enumerate(gr_i_list):\n",
    "    transport_vals_list = list()\n",
    "    reaction_vals_list = list()\n",
    "    search_vals_list = list()\n",
    "    \n",
    "    for i in range(1,7):\n",
    "        transport_vals = gr[gr_i][i].avg_transportT*1000*p_codon_count_hist_weighted_avg[i]/(1-p_codon_count_hist_weighted_avg[0])\n",
    "        rxn_vals = gr[gr_i][i].avg_rxnT*1000*p_codon_count_hist_weighted_avg[i]/(1-p_codon_count_hist_weighted_avg[0])\n",
    "        search_vals = gr[gr_i][i].avg_searchT*1000*p_codon_count_hist_weighted_avg[i]/(1-p_codon_count_hist_weighted_avg[0])\n",
    "        \n",
    "        transport_vals_list.append(np.array(transport_vals))\n",
    "        reaction_vals_list.append(np.array(rxn_vals))\n",
    "        search_vals_list.append(np.array(search_vals))\n",
    "    print(search_vals_list)\n",
    "    transport_phi.append(np.sum(transport_vals_list))\n",
    "    reaction_phi.append(np.sum(reaction_vals_list))\n",
    "    search_phi.append(np.sum(search_vals_list))\n",
    "print(transport_phi)\n",
    "print(reaction_phi)\n",
    "print(search_phi)\n",
    "    \n",
    "#############################################################################"
   ]
  },
  {
   "cell_type": "code",
   "execution_count": 14,
   "metadata": {
    "collapsed": false
   },
   "outputs": [
    {
     "name": "stdout",
     "output_type": "stream",
     "text": [
      "The autoreload extension is already loaded. To reload it, use:\n",
      "  %reload_ext autoreload\n",
      "og smoldyn\n",
      "test\n",
      "missing expt\n",
      "99\n",
      "new smoldyn, no other change (other than Z_ to all vars)\n",
      "test\n",
      "missing expt\n",
      "99\n",
      "missing expt\n",
      "249\n",
      "new smoldyn new rxn tracker old tRNA ribosome order\n",
      "test\n",
      "missing expt\n",
      "99\n",
      "new smoldyn new rxn tracker order\n",
      "test\n",
      "missing expt\n",
      "99\n",
      "missing expt\n",
      "249\n",
      "dimensionless smoldyn\n",
      "test\n",
      "missing expt\n",
      "249\n"
     ]
    },
    {
     "data": {
      "text/html": [
       "<style>.container { width:80% !important; }</style>"
      ],
      "text/plain": [
       "<IPython.core.display.HTML object>"
      ]
     },
     "metadata": {},
     "output_type": "display_data"
    },
    {
     "name": "stdout",
     "output_type": "stream",
     "text": [
      "The autoreload extension is already loaded. To reload it, use:\n",
      "  %reload_ext autoreload\n",
      "[5.043459793673504, 5.4577135001062365, 5.043459793673504, 4.852348805938177, 4.686505825005157]\n",
      "[0.3373840645193124, 0.39531227335314084, 0.3373840645193124, 0.3071003555529031, 0.31880596158060576]\n",
      "[5.3808438581928195, 5.853025773459376, 5.3808438581928195, 5.15944916149108, 5.005311786585761]\n",
      "[5.3683073654388735, 5.856877849924278, 5.389864945035982, 5.154922456637789, 5.006867433891204]\n"
     ]
    }
   ],
   "source": [
    "#Switching smoldyn versions\n",
    "from analysis_utils import *\n",
    "%load_ext autoreload\n",
    "%autoreload\n",
    "path = \"/Users/Akshay/Dropbox/Life/EndyLab/Research/TranslationDynamics/data/\"\n",
    "\n",
    "print('og smoldyn')\n",
    "gr06_1e8 = dict()\n",
    "data = \"190814_1325/\"\n",
    "for i in range(1,2):\n",
    "    sim_i = computeTransportRxnTimes(path+data, 1000, 1000, 100*(i-1),100*i,scaling=100)\n",
    "    gr06_1e8[i] = (CellLatencies(sim_i))\n",
    "\n",
    "print('new smoldyn, no other change (other than Z_ to all vars)')\n",
    "gr06_1e9 = dict()\n",
    "data = \"190814_1930/\"\n",
    "for i in range(1,2):\n",
    "    sim_i = computeTransportRxnTimes(path+data, 1000, 1000, 0,250,scaling=100)\n",
    "    gr06_1e9[i] = (CellLatencies(sim_i))\n",
    "\n",
    "    \n",
    "print('new smoldyn new rxn tracker old tRNA ribosome order')\n",
    "gr06_new = dict()\n",
    "data = \"190814_1841/\"\n",
    "for i in range(1,2):\n",
    "    sim_i = computeTransportRxnTimes(path+data, 1000, 1000, 100*(i-1),100*i,scaling=100)\n",
    "    gr06_new[i] = (CellLatencies(sim_i))\n",
    "    \n",
    "print('new smoldyn new rxn tracker order')\n",
    "gr06_new_1 = dict()\n",
    "data = \"190814_1959/\"\n",
    "for i in range(1,2):\n",
    "    sim_i = computeTransportRxnTimes(path+data, 1000, 1000, 0,250,scaling=100)\n",
    "    gr06_new_1[i] = (CellLatencies(sim_i))\n",
    "    \n",
    "print('dimensionless smoldyn')\n",
    "gr06_dimless = dict()\n",
    "data = \"190822_1839/\"\n",
    "for i in range(1,2):\n",
    "    sim_i = computeTransportRxnTimes(path+data, 1e20, 1e20, 0,250,scaling=100/1608733)\n",
    "    gr06_dimless[i] = (CellLatencies(sim_i))\n",
    "    \n",
    "\n",
    "gr = {0.6:gr06_1e8,1.0:gr06_1e9,1.5:gr06_new,2.0:gr06_new_1,2.5:gr06_dimless}\n",
    "\n",
    "#Figure 3\n",
    "from analysis_utils import *\n",
    "from IPython.core.display import display, HTML\n",
    "display(HTML(\"<style>.container { width:80% !important; }</style>\"))\n",
    "\n",
    "%load_ext autoreload\n",
    "%autoreload\n",
    "\n",
    "####### transport vs. reaction for different growth rates #####\n",
    "\n",
    "colors = ['darkblue','#D43F3A']\n",
    "gr_i_list = [0.6,1.0,1.5,2.0,2.5]\n",
    "phi_list = [0.13,0.22,0.30,0.36,0.39,0.42]\n",
    "markers = ['*','^']\n",
    "transport_phi = list()\n",
    "reaction_phi = list()\n",
    "search_phi = list()\n",
    "bootstrap_search_phi=list()\n",
    "for j,gr_i in enumerate(gr_i_list):\n",
    "    transport_vals_list = list()\n",
    "    reaction_vals_list = list()\n",
    "    search_vals_list = list()\n",
    "    bootstrap_vals_list = list()\n",
    "    for i in range(1,2):\n",
    "        transport_vals = gr[gr_i][i].avg_transportT*1000*p_codon_count_hist_weighted_avg[i]/(1-p_codon_count_hist_weighted_avg[0])\n",
    "        rxn_vals = gr[gr_i][i].avg_rxnT*1000*p_codon_count_hist_weighted_avg[i]/(1-p_codon_count_hist_weighted_avg[0])\n",
    "        search_vals = gr[gr_i][i].avg_searchT*1000*p_codon_count_hist_weighted_avg[i]/(1-p_codon_count_hist_weighted_avg[0])\n",
    "        bootstrap_vals = gr[gr_i][i].bootavg_searchT*1000*p_codon_count_hist_weighted_avg[i]/(1-p_codon_count_hist_weighted_avg[0])\n",
    "        \n",
    "        transport_vals_list.append(np.array(transport_vals))\n",
    "        reaction_vals_list.append(np.array(rxn_vals))\n",
    "        search_vals_list.append(np.array(search_vals))\n",
    "        bootstrap_vals_list.append(np.array(bootstrap_vals))\n",
    "    transport_phi.append(np.sum(transport_vals_list))\n",
    "    reaction_phi.append(np.sum(reaction_vals_list))\n",
    "    search_phi.append(np.sum(search_vals_list))\n",
    "    bootstrap_search_phi.append(np.sum(bootstrap_vals_list))\n",
    "print(transport_phi)\n",
    "print(reaction_phi)\n",
    "print(search_phi)\n",
    "print(bootstrap_search_phi)\n",
    "\n",
    "#############################################################################"
   ]
  },
  {
   "cell_type": "code",
   "execution_count": 15,
   "metadata": {
    "collapsed": false
   },
   "outputs": [
    {
     "name": "stdout",
     "output_type": "stream",
     "text": [
      "The autoreload extension is already loaded. To reload it, use:\n",
      "  %reload_ext autoreload\n",
      "dimensionless smoldyn\n",
      "test\n"
     ]
    }
   ],
   "source": [
    "from analysis_utils import *\n",
    "%load_ext autoreload\n",
    "%autoreload\n",
    "print('dimensionless smoldyn')\n",
    "gr06_dimless = dict()\n",
    "data = \"190822_1839/\"\n",
    "for i in range(1,2):\n",
    "    sim_i = computeTransportRxnTimes(path+data, 1e20, 1e20, 11,12,scaling=1)\n",
    "    gr06_dimless[i] = (CellLatencies(sim_i))\n",
    "    "
   ]
  },
  {
   "cell_type": "code",
   "execution_count": null,
   "metadata": {
    "collapsed": true
   },
   "outputs": [],
   "source": []
  },
  {
   "cell_type": "code",
   "execution_count": 70,
   "metadata": {
    "collapsed": false
   },
   "outputs": [
    {
     "name": "stdout",
     "output_type": "stream",
     "text": [
      "The autoreload extension is already loaded. To reload it, use:\n",
      "  %reload_ext autoreload\n",
      "og smoldyn\n",
      "test\n",
      "missing expt\n",
      "1\n",
      "missing expt\n",
      "7\n",
      "missing expt\n",
      "12\n",
      "missing expt\n",
      "15\n",
      "missing expt\n",
      "22\n",
      "missing expt\n",
      "23\n",
      "missing expt\n",
      "30\n",
      "missing expt\n",
      "34\n",
      "missing expt\n",
      "36\n",
      "missing expt\n",
      "37\n",
      "test\n",
      "missing expt\n",
      "83\n",
      "missing expt\n",
      "86\n",
      "missing expt\n",
      "92\n",
      "test\n",
      "missing expt\n",
      "117\n",
      "missing expt\n",
      "140\n",
      "test\n",
      "missing expt\n",
      "185\n",
      "test\n",
      "test\n",
      "test\n",
      "test\n",
      "test\n",
      "test\n",
      "test\n",
      "test\n"
     ]
    },
    {
     "data": {
      "text/html": [
       "<style>.container { width:80% !important; }</style>"
      ],
      "text/plain": [
       "<IPython.core.display.HTML object>"
      ]
     },
     "metadata": {},
     "output_type": "display_data"
    },
    {
     "name": "stdout",
     "output_type": "stream",
     "text": [
      "The autoreload extension is already loaded. To reload it, use:\n",
      "  %reload_ext autoreload\n",
      "[0.11202136911633863, 0.061322491368337576]\n",
      "[0.008544109329182134, 0.011069947114438483]\n",
      "[0.12056547844552074, 0.07239243848277606]\n",
      "[0.12053854556773803, 0.07238883877858267]\n"
     ]
    }
   ],
   "source": [
    "#Switching smoldyn versions\n",
    "from analysis_utils import *\n",
    "%load_ext autoreload\n",
    "%autoreload\n",
    "path = \"/Users/Akshay/Dropbox/Life/EndyLab/Research/TranslationDynamics/data/\"\n",
    "\n",
    "gr06_1e8 = dict()\n",
    "data = \"190915_2025/\"\n",
    "k=300\n",
    "for i in range(1,7):\n",
    "    sim_i = computeTransportRxnTimes(path+data, 1e15, 1e15, 50*(i-1),50*i,scaling=1000)\n",
    "    gr06[i] = (CellLatencies(sim_i))\n",
    "\n",
    "for i in range(1,7):\n",
    "    sim_i = computeTransportRxnTimes(path+data, 1e15, 1e15, k+50*(i-1),k+50*i,scaling=1000)\n",
    "    gr30[i] = (CellLatencies(sim_i))\n",
    "\n",
    "\n",
    "gr = {0.6:gr06,3.0:gr30}\n",
    "\n",
    "#Figure 3\n",
    "from analysis_utils import *\n",
    "from IPython.core.display import display, HTML\n",
    "display(HTML(\"<style>.container { width:80% !important; }</style>\"))\n",
    "\n",
    "%load_ext autoreload\n",
    "%autoreload\n",
    "\n",
    "####### transport vs. reaction for different growth rates #####\n",
    "\n",
    "colors = ['darkblue','#D43F3A']\n",
    "gr_i_list = [0.6,3.0]\n",
    "phi_list = [0.13,0.22,0.30,0.36,0.39,0.42]\n",
    "markers = ['*','^']\n",
    "transport_phi = list()\n",
    "reaction_phi = list()\n",
    "search_phi = list()\n",
    "bootstrap_search_phi=list()\n",
    "search_list = list()\n",
    "for j,gr_i in enumerate(gr_i_list):\n",
    "    transport_vals_list = list()\n",
    "    reaction_vals_list = list()\n",
    "    search_vals_list = list()\n",
    "    bootstrap_vals_list = list()\n",
    "    for i in range(1,7):\n",
    "        transport_vals = gr[gr_i][i].avg_transportT*1/1608733*p_codon_count_hist_weighted_avg[i]/(1-p_codon_count_hist_weighted_avg[0])\n",
    "        rxn_vals = gr[gr_i][i].avg_rxnT*1/1608733*p_codon_count_hist_weighted_avg[i]/(1-p_codon_count_hist_weighted_avg[0])\n",
    "        search_vals = gr[gr_i][i].avg_searchT*1/1608733*p_codon_count_hist_weighted_avg[i]/(1-p_codon_count_hist_weighted_avg[0])\n",
    "        bootstrap_vals = gr[gr_i][i].bootavg_searchT*1/1608733*p_codon_count_hist_weighted_avg[i]/(1-p_codon_count_hist_weighted_avg[0])\n",
    "        \n",
    "        transport_vals_list.append(np.array(transport_vals))\n",
    "        reaction_vals_list.append(np.array(rxn_vals))\n",
    "        search_vals_list.append(np.array(search_vals))\n",
    "        bootstrap_vals_list.append(np.array(bootstrap_vals))\n",
    "        search_list.append(np.array(gr[gr_i][i].searchT)*1000/1608733)\n",
    "    transport_phi.append(np.sum(transport_vals_list))\n",
    "    reaction_phi.append(np.sum(reaction_vals_list))\n",
    "    search_phi.append(np.sum(search_vals_list))\n",
    "    bootstrap_search_phi.append(np.sum(bootstrap_vals_list))\n",
    "    \n",
    "print(transport_phi)\n",
    "print(reaction_phi)\n",
    "print(search_phi)\n",
    "print(bootstrap_search_phi)\n",
    "\n",
    "#############################################################################"
   ]
  },
  {
   "cell_type": "code",
   "execution_count": 103,
   "metadata": {
    "collapsed": false
   },
   "outputs": [
    {
     "name": "stdout",
     "output_type": "stream",
     "text": [
      "189.06266919382338\n",
      "129.108175800022\n",
      "101.98573971110352\n",
      "63.99088536220585\n",
      "70.93151194275107\n",
      "39.62405197184831\n"
     ]
    },
    {
     "data": {
      "image/png": "[encoded data removed]",
      "text/plain": [
       "<Figure size 432x288 with 1 Axes>"
      ]
     },
     "metadata": {
      "needs_background": "light"
     },
     "output_type": "display_data"
    }
   ],
   "source": [
    "for i in range(0,6):\n",
    "    gr06hist = np.histogram(search_list[i],bins=20,range=(0,500))\n",
    "    plt.bar(gr06hist[1][0:-1],gr06hist[0]/sum(gr06hist[0]),align='edge',width=25,color='darkblue')\n",
    "    print(np.average(search_list[i]))"
   ]
  },
  {
   "cell_type": "markdown",
   "metadata": {},
   "source": []
  },
  {
   "cell_type": "code",
   "execution_count": 149,
   "metadata": {
    "collapsed": false
   },
   "outputs": [
    {
     "name": "stdout",
     "output_type": "stream",
     "text": [
      "The autoreload extension is already loaded. To reload it, use:\n",
      "  %reload_ext autoreload\n",
      "test\n",
      "test\n",
      "test\n",
      "test\n",
      "test\n",
      "test\n",
      "missing expt\n",
      "1799\n"
     ]
    },
    {
     "data": {
      "text/html": [
       "<style>.container { width:80% !important; }</style>"
      ],
      "text/plain": [
       "<IPython.core.display.HTML object>"
      ]
     },
     "metadata": {},
     "output_type": "display_data"
    },
    {
     "name": "stdout",
     "output_type": "stream",
     "text": [
      "The autoreload extension is already loaded. To reload it, use:\n",
      "  %reload_ext autoreload\n",
      "[0.05828121918820362]\n",
      "[0.010250242524355519]\n",
      "[0.06853146171255914]\n",
      "[0.06849315632155743]\n"
     ]
    }
   ],
   "source": [
    "#Switching smoldyn versions\n",
    "from analysis_utils import *\n",
    "%load_ext autoreload\n",
    "%autoreload\n",
    "path = \"/Users/Akshay/Dropbox/Life/EndyLab/Research/TranslationDynamics/data/\"\n",
    "\n",
    "gr06_1e8 = dict()\n",
    "data = \"190916_0209/\"\n",
    "k=900\n",
    "for i in range(1,7):\n",
    "    sim_i = computeTransportRxnTimes(path+data, 1e15, 1e15, 300*(i-1),300*(i-1)+300,scaling=1000)\n",
    "    gr30[i] = (CellLatencies(sim_i))\n",
    "\n",
    "\n",
    "gr = {3.0:gr30}\n",
    "\n",
    "#Figure 3\n",
    "from analysis_utils import *\n",
    "from IPython.core.display import display, HTML\n",
    "display(HTML(\"<style>.container { width:80% !important; }</style>\"))\n",
    "\n",
    "%load_ext autoreload\n",
    "%autoreload\n",
    "\n",
    "####### transport vs. reaction for different growth rates #####\n",
    "\n",
    "colors = ['darkblue','#D43F3A']\n",
    "gr_i_list = [3.0]\n",
    "phi_list = [0.13,0.22,0.30,0.36,0.39,0.42]\n",
    "markers = ['*','^']\n",
    "transport_phi = list()\n",
    "reaction_phi = list()\n",
    "search_phi = list()\n",
    "bootstrap_search_phi=list()\n",
    "search_list = list()\n",
    "for j,gr_i in enumerate(gr_i_list):\n",
    "    transport_vals_list = list()\n",
    "    reaction_vals_list = list()\n",
    "    search_vals_list = list()\n",
    "    bootstrap_vals_list = list()\n",
    "    for i in range(1,7):\n",
    "        transport_vals = gr[gr_i][i].avg_transportT*1/1608733*p_codon_count_hist_weighted_avg[i]/(1-p_codon_count_hist_weighted_avg[0])\n",
    "        rxn_vals = gr[gr_i][i].avg_rxnT*1/1608733*p_codon_count_hist_weighted_avg[i]/(1-p_codon_count_hist_weighted_avg[0])\n",
    "        search_vals = gr[gr_i][i].avg_searchT*1/1608733*p_codon_count_hist_weighted_avg[i]/(1-p_codon_count_hist_weighted_avg[0])\n",
    "        bootstrap_vals = gr[gr_i][i].bootavg_searchT*1/1608733*p_codon_count_hist_weighted_avg[i]/(1-p_codon_count_hist_weighted_avg[0])\n",
    "        \n",
    "        transport_vals_list.append(np.array(transport_vals))\n",
    "        reaction_vals_list.append(np.array(rxn_vals))\n",
    "        search_vals_list.append(np.array(search_vals))\n",
    "        bootstrap_vals_list.append(np.array(bootstrap_vals))\n",
    "        search_list.append(np.array(gr[gr_i][i].searchT)*1000/1608733)\n",
    "    transport_phi.append(np.sum(transport_vals_list))\n",
    "    reaction_phi.append(np.sum(reaction_vals_list))\n",
    "    search_phi.append(np.sum(search_vals_list))\n",
    "    bootstrap_search_phi.append(np.sum(bootstrap_vals_list))\n",
    "    \n",
    "print(transport_phi)\n",
    "print(reaction_phi)\n",
    "print(search_phi)\n",
    "print(bootstrap_search_phi)\n",
    "\n",
    "#############################################################################"
   ]
  },
  {
   "cell_type": "code",
   "execution_count": 150,
   "metadata": {
    "collapsed": false
   },
   "outputs": [
    {
     "name": "stdout",
     "output_type": "stream",
     "text": [
      "135.1379878853324\n",
      "64.8596346741905\n",
      "40.80115096835885\n",
      "30.993899754549123\n",
      "24.98798412597519\n",
      "16.953419295604352\n"
     ]
    },
    {
     "data": {
      "image/png": "[encoded data removed]",
      "text/plain": [
       "<Figure size 432x288 with 1 Axes>"
      ]
     },
     "metadata": {
      "needs_background": "light"
     },
     "output_type": "display_data"
    }
   ],
   "source": [
    "for i in range(0,6):\n",
    "    gr30hist = np.histogram(search_list[i],bins=20,range=(0,800))\n",
    "    plt.bar(gr30hist[1][0:-1],gr30hist[0]/sum(gr30hist[0]),align='edge',width=25,color='darkblue')\n",
    "    print(np.average(search_list[i]))"
   ]
  },
  {
   "cell_type": "code",
   "execution_count": 188,
   "metadata": {
    "collapsed": false
   },
   "outputs": [
    {
     "name": "stdout",
     "output_type": "stream",
     "text": [
      "The autoreload extension is already loaded. To reload it, use:\n",
      "  %reload_ext autoreload\n",
      "test\n",
      "test\n",
      "test\n",
      "test\n",
      "test\n",
      "test\n",
      "missing expt\n",
      "1799\n"
     ]
    },
    {
     "data": {
      "text/html": [
       "<style>.container { width:80% !important; }</style>"
      ],
      "text/plain": [
       "<IPython.core.display.HTML object>"
      ]
     },
     "metadata": {},
     "output_type": "display_data"
    },
    {
     "name": "stdout",
     "output_type": "stream",
     "text": [
      "The autoreload extension is already loaded. To reload it, use:\n",
      "  %reload_ext autoreload\n",
      "[0.07891370979156156]\n",
      "[0.013404949237449284]\n",
      "[0.09231865902901086]\n",
      "[0.09235057944303136]\n"
     ]
    }
   ],
   "source": [
    "from analysis_utils import *\n",
    "%load_ext autoreload\n",
    "%autoreload\n",
    "path = \"/Users/Akshay/Dropbox/Life/EndyLab/Research/TranslationDynamics/data/\"\n",
    "\n",
    "gr06_1e8 = dict()\n",
    "data = \"190916_1101/\"\n",
    "k=900\n",
    "for i in range(1,7):\n",
    "    sim_i = computeTransportRxnTimes(path+data, 1e15, 1e15, 300*(i-1),300*(i-1)+300,scaling=1000)\n",
    "    gr30[i] = (CellLatencies(sim_i))\n",
    "\n",
    "\n",
    "gr = {3.0:gr30}\n",
    "\n",
    "#Figure 3\n",
    "from analysis_utils import *\n",
    "from IPython.core.display import display, HTML\n",
    "display(HTML(\"<style>.container { width:80% !important; }</style>\"))\n",
    "\n",
    "%load_ext autoreload\n",
    "%autoreload\n",
    "\n",
    "####### transport vs. reaction for different growth rates #####\n",
    "\n",
    "colors = ['darkblue','#D43F3A']\n",
    "gr_i_list = [3.0]\n",
    "phi_list = [0.13,0.22,0.30,0.36,0.39,0.42]\n",
    "markers = ['*','^']\n",
    "transport_phi = list()\n",
    "reaction_phi = list()\n",
    "search_phi = list()\n",
    "bootstrap_search_phi=list()\n",
    "search_list = list()\n",
    "for j,gr_i in enumerate(gr_i_list):\n",
    "    transport_vals_list = list()\n",
    "    reaction_vals_list = list()\n",
    "    search_vals_list = list()\n",
    "    bootstrap_vals_list = list()\n",
    "    for i in range(1,7):\n",
    "        transport_vals = gr[gr_i][i].avg_transportT*1/1608733*p_codon_count_hist_weighted_avg[i]/(1-p_codon_count_hist_weighted_avg[0])\n",
    "        rxn_vals = gr[gr_i][i].avg_rxnT*1/1608733*p_codon_count_hist_weighted_avg[i]/(1-p_codon_count_hist_weighted_avg[0])\n",
    "        search_vals = gr[gr_i][i].avg_searchT*1/1608733*p_codon_count_hist_weighted_avg[i]/(1-p_codon_count_hist_weighted_avg[0])\n",
    "        bootstrap_vals = gr[gr_i][i].bootavg_searchT*1/1608733*p_codon_count_hist_weighted_avg[i]/(1-p_codon_count_hist_weighted_avg[0])\n",
    "        \n",
    "        transport_vals_list.append(np.array(transport_vals))\n",
    "        reaction_vals_list.append(np.array(rxn_vals))\n",
    "        search_vals_list.append(np.array(search_vals))\n",
    "        bootstrap_vals_list.append(np.array(bootstrap_vals))\n",
    "        search_list.append(np.array(gr[gr_i][i].searchT)*1000/1608733)\n",
    "    transport_phi.append(np.sum(transport_vals_list))\n",
    "    reaction_phi.append(np.sum(reaction_vals_list))\n",
    "    search_phi.append(np.sum(search_vals_list))\n",
    "    bootstrap_search_phi.append(np.sum(bootstrap_vals_list))\n",
    "    \n",
    "print(transport_phi)\n",
    "print(reaction_phi)\n",
    "print(search_phi)\n",
    "print(bootstrap_search_phi)\n",
    "\n",
    "#############################################################################"
   ]
  },
  {
   "cell_type": "code",
   "execution_count": 218,
   "metadata": {
    "collapsed": false
   },
   "outputs": [
    {
     "name": "stdout",
     "output_type": "stream",
     "text": [
      "172.7385750121796\n",
      "94.78951116650396\n",
      "58.42376536987421\n",
      "42.26094406850848\n",
      "32.09731426354298\n",
      "24.65355570445947\n"
     ]
    },
    {
     "data": {
      "image/png": "[encoded data removed]",
      "text/plain": [
       "<Figure size 432x288 with 1 Axes>"
      ]
     },
     "metadata": {
      "needs_background": "light"
     },
     "output_type": "display_data"
    }
   ],
   "source": [
    "for i in range(0,6):\n",
    "    gr30hist = np.histogram(search_list[i],bins=20,range=(0,1000))\n",
    "    plt.bar(gr30hist[1][0:-1],gr30hist[0]/sum(gr30hist[0]),align='edge',width=25,color='darkblue')\n",
    "    print(np.average(search_list[i]))"
   ]
  },
  {
   "cell_type": "code",
   "execution_count": 137,
   "metadata": {
    "collapsed": false
   },
   "outputs": [
    {
     "name": "stdout",
     "output_type": "stream",
     "text": [
      "The autoreload extension is already loaded. To reload it, use:\n",
      "  %reload_ext autoreload\n",
      "test\n",
      "missing expt\n",
      "7\n",
      "missing expt\n",
      "8\n",
      "missing expt\n",
      "10\n",
      "missing expt\n",
      "11\n",
      "missing expt\n",
      "14\n",
      "missing expt\n",
      "17\n",
      "missing expt\n",
      "28\n",
      "missing expt\n",
      "30\n",
      "missing expt\n",
      "39\n",
      "missing expt\n",
      "42\n",
      "missing expt\n",
      "46\n",
      "test\n",
      "missing expt\n",
      "51\n",
      "missing expt\n",
      "56\n",
      "missing expt\n",
      "58\n",
      "missing expt\n",
      "62\n",
      "missing expt\n",
      "72\n",
      "missing expt\n",
      "77\n",
      "missing expt\n",
      "78\n",
      "missing expt\n",
      "79\n",
      "missing expt\n",
      "81\n",
      "missing expt\n",
      "82\n",
      "missing expt\n",
      "89\n",
      "missing expt\n",
      "90\n",
      "missing expt\n",
      "92\n",
      "missing expt\n",
      "93\n",
      "missing expt\n",
      "95\n",
      "missing expt\n",
      "96\n",
      "missing expt\n",
      "99\n",
      "test\n",
      "missing expt\n",
      "114\n",
      "missing expt\n",
      "128\n",
      "test\n",
      "missing expt\n",
      "152\n",
      "missing expt\n",
      "170\n",
      "missing expt\n",
      "171\n",
      "missing expt\n",
      "184\n",
      "missing expt\n",
      "188\n",
      "missing expt\n",
      "199\n",
      "test\n",
      "missing expt\n",
      "228\n",
      "missing expt\n",
      "242\n",
      "test\n"
     ]
    },
    {
     "data": {
      "text/html": [
       "<style>.container { width:80% !important; }</style>"
      ],
      "text/plain": [
       "<IPython.core.display.HTML object>"
      ]
     },
     "metadata": {},
     "output_type": "display_data"
    },
    {
     "name": "stdout",
     "output_type": "stream",
     "text": [
      "The autoreload extension is already loaded. To reload it, use:\n",
      "  %reload_ext autoreload\n",
      "[0.05292010725557379]\n",
      "[0.008809058331271219]\n",
      "[0.061729165586845026]\n",
      "[0.06174553517401301]\n"
     ]
    }
   ],
   "source": [
    "from analysis_utils import *\n",
    "%load_ext autoreload\n",
    "%autoreload\n",
    "path = \"/Users/Akshay/Dropbox/Life/EndyLab/Research/TranslationDynamics/data/\"\n",
    "\n",
    "gr06_1e8 = dict()\n",
    "data = \"190917_0105/\"\n",
    "k=900\n",
    "for i in range(1,7):\n",
    "    sim_i = computeTransportRxnTimes(path+data, 1e15, 1e15, 50*(i-1),50*(i-1)+50,scaling=200)\n",
    "    gr30[i] = (CellLatencies(sim_i))\n",
    "\n",
    "\n",
    "gr = {3.0:gr30}\n",
    "\n",
    "#Figure 3\n",
    "from analysis_utils import *\n",
    "from IPython.core.display import display, HTML\n",
    "display(HTML(\"<style>.container { width:80% !important; }</style>\"))\n",
    "\n",
    "%load_ext autoreload\n",
    "%autoreload\n",
    "\n",
    "####### transport vs. reaction for different growth rates #####\n",
    "\n",
    "colors = ['darkblue','#D43F3A']\n",
    "gr_i_list = [3.0]\n",
    "phi_list = [0.13,0.22,0.30,0.36,0.39,0.42]\n",
    "markers = ['*','^']\n",
    "transport_phi = list()\n",
    "reaction_phi = list()\n",
    "search_phi = list()\n",
    "bootstrap_search_phi=list()\n",
    "search_list = list()\n",
    "for j,gr_i in enumerate(gr_i_list):\n",
    "    transport_vals_list = list()\n",
    "    reaction_vals_list = list()\n",
    "    search_vals_list = list()\n",
    "    bootstrap_vals_list = list()\n",
    "    for i in range(1,7):\n",
    "        transport_vals = gr[gr_i][i].avg_transportT*1/1608733*p_codon_count_hist_weighted_avg[i]/(1-p_codon_count_hist_weighted_avg[0])\n",
    "        rxn_vals = gr[gr_i][i].avg_rxnT*1/1608733*p_codon_count_hist_weighted_avg[i]/(1-p_codon_count_hist_weighted_avg[0])\n",
    "        search_vals = gr[gr_i][i].avg_searchT*1/1608733*p_codon_count_hist_weighted_avg[i]/(1-p_codon_count_hist_weighted_avg[0])\n",
    "        bootstrap_vals = gr[gr_i][i].bootavg_searchT*1/1608733*p_codon_count_hist_weighted_avg[i]/(1-p_codon_count_hist_weighted_avg[0])\n",
    "        \n",
    "        transport_vals_list.append(np.array(transport_vals))\n",
    "        reaction_vals_list.append(np.array(rxn_vals))\n",
    "        search_vals_list.append(np.array(search_vals))\n",
    "        bootstrap_vals_list.append(np.array(bootstrap_vals))\n",
    "        search_list.append(np.array(gr[gr_i][i].searchT)*1000/1608733)\n",
    "    transport_phi.append(np.sum(transport_vals_list))\n",
    "    reaction_phi.append(np.sum(reaction_vals_list))\n",
    "    search_phi.append(np.sum(search_vals_list))\n",
    "    bootstrap_search_phi.append(np.sum(bootstrap_vals_list))\n",
    "    \n",
    "print(transport_phi)\n",
    "print(reaction_phi)\n",
    "print(search_phi)\n",
    "print(bootstrap_search_phi)\n",
    "\n",
    "#############################################################################"
   ]
  },
  {
   "cell_type": "code",
   "execution_count": 147,
   "metadata": {
    "collapsed": false
   },
   "outputs": [
    {
     "name": "stdout",
     "output_type": "stream",
     "text": [
      "62.11132388248272\n",
      "93.89549678372765\n",
      "47.124406285493556\n",
      "49.44425321957693\n",
      "43.31731399590185\n",
      "40.842865532770624\n"
     ]
    },
    {
     "data": {
      "image/png": "[encoded data removed]",
      "text/plain": [
       "<Figure size 432x288 with 1 Axes>"
      ]
     },
     "metadata": {
      "needs_background": "light"
     },
     "output_type": "display_data"
    }
   ],
   "source": [
    "for i in range(0,6):\n",
    "    gr30hist = np.histogram(search_list[i],bins=20,range=(0,250))\n",
    "    plt.bar(gr30hist[1][0:-1],gr30hist[0]/sum(gr30hist[0]),align='edge',width=25,color='darkblue')\n",
    "    print(np.average(search_list[i]))"
   ]
  },
  {
   "cell_type": "code",
   "execution_count": 223,
   "metadata": {
    "collapsed": false
   },
   "outputs": [
    {
     "name": "stdout",
     "output_type": "stream",
     "text": [
      "(0.0, 172.7385750121796)\n"
     ]
    },
    {
     "data": {
      "text/plain": [
       "[<matplotlib.lines.Line2D at 0x11faf0898>]"
      ]
     },
     "execution_count": 223,
     "metadata": {},
     "output_type": "execute_result"
    },
    {
     "data": {
      "image/png": "[encoded data removed]",
      "text/plain": [
       "<Figure size 432x288 with 1 Axes>"
      ]
     },
     "metadata": {
      "needs_background": "light"
     },
     "output_type": "display_data"
    }
   ],
   "source": [
    "import scipy.stats as ss\n",
    "%matplotlib inline\n",
    "#MLE\n",
    "P = ss.expon.fit(search_list[0])\n",
    "print(P)\n",
    "#not exactly 0.5 and 1.2, due to being a finite sample\n",
    "\n",
    "#plotting\n",
    "rX = np.linspace(0,1000, 1000)\n",
    "rP = ss.expon.pdf(rX, *P)\n",
    "#Yup, just unpack P with *P, instead of scale=XX and shape=XX, etc.\n",
    "\n",
    "#need to plot the normalized histogram with `normed=True`\n",
    "plt.hist(search_list[0], normed=True,bins=10)\n",
    "plt.plot(rX, rP)\n",
    "\n",
    "#172.7385750121796\n",
    "#94.78951116650396\n",
    "#58.42376536987421\n",
    "#42.26094406850848\n",
    "#32.09731426354298\n",
    "#24.65355570445947"
   ]
  },
  {
   "cell_type": "code",
   "execution_count": 215,
   "metadata": {
    "collapsed": false
   },
   "outputs": [
    {
     "name": "stdout",
     "output_type": "stream",
     "text": [
      "(0.0, 83.16650900854349)\n"
     ]
    },
    {
     "data": {
      "text/plain": [
       "[<matplotlib.lines.Line2D at 0x11f8bcd30>]"
      ]
     },
     "execution_count": 215,
     "metadata": {},
     "output_type": "execute_result"
    },
    {
     "data": {
      "image/png": "[encoded data removed]",
      "text/plain": [
       "<Figure size 432x288 with 1 Axes>"
      ]
     },
     "metadata": {
      "needs_background": "light"
     },
     "output_type": "display_data"
    }
   ],
   "source": [
    "a=[i<400 for i in search_list[1]]\n",
    "small_list = search_list[1][a]\n",
    "import scipy.stats as ss\n",
    "%matplotlib inline\n",
    "#MLE\n",
    "P = ss.expon.fit(small_list)\n",
    "print(P)\n",
    "#not exactly 0.5 and 1.2, due to being a finite sample\n",
    "\n",
    "#plotting\n",
    "rX = np.linspace(0,1000, 1000)\n",
    "rP = ss.expon.pdf(rX, *P)\n",
    "#Yup, just unpack P with *P, instead of scale=XX and shape=XX, etc.\n",
    "\n",
    "#need to plot the normalized histogram with `normed=True`\n",
    "plt.hist(small_list, normed=True,bins=10)\n",
    "plt.plot(rX, rP)"
   ]
  },
  {
   "cell_type": "code",
   "execution_count": 208,
   "metadata": {
    "collapsed": false
   },
   "outputs": [
    {
     "data": {
      "text/plain": [
       "(array([132.,  65.,  48.,  30.,   9.,   5.,   4.,   3.,   3.,   1.]),\n",
       " array([   0.,  100.,  200.,  300.,  400.,  500.,  600.,  700.,  800.,\n",
       "         900., 1000.]),\n",
       " <a list of 10 Patch objects>)"
      ]
     },
     "execution_count": 208,
     "metadata": {},
     "output_type": "execute_result"
    },
    {
     "data": {
      "image/png": "[encoded data removed]",
      "text/plain": [
       "<Figure size 432x288 with 1 Axes>"
      ]
     },
     "metadata": {
      "needs_background": "light"
     },
     "output_type": "display_data"
    }
   ],
   "source": [
    "plt.hist(search_list[0],range=(0,1000))"
   ]
  },
  {
   "cell_type": "code",
   "execution_count": null,
   "metadata": {
    "collapsed": true
   },
   "outputs": [],
   "source": []
  }
 ],
 "metadata": {
  "kernelspec": {
   "display_name": "Python 3",
   "language": "python",
   "name": "python3"
  },
  "language_info": {
   "codemirror_mode": {
    "name": "ipython",
    "version": 3
   },
   "file_extension": ".py",
   "mimetype": "text/x-python",
   "name": "python",
   "nbconvert_exporter": "python",
   "pygments_lexer": "ipython3",
   "version": "3.6.7"
  }
 },
 "nbformat": 4,
 "nbformat_minor": 2
}
