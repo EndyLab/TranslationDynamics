{
 "cells": [
  {
   "cell_type": "code",
   "execution_count": 1,
   "metadata": {
    "collapsed": false
   },
   "outputs": [
    {
     "data": {
      "text/plain": [
       "(20, 35)"
      ]
     },
     "execution_count": 1,
     "metadata": {},
     "output_type": "execute_result"
    },
    {
     "data": {
      "image/png": "[encoded data removed]",
      "text/plain": [
       "<Figure size 432x288 with 1 Axes>"
      ]
     },
     "metadata": {
      "needs_background": "light"
     },
     "output_type": "display_data"
    }
   ],
   "source": [
    "## Distribution of # of unique tRNA in a region where, on average, there are 42 tRNA total\n",
    "\n",
    "import numpy as np\n",
    "import matplotlib.pyplot as plt\n",
    "%matplotlib inline\n",
    "\n",
    "i = np.repeat(np.arange(1,43,1),10000).tolist()\n",
    "import random\n",
    "count = list()\n",
    "for x in range(400000):\n",
    "    count.append(len(np.unique(random.sample(i,42))))\n",
    "\n",
    "plt.hist(count,bins=42,range=(0,42))\n",
    "plt.xlim(20,35)"
   ]
  },
  {
   "cell_type": "code",
   "execution_count": 2,
   "metadata": {
    "collapsed": false
   },
   "outputs": [
    {
     "data": {
      "text/plain": [
       "26.54906347079942"
      ]
     },
     "execution_count": 2,
     "metadata": {},
     "output_type": "execute_result"
    }
   ],
   "source": [
    "## The average # of unique tRNA is equivalent to the following analytical solution:\n",
    "42*(1-np.exp(-42/42))"
   ]
  },
  {
   "cell_type": "code",
   "execution_count": 3,
   "metadata": {
    "collapsed": false
   },
   "outputs": [
    {
     "name": "stdout",
     "output_type": "stream",
     "text": [
      "[15.2342 15.6809  7.8208  2.5325  0.6017  0.1092  0.0178  0.0028  0.0001\n",
      "  0.      0.      0.      0.      0.      0.      0.      0.      0.\n",
      "  0.      0.      0.      0.      0.      0.      0.      0.      0.\n",
      "  0.      0.      0.      0.      0.      0.      0.      0.      0.\n",
      "  0.      0.      0.      0.      0.      0.    ]\n",
      "[0.36271905 0.37335476 0.18620952 0.06029762 0.01432619 0.0026\n",
      " 0.00042381 0.00006667 0.00000238 0.         0.         0.\n",
      " 0.         0.         0.         0.         0.         0.\n",
      " 0.         0.         0.         0.         0.         0.\n",
      " 0.         0.         0.         0.         0.         0.\n",
      " 0.         0.         0.         0.         0.         0.\n",
      " 0.         0.         0.         0.         0.         0.        ]\n",
      "41.9796\n",
      "53.04267012381471\n"
     ]
    },
    {
     "data": {
      "image/png": "[encoded data removed]",
      "text/plain": [
       "<Figure size 432x288 with 1 Axes>"
      ]
     },
     "metadata": {
      "needs_background": "light"
     },
     "output_type": "display_data"
    }
   ],
   "source": [
    "#(0)# of tRNA not accounted for out of the 42 tRNA in a region, (1) # of tRNA that appear once,\n",
    "# (2) # of tRNA that appear twice, and on..\n",
    "# Summing # of singles, doubles, etc. adds up to total # of unique tRNA seen out of the 42 tRNA.\n",
    "# Summing up # of singles *1 , doubles *2, etc. adds up to 42 total tRNA\n",
    "import random\n",
    "i = np.repeat(np.arange(1,43,1),10000).tolist()\n",
    "count = np.zeros(42)\n",
    "num = np.arange(0,42,1)\n",
    "for x in range(10000):\n",
    "    sample = random.sample(i,42)\n",
    "    count+=np.histogram(np.histogram(sample,range=(0.99,42.99),bins=42)[0],range=(0,42),bins=42)[0]\n",
    "np.set_printoptions(suppress=True)\n",
    "\n",
    "a=count/10000\n",
    "print(a[:])\n",
    "print(a[:]/sum(a[:]))\n",
    "plt.bar(num[0:10],(a[:]/sum(a[:]))[0:10])\n",
    "plt.title(\"Ribosomes typically have zero or one matching tRNA nearby\")\n",
    "plt.ylabel(\"Probability\")\n",
    "plt.xlabel(\"Number of matching tRNA\")\n",
    "print((a[1]*1+a[2]*2+a[3]*3+a[4]*4+a[5]*5+a[6]*6))\n",
    "print((sum((a[0:]/sum(a[0:]))[1:7]*[70,35,17,8,4,2]))/(1-a[0]/sum(a[0:])))"
   ]
  },
  {
   "cell_type": "code",
   "execution_count": 4,
   "metadata": {
    "collapsed": false
   },
   "outputs": [
    {
     "name": "stdout",
     "output_type": "stream",
     "text": [
      "[18.6019 12.9516  5.7048  2.6129  1.267   0.5596  0.2113  0.0857]\n",
      "[0.44295722 0.30840961 0.13584539 0.06221961 0.0301704  0.01332546\n",
      " 0.00503158 0.00204073]\n",
      "23.392899999999997\n",
      "41.3337\n",
      "49.73715529070785\n",
      "[26.3324 10.7053  3.229   0.6336  0.0879  0.0106  0.0011  0.0001]\n",
      "[0.64225366 0.26110488 0.0787561  0.01545366 0.0021439  0.00025854\n",
      " 0.00002683 0.00000244]\n",
      "14.667599999999998\n",
      "19.4753\n",
      "59.58064032288854\n",
      "[1.7268 1.9081 2.3779 1.9603 1.1771 0.5489 0.2101 0.0856]\n",
      "[0.17276984 0.19090927 0.23791372 0.19613199 0.11777124 0.05491856\n",
      " 0.02102093 0.00856445]\n",
      "8.267999999999999\n",
      "21.258300000000002\n",
      "31.70672472181906\n"
     ]
    }
   ],
   "source": [
    "# Other tRNA can go up either by increasing total tRNA, or by replacing other tRNA. Both depress rates further.\n",
    "i = np.append(np.repeat(np.arange(1,43,1),10000),np.repeat(np.arange(1,10,1),30000)).tolist()\n",
    "import random\n",
    "count = np.zeros(8)\n",
    "count1 = np.zeros(8)\n",
    "count2 = np.zeros(8)\n",
    "\n",
    "for x in range(10000):\n",
    "    sample = random.sample(i,42)\n",
    "    count+=np.histogram(np.histogram(sample,range=(0.99,42.99),bins=42)[0],range=(0,8),bins=8)[0]\n",
    "    sample1 = [x for x in sample if x not in np.arange(1,10,1)]\n",
    "    count1+=np.histogram(np.histogram(sample1,range=(10.99,42.99),bins=41)[0],range=(0,8),bins=8)[0]\n",
    "    sample2 = [x for x in sample if x in np.arange(1,10,1)]\n",
    "    count2+=np.histogram(np.histogram(sample2,range=(0.99,10.99),bins=10)[0],range=(0,8),bins=8)[0]\n",
    "    \n",
    "np.set_printoptions(suppress=True)\n",
    "\n",
    "a=count/10000\n",
    "print(a[:])\n",
    "print(a[:]/sum(a[:]))\n",
    "print(sum(a[1:]))\n",
    "print(a[1]*1+a[2]*2+a[3]*3+a[4]*4+a[5]*5+a[6]*6)\n",
    "print((sum((a[0:]/sum(a[0:]))[1:7]*[70,35,17,8,4,2]))/(1-a[0]/sum(a[0:])))\n",
    "\n",
    "a=count1/10000\n",
    "print(a[:])\n",
    "print(a[:]/sum(a[:]))\n",
    "print(sum(a[1:]))\n",
    "print(a[1]*1+a[2]*2+a[3]*3+a[4]*4+a[5]*5+a[6]*6)\n",
    "print((sum((a[0:]/sum(a[0:]))[1:7]*[70,35,17,8,4,2]))/(1-a[0]/sum(a[0:])))\n",
    "\n",
    "a=count2/10000\n",
    "print(a[:])\n",
    "print(a[:]/sum(a[:]))\n",
    "print(sum(a[1:]))\n",
    "print(a[1]*1+a[2]*2+a[3]*3+a[4]*4+a[5]*5+a[6]*6)\n",
    "print((sum((a[0:]/sum(a[0:]))[1:7]*[70,35,17,8,4,2]))/(1-a[0]/sum(a[0:])))"
   ]
  },
  {
   "cell_type": "code",
   "execution_count": null,
   "metadata": {
    "collapsed": false
   },
   "outputs": [],
   "source": [
    "(31*10+59*32)/42"
   ]
  },
  {
   "cell_type": "code",
   "execution_count": 41,
   "metadata": {
    "collapsed": false
   },
   "outputs": [
    {
     "data": {
      "text/plain": [
       "52.7974755528232"
      ]
     },
     "execution_count": 41,
     "metadata": {},
     "output_type": "execute_result"
    }
   ],
   "source": [
    "sum((a[1:]/sum(a[1:]))[0:6]*[70,35,17,8,4,2])"
   ]
  },
  {
   "cell_type": "code",
   "execution_count": 77,
   "metadata": {
    "collapsed": false
   },
   "outputs": [
    {
     "data": {
      "text/plain": [
       "array([1, 1, 3, 3, 2, 0, 0, 0])"
      ]
     },
     "execution_count": 77,
     "metadata": {},
     "output_type": "execute_result"
    }
   ],
   "source": [
    "sample2= [x for x in sample if x in [1,2,3,4,5,6,7,8,9,10]]\n",
    "np.histogram(np.histogram(sample2,range=(0.99,10.99),bins=10)[0],range=(0,8),bins=8)[0]"
   ]
  },
  {
   "cell_type": "code",
   "execution_count": 41,
   "metadata": {
    "collapsed": false
   },
   "outputs": [],
   "source": [
    "import random\n",
    "num_cells =1\n",
    "i = np.repeat(np.arange(1,43,1),9500).tolist()\n",
    "voxel_loc = list()\n",
    "for k in range(num_cells):\n",
    "    for x in i:\n",
    "        voxel_loc.append(np.random.randint(1,9500))\n"
   ]
  },
  {
   "cell_type": "code",
   "execution_count": 44,
   "metadata": {
    "collapsed": false
   },
   "outputs": [
    {
     "name": "stdout",
     "output_type": "stream",
     "text": [
      "42.0\n",
      "6.546352942066694\n"
     ]
    },
    {
     "data": {
      "text/plain": [
       "(0, 100)"
      ]
     },
     "execution_count": 44,
     "metadata": {},
     "output_type": "execute_result"
    },
    {
     "data": {
      "image/png": "[encoded data removed]",
      "text/plain": [
       "<Figure size 432x288 with 1 Axes>"
      ]
     },
     "metadata": {
      "needs_background": "light"
     },
     "output_type": "display_data"
    }
   ],
   "source": [
    "print(np.average(np.histogram(voxel_loc,range=(0.99,9500.99),bins=9500)[0]/num_cells))\n",
    "print(np.std(np.histogram(voxel_loc,range=(0.99,9500.99),bins=9500)[0]/num_cells))\n",
    "plt.hist(np.histogram(voxel_loc,range=(0.99,9500.99),bins=9500)[0]/num_cells,range=(-0.1,99.99),bins=100,normed=True)"
   ]
  },
  {
   "cell_type": "code",
   "execution_count": 158,
   "metadata": {
    "collapsed": false
   },
   "outputs": [
    {
     "name": "stdout",
     "output_type": "stream",
     "text": [
      "54.65460057470259\n",
      "29.34539942529741\n"
     ]
    }
   ],
   "source": [
    "print(42+np.std(np.histogram(voxel_loc,range=(0.99,9500.99),bins=9500)[0])*1.96)\n",
    "print(42-np.std(np.histogram(voxel_loc,range=(0.99,9500.99),bins=9500)[0])*1.96)"
   ]
  },
  {
   "cell_type": "code",
   "execution_count": 1,
   "metadata": {
    "collapsed": false
   },
   "outputs": [
    {
     "ename": "NameError",
     "evalue": "name 'np' is not defined",
     "output_type": "error",
     "traceback": [
      "\u001b[0;31m---------------------------------------------------------------------------\u001b[0m",
      "\u001b[0;31mNameError\u001b[0m                                 Traceback (most recent call last)",
      "\u001b[0;32m<ipython-input-1-5d6617f78559>\u001b[0m in \u001b[0;36m<module>\u001b[0;34m\u001b[0m\n\u001b[1;32m      5\u001b[0m \u001b[0;32mimport\u001b[0m \u001b[0mrandom\u001b[0m\u001b[0;34m\u001b[0m\u001b[0m\n\u001b[1;32m      6\u001b[0m \u001b[0mvox_num\u001b[0m \u001b[0;34m=\u001b[0m \u001b[0;36m9500\u001b[0m\u001b[0;34m\u001b[0m\u001b[0m\n\u001b[0;32m----> 7\u001b[0;31m \u001b[0mi\u001b[0m \u001b[0;34m=\u001b[0m \u001b[0mnp\u001b[0m\u001b[0;34m.\u001b[0m\u001b[0mrepeat\u001b[0m\u001b[0;34m(\u001b[0m\u001b[0mnp\u001b[0m\u001b[0;34m.\u001b[0m\u001b[0marange\u001b[0m\u001b[0;34m(\u001b[0m\u001b[0;36m1\u001b[0m\u001b[0;34m,\u001b[0m\u001b[0;36m43\u001b[0m\u001b[0;34m,\u001b[0m\u001b[0;36m1\u001b[0m\u001b[0;34m)\u001b[0m\u001b[0;34m,\u001b[0m\u001b[0mvox_num\u001b[0m\u001b[0;34m)\u001b[0m\u001b[0;34m.\u001b[0m\u001b[0mtolist\u001b[0m\u001b[0;34m(\u001b[0m\u001b[0;34m)\u001b[0m\u001b[0;34m\u001b[0m\u001b[0m\n\u001b[0m\u001b[1;32m      8\u001b[0m \u001b[0mcount\u001b[0m \u001b[0;34m=\u001b[0m \u001b[0mnp\u001b[0m\u001b[0;34m.\u001b[0m\u001b[0mzeros\u001b[0m\u001b[0;34m(\u001b[0m\u001b[0;36m43\u001b[0m\u001b[0;34m)\u001b[0m\u001b[0;34m\u001b[0m\u001b[0m\n\u001b[1;32m      9\u001b[0m \u001b[0;32mfor\u001b[0m \u001b[0mx\u001b[0m \u001b[0;32min\u001b[0m \u001b[0mrange\u001b[0m\u001b[0;34m(\u001b[0m\u001b[0mvox_num\u001b[0m\u001b[0;34m)\u001b[0m\u001b[0;34m:\u001b[0m\u001b[0;34m\u001b[0m\u001b[0m\n",
      "\u001b[0;31mNameError\u001b[0m: name 'np' is not defined"
     ]
    }
   ],
   "source": [
    "#(0)# of tRNA not accounted for out of the 42 tRNA in a region, (1) # of tRNA that appear once,\n",
    "# (2) # of tRNA that appear twice, and on..\n",
    "# Summing # of singles, doubles, etc. adds up to total # of unique tRNA seen out of the 42 tRNA.\n",
    "# Summing up # of singles *1 , doubles *2, etc. adds up to 42 total tRNA\n",
    "import random\n",
    "vox_num = 9500\n",
    "i = np.repeat(np.arange(1,43,1),vox_num).tolist()\n",
    "count = np.zeros(43)\n",
    "for x in range(vox_num):\n",
    "    sample = random.sample(i,42)\n",
    "    count+=np.histogram(np.histogram(sample,range=(0.99,42.99),bins=42)[0],range=(0,43),bins=43)[0]\n",
    "np.set_printoptions(suppress=True)\n",
    "\n",
    "a=count/vox_num\n",
    "print(a[:])\n",
    "print(a[:]/sum(a[:]))\n",
    "plt.hist(print(a[:]/sum(a[:])))\n",
    "print(sum(a[1:]))\n",
    "print(a[1]*1+a[2]*2+a[3]*3+a[4]*4+a[5]*5+a[6]*6)\n",
    "print((sum((a[0:]/sum(a[0:]))[1:7]*[70,35,17,8,4,2]))/(1-a[0]/sum(a[0:])))"
   ]
  },
  {
   "cell_type": "code",
   "execution_count": 186,
   "metadata": {
    "collapsed": false
   },
   "outputs": [
    {
     "name": "stdout",
     "output_type": "stream",
     "text": [
      "[20.88115789 14.76705263  5.04621053  1.10663158  0.17631579  0.02052632\n",
      "  0.002       0.00010526]\n",
      "[0.49717043 0.35159649 0.12014787 0.02634837 0.00419799 0.00048872\n",
      " 0.00004762 0.00000251]\n",
      "21.11884210526316\n",
      "28.999263157894738\n",
      "58.27120705381578\n"
     ]
    }
   ],
   "source": [
    "#(0)# of tRNA not accounted for out of the 42 tRNA in a region, (1) # of tRNA that appear once,\n",
    "# (2) # of tRNA that appear twice, and on..\n",
    "# Summing # of singles, doubles, etc. adds up to total # of unique tRNA seen out of the 42 tRNA.\n",
    "# Summing up # of singles *1 , doubles *2, etc. adds up to 42 total tRNA\n",
    "import random\n",
    "i = np.repeat(np.arange(1,43,1),vox_num).tolist()\n",
    "count = np.zeros(8)\n",
    "for x in range(vox_num):\n",
    "    sample = random.sample(i,29)\n",
    "    count+=np.histogram(np.histogram(sample,range=(0.99,42.99),bins=42)[0],range=(0,8),bins=8)[0]\n",
    "np.set_printoptions(suppress=True)\n",
    "\n",
    "a=count/vox_num\n",
    "print(a[:])\n",
    "print(a[:]/sum(a[:]))\n",
    "print(sum(a[1:]))\n",
    "print(a[1]*1+a[2]*2+a[3]*3+a[4]*4+a[5]*5+a[6]*6)\n",
    "print((sum((a[0:]/sum(a[0:]))[1:7]*[70,35,17,8,4,2]))/(1-a[0]/sum(a[0:])))"
   ]
  },
  {
   "cell_type": "code",
   "execution_count": 187,
   "metadata": {
    "collapsed": false
   },
   "outputs": [
    {
     "name": "stdout",
     "output_type": "stream",
     "text": [
      "[11.43473684 15.08210526  9.70368421  4.09557895  1.28757895  0.31726316\n",
      "  0.06747368  0.01157895]\n",
      "[0.27225564 0.35909774 0.2310401  0.09751378 0.03065664 0.00755388\n",
      " 0.00160652 0.00027569]\n",
      "30.565263157894734\n",
      "53.91768421052632\n",
      "48.31320384337226\n"
     ]
    }
   ],
   "source": [
    "#(0)# of tRNA not accounted for out of the 42 tRNA in a region, (1) # of tRNA that appear once,\n",
    "# (2) # of tRNA that appear twice, and on..\n",
    "# Summing # of singles, doubles, etc. adds up to total # of unique tRNA seen out of the 42 tRNA.\n",
    "# Summing up # of singles *1 , doubles *2, etc. adds up to 42 total tRNA\n",
    "import random\n",
    "i = np.repeat(np.arange(1,43,1),vox_num).tolist()\n",
    "count = np.zeros(8)\n",
    "for x in range(vox_num):\n",
    "    sample = random.sample(i,54)\n",
    "    count+=np.histogram(np.histogram(sample,range=(0.99,42.99),bins=42)[0],range=(0,8),bins=8)[0]\n",
    "np.set_printoptions(suppress=True)\n",
    "\n",
    "a=count/vox_num\n",
    "print(a[:])\n",
    "print(a[:]/sum(a[:]))\n",
    "print(sum(a[1:]))\n",
    "print(a[1]*1+a[2]*2+a[3]*3+a[4]*4+a[5]*5+a[6]*6)\n",
    "print((sum((a[0:]/sum(a[0:]))[1:7]*[70,35,17,8,4,2]))/(1-a[0]/sum(a[0:])))"
   ]
  },
  {
   "cell_type": "code",
   "execution_count": 199,
   "metadata": {
    "collapsed": false
   },
   "outputs": [
    {
     "name": "stdout",
     "output_type": "stream",
     "text": [
      "[0.12810526 0.26663158 0.268      0.18915789 0.09736842 0.03442105\n",
      " 0.01168421 0.00452632]\n",
      "[0.12811875 0.26665965 0.26802821 0.18917781 0.09737867 0.03442468\n",
      " 0.01168544 0.00452679]\n",
      "0.9998947368421052\n",
      "2.0017894736842106\n",
      "36.935402076793046\n",
      "[0.59536842 0.31252632 0.07547368 0.01431579 0.00221053 0.00010526\n",
      " 0.         0.        ]\n",
      "[0.59536842 0.31252632 0.07547368 0.01431579 0.00221053 0.00010526\n",
      " 0.         0.        ]\n",
      "1.0\n",
      "0.5157894736842106\n",
      "61.24063475546306\n"
     ]
    }
   ],
   "source": [
    "import random\n",
    "i = np.concatenate((np.repeat(np.arange(4,43,1),9500),np.repeat(np.arange(1,3,1),9500/2),[3]*(9500*2))).tolist()\n",
    "count = np.zeros(8)\n",
    "count1 = np.zeros(8)\n",
    "count2 = np.zeros(8)\n",
    "vox_num = 9500\n",
    "for x in range(vox_num):\n",
    "    sample = random.sample(i,43)\n",
    "    sample1 = [x for x in sample if x == 3]\n",
    "    count1+=np.histogram(np.histogram(sample1,range=(2.99,3.99),bins=1)[0],range=(0,8),bins=8)[0]\n",
    "    sample2 = [x for x in sample if x in [1]]\n",
    "    count2+=np.histogram(np.histogram(sample2,range=(0.99,1.99),bins=1)[0],range=(0,8),bins=8)[0]\n",
    "np.set_printoptions(suppress=True)\n",
    "\n",
    "a=count1/vox_num\n",
    "print(a[:])\n",
    "print(a[:]/sum(a[:]))\n",
    "print(sum(a[:]))\n",
    "\n",
    "print(a[1]*1+a[2]*2+a[3]*3+a[4]*4+a[5]*5+a[6]*6)\n",
    "print((sum((a[0:]/sum(a[0:]))[1:7]*[70,35,17,8,4,2]))/(1-a[0]/sum(a[0:])))\n",
    "\n",
    "a=count2/vox_num\n",
    "print(a[:])\n",
    "print(a[:]/sum(a[:]))\n",
    "print(sum(a[:]))\n",
    "print(a[1]*1+a[2]*2+a[3]*3+a[4]*4+a[5]*5+a[6]*6)\n",
    "print((sum((a[0:]/sum(a[0:]))[1:7]*[70,35,17,8,4,2]))/(1-a[0]/sum(a[0:])))\n"
   ]
  },
  {
   "cell_type": "code",
   "execution_count": 205,
   "metadata": {
    "collapsed": false
   },
   "outputs": [
    {
     "name": "stdout",
     "output_type": "stream",
     "text": [
      "[0.02463158 0.09157895 0.182      0.21463158 0.19094737 0.14305263\n",
      " 0.086      0.05757895]\n",
      "[0.02486981 0.09246466 0.18376023 0.21670741 0.19279413 0.14443618\n",
      " 0.08683176 0.05813583]\n",
      "0.9904210526315789\n",
      "3.094526315789474\n",
      "19.363487738419618\n",
      "[0.594      0.31726316 0.07410526 0.01284211 0.00147368 0.00031579\n",
      " 0.         0.        ]\n",
      "[0.594      0.31726316 0.07410526 0.01284211 0.00147368 0.00031579\n",
      " 0.         0.        ]\n",
      "0.9999999999999999\n",
      "0.5114736842105263\n",
      "151.8689708814248\n"
     ]
    }
   ],
   "source": [
    "import random\n",
    "i = np.concatenate((np.repeat(np.arange(6,43,1),9500),np.repeat(np.arange(1,5,1),9500/2),[3]*(9500*3))).tolist()\n",
    "count = np.zeros(8)\n",
    "count1 = np.zeros(8)\n",
    "count2 = np.zeros(8)\n",
    "vox_num = 9500\n",
    "for x in range(vox_num):\n",
    "    sample = random.sample(i,43)\n",
    "    sample1 = [x for x in sample if x == 3]\n",
    "    count1+=np.histogram(np.histogram(sample1,range=(2.99,3.99),bins=1)[0],range=(0,8),bins=8)[0]\n",
    "    sample2 = [x for x in sample if x in [1]]\n",
    "    count2+=np.histogram(np.histogram(sample2,range=(0.99,1.99),bins=1)[0],range=(0,8),bins=8)[0]\n",
    "np.set_printoptions(suppress=True)\n",
    "\n",
    "a=count1/vox_num\n",
    "print(a[:])\n",
    "print(a[:]/sum(a[:]))\n",
    "print(sum(a[:]))\n",
    "\n",
    "print(a[1]*1+a[2]*2+a[3]*3+a[4]*4+a[5]*5+a[6]*6)\n",
    "print((sum((a[0:]/sum(a[0:]))[1:7]*[70,35,17,8,4,2]))/(1-a[0]/sum(a[0:])))\n",
    "\n",
    "a=count2/vox_num\n",
    "print(a[:])\n",
    "print(a[:]/sum(a[:]))\n",
    "print(sum(a[:]))\n",
    "print(a[1]*1+a[2]*2+a[3]*3+a[4]*4+a[5]*5+a[6]*6)\n",
    "print((sum((a[1:]/sum(a[1:]))[0:6]*[70,35,17,8,4,2]))/(1-a[0]/sum(a[0:])))\n"
   ]
  },
  {
   "cell_type": "code",
   "execution_count": 200,
   "metadata": {
    "collapsed": false
   },
   "outputs": [
    {
     "data": {
      "text/plain": [
       "52.666666666666664"
      ]
     },
     "execution_count": 200,
     "metadata": {},
     "output_type": "execute_result"
    }
   ],
   "source": [
    "(61*2+36)/3"
   ]
  },
  {
   "cell_type": "code",
   "execution_count": null,
   "metadata": {
    "collapsed": false
   },
   "outputs": [],
   "source": []
  },
  {
   "cell_type": "code",
   "execution_count": 198,
   "metadata": {
    "collapsed": false
   },
   "outputs": [
    {
     "data": {
      "text/plain": [
       "0.47199999999999986"
      ]
     },
     "execution_count": 198,
     "metadata": {},
     "output_type": "execute_result"
    }
   ],
   "source": [
    "1-a[0]/sum(a[0:])"
   ]
  },
  {
   "cell_type": "code",
   "execution_count": 225,
   "metadata": {
    "collapsed": false
   },
   "outputs": [
    {
     "name": "stdout",
     "output_type": "stream",
     "text": [
      "{'atg': 0.008368200836820083, 'cgt': 0.0041841004184100415, 'aaa': 0.02510460251046025, 'gga': 0.02092050209205021, 'gaa': 0.016736401673640166, 'ctt': 0.02092050209205021, 'ttc': 0.008368200836820083, 'act': 0.02092050209205021, 'gtt': 0.02092050209205021, 'gtc': 0.012552301255230125, 'cca': 0.016736401673640166, 'att': 0.008368200836820083, 'tta': 0.0041841004184100415, 'gat': 0.016736401673640166, 'ggt': 0.016736401673640166, 'aat': 0.0041841004184100415, 'ggg': 0.0041841004184100415, 'cac': 0.0041841004184100415, 'ttt': 0.016736401673640166, 'tct': 0.0041841004184100415, 'agt': 0.0041841004184100415, 'gag': 0.0041841004184100415, 'gca': 0.0041841004184100415, 'aca': 0.008368200836820083, 'tac': 0.008368200836820083, 'acc': 0.0041841004184100415, 'tgc': 0.008368200836820083, 'cta': 0.0041841004184100415, 'cct': 0.0041841004184100415, 'tgg': 0.0041841004184100415, 'gct': 0.0041841004184100415, 'caa': 0.0041841004184100415, 'gcg': 0.0041841004184100415, 'aga': 0.0041841004184100415, 'cat': 0.0041841004184100415, 'cag': 0.0041841004184100415}\n"
     ]
    }
   ],
   "source": [
    "import numpy as np\n",
    "GFP = 'atgcgtaaaggagaagaacttttcactggagttgtcccaattcttgttgaattagatggtgatgttaatgggcacaaattttctgtcagtggagagggtgaaggtgatgcaacatacggaaaacttacccttaaatttatttgcactactggaaaactacctgttccatggccaacacttgtcactactttcggttttgctgttcaatgctttgcgagatacccagatcatatgaaacagcatgactttttcaagagtgccatgcccgaaggttatgtacaggaaagaactatatttttcaaagatgacgggaactacaagacacgtgctgaagtcaagtttgaaggtgatacccttgttaatagaatcgagttaaaaggtattgattttaaagaagatggaaacattcttggacacaaattggaatacaactataactcacacaatgtatacatcatggcagacaaacaaaagaatggaatcaaagttaacttcaaaattagacacaacattgaagatggaagcgttcaactagcagaccattatcaacaaaatactccaattggcgatggccctgtccttttaccagacaaccattacctgtccacacaatctgccctttcgaaagatcccaacgaaaagagagaccacatggtccttcttgagtttgtaacagctgctgggattacacatggcatggatgaactatacaaataa'\n",
    "num_codons = int(len(GFP)/3)\n",
    "codon_step = np.arange(0,num_codons,3)\n",
    "codon_count = {}\n",
    "for i in codon_step:\n",
    "    if GFP[i:i+3] in codon_count:\n",
    "        codon_count[GFP[i:i+3]] += 1\n",
    "    else:\n",
    "        codon_count[GFP[i:i+3]] = 1\n",
    "for key in codon_count:\n",
    "    codon_count[key] = codon_count[key]/num_codons\n",
    "print(codon_count)"
   ]
  },
  {
   "cell_type": "code",
   "execution_count": 218,
   "metadata": {
    "collapsed": false
   },
   "outputs": [
    {
     "data": {
      "text/plain": [
       "239.0"
      ]
     },
     "execution_count": 218,
     "metadata": {},
     "output_type": "execute_result"
    }
   ],
   "source": [
    "len(GFP)/3"
   ]
  },
  {
   "cell_type": "code",
   "execution_count": 45,
   "metadata": {
    "collapsed": false
   },
   "outputs": [
    {
     "ename": "TypeError",
     "evalue": "exponential() takes at most 2 positional arguments (3 given)",
     "output_type": "error",
     "traceback": [
      "\u001b[0;31m---------------------------------------------------------------------------\u001b[0m",
      "\u001b[0;31mTypeError\u001b[0m                                 Traceback (most recent call last)",
      "\u001b[0;32m<ipython-input-45-c59fd33a8f5c>\u001b[0m in \u001b[0;36m<module>\u001b[0;34m\u001b[0m\n\u001b[1;32m      1\u001b[0m \u001b[0;32mimport\u001b[0m \u001b[0mnumpy\u001b[0m \u001b[0;32mas\u001b[0m \u001b[0mnp\u001b[0m\u001b[0;34m\u001b[0m\u001b[0m\n\u001b[0;32m----> 2\u001b[0;31m \u001b[0mnp\u001b[0m\u001b[0;34m.\u001b[0m\u001b[0mrandom\u001b[0m\u001b[0;34m.\u001b[0m\u001b[0mexponential\u001b[0m\u001b[0;34m(\u001b[0m\u001b[0;36m0\u001b[0m\u001b[0;34m,\u001b[0m\u001b[0;36m42\u001b[0m\u001b[0;34m,\u001b[0m\u001b[0;36m4\u001b[0m\u001b[0;34m)\u001b[0m\u001b[0;34m\u001b[0m\u001b[0m\n\u001b[0m\u001b[1;32m      3\u001b[0m \u001b[0;34m\u001b[0m\u001b[0m\n\u001b[1;32m      4\u001b[0m \u001b[0mi\u001b[0m \u001b[0;34m=\u001b[0m \u001b[0mnp\u001b[0m\u001b[0;34m.\u001b[0m\u001b[0mrepeat\u001b[0m\u001b[0;34m(\u001b[0m\u001b[0mnp\u001b[0m\u001b[0;34m.\u001b[0m\u001b[0marange\u001b[0m\u001b[0;34m(\u001b[0m\u001b[0;36m1\u001b[0m\u001b[0;34m,\u001b[0m\u001b[0;36m43\u001b[0m\u001b[0;34m,\u001b[0m\u001b[0;36m1\u001b[0m\u001b[0;34m)\u001b[0m\u001b[0;34m,\u001b[0m\u001b[0;36m10000\u001b[0m\u001b[0;34m)\u001b[0m\u001b[0;34m.\u001b[0m\u001b[0mtolist\u001b[0m\u001b[0;34m(\u001b[0m\u001b[0;34m)\u001b[0m\u001b[0;34m\u001b[0m\u001b[0m\n\u001b[1;32m      5\u001b[0m \u001b[0;32mimport\u001b[0m \u001b[0mrandom\u001b[0m\u001b[0;34m\u001b[0m\u001b[0m\n",
      "\u001b[0;32mmtrand.pyx\u001b[0m in \u001b[0;36mmtrand.RandomState.exponential\u001b[0;34m()\u001b[0m\n",
      "\u001b[0;31mTypeError\u001b[0m: exponential() takes at most 2 positional arguments (3 given)"
     ]
    }
   ],
   "source": [
    "import numpy as np\n",
    "np.random.exponential(0,42,4)\n",
    "\n",
    "i = np.repeat(np.arange(1,43,1),10000).tolist()\n",
    "import random\n",
    "count = list()\n",
    "for x in range(400000):\n",
    "    count.append(len(np.unique(random.sample(i,42))))\n",
    "\n",
    "plt.hist(count,bins=42,range=(0,42))\n",
    "plt.xlim(20,35)\n",
    "\n"
   ]
  },
  {
   "cell_type": "code",
   "execution_count": 167,
   "metadata": {
    "collapsed": false
   },
   "outputs": [
    {
     "name": "stdout",
     "output_type": "stream",
     "text": [
      "1.9389925388082736\n"
     ]
    },
    {
     "data": {
      "text/plain": [
       "(array([2534., 2417., 2446., 2354., 2277., 2196., 2156., 2130., 2134.,\n",
       "        2074., 1969., 1968., 1881., 1894., 1829., 1733., 1678., 1608.,\n",
       "        1597., 1586., 1439., 1410., 1416., 1373., 1369., 1375., 1349.,\n",
       "        1252., 1207., 1228., 1104., 1118., 1094., 1048., 1104., 1046.,\n",
       "         986.,  960.,  988.,  918.,  912.,  925.,  835.,  852.,  871.,\n",
       "         805.,  786.,  752.,  775.,  760.,  652.,  673.,  682.,  576.,\n",
       "         615.,  663.,  605.,  566.,  569.,  553.,  552.,  571.,  514.,\n",
       "         523.,  486.,  465.,  462.,  447.,  500.,  394.,  378.,  405.,\n",
       "         417.,  403.,  383.,  367.,  347.,  348.,  353.,  301.,  318.,\n",
       "         284.,  321.,  309.,  299.,  263.,  285.,  271.,  253.,  243.,\n",
       "         217.,  211.,  239.,  257.,  223.,  223.,  241.,  216.,  180.,\n",
       "         214.]),\n",
       " array([0.  , 0.05, 0.1 , 0.15, 0.2 , 0.25, 0.3 , 0.35, 0.4 , 0.45, 0.5 ,\n",
       "        0.55, 0.6 , 0.65, 0.7 , 0.75, 0.8 , 0.85, 0.9 , 0.95, 1.  , 1.05,\n",
       "        1.1 , 1.15, 1.2 , 1.25, 1.3 , 1.35, 1.4 , 1.45, 1.5 , 1.55, 1.6 ,\n",
       "        1.65, 1.7 , 1.75, 1.8 , 1.85, 1.9 , 1.95, 2.  , 2.05, 2.1 , 2.15,\n",
       "        2.2 , 2.25, 2.3 , 2.35, 2.4 , 2.45, 2.5 , 2.55, 2.6 , 2.65, 2.7 ,\n",
       "        2.75, 2.8 , 2.85, 2.9 , 2.95, 3.  , 3.05, 3.1 , 3.15, 3.2 , 3.25,\n",
       "        3.3 , 3.35, 3.4 , 3.45, 3.5 , 3.55, 3.6 , 3.65, 3.7 , 3.75, 3.8 ,\n",
       "        3.85, 3.9 , 3.95, 4.  , 4.05, 4.1 , 4.15, 4.2 , 4.25, 4.3 , 4.35,\n",
       "        4.4 , 4.45, 4.5 , 4.55, 4.6 , 4.65, 4.7 , 4.75, 4.8 , 4.85, 4.9 ,\n",
       "        4.95, 5.  ]),\n",
       " <a list of 100 Patch objects>)"
      ]
     },
     "execution_count": 167,
     "metadata": {},
     "output_type": "execute_result"
    },
    {
     "data": {
      "image/png": "[encoded data removed]",
      "text/plain": [
       "<Figure size 432x288 with 1 Axes>"
      ]
     },
     "metadata": {
      "needs_background": "light"
     },
     "output_type": "display_data"
    }
   ],
   "source": [
    "import matplotlib.pyplot as plt\n",
    "%matplotlib inline\n",
    "incorr = list()\n",
    "numrib=100000\n",
    "for rib in range(numrib):\n",
    "    incorr_i=0\n",
    "    while(np.random.uniform()>0.717):\n",
    "        incorr_i += np.random.exponential(1/0.717)\n",
    "    incorr_i += np.random.exponential(1/0.717)\n",
    "    incorr.append(incorr_i)\n",
    "print(np.mean(incorr))\n",
    "plt.hist(incorr,range=(0,5),bins=100)"
   ]
  },
  {
   "cell_type": "code",
   "execution_count": 152,
   "metadata": {
    "collapsed": false
   },
   "outputs": [
    {
     "name": "stdout",
     "output_type": "stream",
     "text": [
      "28.80892398658474\n"
     ]
    },
    {
     "data": {
      "text/plain": [
       "(array([245.,   9.,  10.,  12.,   7.,   8.,  12.,   8.,   9.,   8.,   9.,\n",
       "          9.,   8.,   7.,   7.,   8.,   1.,  11.,   9.,  14.,   7.,   6.,\n",
       "         11.,   3.,  17.,  11.,   5.,  10.,  10.,  10.,   7.,  10.,   9.,\n",
       "          9.,   6.,   9.,  10.,   8.,   9.,   5.,   8.,   8.,   4.,   5.,\n",
       "         11.,   8.,   6.,   8.,   9.,  14.,   5.,  13.,   9.,   8.,   3.,\n",
       "         13.,   7.,   6.,  10.,  10.,   5.,   7.,   9.,  10.,   9.,   7.,\n",
       "          6.,   5.,  10.,   7.,   8.,   8.,   8.,  13.,   3.,  12.,  13.,\n",
       "          5.,   7.,  10.,   6.,   7.,  10.,   6.,   5.,   5.,  10.,   6.,\n",
       "          4.,  11.,  11.,   7.,   7.,  11.,   6.,  11.,   9.,  10.,  10.,\n",
       "          7.]),\n",
       " array([0.  , 0.05, 0.1 , 0.15, 0.2 , 0.25, 0.3 , 0.35, 0.4 , 0.45, 0.5 ,\n",
       "        0.55, 0.6 , 0.65, 0.7 , 0.75, 0.8 , 0.85, 0.9 , 0.95, 1.  , 1.05,\n",
       "        1.1 , 1.15, 1.2 , 1.25, 1.3 , 1.35, 1.4 , 1.45, 1.5 , 1.55, 1.6 ,\n",
       "        1.65, 1.7 , 1.75, 1.8 , 1.85, 1.9 , 1.95, 2.  , 2.05, 2.1 , 2.15,\n",
       "        2.2 , 2.25, 2.3 , 2.35, 2.4 , 2.45, 2.5 , 2.55, 2.6 , 2.65, 2.7 ,\n",
       "        2.75, 2.8 , 2.85, 2.9 , 2.95, 3.  , 3.05, 3.1 , 3.15, 3.2 , 3.25,\n",
       "        3.3 , 3.35, 3.4 , 3.45, 3.5 , 3.55, 3.6 , 3.65, 3.7 , 3.75, 3.8 ,\n",
       "        3.85, 3.9 , 3.95, 4.  , 4.05, 4.1 , 4.15, 4.2 , 4.25, 4.3 , 4.35,\n",
       "        4.4 , 4.45, 4.5 , 4.55, 4.6 , 4.65, 4.7 , 4.75, 4.8 , 4.85, 4.9 ,\n",
       "        4.95, 5.  ]),\n",
       " <a list of 100 Patch objects>)"
      ]
     },
     "execution_count": 152,
     "metadata": {},
     "output_type": "execute_result"
    },
    {
     "data": {
      "image/png": "[encoded data removed]",
      "text/plain": [
       "<Figure size 432x288 with 1 Axes>"
      ]
     },
     "metadata": {
      "needs_background": "light"
     },
     "output_type": "display_data"
    }
   ],
   "source": [
    "import random\n",
    "arr = np.arange(1,43,1)\n",
    "count = np.zeros(8)\n",
    "incorr = list()\n",
    "for x in range(10000):\n",
    "    np.random.shuffle(arr)\n",
    "    arr_copy = arr.copy().tolist()\n",
    "    incorr_i=0\n",
    "    while(arr_copy.pop()!=3):\n",
    "        incorr_i += np.random.exponential(1/0.717)\n",
    "    incorr.append(incorr_i)\n",
    "print(np.mean(incorr))\n",
    "plt.hist(incorr,range=(0,5),bins=100)\n",
    "    "
   ]
  },
  {
   "cell_type": "code",
   "execution_count": 154,
   "metadata": {
    "collapsed": false
   },
   "outputs": [
    {
     "name": "stdout",
     "output_type": "stream",
     "text": [
      "28.716640527764532\n"
     ]
    },
    {
     "data": {
      "text/plain": [
       "(array([249.,   8.,   8.,   8.,   5.,  12.,   8.,  11.,  10.,   7.,   8.,\n",
       "          9.,   2.,   7.,   2.,   8.,   7.,   3.,   8.,   4.,   6.,   7.,\n",
       "          6.,   8.,  14.,   6.,  11.,  11.,  11.,  12.,  10.,   9.,   3.,\n",
       "          8.,   7.,  12.,  13.,   8.,   9.,   6.,  11.,   8.,  10.,   7.,\n",
       "          5.,  11.,   5.,   7.,   4.,   9.,   6.,  13.,   5.,   3.,   3.,\n",
       "          9.,   7.,   9.,   5.,   8.,   8.,   9.,   6.,  10.,   6.,   5.,\n",
       "          6.,   7.,  12.,  12.,   8.,  10.,  14.,   2.,   8.,  11.,   6.,\n",
       "          9.,  13.,  11.,  10.,  11.,  16.,   6.,  14.,   6.,   9.,   8.,\n",
       "         16.,  13.,  13.,  10.,  12.,   7.,   7.,   7.,   6.,   6.,  12.,\n",
       "          5.]),\n",
       " array([0.  , 0.05, 0.1 , 0.15, 0.2 , 0.25, 0.3 , 0.35, 0.4 , 0.45, 0.5 ,\n",
       "        0.55, 0.6 , 0.65, 0.7 , 0.75, 0.8 , 0.85, 0.9 , 0.95, 1.  , 1.05,\n",
       "        1.1 , 1.15, 1.2 , 1.25, 1.3 , 1.35, 1.4 , 1.45, 1.5 , 1.55, 1.6 ,\n",
       "        1.65, 1.7 , 1.75, 1.8 , 1.85, 1.9 , 1.95, 2.  , 2.05, 2.1 , 2.15,\n",
       "        2.2 , 2.25, 2.3 , 2.35, 2.4 , 2.45, 2.5 , 2.55, 2.6 , 2.65, 2.7 ,\n",
       "        2.75, 2.8 , 2.85, 2.9 , 2.95, 3.  , 3.05, 3.1 , 3.15, 3.2 , 3.25,\n",
       "        3.3 , 3.35, 3.4 , 3.45, 3.5 , 3.55, 3.6 , 3.65, 3.7 , 3.75, 3.8 ,\n",
       "        3.85, 3.9 , 3.95, 4.  , 4.05, 4.1 , 4.15, 4.2 , 4.25, 4.3 , 4.35,\n",
       "        4.4 , 4.45, 4.5 , 4.55, 4.6 , 4.65, 4.7 , 4.75, 4.8 , 4.85, 4.9 ,\n",
       "        4.95, 5.  ]),\n",
       " <a list of 100 Patch objects>)"
      ]
     },
     "execution_count": 154,
     "metadata": {},
     "output_type": "execute_result"
    },
    {
     "data": {
      "image/png": "[encoded data removed]",
      "text/plain": [
       "<Figure size 432x288 with 1 Axes>"
      ]
     },
     "metadata": {
      "needs_background": "light"
     },
     "output_type": "display_data"
    }
   ],
   "source": [
    "import random\n",
    "arr = np.arange(1,43,1)\n",
    "count = np.zeros(8)\n",
    "incorr = list()\n",
    "for x in range(10000):\n",
    "    np.random.shuffle(arr)\n",
    "    arr_copy = arr.copy().tolist()\n",
    "    incorr_i=0\n",
    "    while(arr_copy.pop()!=3):\n",
    "        incorr_i += np.random.exponential(1/0.717)\n",
    "    incorr.append(incorr_i)\n",
    "print(np.mean(incorr))\n",
    "plt.hist(incorr,range=(0,5),bins=100)\n",
    "    "
   ]
  },
  {
   "cell_type": "code",
   "execution_count": 159,
   "metadata": {
    "collapsed": false
   },
   "outputs": [
    {
     "name": "stdout",
     "output_type": "stream",
     "text": [
      "57.623076068759325\n"
     ]
    },
    {
     "data": {
      "text/plain": [
       "(array([241.,   7.,   9.,   7.,  15.,   8.,  12.,   7.,   6.,   8.,   7.,\n",
       "          5.,   9.,  10.,  12.,   9.,  12.,   9.,  14.,  12.,  12.,   3.,\n",
       "         14.,  11.,   9.,   7.,   7.,  11.,   8.,   9.,   8.,   9.,   8.,\n",
       "          5.,   9.,  11.,   8.,  11.,   8.,   4.,  13.,   6.,   7.,   7.,\n",
       "          7.,   2.,  11.,   8.,   5.,   4.,   8.,   7.,  11.,  15.,   7.,\n",
       "         10.,   6.,   7.,  10.,  11.,   3.,  13.,   5.,   9.,   4.,   9.,\n",
       "          6.,   7.,   9.,   9.,   9.,   9.,   8.,   9.,  16.,   8.,  10.,\n",
       "          7.,   9.,   6.,  10.,   8.,   2.,   7.,   5.,   7.,   7.,   4.,\n",
       "         10.,   7.,   3.,   9.,   7.,  11.,   8.,   4.,   7.,   6.,   6.,\n",
       "          7.]),\n",
       " array([0.  , 0.05, 0.1 , 0.15, 0.2 , 0.25, 0.3 , 0.35, 0.4 , 0.45, 0.5 ,\n",
       "        0.55, 0.6 , 0.65, 0.7 , 0.75, 0.8 , 0.85, 0.9 , 0.95, 1.  , 1.05,\n",
       "        1.1 , 1.15, 1.2 , 1.25, 1.3 , 1.35, 1.4 , 1.45, 1.5 , 1.55, 1.6 ,\n",
       "        1.65, 1.7 , 1.75, 1.8 , 1.85, 1.9 , 1.95, 2.  , 2.05, 2.1 , 2.15,\n",
       "        2.2 , 2.25, 2.3 , 2.35, 2.4 , 2.45, 2.5 , 2.55, 2.6 , 2.65, 2.7 ,\n",
       "        2.75, 2.8 , 2.85, 2.9 , 2.95, 3.  , 3.05, 3.1 , 3.15, 3.2 , 3.25,\n",
       "        3.3 , 3.35, 3.4 , 3.45, 3.5 , 3.55, 3.6 , 3.65, 3.7 , 3.75, 3.8 ,\n",
       "        3.85, 3.9 , 3.95, 4.  , 4.05, 4.1 , 4.15, 4.2 , 4.25, 4.3 , 4.35,\n",
       "        4.4 , 4.45, 4.5 , 4.55, 4.6 , 4.65, 4.7 , 4.75, 4.8 , 4.85, 4.9 ,\n",
       "        4.95, 5.  ]),\n",
       " <a list of 100 Patch objects>)"
      ]
     },
     "execution_count": 159,
     "metadata": {},
     "output_type": "execute_result"
    },
    {
     "data": {
      "image/png": "[encoded data removed]",
      "text/plain": [
       "<Figure size 432x288 with 1 Axes>"
      ]
     },
     "metadata": {
      "needs_background": "light"
     },
     "output_type": "display_data"
    }
   ],
   "source": [
    "import random\n",
    "arr = np.arange(1,43,1)\n",
    "count = np.zeros(8)\n",
    "incorr = list()\n",
    "for x in range(10000):\n",
    "    np.random.shuffle(arr)\n",
    "    arr_copy = arr.copy().tolist()\n",
    "    incorr_i=0\n",
    "    while(np.random.choice(arr_copy)!=3):\n",
    "        incorr_i += np.random.exponential(1/0.717)\n",
    "    incorr.append(incorr_i)\n",
    "print(np.mean(incorr))\n",
    "plt.hist(incorr,range=(0,5),bins=100)\n",
    "    "
   ]
  },
  {
   "cell_type": "raw",
   "metadata": {},
   "source": []
  },
  {
   "cell_type": "code",
   "execution_count": 160,
   "metadata": {
    "collapsed": false
   },
   "outputs": [
    {
     "name": "stdout",
     "output_type": "stream",
     "text": [
      "203.90844967618798\n"
     ]
    },
    {
     "data": {
      "text/plain": [
       "(array([69.,  0.,  2.,  2.,  1.,  4.,  2.,  0.,  7.,  3.,  2.,  4.,  2.,\n",
       "         3.,  2.,  2.,  4.,  6.,  1.,  2.,  2.,  2.,  1.,  2.,  2.,  5.,\n",
       "         6.,  5.,  5.,  4.,  3.,  6.,  2.,  1.,  2.,  5.,  0.,  3.,  2.,\n",
       "         1.,  2.,  0.,  0.,  2.,  3.,  2.,  1.,  2.,  3.,  3.,  2.,  1.,\n",
       "         1.,  2.,  2.,  2.,  3.,  3.,  5.,  1.,  0.,  2.,  3.,  1.,  3.,\n",
       "         2.,  2.,  2.,  3.,  2.,  2.,  4.,  5.,  7.,  5.,  3.,  2.,  2.,\n",
       "         5.,  1.,  3.,  0.,  2.,  1.,  3.,  1.,  3.,  1.,  4.,  3.,  2.,\n",
       "         3.,  4.,  0.,  3.,  2.,  4.,  0.,  4.,  2.]),\n",
       " array([0.  , 0.05, 0.1 , 0.15, 0.2 , 0.25, 0.3 , 0.35, 0.4 , 0.45, 0.5 ,\n",
       "        0.55, 0.6 , 0.65, 0.7 , 0.75, 0.8 , 0.85, 0.9 , 0.95, 1.  , 1.05,\n",
       "        1.1 , 1.15, 1.2 , 1.25, 1.3 , 1.35, 1.4 , 1.45, 1.5 , 1.55, 1.6 ,\n",
       "        1.65, 1.7 , 1.75, 1.8 , 1.85, 1.9 , 1.95, 2.  , 2.05, 2.1 , 2.15,\n",
       "        2.2 , 2.25, 2.3 , 2.35, 2.4 , 2.45, 2.5 , 2.55, 2.6 , 2.65, 2.7 ,\n",
       "        2.75, 2.8 , 2.85, 2.9 , 2.95, 3.  , 3.05, 3.1 , 3.15, 3.2 , 3.25,\n",
       "        3.3 , 3.35, 3.4 , 3.45, 3.5 , 3.55, 3.6 , 3.65, 3.7 , 3.75, 3.8 ,\n",
       "        3.85, 3.9 , 3.95, 4.  , 4.05, 4.1 , 4.15, 4.2 , 4.25, 4.3 , 4.35,\n",
       "        4.4 , 4.45, 4.5 , 4.55, 4.6 , 4.65, 4.7 , 4.75, 4.8 , 4.85, 4.9 ,\n",
       "        4.95, 5.  ]),\n",
       " <a list of 100 Patch objects>)"
      ]
     },
     "execution_count": 160,
     "metadata": {},
     "output_type": "execute_result"
    },
    {
     "data": {
      "image/png": "[encoded data removed]",
      "text/plain": [
       "<Figure size 432x288 with 1 Axes>"
      ]
     },
     "metadata": {
      "needs_background": "light"
     },
     "output_type": "display_data"
    }
   ],
   "source": [
    "import random\n",
    "arr = np.arange(1,43,1)\n",
    "count = np.zeros(8)\n",
    "incorr = list()\n",
    "for x in range(10000):\n",
    "    np.random.shuffle(arr)\n",
    "    arr_copy = arr.copy().tolist()\n",
    "    incorr_i=0\n",
    "    while(np.random.choice(arr_copy)!=3 or np.random.uniform()<0.717):\n",
    "        incorr_i += np.random.exponential(1/0.717)\n",
    "    incorr.append(incorr_i)\n",
    "print(np.mean(incorr))\n",
    "plt.hist(incorr,range=(0,5),bins=100)\n",
    "    \n"
   ]
  },
  {
   "cell_type": "code",
   "execution_count": null,
   "metadata": {
    "collapsed": false
   },
   "outputs": [],
   "source": [
    "import random\n",
    "arr = np.arange(1,43,1)\n",
    "count = np.zeros(8)\n",
    "incorr = list()\n",
    "for x in range(10000):\n",
    "    np.random.shuffle(arr)\n",
    "    arr_copy = arr.copy().tolist()\n",
    "    incorr_i=0\n",
    "    while(arr_copy.pop()!=3 or np.random.uniform()<0.717):\n",
    "        incorr_i += np.random.exponential(1/0.717)\n",
    "    incorr.append(incorr_i)\n",
    "print(np.mean(incorr))\n",
    "plt.hist(incorr,range=(0,5),bins=100)\n",
    "    "
   ]
  },
  {
   "cell_type": "code",
   "execution_count": null,
   "metadata": {
    "collapsed": false
   },
   "outputs": [],
   "source": []
  },
  {
   "cell_type": "code",
   "execution_count": null,
   "metadata": {
    "collapsed": false
   },
   "outputs": [],
   "source": []
  },
  {
   "cell_type": "code",
   "execution_count": null,
   "metadata": {
    "collapsed": true
   },
   "outputs": [],
   "source": []
  }
 ],
 "metadata": {
  "kernelspec": {
   "display_name": "Python 3",
   "language": "python",
   "name": "python3"
  },
  "language_info": {
   "codemirror_mode": {
    "name": "ipython",
    "version": 3
   },
   "file_extension": ".py",
   "mimetype": "text/x-python",
   "name": "python",
   "nbconvert_exporter": "python",
   "pygments_lexer": "ipython3",
   "version": "3.6.6"
  }
 },
 "nbformat": 4,
 "nbformat_minor": 2
}
