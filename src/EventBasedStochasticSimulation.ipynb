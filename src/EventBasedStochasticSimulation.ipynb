{
 "cells": [
  {
   "cell_type": "code",
   "execution_count": 10,
   "metadata": {},
   "outputs": [
    {
     "name": "stdout",
     "output_type": "stream",
     "text": [
      "The autoreload extension is already loaded. To reload it, use:\n",
      "  %reload_ext autoreload\n"
     ]
    }
   ],
   "source": [
    "from analysis_utils import *\n",
    "%load_ext autoreload\n",
    "import numpy as np\n",
    "import pandas as pd\n",
    "\n",
    "ptRNA = pd.read_excel('tRNAValues.xlsx',header=None)\n",
    "gr04_ptRNA=ptRNA[0]\n",
    "gr07_ptRNA=ptRNA[1]\n",
    "gr107_ptRNA=ptRNA[2]\n",
    "gr16_ptRNA=ptRNA[3]\n",
    "gr25_ptRNA=ptRNA[4]\n",
    "\n",
    "pCodon = pd.read_excel('codonValues.xlsx',header=None)\n",
    "gr04_pCodon = pCodon[0]\n",
    "gr07_pCodon = pCodon[1]\n",
    "gr107_pCodon = pCodon[2]\n",
    "gr16_pCodon = pCodon[3]\n",
    "gr25_pCodon = pCodon[4]\n",
    "\n",
    "rxndiff=dict()"
   ]
  },
  {
   "cell_type": "code",
   "execution_count": 19,
   "metadata": {},
   "outputs": [],
   "source": [
    "def computeBiasedElongationLatency(biasVal=1):\n",
    "    sim_time_all = list()\n",
    "    sim_time_std_all = list()\n",
    "    rib_gr = [4,8,9,9,8,7]\n",
    "    ptRNA = [gr07_ptRNA,gr107_ptRNA,gr16_ptRNA,gr16_ptRNA,gr25_ptRNA,gr25_ptRNA]\n",
    "    pCodon =  [gr07_pCodon,gr107_pCodon,gr16_pCodon,gr16_pCodon,gr25_pCodon,gr25_pCodon]\n",
    "\n",
    "    for i,num_rib in enumerate(rib_gr):\n",
    "        weight = cognateDistrib(ptRNA[i],pCodon[i])\n",
    "        sim_time_gr = list()\n",
    "        sim_time_gr_var=list()\n",
    "        rxn_count_gr = list()\n",
    "\n",
    "        num_tRNA=42\n",
    "        for num_tRNA in np.arange(1,42):\n",
    "            sim_times=list()\n",
    "            rxn_count = list()\n",
    "            N=1000\n",
    "            for i in range(N):\n",
    "                rxn = eventbased_sim(rib_num=num_rib,tRNA_cog=num_tRNA,repeatAllowed=True,bias=biasVal)\n",
    "                sim_times.append(rxn[0])\n",
    "                rxn_count.append(rxn[1])\n",
    "            sim_time_gr.append(np.average(sim_times))\n",
    "            rxn_count_gr.append(np.average(rxn_count))\n",
    "            sim_time_gr_var.append(np.std(sim_times)**2)\n",
    "\n",
    "        #print(np.sum(sim_time_gr*weight[1:len(sim_time_gr)+1]))\n",
    "        sim_time_all.append(np.sum(sim_time_gr*weight[1:len(sim_time_gr)+1]))\n",
    "        sim_time_std_all.append(np.sqrt(np.sum((sim_time_gr_var)*weight[1:len(sim_time_gr)+1]))/np.sqrt(num_tRNA*N))\n",
    "    return(sim_time_all, sim_time_std_all)\n"
   ]
  },
  {
   "cell_type": "code",
   "execution_count": null,
   "metadata": {},
   "outputs": [
    {
     "name": "stdout",
     "output_type": "stream",
     "text": [
      "\n",
      "\n",
      "Bias:  1.0 \n",
      " [37.63759268889624, 38.320504226913734, 36.98292889637495, 37.44690694617251, 35.67909294797215, 36.246404486001616] [0.2555239736453694, 0.2511613758593155, 0.25174408096348694, 0.24588885030176924, 0.23314029750878662, 0.2487483465026793]\n",
      "\n",
      "\n",
      "Bias:  1.5 \n",
      " [24.36417456610702, 24.276044204058948, 22.843728802151887, 24.133837091388116, 23.753116633877294, 23.793360290491055] [0.16442824994385244, 0.15606078286048414, 0.1533695447851116, 0.15975970166420855, 0.1550998337516166, 0.15732410120635335]\n",
      "\n",
      "\n",
      "Bias:  2.0 \n",
      " [18.55239448485358, 17.496836493441414, 16.84370299474137, 16.759298691363888, 17.70858002323581, 17.710808682632013] [0.12936723917746792, 0.11534063087534994, 0.10993900113543817, 0.1109532926988609, 0.11801505838157665, 0.11862782576583489]\n"
     ]
    }
   ],
   "source": [
    "elongLatencyList = list()\n",
    "elongLatency_STDlist = list()\n",
    "bias = np.arange(1,10,0.5)\n",
    "\n",
    "for biasVal in bias:\n",
    "    elongLatency, elongLatency_STD = computeBiasedElongationLatency(biasVal)\n",
    "    elongLatencyList.append(elongLatency)\n",
    "    elongLatency_STDlist.append(elongLatency_STD)\n",
    "    print(\"\\n\\nBias: \", biasVal, \"\\n\", elongLatency, elongLatency_STD)"
   ]
  },
  {
   "cell_type": "code",
   "execution_count": null,
   "metadata": {},
   "outputs": [],
   "source": []
  },
  {
   "cell_type": "code",
   "execution_count": null,
   "metadata": {},
   "outputs": [],
   "source": []
  },
  {
   "cell_type": "code",
   "execution_count": null,
   "metadata": {},
   "outputs": [],
   "source": []
  }
 ],
 "metadata": {
  "kernelspec": {
   "display_name": "Python 3",
   "language": "python",
   "name": "python3"
  }
 },
 "nbformat": 4,
 "nbformat_minor": 2
}
