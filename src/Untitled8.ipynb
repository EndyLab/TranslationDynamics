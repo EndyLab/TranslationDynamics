{
 "cells": [
  {
   "cell_type": "code",
   "execution_count": null,
   "metadata": {},
   "outputs": [],
   "source": [
    "0.5e-4  210109_2134\n",
    "0.667e-4  210109_2301\n",
    "1e-4 191003_2210\n",
    "1.5e-4  210110_0007\n",
    "2e-4 210109_2335\n",
    "10e-4  210112_1307\n",
    "20e-4   210109_2219\n",
    "\n",
    "\n",
    "No crowders:\n",
    "ts_list = [0.125e-4, 0.25e-4, 0.5e-4, 1e-4, 2e-4, 4e-4, 10e-4]\n",
    "0.125e-4 \"210112_0205/\"\n",
    "0.25e-4 210111_1703\n",
    "0.5e-4 210111_1535\n",
    "1e-4 210112_0233\n",
    "2e-4 210111_1618\n",
    "4e-4 210112_0309\n",
    "10e-4 210112_1339\n"
   ]
  }
 ],
 "metadata": {
  "kernelspec": {
   "display_name": "Python 3",
   "language": "python",
   "name": "python3"
  },
  "language_info": {
   "codemirror_mode": {
    "name": "ipython",
    "version": 3
   },
   "file_extension": ".py",
   "mimetype": "text/x-python",
   "name": "python",
   "nbconvert_exporter": "python",
   "pygments_lexer": "ipython3",
   "version": "3.7.4"
  }
 },
 "nbformat": 4,
 "nbformat_minor": 2
}
