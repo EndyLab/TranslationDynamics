{
 "cells": [
  {
   "cell_type": "markdown",
   "metadata": {},
   "source": [
    "## Calculate the distribution of cognate ternary complexes per translation voxel, accounting for non-uniform tRNA and codons"
   ]
  },
  {
   "cell_type": "code",
   "execution_count": 1,
   "metadata": {},
   "outputs": [],
   "source": [
    "import pandas as pd\n",
    "import numpy as np\n",
    "WS = pd.read_excel('tRNAValues.xlsx',header=None)\n",
    "WS_np = np.array(WS)\n",
    "gr04=WS[0]\n",
    "gr07=WS[1]\n",
    "gr107=WS[2]\n",
    "gr16=WS[3]\n",
    "gr25=WS[4]\n",
    "\n",
    "COD = pd.read_excel('codonValues.xlsx',header=None)\n",
    "gr04_cod = COD[0]\n",
    "gr07_cod = COD[1]\n",
    "gr107_cod = COD[2]\n",
    "gr16_cod = COD[3]\n",
    "gr25_cod = COD[4]\n",
    "\n",
    "cod_labels = COD[5]"
   ]
  },
  {
   "cell_type": "code",
   "execution_count": 34,
   "metadata": {},
   "outputs": [
    {
     "name": "stdout",
     "output_type": "stream",
     "text": [
      "0.9668603937398607\n",
      "[2.36328242e-01 2.43344972e-01 2.00354537e-01 1.33335935e-01\n",
      " 9.14149349e-02 4.54839471e-02 1.65978259e-02 6.85096290e-03\n",
      " 2.08957998e-03 1.54977225e-03 2.41646276e-04 0.00000000e+00\n",
      " 0.00000000e+00 0.00000000e+00 0.00000000e+00 0.00000000e+00\n",
      " 0.00000000e+00 0.00000000e+00 0.00000000e+00 0.00000000e+00\n",
      " 0.00000000e+00 0.00000000e+00 0.00000000e+00 0.00000000e+00\n",
      " 0.00000000e+00 0.00000000e+00 0.00000000e+00 0.00000000e+00\n",
      " 0.00000000e+00 0.00000000e+00 0.00000000e+00 0.00000000e+00\n",
      " 0.00000000e+00 0.00000000e+00 0.00000000e+00 0.00000000e+00\n",
      " 0.00000000e+00 0.00000000e+00 0.00000000e+00 0.00000000e+00\n",
      " 0.00000000e+00 0.00000000e+00]\n",
      "1.8177660749355709\n"
     ]
    },
    {
     "data": {
      "text/plain": [
       "([<matplotlib.axis.XTick at 0x7f9508899650>,\n",
       "  <matplotlib.axis.XTick at 0x7f9508899890>,\n",
       "  <matplotlib.axis.XTick at 0x7f950889ce50>,\n",
       "  <matplotlib.axis.XTick at 0x7f9508889610>,\n",
       "  <matplotlib.axis.XTick at 0x7f9520e0f390>],\n",
       " <a list of 5 Text xticklabel objects>)"
      ]
     },
     "execution_count": 34,
     "metadata": {},
     "output_type": "execute_result"
    },
    {
     "data": {
      "image/png": "[encoded data removed]",
      "text/plain": [
       "<Figure size 432x432 with 1 Axes>"
      ]
     },
     "metadata": {
      "needs_background": "light"
     },
     "output_type": "display_data"
    }
   ],
   "source": [
    "from analysis_utils import *\n",
    "import matplotlib.pyplot as plt\n",
    "import matplotlib.patches as mpatches\n",
    "import matplotlib as mpl\n",
    "%matplotlib inline\n",
    "\n",
    "ptRNA = gr04\n",
    "pCodon = gr04_cod\n",
    "p_codon_count_hist_weighted_avg=cognateDistrib(ptRNA,pCodon)\n",
    "\n",
    "fig,ax=plt.subplots(1,1,figsize=(6,6))\n",
    "plt.bar(np.arange(0,42),p_codon_count_hist_weighted_avg,linewidth=4,color='darkblue',align='edge')\n",
    "#plt.xlabel('# of cognate tRNA per TU',fontsize=25)\n",
    "#plt.ylabel('Probability',fontsize=25)\n",
    "plt.ylim(0,0.3)\n",
    "plt.xlim(0,42)\n",
    "print(sum(p_codon_count_hist_weighted_avg[0:7]))\n",
    "print(p_codon_count_hist_weighted_avg)\n",
    "print(sum(np.multiply(p_codon_count_hist_weighted_avg,np.arange(0,42))))\n",
    "plt.gca().spines['left'].set_linewidth(4)\n",
    "plt.gca().spines['bottom'].set_linewidth(4)\n",
    "plt.gca().spines['top'].set_linewidth(4)\n",
    "plt.gca().spines['right'].set_linewidth(4)\n",
    "plt.gca().tick_params(axis='both', which='major', labelsize=25)\n",
    "plt.text(26,0.27,\"0.4 dbl/hr\",fontsize=25)\n",
    "plt.xticks(np.arange(0,43,10))\n"
   ]
  },
  {
   "cell_type": "code",
   "execution_count": 35,
   "metadata": {},
   "outputs": [
    {
     "name": "stdout",
     "output_type": "stream",
     "text": [
      "0.9649551033416415\n",
      "[0.22368907 0.25007413 0.20076381 0.14063909 0.08843125 0.04187089\n",
      " 0.01948685 0.0090468  0.00280114 0.00043302 0.00033777 0.\n",
      " 0.         0.         0.         0.         0.         0.\n",
      " 0.         0.         0.         0.         0.         0.\n",
      " 0.         0.         0.         0.         0.         0.\n",
      " 0.         0.         0.         0.         0.         0.\n",
      " 0.         0.         0.         0.         0.         0.        ]\n",
      "1.846531260775484\n"
     ]
    },
    {
     "data": {
      "text/plain": [
       "([<matplotlib.axis.XTick at 0x7f950211b210>,\n",
       "  <matplotlib.axis.XTick at 0x7f950211bc90>,\n",
       "  <matplotlib.axis.XTick at 0x7f950211bb10>,\n",
       "  <matplotlib.axis.XTick at 0x7f95020f4350>,\n",
       "  <matplotlib.axis.XTick at 0x7f95020f2cd0>],\n",
       " <a list of 5 Text xticklabel objects>)"
      ]
     },
     "execution_count": 35,
     "metadata": {},
     "output_type": "execute_result"
    },
    {
     "data": {
      "image/png": "[encoded data removed]",
      "text/plain": [
       "<Figure size 432x432 with 1 Axes>"
      ]
     },
     "metadata": {
      "needs_background": "light"
     },
     "output_type": "display_data"
    }
   ],
   "source": [
    "from analysis_utils import *\n",
    "import matplotlib.pyplot as plt\n",
    "import matplotlib.patches as mpatches\n",
    "import matplotlib as mpl\n",
    "%matplotlib inline\n",
    "\n",
    "ptRNA = gr07\n",
    "pCodon = gr07_cod\n",
    "p_codon_count_hist_weighted_avg=cognateDistrib(ptRNA,pCodon)\n",
    "\n",
    "fig,ax=plt.subplots(1,1,figsize=(6,6))\n",
    "plt.bar(np.arange(0,42),p_codon_count_hist_weighted_avg,linewidth=4,color='darkblue',align='edge')\n",
    "#plt.xlabel('# of cognate tRNA per TU',fontsize=25)\n",
    "#plt.ylabel('Probability',fontsize=25)\n",
    "plt.ylim(0,0.3)\n",
    "plt.xlim(0,42)\n",
    "print(sum(p_codon_count_hist_weighted_avg[0:7]))\n",
    "print(p_codon_count_hist_weighted_avg)\n",
    "print(sum(np.multiply(p_codon_count_hist_weighted_avg,np.arange(0,42))))\n",
    "plt.gca().spines['left'].set_linewidth(4)\n",
    "plt.gca().spines['bottom'].set_linewidth(4)\n",
    "plt.gca().spines['top'].set_linewidth(4)\n",
    "plt.gca().spines['right'].set_linewidth(4)\n",
    "plt.gca().tick_params(axis='both', which='major', labelsize=25)\n",
    "plt.text(26,0.27,\"0.7 dbl/hr\",fontsize=25)\n",
    "plt.xticks(np.arange(0,43,10))\n"
   ]
  },
  {
   "cell_type": "code",
   "execution_count": 40,
   "metadata": {},
   "outputs": [
    {
     "name": "stdout",
     "output_type": "stream",
     "text": [
      "0.965353407339863\n",
      "[0.22815133 0.25086827 0.19541447 0.13162397 0.08881807 0.04720877\n",
      " 0.02326851 0.00713218 0.00364999 0.00049142 0.00049142 0.00049142\n",
      " 0.         0.         0.         0.         0.         0.\n",
      " 0.         0.         0.         0.         0.         0.\n",
      " 0.         0.         0.         0.         0.         0.\n",
      " 0.         0.         0.         0.         0.         0.\n",
      " 0.         0.         0.         0.         0.         0.        ]\n",
      "1.8613642029361304\n"
     ]
    },
    {
     "data": {
      "text/plain": [
       "([<matplotlib.axis.XTick at 0x7f9510f8a150>,\n",
       "  <matplotlib.axis.XTick at 0x7f9510f8a8d0>,\n",
       "  <matplotlib.axis.XTick at 0x7f9510f8aad0>,\n",
       "  <matplotlib.axis.XTick at 0x7f9510f5ee90>,\n",
       "  <matplotlib.axis.XTick at 0x7f9510f5e950>],\n",
       " <a list of 5 Text xticklabel objects>)"
      ]
     },
     "execution_count": 40,
     "metadata": {},
     "output_type": "execute_result"
    },
    {
     "data": {
      "image/png": "[encoded data removed]",
      "text/plain": [
       "<Figure size 432x432 with 1 Axes>"
      ]
     },
     "metadata": {
      "needs_background": "light"
     },
     "output_type": "display_data"
    }
   ],
   "source": [
    "from analysis_utils import *\n",
    "import matplotlib.pyplot as plt\n",
    "import matplotlib.patches as mpatches\n",
    "import matplotlib as mpl\n",
    "%matplotlib inline\n",
    "\n",
    "ptRNA = gr107\n",
    "pCodon = gr107_cod\n",
    "p_codon_count_hist_weighted_avg=cognateDistrib(ptRNA,pCodon)\n",
    "\n",
    "fig,ax=plt.subplots(1,1,figsize=(6,6))\n",
    "plt.bar(np.arange(0,42),p_codon_count_hist_weighted_avg,linewidth=4,color='darkblue',align='edge')\n",
    "#plt.xlabel('# of cognate tRNA per TU',fontsize=25)\n",
    "#plt.ylabel('Probability',fontsize=25)\n",
    "plt.ylim(0,0.3)\n",
    "plt.xlim(0,42)\n",
    "print(sum(p_codon_count_hist_weighted_avg[0:7]))\n",
    "print(p_codon_count_hist_weighted_avg)\n",
    "print(sum(np.multiply(p_codon_count_hist_weighted_avg,np.arange(0,42))))\n",
    "plt.gca().spines['left'].set_linewidth(4)\n",
    "plt.gca().spines['bottom'].set_linewidth(4)\n",
    "plt.gca().spines['top'].set_linewidth(4)\n",
    "plt.gca().spines['right'].set_linewidth(4)\n",
    "plt.gca().tick_params(axis='both', which='major', labelsize=25)\n",
    "plt.text(24,0.27,\"1.07 dbl/hr\",fontsize=25)\n",
    "plt.xticks(np.arange(0,43,10))\n"
   ]
  },
  {
   "cell_type": "code",
   "execution_count": 37,
   "metadata": {},
   "outputs": [
    {
     "name": "stdout",
     "output_type": "stream",
     "text": [
      "0.9644220181962262\n",
      "[0.21853341 0.23896846 0.19191613 0.14595971 0.09418176 0.05493697\n",
      " 0.01992557 0.00753653 0.00252905 0.00271934 0.00039158 0.\n",
      " 0.         0.         0.         0.         0.         0.\n",
      " 0.         0.         0.         0.         0.         0.\n",
      " 0.         0.         0.         0.         0.         0.\n",
      " 0.         0.         0.         0.         0.         0.\n",
      " 0.         0.         0.         0.         0.         0.        ]\n",
      "1.9330231918030412\n"
     ]
    },
    {
     "data": {
      "text/plain": [
       "([<matplotlib.axis.XTick at 0x7f9510e11a90>,\n",
       "  <matplotlib.axis.XTick at 0x7f9510e16450>,\n",
       "  <matplotlib.axis.XTick at 0x7f9510e16550>,\n",
       "  <matplotlib.axis.XTick at 0x7f950216bad0>,\n",
       "  <matplotlib.axis.XTick at 0x7f950216bbd0>],\n",
       " <a list of 5 Text xticklabel objects>)"
      ]
     },
     "execution_count": 37,
     "metadata": {},
     "output_type": "execute_result"
    },
    {
     "data": {
      "image/png": "[encoded data removed]",
      "text/plain": [
       "<Figure size 432x432 with 1 Axes>"
      ]
     },
     "metadata": {
      "needs_background": "light"
     },
     "output_type": "display_data"
    }
   ],
   "source": [
    "from analysis_utils import *\n",
    "import matplotlib.pyplot as plt\n",
    "import matplotlib.patches as mpatches\n",
    "import matplotlib as mpl\n",
    "%matplotlib inline\n",
    "\n",
    "ptRNA = gr16\n",
    "pCodon = gr16_cod\n",
    "p_codon_count_hist_weighted_avg=cognateDistrib(ptRNA,pCodon)\n",
    "\n",
    "fig,ax=plt.subplots(1,1,figsize=(6,6))\n",
    "plt.bar(np.arange(0,42),p_codon_count_hist_weighted_avg,linewidth=4,color='darkblue',align='edge')\n",
    "#plt.xlabel('# of cognate tRNA per TU',fontsize=25)\n",
    "#plt.ylabel('Probability',fontsize=25)\n",
    "plt.ylim(0,0.3)\n",
    "plt.xlim(0,42)\n",
    "print(sum(p_codon_count_hist_weighted_avg[0:7]))\n",
    "print(p_codon_count_hist_weighted_avg)\n",
    "print(sum(np.multiply(p_codon_count_hist_weighted_avg,np.arange(0,42))))\n",
    "plt.gca().spines['left'].set_linewidth(4)\n",
    "plt.gca().spines['bottom'].set_linewidth(4)\n",
    "plt.gca().spines['top'].set_linewidth(4)\n",
    "plt.gca().spines['right'].set_linewidth(4)\n",
    "plt.gca().tick_params(axis='both', which='major', labelsize=20)\n",
    "plt.text(26,0.27,\"1.6 dbl/hr\",fontsize=25)\n",
    "plt.xticks(np.arange(0,43,10))\n"
   ]
  },
  {
   "cell_type": "code",
   "execution_count": 38,
   "metadata": {
    "scrolled": false
   },
   "outputs": [
    {
     "name": "stdout",
     "output_type": "stream",
     "text": [
      "0.9639695236712299\n",
      "[2.18130993e-01 2.28170364e-01 1.81786508e-01 1.50858183e-01\n",
      " 9.80432493e-02 5.89362585e-02 2.80439682e-02 9.93000461e-03\n",
      " 4.06983158e-03 1.00749698e-04 9.37441206e-05 9.37441206e-05\n",
      " 0.00000000e+00 0.00000000e+00 0.00000000e+00 0.00000000e+00\n",
      " 0.00000000e+00 0.00000000e+00 0.00000000e+00 0.00000000e+00\n",
      " 0.00000000e+00 0.00000000e+00 0.00000000e+00 0.00000000e+00\n",
      " 0.00000000e+00 0.00000000e+00 0.00000000e+00 0.00000000e+00\n",
      " 0.00000000e+00 0.00000000e+00 0.00000000e+00 0.00000000e+00\n",
      " 0.00000000e+00 0.00000000e+00 0.00000000e+00 0.00000000e+00\n",
      " 0.00000000e+00 0.00000000e+00 0.00000000e+00 0.00000000e+00\n",
      " 0.00000000e+00 0.00000000e+00]\n",
      "2.00438008650359\n"
     ]
    },
    {
     "data": {
      "text/plain": [
       "([<matplotlib.axis.XTick at 0x7f952102a450>,\n",
       "  <matplotlib.axis.XTick at 0x7f952102aad0>,\n",
       "  <matplotlib.axis.XTick at 0x7f9510dee890>,\n",
       "  <matplotlib.axis.XTick at 0x7f95089bc850>,\n",
       "  <matplotlib.axis.XTick at 0x7f95089bc9d0>],\n",
       " <a list of 5 Text xticklabel objects>)"
      ]
     },
     "execution_count": 38,
     "metadata": {},
     "output_type": "execute_result"
    },
    {
     "data": {
      "image/png": "[encoded data removed]",
      "text/plain": [
       "<Figure size 432x432 with 1 Axes>"
      ]
     },
     "metadata": {
      "needs_background": "light"
     },
     "output_type": "display_data"
    }
   ],
   "source": [
    "from analysis_utils import *\n",
    "import matplotlib.pyplot as plt\n",
    "import matplotlib.patches as mpatches\n",
    "import matplotlib as mpl\n",
    "%matplotlib inline\n",
    "\n",
    "ptRNA = gr25\n",
    "pCodon = gr25_cod\n",
    "p_codon_count_hist_weighted_avg=cognateDistrib(ptRNA,pCodon)\n",
    "\n",
    "fig,ax=plt.subplots(1,1,figsize=(6,6))\n",
    "plt.bar(np.arange(0,42),p_codon_count_hist_weighted_avg,linewidth=4,color='darkblue',align='edge')\n",
    "#plt.xlabel('# of cognate tRNA per TU',fontsize=25)\n",
    "#plt.ylabel('Probability',fontsize=25)\n",
    "plt.ylim(0,0.3)\n",
    "plt.xlim(0,42)\n",
    "print(sum(p_codon_count_hist_weighted_avg[0:7]))\n",
    "print(p_codon_count_hist_weighted_avg)\n",
    "print(sum(np.multiply(p_codon_count_hist_weighted_avg,np.arange(0,42))))\n",
    "plt.gca().spines['left'].set_linewidth(4)\n",
    "plt.gca().spines['bottom'].set_linewidth(4)\n",
    "plt.gca().spines['top'].set_linewidth(4)\n",
    "plt.gca().spines['right'].set_linewidth(4)\n",
    "plt.gca().tick_params(axis='both', which='major', labelsize=25)\n",
    "plt.text(26,0.27,\"2.5 dbl/hr\",fontsize=25)\n",
    "plt.xticks(np.arange(0,43,10))\n"
   ]
  },
  {
   "cell_type": "code",
   "execution_count": 41,
   "metadata": {},
   "outputs": [
    {
     "data": {
      "text/plain": [
       "'/Users/akshay/opt/anaconda3/lib/python3.7/site-packages/matplotlib/mpl-data/fonts/ttf/DejaVuSans.ttf'"
      ]
     },
     "execution_count": 41,
     "metadata": {},
     "output_type": "execute_result"
    }
   ],
   "source": [
    "from matplotlib.font_manager import findfont, FontProperties\n",
    "font = findfont(FontProperties(family=['sans-serif']))\n",
    "font"
   ]
  },
  {
   "cell_type": "code",
   "execution_count": null,
   "metadata": {},
   "outputs": [],
   "source": []
  },
  {
   "cell_type": "code",
   "execution_count": null,
   "metadata": {},
   "outputs": [],
   "source": []
  }
 ],
 "metadata": {
  "kernelspec": {
   "display_name": "Python 3",
   "language": "python",
   "name": "python3"
  },
  "language_info": {
   "codemirror_mode": {
    "name": "ipython",
    "version": 3
   },
   "file_extension": ".py",
   "mimetype": "text/x-python",
   "name": "python",
   "nbconvert_exporter": "python",
   "pygments_lexer": "ipython3",
   "version": "3.7.4"
  }
 },
 "nbformat": 4,
 "nbformat_minor": 2
}
