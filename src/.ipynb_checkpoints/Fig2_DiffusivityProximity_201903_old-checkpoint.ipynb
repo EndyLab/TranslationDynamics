{
 "cells": [
  {
   "cell_type": "code",
   "execution_count": 3,
   "metadata": {
    "collapsed": false
   },
   "outputs": [
    {
     "ename": "ModuleNotFoundError",
     "evalue": "No module named 'analysis_parameters'",
     "output_type": "error",
     "traceback": [
      "\u001b[0;31m---------------------------------------------------------------------------\u001b[0m",
      "\u001b[0;31mModuleNotFoundError\u001b[0m                       Traceback (most recent call last)",
      "\u001b[0;32m<ipython-input-3-0a60a776e924>\u001b[0m in \u001b[0;36m<module>\u001b[0;34m\u001b[0m\n\u001b[1;32m     26\u001b[0m     \u001b[0;32mreturn\u001b[0m \u001b[0mr2_lists\u001b[0m\u001b[0;34m,\u001b[0m\u001b[0mnp\u001b[0m\u001b[0;34m.\u001b[0m\u001b[0madd\u001b[0m\u001b[0;34m.\u001b[0m\u001b[0mreduce\u001b[0m\u001b[0;34m(\u001b[0m\u001b[0mr2_lists\u001b[0m\u001b[0;34m)\u001b[0m\u001b[0;34m/\u001b[0m\u001b[0;34m(\u001b[0m\u001b[0mlen\u001b[0m\u001b[0;34m(\u001b[0m\u001b[0mr2_lists\u001b[0m\u001b[0;34m)\u001b[0m\u001b[0;34m)\u001b[0m\u001b[0;34m,\u001b[0m\u001b[0mnp\u001b[0m\u001b[0;34m.\u001b[0m\u001b[0marange\u001b[0m\u001b[0;34m(\u001b[0m\u001b[0;36m0\u001b[0m\u001b[0;34m,\u001b[0m\u001b[0mlen\u001b[0m\u001b[0;34m(\u001b[0m\u001b[0mnp\u001b[0m\u001b[0;34m.\u001b[0m\u001b[0madd\u001b[0m\u001b[0;34m.\u001b[0m\u001b[0mreduce\u001b[0m\u001b[0;34m(\u001b[0m\u001b[0mr2_lists\u001b[0m\u001b[0;34m)\u001b[0m\u001b[0;34m/\u001b[0m\u001b[0;34m(\u001b[0m\u001b[0mlen\u001b[0m\u001b[0;34m(\u001b[0m\u001b[0mr2_lists\u001b[0m\u001b[0;34m)\u001b[0m\u001b[0;34m)\u001b[0m\u001b[0;34m)\u001b[0m\u001b[0;34m)\u001b[0m\u001b[0;34m*\u001b[0m\u001b[0mmolposTS\u001b[0m\u001b[0;34m\u001b[0m\u001b[0;34m\u001b[0m\u001b[0m\n\u001b[1;32m     27\u001b[0m \u001b[0;34m\u001b[0m\u001b[0m\n\u001b[0;32m---> 28\u001b[0;31m \u001b[0;32mfrom\u001b[0m \u001b[0manalysis_parameters\u001b[0m \u001b[0;32mimport\u001b[0m \u001b[0;34m*\u001b[0m\u001b[0;34m\u001b[0m\u001b[0;34m\u001b[0m\u001b[0m\n\u001b[0m\u001b[1;32m     29\u001b[0m \u001b[0mget_ipython\u001b[0m\u001b[0;34m(\u001b[0m\u001b[0;34m)\u001b[0m\u001b[0;34m.\u001b[0m\u001b[0mrun_line_magic\u001b[0m\u001b[0;34m(\u001b[0m\u001b[0;34m'load_ext'\u001b[0m\u001b[0;34m,\u001b[0m \u001b[0;34m'autoreload'\u001b[0m\u001b[0;34m)\u001b[0m\u001b[0;34m\u001b[0m\u001b[0;34m\u001b[0m\u001b[0m\n\u001b[1;32m     30\u001b[0m \u001b[0mget_ipython\u001b[0m\u001b[0;34m(\u001b[0m\u001b[0;34m)\u001b[0m\u001b[0;34m.\u001b[0m\u001b[0mrun_line_magic\u001b[0m\u001b[0;34m(\u001b[0m\u001b[0;34m'autoreload'\u001b[0m\u001b[0;34m,\u001b[0m \u001b[0;34m''\u001b[0m\u001b[0;34m)\u001b[0m\u001b[0;34m\u001b[0m\u001b[0;34m\u001b[0m\u001b[0m\n",
      "\u001b[0;31mModuleNotFoundError\u001b[0m: No module named 'analysis_parameters'"
     ]
    }
   ],
   "source": [
    "import numpy as np\n",
    "import pandas as pd\n",
    "import matplotlib.pyplot as plt\n",
    "import re\n",
    "%matplotlib inline\n",
    "def MSD(path,expt_start,expt_end,moltype=''):\n",
    "    df_outputs = pd.read_csv(path+\"outputMolPosList.txt\",sep=\" \",header=None) #Add batch processing here potentially\n",
    "    if moltype==\"ribosome\":\n",
    "         df_outputs = df_outputs.iloc[:,0].str.replace('Molpos-tRNA' , 'Molpos-ribosome')\n",
    "    if moltype==\"tRNA\":\n",
    "        df_outputs = df_outputs.iloc[:,0].str.replace('Molpos-tRNA' , 'Molpos-tRNA')\n",
    "    if moltype==\"crowder\":\n",
    "        df_outputs = df_outputs.iloc[:,0].str.replace('Molpos-tRNA' , 'Molpos-crowder')\n",
    "    r2_lists=list()\n",
    "    for expt_num, row in enumerate(df_outputs):\n",
    "        if(expt_num>=expt_start and expt_num<expt_end):\n",
    "            try:\n",
    "                df = pd.read_csv(path+row,delimiter=\" \",header=None)\n",
    "                params = pd.read_csv(path+\"expt_\"+str(expt_num)+'.txt',delim_whitespace=True,names=['var','param','val'])\n",
    "                molposTS = float(params.loc[params['param']=='_molPosTS_']['val'].values[0])\n",
    "                df.columns=[\"time\",\"r2\",\"r4\"]\n",
    "                r2_lists.append(np.array(df['r2'].tolist()))\n",
    "            except:\n",
    "                print(\"Error (e.g., Missing expt or incorrect input)\")\n",
    "    print(len(r2_lists[0]))\n",
    "    return r2_lists,np.add.reduce(r2_lists)/(len(r2_lists)),np.arange(0,len(np.add.reduce(r2_lists)/(len(r2_lists))))*molposTS\n",
    "\n",
    "from analysis_parameters import *\n",
    "%load_ext autoreload\n",
    "%autoreload\n",
    "\n",
    "#First calculate how, on average, volume fraction of ribosomes, crowders, ternary complexes changes w/ growth rate\n",
    "dbl_rate=np.arange(0,5,0.1)\n",
    "vox_len = list()\n",
    "rib_volfrac=list()\n",
    "tern_volfrac = list()\n",
    "crowder_volfrac = list()\n",
    "total_volfrac =list()\n",
    "rib_num=list()\n",
    "tern_num=list()\n",
    "crowder_num=list()\n",
    "#print(f_vol(dbl_rate[-1]))\n",
    "#print(f_tern(dbl_rate[99]))\n",
    "\n",
    "for i in range(len(dbl_rate)):\n",
    "    cell_volfrac_tot = list()\n",
    "    cellParams, voxelParams = calcParams(f_rib(dbl_rate[i]),\n",
    "                                               f_tern(dbl_rate[i]),\n",
    "                                               f_mass(dbl_rate[i]),\n",
    "                                               f_vol(dbl_rate[i]),\n",
    "                                               f_nuc(dbl_rate[i]))\n",
    "    #print(rib_volfrac)\n",
    "\n",
    "    if(voxelParams[1][3]<0.8): ###A hard cap on max total volume fraction; set because Qi & Tanner 2011 show that ~0.8 is max for bidisperse system with lambda~5. Thus other parameter combinations must be invalid\n",
    "        vox_len.append(voxelParams[0])\n",
    "        rib_volfrac.append(voxelParams[1][0])\n",
    "        tern_volfrac.append(voxelParams[1][1])\n",
    "        crowder_volfrac.append(voxelParams[1][2])\n",
    "        total_volfrac.append(voxelParams[1][3])\n",
    "        rib_num.append(voxelParams[2][0])\n",
    "        tern_num.append(voxelParams[2][1])\n",
    "        crowder_num.append(voxelParams[2][2])\n",
    "        cell_volfrac_tot.append(cellParams[1][3])\n",
    "    print(voxelParams[2][0])\n",
    "\n",
    "#print(np.average(total_volfrac),np.std(total_volfrac), \"   \", np.average(cell_volfrac_tot),np.std(cell_volfrac_tot))\n",
    "print(cellParams)\n"
   ]
  },
  {
   "cell_type": "code",
   "execution_count": null,
   "metadata": {
    "collapsed": false
   },
   "outputs": [],
   "source": [
    "#crowder,ribosome,tRNA\n",
    "path='/Users/Akshay/Dropbox/Life/EndyLab/Research/TranslationDynamics/data/'\n",
    "data = \"190319_1948/\"\n",
    "fig,ax = plt.subplots(figsize=(10,5))\n",
    "labels = ['dilute','0.6 dbl/hr','1.0 dbl/hr','1.5 dbl/hr','2.0 dbl/hr','2.5 dbl/hr','3.0 dbl/hr']\n",
    "for i in range(0,6):\n",
    "    MSD_data = MSD(path+data,i*50,i*50+50,'tRNA')\n",
    "    ax.plot(MSD_data[2],MSD_data[1],color='blue',label=labels[i-1],alpha=0.15*i)\n",
    "    print((MSD_data[1][-1]-MSD_data[1][0])/(6*(MSD_data[2][-1]-MSD_data[2][0])))\n",
    "ax.legend()\n",
    "ax.set_title('MSD of tRNA at different growth rates')\n",
    "\n",
    "ax.set_xlabel(\"time (s)\")\n",
    "ax.set_ylabel(\"MSD\")"
   ]
  },
  {
   "cell_type": "code",
   "execution_count": 2,
   "metadata": {
    "collapsed": false
   },
   "outputs": [
    {
     "ename": "NameError",
     "evalue": "name 'dbl_rate' is not defined",
     "output_type": "error",
     "traceback": [
      "\u001b[0;31m---------------------------------------------------------------------------\u001b[0m",
      "\u001b[0;31mNameError\u001b[0m                                 Traceback (most recent call last)",
      "\u001b[0;32m<ipython-input-2-96630b744854>\u001b[0m in \u001b[0;36m<module>\u001b[0;34m\u001b[0m\n\u001b[1;32m      4\u001b[0m \u001b[0mfig\u001b[0m\u001b[0;34m,\u001b[0m\u001b[0max1\u001b[0m \u001b[0;34m=\u001b[0m \u001b[0mplt\u001b[0m\u001b[0;34m.\u001b[0m\u001b[0msubplots\u001b[0m\u001b[0;34m(\u001b[0m\u001b[0;36m1\u001b[0m\u001b[0;34m,\u001b[0m\u001b[0;36m1\u001b[0m\u001b[0;34m,\u001b[0m\u001b[0mfigsize\u001b[0m\u001b[0;34m=\u001b[0m\u001b[0;34m(\u001b[0m\u001b[0;36m19\u001b[0m\u001b[0;34m,\u001b[0m\u001b[0;36m8\u001b[0m\u001b[0;34m)\u001b[0m\u001b[0;34m)\u001b[0m\u001b[0;34m\u001b[0m\u001b[0;34m\u001b[0m\u001b[0m\n\u001b[1;32m      5\u001b[0m \u001b[0;34m\u001b[0m\u001b[0m\n\u001b[0;32m----> 6\u001b[0;31m \u001b[0max1\u001b[0m\u001b[0;34m.\u001b[0m\u001b[0mplot\u001b[0m\u001b[0;34m(\u001b[0m\u001b[0mdbl_rate\u001b[0m\u001b[0;34m[\u001b[0m\u001b[0;36m6\u001b[0m\u001b[0;34m:\u001b[0m\u001b[0;36m31\u001b[0m\u001b[0;34m]\u001b[0m\u001b[0;34m,\u001b[0m\u001b[0mtotal_volfrac\u001b[0m\u001b[0;34m[\u001b[0m\u001b[0;36m6\u001b[0m\u001b[0;34m:\u001b[0m\u001b[0;36m31\u001b[0m\u001b[0;34m]\u001b[0m\u001b[0;34m,\u001b[0m\u001b[0mlabel\u001b[0m\u001b[0;34m=\u001b[0m\u001b[0;34mr'$\\mathregular{\\phi_{ voxel}}$'\u001b[0m\u001b[0;34m,\u001b[0m\u001b[0mcolor\u001b[0m\u001b[0;34m=\u001b[0m\u001b[0;34m'saddlebrown'\u001b[0m\u001b[0;34m,\u001b[0m\u001b[0mlinewidth\u001b[0m\u001b[0;34m=\u001b[0m\u001b[0;36m4\u001b[0m\u001b[0;34m)\u001b[0m\u001b[0;34m\u001b[0m\u001b[0;34m\u001b[0m\u001b[0m\n\u001b[0m\u001b[1;32m      7\u001b[0m \u001b[0;34m\u001b[0m\u001b[0m\n\u001b[1;32m      8\u001b[0m \u001b[0max1\u001b[0m\u001b[0;34m.\u001b[0m\u001b[0mset_ylabel\u001b[0m\u001b[0;34m(\u001b[0m\u001b[0;34m\"Translation Unit\\n volume fraction ($\\mathregular{\\phi}$)\"\u001b[0m\u001b[0;34m,\u001b[0m\u001b[0mfontsize\u001b[0m\u001b[0;34m=\u001b[0m\u001b[0;36m36\u001b[0m\u001b[0;34m,\u001b[0m\u001b[0mcolor\u001b[0m\u001b[0;34m=\u001b[0m\u001b[0;34m'saddlebrown'\u001b[0m\u001b[0;34m)\u001b[0m\u001b[0;34m\u001b[0m\u001b[0;34m\u001b[0m\u001b[0m\n",
      "\u001b[0;31mNameError\u001b[0m: name 'dbl_rate' is not defined"
     ]
    },
    {
     "data": {
      "image/png": "[encoded data removed]",
      "text/plain": [
       "<Figure size 1368x576 with 1 Axes>"
      ]
     },
     "metadata": {
      "needs_background": "light"
     },
     "output_type": "display_data"
    }
   ],
   "source": [
    "prop_cycle = plt.rcParams['axes.prop_cycle']\n",
    "colors = prop_cycle.by_key()['color']\n",
    "\n",
    "fig,ax1 = plt.subplots(1,1,figsize=(19,8))\n",
    "\n",
    "ax1.plot(dbl_rate[6:31],total_volfrac[6:31],label=r'$\\mathregular{\\phi_{ voxel}}$',color='saddlebrown',linewidth=4)\n",
    "\n",
    "ax1.set_ylabel(\"Translation Unit\\n volume fraction ($\\mathregular{\\phi}$)\",fontsize=36,color='saddlebrown')\n",
    "ax1.tick_params(axis='both', which='major', width=4,labelsize=30)\n",
    "\n",
    "ax1.set_ylim(0,0.6)\n",
    "\n",
    "\n",
    "ax2 = ax1.twinx()\n",
    "ax2.set_ylabel(\"Translation Units per cell\",fontsize=36,rotation=270,color='C0')\n",
    "ax2.tick_params(axis='both', which='major',width=4, labelsize=30)\n",
    "ax2.yaxis.set_label_coords(1.15, 0.5) \n",
    "#ax1.yaxis.set_label_coords(-0.05, 0.5) \n",
    "\n",
    "ax1.spines['bottom'].set_visible(False)\n",
    "ax1.spines['top'].set_visible(False)\n",
    "ax2.spines['bottom'].set_visible(False)\n",
    "ax2.spines['top'].set_visible(False)\n",
    "ax2.spines['right'].set_linewidth(4)\n",
    "ax2.spines['left'].set_linewidth(4)\n",
    "ax1.get_xaxis().set_visible(False)\n",
    "ax2.set_ylim(0,10000)\n",
    "\n",
    "\n",
    "ax2.plot([0.6,1.0,1.5,2,2.5,3.0],[1250,2000,3300,5000,7000,9500], color='C0',linewidth=4)"
   ]
  },
  {
   "cell_type": "code",
   "execution_count": null,
   "metadata": {
    "collapsed": true
   },
   "outputs": [],
   "source": []
  }
 ],
 "metadata": {
  "kernelspec": {
   "display_name": "Python 3",
   "language": "python",
   "name": "python3"
  },
  "language_info": {
   "codemirror_mode": {
    "name": "ipython",
    "version": 3
   },
   "file_extension": ".py",
   "mimetype": "text/x-python",
   "name": "python",
   "nbconvert_exporter": "python",
   "pygments_lexer": "ipython3",
   "version": "3.6.7"
  }
 },
 "nbformat": 4,
 "nbformat_minor": 2
}
