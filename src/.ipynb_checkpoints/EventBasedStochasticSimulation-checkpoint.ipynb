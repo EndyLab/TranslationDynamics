{
 "cells": [
  {
   "cell_type": "code",
   "execution_count": 14,
   "metadata": {},
   "outputs": [
    {
     "name": "stdout",
     "output_type": "stream",
     "text": [
      "The autoreload extension is already loaded. To reload it, use:\n",
      "  %reload_ext autoreload\n"
     ]
    }
   ],
   "source": [
    "from analysis_utils import *\n",
    "%load_ext autoreload\n",
    "%reload_ext autoreload\n",
    "\n",
    "import numpy as np\n",
    "import pandas as pd\n",
    "\n",
    "ptRNA = pd.read_excel('tRNAValues.xlsx',header=None)\n",
    "gr04_ptRNA=ptRNA[0]\n",
    "gr07_ptRNA=ptRNA[1]\n",
    "gr107_ptRNA=ptRNA[2]\n",
    "gr16_ptRNA=ptRNA[3]\n",
    "gr25_ptRNA=ptRNA[4]\n",
    "\n",
    "pCodon = pd.read_excel('codonValues.xlsx',header=None)\n",
    "gr04_pCodon = pCodon[0]\n",
    "gr07_pCodon = pCodon[1]\n",
    "gr107_pCodon = pCodon[2]\n",
    "gr16_pCodon = pCodon[3]\n",
    "gr25_pCodon = pCodon[4]\n",
    "\n",
    "rxndiff=dict()"
   ]
  },
  {
   "cell_type": "code",
   "execution_count": 19,
   "metadata": {},
   "outputs": [],
   "source": [
    "def computeBiasedElongationLatency(biasVal=1):\n",
    "    sim_time_all = list()\n",
    "    sim_time_std_all = list()\n",
    "    transp_time_all = list()\n",
    "    rxn_time_all = list()\n",
    "    pcogrib_all = list()\n",
    "    \n",
    "    rib_gr = [4,8,9,9,8,7]\n",
    "    ptRNA = [gr07_ptRNA,gr107_ptRNA,gr16_ptRNA,gr16_ptRNA,gr25_ptRNA,gr25_ptRNA]\n",
    "    pCodon =  [gr07_pCodon,gr107_pCodon,gr16_pCodon,gr16_pCodon,gr25_pCodon,gr25_pCodon]\n",
    "\n",
    "    for i,num_rib in enumerate(rib_gr):\n",
    "        weight = cognateDistrib(ptRNA[i],pCodon[i])\n",
    "        sim_time_gr = list()\n",
    "        sim_time_gr_var=list()\n",
    "        rxn_count_gr = list()\n",
    "        transp_latency_gr = list()\n",
    "        rxn_latency_gr = list()\n",
    "        pcogrib_gr = list()\n",
    "\n",
    "        num_tRNA=42\n",
    "        for num_tRNA in np.arange(1,42):\n",
    "            sim_times=list()\n",
    "            rxn_count = list()\n",
    "            transp_latency = list()\n",
    "            rxn_latency = list()\n",
    "            N=4\n",
    "            for i in range(N):\n",
    "                rxn = eventbased_sim(rib_num=num_rib,tRNA_cog=num_tRNA,repeatAllowed=True,bias=biasVal)\n",
    "                sim_times.append(rxn[0])\n",
    "                rxn_count.append(rxn[1])\n",
    "                rxn_latency.append(rxn[2])\n",
    "                transp_latency.append(rxn[0]-rxn[2])\n",
    "                print(rxn[3])\n",
    "\n",
    "            sim_time_gr.append(np.average(sim_times))\n",
    "            rxn_count_gr.append(np.average(rxn_count))\n",
    "            sim_time_gr_var.append(np.std(sim_times)**2)\n",
    "            pcogrib_gr.append(rxn[3])\n",
    "            \n",
    "            transp_latency_gr.append(np.average(transp_latency))\n",
    "            rxn_latency_gr.append(np.average(rxn_latency))\n",
    "\n",
    "        #print(np.sum(sim_time_gr*weight[1:len(sim_time_gr)+1]))\n",
    "        sim_time_all.append(np.sum(sim_time_gr*weight[1:len(sim_time_gr)+1]))\n",
    "        sim_time_std_all.append(np.sqrt(np.sum((sim_time_gr_var)*weight[1:len(sim_time_gr)+1]))/np.sqrt(num_tRNA*N))\n",
    "        transp_time_all.append(np.sum(transp_latency_gr*weight[1:len(transp_latency_gr)+1]))\n",
    "        rxn_time_all.append(np.sum(rxn_latency_gr*weight[1:len(rxn_latency_gr)+1]))\n",
    "        pcogrib_all.append(np.sum(pcogrib_gr*weight[1:len(rxn_latency_gr)+1]))\n",
    "        \n",
    "    return sim_time_all, sim_time_std_all, transp_time_all, rxn_time_all,pcogrib_all"
   ]
  },
  {
   "cell_type": "code",
   "execution_count": null,
   "metadata": {},
   "outputs": [],
   "source": []
  },
  {
   "cell_type": "code",
   "execution_count": null,
   "metadata": {},
   "outputs": [
    {
     "data": {
      "text/plain": [
       "[1, 2, 3, 3.5, 4.5, 7]"
      ]
     },
     "execution_count": 8,
     "metadata": {},
     "output_type": "execute_result"
    }
   ],
   "source": [
    "[36.21142494192998,  17.357535886747577, 11.730928900813964, 10.107698330956518,  7.799635735314417,  5.761090774097384]\n",
    "[0.495518389669115,0.3065313307595597,0.16363724964738255,0.1467234788512787,0.11842922758156244,0.09412528299436541]\n",
    "[32.859535130295335,14.997047110896354,10.152033718185963,8.634526845284789,6.581741747056677,4.6762812782310945]\n",
    "[3.3518898116346367,2.3604887758512163,1.5788951826279987,1.4390199270843849,1.2178939882577413,1.0848094958662904]\n",
    "[1,2,3,3.5,4.5,7]"
   ]
  },
  {
   "cell_type": "code",
   "execution_count": null,
   "metadata": {},
   "outputs": [],
   "source": []
  },
  {
   "cell_type": "code",
   "execution_count": 7,
   "metadata": {},
   "outputs": [
    {
     "name": "stdout",
     "output_type": "stream",
     "text": [
      "\n",
      "\n",
      "Bias:  1.0 \n",
      " [35.930587390775145, 37.55699003318843, 35.97726789020362, 36.121566846595044, 37.611632485851565, 35.838066896273375] [0.23509077560780514, 0.24750870161194657, 0.24841399556582114, 0.23757320231170767, 0.24620696350238142, 0.23074272020614625] \n",
      " [32.5247109147635, 30.3519121077561, 28.26084113906479, 28.47079491006946, 30.469048541032894, 29.833700067207644] \n",
      " [3.405876476011637, 7.205077925432331, 7.716426751138842, 7.650771936525576, 7.142583944818675, 6.004366829065734]\n",
      "\n",
      "\n",
      "Bias:  1.5 \n",
      " [24.27026298946842, 23.600863905358256, 23.400547745780553, 23.388882616724167, 23.165692261712493, 23.964044804739334] [0.15947293569679902, 0.1522183778350832, 0.1495562684830542, 0.15633616824777175, 0.15303154667728727, 0.16389127862713382] \n",
      " [22.256284398663013, 20.024953872542063, 19.33972406861411, 19.373208996193256, 19.606588033879003, 20.683855656876492] \n",
      " [2.0139785908054106, 3.5759100328161937, 4.060823677166432, 4.015673620530911, 3.55910422783349, 3.2801891478628424]\n",
      "\n",
      "\n",
      "Bias:  2.0 \n",
      " [18.447209674829576, 18.692267548995996, 16.97843484402876, 17.152769891950324, 17.2684984142316, 17.930700494948308] [0.1276171633356606, 0.12068043545886811, 0.11355996300165153, 0.11197071518227067, 0.11180567034686915, 0.1185799913716892] \n",
      " [16.957607544413378, 16.107212145666413, 14.392374096610018, 14.502443231236002, 14.850235279397268, 15.675753420125817] \n",
      " [1.489602130416196, 2.585055403329589, 2.5860607474187445, 2.6503266607143177, 2.4182631348343353, 2.254947074822489]\n",
      "\n",
      "\n",
      "Bias:  2.5 \n",
      " [14.23115371538973, 14.366336368840773, 13.814293258404295, 13.067046020259085, 13.536697902321029, 13.559430398814744] [0.09578175211430548, 0.0937560330925389, 0.08670998864712576, 0.08514319841101116, 0.08827922867510532, 0.08793994196027914] \n",
      " [12.974027656007179, 12.46685520793003, 11.79453427671946, 11.152083398330776, 11.722668341667978, 11.834489364856621] \n",
      " [1.2571260593825526, 1.899481160910745, 2.0197589816848334, 1.9149626219283093, 1.8140295606530505, 1.7249410339581224]\n",
      "\n",
      "\n",
      "Bias:  3.0 \n",
      " [12.86731199420028, 11.888115358480214, 11.583266330379162, 11.639072004027652, 11.483419375434329, 11.671667159878714] [0.08793007277595104, 0.08060446805303811, 0.07165192310231283, 0.07774215000009672, 0.07926870546848569, 0.07722659700720633] \n",
      " [11.68921060682456, 10.246410960724061, 9.916071234000084, 9.936112808489844, 9.914554480881774, 10.20989576845534] \n",
      " [1.17810138737572, 1.6417043977561516, 1.6671950963790787, 1.7029591955378076, 1.5688648945525547, 1.4617713914233734]\n",
      "\n",
      "\n",
      "Bias:  3.5 \n",
      " [10.996355911296025, 10.582155395477558, 10.040441892801194, 9.767364333345986, 9.795207576646279, 10.383636838231398] [0.06990694833954074, 0.06769689410775001, 0.06788256452887372, 0.06463939966821367, 0.0656289749035638, 0.06767596614700541] \n",
      " [9.917872631494673, 9.159444194193226, 8.557081364242467, 8.294497812925197, 8.432213594961771, 9.094764351564075] \n",
      " [1.0784832798013508, 1.422711201284332, 1.4833605285587284, 1.472866520420788, 1.3629939816845082, 1.2888724866673231]\n",
      "\n",
      "\n",
      "Bias:  4.0 \n",
      " [9.748164542368594, 9.352379645437935, 8.691817590870404, 8.848982810689874, 8.870461435198358, 9.16791815125153] [0.06504402809635237, 0.05907969707379048, 0.05745994037247006, 0.056172955837836894, 0.058903652460757114, 0.059699806331187585] \n",
      " [8.71898524641255, 8.055254084808663, 7.373262610854391, 7.527117531579721, 7.577312804243203, 7.933039803342347] \n",
      " [1.029179295956045, 1.29712556062927, 1.3185549800160123, 1.321865279110152, 1.2931486309551559, 1.234878347909182]\n",
      "\n",
      "\n",
      "Bias:  4.5 \n",
      " [8.664606065237093, 8.315456092444077, 7.7839293847475, 7.655317387036711, 8.175432066931197, 8.296545128772276] [0.056441587977432185, 0.05547935141551786, 0.0510640186733451, 0.04934488100317167, 0.0528981331155222, 0.055074587306642504] \n",
      " [7.634723317208559, 7.092009572365708, 6.548782358898079, 6.440689658675636, 6.943634989235843, 7.107363978179559] \n",
      " [1.0298827480285333, 1.2234465200783675, 1.23514702584942, 1.2146277283610762, 1.2317970776953537, 1.1891811505927183]\n",
      "\n",
      "\n",
      "Bias:  5.0 \n",
      " [7.687126131594016, 7.438872003785923, 6.916727179755932, 7.22061203269978, 7.320097768173168, 7.446826531158894] [0.047744636082050707, 0.04770723926437799, 0.04527382721828446, 0.04672304251722355, 0.049218487971809236, 0.04864182488709022] \n",
      " [6.674483773270941, 6.2509706179026585, 5.775097321697668, 6.017972240926008, 6.166858884911439, 6.324216891081393] \n",
      " [1.0126423583230753, 1.187901385883265, 1.1416298580582644, 1.2026397917737723, 1.1532388832617286, 1.122609640077501]\n",
      "\n",
      "\n",
      "Bias:  5.5 \n",
      " [7.304991664786916, 6.9863249030089225, 6.546806623331481, 6.513147008933693, 6.822545927750721, 6.738210363325664] [0.04675688244624159, 0.04362920805298084, 0.042901581570374554, 0.042518277070903644, 0.04435923330418827, 0.044303692696061055] \n",
      " [6.299188333818716, 5.864945036558195, 5.400819243260878, 5.375311857335198, 5.688172905026568, 5.641573022628554] \n",
      " [1.0058033309682015, 1.121379866450728, 1.1459873800706013, 1.1378351515984946, 1.1343730227241529, 1.0966373406971104]\n",
      "\n",
      "\n",
      "Bias:  6.0 \n",
      " [6.698221242333469, 6.44797438558705, 6.322786173415408, 6.0553590881733985, 6.162624445112317, 6.397879639242126] [0.043919990811072965, 0.04193307574674067, 0.039796284710942854, 0.03760785514431415, 0.04120268811814368, 0.04117973512988171] \n",
      " [5.704328777944973, 5.33183492801795, 5.17940377016145, 4.9238483772879444, 5.122307984921191, 5.309144913327749] \n",
      " [0.9938924643884965, 1.1161394575691006, 1.1433824032539601, 1.1315107108854536, 1.040316460191126, 1.0887347259143774]\n",
      "\n",
      "\n",
      "Bias:  6.5 \n",
      " [6.296146609185196, 6.147556002337477, 6.050028851128614, 5.98006005648582, 5.922710519845139, 5.953343595633513] [0.04180937334154247, 0.039907378729133504, 0.03892822000837791, 0.039588802729848035, 0.03766319365565414, 0.03700035315752593] \n",
      " [5.324255604602926, 5.067028882486595, 4.985115699674331, 4.8940000421326335, 4.843568641270629, 4.876681519924275] \n",
      " [0.9718910045822691, 1.0805271198508817, 1.0649131514542827, 1.0860600143531862, 1.0791418785745097, 1.076662075709239]\n",
      "\n",
      "\n",
      "Bias:  7.0 \n",
      " [5.93674619983473, 5.667083427561502, 5.49237812737074, 5.4601388969713796, 5.560819254692792, 5.746042455878315] [0.038440447583097524, 0.03677723408016281, 0.03543153816536291, 0.0355259962771017, 0.035925398006217815, 0.03733785624039747] \n",
      " [4.9752354227615045, 4.642271344727893, 4.4366040716022495, 4.401764743229318, 4.502663211918888, 4.698874412379988] \n",
      " [0.9615107770732259, 1.0248120828336074, 1.055774055768491, 1.0583741537420617, 1.058156042773904, 1.0471680434983264]\n",
      "\n",
      "\n",
      "Bias:  7.5 \n",
      " [5.70113055427745, 5.250083199326336, 5.191312242386882, 5.0915073834417734, 5.338766749352116, 5.326827489988256] [0.036784384556649063, 0.03367605612584065, 0.032735819172096114, 0.03331605590480134, 0.03481206765386043, 0.03501283416531118] \n",
      " [4.718913834729215, 4.207546972068088, 4.130540913066095, 4.052367931198846, 4.309326118010395, 4.287680331113791] \n",
      " [0.9822167195482346, 1.0425362272582483, 1.0607713293207872, 1.0391394522429274, 1.0294406313417215, 1.0391471588744658]\n"
     ]
    }
   ],
   "source": [
    "elongLatencyList = list()\n",
    "elongLatency_STDlist = list()\n",
    "transportLatencyList=list()\n",
    "reactionLatencyList=list()\n",
    "bias = np.arange(1,8,0.5)\n",
    "\n",
    "for biasVal in bias:\n",
    "    elongLatency, elongLatency_STD, tRNA_transport,tRNA_reaction,pcogrib = computeBiasedElongationLatency(biasVal)\n",
    "    elongLatencyList.append(elongLatency)\n",
    "    elongLatency_STDlist.append(elongLatency_STD)\n",
    "    transportLatencyList.append(tRNA_transport)\n",
    "    reactionLatencyList.append(tRNA_reaction)\n",
    "    print(\"\\n\\nBias: \", biasVal, \"\\n\", elongLatency, elongLatency_STD, \"\\n\", tRNA_transport, \"\\n\",tRNA_reaction)"
   ]
  },
  {
   "cell_type": "code",
   "execution_count": 2,
   "metadata": {},
   "outputs": [
    {
     "name": "stdout",
     "output_type": "stream",
     "text": [
      "[41.6446221  24.97795543 13.86684432 10.94286772  8.31128877  5.93033639]\n"
     ]
    }
   ],
   "source": [
    "import numpy as np\n",
    "print([1000/12,1000/15,1000/18,1000/19,1000/20,1000/21]-np.ones(6)*(1000/1529+1000/209+1000/200+1000/32))\n",
    "#1\n",
    "#1.5\n",
    "#2.5\n",
    "#3.5\n",
    "#4.5\n",
    "#6.5\n",
    "\n",
    "p_cogRib=[bias*1/42]*tRNA_cog\n",
    "p_cogRib=np.concatenate((p_cogRib,[1/42]*(42-tRNA_cog)))\n",
    "p_cogRib = p_cogRib/sum(p_cogRib)"
   ]
  },
  {
   "cell_type": "code",
   "execution_count": null,
   "metadata": {},
   "outputs": [],
   "source": []
  },
  {
   "cell_type": "code",
   "execution_count": 21,
   "metadata": {
    "scrolled": true
   },
   "outputs": [
    {
     "name": "stdout",
     "output_type": "stream",
     "text": [
      "\n",
      "\n",
      "Bias:  1.0 \n",
      " [49.72161145508541, 25.92778578461983, 43.11831906641123, 34.0145834937291, 49.99550889232344, 42.95156362682505] [3.7182417117235107, 1.9423385986284611, 2.459933710370818, 2.6346929827773464, 2.407077340616828, 1.235879070760139] \n",
      " [44.73746872465361, 21.37269599060446, 34.70406875681337, 25.821221338885888, 39.28919971947458, 35.74736474463362] \n",
      " [4.9841427304318, 4.5550897940153705, 8.414250309597863, 8.193362154843209, 10.706309172848856, 7.204198882191427] \n",
      " [0.0181410403730495, 0.018194310612320973, 0.01808916790351255, 0.018099971636603755, 0.018221716589802737, 0.018398010944871312]\n",
      "\n",
      "\n",
      "Bias:  1.5 \n",
      " [27.137968675645922, 15.25229197194985, 21.504656106935062, 12.6927230811582, 19.545536116446048, 9.920991261325232] [2.312155481837666, 1.5154507051522381, 1.674302509815283, 0.9131817700343254, 1.45688971544935, 0.8693108288752486] \n",
      " [24.66018645248487, 12.763049354009754, 17.994678257856137, 9.31175204466774, 15.445821370038784, 8.14541958436758] \n",
      " [2.4777822231610567, 2.4892426179400955, 3.5099778490789246, 3.380971036490457, 4.099714746407261, 1.7755716769576513] \n",
      " [0.02605404405712668, 0.026394999801375524, 0.026272363638607306, 0.0260578988395357, 0.026742083455356336, 0.026628407178294237]\n"
     ]
    },
    {
     "ename": "KeyboardInterrupt",
     "evalue": "",
     "output_type": "error",
     "traceback": [
      "\u001b[0;31m---------------------------------------------------------------------------\u001b[0m",
      "\u001b[0;31mKeyboardInterrupt\u001b[0m                         Traceback (most recent call last)",
      "\u001b[0;32m<ipython-input-21-c369a2619235>\u001b[0m in \u001b[0;36m<module>\u001b[0;34m\u001b[0m\n\u001b[1;32m      6\u001b[0m \u001b[0;34m\u001b[0m\u001b[0m\n\u001b[1;32m      7\u001b[0m \u001b[0;32mfor\u001b[0m \u001b[0mbiasVal\u001b[0m \u001b[0;32min\u001b[0m \u001b[0mbias\u001b[0m\u001b[0;34m:\u001b[0m\u001b[0;34m\u001b[0m\u001b[0;34m\u001b[0m\u001b[0m\n\u001b[0;32m----> 8\u001b[0;31m     \u001b[0melongLatency\u001b[0m\u001b[0;34m,\u001b[0m \u001b[0melongLatency_STD\u001b[0m\u001b[0;34m,\u001b[0m \u001b[0mtRNA_transport\u001b[0m\u001b[0;34m,\u001b[0m\u001b[0mtRNA_reaction\u001b[0m\u001b[0;34m,\u001b[0m\u001b[0mpcogrib\u001b[0m \u001b[0;34m=\u001b[0m \u001b[0mcomputeBiasedElongationLatency\u001b[0m\u001b[0;34m(\u001b[0m\u001b[0mbiasVal\u001b[0m\u001b[0;34m)\u001b[0m\u001b[0;34m\u001b[0m\u001b[0;34m\u001b[0m\u001b[0m\n\u001b[0m\u001b[1;32m      9\u001b[0m     \u001b[0melongLatencyList\u001b[0m\u001b[0;34m.\u001b[0m\u001b[0mappend\u001b[0m\u001b[0;34m(\u001b[0m\u001b[0melongLatency\u001b[0m\u001b[0;34m)\u001b[0m\u001b[0;34m\u001b[0m\u001b[0;34m\u001b[0m\u001b[0m\n\u001b[1;32m     10\u001b[0m     \u001b[0melongLatency_STDlist\u001b[0m\u001b[0;34m.\u001b[0m\u001b[0mappend\u001b[0m\u001b[0;34m(\u001b[0m\u001b[0melongLatency_STD\u001b[0m\u001b[0;34m)\u001b[0m\u001b[0;34m\u001b[0m\u001b[0;34m\u001b[0m\u001b[0m\n",
      "\u001b[0;32m<ipython-input-19-0464b5baa2de>\u001b[0m in \u001b[0;36mcomputeBiasedElongationLatency\u001b[0;34m(biasVal)\u001b[0m\n\u001b[1;32m     11\u001b[0m \u001b[0;34m\u001b[0m\u001b[0m\n\u001b[1;32m     12\u001b[0m     \u001b[0;32mfor\u001b[0m \u001b[0mi\u001b[0m\u001b[0;34m,\u001b[0m\u001b[0mnum_rib\u001b[0m \u001b[0;32min\u001b[0m \u001b[0menumerate\u001b[0m\u001b[0;34m(\u001b[0m\u001b[0mrib_gr\u001b[0m\u001b[0;34m)\u001b[0m\u001b[0;34m:\u001b[0m\u001b[0;34m\u001b[0m\u001b[0;34m\u001b[0m\u001b[0m\n\u001b[0;32m---> 13\u001b[0;31m         \u001b[0mweight\u001b[0m \u001b[0;34m=\u001b[0m \u001b[0mcognateDistrib\u001b[0m\u001b[0;34m(\u001b[0m\u001b[0mptRNA\u001b[0m\u001b[0;34m[\u001b[0m\u001b[0mi\u001b[0m\u001b[0;34m]\u001b[0m\u001b[0;34m,\u001b[0m\u001b[0mpCodon\u001b[0m\u001b[0;34m[\u001b[0m\u001b[0mi\u001b[0m\u001b[0;34m]\u001b[0m\u001b[0;34m)\u001b[0m\u001b[0;34m\u001b[0m\u001b[0;34m\u001b[0m\u001b[0m\n\u001b[0m\u001b[1;32m     14\u001b[0m         \u001b[0msim_time_gr\u001b[0m \u001b[0;34m=\u001b[0m \u001b[0mlist\u001b[0m\u001b[0;34m(\u001b[0m\u001b[0;34m)\u001b[0m\u001b[0;34m\u001b[0m\u001b[0;34m\u001b[0m\u001b[0m\n\u001b[1;32m     15\u001b[0m         \u001b[0msim_time_gr_var\u001b[0m\u001b[0;34m=\u001b[0m\u001b[0mlist\u001b[0m\u001b[0;34m(\u001b[0m\u001b[0;34m)\u001b[0m\u001b[0;34m\u001b[0m\u001b[0;34m\u001b[0m\u001b[0m\n",
      "\u001b[0;32m~/Documents/TranslationDynamics/src/analysis_utils.py\u001b[0m in \u001b[0;36mcognateDistrib\u001b[0;34m(ptRNA, pCodon, bias)\u001b[0m\n\u001b[1;32m    415\u001b[0m                 \u001b[0mbiased_ptRNA\u001b[0m\u001b[0;34m[\u001b[0m\u001b[0mtRNA_tags\u001b[0m\u001b[0;34m.\u001b[0m\u001b[0mindex\u001b[0m\u001b[0;34m(\u001b[0m\u001b[0mtRNA_i\u001b[0m\u001b[0;34m)\u001b[0m\u001b[0;34m]\u001b[0m\u001b[0;34m=\u001b[0m\u001b[0mbiased_ptRNA\u001b[0m\u001b[0;34m[\u001b[0m\u001b[0mtRNA_tags\u001b[0m\u001b[0;34m.\u001b[0m\u001b[0mindex\u001b[0m\u001b[0;34m(\u001b[0m\u001b[0mtRNA_i\u001b[0m\u001b[0;34m)\u001b[0m\u001b[0;34m]\u001b[0m\u001b[0;34m*\u001b[0m\u001b[0mbias\u001b[0m\u001b[0;34m\u001b[0m\u001b[0;34m\u001b[0m\u001b[0m\n\u001b[1;32m    416\u001b[0m             \u001b[0;32mfor\u001b[0m \u001b[0m_\u001b[0m\u001b[0;34m,\u001b[0m\u001b[0mtRNA_i\u001b[0m \u001b[0;32min\u001b[0m \u001b[0menumerate\u001b[0m\u001b[0;34m(\u001b[0m\u001b[0mnoncognatetRNA\u001b[0m\u001b[0;34m)\u001b[0m\u001b[0;34m:\u001b[0m\u001b[0;34m\u001b[0m\u001b[0;34m\u001b[0m\u001b[0m\n\u001b[0;32m--> 417\u001b[0;31m                 \u001b[0mbiased_ptRNA\u001b[0m\u001b[0;34m[\u001b[0m\u001b[0mtRNA_tags\u001b[0m\u001b[0;34m.\u001b[0m\u001b[0mindex\u001b[0m\u001b[0;34m(\u001b[0m\u001b[0mtRNA_i\u001b[0m\u001b[0;34m)\u001b[0m\u001b[0;34m]\u001b[0m\u001b[0;34m=\u001b[0m\u001b[0mbiased_ptRNA\u001b[0m\u001b[0;34m[\u001b[0m\u001b[0mtRNA_tags\u001b[0m\u001b[0;34m.\u001b[0m\u001b[0mindex\u001b[0m\u001b[0;34m(\u001b[0m\u001b[0mtRNA_i\u001b[0m\u001b[0;34m)\u001b[0m\u001b[0;34m]\u001b[0m\u001b[0;34m/\u001b[0m\u001b[0mbias\u001b[0m\u001b[0;34m\u001b[0m\u001b[0;34m\u001b[0m\u001b[0m\n\u001b[0m\u001b[1;32m    418\u001b[0m             \u001b[0mbiased_ptRNA\u001b[0m \u001b[0;34m=\u001b[0m \u001b[0mbiased_ptRNA\u001b[0m\u001b[0;34m/\u001b[0m\u001b[0msum\u001b[0m\u001b[0;34m(\u001b[0m\u001b[0mbiased_ptRNA\u001b[0m\u001b[0;34m)\u001b[0m\u001b[0;34m\u001b[0m\u001b[0;34m\u001b[0m\u001b[0m\n\u001b[1;32m    419\u001b[0m \u001b[0;34m\u001b[0m\u001b[0m\n",
      "\u001b[0;32m~/opt/anaconda3/lib/python3.7/site-packages/pandas/core/series.py\u001b[0m in \u001b[0;36m__getitem__\u001b[0;34m(self, key)\u001b[0m\n\u001b[1;32m   1066\u001b[0m         \u001b[0mkey\u001b[0m \u001b[0;34m=\u001b[0m \u001b[0mcom\u001b[0m\u001b[0;34m.\u001b[0m\u001b[0mapply_if_callable\u001b[0m\u001b[0;34m(\u001b[0m\u001b[0mkey\u001b[0m\u001b[0;34m,\u001b[0m \u001b[0mself\u001b[0m\u001b[0;34m)\u001b[0m\u001b[0;34m\u001b[0m\u001b[0;34m\u001b[0m\u001b[0m\n\u001b[1;32m   1067\u001b[0m         \u001b[0;32mtry\u001b[0m\u001b[0;34m:\u001b[0m\u001b[0;34m\u001b[0m\u001b[0;34m\u001b[0m\u001b[0m\n\u001b[0;32m-> 1068\u001b[0;31m             \u001b[0mresult\u001b[0m \u001b[0;34m=\u001b[0m \u001b[0mself\u001b[0m\u001b[0;34m.\u001b[0m\u001b[0mindex\u001b[0m\u001b[0;34m.\u001b[0m\u001b[0mget_value\u001b[0m\u001b[0;34m(\u001b[0m\u001b[0mself\u001b[0m\u001b[0;34m,\u001b[0m \u001b[0mkey\u001b[0m\u001b[0;34m)\u001b[0m\u001b[0;34m\u001b[0m\u001b[0;34m\u001b[0m\u001b[0m\n\u001b[0m\u001b[1;32m   1069\u001b[0m \u001b[0;34m\u001b[0m\u001b[0m\n\u001b[1;32m   1070\u001b[0m             \u001b[0;32mif\u001b[0m \u001b[0;32mnot\u001b[0m \u001b[0mis_scalar\u001b[0m\u001b[0;34m(\u001b[0m\u001b[0mresult\u001b[0m\u001b[0;34m)\u001b[0m\u001b[0;34m:\u001b[0m\u001b[0;34m\u001b[0m\u001b[0;34m\u001b[0m\u001b[0m\n",
      "\u001b[0;32m~/opt/anaconda3/lib/python3.7/site-packages/pandas/core/indexes/base.py\u001b[0m in \u001b[0;36mget_value\u001b[0;34m(self, series, key)\u001b[0m\n\u001b[1;32m   4728\u001b[0m         \u001b[0mk\u001b[0m \u001b[0;34m=\u001b[0m \u001b[0mself\u001b[0m\u001b[0;34m.\u001b[0m\u001b[0m_convert_scalar_indexer\u001b[0m\u001b[0;34m(\u001b[0m\u001b[0mk\u001b[0m\u001b[0;34m,\u001b[0m \u001b[0mkind\u001b[0m\u001b[0;34m=\u001b[0m\u001b[0;34m\"getitem\"\u001b[0m\u001b[0;34m)\u001b[0m\u001b[0;34m\u001b[0m\u001b[0;34m\u001b[0m\u001b[0m\n\u001b[1;32m   4729\u001b[0m         \u001b[0;32mtry\u001b[0m\u001b[0;34m:\u001b[0m\u001b[0;34m\u001b[0m\u001b[0;34m\u001b[0m\u001b[0m\n\u001b[0;32m-> 4730\u001b[0;31m             \u001b[0;32mreturn\u001b[0m \u001b[0mself\u001b[0m\u001b[0;34m.\u001b[0m\u001b[0m_engine\u001b[0m\u001b[0;34m.\u001b[0m\u001b[0mget_value\u001b[0m\u001b[0;34m(\u001b[0m\u001b[0ms\u001b[0m\u001b[0;34m,\u001b[0m \u001b[0mk\u001b[0m\u001b[0;34m,\u001b[0m \u001b[0mtz\u001b[0m\u001b[0;34m=\u001b[0m\u001b[0mgetattr\u001b[0m\u001b[0;34m(\u001b[0m\u001b[0mseries\u001b[0m\u001b[0;34m.\u001b[0m\u001b[0mdtype\u001b[0m\u001b[0;34m,\u001b[0m \u001b[0;34m\"tz\"\u001b[0m\u001b[0;34m,\u001b[0m \u001b[0;32mNone\u001b[0m\u001b[0;34m)\u001b[0m\u001b[0;34m)\u001b[0m\u001b[0;34m\u001b[0m\u001b[0;34m\u001b[0m\u001b[0m\n\u001b[0m\u001b[1;32m   4731\u001b[0m         \u001b[0;32mexcept\u001b[0m \u001b[0mKeyError\u001b[0m \u001b[0;32mas\u001b[0m \u001b[0me1\u001b[0m\u001b[0;34m:\u001b[0m\u001b[0;34m\u001b[0m\u001b[0;34m\u001b[0m\u001b[0m\n\u001b[1;32m   4732\u001b[0m             \u001b[0;32mif\u001b[0m \u001b[0mlen\u001b[0m\u001b[0;34m(\u001b[0m\u001b[0mself\u001b[0m\u001b[0;34m)\u001b[0m \u001b[0;34m>\u001b[0m \u001b[0;36m0\u001b[0m \u001b[0;32mand\u001b[0m \u001b[0;34m(\u001b[0m\u001b[0mself\u001b[0m\u001b[0;34m.\u001b[0m\u001b[0mholds_integer\u001b[0m\u001b[0;34m(\u001b[0m\u001b[0;34m)\u001b[0m \u001b[0;32mor\u001b[0m \u001b[0mself\u001b[0m\u001b[0;34m.\u001b[0m\u001b[0mis_boolean\u001b[0m\u001b[0;34m(\u001b[0m\u001b[0;34m)\u001b[0m\u001b[0;34m)\u001b[0m\u001b[0;34m:\u001b[0m\u001b[0;34m\u001b[0m\u001b[0;34m\u001b[0m\u001b[0m\n",
      "\u001b[0;31mKeyboardInterrupt\u001b[0m: "
     ]
    }
   ],
   "source": [
    "elongLatencyList = list()\n",
    "elongLatency_STDlist = list()\n",
    "transportLatencyList=list()\n",
    "reactionLatencyList=list()\n",
    "bias = np.arange(1,8,0.5)\n",
    "\n",
    "for biasVal in bias:\n",
    "    elongLatency, elongLatency_STD, tRNA_transport,tRNA_reaction,pcogrib = computeBiasedElongationLatency(biasVal)\n",
    "    elongLatencyList.append(elongLatency)\n",
    "    elongLatency_STDlist.append(elongLatency_STD)\n",
    "    transportLatencyList.append(tRNA_transport)\n",
    "    reactionLatencyList.append(tRNA_reaction)\n",
    "    print(\"\\n\\nBias: \", biasVal, \"\\n\", elongLatency, elongLatency_STD, \"\\n\", tRNA_transport, \"\\n\",tRNA_reaction,\"\\n\",pcogrib)"
   ]
  },
  {
   "cell_type": "code",
   "execution_count": 20,
   "metadata": {},
   "outputs": [
    {
     "name": "stdout",
     "output_type": "stream",
     "text": [
      "\n",
      "\n",
      "Bias:  2.0 \n",
      " [15.71021563041256, 17.294496479694306, 18.762925168017787, 18.30789436869773, 10.860981129763456, 13.291527024895661] [1.0750823272934618, 1.6419217927966927, 1.6761009379512655, 1.372237160546855, 1.0256263781365171, 0.832414940240066] \n",
      " [14.774524484838896, 14.596920602630517, 16.518441419904835, 15.710366222449036, 9.37296814296778, 11.833417802905828] \n",
      " [0.9356911455736618, 2.6975758770637848, 2.2444837481129523, 2.597528146248694, 1.4880129867956744, 1.4581092219898353] \n",
      " [0.03348591617641688, 0.034271319438693486, 0.033920692357242696, 0.03384773051885222, 0.03449989019985082, 0.03444413036878893]\n",
      "\n",
      "\n",
      "Bias:  2.5 \n",
      " [17.477731697820598, 8.337631775897574, 26.083837896462494, 11.04454438849962, 13.596902263681898, 11.533835931688824] [1.070857326590396, 0.5414662034124151, 2.269951917231117, 1.019402844149701, 0.8510350479859345, 1.0047019299231823] \n",
      " [15.413330806025668, 7.187302157381381, 23.652404407439594, 9.455266206191702, 12.194469594859116, 10.032701595770712] \n",
      " [2.064400891794934, 1.1503296185161933, 2.4314334890228997, 1.589278182307919, 1.4024326688227817, 1.5011343359181095] \n",
      " [0.04073661106394127, 0.04188454995279906, 0.041311639531460054, 0.04124992948687619, 0.04207925647300449, 0.042127298266052486]\n",
      "\n",
      "\n",
      "Bias:  3.0 \n",
      " [13.292481482783385, 16.54478883304974, 11.12626387335885, 17.73033101270061, 9.524927206466058, 6.5514773323489175] [1.289012595050712, 0.46792904298725524, 1.0017640680148296, 1.796927389499573, 0.9807676286168786, 0.28824553338036085] \n",
      " [12.42197109152764, 14.38342006997517, 9.386698727913336, 15.516185757956809, 8.154993900026007, 5.789294961232256] \n",
      " [0.8705103912557443, 2.1613687630745706, 1.739565145445511, 2.214145254743797, 1.3699333064400527, 0.7621823711166603] \n",
      " [0.048043787691985154, 0.048330990980884274, 0.048440973200929646, 0.048559916933214646, 0.048863880366385365, 0.049087733242339865]\n",
      "\n",
      "\n",
      "Bias:  3.5 \n",
      " [8.788028322273506, 6.881635387006127, 6.273091301633919, 15.407576147074858, 15.667695146318195, 13.46090298694121] [0.7367694822378238, 0.7127570683302467, 0.5265829135930062, 1.3347597237932236, 1.2493058037249618, 1.3723620385482442] \n",
      " [8.042689839892843, 6.079588800657315, 5.4817117521435765, 13.615111891736412, 13.919794840689951, 11.105931135499608] \n",
      " [0.7453384823806622, 0.8020465863488125, 0.7913795494903415, 1.7924642553384436, 1.7479003056282498, 2.3549718514415994] \n",
      " [0.05517820400463894, 0.05573935938832119, 0.0552668929391836, 0.054656358641038946, 0.056031341540491456, 0.05612365146329849]\n",
      "\n",
      "\n",
      "Bias:  4.0 \n",
      " [7.577375441974327, 11.940463051589532, 9.036175982616344, 6.482267335082797, 13.19518458639925, 5.983351020927904] [0.3476947644133157, 1.0800367894731044, 1.0943869337632361, 0.3626375257111659, 0.7642330887736366, 0.37581628119392574] \n",
      " [6.929132003760507, 10.049923726374542, 7.639537040059151, 5.044506490296177, 11.844435083578158, 4.584316764461837] \n",
      " [0.6482434382138215, 1.8905393252149865, 1.3966389425571928, 1.437760844786621, 1.3507495028210905, 1.3990342564660663] \n",
      " [0.06134465934564524, 0.061603021739704826, 0.06167363962737131, 0.06193128027386573, 0.06199478242163366, 0.0630274066097502]\n",
      "\n",
      "\n",
      "Bias:  4.5 \n",
      " [14.435084296363744, 8.69491193947226, 7.386893897997559, 6.501292816288451, 9.414992187462547, 10.793371979201847] [1.957139758744512, 0.5509467447035847, 0.6128960871070535, 0.5180687238782705, 0.9178582422682352, 1.1182094359480532] \n",
      " [12.738146672174508, 7.7041709695385165, 6.350029230045461, 5.522817011489831, 8.798772313220738, 9.035217398464999] \n",
      " [1.696937624189236, 0.9907409699337423, 1.0368646679520985, 0.97847580479862, 0.6162198742418085, 1.758154580736848] \n",
      " [0.06750356325346388, 0.06797078642816055, 0.06704460100044235, 0.06833647540846184, 0.06843302415914214, 0.06863782824899023]\n"
     ]
    },
    {
     "ename": "KeyboardInterrupt",
     "evalue": "",
     "output_type": "error",
     "traceback": [
      "\u001b[0;31m---------------------------------------------------------------------------\u001b[0m",
      "\u001b[0;31mKeyboardInterrupt\u001b[0m                         Traceback (most recent call last)",
      "\u001b[0;32m<ipython-input-20-319b935ca606>\u001b[0m in \u001b[0;36m<module>\u001b[0;34m\u001b[0m\n\u001b[1;32m      6\u001b[0m \u001b[0;34m\u001b[0m\u001b[0m\n\u001b[1;32m      7\u001b[0m \u001b[0;32mfor\u001b[0m \u001b[0mbiasVal\u001b[0m \u001b[0;32min\u001b[0m \u001b[0mbias\u001b[0m\u001b[0;34m:\u001b[0m\u001b[0;34m\u001b[0m\u001b[0;34m\u001b[0m\u001b[0m\n\u001b[0;32m----> 8\u001b[0;31m     \u001b[0melongLatency\u001b[0m\u001b[0;34m,\u001b[0m \u001b[0melongLatency_STD\u001b[0m\u001b[0;34m,\u001b[0m \u001b[0mtRNA_transport\u001b[0m\u001b[0;34m,\u001b[0m\u001b[0mtRNA_reaction\u001b[0m\u001b[0;34m,\u001b[0m\u001b[0mpcogrib\u001b[0m \u001b[0;34m=\u001b[0m \u001b[0mcomputeBiasedElongationLatency\u001b[0m\u001b[0;34m(\u001b[0m\u001b[0mbiasVal\u001b[0m\u001b[0;34m)\u001b[0m\u001b[0;34m\u001b[0m\u001b[0;34m\u001b[0m\u001b[0m\n\u001b[0m\u001b[1;32m      9\u001b[0m     \u001b[0melongLatencyList\u001b[0m\u001b[0;34m.\u001b[0m\u001b[0mappend\u001b[0m\u001b[0;34m(\u001b[0m\u001b[0melongLatency\u001b[0m\u001b[0;34m)\u001b[0m\u001b[0;34m\u001b[0m\u001b[0;34m\u001b[0m\u001b[0m\n\u001b[1;32m     10\u001b[0m     \u001b[0melongLatency_STDlist\u001b[0m\u001b[0;34m.\u001b[0m\u001b[0mappend\u001b[0m\u001b[0;34m(\u001b[0m\u001b[0melongLatency_STD\u001b[0m\u001b[0;34m)\u001b[0m\u001b[0;34m\u001b[0m\u001b[0;34m\u001b[0m\u001b[0m\n",
      "\u001b[0;32m<ipython-input-19-0464b5baa2de>\u001b[0m in \u001b[0;36mcomputeBiasedElongationLatency\u001b[0;34m(biasVal)\u001b[0m\n\u001b[1;32m     11\u001b[0m \u001b[0;34m\u001b[0m\u001b[0m\n\u001b[1;32m     12\u001b[0m     \u001b[0;32mfor\u001b[0m \u001b[0mi\u001b[0m\u001b[0;34m,\u001b[0m\u001b[0mnum_rib\u001b[0m \u001b[0;32min\u001b[0m \u001b[0menumerate\u001b[0m\u001b[0;34m(\u001b[0m\u001b[0mrib_gr\u001b[0m\u001b[0;34m)\u001b[0m\u001b[0;34m:\u001b[0m\u001b[0;34m\u001b[0m\u001b[0;34m\u001b[0m\u001b[0m\n\u001b[0;32m---> 13\u001b[0;31m         \u001b[0mweight\u001b[0m \u001b[0;34m=\u001b[0m \u001b[0mcognateDistrib\u001b[0m\u001b[0;34m(\u001b[0m\u001b[0mptRNA\u001b[0m\u001b[0;34m[\u001b[0m\u001b[0mi\u001b[0m\u001b[0;34m]\u001b[0m\u001b[0;34m,\u001b[0m\u001b[0mpCodon\u001b[0m\u001b[0;34m[\u001b[0m\u001b[0mi\u001b[0m\u001b[0;34m]\u001b[0m\u001b[0;34m)\u001b[0m\u001b[0;34m\u001b[0m\u001b[0;34m\u001b[0m\u001b[0m\n\u001b[0m\u001b[1;32m     14\u001b[0m         \u001b[0msim_time_gr\u001b[0m \u001b[0;34m=\u001b[0m \u001b[0mlist\u001b[0m\u001b[0;34m(\u001b[0m\u001b[0;34m)\u001b[0m\u001b[0;34m\u001b[0m\u001b[0;34m\u001b[0m\u001b[0m\n\u001b[1;32m     15\u001b[0m         \u001b[0msim_time_gr_var\u001b[0m\u001b[0;34m=\u001b[0m\u001b[0mlist\u001b[0m\u001b[0;34m(\u001b[0m\u001b[0;34m)\u001b[0m\u001b[0;34m\u001b[0m\u001b[0;34m\u001b[0m\u001b[0m\n",
      "\u001b[0;32m~/Documents/TranslationDynamics/src/analysis_utils.py\u001b[0m in \u001b[0;36mcognateDistrib\u001b[0;34m(ptRNA, pCodon, bias)\u001b[0m\n\u001b[1;32m    415\u001b[0m                 \u001b[0mbiased_ptRNA\u001b[0m\u001b[0;34m[\u001b[0m\u001b[0mtRNA_tags\u001b[0m\u001b[0;34m.\u001b[0m\u001b[0mindex\u001b[0m\u001b[0;34m(\u001b[0m\u001b[0mtRNA_i\u001b[0m\u001b[0;34m)\u001b[0m\u001b[0;34m]\u001b[0m\u001b[0;34m=\u001b[0m\u001b[0mbiased_ptRNA\u001b[0m\u001b[0;34m[\u001b[0m\u001b[0mtRNA_tags\u001b[0m\u001b[0;34m.\u001b[0m\u001b[0mindex\u001b[0m\u001b[0;34m(\u001b[0m\u001b[0mtRNA_i\u001b[0m\u001b[0;34m)\u001b[0m\u001b[0;34m]\u001b[0m\u001b[0;34m*\u001b[0m\u001b[0mbias\u001b[0m\u001b[0;34m\u001b[0m\u001b[0;34m\u001b[0m\u001b[0m\n\u001b[1;32m    416\u001b[0m             \u001b[0;32mfor\u001b[0m \u001b[0m_\u001b[0m\u001b[0;34m,\u001b[0m\u001b[0mtRNA_i\u001b[0m \u001b[0;32min\u001b[0m \u001b[0menumerate\u001b[0m\u001b[0;34m(\u001b[0m\u001b[0mnoncognatetRNA\u001b[0m\u001b[0;34m)\u001b[0m\u001b[0;34m:\u001b[0m\u001b[0;34m\u001b[0m\u001b[0;34m\u001b[0m\u001b[0m\n\u001b[0;32m--> 417\u001b[0;31m                 \u001b[0mbiased_ptRNA\u001b[0m\u001b[0;34m[\u001b[0m\u001b[0mtRNA_tags\u001b[0m\u001b[0;34m.\u001b[0m\u001b[0mindex\u001b[0m\u001b[0;34m(\u001b[0m\u001b[0mtRNA_i\u001b[0m\u001b[0;34m)\u001b[0m\u001b[0;34m]\u001b[0m\u001b[0;34m=\u001b[0m\u001b[0mbiased_ptRNA\u001b[0m\u001b[0;34m[\u001b[0m\u001b[0mtRNA_tags\u001b[0m\u001b[0;34m.\u001b[0m\u001b[0mindex\u001b[0m\u001b[0;34m(\u001b[0m\u001b[0mtRNA_i\u001b[0m\u001b[0;34m)\u001b[0m\u001b[0;34m]\u001b[0m\u001b[0;34m/\u001b[0m\u001b[0mbias\u001b[0m\u001b[0;34m\u001b[0m\u001b[0;34m\u001b[0m\u001b[0m\n\u001b[0m\u001b[1;32m    418\u001b[0m             \u001b[0mbiased_ptRNA\u001b[0m \u001b[0;34m=\u001b[0m \u001b[0mbiased_ptRNA\u001b[0m\u001b[0;34m/\u001b[0m\u001b[0msum\u001b[0m\u001b[0;34m(\u001b[0m\u001b[0mbiased_ptRNA\u001b[0m\u001b[0;34m)\u001b[0m\u001b[0;34m\u001b[0m\u001b[0;34m\u001b[0m\u001b[0m\n\u001b[1;32m    419\u001b[0m \u001b[0;34m\u001b[0m\u001b[0m\n",
      "\u001b[0;32m~/opt/anaconda3/lib/python3.7/site-packages/pandas/core/series.py\u001b[0m in \u001b[0;36m__getitem__\u001b[0;34m(self, key)\u001b[0m\n\u001b[1;32m   1064\u001b[0m \u001b[0;34m\u001b[0m\u001b[0m\n\u001b[1;32m   1065\u001b[0m     \u001b[0;32mdef\u001b[0m \u001b[0m__getitem__\u001b[0m\u001b[0;34m(\u001b[0m\u001b[0mself\u001b[0m\u001b[0;34m,\u001b[0m \u001b[0mkey\u001b[0m\u001b[0;34m)\u001b[0m\u001b[0;34m:\u001b[0m\u001b[0;34m\u001b[0m\u001b[0;34m\u001b[0m\u001b[0m\n\u001b[0;32m-> 1066\u001b[0;31m         \u001b[0mkey\u001b[0m \u001b[0;34m=\u001b[0m \u001b[0mcom\u001b[0m\u001b[0;34m.\u001b[0m\u001b[0mapply_if_callable\u001b[0m\u001b[0;34m(\u001b[0m\u001b[0mkey\u001b[0m\u001b[0;34m,\u001b[0m \u001b[0mself\u001b[0m\u001b[0;34m)\u001b[0m\u001b[0;34m\u001b[0m\u001b[0;34m\u001b[0m\u001b[0m\n\u001b[0m\u001b[1;32m   1067\u001b[0m         \u001b[0;32mtry\u001b[0m\u001b[0;34m:\u001b[0m\u001b[0;34m\u001b[0m\u001b[0;34m\u001b[0m\u001b[0m\n\u001b[1;32m   1068\u001b[0m             \u001b[0mresult\u001b[0m \u001b[0;34m=\u001b[0m \u001b[0mself\u001b[0m\u001b[0;34m.\u001b[0m\u001b[0mindex\u001b[0m\u001b[0;34m.\u001b[0m\u001b[0mget_value\u001b[0m\u001b[0;34m(\u001b[0m\u001b[0mself\u001b[0m\u001b[0;34m,\u001b[0m \u001b[0mkey\u001b[0m\u001b[0;34m)\u001b[0m\u001b[0;34m\u001b[0m\u001b[0;34m\u001b[0m\u001b[0m\n",
      "\u001b[0;32m~/opt/anaconda3/lib/python3.7/site-packages/pandas/core/common.py\u001b[0m in \u001b[0;36mapply_if_callable\u001b[0;34m(maybe_callable, obj, **kwargs)\u001b[0m\n\u001b[1;32m    350\u001b[0m \u001b[0;34m\u001b[0m\u001b[0m\n\u001b[1;32m    351\u001b[0m \u001b[0;34m\u001b[0m\u001b[0m\n\u001b[0;32m--> 352\u001b[0;31m \u001b[0;32mdef\u001b[0m \u001b[0mapply_if_callable\u001b[0m\u001b[0;34m(\u001b[0m\u001b[0mmaybe_callable\u001b[0m\u001b[0;34m,\u001b[0m \u001b[0mobj\u001b[0m\u001b[0;34m,\u001b[0m \u001b[0;34m**\u001b[0m\u001b[0mkwargs\u001b[0m\u001b[0;34m)\u001b[0m\u001b[0;34m:\u001b[0m\u001b[0;34m\u001b[0m\u001b[0;34m\u001b[0m\u001b[0m\n\u001b[0m\u001b[1;32m    353\u001b[0m     \"\"\"\n\u001b[1;32m    354\u001b[0m     \u001b[0mEvaluate\u001b[0m \u001b[0mpossibly\u001b[0m \u001b[0mcallable\u001b[0m \u001b[0minput\u001b[0m \u001b[0musing\u001b[0m \u001b[0mobj\u001b[0m \u001b[0;32mand\u001b[0m \u001b[0mkwargs\u001b[0m \u001b[0;32mif\u001b[0m \u001b[0mit\u001b[0m \u001b[0;32mis\u001b[0m \u001b[0mcallable\u001b[0m\u001b[0;34m,\u001b[0m\u001b[0;34m\u001b[0m\u001b[0;34m\u001b[0m\u001b[0m\n",
      "\u001b[0;31mKeyboardInterrupt\u001b[0m: "
     ]
    }
   ],
   "source": [
    "elongLatencyList = list()\n",
    "elongLatency_STDlist = list()\n",
    "transportLatencyList=list()\n",
    "reactionLatencyList=list()\n",
    "bias = np.arange(1,8,0.5)\n",
    "\n",
    "for biasVal in bias:\n",
    "    elongLatency, elongLatency_STD, tRNA_transport,tRNA_reaction,pcogrib = computeBiasedElongationLatency(biasVal)\n",
    "    elongLatencyList.append(elongLatency)\n",
    "    elongLatency_STDlist.append(elongLatency_STD)\n",
    "    transportLatencyList.append(tRNA_transport)\n",
    "    reactionLatencyList.append(tRNA_reaction)\n",
    "    print(\"\\n\\nBias: \", biasVal, \"\\n\", elongLatency, elongLatency_STD, \"\\n\", tRNA_transport, \"\\n\",tRNA_reaction,\"\\n\",pcogrib)"
   ]
  },
  {
   "cell_type": "code",
   "execution_count": 17,
   "metadata": {},
   "outputs": [
    {
     "data": {
      "text/plain": [
       "0.023809523809523808"
      ]
     },
     "execution_count": 17,
     "metadata": {},
     "output_type": "execute_result"
    }
   ],
   "source": []
  },
  {
   "cell_type": "code",
   "execution_count": null,
   "metadata": {},
   "outputs": [],
   "source": []
  }
 ],
 "metadata": {
  "kernelspec": {
   "display_name": "Python 3",
   "language": "python",
   "name": "python3"
  },
  "language_info": {
   "codemirror_mode": {
    "name": "ipython",
    "version": 3
   },
   "file_extension": ".py",
   "mimetype": "text/x-python",
   "name": "python",
   "nbconvert_exporter": "python",
   "pygments_lexer": "ipython3",
   "version": "3.7.4"
  }
 },
 "nbformat": 4,
 "nbformat_minor": 2
}
