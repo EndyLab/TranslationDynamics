{
 "cells": [
  {
   "cell_type": "code",
   "execution_count": 10,
   "metadata": {},
   "outputs": [
    {
     "name": "stdout",
     "output_type": "stream",
     "text": [
      "The autoreload extension is already loaded. To reload it, use:\n",
      "  %reload_ext autoreload\n"
     ]
    }
   ],
   "source": [
    "from analysis_utils import *\n",
    "%load_ext autoreload\n",
    "import numpy as np\n",
    "import pandas as pd\n",
    "\n",
    "ptRNA = pd.read_excel('tRNAValues.xlsx',header=None)\n",
    "gr04_ptRNA=ptRNA[0]\n",
    "gr07_ptRNA=ptRNA[1]\n",
    "gr107_ptRNA=ptRNA[2]\n",
    "gr16_ptRNA=ptRNA[3]\n",
    "gr25_ptRNA=ptRNA[4]\n",
    "\n",
    "pCodon = pd.read_excel('codonValues.xlsx',header=None)\n",
    "gr04_pCodon = pCodon[0]\n",
    "gr07_pCodon = pCodon[1]\n",
    "gr107_pCodon = pCodon[2]\n",
    "gr16_pCodon = pCodon[3]\n",
    "gr25_pCodon = pCodon[4]\n",
    "\n",
    "rxndiff=dict()"
   ]
  },
  {
   "cell_type": "code",
   "execution_count": 14,
   "metadata": {},
   "outputs": [],
   "source": [
    "def computeBiasedElongationLatency(biasVal=1):\n",
    "    sim_time_all = list()\n",
    "    sim_time_std_all = list()\n",
    "    rib_gr = [4,8,9,9,8,7]\n",
    "    ptRNA = [gr07_ptRNA,gr107_ptRNA,gr16_ptRNA,gr16_ptRNA,gr25_ptRNA,gr25_ptRNA]\n",
    "    pCodon =  [gr07_pCodon,gr107_pCodon,gr16_pCodon,gr16_pCodon,gr25_pCodon,gr25_pCodon]\n",
    "\n",
    "    for i,num_rib in enumerate(rib_gr):\n",
    "        weight = cognateDistrib(ptRNA[i],pCodon[i])\n",
    "        sim_time_gr = list()\n",
    "        sim_time_gr_var=list()\n",
    "        rxn_count_gr = list()\n",
    "\n",
    "        num_tRNA=42\n",
    "        for num_tRNA in np.arange(1,42):\n",
    "            sim_times=list()\n",
    "            rxn_count = list()\n",
    "            N=1\n",
    "            for i in range(N):\n",
    "                rxn = react_sim(rib_num=num_rib,tRNA_cog=num_tRNA,repeatAllowed=True,bias=biasVal)\n",
    "                sim_times.append(rxn[0])\n",
    "                rxn_count.append(rxn[1])\n",
    "            sim_time_gr.append(np.average(sim_times))\n",
    "            rxn_count_gr.append(np.average(rxn_count))\n",
    "            sim_time_gr_var.append(np.std(sim_times)**2)\n",
    "\n",
    "        #print(np.sum(sim_time_gr*weight[1:len(sim_time_gr)+1]))\n",
    "        sim_time_all.append(np.sum(sim_time_gr*weight[1:len(sim_time_gr)+1]))\n",
    "        sim_time_std_all.append(np.sqrt(np.sum((sim_time_gr_var)*weight[1:len(sim_time_gr)+1]))/np.sqrt(num_tRNA*N))\n",
    "    return(sim_time_all, sim_time_std_all)\n"
   ]
  },
  {
   "cell_type": "code",
   "execution_count": 16,
   "metadata": {},
   "outputs": [
    {
     "name": "stdout",
     "output_type": "stream",
     "text": [
      "\n",
      "\n",
      "Bias:  1.0 \n",
      " [79.14024031865034, 26.18976561096002, 36.92989571782509, 18.892068370545875, 41.64414566630463, 29.94246118869325] [0.0, 0.0, 0.0, 0.0, 0.0, 0.0]\n",
      "\n",
      "\n",
      "Bias:  1.5 \n",
      " [28.841027672492608, 21.185798933846616, 18.152208430689843, 37.38669979204903, 16.211336513560738, 38.747425633957185] [0.0, 0.0, 0.0, 0.0, 0.0, 0.0]\n",
      "\n",
      "\n",
      "Bias:  2.0 \n",
      " [14.435442268848012, 4.477420096317717, 5.683607862331867, 10.368006836667513, 18.991186092230468, 14.457323322367664] [0.0, 0.0, 0.0, 0.0, 0.0, 0.0]\n",
      "\n",
      "\n",
      "Bias:  2.5 \n",
      " [13.397459732090105, 6.212588883153846, 5.371462259184476, 3.747078625875562, 10.582430263033032, 8.65473328048251] [0.0, 0.0, 0.0, 0.0, 0.0, 0.0]\n",
      "\n",
      "\n",
      "Bias:  3.0 \n",
      " [42.52768489151247, 6.45936313240319, 7.511722614335014, 6.430322444006015, 20.099249633421696, 7.25205900408136] [0.0, 0.0, 0.0, 0.0, 0.0, 0.0]\n"
     ]
    },
    {
     "ename": "KeyboardInterrupt",
     "evalue": "",
     "output_type": "error",
     "traceback": [
      "\u001b[0;31m---------------------------------------------------------------------------\u001b[0m",
      "\u001b[0;31mKeyboardInterrupt\u001b[0m                         Traceback (most recent call last)",
      "\u001b[0;32m<ipython-input-16-70fad174161f>\u001b[0m in \u001b[0;36m<module>\u001b[0;34m\u001b[0m\n\u001b[1;32m      4\u001b[0m \u001b[0;34m\u001b[0m\u001b[0m\n\u001b[1;32m      5\u001b[0m \u001b[0;32mfor\u001b[0m \u001b[0mbiasVal\u001b[0m \u001b[0;32min\u001b[0m \u001b[0mbias\u001b[0m\u001b[0;34m:\u001b[0m\u001b[0;34m\u001b[0m\u001b[0;34m\u001b[0m\u001b[0m\n\u001b[0;32m----> 6\u001b[0;31m     \u001b[0melongLatency\u001b[0m\u001b[0;34m,\u001b[0m \u001b[0melongLatency_STD\u001b[0m \u001b[0;34m=\u001b[0m \u001b[0mcomputeBiasedElongationLatency\u001b[0m\u001b[0;34m(\u001b[0m\u001b[0mbiasVal\u001b[0m\u001b[0;34m)\u001b[0m\u001b[0;34m\u001b[0m\u001b[0;34m\u001b[0m\u001b[0m\n\u001b[0m\u001b[1;32m      7\u001b[0m     \u001b[0melongLatencyList\u001b[0m\u001b[0;34m.\u001b[0m\u001b[0mappend\u001b[0m\u001b[0;34m(\u001b[0m\u001b[0melongLatency\u001b[0m\u001b[0;34m)\u001b[0m\u001b[0;34m\u001b[0m\u001b[0;34m\u001b[0m\u001b[0m\n\u001b[1;32m      8\u001b[0m     \u001b[0melongLatency_STDlist\u001b[0m\u001b[0;34m.\u001b[0m\u001b[0mappend\u001b[0m\u001b[0;34m(\u001b[0m\u001b[0melongLatency_STD\u001b[0m\u001b[0;34m)\u001b[0m\u001b[0;34m\u001b[0m\u001b[0;34m\u001b[0m\u001b[0m\n",
      "\u001b[0;32m<ipython-input-14-271dc3a8efb6>\u001b[0m in \u001b[0;36mcomputeBiasedElongationLatency\u001b[0;34m(biasVal)\u001b[0m\n\u001b[1;32m     18\u001b[0m             \u001b[0mN\u001b[0m\u001b[0;34m=\u001b[0m\u001b[0;36m1\u001b[0m\u001b[0;34m\u001b[0m\u001b[0;34m\u001b[0m\u001b[0m\n\u001b[1;32m     19\u001b[0m             \u001b[0;32mfor\u001b[0m \u001b[0mi\u001b[0m \u001b[0;32min\u001b[0m \u001b[0mrange\u001b[0m\u001b[0;34m(\u001b[0m\u001b[0mN\u001b[0m\u001b[0;34m)\u001b[0m\u001b[0;34m:\u001b[0m\u001b[0;34m\u001b[0m\u001b[0;34m\u001b[0m\u001b[0m\n\u001b[0;32m---> 20\u001b[0;31m                 \u001b[0mrxn\u001b[0m \u001b[0;34m=\u001b[0m \u001b[0mreact_sim\u001b[0m\u001b[0;34m(\u001b[0m\u001b[0mrib_num\u001b[0m\u001b[0;34m=\u001b[0m\u001b[0mnum_rib\u001b[0m\u001b[0;34m,\u001b[0m\u001b[0mtRNA_cog\u001b[0m\u001b[0;34m=\u001b[0m\u001b[0mnum_tRNA\u001b[0m\u001b[0;34m,\u001b[0m\u001b[0mrepeatAllowed\u001b[0m\u001b[0;34m=\u001b[0m\u001b[0;32mTrue\u001b[0m\u001b[0;34m,\u001b[0m\u001b[0mbias\u001b[0m\u001b[0;34m=\u001b[0m\u001b[0mbiasVal\u001b[0m\u001b[0;34m)\u001b[0m\u001b[0;34m\u001b[0m\u001b[0;34m\u001b[0m\u001b[0m\n\u001b[0m\u001b[1;32m     21\u001b[0m                 \u001b[0msim_times\u001b[0m\u001b[0;34m.\u001b[0m\u001b[0mappend\u001b[0m\u001b[0;34m(\u001b[0m\u001b[0mrxn\u001b[0m\u001b[0;34m[\u001b[0m\u001b[0;36m0\u001b[0m\u001b[0;34m]\u001b[0m\u001b[0;34m)\u001b[0m\u001b[0;34m\u001b[0m\u001b[0;34m\u001b[0m\u001b[0m\n\u001b[1;32m     22\u001b[0m                 \u001b[0mrxn_count\u001b[0m\u001b[0;34m.\u001b[0m\u001b[0mappend\u001b[0m\u001b[0;34m(\u001b[0m\u001b[0mrxn\u001b[0m\u001b[0;34m[\u001b[0m\u001b[0;36m1\u001b[0m\u001b[0;34m]\u001b[0m\u001b[0;34m)\u001b[0m\u001b[0;34m\u001b[0m\u001b[0;34m\u001b[0m\u001b[0m\n",
      "\u001b[0;32m~/Documents/TranslationDynamics/src/analysis_utils.py\u001b[0m in \u001b[0;36mreact_sim\u001b[0;34m(rib_num, tRNA_cog, repeatAllowed, bias)\u001b[0m\n\u001b[1;32m    553\u001b[0m                 \u001b[0mnext_tRNA\u001b[0m \u001b[0;34m=\u001b[0m \u001b[0mnp\u001b[0m\u001b[0;34m.\u001b[0m\u001b[0mrandom\u001b[0m\u001b[0;34m.\u001b[0m\u001b[0mchoice\u001b[0m\u001b[0;34m(\u001b[0m\u001b[0munbound_tRNA_repeattransient\u001b[0m\u001b[0;34m,\u001b[0m\u001b[0msize\u001b[0m\u001b[0;34m=\u001b[0m\u001b[0;36m1\u001b[0m\u001b[0;34m,\u001b[0m\u001b[0mreplace\u001b[0m\u001b[0;34m=\u001b[0m\u001b[0;32mFalse\u001b[0m\u001b[0;34m,\u001b[0m\u001b[0mp\u001b[0m\u001b[0;34m=\u001b[0m\u001b[0mp_cogRib\u001b[0m\u001b[0;34m[\u001b[0m\u001b[0munbound_tRNA_repeattransient\u001b[0m\u001b[0;34m]\u001b[0m\u001b[0;34m/\u001b[0m\u001b[0msum\u001b[0m\u001b[0;34m(\u001b[0m\u001b[0mp_cogRib\u001b[0m\u001b[0;34m[\u001b[0m\u001b[0munbound_tRNA_repeattransient\u001b[0m\u001b[0;34m]\u001b[0m\u001b[0;34m)\u001b[0m\u001b[0;34m)\u001b[0m\u001b[0;34m\u001b[0m\u001b[0;34m\u001b[0m\u001b[0m\n\u001b[1;32m    554\u001b[0m             \u001b[0;32melse\u001b[0m\u001b[0;34m:\u001b[0m\u001b[0;34m\u001b[0m\u001b[0;34m\u001b[0m\u001b[0m\n\u001b[0;32m--> 555\u001b[0;31m                 \u001b[0mnext_tRNA\u001b[0m \u001b[0;34m=\u001b[0m \u001b[0mnp\u001b[0m\u001b[0;34m.\u001b[0m\u001b[0mrandom\u001b[0m\u001b[0;34m.\u001b[0m\u001b[0mchoice\u001b[0m\u001b[0;34m(\u001b[0m\u001b[0munbound_tRNA_repeattransient\u001b[0m\u001b[0;34m,\u001b[0m\u001b[0msize\u001b[0m\u001b[0;34m=\u001b[0m\u001b[0;36m1\u001b[0m\u001b[0;34m,\u001b[0m\u001b[0mreplace\u001b[0m\u001b[0;34m=\u001b[0m\u001b[0;32mFalse\u001b[0m\u001b[0;34m,\u001b[0m\u001b[0mp\u001b[0m\u001b[0;34m=\u001b[0m\u001b[0mp_noncogRib\u001b[0m\u001b[0;34m[\u001b[0m\u001b[0munbound_tRNA_repeattransient\u001b[0m\u001b[0;34m]\u001b[0m\u001b[0;34m/\u001b[0m\u001b[0msum\u001b[0m\u001b[0;34m(\u001b[0m\u001b[0mp_noncogRib\u001b[0m\u001b[0;34m[\u001b[0m\u001b[0munbound_tRNA_repeattransient\u001b[0m\u001b[0;34m]\u001b[0m\u001b[0;34m)\u001b[0m\u001b[0;34m)\u001b[0m\u001b[0;34m\u001b[0m\u001b[0;34m\u001b[0m\u001b[0m\n\u001b[0m\u001b[1;32m    556\u001b[0m \u001b[0;34m\u001b[0m\u001b[0m\n\u001b[1;32m    557\u001b[0m         \u001b[0;32melse\u001b[0m\u001b[0;34m:\u001b[0m\u001b[0;34m\u001b[0m\u001b[0;34m\u001b[0m\u001b[0m\n",
      "\u001b[0;31mKeyboardInterrupt\u001b[0m: "
     ]
    }
   ],
   "source": [
    "elongLatencyList = list()\n",
    "elongLatency_STDlist = list()\n",
    "bias = np.arange(1,10,0.5)\n",
    "\n",
    "for biasVal in bias:\n",
    "    elongLatency, elongLatency_STD = computeBiasedElongationLatency(biasVal)\n",
    "    elongLatencyList.append(elongLatency)\n",
    "    elongLatency_STDlist.append(elongLatency_STD)\n",
    "    print(\"\\n\\nBias: \", biasVal, \"\\n\", elongLatency, elongLatency_STD)"
   ]
  },
  {
   "cell_type": "code",
   "execution_count": null,
   "metadata": {},
   "outputs": [],
   "source": []
  },
  {
   "cell_type": "code",
   "execution_count": null,
   "metadata": {},
   "outputs": [],
   "source": []
  },
  {
   "cell_type": "code",
   "execution_count": null,
   "metadata": {},
   "outputs": [],
   "source": []
  }
 ],
 "metadata": {
  "kernelspec": {
   "display_name": "Python 3",
   "language": "python",
   "name": "python3"
  }
 },
 "nbformat": 4,
 "nbformat_minor": 2
}
