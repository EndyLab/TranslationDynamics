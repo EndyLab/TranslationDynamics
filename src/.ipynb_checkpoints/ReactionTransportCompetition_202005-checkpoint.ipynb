{
 "cells": [
  {
   "cell_type": "code",
   "execution_count": 1,
   "metadata": {},
   "outputs": [
    {
     "name": "stdout",
     "output_type": "stream",
     "text": [
      "missing expt\n",
      "26\n",
      "missing expt\n",
      "89\n",
      "missing expt\n",
      "107\n",
      "(4.9399082568807335, 7.2499012325335475)\n",
      "(2.1987801842170773, 3.8357416001118536)\n",
      "(1.6757985544415948, 2.7901960848850673)\n",
      "(1.3530652418447695, 2.167106754213426)\n",
      "missing expt\n",
      "202\n",
      "missing expt\n",
      "462\n",
      "(1.191013155646677, 1.8060989415414406)\n",
      "(1.081207011315731, 1.6516108974078334)\n",
      "missing expt\n",
      "147\n",
      "(3.3136942675159236, 4.37746634684726)\n",
      "missing expt\n",
      "349\n",
      "missing expt\n",
      "587\n",
      "(1.5402279861225838, 2.386129811538307)\n",
      "missing expt\n",
      "427\n",
      "(1.1036858974358974, 1.7130679492581362)\n",
      "missing expt\n",
      "65\n",
      "missing expt\n",
      "114\n",
      "(0.7843935538592027, 1.2628282679875111)\n",
      "missing expt\n",
      "90\n",
      "(0.6340543758682278, 1.0655436473266633)\n",
      "missing expt\n",
      "85\n",
      "missing expt\n",
      "132\n",
      "missing expt\n",
      "276\n",
      "missing expt\n",
      "390\n",
      "(0.5806032241289651, 0.9766532312937757)\n"
     ]
    }
   ],
   "source": [
    "from analysis_utils import *\n",
    "import matplotlib.pyplot as plt\n",
    "import matplotlib.patches as mpatches\n",
    "import matplotlib as mpl\n",
    "import numpy as np\n",
    "%matplotlib inline\n",
    "%load_ext autoreload\n",
    "%autoreload\n",
    "\n",
    "path = \"/Users/Akshay/Documents/TranslationDynamics/data/\"\n",
    "\n",
    "crowder = list()\n",
    "nocrowder = list()\n",
    "\n",
    "\n",
    "data = \"191003_2140/\"\n",
    "sim_i = countIncorrectRepeatReactions(path+data,6400,19,0,599)\n",
    "print(sim_i)\n",
    "crowder.append(sim_i[0])\n",
    "\n",
    "data = \"191004_0018/\"\n",
    "sim_i = countIncorrectRepeatReactions(path+data,6400,19,0,599)\n",
    "print(sim_i)\n",
    "crowder.append(sim_i[0])\n",
    "\n",
    "data = \"191004_0104/\"\n",
    "sim_i = countIncorrectRepeatReactions(path+data,6400,19,0,599)\n",
    "print(sim_i)\n",
    "crowder.append(sim_i[0])\n",
    "\n",
    "data = \"191004_1129/\"\n",
    "sim_i = countIncorrectRepeatReactions(path+data,6400,19,0,599)\n",
    "print(sim_i)\n",
    "crowder.append(sim_i[0])\n",
    "\n",
    "data = \"191004_1217/\"\n",
    "sim_i = countIncorrectRepeatReactions(path+data,6400,19,0,599)\n",
    "print(sim_i)\n",
    "crowder.append(sim_i[0])\n",
    "\n",
    "\n",
    "data = \"191003_2210/\"\n",
    "sim_i = countIncorrectRepeatReactions(path+data,6400,19,0,599)\n",
    "print(sim_i)\n",
    "crowder.append(sim_i[0])\n",
    "\n",
    "###No crowder.\n",
    "\n",
    "data = \"191009_1223/\"\n",
    "sim_i = countIncorrectRepeatReactions(path+data,6400,19,0,599)\n",
    "print(sim_i)\n",
    "nocrowder.append(sim_i[0])\n",
    "\n",
    "data = \"191009_1256/\"\n",
    "sim_i = countIncorrectRepeatReactions(path+data,6400,19,0,599)\n",
    "print(sim_i)\n",
    "nocrowder.append(sim_i[0])\n",
    "\n",
    "\n",
    "data = \"191009_1333/\"\n",
    "sim_i = countIncorrectRepeatReactions(path+data,6400,19,0,599)\n",
    "print(sim_i)\n",
    "nocrowder.append(sim_i[0])\n",
    "\n",
    "data = \"191009_1410/\"\n",
    "sim_i = countIncorrectRepeatReactions(path+data,6400,19,0,599)\n",
    "print(sim_i)\n",
    "nocrowder.append(sim_i[0])\n",
    "\n",
    "data = \"191009_1447/\"\n",
    "sim_i = countIncorrectRepeatReactions(path+data,6400,19,0,599)\n",
    "print(sim_i)\n",
    "nocrowder.append(sim_i[0])\n",
    "\n",
    "data = \"191007_1601/\"\n",
    "sim_i = countIncorrectRepeatReactions(path+data,6400,19,0,599)\n",
    "print(sim_i)\n",
    "nocrowder.append(sim_i[0])\n"
   ]
  },
  {
   "cell_type": "code",
   "execution_count": 36,
   "metadata": {},
   "outputs": [
    {
     "name": "stdout",
     "output_type": "stream",
     "text": [
      "The autoreload extension is already loaded. To reload it, use:\n",
      "  %reload_ext autoreload\n",
      "(10.363636363636363, 7.654739794553048, [4, 19, 18, 14, 0, 15, 11, 23, 2, 1, 7])\n"
     ]
    },
    {
     "name": "stderr",
     "output_type": "stream",
     "text": [
      "[autoreload of analysis_utils failed: Traceback (most recent call last):\n",
      "  File \"/Users/akshay/opt/anaconda3/lib/python3.7/site-packages/IPython/extensions/autoreload.py\", line 245, in check\n",
      "    superreload(m, reload, self.old_objects)\n",
      "  File \"/Users/akshay/opt/anaconda3/lib/python3.7/site-packages/IPython/extensions/autoreload.py\", line 450, in superreload\n",
      "    update_generic(old_obj, new_obj)\n",
      "  File \"/Users/akshay/opt/anaconda3/lib/python3.7/site-packages/IPython/extensions/autoreload.py\", line 387, in update_generic\n",
      "    update(a, b)\n",
      "  File \"/Users/akshay/opt/anaconda3/lib/python3.7/site-packages/IPython/extensions/autoreload.py\", line 357, in update_class\n",
      "    update_instances(old, new)\n",
      "  File \"/Users/akshay/opt/anaconda3/lib/python3.7/site-packages/IPython/extensions/autoreload.py\", line 280, in update_instances\n",
      "    frame = next(frame_nfo.frame for frame_nfo in inspect.stack()\n",
      "StopIteration\n",
      "]\n"
     ]
    }
   ],
   "source": [
    "from analysis_utils import *\n",
    "import matplotlib.pyplot as plt\n",
    "import matplotlib.patches as mpatches\n",
    "import matplotlib as mpl\n",
    "import numpy as np\n",
    "%matplotlib inline\n",
    "%load_ext autoreload\n",
    "%autoreload\n",
    "data = \"191003_2140/\"\n",
    "sim_i = countIncorrectRepeatReactions(path+data,6400,19,3,5)\n",
    "print(sim_i)\n",
    "crowder.append(sim_i[0])"
   ]
  },
  {
   "cell_type": "code",
   "execution_count": 19,
   "metadata": {},
   "outputs": [
    {
     "name": "stdout",
     "output_type": "stream",
     "text": [
      "The autoreload extension is already loaded. To reload it, use:\n",
      "  %reload_ext autoreload\n"
     ]
    },
    {
     "name": "stderr",
     "output_type": "stream",
     "text": [
      "[autoreload of analysis_utils failed: Traceback (most recent call last):\n",
      "  File \"/Users/akshay/opt/anaconda3/lib/python3.7/site-packages/IPython/extensions/autoreload.py\", line 245, in check\n",
      "    superreload(m, reload, self.old_objects)\n",
      "  File \"/Users/akshay/opt/anaconda3/lib/python3.7/site-packages/IPython/extensions/autoreload.py\", line 450, in superreload\n",
      "    update_generic(old_obj, new_obj)\n",
      "  File \"/Users/akshay/opt/anaconda3/lib/python3.7/site-packages/IPython/extensions/autoreload.py\", line 387, in update_generic\n",
      "    update(a, b)\n",
      "  File \"/Users/akshay/opt/anaconda3/lib/python3.7/site-packages/IPython/extensions/autoreload.py\", line 357, in update_class\n",
      "    update_instances(old, new)\n",
      "  File \"/Users/akshay/opt/anaconda3/lib/python3.7/site-packages/IPython/extensions/autoreload.py\", line 280, in update_instances\n",
      "    frame = next(frame_nfo.frame for frame_nfo in inspect.stack()\n",
      "StopIteration\n",
      "]\n"
     ]
    },
    {
     "name": "stdout",
     "output_type": "stream",
     "text": [
      "(13.547210300429185, 14.03149900475999, [10, 6, 6, 2, 8, 1, 5, 59, 59, 37, 3, 64, 15, 18, 0, 1, 4, 10, 12, 14, 33, 2, 3, 4, 1, 37, 35, 54, 56, 16, 4, 2, 5, 22, 9, 7, 26, 4, 22, 2, 9, 4, 8, 0, 33, 5, 26, 15, 1, 7, 22, 9, 29, 11, 2, 12, 57, 10, 27, 5, 20, 45, 4, 20, 4, 3, 4, 23, 1, 3, 5, 7, 2, 1, 17, 37, 2, 37, 20, 2, 22, 10, 1, 8, 0, 19, 20, 23, 42, 13, 11, 4, 18, 0, 14, 19, 3, 3, 13, 5, 0, 1, 3, 4, 34, 10, 0, 7, 6, 15, 22, 1, 1, 9, 13, 18, 41, 34, 22, 2, 10, 9, 9, 4, 1, 3, 5, 5, 33, 21, 2, 18, 26, 7, 2, 10, 0, 3, 0, 5, 5, 21, 3, 7, 37, 7, 69, 6, 7, 2, 4, 5, 26, 7, 35, 2, 9, 29, 1, 25, 20, 21, 27, 45, 27, 11, 55, 41, 32, 8, 13, 5, 12, 10, 2, 38, 23, 14, 15, 1, 4, 5, 4, 29, 6, 42, 5, 8, 3, 1, 6, 6, 7, 6, 6, 0, 8, 40, 8, 10, 2, 2, 2, 12, 3, 6, 9, 26, 21, 25, 37, 12, 5, 14, 12, 41, 0, 22, 6, 1, 0, 2, 50, 25, 14, 1, 9, 1, 17, 17, 4, 9, 1, 15, 4, 42, 46, 12, 6, 10, 22, 6, 9, 9, 4, 9, 1, 7, 5, 3, 4, 2, 1, 7, 9, 15, 2, 26, 3, 4, 12, 1, 6, 9, 7, 24, 31, 22, 6, 12, 3, 9, 38, 12, 36, 16, 9, 0, 43, 18, 9, 8, 2, 15, 16, 10, 4, 3, 0, 64, 1, 3, 1, 11, 2, 54, 26, 5, 8, 13, 14, 7, 4, 30, 1, 3, 4, 16, 15, 21, 21, 5, 10, 5, 36, 3, 5, 2, 14, 25, 54, 56, 27, 8, 2, 50, 14, 1, 6, 10, 3, 27, 27, 37, 1, 11, 12, 10, 3, 16, 2, 3, 9, 6, 16, 14, 1, 3, 9, 28, 32, 6, 7, 16, 16, 5, 2, 1, 29, 7, 4, 3, 17, 9, 2, 10, 0, 22, 9, 4, 5, 18, 3, 5, 14, 16, 20, 27, 13, 17, 0, 16, 9, 36, 16, 15, 37, 0, 3, 6, 13, 16, 1, 32, 4, 13, 17, 15, 1, 2, 12, 82, 41, 28, 1, 40, 3, 13, 3, 5, 6, 26, 0, 4, 2, 8, 2, 4, 20, 37, 47, 34, 8, 0, 9, 9, 28, 3, 20, 53, 19, 7, 8, 48, 2, 36, 7, 7, 2, 12, 6, 2, 4, 7, 5, 16, 5, 22, 3, 1, 0, 2, 10, 3, 0, 9, 3, 1, 23, 35, 3, 10, 8, 20, 19, 20])\n"
     ]
    }
   ],
   "source": [
    "from analysis_utils import *\n",
    "import matplotlib.pyplot as plt\n",
    "import matplotlib.patches as mpatches\n",
    "import matplotlib as mpl\n",
    "import numpy as np\n",
    "%matplotlib inline\n",
    "%load_ext autoreload\n",
    "%autoreload\n",
    "data = \"191003_2140/\"\n",
    "sim_i = countIncorrectRepeatReactions(path+data,6400,19,300,599)\n",
    "print(sim_i)\n",
    "crowder.append(sim_i[0])"
   ]
  },
  {
   "cell_type": "code",
   "execution_count": null,
   "metadata": {},
   "outputs": [],
   "source": []
  }
 ],
 "metadata": {
  "kernelspec": {
   "display_name": "Python 3",
   "language": "python",
   "name": "python3"
  },
  "language_info": {
   "codemirror_mode": {
    "name": "ipython",
    "version": 3
   },
   "file_extension": ".py",
   "mimetype": "text/x-python",
   "name": "python",
   "nbconvert_exporter": "python",
   "pygments_lexer": "ipython3",
   "version": "3.7.4"
  }
 },
 "nbformat": 4,
 "nbformat_minor": 2
}
