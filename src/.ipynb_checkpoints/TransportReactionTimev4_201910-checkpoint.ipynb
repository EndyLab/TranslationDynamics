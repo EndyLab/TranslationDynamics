{
 "cells": [
  {
   "cell_type": "code",
   "execution_count": 368,
   "metadata": {
    "collapsed": false
   },
   "outputs": [
    {
     "name": "stdout",
     "output_type": "stream",
     "text": [
      "[1.81698810e-01 2.26375354e-01 2.05149119e-01 1.63276820e-01\n",
      " 1.09763272e-01 6.34244524e-02 3.08272598e-02 1.26303438e-02\n",
      " 4.81597043e-03 1.58380185e-03 3.13594212e-04 1.08754999e-04\n",
      " 1.34415643e-05 7.39449416e-06 1.16116816e-05 0.00000000e+00\n",
      " 0.00000000e+00 0.00000000e+00 0.00000000e+00 0.00000000e+00\n",
      " 0.00000000e+00 0.00000000e+00 0.00000000e+00 0.00000000e+00\n",
      " 0.00000000e+00 0.00000000e+00 0.00000000e+00 0.00000000e+00\n",
      " 0.00000000e+00 0.00000000e+00 0.00000000e+00 0.00000000e+00\n",
      " 0.00000000e+00 0.00000000e+00 0.00000000e+00 0.00000000e+00\n",
      " 0.00000000e+00 0.00000000e+00 0.00000000e+00 0.00000000e+00\n",
      " 0.00000000e+00 0.00000000e+00]\n"
     ]
    }
   ],
   "source": [
    "import numpy as np\n",
    "\n",
    "ptRNA = [0.0521, 0.0099, 0.0762, 0.0102, 0.0139, 0.0067, 0.0191, 0.0384, 0.0255, 0.0123, 0.0141,\\\n",
    " 0.0757, 0.0343, 0.0699, 0.0102, 0.0557, 0.0717, 0.0151, 0.0107, 0.0307, \\\n",
    " 0.0165, 0.0309, 0.0113, 0.0166, 0.0144, 0.0115, 0.0093, 0.0035, 0.0208, 0.0055, 0.0226, \\\n",
    " 0.0123, 0.0017, 0.0087, 0.0176, 0.0147, 0.0151, 0.0326, 0.0616,0.0203]\n",
    "ptRNA = np.divide(ptRNA,sum(ptRNA))\n",
    "\n",
    "tRNA_tags = [\"Ala1B\", \"Ala2\", \"Arg2\", \"Arg3\", \"Arg4\", \"Arg5\", \"Asn\", \"Asp1\", \"Cys\", \"Gln1\", \"Gln2\", \\\n",
    "\"Glu2\", \"Gly2\", \"Gly3\", \"His\", \"Ile1\", \"Leu1\", \"Leu2\", \"Leu3\", \"Leu4\", \"Leu5\", \"Lys\", \\\n",
    "\"Met_m\", \"Phe\", \"Pro1\", \"Pro2\", \"Pro3\", \"Sel_Cys\", \"Ser1\", \"Ser2\", \"Ser3\", \"Ser5\", \"Thr1\", \\\n",
    "\"Thr2\", \"Thr3\", \"Thr4\", \"Trp\", \"Tyr1pTyr2\", \"Val1\", \"Val2ApB\"]\n",
    "\n",
    "ptRNA_dict = dict(zip(tRNA_tags, ptRNA))\n",
    "\n",
    "codons_Ec = [\"GGG\", \"GGA\", \"GGU\", \"GGC\", \"GAG\", \"GAA\", \"GAU\", \"GAC\", \"GUG\", \"GUA\", \"GUU\", \\\n",
    "\"GUC\", \"GCG\", \"GCA\", \"GCU\", \"GCC\", \"AGG\", \"AGA\", \"AGU\", \"AGC\", \"AAG\", \"AAA\", \\\n",
    "\"AAU\", \"AAC\", \"AUG\", \"AUA\", \"AUU\", \"AUC\", \"ACG\", \"ACA\", \"ACU\", \"ACC\", \"UGG\", \\\n",
    "\"UGA\", \"UGU\", \"UGC\", \"UAU\", \"UAC\", \"UUG\", \"UUA\", \"UUU\", \"UUC\", \"UCG\", \"UCA\", \\\n",
    "\"UCU\", \"UCC\", \"CGG\", \"CGA\", \"CGU\", \"CGC\", \"CAG\", \"CAA\", \"CAU\", \"CAC\", \"CUG\", \\\n",
    "\"CUA\", \"CUU\", \"CUC\", \"CCG\", \"CCA\", \"CCU\", \"CCC\"]\n",
    "\n",
    "pcodons_Ec =[0.00483, 0.00272, 0.03847, 0.03579, 0.01665, 0.05335, 0.02436, \\\n",
    "0.02885, 0.02150, 0.01594, 0.03146, 0.01130, 0.03047, 0.02223, \\\n",
    "0.02898, 0.01989, 0.00009, 0.00113, 0.00401, 0.01203, 0.01214, \\\n",
    "0.04464, 0.00984, 0.02808, 0.02247, 0.00093, 0.02148, 0.03685, \\\n",
    "0.00757, 0.00350, 0.01394, 0.02663, 0.00981, 0.00031, 0.00425, \\\n",
    "0.00531, 0.01073, 0.01628, 0.00666, 0.00616, 0.01261, 0.02279, \\\n",
    "0.00608, 0.00391, 0.01318, 0.01120, 0.00176, 0.00133, 0.03126, \\\n",
    "0.02235, 0.02938, 0.01024, 0.00927, 0.01396, 0.06041, 0.00216, \\\n",
    "0.00573, 0.00622, 0.02965, 0.00655, 0.00501, 0.00332]\n",
    "pcodons_Ec = np.divide(pcodons_Ec,sum(pcodons_Ec))\n",
    "\n",
    "pcodon_dict = dict(zip(codons_Ec, pcodons_Ec))\n",
    "\n",
    "#Note AUA does not have an assigned tRNA\n",
    "codon_dict={'GGG': ['Gly2'], 'GGA': ['Gly2'], 'GGU': ['Gly3'], 'GGC': ['Gly3'], \\\n",
    "'GAG': ['Glu2'], 'GAA': ['Glu2'], 'GAU': ['Asp1'], 'GAC': ['Asp1'], \\\n",
    "'GUG': ['Val1'], 'GUA': ['Val1'], 'GUU': ['Val1','Val2ApB'], \\\n",
    "'GUC': ['Val2ApB'], 'GCG': ['Ala1B'], 'GCA': ['Ala1B'], 'GCU': ['Ala1B'], \\\n",
    "'GCC': ['Ala2'], 'AGG': ['Arg5'], 'AGA': ['Arg4'], 'AGU': ['Ser3'], \\\n",
    "'AGC': ['Ser3'], 'AAG': ['Lys'], 'AAA': ['Lys'], 'AAU': ['Asn'], \\\n",
    "'AAC': ['Asn'], 'AUG': ['Met_m'], 'AUA': [], 'AUU': ['Ile1'], \\\n",
    "'AUC': ['Ile1'], 'ACG': ['Thr2','Thr4'], 'ACA': ['Thr4'], \\\n",
    "'ACU': ['Thr1','Thr4','Thr3'], 'ACC': ['Thr3','Thr1'], \\\n",
    "'UGG': ['Trp'], 'UGA': ['Sel_Cys'], 'UGU': ['Cys'], 'UGC': ['Cys'], \\\n",
    "'UAU': ['Tyr1pTyr2'], 'UAC': ['Tyr1pTyr2'], 'UUG': ['Leu5','Leu4'], \\\n",
    "'UUA': ['Leu5'], 'UUU': ['Phe'], 'UUC': ['Phe'], 'UCG': ['Ser1','Ser2'], \\\n",
    "'UCA': ['Ser1'], 'UCU': ['Ser5','Ser1'], 'UCC': ['Ser5'], 'CGG': ['Arg3'], \\\n",
    "'CGA': ['Arg2'], 'CGU': ['Arg2'], 'CGC': ['Arg2'], 'CAG': ['Gln2'], \\\n",
    "'CAA': ['Gln1'], 'CAU': ['His'], 'CAC': ['His'], 'CUG': ['Leu1','Leu3'], \\\n",
    "'CUA': ['Leu3'], 'CUU': ['Leu2'], 'CUC': ['Leu2'], 'CCG': ['Pro1','Pro3'], \\\n",
    "'CCA': ['Pro3'], 'CCU': ['Pro2','Pro3'], 'CCC': ['Pro2']}\n",
    "\n",
    "cells = 1\n",
    "TU = 9500*20\n",
    "time = 180\n",
    "tRNA_distrib_arr = list()\n",
    "codon_count = {}\n",
    "codon_time = {}\n",
    "codon_time_avg = {}\n",
    "codon_time_weighted_avg={}\n",
    "codon_count_hist = {}\n",
    "codon_count_hist_weighted_avg = np.zeros(42)\n",
    "p_codon_tRNA = {}\n",
    "\n",
    "for key in codon_dict:\n",
    "    codon_count[key] = []\n",
    "    codon_time[key] = []\n",
    "    codon_time_avg[key] = []\n",
    "    codon_time_weighted_avg[key]=[]\n",
    "    codon_count_hist[key]=[]\n",
    "    p_codon_tRNA[key] = []\n",
    "\n",
    "# Construct dictionary that assigns probability of all tRNA specific to a certain codon\n",
    "# to that codon (p_codon_tRNA)\n",
    "for codon in codon_dict:\n",
    "    p_codon_tRNA_i = 0\n",
    "    for tRNA in codon_dict[codon]:\n",
    "        p_codon_tRNA_i += ptRNA_dict[tRNA]\n",
    "    p_codon_tRNA[codon].append(p_codon_tRNA_i)\n",
    "\n",
    "for cell in range(cells):\n",
    "    # Generate distribution for cognate tRNA count for each codon\n",
    "    for i in range(TU):\n",
    "            \n",
    "        #Construct translation unit with random tRNA (weighted by specific tRNA abundances)\n",
    "        #and 1 random codon (weighted by codon probabilities).\n",
    "        tRNA_vox = list(np.random.choice(tRNA_tags,42,p=ptRNA))\n",
    "        codon_vox = np.random.choice(codons_Ec, 1, p=pcodons_Ec)\n",
    "\n",
    "        #Count how many cognate tRNA appeared in the translation unit (for given codon) and record in codon_count\n",
    "        codon_count_i = 0\n",
    "        for tRNA in codon_dict[codon_vox[0]]:\n",
    "            codon_count_i += tRNA_vox.count(tRNA)\n",
    "        codon_count[codon_vox[0]].append(codon_count_i)\n",
    "    \n",
    "    for codon in codon_count:\n",
    "        #Generate histogram of cognate tRNA counts for each codon\n",
    "        codon_count_hist[codon] = np.histogram(codon_count[codon], bins=np.arange(0,43))[0]\n",
    "        \n",
    "        #Weight histogram by codon probabilities to generate weighted average histogram for all codon\n",
    "        codon_count_hist_weighted_avg += codon_count_hist[codon]*pcodon_dict[codon]\n",
    "    p_codon_count_hist_weighted_avg = codon_count_hist_weighted_avg/sum(codon_count_hist_weighted_avg)\n",
    "    print(p_codon_count_hist_weighted_avg)"
   ]
  },
  {
   "cell_type": "code",
   "execution_count": 369,
   "metadata": {
    "collapsed": false
   },
   "outputs": [
    {
     "name": "stdout",
     "output_type": "stream",
     "text": [
      "0.9496878271185486\n",
      "[1.81698810e-01 2.26375354e-01 2.05149119e-01 1.63276820e-01\n",
      " 1.09763272e-01 6.34244524e-02 3.08272598e-02 1.26303438e-02\n",
      " 4.81597043e-03 1.58380185e-03 3.13594212e-04 1.08754999e-04\n",
      " 1.34415643e-05 7.39449416e-06 1.16116816e-05 0.00000000e+00\n",
      " 0.00000000e+00 0.00000000e+00 0.00000000e+00 0.00000000e+00\n",
      " 0.00000000e+00 0.00000000e+00 0.00000000e+00 0.00000000e+00\n",
      " 0.00000000e+00 0.00000000e+00 0.00000000e+00 0.00000000e+00\n",
      " 0.00000000e+00 0.00000000e+00 0.00000000e+00 0.00000000e+00\n",
      " 0.00000000e+00 0.00000000e+00 0.00000000e+00 0.00000000e+00\n",
      " 0.00000000e+00 0.00000000e+00 0.00000000e+00 0.00000000e+00\n",
      " 0.00000000e+00 0.00000000e+00]\n",
      "2.2135895852261376\n"
     ]
    },
    {
     "data": {
      "image/png": "[encoded data removed]",
      "text/plain": [
       "<Figure size 432x288 with 1 Axes>"
      ]
     },
     "metadata": {
      "needs_background": "light"
     },
     "output_type": "display_data"
    }
   ],
   "source": [
    "from analysis_utils import *\n",
    "import matplotlib.pyplot as plt\n",
    "import matplotlib.patches as mpatches\n",
    "import matplotlib as mpl\n",
    "%matplotlib inline\n",
    "\n",
    "plt.bar(np.arange(0,42),p_codon_count_hist_weighted_avg)\n",
    "plt.xlabel('# of cognate tRNA per TU',fontsize=20)\n",
    "plt.ylabel('Probability',fontsize=20)\n",
    "print(sum(p_codon_count_hist_weighted_avg[0:6]))\n",
    "print(p_codon_count_hist_weighted_avg)\n",
    "print(sum(np.multiply(p_codon_count_hist_weighted_avg,np.arange(0,42))))"
   ]
  },
  {
   "cell_type": "code",
   "execution_count": 370,
   "metadata": {
    "collapsed": false
   },
   "outputs": [
    {
     "name": "stdout",
     "output_type": "stream",
     "text": [
      "The autoreload extension is already loaded. To reload it, use:\n",
      "  %reload_ext autoreload\n"
     ]
    }
   ],
   "source": [
    "from analysis_utils import *\n",
    "%load_ext autoreload\n",
    "%autoreload\n",
    "def transportRxnCalc(gr):\n",
    "    colors = ['darkblue','#D43F3A']\n",
    "    gr_i_list = ['gr_1']\n",
    "    phi_list = [0.13,0.22,0.30,0.36,0.39,0.42]\n",
    "    markers = ['*','^']\n",
    "    transport_phi = list()\n",
    "    reaction_phi = list()\n",
    "    search_phi = list()\n",
    "    transport_std_phi =list()\n",
    "    rxn_std_phi =list()\n",
    "    search_std_phi =list()\n",
    "    for j,gr_i in enumerate(gr_i_list):\n",
    "        transport_vals_list = list()\n",
    "        reaction_vals_list = list()\n",
    "        search_vals_list = list()\n",
    "        transport_std_list = list()\n",
    "        rxn_std_list = list()\n",
    "        search_std_list = list()\n",
    "\n",
    "        for i in range(1,7):\n",
    "            transport_vals = gr[gr_i][i].bootavg_transportT*1000/1608733*p_codon_count_hist_weighted_avg[i]/(1-p_codon_count_hist_weighted_avg[0])\n",
    "            rxn_vals = gr[gr_i][i].bootavg_rxnT*1000/1608733*p_codon_count_hist_weighted_avg[i]/(1-p_codon_count_hist_weighted_avg[0])\n",
    "            search_vals = gr[gr_i][i].bootavg_searchT*1000/1608733*p_codon_count_hist_weighted_avg[i]/(1-p_codon_count_hist_weighted_avg[0])\n",
    "            \n",
    "            transport_std = gr[gr_i][i].bootstd_transportT*1000/1608733*p_codon_count_hist_weighted_avg[i]/(1-p_codon_count_hist_weighted_avg[0])\n",
    "            rxn_std = gr[gr_i][i].bootstd_rxnT*1000/1608733*p_codon_count_hist_weighted_avg[i]/(1-p_codon_count_hist_weighted_avg[0])\n",
    "            search_std = gr[gr_i][i].bootstd_searchT*1000/1608733*p_codon_count_hist_weighted_avg[i]/(1-p_codon_count_hist_weighted_avg[0])\n",
    "\n",
    "            transport_vals_list.append(np.array(transport_vals))\n",
    "            reaction_vals_list.append(np.array(rxn_vals))\n",
    "            search_vals_list.append(np.array(search_vals))\n",
    "            \n",
    "            transport_std_list.append(np.array(transport_std))\n",
    "            rxn_std_list.append(np.array(rxn_std))\n",
    "            search_std_list.append(np.array(search_std))\n",
    "            \n",
    "            search_list.append(np.array(gr[gr_i][i].searchT)*1000/1608733)\n",
    "            \n",
    "        transport_phi.append(np.sum(transport_vals_list))\n",
    "        reaction_phi.append(np.sum(reaction_vals_list))\n",
    "        search_phi.append(np.sum(search_vals_list))\n",
    "        \n",
    "        transport_std_phi.append(np.sum(transport_std_list))\n",
    "        rxn_std_phi.append(np.sum(rxn_std_list))\n",
    "        search_std_phi.append(np.sum(search_std_list))\n",
    "\n",
    "    print(\"Transport time: \", transport_phi, \" +/- \", transport_std_phi)\n",
    "    print(\"Reaction time: \", reaction_phi, \" +/- \", rxn_std_phi)\n",
    "    print(\"Search time: \", search_phi, \" +/- \", search_std_phi)\n",
    "    \n",
    "    return search_list,transport_phi, reaction_phi, search_phi, transport_std_phi,rxn_std_phi,search_std_phi\n",
    "rxndiff=dict()"
   ]
  },
  {
   "cell_type": "code",
   "execution_count": 380,
   "metadata": {
    "collapsed": false
   },
   "outputs": [
    {
     "name": "stdout",
     "output_type": "stream",
     "text": [
      "The autoreload extension is already loaded. To reload it, use:\n",
      "  %reload_ext autoreload\n",
      "test\n",
      "test\n",
      "test\n",
      "test\n",
      "test\n",
      "test\n",
      "Transport time:  [192.45770664404915]  +/-  [17.945555609093603]\n",
      "Reaction time:  [16.136933250232808]  +/-  [2.3184651275431145]\n",
      "Search time:  [208.4710939293031]  +/-  [19.4415857446047]\n",
      "Transport time:  [192.45770664404915]  +/-  [17.945555609093603]\n",
      "Reaction time:  [16.136933250232808]  +/-  [2.3184651275431145]\n",
      "Search time:  [208.4710939293031]  +/-  [19.4415857446047]\n"
     ]
    }
   ],
   "source": [
    "from analysis_utils import *\n",
    "%load_ext autoreload\n",
    "%autoreload\n",
    "path = \"/Users/Akshay/Documents/TranslationDynamics/data/\"\n",
    "\n",
    "data = \"191003_2140/\"\n",
    "gr_sim = dict()\n",
    "\n",
    "for i in range(1,7):\n",
    "    sim_i = computeTransportRxnTimes(path+data, 1e15, 1e15, 100*(i-1),100*(i-1)+100,scaling=200)\n",
    "    gr_sim[i] = (CellLatencies(sim_i))\n",
    "gr_dict = {'gr_1':gr_sim}\n",
    "search_list = transportRxnCalc(gr_dict)[0]\n",
    "rxndiff['06'] = transportRxnCalc(gr_dict)[1:]"
   ]
  },
  {
   "cell_type": "code",
   "execution_count": 381,
   "metadata": {
    "collapsed": false
   },
   "outputs": [
    {
     "name": "stdout",
     "output_type": "stream",
     "text": [
      "The autoreload extension is already loaded. To reload it, use:\n",
      "  %reload_ext autoreload\n",
      "test\n",
      "test\n",
      "test\n",
      "test\n",
      "test\n",
      "test\n",
      "Transport time:  [166.15987869044645]  +/-  [18.748978860964744]\n",
      "Reaction time:  [33.635390715040515]  +/-  [4.401118402214383]\n",
      "Search time:  [200.16143099768658]  +/-  [22.60139710992806]\n",
      "Transport time:  [166.15987869044645]  +/-  [18.748978860964744]\n",
      "Reaction time:  [33.635390715040515]  +/-  [4.401118402214383]\n",
      "Search time:  [200.16143099768658]  +/-  [22.60139710992806]\n"
     ]
    }
   ],
   "source": [
    "from analysis_utils import *\n",
    "%load_ext autoreload\n",
    "%autoreload\n",
    "path = \"/Users/Akshay/Documents/TranslationDynamics/data/\"\n",
    "\n",
    "data = \"191004_0018/\"\n",
    "gr_sim = dict()\n",
    "\n",
    "for i in range(1,7):\n",
    "    sim_i = computeTransportRxnTimes(path+data, 1e15, 1e15, 100*(i-1),100*(i-1)+100,scaling=200)\n",
    "    gr_sim[i] = (CellLatencies(sim_i))\n",
    "\n",
    "\n",
    "gr_dict = {'gr_1':gr_sim}\n",
    "search_list = transportRxnCalc(gr_dict)[0]\n",
    "rxndiff['10'] = transportRxnCalc(gr_dict)[1:]"
   ]
  },
  {
   "cell_type": "code",
   "execution_count": 382,
   "metadata": {
    "collapsed": false
   },
   "outputs": [
    {
     "name": "stdout",
     "output_type": "stream",
     "text": [
      "The autoreload extension is already loaded. To reload it, use:\n",
      "  %reload_ext autoreload\n",
      "test\n",
      "test\n",
      "test\n",
      "test\n",
      "test\n",
      "test\n",
      "Transport time:  [117.60129361309293]  +/-  [12.601113204450678]\n",
      "Reaction time:  [28.057201554849055]  +/-  [3.447157444453627]\n",
      "Search time:  [145.7271431939585]  +/-  [15.645730882193197]\n",
      "Transport time:  [117.60129361309293]  +/-  [12.601113204450678]\n",
      "Reaction time:  [28.057201554849055]  +/-  [3.447157444453627]\n",
      "Search time:  [145.7271431939585]  +/-  [15.645730882193197]\n"
     ]
    }
   ],
   "source": [
    "from analysis_utils import *\n",
    "%load_ext autoreload\n",
    "%autoreload\n",
    "path = \"/Users/Akshay/Documents/TranslationDynamics/data/\"\n",
    "\n",
    "data = \"191004_0104/\"\n",
    "gr_sim = dict()\n",
    "\n",
    "for i in range(1,7):\n",
    "    sim_i = computeTransportRxnTimes(path+data, 1e15, 1e15, 100*(i-1),100*(i-1)+100,scaling=200)\n",
    "    gr_sim[i] = (CellLatencies(sim_i))\n",
    "\n",
    "gr_dict = {'gr_1':gr_sim}\n",
    "search_list = transportRxnCalc(gr_dict)[0]\n",
    "rxndiff['15'] = transportRxnCalc(gr_dict)[1:]"
   ]
  },
  {
   "cell_type": "code",
   "execution_count": 383,
   "metadata": {
    "collapsed": false
   },
   "outputs": [
    {
     "name": "stdout",
     "output_type": "stream",
     "text": [
      "The autoreload extension is already loaded. To reload it, use:\n",
      "  %reload_ext autoreload\n",
      "test\n",
      "test\n",
      "test\n",
      "test\n",
      "test\n",
      "test\n",
      "Transport time:  [85.87396774480305]  +/-  [8.910023505427828]\n",
      "Reaction time:  [20.753494908675872]  +/-  [2.456032433121342]\n",
      "Search time:  [106.71472736447939]  +/-  [11.101957447837044]\n",
      "Transport time:  [85.87396774480305]  +/-  [8.910023505427828]\n",
      "Reaction time:  [20.753494908675872]  +/-  [2.456032433121342]\n",
      "Search time:  [106.71472736447939]  +/-  [11.101957447837044]\n"
     ]
    }
   ],
   "source": [
    "from analysis_utils import *\n",
    "%load_ext autoreload\n",
    "%autoreload\n",
    "path = \"/Users/Akshay/Documents/TranslationDynamics/data/\"\n",
    "\n",
    "data = \"191004_1129/\"\n",
    "gr_sim = dict()\n",
    "\n",
    "for i in range(1,7):\n",
    "    sim_i = computeTransportRxnTimes(path+data, 1e15, 1e15, 100*(i-1),100*(i-1)+100,scaling=200)\n",
    "    gr_sim[i] = (CellLatencies(sim_i))\n",
    "\n",
    "gr_dict = {'gr_1':gr_sim}\n",
    "search_list = transportRxnCalc(gr_dict)[0]\n",
    "rxndiff['20'] = transportRxnCalc(gr_dict)[1:]\n"
   ]
  },
  {
   "cell_type": "code",
   "execution_count": 384,
   "metadata": {
    "collapsed": false
   },
   "outputs": [
    {
     "name": "stdout",
     "output_type": "stream",
     "text": [
      "The autoreload extension is already loaded. To reload it, use:\n",
      "  %reload_ext autoreload\n",
      "test\n",
      "test\n",
      "test\n",
      "missing expt\n",
      "202\n",
      "test\n",
      "test\n",
      "missing expt\n",
      "462\n",
      "test\n",
      "Transport time:  [81.40335524743531]  +/-  [8.188136904286306]\n",
      "Reaction time:  [16.352208488306076]  +/-  [1.7960137024737741]\n",
      "Search time:  [97.76068877746364]  +/-  [9.717954043112325]\n",
      "Transport time:  [81.40335524743531]  +/-  [8.188136904286306]\n",
      "Reaction time:  [16.352208488306076]  +/-  [1.7960137024737741]\n",
      "Search time:  [97.76068877746364]  +/-  [9.717954043112325]\n"
     ]
    }
   ],
   "source": [
    "from analysis_utils import *\n",
    "%load_ext autoreload\n",
    "%autoreload\n",
    "path = \"/Users/Akshay/Documents/TranslationDynamics/data/\"\n",
    "\n",
    "data = \"191004_1217/\"\n",
    "gr_sim = dict()\n",
    "\n",
    "for i in range(1,7):\n",
    "    sim_i = computeTransportRxnTimes(path+data, 1e15, 1e15, 100*(i-1),100*(i-1)+100,scaling=200)\n",
    "    gr_sim[i] = (CellLatencies(sim_i))\n",
    "\n",
    "gr_dict = {'gr_1':gr_sim}\n",
    "search_list = transportRxnCalc(gr_dict)[0]\n",
    "rxndiff['25'] = transportRxnCalc(gr_dict)[1:]\n"
   ]
  },
  {
   "cell_type": "code",
   "execution_count": 385,
   "metadata": {
    "collapsed": false
   },
   "outputs": [
    {
     "name": "stdout",
     "output_type": "stream",
     "text": [
      "The autoreload extension is already loaded. To reload it, use:\n",
      "  %reload_ext autoreload\n",
      "test\n",
      "test\n",
      "test\n",
      "test\n",
      "test\n",
      "test\n",
      "Transport time:  [65.96407115644777]  +/-  [6.610766919911804]\n",
      "Reaction time:  [11.870231399530176]  +/-  [1.5005806176630225]\n",
      "Search time:  [77.87879022946818]  +/-  [7.896168803921212]\n",
      "Transport time:  [65.96407115644777]  +/-  [6.610766919911804]\n",
      "Reaction time:  [11.870231399530176]  +/-  [1.5005806176630225]\n",
      "Search time:  [77.87879022946818]  +/-  [7.896168803921212]\n"
     ]
    }
   ],
   "source": [
    "from analysis_utils import *\n",
    "%load_ext autoreload\n",
    "%autoreload\n",
    "path = \"/Users/Akshay/Documents/TranslationDynamics/data/\"\n",
    "\n",
    "data = \"191003_2210/\"\n",
    "gr_sim = dict()\n",
    "\n",
    "for i in range(1,7):\n",
    "    sim_i = computeTransportRxnTimes(path+data, 1e15, 1e15, 100*(i-1),100*(i-1)+100,scaling=200)\n",
    "    gr_sim[i] = (CellLatencies(sim_i))\n",
    "\n",
    "gr_dict = {'gr_1':gr_sim}\n",
    "search_list = transportRxnCalc(gr_dict)[0]\n",
    "rxndiff['30'] = transportRxnCalc(gr_dict)[1:]\n"
   ]
  },
  {
   "cell_type": "code",
   "execution_count": 386,
   "metadata": {
    "collapsed": false
   },
   "outputs": [
    {
     "data": {
      "text/html": [
       "<style>.container { width:80% !important; }</style>"
      ],
      "text/plain": [
       "<IPython.core.display.HTML object>"
      ]
     },
     "metadata": {},
     "output_type": "display_data"
    },
    {
     "name": "stdout",
     "output_type": "stream",
     "text": [
      "The autoreload extension is already loaded. To reload it, use:\n",
      "  %reload_ext autoreload\n"
     ]
    },
    {
     "data": {
      "image/png": "[encoded data removed]",
      "text/plain": [
       "<Figure size 2016x504 with 7 Axes>"
      ]
     },
     "metadata": {
      "needs_background": "light"
     },
     "output_type": "display_data"
    }
   ],
   "source": [
    "#Figure 3\n",
    "from analysis_utils import *\n",
    "import matplotlib.pyplot as plt\n",
    "import matplotlib.patches as mpatches\n",
    "import matplotlib as mpl\n",
    "from IPython.core.display import display, HTML\n",
    "display(HTML(\"<style>.container { width:80% !important; }</style>\"))\n",
    "\n",
    "%matplotlib inline\n",
    "%load_ext autoreload\n",
    "%autoreload\n",
    "hfont = {'fontname':'Helvetica'}\n",
    "\n",
    "\n",
    "colors = ['darkblue','#D43F3A']\n",
    "gr_i_list = [0.6,1.0,1.5,2.0,2.5,3.0]\n",
    "phi_list = [0.13,0.22,0.30,0.36,0.39,0.42]\n",
    "markers = ['*','^']\n",
    "\n",
    "fig,[ax1,ax2,ax]= plt.subplots(1,3,figsize=(28,7))\n",
    "twin1 = ax1.twiny()\n",
    "twin1a = ax1.twiny()\n",
    "twin2 = ax2.twiny()\n",
    "twin2a = ax2.twiny()\n",
    "\n",
    "for _,axes in enumerate([ax,ax1,ax2,twin1,twin1a,twin2,twin2a]):\n",
    "    axes.spines['left'].set_linewidth(4)\n",
    "    axes.spines['bottom'].set_linewidth(4)\n",
    "    axes.spines['top'].set_linewidth(4)\n",
    "    axes.spines['right'].set_linewidth(4)\n",
    "    axes.tick_params(axis='both', which='major', labelsize=20)\n",
    "    axes.set_xlim(0.1,0.5)\n",
    "    \n",
    "ax1.scatter(phi_list,[rxndiff[d][0][0] for d in rxndiff],zorder=2,s=250,marker='^',color='black',label='Rodnina kinetic parameters')\n",
    "#ax1.plot(phi_list,[rxndiff[d][0][0] for d in rxndiff],zorder=1,linewidth=4,linestyle='dashed',color='black')\n",
    "ax1.errorbar(phi_list,[rxndiff[d][0][0] for d in rxndiff],[rxndiff[d][3][0] for d in rxndiff],zorder=1,linewidth=4,elinewidth=2,linestyle='dashed',color='black')\n",
    "ax1.scatter(phi_list,[rxndiff[d][0][0]/3 for d in rxndiff],zorder=2,s=200,marker='s',color='black',label='Ehrenberg kinetic parameters')\n",
    "#ax1.plot(phi_list,[rxndiff[d][0][0]/3 for d in rxndiff],zorder=1,linewidth=4,linestyle='dashed',color='black')\n",
    "ax1.errorbar(phi_list,[rxndiff[d][0][0]/3 for d in rxndiff],[rxndiff[d][3][0]/3 for d in rxndiff],zorder=1,linewidth=4,elinewidth=2,linestyle='dashed',color='black')\n",
    "ax1.set_xlabel('$\\phi_{ voxel}$',fontsize=25)\n",
    "ax1.set_ylabel(\"Transport time (ms)\",fontsize=25)\n",
    "ax1.legend()\n",
    "ax1.legend( prop={'size': 15})\n",
    "\n",
    "\n",
    "ax2.scatter(phi_list,[rxndiff[d][1][0]+(1000/1529+1000/209+1000/200+1000/32) for d in rxndiff],zorder=2,s=250,marker='^',color='black')\n",
    "#ax2.plot(phi_list,[rxndiff[d][1][0]+(1000/1529+1000/209+1000/200+1000/32) for d in rxndiff],zorder=1,linewidth=4,linestyle='dashed',color='black')\n",
    "ax2.errorbar(phi_list,[rxndiff[d][1][0]+(1000/1529+1000/209+1000/200+1000/32) for d in rxndiff],[rxndiff[d][4][0] for d in rxndiff],zorder=1,linewidth=4,elinewidth=2,linestyle='dashed',color='black')\n",
    "ax2.scatter(phi_list,[rxndiff[d][1][0]/3+(1000/1529+1000/209+1000/200+1000/32) for d in rxndiff],zorder=2,s=200,marker='s',color='black')\n",
    "#ax2.plot(phi_list,[rxndiff[d][1][0]/3+(1000/1529+1000/209+1000/200+1000/32) for d in rxndiff],zorder=1,linewidth=4,linestyle='dashed',color='black')\n",
    "ax2.errorbar(phi_list,[rxndiff[d][1][0]/3+(1000/1529+1000/209+1000/200+1000/32) for d in rxndiff],[rxndiff[d][4][0]/3 for d in rxndiff],zorder=1,linewidth=4,elinewidth=2,linestyle='dashed',color='black')\n",
    "\n",
    "ax2.set_xlabel('$\\phi_{ voxel}$',fontsize=25)\n",
    "ax2.set_ylabel(\"Reaction time(ms)\",fontsize=25)\n",
    "\n",
    "ax.scatter(phi_list,[rxndiff[d][2][0]+(1000/1529+1000/209+1000/200+1000/32) for d in rxndiff],zorder=2,s=250,marker='^',color='black')\n",
    "#ax.plot(phi_list,[rxndiff[d][2][0]+(1000/1529+1000/209+1000/200+1000/32) for d in rxndiff],zorder=1,linewidth=4,linestyle='dashed',color='black')\n",
    "ax.errorbar(phi_list,[rxndiff[d][2][0]+(1000/1529+1000/209+1000/200+1000/32) for d in rxndiff],[rxndiff[d][5][0] for d in rxndiff],zorder=1,linewidth=4,elinewidth=2,linestyle='dashed',color='black')\n",
    "ax.scatter(phi_list,[rxndiff[d][2][0]/3+(1000/1529+1000/209+1000/200+1000/32) for d in rxndiff],zorder=2,s=200,marker='s',color='black')\n",
    "#ax.plot(phi_list,[rxndiff[d][2][0]/3+(1000/1529+1000/209+1000/200+1000/32) for d in rxndiff],zorder=1,linewidth=4,linestyle='dashed',color='black')\n",
    "ax.errorbar(phi_list,[rxndiff[d][2][0]/3+(1000/1529+1000/209+1000/200+1000/32) for d in rxndiff],[rxndiff[d][5][0]/3 for d in rxndiff],zorder=1,linewidth=4,elinewidth=2,linestyle='dashed',color='black')\n",
    "ax.scatter(phi_list,[1000/12,1000/16,1000/18,1000/20,1000/21,1000/22],zorder=2,s=200,marker='o',color='black',label='Empirical bulk elongation')\n",
    "ax.plot(phi_list,[1000/12,1000/16,1000/18,1000/20,1000/21,1000/22],zorder=1,linewidth=4,color='black')\n",
    "ax.set_xlabel('$\\phi_{ voxel}$',fontsize=25)\n",
    "ax.set_ylabel(\"Elongation time (ms)\",fontsize=25)\n",
    "ax.legend()\n",
    "ax.legend( prop={'size': 15})\n",
    "\n",
    "twin1.plot([rxndiff[d][0] for d in rxndiff], [rxndiff[d][0] for d in rxndiff],linewidth=0)\n",
    "twin1.spines['bottom'].set_position(('outward', 75))\n",
    "twin1.xaxis.set_ticks_position(\"bottom\")\n",
    "twin1.xaxis.set_label_position(\"bottom\")\n",
    "twin1.set_xlabel('$Relative\\: Viscosity\\:(η_{r,0})$',fontsize=25)\n",
    "twin1.set_xticks(phi_list)\n",
    "twin1.set_xticklabels([19.9, 27.0, 31.5, 32.4, 31.8, 28.9],rotation=40)\n",
    "\n",
    "twin1a.plot([rxndiff[d][0] for d in rxndiff], [rxndiff[d][0] for d in rxndiff],linewidth=0)\n",
    "twin1a.spines['bottom'].set_position(('outward', 175))\n",
    "twin1a.xaxis.set_ticks_position(\"bottom\")\n",
    "twin1a.xaxis.set_label_position(\"bottom\")\n",
    "twin1a.set_xlabel('$L_{vox}\\:[nm] $',fontsize=25)\n",
    "twin1a.set_xticks(phi_list)\n",
    "twin1a.set_xticklabels([101,93,84,77,72,68])\n",
    "\n",
    "twin2.plot([rxndiff[d][1][0]+(1000/1529+1000/209+1000/200+1000/32) for d in rxndiff], [rxndiff[d][1][0]+(1000/1529+1000/209+1000/200+1000/32) for d in rxndiff],linewidth=0)\n",
    "twin2.spines['bottom'].set_position(('outward', 75))\n",
    "twin2.xaxis.set_ticks_position(\"bottom\")\n",
    "twin2.xaxis.set_label_position(\"bottom\")\n",
    "twin2.set_xlabel('$\\# \\:Ribosomes \\:per \\:voxel$',fontsize=25)\n",
    "twin2.set_xticks(phi_list)\n",
    "twin2.set_xticklabels(np.array([4,8,9,9,8,7]))\n",
    "\n",
    "\n",
    "twin2a.plot([rxndiff[d][1][0]+(1000/1529+1000/209+1000/200+1000/32) for d in rxndiff], [rxndiff[d][1][0]+(1000/1529+1000/209+1000/200+1000/32) for d in rxndiff],linewidth=0)\n",
    "twin2a.spines['bottom'].set_position(('outward', 150))\n",
    "twin2a.xaxis.set_ticks_position(\"bottom\")\n",
    "twin2a.xaxis.set_label_position(\"bottom\")\n",
    "twin2a.set_xticks(phi_list)\n",
    "twin2a.set_xlabel('$\\u25A0\\:\\phi_{crowder}/\\phi_{ribosome}$',fontsize=25)\n",
    "twin2a.set_xticklabels(np.array([round(0.06434998409146828/0.0322,2),round(0.08752983986220697/0.0909,2),round(0.10039264723107891/0.141,2),round(0.10253311875190417/0.175,2),round(0.09787505368673738/0.200,2),round(0.0886440269099349/0.218,2)])\n",
    ",rotation=40);\n",
    "#the secondary rise in transport time could be because the\n",
    "#decrease in crowding is reducing facilitiated mixing of \n",
    "#not only cognate away from incorrect repeats,\n",
    "#but also incorrect cognates repeat reacting and blocking the cognate ribosome!\n",
    "#I should also get a graph to show that cognate blocking point. Can compare the \n",
    "#2nd and 5th point which have same ribosomes, but 2nd has more crowders (though)\n",
    "#different voxel size. 2nd maybe faster bcz facilitated mixing\n",
    "\n",
    "#plt.text(0.66,38,'$\\u25B2\\:$',fontsize=22)\n",
    "#plt.text(0.68,37.8,'Rodnina kinetic parameters',style='italic',fontsize=20)\n",
    "#plt.text(0.659,36,'$\\u25A0\\:$',fontsize=20)\n",
    "#plt.text(0.679,35.8,'Ehrenberg kinetic parameters',style='italic',fontsize=20)\n",
    "#plt.text(0.659,34,'$\\u25CF\\:$',fontsize=22)\n",
    "#plt.text(0.679,33.9,'Experimental bulk rate',style='italic',fontsize=20)"
   ]
  },
  {
   "cell_type": "code",
   "execution_count": null,
   "metadata": {
    "collapsed": false
   },
   "outputs": [],
   "source": []
  },
  {
   "cell_type": "code",
   "execution_count": 394,
   "metadata": {
    "collapsed": false
   },
   "outputs": [
    {
     "name": "stdout",
     "output_type": "stream",
     "text": [
      "The autoreload extension is already loaded. To reload it, use:\n",
      "  %reload_ext autoreload\n",
      "test\n",
      "test\n",
      "test\n",
      "test\n",
      "test\n",
      "test\n",
      "Transport time:  [127.65269904902661]  +/-  [12.700788865256639]\n",
      "Reaction time:  [22.80229350514312]  +/-  [2.6264601190442693]\n",
      "Search time:  [150.62293867624376]  +/-  [14.945610618653161]\n",
      "Transport time:  [127.65269904902661]  +/-  [12.700788865256639]\n",
      "Reaction time:  [22.80229350514312]  +/-  [2.6264601190442693]\n",
      "Search time:  [150.62293867624376]  +/-  [14.945610618653161]\n",
      "test\n",
      "test\n",
      "test\n",
      "test\n",
      "test\n",
      "test\n",
      "Transport time:  [63.93449367946067]  +/-  [6.486514305198966]\n",
      "Reaction time:  [10.907475534787354]  +/-  [1.2634902465996656]\n",
      "Search time:  [74.91764125474302]  +/-  [7.608078550314477]\n",
      "Transport time:  [63.93449367946067]  +/-  [6.486514305198966]\n",
      "Reaction time:  [10.907475534787354]  +/-  [1.2634902465996656]\n",
      "Search time:  [74.91764125474302]  +/-  [7.608078550314477]\n",
      "test\n",
      "test\n",
      "test\n",
      "test\n",
      "test\n",
      "test\n",
      "Transport time:  [61.14845244522715]  +/-  [6.881787086109099]\n",
      "Reaction time:  [10.215053602344508]  +/-  [1.3479833167732196]\n",
      "Search time:  [71.38095424135439]  +/-  [8.010271608469592]\n",
      "Transport time:  [61.14845244522715]  +/-  [6.881787086109099]\n",
      "Reaction time:  [10.215053602344508]  +/-  [1.3479833167732196]\n",
      "Search time:  [71.38095424135439]  +/-  [8.010271608469592]\n",
      "test\n",
      "test\n",
      "test\n",
      "test\n",
      "test\n",
      "test\n",
      "Transport time:  [71.08865039048895]  +/-  [7.046911278991772]\n",
      "Reaction time:  [11.566812262742136]  +/-  [1.3157547694291383]\n",
      "Search time:  [82.67108258789202]  +/-  [8.108648786361897]\n",
      "Transport time:  [71.08865039048895]  +/-  [7.046911278991772]\n",
      "Reaction time:  [11.566812262742136]  +/-  [1.3157547694291383]\n",
      "Search time:  [82.67108258789202]  +/-  [8.108648786361897]\n",
      "test\n",
      "missing expt\n",
      "58\n",
      "test\n",
      "test\n",
      "test\n",
      "test\n",
      "test\n",
      "Transport time:  [57.815701544753665]  +/-  [5.986962866556372]\n",
      "Reaction time:  [10.434621604134247]  +/-  [1.2423276283572837]\n",
      "Search time:  [68.20135298401176]  +/-  [7.065367293247443]\n",
      "Transport time:  [57.815701544753665]  +/-  [5.986962866556372]\n",
      "Reaction time:  [10.434621604134247]  +/-  [1.2423276283572837]\n",
      "Search time:  [68.20135298401176]  +/-  [7.065367293247443]\n"
     ]
    }
   ],
   "source": [
    "from analysis_utils import *\n",
    "%load_ext autoreload\n",
    "%autoreload\n",
    "path = \"/Users/Akshay/Documents/TranslationDynamics/data/\"\n",
    "\n",
    "data = \"190916_1101/\"\n",
    "gr_sim = dict()\n",
    "rxndiff_1=dict()\n",
    "\n",
    "for i in range(1,7):\n",
    "    sim_i = computeTransportRxnTimes(path+data, 1e15, 1e15, 100*(i-1),100*(i-1)+100,scaling=1000)\n",
    "    gr_sim[i] = (CellLatencies(sim_i))\n",
    "\n",
    "gr_dict = {'gr_1':gr_sim}\n",
    "transportRxnCalc(gr_dict)\n",
    "rxndiff_1['3000'] = transportRxnCalc(gr_dict)[1:]\n",
    "\n",
    "data = \"190917_0105/\"\n",
    "gr_sim = dict()\n",
    "\n",
    "for i in range(1,7):\n",
    "    sim_i = computeTransportRxnTimes(path+data, 1e15, 1e15, 100*(i-1),100*(i-1)+100,scaling=200)\n",
    "    gr_sim[i] = (CellLatencies(sim_i))\n",
    "\n",
    "gr_dict = {'gr_1':gr_sim}\n",
    "transportRxnCalc(gr_dict)\n",
    "rxndiff_1['600'] = transportRxnCalc(gr_dict)[1:]\n",
    "\n",
    "\n",
    "data = \"190918_1046/\"\n",
    "gr_sim = dict()\n",
    "\n",
    "for i in range(1,7):\n",
    "    sim_i = computeTransportRxnTimes(path+data, 1e15, 1e15, 100*(i-1),100*(i-1)+100,scaling=100)\n",
    "    gr_sim[i] = (CellLatencies(sim_i))\n",
    "\n",
    "gr_dict = {'gr_1':gr_sim}\n",
    "transportRxnCalc(gr_dict)\n",
    "rxndiff_1['300'] = transportRxnCalc(gr_dict)[1:]\n",
    "\n",
    "data = \"190921_2357/\"\n",
    "gr_sim = dict()\n",
    "\n",
    "for i in range(1,7):\n",
    "    sim_i = computeTransportRxnTimes(path+data, 1e15, 1e15, 100*(i-1),100*(i-1)+100,scaling=20)\n",
    "    gr_sim[i] = (CellLatencies(sim_i))\n",
    "\n",
    "gr_dict = {'gr_1':gr_sim}\n",
    "transportRxnCalc(gr_dict)\n",
    "rxndiff_1['600'] = transportRxnCalc(gr_dict)[1:]\n",
    "\n",
    "\n",
    "data = \"190921_2258/\"\n",
    "gr_sim = dict()\n",
    "\n",
    "for i in range(1,7):\n",
    "    sim_i = computeTransportRxnTimes(path+data, 1e15, 1e15, 100*(i-1),100*(i-1)+100,scaling=10)\n",
    "    gr_sim[i] = (CellLatencies(sim_i))\n",
    "    \n",
    "gr_dict = {'gr_1':gr_sim}\n",
    "transportRxnCalc(gr_dict)\n",
    "rxndiff_1['30'] = transportRxnCalc(gr_dict)[1:]"
   ]
  },
  {
   "cell_type": "code",
   "execution_count": null,
   "metadata": {
    "collapsed": false
   },
   "outputs": [],
   "source": [
    "fig, ax = plt.subplots(1,1,figsize=(12,10))\n",
    "x=[0.132,0.224,0.302,0.356,0.395,0.423]\n",
    "y_model,SS_err,_,_,_ = np.polyfit(x,[1000/12,1000/16,1000/18,1000/20,1000/21,1000/22],2,full=True)\n",
    "y_hat = np.polyval(y_model,x)\n",
    "x_sweep_i = np.linspace(min(x),max(x),1000)\n",
    "y_hat_sweep_i = np.polyval(y_model, x_sweep_i)\n",
    "ax.plot(x,np.array([45,45,45,45,45,45]+np.array([1000/1529+1000/209+1000/200+1000/32])),marker='^',markersize=12,markeredgewidth=5,linewidth=5,color='black',linestyle='dashed',label='Rodnina kinetic parameters')\n",
    "ax.plot(x,np.array([45/3,45/3,45/3,45/3,45/3,45/3]+np.array([1000/1529+1000/209+1000/200+1000/32])),marker='s',markersize=12,markeredgewidth=5,linewidth=5,color='black',linestyle='dashed',label='Ehrenberg kinetic parameters')\n",
    "ax.plot(x_sweep_i,y_hat_sweep_i,marker='o',markersize=12,markeredgewidth=5,markevery=199,linewidth=5,color='black',label='Empirical bulk elongation')\n",
    "\n",
    "ax.tick_params(axis='both', which='major',width=4, labelsize=30)\n",
    "ax.set_xlim(0.09,0.51)\n",
    "ax.set_ylim(40,100)\n",
    "ax.spines['left'].set_linewidth(4)\n",
    "ax.spines['bottom'].set_linewidth(4)\n",
    "ax.spines['top'].set_linewidth(4)\n",
    "ax.spines['right'].set_linewidth(4)\n",
    "ax.set_xlabel('$\\phi_{voxel}$',size=45,color='black')\n",
    "ax.set_ylabel('Elongation time (ms)',size=45,color='black')\n",
    "ax.legend()\n",
    "ax.legend( prop={'size': 20})\n",
    "plt.title('Simulations with instant self-mixing',size=40,pad=30)\n",
    "\n",
    "#Super-physical simulations"
   ]
  },
  {
   "cell_type": "code",
   "execution_count": 391,
   "metadata": {
    "collapsed": false
   },
   "outputs": [
    {
     "ename": "NameError",
     "evalue": "name 'rxndiff_1' is not defined",
     "output_type": "error",
     "traceback": [
      "\u001b[0;31m---------------------------------------------------------------------------\u001b[0m",
      "\u001b[0;31mNameError\u001b[0m                                 Traceback (most recent call last)",
      "\u001b[0;32m<ipython-input-391-8517b4d7ae10>\u001b[0m in \u001b[0;36m<module>\u001b[0;34m\u001b[0m\n\u001b[0;32m----> 1\u001b[0;31m \u001b[0;34m[\u001b[0m\u001b[0mrxndiff_1\u001b[0m\u001b[0;34m[\u001b[0m\u001b[0md\u001b[0m\u001b[0;34m]\u001b[0m\u001b[0;34m[\u001b[0m\u001b[0;36m0\u001b[0m\u001b[0;34m]\u001b[0m \u001b[0;32mfor\u001b[0m \u001b[0md\u001b[0m \u001b[0;32min\u001b[0m \u001b[0mrxndiff_1\u001b[0m\u001b[0;34m]\u001b[0m\u001b[0;34m\u001b[0m\u001b[0;34m\u001b[0m\u001b[0m\n\u001b[0m",
      "\u001b[0;31mNameError\u001b[0m: name 'rxndiff_1' is not defined"
     ]
    }
   ],
   "source": [
    "[rxndiff_1[d][0] for d in rxndiff_1]"
   ]
  },
  {
   "cell_type": "code",
   "execution_count": 393,
   "metadata": {
    "collapsed": false
   },
   "outputs": [
    {
     "ename": "NameError",
     "evalue": "name 'rxndiff_1' is not defined",
     "output_type": "error",
     "traceback": [
      "\u001b[0;31m---------------------------------------------------------------------------\u001b[0m",
      "\u001b[0;31mNameError\u001b[0m                                 Traceback (most recent call last)",
      "\u001b[0;32m<ipython-input-393-2568e22181d8>\u001b[0m in \u001b[0;36m<module>\u001b[0;34m\u001b[0m\n\u001b[0;32m----> 1\u001b[0;31m \u001b[0mrxndiff_1\u001b[0m\u001b[0;34m\u001b[0m\u001b[0;34m\u001b[0m\u001b[0m\n\u001b[0m",
      "\u001b[0;31mNameError\u001b[0m: name 'rxndiff_1' is not defined"
     ]
    }
   ],
   "source": [
    "rxndiff_1"
   ]
  },
  {
   "cell_type": "code",
   "execution_count": null,
   "metadata": {
    "collapsed": false,
    "scrolled": false
   },
   "outputs": [],
   "source": []
  },
  {
   "cell_type": "code",
   "execution_count": null,
   "metadata": {
    "collapsed": false
   },
   "outputs": [],
   "source": []
  },
  {
   "cell_type": "code",
   "execution_count": null,
   "metadata": {
    "collapsed": true
   },
   "outputs": [],
   "source": []
  }
 ],
 "metadata": {
  "kernelspec": {
   "display_name": "Python 3",
   "language": "python",
   "name": "python3"
  },
  "language_info": {
   "codemirror_mode": {
    "name": "ipython",
    "version": 3
   },
   "file_extension": ".py",
   "mimetype": "text/x-python",
   "name": "python",
   "nbconvert_exporter": "python",
   "pygments_lexer": "ipython3",
   "version": "3.6.7"
  }
 },
 "nbformat": 4,
 "nbformat_minor": 2
}
