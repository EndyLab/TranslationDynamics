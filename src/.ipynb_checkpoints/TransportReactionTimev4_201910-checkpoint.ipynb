{
 "cells": [
  {
   "cell_type": "code",
   "execution_count": 1,
   "metadata": {
    "collapsed": false
   },
   "outputs": [
    {
     "name": "stdout",
     "output_type": "stream",
     "text": [
      "[1.81804236e-01 2.27135432e-01 2.05335854e-01 1.62387602e-01\n",
      " 1.09817022e-01 6.40669659e-02 3.05221613e-02 1.27451381e-02\n",
      " 4.33793834e-03 1.35287323e-03 3.70265311e-04 5.29162163e-05\n",
      " 4.09367841e-05 1.90315916e-05 1.16272092e-05 0.00000000e+00\n",
      " 0.00000000e+00 0.00000000e+00 0.00000000e+00 0.00000000e+00\n",
      " 0.00000000e+00 0.00000000e+00 0.00000000e+00 0.00000000e+00\n",
      " 0.00000000e+00 0.00000000e+00 0.00000000e+00 0.00000000e+00\n",
      " 0.00000000e+00 0.00000000e+00 0.00000000e+00 0.00000000e+00\n",
      " 0.00000000e+00 0.00000000e+00 0.00000000e+00 0.00000000e+00\n",
      " 0.00000000e+00 0.00000000e+00 0.00000000e+00 0.00000000e+00\n",
      " 0.00000000e+00 0.00000000e+00]\n"
     ]
    }
   ],
   "source": [
    "import numpy as np\n",
    "\n",
    "ptRNA = [0.0521, 0.0099, 0.0762, 0.0102, 0.0139, 0.0067, 0.0191, 0.0384, 0.0255, 0.0123, 0.0141,\\\n",
    " 0.0757, 0.0343, 0.0699, 0.0102, 0.0557, 0.0717, 0.0151, 0.0107, 0.0307, \\\n",
    " 0.0165, 0.0309, 0.0113, 0.0166, 0.0144, 0.0115, 0.0093, 0.0035, 0.0208, 0.0055, 0.0226, \\\n",
    " 0.0123, 0.0017, 0.0087, 0.0176, 0.0147, 0.0151, 0.0326, 0.0616,0.0203]\n",
    "ptRNA = np.divide(ptRNA,sum(ptRNA))\n",
    "\n",
    "tRNA_tags = [\"Ala1B\", \"Ala2\", \"Arg2\", \"Arg3\", \"Arg4\", \"Arg5\", \"Asn\", \"Asp1\", \"Cys\", \"Gln1\", \"Gln2\", \\\n",
    "\"Glu2\", \"Gly2\", \"Gly3\", \"His\", \"Ile1\", \"Leu1\", \"Leu2\", \"Leu3\", \"Leu4\", \"Leu5\", \"Lys\", \\\n",
    "\"Met_m\", \"Phe\", \"Pro1\", \"Pro2\", \"Pro3\", \"Sel_Cys\", \"Ser1\", \"Ser2\", \"Ser3\", \"Ser5\", \"Thr1\", \\\n",
    "\"Thr2\", \"Thr3\", \"Thr4\", \"Trp\", \"Tyr1pTyr2\", \"Val1\", \"Val2ApB\"]\n",
    "\n",
    "ptRNA_dict = dict(zip(tRNA_tags, ptRNA))\n",
    "\n",
    "codons_Ec = [\"GGG\", \"GGA\", \"GGU\", \"GGC\", \"GAG\", \"GAA\", \"GAU\", \"GAC\", \"GUG\", \"GUA\", \"GUU\", \\\n",
    "\"GUC\", \"GCG\", \"GCA\", \"GCU\", \"GCC\", \"AGG\", \"AGA\", \"AGU\", \"AGC\", \"AAG\", \"AAA\", \\\n",
    "\"AAU\", \"AAC\", \"AUG\", \"AUA\", \"AUU\", \"AUC\", \"ACG\", \"ACA\", \"ACU\", \"ACC\", \"UGG\", \\\n",
    "\"UGA\", \"UGU\", \"UGC\", \"UAU\", \"UAC\", \"UUG\", \"UUA\", \"UUU\", \"UUC\", \"UCG\", \"UCA\", \\\n",
    "\"UCU\", \"UCC\", \"CGG\", \"CGA\", \"CGU\", \"CGC\", \"CAG\", \"CAA\", \"CAU\", \"CAC\", \"CUG\", \\\n",
    "\"CUA\", \"CUU\", \"CUC\", \"CCG\", \"CCA\", \"CCU\", \"CCC\"]\n",
    "\n",
    "pcodons_Ec =[0.00483, 0.00272, 0.03847, 0.03579, 0.01665, 0.05335, 0.02436, \\\n",
    "0.02885, 0.02150, 0.01594, 0.03146, 0.01130, 0.03047, 0.02223, \\\n",
    "0.02898, 0.01989, 0.00009, 0.00113, 0.00401, 0.01203, 0.01214, \\\n",
    "0.04464, 0.00984, 0.02808, 0.02247, 0.00093, 0.02148, 0.03685, \\\n",
    "0.00757, 0.00350, 0.01394, 0.02663, 0.00981, 0.00031, 0.00425, \\\n",
    "0.00531, 0.01073, 0.01628, 0.00666, 0.00616, 0.01261, 0.02279, \\\n",
    "0.00608, 0.00391, 0.01318, 0.01120, 0.00176, 0.00133, 0.03126, \\\n",
    "0.02235, 0.02938, 0.01024, 0.00927, 0.01396, 0.06041, 0.00216, \\\n",
    "0.00573, 0.00622, 0.02965, 0.00655, 0.00501, 0.00332]\n",
    "pcodons_Ec = np.divide(pcodons_Ec,sum(pcodons_Ec))\n",
    "\n",
    "pcodon_dict = dict(zip(codons_Ec, pcodons_Ec))\n",
    "\n",
    "#Note AUA does not have an assigned tRNA\n",
    "codon_dict={'GGG': ['Gly2'], 'GGA': ['Gly2'], 'GGU': ['Gly3'], 'GGC': ['Gly3'], \\\n",
    "'GAG': ['Glu2'], 'GAA': ['Glu2'], 'GAU': ['Asp1'], 'GAC': ['Asp1'], \\\n",
    "'GUG': ['Val1'], 'GUA': ['Val1'], 'GUU': ['Val1','Val2ApB'], \\\n",
    "'GUC': ['Val2ApB'], 'GCG': ['Ala1B'], 'GCA': ['Ala1B'], 'GCU': ['Ala1B'], \\\n",
    "'GCC': ['Ala2'], 'AGG': ['Arg5'], 'AGA': ['Arg4'], 'AGU': ['Ser3'], \\\n",
    "'AGC': ['Ser3'], 'AAG': ['Lys'], 'AAA': ['Lys'], 'AAU': ['Asn'], \\\n",
    "'AAC': ['Asn'], 'AUG': ['Met_m'], 'AUA': [], 'AUU': ['Ile1'], \\\n",
    "'AUC': ['Ile1'], 'ACG': ['Thr2','Thr4'], 'ACA': ['Thr4'], \\\n",
    "'ACU': ['Thr1','Thr4','Thr3'], 'ACC': ['Thr3','Thr1'], \\\n",
    "'UGG': ['Trp'], 'UGA': ['Sel_Cys'], 'UGU': ['Cys'], 'UGC': ['Cys'], \\\n",
    "'UAU': ['Tyr1pTyr2'], 'UAC': ['Tyr1pTyr2'], 'UUG': ['Leu5','Leu4'], \\\n",
    "'UUA': ['Leu5'], 'UUU': ['Phe'], 'UUC': ['Phe'], 'UCG': ['Ser1','Ser2'], \\\n",
    "'UCA': ['Ser1'], 'UCU': ['Ser5','Ser1'], 'UCC': ['Ser5'], 'CGG': ['Arg3'], \\\n",
    "'CGA': ['Arg2'], 'CGU': ['Arg2'], 'CGC': ['Arg2'], 'CAG': ['Gln2'], \\\n",
    "'CAA': ['Gln1'], 'CAU': ['His'], 'CAC': ['His'], 'CUG': ['Leu1','Leu3'], \\\n",
    "'CUA': ['Leu3'], 'CUU': ['Leu2'], 'CUC': ['Leu2'], 'CCG': ['Pro1','Pro3'], \\\n",
    "'CCA': ['Pro3'], 'CCU': ['Pro2','Pro3'], 'CCC': ['Pro2']}\n",
    "\n",
    "cells = 1\n",
    "TU = 9500*20\n",
    "time = 180\n",
    "tRNA_distrib_arr = list()\n",
    "codon_count = {}\n",
    "codon_time = {}\n",
    "codon_time_avg = {}\n",
    "codon_time_weighted_avg={}\n",
    "codon_count_hist = {}\n",
    "codon_count_hist_weighted_avg = np.zeros(42)\n",
    "p_codon_tRNA = {}\n",
    "\n",
    "for key in codon_dict:\n",
    "    codon_count[key] = []\n",
    "    codon_time[key] = []\n",
    "    codon_time_avg[key] = []\n",
    "    codon_time_weighted_avg[key]=[]\n",
    "    codon_count_hist[key]=[]\n",
    "    p_codon_tRNA[key] = []\n",
    "\n",
    "# Construct dictionary that assigns probability of all tRNA specific to a certain codon\n",
    "# to that codon (p_codon_tRNA)\n",
    "for codon in codon_dict:\n",
    "    p_codon_tRNA_i = 0\n",
    "    for tRNA in codon_dict[codon]:\n",
    "        p_codon_tRNA_i += ptRNA_dict[tRNA]\n",
    "    p_codon_tRNA[codon].append(p_codon_tRNA_i)\n",
    "\n",
    "for cell in range(cells):\n",
    "    # Generate distribution for cognate tRNA count for each codon\n",
    "    for i in range(TU):\n",
    "            \n",
    "        #Construct translation unit with random tRNA (weighted by specific tRNA abundances)\n",
    "        #and 1 random codon (weighted by codon probabilities).\n",
    "        tRNA_vox = list(np.random.choice(tRNA_tags,42,p=ptRNA))\n",
    "        codon_vox = np.random.choice(codons_Ec, 1, p=pcodons_Ec)\n",
    "\n",
    "        #Count how many cognate tRNA appeared in the translation unit (for given codon) and record in codon_count\n",
    "        codon_count_i = 0\n",
    "        for tRNA in codon_dict[codon_vox[0]]:\n",
    "            codon_count_i += tRNA_vox.count(tRNA)\n",
    "        codon_count[codon_vox[0]].append(codon_count_i)\n",
    "    \n",
    "    for codon in codon_count:\n",
    "        #Generate histogram of cognate tRNA counts for each codon\n",
    "        codon_count_hist[codon] = np.histogram(codon_count[codon], bins=np.arange(0,43))[0]\n",
    "        \n",
    "        #Weight histogram by codon probabilities to generate weighted average histogram for all codon\n",
    "        codon_count_hist_weighted_avg += codon_count_hist[codon]*pcodon_dict[codon]\n",
    "    p_codon_count_hist_weighted_avg = codon_count_hist_weighted_avg/sum(codon_count_hist_weighted_avg)\n",
    "    print(p_codon_count_hist_weighted_avg)"
   ]
  },
  {
   "cell_type": "code",
   "execution_count": 2,
   "metadata": {
    "collapsed": false
   },
   "outputs": [
    {
     "name": "stdout",
     "output_type": "stream",
     "text": [
      "0.9505471118714871\n",
      "[1.81804236e-01 2.27135432e-01 2.05335854e-01 1.62387602e-01\n",
      " 1.09817022e-01 6.40669659e-02 3.05221613e-02 1.27451381e-02\n",
      " 4.33793834e-03 1.35287323e-03 3.70265311e-04 5.29162163e-05\n",
      " 4.09367841e-05 1.90315916e-05 1.16272092e-05 0.00000000e+00\n",
      " 0.00000000e+00 0.00000000e+00 0.00000000e+00 0.00000000e+00\n",
      " 0.00000000e+00 0.00000000e+00 0.00000000e+00 0.00000000e+00\n",
      " 0.00000000e+00 0.00000000e+00 0.00000000e+00 0.00000000e+00\n",
      " 0.00000000e+00 0.00000000e+00 0.00000000e+00 0.00000000e+00\n",
      " 0.00000000e+00 0.00000000e+00 0.00000000e+00 0.00000000e+00\n",
      " 0.00000000e+00 0.00000000e+00 0.00000000e+00 0.00000000e+00\n",
      " 0.00000000e+00 0.00000000e+00]\n"
     ]
    },
    {
     "data": {
      "image/png": "[encoded data removed]",
      "text/plain": [
       "<Figure size 432x288 with 1 Axes>"
      ]
     },
     "metadata": {
      "needs_background": "light"
     },
     "output_type": "display_data"
    }
   ],
   "source": [
    "from analysis_utils import *\n",
    "import matplotlib.pyplot as plt\n",
    "import matplotlib.patches as mpatches\n",
    "import matplotlib as mpl\n",
    "%matplotlib inline\n",
    "\n",
    "plt.bar(np.arange(0,42),p_codon_count_hist_weighted_avg)\n",
    "plt.xlabel('# of cognate tRNA per TU',fontsize=20)\n",
    "plt.ylabel('Probability',fontsize=20)\n",
    "print(sum(p_codon_count_hist_weighted_avg[0:6]))\n",
    "print(p_codon_count_hist_weighted_avg)"
   ]
  },
  {
   "cell_type": "code",
   "execution_count": 194,
   "metadata": {
    "collapsed": false
   },
   "outputs": [
    {
     "name": "stdout",
     "output_type": "stream",
     "text": [
      "The autoreload extension is already loaded. To reload it, use:\n",
      "  %reload_ext autoreload\n"
     ]
    }
   ],
   "source": [
    "from analysis_utils import *\n",
    "%load_ext autoreload\n",
    "%autoreload\n",
    "def transportRxnCalc(gr):\n",
    "    colors = ['darkblue','#D43F3A']\n",
    "    gr_i_list = ['gr_1']\n",
    "    phi_list = [0.13,0.22,0.30,0.36,0.39,0.42]\n",
    "    markers = ['*','^']\n",
    "    transport_phi = list()\n",
    "    reaction_phi = list()\n",
    "    search_phi = list()\n",
    "    transport_std_phi =list()\n",
    "    rxn_std_phi =list()\n",
    "    search_std_phi =list()\n",
    "    for j,gr_i in enumerate(gr_i_list):\n",
    "        transport_vals_list = list()\n",
    "        reaction_vals_list = list()\n",
    "        search_vals_list = list()\n",
    "        transport_std_list = list()\n",
    "        rxn_std_list = list()\n",
    "        search_std_list = list()\n",
    "\n",
    "        for i in range(1,7):\n",
    "            transport_vals = gr[gr_i][i].bootavg_transportT*1000/1608733*p_codon_count_hist_weighted_avg[i]/(1-p_codon_count_hist_weighted_avg[0])\n",
    "            rxn_vals = gr[gr_i][i].bootavg_rxnT*1000/1608733*p_codon_count_hist_weighted_avg[i]/(1-p_codon_count_hist_weighted_avg[0])\n",
    "            search_vals = gr[gr_i][i].bootavg_searchT*1000/1608733*p_codon_count_hist_weighted_avg[i]/(1-p_codon_count_hist_weighted_avg[0])\n",
    "            \n",
    "            transport_std = gr[gr_i][i].bootstd_transportT*1000/1608733*p_codon_count_hist_weighted_avg[i]/(1-p_codon_count_hist_weighted_avg[0])\n",
    "            rxn_std = gr[gr_i][i].bootstd_rxnT*1000/1608733*p_codon_count_hist_weighted_avg[i]/(1-p_codon_count_hist_weighted_avg[0])\n",
    "            search_std = gr[gr_i][i].bootstd_searchT*1000/1608733*p_codon_count_hist_weighted_avg[i]/(1-p_codon_count_hist_weighted_avg[0])\n",
    "\n",
    "            transport_vals_list.append(np.array(transport_vals))\n",
    "            reaction_vals_list.append(np.array(rxn_vals))\n",
    "            search_vals_list.append(np.array(search_vals))\n",
    "            \n",
    "            transport_std_list.append(np.array(transport_std))\n",
    "            rxn_std_list.append(np.array(rxn_std))\n",
    "            search_std_list.append(np.array(search_std))\n",
    "            \n",
    "            search_list.append(np.array(gr[gr_i][i].searchT)*1000/1608733)\n",
    "            \n",
    "        transport_phi.append(np.sum(transport_vals_list))\n",
    "        reaction_phi.append(np.sum(reaction_vals_list))\n",
    "        search_phi.append(np.sum(search_vals_list))\n",
    "        \n",
    "        transport_std_phi.append(np.sum(transport_std_list))\n",
    "        rxn_std_phi.append(np.sum(rxn_std_list))\n",
    "        search_std_phi.append(np.sum(search_std_list))\n",
    "\n",
    "    print(\"Transport time: \", transport_phi, \" +/- \", transport_std_phi)\n",
    "    print(\"Reaction time: \", reaction_phi, \" +/- \", rxn_std_phi)\n",
    "    print(\"Search time: \", search_phi, \" +/- \", search_std_phi)\n",
    "    \n",
    "    return search_list,transport_phi, reaction_phi, search_phi, transport_std_phi,rxn_std_phi,search_std_phi\n",
    "rxndiff=dict()"
   ]
  },
  {
   "cell_type": "code",
   "execution_count": 195,
   "metadata": {
    "collapsed": false
   },
   "outputs": [
    {
     "name": "stdout",
     "output_type": "stream",
     "text": [
      "The autoreload extension is already loaded. To reload it, use:\n",
      "  %reload_ext autoreload\n",
      "test\n",
      "missing expt\n",
      "3\n",
      "missing expt\n",
      "26\n",
      "missing expt\n",
      "37\n",
      "missing expt\n",
      "47\n",
      "missing expt\n",
      "63\n",
      "missing expt\n",
      "72\n",
      "missing expt\n",
      "73\n",
      "missing expt\n",
      "89\n",
      "missing expt\n",
      "90\n",
      "missing expt\n",
      "95\n",
      "missing expt\n",
      "98\n",
      "test\n",
      "test\n",
      "test\n",
      "test\n",
      "test\n",
      "Transport time:  [165.73709442677483]  +/-  [14.153039291649124]\n",
      "Reaction time:  [13.552467595679165]  +/-  [1.8505212635427895]\n",
      "Search time:  [179.37344726906147]  +/-  [15.20906974553988]\n",
      "Transport time:  [165.73709442677483]  +/-  [14.153039291649124]\n",
      "Reaction time:  [13.552467595679165]  +/-  [1.8505212635427895]\n",
      "Search time:  [179.37344726906147]  +/-  [15.20906974553988]\n"
     ]
    }
   ],
   "source": [
    "from analysis_utils import *\n",
    "%load_ext autoreload\n",
    "%autoreload\n",
    "path = \"/Users/Akshay/Documents/TranslationDynamics/data/\"\n",
    "\n",
    "data = \"191003_2140/\"\n",
    "gr_sim = dict()\n",
    "\n",
    "for i in range(1,7):\n",
    "    sim_i = computeTransportRxnTimes(path+data, 1e15, 1e15, 100*(i-1),100*(i-1)+100,scaling=200)\n",
    "    gr_sim[i] = (CellLatencies(sim_i))\n",
    "gr_dict = {'gr_1':gr_sim}\n",
    "search_list = transportRxnCalc(gr_dict)[0]\n",
    "rxndiff['06'] = transportRxnCalc(gr_dict)[1:]"
   ]
  },
  {
   "cell_type": "code",
   "execution_count": 196,
   "metadata": {
    "collapsed": false
   },
   "outputs": [
    {
     "name": "stdout",
     "output_type": "stream",
     "text": [
      "The autoreload extension is already loaded. To reload it, use:\n",
      "  %reload_ext autoreload\n",
      "test\n",
      "missing expt\n",
      "4\n",
      "missing expt\n",
      "8\n",
      "missing expt\n",
      "13\n",
      "missing expt\n",
      "16\n",
      "missing expt\n",
      "23\n",
      "missing expt\n",
      "34\n",
      "missing expt\n",
      "35\n",
      "missing expt\n",
      "44\n",
      "missing expt\n",
      "54\n",
      "missing expt\n",
      "56\n",
      "missing expt\n",
      "59\n",
      "missing expt\n",
      "61\n",
      "missing expt\n",
      "77\n",
      "missing expt\n",
      "85\n",
      "missing expt\n",
      "87\n",
      "missing expt\n",
      "91\n",
      "test\n",
      "missing expt\n",
      "102\n",
      "missing expt\n",
      "122\n",
      "missing expt\n",
      "140\n",
      "missing expt\n",
      "180\n",
      "test\n",
      "test\n",
      "test\n",
      "test\n",
      "Transport time:  [121.51529134964392]  +/-  [11.39580466471484]\n",
      "Reaction time:  [24.211009419491948]  +/-  [2.9311859598586736]\n",
      "Search time:  [145.62692661834194]  +/-  [13.601461804977728]\n",
      "Transport time:  [121.51529134964392]  +/-  [11.39580466471484]\n",
      "Reaction time:  [24.211009419491948]  +/-  [2.9311859598586736]\n",
      "Search time:  [145.62692661834194]  +/-  [13.601461804977728]\n"
     ]
    }
   ],
   "source": [
    "from analysis_utils import *\n",
    "%load_ext autoreload\n",
    "%autoreload\n",
    "path = \"/Users/Akshay/Documents/TranslationDynamics/data/\"\n",
    "\n",
    "data = \"191004_0018/\"\n",
    "gr_sim = dict()\n",
    "\n",
    "for i in range(1,7):\n",
    "    sim_i = computeTransportRxnTimes(path+data, 1e15, 1e15, 100*(i-1),100*(i-1)+100,scaling=200)\n",
    "    gr_sim[i] = (CellLatencies(sim_i))\n",
    "\n",
    "\n",
    "gr_dict = {'gr_1':gr_sim}\n",
    "search_list = transportRxnCalc(gr_dict)[0]\n",
    "rxndiff['10'] = transportRxnCalc(gr_dict)[1:]"
   ]
  },
  {
   "cell_type": "code",
   "execution_count": 206,
   "metadata": {
    "collapsed": false
   },
   "outputs": [
    {
     "name": "stdout",
     "output_type": "stream",
     "text": [
      "The autoreload extension is already loaded. To reload it, use:\n",
      "  %reload_ext autoreload\n",
      "test\n",
      "missing expt\n",
      "3\n",
      "missing expt\n",
      "9\n",
      "missing expt\n",
      "11\n",
      "missing expt\n",
      "20\n",
      "missing expt\n",
      "38\n",
      "missing expt\n",
      "45\n",
      "missing expt\n",
      "47\n",
      "missing expt\n",
      "50\n",
      "missing expt\n",
      "52\n",
      "missing expt\n",
      "53\n",
      "missing expt\n",
      "60\n",
      "missing expt\n",
      "64\n",
      "missing expt\n",
      "65\n",
      "missing expt\n",
      "76\n",
      "missing expt\n",
      "96\n",
      "test\n",
      "missing expt\n",
      "131\n",
      "missing expt\n",
      "133\n",
      "test\n",
      "test\n",
      "test\n",
      "test\n",
      "Transport time:  [93.28479922141167]  +/-  [9.061710130952907]\n",
      "Reaction time:  [21.896632835165192]  +/-  [2.5571259008558416]\n",
      "Search time:  [115.21176629937804]  +/-  [11.281416326021127]\n",
      "Transport time:  [93.28479922141167]  +/-  [9.061710130952907]\n",
      "Reaction time:  [21.896632835165192]  +/-  [2.5571259008558416]\n",
      "Search time:  [115.21176629937804]  +/-  [11.281416326021127]\n"
     ]
    }
   ],
   "source": [
    "from analysis_utils import *\n",
    "%load_ext autoreload\n",
    "%autoreload\n",
    "path = \"/Users/Akshay/Documents/TranslationDynamics/data/\"\n",
    "\n",
    "data = \"191004_0104/\"\n",
    "gr_sim = dict()\n",
    "\n",
    "for i in range(1,7):\n",
    "    sim_i = computeTransportRxnTimes(path+data, 1e15, 1e15, 100*(i-1),100*(i-1)+100,scaling=200)\n",
    "    gr_sim[i] = (CellLatencies(sim_i))\n",
    "\n",
    "gr_dict = {'gr_1':gr_sim}\n",
    "search_list = transportRxnCalc(gr_dict)[0]\n",
    "rxndiff['15'] = transportRxnCalc(gr_dict)[1:]"
   ]
  },
  {
   "cell_type": "code",
   "execution_count": 198,
   "metadata": {
    "collapsed": false
   },
   "outputs": [
    {
     "name": "stdout",
     "output_type": "stream",
     "text": [
      "The autoreload extension is already loaded. To reload it, use:\n",
      "  %reload_ext autoreload\n",
      "test\n",
      "missing expt\n",
      "21\n",
      "missing expt\n",
      "24\n",
      "missing expt\n",
      "28\n",
      "missing expt\n",
      "78\n",
      "test\n",
      "test\n",
      "test\n",
      "test\n",
      "test\n",
      "Transport time:  [80.78691075315236]  +/-  [8.20722800595287]\n",
      "Reaction time:  [19.204345448586807]  +/-  [2.2172638315003317]\n",
      "Search time:  [100.03889245637514]  +/-  [10.120269039953568]\n",
      "Transport time:  [80.78691075315236]  +/-  [8.20722800595287]\n",
      "Reaction time:  [19.204345448586807]  +/-  [2.2172638315003317]\n",
      "Search time:  [100.03889245637514]  +/-  [10.120269039953568]\n"
     ]
    }
   ],
   "source": [
    "from analysis_utils import *\n",
    "%load_ext autoreload\n",
    "%autoreload\n",
    "path = \"/Users/Akshay/Documents/TranslationDynamics/data/\"\n",
    "\n",
    "data = \"191004_1129/\"\n",
    "gr_sim = dict()\n",
    "\n",
    "for i in range(1,7):\n",
    "    sim_i = computeTransportRxnTimes(path+data, 1e15, 1e15, 100*(i-1),100*(i-1)+100,scaling=200)\n",
    "    gr_sim[i] = (CellLatencies(sim_i))\n",
    "\n",
    "gr_dict = {'gr_1':gr_sim}\n",
    "search_list = transportRxnCalc(gr_dict)[0]\n",
    "rxndiff['20'] = transportRxnCalc(gr_dict)[1:]\n"
   ]
  },
  {
   "cell_type": "code",
   "execution_count": 199,
   "metadata": {
    "collapsed": false
   },
   "outputs": [
    {
     "name": "stdout",
     "output_type": "stream",
     "text": [
      "The autoreload extension is already loaded. To reload it, use:\n",
      "  %reload_ext autoreload\n",
      "test\n",
      "test\n",
      "test\n",
      "missing expt\n",
      "202\n",
      "test\n",
      "test\n",
      "missing expt\n",
      "462\n",
      "test\n",
      "Transport time:  [81.60333330171572]  +/-  [8.171767246621311]\n",
      "Reaction time:  [16.38134561672962]  +/-  [1.8161516490840708]\n",
      "Search time:  [97.85733604248769]  +/-  [9.764634506419592]\n",
      "Transport time:  [81.60333330171572]  +/-  [8.171767246621311]\n",
      "Reaction time:  [16.38134561672962]  +/-  [1.8161516490840708]\n",
      "Search time:  [97.85733604248769]  +/-  [9.764634506419592]\n"
     ]
    }
   ],
   "source": [
    "from analysis_utils import *\n",
    "%load_ext autoreload\n",
    "%autoreload\n",
    "path = \"/Users/Akshay/Documents/TranslationDynamics/data/\"\n",
    "\n",
    "data = \"191004_1217/\"\n",
    "gr_sim = dict()\n",
    "\n",
    "for i in range(1,7):\n",
    "    sim_i = computeTransportRxnTimes(path+data, 1e15, 1e15, 100*(i-1),100*(i-1)+100,scaling=200)\n",
    "    gr_sim[i] = (CellLatencies(sim_i))\n",
    "\n",
    "gr_dict = {'gr_1':gr_sim}\n",
    "search_list = transportRxnCalc(gr_dict)[0]\n",
    "rxndiff['25'] = transportRxnCalc(gr_dict)[1:]\n"
   ]
  },
  {
   "cell_type": "code",
   "execution_count": 200,
   "metadata": {
    "collapsed": false
   },
   "outputs": [
    {
     "name": "stdout",
     "output_type": "stream",
     "text": [
      "The autoreload extension is already loaded. To reload it, use:\n",
      "  %reload_ext autoreload\n",
      "test\n",
      "test\n",
      "test\n",
      "test\n",
      "test\n",
      "test\n",
      "Transport time:  [66.13984193471342]  +/-  [6.606508125497966]\n",
      "Reaction time:  [11.894705091475563]  +/-  [1.5044145860958982]\n",
      "Search time:  [77.90742742896586]  +/-  [7.895789804559725]\n",
      "Transport time:  [66.13984193471342]  +/-  [6.606508125497966]\n",
      "Reaction time:  [11.894705091475563]  +/-  [1.5044145860958982]\n",
      "Search time:  [77.90742742896586]  +/-  [7.895789804559725]\n"
     ]
    }
   ],
   "source": [
    "from analysis_utils import *\n",
    "%load_ext autoreload\n",
    "%autoreload\n",
    "path = \"/Users/Akshay/Documents/TranslationDynamics/data/\"\n",
    "\n",
    "data = \"191003_2210/\"\n",
    "gr_sim = dict()\n",
    "\n",
    "for i in range(1,7):\n",
    "    sim_i = computeTransportRxnTimes(path+data, 1e15, 1e15, 100*(i-1),100*(i-1)+100,scaling=200)\n",
    "    gr_sim[i] = (CellLatencies(sim_i))\n",
    "\n",
    "gr_dict = {'gr_1':gr_sim}\n",
    "search_list = transportRxnCalc(gr_dict)[0]\n",
    "rxndiff['30'] = transportRxnCalc(gr_dict)[1:]\n"
   ]
  },
  {
   "cell_type": "code",
   "execution_count": 234,
   "metadata": {
    "collapsed": false
   },
   "outputs": [
    {
     "data": {
      "text/html": [
       "<style>.container { width:80% !important; }</style>"
      ],
      "text/plain": [
       "<IPython.core.display.HTML object>"
      ]
     },
     "metadata": {},
     "output_type": "display_data"
    },
    {
     "name": "stdout",
     "output_type": "stream",
     "text": [
      "The autoreload extension is already loaded. To reload it, use:\n",
      "  %reload_ext autoreload\n"
     ]
    },
    {
     "data": {
      "image/png": "[encoded data removed]",
      "text/plain": [
       "<Figure size 2016x504 with 7 Axes>"
      ]
     },
     "metadata": {
      "needs_background": "light"
     },
     "output_type": "display_data"
    }
   ],
   "source": [
    "#Figure 3\n",
    "from analysis_utils import *\n",
    "import matplotlib.pyplot as plt\n",
    "import matplotlib.patches as mpatches\n",
    "import matplotlib as mpl\n",
    "from IPython.core.display import display, HTML\n",
    "display(HTML(\"<style>.container { width:80% !important; }</style>\"))\n",
    "\n",
    "%matplotlib inline\n",
    "%load_ext autoreload\n",
    "%autoreload\n",
    "hfont = {'fontname':'Helvetica'}\n",
    "\n",
    "\n",
    "colors = ['darkblue','#D43F3A']\n",
    "gr_i_list = [0.6,1.0,1.5,2.0,2.5,3.0]\n",
    "phi_list = [0.13,0.22,0.30,0.36,0.39,0.42]\n",
    "markers = ['*','^']\n",
    "\n",
    "fig,[ax1,ax2,ax]= plt.subplots(1,3,figsize=(28,7))\n",
    "twin1 = ax1.twiny()\n",
    "twin1a = ax1.twiny()\n",
    "twin2 = ax2.twiny()\n",
    "twin2a = ax2.twiny()\n",
    "\n",
    "for _,axes in enumerate([ax,ax1,ax2,twin1,twin1a,twin2,twin2a]):\n",
    "    axes.spines['left'].set_linewidth(4)\n",
    "    axes.spines['bottom'].set_linewidth(4)\n",
    "    axes.spines['top'].set_linewidth(4)\n",
    "    axes.spines['right'].set_linewidth(4)\n",
    "    axes.tick_params(axis='both', which='major', labelsize=20)\n",
    "    axes.set_xlim(0.1,0.5)\n",
    "    \n",
    "ax1.scatter(phi_list,[rxndiff[d][0][0] for d in rxndiff],zorder=2,s=250,marker='^',color='black')\n",
    "#ax1.plot(phi_list,[rxndiff[d][0][0] for d in rxndiff],zorder=1,linewidth=4,linestyle='dashed',color='black')\n",
    "ax1.errorbar(phi_list,[rxndiff[d][0][0] for d in rxndiff],[rxndiff[d][3][0] for d in rxndiff],zorder=1,linewidth=4,elinewidth=2,linestyle='dashed',color='black')\n",
    "ax1.scatter(phi_list,[rxndiff[d][0][0]/3 for d in rxndiff],zorder=2,s=200,marker='s',color='black')\n",
    "#ax1.plot(phi_list,[rxndiff[d][0][0]/3 for d in rxndiff],zorder=1,linewidth=4,linestyle='dashed',color='black')\n",
    "ax1.errorbar(phi_list,[rxndiff[d][0][0]/3 for d in rxndiff],[rxndiff[d][3][0]/3 for d in rxndiff],zorder=1,linewidth=4,elinewidth=2,linestyle='dashed',color='black')\n",
    "ax1.set_xlabel('$\\phi_{ voxel}$',fontsize=25)\n",
    "ax1.set_ylabel(\"Transport time (ms)\",fontsize=25)\n",
    "\n",
    "ax2.scatter(phi_list,[rxndiff[d][1][0]+(1000/1529+1000/209+1000/200+1000/32) for d in rxndiff],zorder=2,s=250,marker='^',color='black')\n",
    "ax2.plot(phi_list,[rxndiff[d][1][0]+(1000/1529+1000/209+1000/200+1000/32) for d in rxndiff],zorder=1,linewidth=4,linestyle='dashed',color='black')\n",
    "ax2.errorbar(phi_list,[rxndiff[d][1][0]+(1000/1529+1000/209+1000/200+1000/32) for d in rxndiff],[rxndiff[d][4][0] for d in rxndiff],color='black')\n",
    "ax2.scatter(phi_list,[rxndiff[d][1][0]/3+(1000/1529+1000/209+1000/200+1000/32) for d in rxndiff],zorder=2,s=200,marker='s',color='black')\n",
    "ax2.plot(phi_list,[rxndiff[d][1][0]/3+(1000/1529+1000/209+1000/200+1000/32) for d in rxndiff],zorder=1,linewidth=4,linestyle='dashed',color='black')\n",
    "ax2.errorbar(phi_list,[rxndiff[d][1][0]/3+(1000/1529+1000/209+1000/200+1000/32) for d in rxndiff],[rxndiff[d][4][0]/3 for d in rxndiff],color='black')\n",
    "\n",
    "ax2.set_xlabel('$\\phi_{ voxel}$',fontsize=25)\n",
    "ax2.set_ylabel(\"Reaction time(ms)\",fontsize=25)\n",
    "\n",
    "ax.scatter(phi_list,[rxndiff[d][2][0]+(1000/1529+1000/209+1000/200+1000/32) for d in rxndiff],zorder=2,s=250,marker='^',color='black')\n",
    "ax.plot(phi_list,[rxndiff[d][2][0]+(1000/1529+1000/209+1000/200+1000/32) for d in rxndiff],zorder=1,linewidth=4,linestyle='dashed',color='black')\n",
    "ax.errorbar(phi_list,[rxndiff[d][2][0]+(1000/1529+1000/209+1000/200+1000/32) for d in rxndiff],[rxndiff[d][5][0] for d in rxndiff],color='black')\n",
    "ax.scatter(phi_list,[rxndiff[d][2][0]/3+(1000/1529+1000/209+1000/200+1000/32) for d in rxndiff],zorder=2,s=200,marker='s',color='black')\n",
    "ax.plot(phi_list,[rxndiff[d][2][0]/3+(1000/1529+1000/209+1000/200+1000/32) for d in rxndiff],zorder=1,linewidth=4,linestyle='dashed',color='black')\n",
    "ax.errorbar(phi_list,[rxndiff[d][2][0]/3+(1000/1529+1000/209+1000/200+1000/32) for d in rxndiff],[rxndiff[d][5][0]/3 for d in rxndiff],color='black')\n",
    "ax.scatter(phi_list,[1000/12,1000/16,1000/18,1000/20,1000/21,1000/22],zorder=2,s=200,marker='o',color='black')\n",
    "ax.plot(phi_list,[1000/12,1000/16,1000/18,1000/20,1000/21,1000/22],zorder=1,linewidth=4,color='black')\n",
    "ax.set_xlabel('$\\phi_{ voxel}$',fontsize=25)\n",
    "ax.set_ylabel(\"Elongation time (ms)\",fontsize=25)\n",
    "\n",
    "twin1.plot([rxndiff[d][0] for d in rxndiff], [rxndiff[d][0] for d in rxndiff],linewidth=0)\n",
    "twin1.spines['bottom'].set_position(('outward', 75))\n",
    "twin1.xaxis.set_ticks_position(\"bottom\")\n",
    "twin1.xaxis.set_label_position(\"bottom\")\n",
    "twin1.set_xlabel('$Relative\\: Viscosity\\:(η_{r,0})$',fontsize=25)\n",
    "twin1.set_xticklabels([1.3, 1.6,2.2,9.9,13])\n",
    "\n",
    "twin1a.plot([rxndiff[d][0] for d in rxndiff], [rxndiff[d][0] for d in rxndiff],linewidth=0)\n",
    "twin1a.spines['bottom'].set_position(('outward', 150))\n",
    "twin1a.xaxis.set_ticks_position(\"bottom\")\n",
    "twin1a.xaxis.set_label_position(\"bottom\")\n",
    "twin1a.set_xlabel('$L_{vox}\\:[nm] $',fontsize=25)\n",
    "twin1a.set_xticklabels([101,93,84,77,72,68])\n",
    "\n",
    "twin2.plot([rxndiff[d][1][0]+(1000/1529+1000/209+1000/200+1000/32) for d in rxndiff], [rxndiff[d][1][0]+(1000/1529+1000/209+1000/200+1000/32) for d in rxndiff],linewidth=0)\n",
    "twin2.spines['bottom'].set_position(('outward', 75))\n",
    "twin2.xaxis.set_ticks_position(\"bottom\")\n",
    "twin2.xaxis.set_label_position(\"bottom\")\n",
    "twin2.set_xlabel('$\\phi_{ribosome}$',fontsize=25)\n",
    "twin2.set_xticklabels(np.round(np.array([0.03215227415651342, 0.09094714428745478, 0.14097811277507588,0.17533572924895058,0.19990528711580194,0.21797163000890407]),2))\n",
    "\n",
    "twin2a.plot([rxndiff[d][1][0]+(1000/1529+1000/209+1000/200+1000/32) for d in rxndiff], [rxndiff[d][1][0]+(1000/1529+1000/209+1000/200+1000/32) for d in rxndiff],linewidth=0)\n",
    "twin2a.spines['bottom'].set_position(('outward', 150))\n",
    "twin2a.xaxis.set_ticks_position(\"bottom\")\n",
    "twin2a.xaxis.set_label_position(\"bottom\")\n",
    "twin2a.set_xlabel('$Relative\\:repeat\\:reaction\\:rate$',fontsize=25)\n",
    "twin2a.set_xticklabels(np.round(np.array([21.17668825161887,\n",
    " 10.196348884381338,\n",
    " 8.549512036434614,\n",
    " 6.520406375897705,\n",
    " 6.031409285025486,\n",
    " 5.689668195306178])/5.689668195306178,1));\n",
    "#the secondary rise in transport time could be because the\n",
    "#decrease in crowding is reducing facilitiated mixing of \n",
    "#not only cognate away from incorrect repeats,\n",
    "#but also incorrect cognates repeat reacting and blocking the cognate ribosome!\n",
    "#I should also get a graph to show that cognate blocking point. Can compare the \n",
    "#2nd and 5th point which have same ribosomes, but 2nd has more crowders (though)\n",
    "#different voxel size. 2nd maybe faster bcz facilitated mixing"
   ]
  },
  {
   "cell_type": "code",
   "execution_count": 214,
   "metadata": {
    "collapsed": false
   },
   "outputs": [
    {
     "data": {
      "text/plain": [
       "9.622023349240706"
      ]
     },
     "execution_count": 214,
     "metadata": {},
     "output_type": "execute_result"
    }
   ],
   "source": []
  },
  {
   "cell_type": "code",
   "execution_count": 45,
   "metadata": {
    "collapsed": false
   },
   "outputs": [
    {
     "data": {
      "text/plain": [
       "([0.16546827412714107],\n",
       " [0.01350886069791646],\n",
       " [0.17897713482505756],\n",
       " [0.015131619896198161])"
      ]
     },
     "execution_count": 45,
     "metadata": {},
     "output_type": "execute_result"
    }
   ],
   "source": [
    "from analysis_utils import *\n",
    "%load_ext autoreload\n",
    "%autoreload\n",
    "path = \"/Users/Akshay/Documents/TranslationDynamics/data/\"\n",
    "\n",
    "data = \"190916_1101/\"\n",
    "gr_sim = dict()\n",
    "\n",
    "for i in range(1,7):\n",
    "    sim_i = computeTransportRxnTimes(path+data, 1e15, 1e15, 100*(i-1),100*(i-1)+100,scaling=1000)\n",
    "    gr_sim[i] = (CellLatencies(sim_i))\n",
    "\n",
    "gr_dict = {'gr_1':gr_sim}\n",
    "transportRxnCalc(gr_dict)\n",
    "\n",
    "data = \"190917_0105/\"\n",
    "gr_sim = dict()\n",
    "\n",
    "for i in range(1,7):\n",
    "    sim_i = computeTransportRxnTimes(path+data, 1e15, 1e15, 100*(i-1),100*(i-1)+100,scaling=200)\n",
    "    gr_sim[i] = (CellLatencies(sim_i))\n",
    "\n",
    "gr_dict = {'gr_1':gr_sim}\n",
    "transportRxnCalc(gr_dict)\n",
    "\n",
    "\n",
    "data = \"190918_1046/\"\n",
    "gr_sim = dict()\n",
    "\n",
    "for i in range(1,7):\n",
    "    sim_i = computeTransportRxnTimes(path+data, 1e15, 1e15, 100*(i-1),100*(i-1)+100,scaling=100)\n",
    "    gr_sim[i] = (CellLatencies(sim_i))\n",
    "\n",
    "gr_dict = {'gr_1':gr_sim}\n",
    "transportRxnCalc(gr_dict)\n",
    "\n",
    "\n",
    "data = \"190921_2357/\"\n",
    "gr_sim = dict()\n",
    "\n",
    "for i in range(1,7):\n",
    "    sim_i = computeTransportRxnTimes(path+data, 1e15, 1e15, 100*(i-1),100*(i-1)+100,scaling=20)\n",
    "    gr_sim[i] = (CellLatencies(sim_i))\n",
    "\n",
    "gr_dict = {'gr_1':gr_sim}\n",
    "transportRxnCalc(gr_dict)\n",
    "\n",
    "\n",
    "data = \"190921_2258/\"\n",
    "gr_sim = dict()\n",
    "\n",
    "for i in range(1,7):\n",
    "    sim_i = computeTransportRxnTimes(path+data, 1e15, 1e15, 100*(i-1),100*(i-1)+100,scaling=10)\n",
    "    gr_sim[i] = (CellLatencies(sim_i))\n",
    "\n",
    "gr_dict = {'gr_1':gr_sim}\n",
    "transportRxnCalc(gr_dict)\n",
    "\n",
    "\n"
   ]
  },
  {
   "cell_type": "code",
   "execution_count": null,
   "metadata": {
    "collapsed": false
   },
   "outputs": [],
   "source": []
  },
  {
   "cell_type": "code",
   "execution_count": 82,
   "metadata": {
    "collapsed": false
   },
   "outputs": [
    {
     "data": {
      "text/plain": [
       "[([165.8958792645278],\n",
       "  [13.55045572649031],\n",
       "  [179.44633499101812],\n",
       "  [15.26908868061898]),\n",
       " ([121.37313991659123],\n",
       "  [24.21771985071264],\n",
       "  [145.59085976730387],\n",
       "  [13.615333439051183]),\n",
       " ([93.32567340185979],\n",
       "  [21.909494183201343],\n",
       "  [115.23516758506113],\n",
       "  [11.263240984682213]),\n",
       " ([80.76404159165534],\n",
       "  [19.215963311394013],\n",
       "  [99.98000490304935],\n",
       "  [10.10578455631617]),\n",
       " ([81.56222651366198],\n",
       "  [16.382404388156726],\n",
       "  [97.94463090181871],\n",
       "  [9.806502707559037]),\n",
       " ([66.04621903922238],\n",
       "  [11.888515769606462],\n",
       "  [77.93473480882881],\n",
       "  [7.879119101059989])]"
      ]
     },
     "execution_count": 82,
     "metadata": {},
     "output_type": "execute_result"
    }
   ],
   "source": [
    "[rxndiff[d][0] for d in rxndiff]"
   ]
  },
  {
   "cell_type": "code",
   "execution_count": null,
   "metadata": {
    "collapsed": true
   },
   "outputs": [],
   "source": []
  }
 ],
 "metadata": {
  "kernelspec": {
   "display_name": "Python 3",
   "language": "python",
   "name": "python3"
  },
  "language_info": {
   "codemirror_mode": {
    "name": "ipython",
    "version": 3
   },
   "file_extension": ".py",
   "mimetype": "text/x-python",
   "name": "python",
   "nbconvert_exporter": "python",
   "pygments_lexer": "ipython3",
   "version": "3.6.7"
  }
 },
 "nbformat": 4,
 "nbformat_minor": 2
}
