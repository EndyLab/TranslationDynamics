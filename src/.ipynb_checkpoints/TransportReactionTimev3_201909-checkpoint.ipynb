{
 "cells": [
  {
   "cell_type": "code",
   "execution_count": 1,
   "metadata": {
    "collapsed": false
   },
   "outputs": [
    {
     "name": "stdout",
     "output_type": "stream",
     "text": [
      "[1.83381737e-01 2.26779311e-01 2.03617547e-01 1.62418727e-01\n",
      " 1.10413836e-01 6.37025114e-02 3.05396858e-02 1.28520920e-02\n",
      " 4.28488217e-03 1.49251523e-03 3.26737042e-04 1.78362966e-04\n",
      " 1.20555258e-05 0.00000000e+00 0.00000000e+00 0.00000000e+00\n",
      " 0.00000000e+00 0.00000000e+00 0.00000000e+00 0.00000000e+00\n",
      " 0.00000000e+00 0.00000000e+00 0.00000000e+00 0.00000000e+00\n",
      " 0.00000000e+00 0.00000000e+00 0.00000000e+00 0.00000000e+00\n",
      " 0.00000000e+00 0.00000000e+00 0.00000000e+00 0.00000000e+00\n",
      " 0.00000000e+00 0.00000000e+00 0.00000000e+00 0.00000000e+00\n",
      " 0.00000000e+00 0.00000000e+00 0.00000000e+00 0.00000000e+00\n",
      " 0.00000000e+00 0.00000000e+00]\n"
     ]
    }
   ],
   "source": [
    "import numpy as np\n",
    "\n",
    "ptRNA = [0.0521, 0.0099, 0.0762, 0.0102, 0.0139, 0.0067, 0.0191, 0.0384, 0.0255, 0.0123, 0.0141,\\\n",
    " 0.0757, 0.0343, 0.0699, 0.0102, 0.0557, 0.0717, 0.0151, 0.0107, 0.0307, \\\n",
    " 0.0165, 0.0309, 0.0113, 0.0166, 0.0144, 0.0115, 0.0093, 0.0035, 0.0208, 0.0055, 0.0226, \\\n",
    " 0.0123, 0.0017, 0.0087, 0.0176, 0.0147, 0.0151, 0.0326, 0.0616,0.0203]\n",
    "ptRNA = np.divide(ptRNA,sum(ptRNA))\n",
    "\n",
    "tRNA_tags = [\"Ala1B\", \"Ala2\", \"Arg2\", \"Arg3\", \"Arg4\", \"Arg5\", \"Asn\", \"Asp1\", \"Cys\", \"Gln1\", \"Gln2\", \\\n",
    "\"Glu2\", \"Gly2\", \"Gly3\", \"His\", \"Ile1\", \"Leu1\", \"Leu2\", \"Leu3\", \"Leu4\", \"Leu5\", \"Lys\", \\\n",
    "\"Met_m\", \"Phe\", \"Pro1\", \"Pro2\", \"Pro3\", \"Sel_Cys\", \"Ser1\", \"Ser2\", \"Ser3\", \"Ser5\", \"Thr1\", \\\n",
    "\"Thr2\", \"Thr3\", \"Thr4\", \"Trp\", \"Tyr1pTyr2\", \"Val1\", \"Val2ApB\"]\n",
    "\n",
    "ptRNA_dict = dict(zip(tRNA_tags, ptRNA))\n",
    "\n",
    "codons_Ec = [\"GGG\", \"GGA\", \"GGU\", \"GGC\", \"GAG\", \"GAA\", \"GAU\", \"GAC\", \"GUG\", \"GUA\", \"GUU\", \\\n",
    "\"GUC\", \"GCG\", \"GCA\", \"GCU\", \"GCC\", \"AGG\", \"AGA\", \"AGU\", \"AGC\", \"AAG\", \"AAA\", \\\n",
    "\"AAU\", \"AAC\", \"AUG\", \"AUA\", \"AUU\", \"AUC\", \"ACG\", \"ACA\", \"ACU\", \"ACC\", \"UGG\", \\\n",
    "\"UGA\", \"UGU\", \"UGC\", \"UAU\", \"UAC\", \"UUG\", \"UUA\", \"UUU\", \"UUC\", \"UCG\", \"UCA\", \\\n",
    "\"UCU\", \"UCC\", \"CGG\", \"CGA\", \"CGU\", \"CGC\", \"CAG\", \"CAA\", \"CAU\", \"CAC\", \"CUG\", \\\n",
    "\"CUA\", \"CUU\", \"CUC\", \"CCG\", \"CCA\", \"CCU\", \"CCC\"]\n",
    "\n",
    "pcodons_Ec =[0.00483, 0.00272, 0.03847, 0.03579, 0.01665, 0.05335, 0.02436, \\\n",
    "0.02885, 0.02150, 0.01594, 0.03146, 0.01130, 0.03047, 0.02223, \\\n",
    "0.02898, 0.01989, 0.00009, 0.00113, 0.00401, 0.01203, 0.01214, \\\n",
    "0.04464, 0.00984, 0.02808, 0.02247, 0.00093, 0.02148, 0.03685, \\\n",
    "0.00757, 0.00350, 0.01394, 0.02663, 0.00981, 0.00031, 0.00425, \\\n",
    "0.00531, 0.01073, 0.01628, 0.00666, 0.00616, 0.01261, 0.02279, \\\n",
    "0.00608, 0.00391, 0.01318, 0.01120, 0.00176, 0.00133, 0.03126, \\\n",
    "0.02235, 0.02938, 0.01024, 0.00927, 0.01396, 0.06041, 0.00216, \\\n",
    "0.00573, 0.00622, 0.02965, 0.00655, 0.00501, 0.00332]\n",
    "pcodons_Ec = np.divide(pcodons_Ec,sum(pcodons_Ec))\n",
    "\n",
    "pcodon_dict = dict(zip(codons_Ec, pcodons_Ec))\n",
    "\n",
    "#Note AUA does not have an assigned tRNA\n",
    "codon_dict={'GGG': ['Gly2'], 'GGA': ['Gly2'], 'GGU': ['Gly3'], 'GGC': ['Gly3'], \\\n",
    "'GAG': ['Glu2'], 'GAA': ['Glu2'], 'GAU': ['Asp1'], 'GAC': ['Asp1'], \\\n",
    "'GUG': ['Val1'], 'GUA': ['Val1'], 'GUU': ['Val1','Val2ApB'], \\\n",
    "'GUC': ['Val2ApB'], 'GCG': ['Ala1B'], 'GCA': ['Ala1B'], 'GCU': ['Ala1B'], \\\n",
    "'GCC': ['Ala2'], 'AGG': ['Arg5'], 'AGA': ['Arg4'], 'AGU': ['Ser3'], \\\n",
    "'AGC': ['Ser3'], 'AAG': ['Lys'], 'AAA': ['Lys'], 'AAU': ['Asn'], \\\n",
    "'AAC': ['Asn'], 'AUG': ['Met_m'], 'AUA': [], 'AUU': ['Ile1'], \\\n",
    "'AUC': ['Ile1'], 'ACG': ['Thr2','Thr4'], 'ACA': ['Thr4'], \\\n",
    "'ACU': ['Thr1','Thr4','Thr3'], 'ACC': ['Thr3','Thr1'], \\\n",
    "'UGG': ['Trp'], 'UGA': ['Sel_Cys'], 'UGU': ['Cys'], 'UGC': ['Cys'], \\\n",
    "'UAU': ['Tyr1pTyr2'], 'UAC': ['Tyr1pTyr2'], 'UUG': ['Leu5','Leu4'], \\\n",
    "'UUA': ['Leu5'], 'UUU': ['Phe'], 'UUC': ['Phe'], 'UCG': ['Ser1','Ser2'], \\\n",
    "'UCA': ['Ser1'], 'UCU': ['Ser5','Ser1'], 'UCC': ['Ser5'], 'CGG': ['Arg3'], \\\n",
    "'CGA': ['Arg2'], 'CGU': ['Arg2'], 'CGC': ['Arg2'], 'CAG': ['Gln2'], \\\n",
    "'CAA': ['Gln1'], 'CAU': ['His'], 'CAC': ['His'], 'CUG': ['Leu1','Leu3'], \\\n",
    "'CUA': ['Leu3'], 'CUU': ['Leu2'], 'CUC': ['Leu2'], 'CCG': ['Pro1','Pro3'], \\\n",
    "'CCA': ['Pro3'], 'CCU': ['Pro2','Pro3'], 'CCC': ['Pro2']}\n",
    "\n",
    "cells = 1\n",
    "TU = 9500*20\n",
    "time = 180\n",
    "tRNA_distrib_arr = list()\n",
    "codon_count = {}\n",
    "codon_time = {}\n",
    "codon_time_avg = {}\n",
    "codon_time_weighted_avg={}\n",
    "codon_count_hist = {}\n",
    "codon_count_hist_weighted_avg = np.zeros(42)\n",
    "p_codon_tRNA = {}\n",
    "\n",
    "for key in codon_dict:\n",
    "    codon_count[key] = []\n",
    "    codon_time[key] = []\n",
    "    codon_time_avg[key] = []\n",
    "    codon_time_weighted_avg[key]=[]\n",
    "    codon_count_hist[key]=[]\n",
    "    p_codon_tRNA[key] = []\n",
    "\n",
    "# Construct dictionary that assigns probability of all tRNA specific to a certain codon\n",
    "# to that codon (p_codon_tRNA)\n",
    "for codon in codon_dict:\n",
    "    p_codon_tRNA_i = 0\n",
    "    for tRNA in codon_dict[codon]:\n",
    "        p_codon_tRNA_i += ptRNA_dict[tRNA]\n",
    "    p_codon_tRNA[codon].append(p_codon_tRNA_i)\n",
    "\n",
    "for cell in range(cells):\n",
    "    # Generate distribution for cognate tRNA count for each codon\n",
    "    for i in range(TU):\n",
    "            \n",
    "        #Construct translation unit with random tRNA (weighted by specific tRNA abundances)\n",
    "        #and 1 random codon (weighted by codon probabilities).\n",
    "        tRNA_vox = list(np.random.choice(tRNA_tags,42,p=ptRNA))\n",
    "        codon_vox = np.random.choice(codons_Ec, 1, p=pcodons_Ec)\n",
    "\n",
    "        #Count how many cognate tRNA appeared in the translation unit (for given codon) and record in codon_count\n",
    "        codon_count_i = 0\n",
    "        for tRNA in codon_dict[codon_vox[0]]:\n",
    "            codon_count_i += tRNA_vox.count(tRNA)\n",
    "        codon_count[codon_vox[0]].append(codon_count_i)\n",
    "    \n",
    "    for codon in codon_count:\n",
    "        #Generate histogram of cognate tRNA counts for each codon\n",
    "        codon_count_hist[codon] = np.histogram(codon_count[codon], bins=np.arange(0,43))[0]\n",
    "        \n",
    "        #Weight histogram by codon probabilities to generate weighted average histogram for all codon\n",
    "        codon_count_hist_weighted_avg += codon_count_hist[codon]*pcodon_dict[codon]\n",
    "    p_codon_count_hist_weighted_avg = codon_count_hist_weighted_avg/sum(codon_count_hist_weighted_avg)\n",
    "    print(p_codon_count_hist_weighted_avg)"
   ]
  },
  {
   "cell_type": "code",
   "execution_count": 2,
   "metadata": {
    "collapsed": false
   },
   "outputs": [
    {
     "data": {
      "text/plain": [
       "Text(0, 0.5, 'Probability')"
      ]
     },
     "execution_count": 2,
     "metadata": {},
     "output_type": "execute_result"
    },
    {
     "data": {
      "image/png": "[encoded data removed]",
      "text/plain": [
       "<Figure size 432x288 with 1 Axes>"
      ]
     },
     "metadata": {
      "needs_background": "light"
     },
     "output_type": "display_data"
    }
   ],
   "source": [
    "from analysis_utils import *\n",
    "import matplotlib.pyplot as plt\n",
    "import matplotlib.patches as mpatches\n",
    "import matplotlib as mpl\n",
    "%matplotlib inline\n",
    "\n",
    "plt.bar(np.arange(0,42),p_codon_count_hist_weighted_avg)\n",
    "plt.xlabel('# of cognate tRNA per TU',fontsize=20)\n",
    "plt.ylabel('Probability',fontsize=20)"
   ]
  },
  {
   "cell_type": "code",
   "execution_count": 29,
   "metadata": {
    "collapsed": false
   },
   "outputs": [
    {
     "name": "stdout",
     "output_type": "stream",
     "text": [
      "The autoreload extension is already loaded. To reload it, use:\n",
      "  %reload_ext autoreload\n",
      "test\n",
      "test\n",
      "test\n",
      "test\n",
      "test\n",
      "test\n"
     ]
    },
    {
     "data": {
      "text/html": [
       "<style>.container { width:80% !important; }</style>"
      ],
      "text/plain": [
       "<IPython.core.display.HTML object>"
      ]
     },
     "metadata": {},
     "output_type": "display_data"
    },
    {
     "name": "stdout",
     "output_type": "stream",
     "text": [
      "The autoreload extension is already loaded. To reload it, use:\n",
      "  %reload_ext autoreload\n",
      "[0.0832921795178958]\n",
      "[0.013886986006047696]\n",
      "[0.09717916552394353]\n",
      "[0.010543171261350097]\n"
     ]
    }
   ],
   "source": [
    "### 1000x 0.2e-3 ts\n",
    "\n",
    "from analysis_utils import *\n",
    "%load_ext autoreload\n",
    "%autoreload\n",
    "path = \"/Users/Akshay/Documents/TranslationDynamics/data/\"\n",
    "\n",
    "data = \"190916_1101/\"\n",
    "k=900\n",
    "gr30 = dict()\n",
    "for i in range(1,7):\n",
    "    sim_i = computeTransportRxnTimes(path+data, 1e15, 1e15, 300*(i-1)+100,300*(i-1)+200,scaling=1000)\n",
    "    gr30[i] = (CellLatencies(sim_i))\n",
    "\n",
    "\n",
    "gr = {3.0:gr30}\n",
    "\n",
    "#Figure 3\n",
    "from analysis_utils import *\n",
    "from IPython.core.display import display, HTML\n",
    "display(HTML(\"<style>.container { width:80% !important; }</style>\"))\n",
    "\n",
    "%load_ext autoreload\n",
    "%autoreload\n",
    "\n",
    "####### transport vs. reaction for different growth rates #####\n",
    "\n",
    "colors = ['darkblue','#D43F3A']\n",
    "gr_i_list = [3.0]\n",
    "phi_list = [0.13,0.22,0.30,0.36,0.39,0.42]\n",
    "markers = ['*','^']\n",
    "transport_phi = list()\n",
    "reaction_phi = list()\n",
    "search_phi = list()\n",
    "bootstrap_search_phi=list()\n",
    "search_list = list()\n",
    "for j,gr_i in enumerate(gr_i_list):\n",
    "    transport_vals_list = list()\n",
    "    reaction_vals_list = list()\n",
    "    search_vals_list = list()\n",
    "    bootstrap_vals_list = list()\n",
    "    for i in range(1,7):\n",
    "        transport_vals = gr[gr_i][i].avg_transportT*1/1608733*p_codon_count_hist_weighted_avg[i]/(1-p_codon_count_hist_weighted_avg[0])\n",
    "        rxn_vals = gr[gr_i][i].avg_rxnT*1/1608733*p_codon_count_hist_weighted_avg[i]/(1-p_codon_count_hist_weighted_avg[0])\n",
    "        search_vals = gr[gr_i][i].avg_searchT*1/1608733*p_codon_count_hist_weighted_avg[i]/(1-p_codon_count_hist_weighted_avg[0])\n",
    "        bootstrap_vals = gr[gr_i][i].bootstd_searchT*1/1608733*p_codon_count_hist_weighted_avg[i]/(1-p_codon_count_hist_weighted_avg[0])\n",
    "        \n",
    "        transport_vals_list.append(np.array(transport_vals))\n",
    "        reaction_vals_list.append(np.array(rxn_vals))\n",
    "        search_vals_list.append(np.array(search_vals))\n",
    "        bootstrap_vals_list.append(np.array(bootstrap_vals))\n",
    "        search_list.append(np.array(gr[gr_i][i].searchT)*1000/1608733)\n",
    "    transport_phi.append(np.sum(transport_vals_list))\n",
    "    reaction_phi.append(np.sum(reaction_vals_list))\n",
    "    search_phi.append(np.sum(search_vals_list))\n",
    "    bootstrap_search_phi.append(np.sum(bootstrap_vals_list))\n",
    "    \n",
    "print(transport_phi)\n",
    "print(reaction_phi)\n",
    "print(search_phi)\n",
    "print(bootstrap_search_phi)\n",
    "\n",
    "#############################################################################"
   ]
  },
  {
   "cell_type": "code",
   "execution_count": 32,
   "metadata": {
    "collapsed": false
   },
   "outputs": [
    {
     "name": "stdout",
     "output_type": "stream",
     "text": [
      "170.45597870767605\n",
      "117.71089298171277\n",
      "54.11799472073484\n",
      "45.06414924088304\n",
      "30.7639527506583\n",
      "27.48489774278732\n",
      "(0.0, 67.0283523923915)\n",
      "170.45597870767605\n",
      "117.71089298171277\n",
      "54.11799472073484\n",
      "45.06414924088304\n",
      "30.7639527506583\n",
      "27.48489774278732\n"
     ]
    },
    {
     "data": {
      "text/plain": [
       "(0, 0.7)"
      ]
     },
     "execution_count": 32,
     "metadata": {},
     "output_type": "execute_result"
    },
    {
     "data": {
      "image/png": "[encoded data removed]",
      "text/plain": [
       "<Figure size 432x288 with 1 Axes>"
      ]
     },
     "metadata": {
      "needs_background": "light"
     },
     "output_type": "display_data"
    },
    {
     "data": {
      "image/png": "[encoded data removed]",
      "text/plain": [
       "<Figure size 432x288 with 1 Axes>"
      ]
     },
     "metadata": {
      "needs_background": "light"
     },
     "output_type": "display_data"
    }
   ],
   "source": [
    "import scipy.stats as ss\n",
    "\n",
    "for i in range(0,6):\n",
    "    print(np.average(search_list[i]))\n",
    "\n",
    "search_list_combined = [k for b in search_list for k in b ]\n",
    "b = [k<600 for k in search_list_combined]\n",
    "search_list_combined = np.array(search_list_combined)\n",
    "min_search = search_list_combined[b]\n",
    "P = ss.expon.fit(min_search)\n",
    "print(P)\n",
    "rX = np.linspace(0,600, 1000)\n",
    "rP = ss.expon.pdf(rX, *P)\n",
    "plt.plot(rX, rP)\n",
    "\n",
    "plt.hist(min_search, normed=True, bins=10)\n",
    "\n",
    "plt.title('Search time: phi = 0.42 (gr =3.0); Acc=10; ts=0.2e-3; res_steps=3')\n",
    "plt.ylabel('Probability')\n",
    "plt.xlabel('Elongation time (ms)')\n",
    "\n",
    "plt.figure()\n",
    "for i in range(0,6):\n",
    "    print(np.average(search_list[i]))\n",
    "\n",
    "search_list_combined = [k for b in search_list for k in b ]\n",
    "gr30hist = np.histogram(search_list_combined,bins=20,range=(0,1000))\n",
    "plt.bar(gr30hist[1][0:-1],gr30hist[0]/sum(gr30hist[0]),align='edge',width=25,color='darkblue')\n",
    "\n",
    "plt.title('Search time: phi = 0.42 (gr =3.0); Acc=10; ts=0.2e-3; res_steps=3')\n",
    "plt.ylabel('Probability')\n",
    "plt.xlabel('Elongation time (ms)')\n",
    "plt.ylim(0,0.7)"
   ]
  },
  {
   "cell_type": "code",
   "execution_count": null,
   "metadata": {
    "collapsed": true
   },
   "outputs": [],
   "source": []
  },
  {
   "cell_type": "code",
   "execution_count": 33,
   "metadata": {
    "collapsed": false
   },
   "outputs": [
    {
     "name": "stdout",
     "output_type": "stream",
     "text": [
      "The autoreload extension is already loaded. To reload it, use:\n",
      "  %reload_ext autoreload\n",
      "test\n",
      "test\n",
      "test\n",
      "test\n",
      "test\n",
      "test\n"
     ]
    },
    {
     "data": {
      "text/html": [
       "<style>.container { width:80% !important; }</style>"
      ],
      "text/plain": [
       "<IPython.core.display.HTML object>"
      ]
     },
     "metadata": {},
     "output_type": "display_data"
    },
    {
     "name": "stdout",
     "output_type": "stream",
     "text": [
      "The autoreload extension is already loaded. To reload it, use:\n",
      "  %reload_ext autoreload\n",
      "[0.06407564883370073]\n",
      "[0.010931342374602313]\n",
      "[0.07500699120830305]\n",
      "[0.00761800434158683]\n"
     ]
    }
   ],
   "source": [
    "from analysis_utils import *\n",
    "%load_ext autoreload\n",
    "%autoreload\n",
    "path = \"/Users/Akshay/Documents/TranslationDynamics/data/\"\n",
    "\n",
    "gr30 = dict()\n",
    "data = \"190917_0105/\"\n",
    "k=900\n",
    "for i in range(1,7):\n",
    "    sim_i = computeTransportRxnTimes(path+data, 1e15, 1e15, 100*(i-1),100*(i-1)+100,scaling=200)\n",
    "    gr30[i] = (CellLatencies(sim_i))\n",
    "\n",
    "\n",
    "gr = {3.0:gr30}\n",
    "\n",
    "#Figure 3\n",
    "from analysis_utils import *\n",
    "from IPython.core.display import display, HTML\n",
    "display(HTML(\"<style>.container { width:80% !important; }</style>\"))\n",
    "\n",
    "%load_ext autoreload\n",
    "%autoreload\n",
    "\n",
    "####### transport vs. reaction for different growth rates #####\n",
    "\n",
    "colors = ['darkblue','#D43F3A']\n",
    "gr_i_list = [3.0]\n",
    "phi_list = [0.13,0.22,0.30,0.36,0.39,0.42]\n",
    "markers = ['*','^']\n",
    "transport_phi = list()\n",
    "reaction_phi = list()\n",
    "search_phi = list()\n",
    "bootstrap_search_phi=list()\n",
    "search_list = list()\n",
    "for j,gr_i in enumerate(gr_i_list):\n",
    "    transport_vals_list = list()\n",
    "    reaction_vals_list = list()\n",
    "    search_vals_list = list()\n",
    "    bootstrap_vals_list = list()\n",
    "    for i in range(1,7):\n",
    "        transport_vals = gr[gr_i][i].avg_transportT*1/1608733*p_codon_count_hist_weighted_avg[i]/(1-p_codon_count_hist_weighted_avg[0])\n",
    "        rxn_vals = gr[gr_i][i].avg_rxnT*1/1608733*p_codon_count_hist_weighted_avg[i]/(1-p_codon_count_hist_weighted_avg[0])\n",
    "        search_vals = gr[gr_i][i].avg_searchT*1/1608733*p_codon_count_hist_weighted_avg[i]/(1-p_codon_count_hist_weighted_avg[0])\n",
    "        bootstrap_vals = gr[gr_i][i].bootstd_searchT*1/1608733*p_codon_count_hist_weighted_avg[i]/(1-p_codon_count_hist_weighted_avg[0])\n",
    "        \n",
    "        transport_vals_list.append(np.array(transport_vals))\n",
    "        reaction_vals_list.append(np.array(rxn_vals))\n",
    "        search_vals_list.append(np.array(search_vals))\n",
    "        bootstrap_vals_list.append(np.array(bootstrap_vals))\n",
    "        search_list.append(np.array(gr[gr_i][i].searchT)*1000/1608733)\n",
    "    transport_phi.append(np.sum(transport_vals_list))\n",
    "    reaction_phi.append(np.sum(reaction_vals_list))\n",
    "    search_phi.append(np.sum(search_vals_list))\n",
    "    bootstrap_search_phi.append(np.sum(bootstrap_vals_list))\n",
    "    \n",
    "print(transport_phi)\n",
    "print(reaction_phi)\n",
    "print(search_phi)\n",
    "print(bootstrap_search_phi)\n",
    "\n",
    "#############################################################################"
   ]
  },
  {
   "cell_type": "code",
   "execution_count": 37,
   "metadata": {
    "collapsed": false
   },
   "outputs": [
    {
     "name": "stdout",
     "output_type": "stream",
     "text": [
      "152.25266416149873\n",
      "63.89112549526716\n",
      "45.80162724059178\n",
      "34.57840101428098\n",
      "25.703805168217883\n",
      "25.056601685760544\n",
      "(0.0, 57.88070412760284)\n",
      "152.25266416149873\n",
      "63.89112549526716\n",
      "45.80162724059178\n",
      "34.57840101428098\n",
      "25.703805168217883\n",
      "25.056601685760544\n"
     ]
    },
    {
     "data": {
      "text/plain": [
       "(0, 0.7)"
      ]
     },
     "execution_count": 37,
     "metadata": {},
     "output_type": "execute_result"
    },
    {
     "data": {
      "image/png": "[encoded data removed]",
      "text/plain": [
       "<Figure size 432x288 with 1 Axes>"
      ]
     },
     "metadata": {
      "needs_background": "light"
     },
     "output_type": "display_data"
    },
    {
     "data": {
      "image/png": "[encoded data removed]",
      "text/plain": [
       "<Figure size 432x288 with 1 Axes>"
      ]
     },
     "metadata": {
      "needs_background": "light"
     },
     "output_type": "display_data"
    }
   ],
   "source": [
    "for i in range(0,6):\n",
    "    print(np.average(search_list[i]))\n",
    "\n",
    "search_list_combined = [k for b in search_list for k in b ]\n",
    "b = [k<1000 for k in search_list_combined]\n",
    "search_list_combined = np.array(search_list_combined)\n",
    "min_search = search_list_combined[b]\n",
    "P = ss.expon.fit(min_search)\n",
    "print(P)\n",
    "rX = np.linspace(0,1000, 1000)\n",
    "rP = ss.expon.pdf(rX, *P)\n",
    "plt.plot(rX, rP)\n",
    "\n",
    "plt.hist(min_search, normed=True, bins=10)\n",
    "\n",
    "plt.title('Search time: phi = 0.42 (gr =3.0); Acc=10; ts=0.2e-3; res_steps=3')\n",
    "plt.ylabel('Probability')\n",
    "plt.xlabel('Elongation time (ms)')\n",
    "\n",
    "plt.figure()\n",
    "for i in range(0,6):\n",
    "    print(np.average(search_list[i]))\n",
    "\n",
    "search_list_combined = [k for b in search_list for k in b ]\n",
    "gr30hist = np.histogram(search_list_combined,bins=20,range=(0,1000))\n",
    "plt.bar(gr30hist[1][0:-1],gr30hist[0]/sum(gr30hist[0]),align='edge',width=25,color='darkblue')\n",
    "\n",
    "plt.title('Search time: phi = 0.42 (gr =3.0); Acc=10; ts=0.2e-3; res_steps=3')\n",
    "plt.ylabel('Probability')\n",
    "plt.xlabel('Elongation time (ms)')\n",
    "plt.ylim(0,0.7)"
   ]
  },
  {
   "cell_type": "code",
   "execution_count": 60,
   "metadata": {
    "collapsed": false
   },
   "outputs": [
    {
     "name": "stdout",
     "output_type": "stream",
     "text": [
      "The autoreload extension is already loaded. To reload it, use:\n",
      "  %reload_ext autoreload\n",
      "test\n",
      "test\n",
      "test\n",
      "test\n",
      "test\n",
      "test\n",
      "i\n"
     ]
    },
    {
     "data": {
      "text/html": [
       "<style>.container { width:80% !important; }</style>"
      ],
      "text/plain": [
       "<IPython.core.display.HTML object>"
      ]
     },
     "metadata": {},
     "output_type": "display_data"
    },
    {
     "name": "stdout",
     "output_type": "stream",
     "text": [
      "The autoreload extension is already loaded. To reload it, use:\n",
      "  %reload_ext autoreload\n",
      "[0.06127592865568816]\n",
      "[0.01024088427624191]\n",
      "[0.07151681293193007]\n",
      "[0.008041805672890406]\n"
     ]
    }
   ],
   "source": [
    "#100 scaling\n",
    "from analysis_utils import *\n",
    "%load_ext autoreload\n",
    "%autoreload\n",
    "path = \"/Users/Akshay/Documents/TranslationDynamics/data/\"\n",
    "\n",
    "gr06_1e8 = dict()\n",
    "data = \"190918_1046/\"\n",
    "k=900\n",
    "gr30 = dict()\n",
    "\n",
    "for i in range(1,7):\n",
    "    sim_i = computeTransportRxnTimes(path+data, 1e15, 1e15, 100*(i-1),100*(i-1)+100,scaling=100)\n",
    "    gr30[i] = (CellLatencies(sim_i))\n",
    "\n",
    "print('i')\n",
    "gr = {3.0:gr30}\n",
    "\n",
    "#Figure 3\n",
    "from analysis_utils import *\n",
    "from IPython.core.display import display, HTML\n",
    "display(HTML(\"<style>.container { width:80% !important; }</style>\"))\n",
    "\n",
    "%load_ext autoreload\n",
    "%autoreload\n",
    "\n",
    "####### transport vs. reaction for different growth rates #####\n",
    "\n",
    "colors = ['darkblue','#D43F3A']\n",
    "gr_i_list = [3.0]\n",
    "phi_list = [0.13,0.22,0.30,0.36,0.39,0.42]\n",
    "markers = ['*','^']\n",
    "transport_phi = list()\n",
    "reaction_phi = list()\n",
    "search_phi = list()\n",
    "bootstrap_search_phi=list()\n",
    "search_list = list()\n",
    "for j,gr_i in enumerate(gr_i_list):\n",
    "    transport_vals_list = list()\n",
    "    reaction_vals_list = list()\n",
    "    search_vals_list = list()\n",
    "    bootstrap_vals_list = list()\n",
    "    for i in range(1,7):\n",
    "        transport_vals = gr[gr_i][i].avg_transportT*1/1608733*p_codon_count_hist_weighted_avg[i]/(1-p_codon_count_hist_weighted_avg[0])\n",
    "        rxn_vals = gr[gr_i][i].avg_rxnT*1/1608733*p_codon_count_hist_weighted_avg[i]/(1-p_codon_count_hist_weighted_avg[0])\n",
    "        search_vals = gr[gr_i][i].avg_searchT*1/1608733*p_codon_count_hist_weighted_avg[i]/(1-p_codon_count_hist_weighted_avg[0])\n",
    "        bootstrap_vals = gr[gr_i][i].bootstd_searchT*1/1608733*p_codon_count_hist_weighted_avg[i]/(1-p_codon_count_hist_weighted_avg[0])\n",
    "        \n",
    "        transport_vals_list.append(np.array(transport_vals))\n",
    "        reaction_vals_list.append(np.array(rxn_vals))\n",
    "        search_vals_list.append(np.array(search_vals))\n",
    "        bootstrap_vals_list.append(np.array(bootstrap_vals))\n",
    "        search_list.append(np.array(gr[gr_i][i].searchT)*1000/1608733)\n",
    "    transport_phi.append(np.sum(transport_vals_list))\n",
    "    reaction_phi.append(np.sum(reaction_vals_list))\n",
    "    search_phi.append(np.sum(search_vals_list))\n",
    "    bootstrap_search_phi.append(np.sum(bootstrap_vals_list))\n",
    "    \n",
    "print(transport_phi)\n",
    "print(reaction_phi)\n",
    "print(search_phi)\n",
    "print(bootstrap_search_phi)\n",
    "\n",
    "#############################################################################"
   ]
  },
  {
   "cell_type": "code",
   "execution_count": 61,
   "metadata": {
    "collapsed": false
   },
   "outputs": [
    {
     "name": "stdout",
     "output_type": "stream",
     "text": [
      "81.61144099895066\n",
      "52.32726312519146\n",
      "42.19677832967216\n",
      "34.89922350039463\n",
      "24.749595611824706\n",
      "22.077849710329733\n",
      "(0.0, 41.71209402916013)\n",
      "128.33451842904208\n",
      "78.8467326735776\n",
      "42.19677832967216\n",
      "36.569918434938195\n",
      "24.749595611824706\n",
      "22.077849710329733\n",
      "910.2673110112268\n"
     ]
    },
    {
     "data": {
      "image/png": "[encoded data removed]",
      "text/plain": [
       "<Figure size 432x288 with 1 Axes>"
      ]
     },
     "metadata": {
      "needs_background": "light"
     },
     "output_type": "display_data"
    },
    {
     "data": {
      "image/png": "[encoded data removed]",
      "text/plain": [
       "<Figure size 432x288 with 1 Axes>"
      ]
     },
     "metadata": {
      "needs_background": "light"
     },
     "output_type": "display_data"
    }
   ],
   "source": [
    "import scipy.stats as ss\n",
    "min_search=list()\n",
    "for i in range(0,6):\n",
    "    b = [k<200 for k in search_list[i]]\n",
    "    search_list_combined = np.array(search_list[i])\n",
    "    min_search.append(search_list_combined[b])\n",
    "    print(np.average(search_list_combined[b]))\n",
    "\n",
    "min_search = [k for b in min_search for k in b]\n",
    "P = ss.expon.fit(min_search)\n",
    "print(P)\n",
    "rX = np.linspace(0,200, 1000)\n",
    "rP = ss.expon.pdf(rX, *P)\n",
    "plt.plot(rX, rP)\n",
    "\n",
    "plt.hist(min_search, normed=True, bins=10)\n",
    "\n",
    "plt.title('Search time: phi = 0.42 (gr =3.0); Acc=10; ts=0.2e-3; res_steps=3')\n",
    "plt.ylabel('Probability')\n",
    "plt.xlabel('Elongation time (ms)')\n",
    "\n",
    "plt.figure()\n",
    "for i in range(0,6):\n",
    "    print(np.average(search_list[i]))\n",
    "\n",
    "search_list_combined = [k for b in search_list for k in b ]\n",
    "gr30hist = np.histogram(search_list_combined,bins=20,range=(0,1000))\n",
    "plt.bar(gr30hist[1][0:-1],gr30hist[0]/sum(gr30hist[0]),align='edge',width=25,color='darkblue')\n",
    "\n",
    "plt.title('Search time: phi = 0.42 (gr =3.0); Acc=10; ts=0.2e-3; res_steps=3')\n",
    "plt.ylabel('Probability')\n",
    "plt.xlabel('Elongation time (ms)')\n",
    "plt.ylim(0,0.7)\n",
    "print(max(search_list_combined))"
   ]
  },
  {
   "cell_type": "code",
   "execution_count": 15,
   "metadata": {
    "collapsed": false
   },
   "outputs": [
    {
     "name": "stdout",
     "output_type": "stream",
     "text": [
      "The autoreload extension is already loaded. To reload it, use:\n",
      "  %reload_ext autoreload\n",
      "test\n",
      "missing expt\n",
      "10\n",
      "missing expt\n",
      "21\n",
      "missing expt\n",
      "31\n",
      "missing expt\n",
      "48\n",
      "missing expt\n",
      "54\n",
      "missing expt\n",
      "60\n",
      "missing expt\n",
      "72\n",
      "test\n",
      "missing expt\n",
      "161\n",
      "test\n",
      "test\n",
      "test\n",
      "test\n",
      "i\n"
     ]
    },
    {
     "data": {
      "text/html": [
       "<style>.container { width:80% !important; }</style>"
      ],
      "text/plain": [
       "<IPython.core.display.HTML object>"
      ]
     },
     "metadata": {},
     "output_type": "display_data"
    },
    {
     "name": "stdout",
     "output_type": "stream",
     "text": [
      "The autoreload extension is already loaded. To reload it, use:\n",
      "  %reload_ext autoreload\n",
      "[0.06324802042699551]\n",
      "[0.010038609187172169]\n",
      "[0.0732866296141677]\n",
      "[0.07323979814690337]\n"
     ]
    }
   ],
   "source": [
    "#20 scaling\n",
    "from analysis_utils import *\n",
    "%load_ext autoreload\n",
    "%autoreload\n",
    "path = \"/Users/Akshay/Documents/TranslationDynamics/data/\"\n",
    "\n",
    "gr06_1e8 = dict()\n",
    "data = \"190921_2357/\"\n",
    "k=900\n",
    "gr30 = dict()\n",
    "\n",
    "for i in range(1,7):\n",
    "    sim_i = computeTransportRxnTimes(path+data, 1e15, 1e15, 100*(i-1),100*(i-1)+100,scaling=20)\n",
    "    gr30[i] = (CellLatencies(sim_i))\n",
    "\n",
    "print('i')\n",
    "gr = {3.0:gr30}\n",
    "\n",
    "#Figure 3\n",
    "from analysis_utils import *\n",
    "from IPython.core.display import display, HTML\n",
    "display(HTML(\"<style>.container { width:80% !important; }</style>\"))\n",
    "\n",
    "%load_ext autoreload\n",
    "%autoreload\n",
    "\n",
    "####### transport vs. reaction for different growth rates #####\n",
    "\n",
    "colors = ['darkblue','#D43F3A']\n",
    "gr_i_list = [3.0]\n",
    "phi_list = [0.13,0.22,0.30,0.36,0.39,0.42]\n",
    "markers = ['*','^']\n",
    "transport_phi = list()\n",
    "reaction_phi = list()\n",
    "search_phi = list()\n",
    "bootstrap_search_phi=list()\n",
    "search_list = list()\n",
    "for j,gr_i in enumerate(gr_i_list):\n",
    "    transport_vals_list = list()\n",
    "    reaction_vals_list = list()\n",
    "    search_vals_list = list()\n",
    "    bootstrap_vals_list = list()\n",
    "    for i in range(1,7):\n",
    "        transport_vals = gr[gr_i][i].avg_transportT*1/1608733*p_codon_count_hist_weighted_avg[i]/(1-p_codon_count_hist_weighted_avg[0])\n",
    "        rxn_vals = gr[gr_i][i].avg_rxnT*1/1608733*p_codon_count_hist_weighted_avg[i]/(1-p_codon_count_hist_weighted_avg[0])\n",
    "        search_vals = gr[gr_i][i].avg_searchT*1/1608733*p_codon_count_hist_weighted_avg[i]/(1-p_codon_count_hist_weighted_avg[0])\n",
    "        bootstrap_vals = gr[gr_i][i].bootavg_searchT*1/1608733*p_codon_count_hist_weighted_avg[i]/(1-p_codon_count_hist_weighted_avg[0])\n",
    "        \n",
    "        transport_vals_list.append(np.array(transport_vals))\n",
    "        reaction_vals_list.append(np.array(rxn_vals))\n",
    "        search_vals_list.append(np.array(search_vals))\n",
    "        bootstrap_vals_list.append(np.array(bootstrap_vals))\n",
    "        search_list.append(np.array(gr[gr_i][i].searchT)*1000/1608733)\n",
    "    transport_phi.append(np.sum(transport_vals_list))\n",
    "    reaction_phi.append(np.sum(reaction_vals_list))\n",
    "    search_phi.append(np.sum(search_vals_list))\n",
    "    bootstrap_search_phi.append(np.sum(bootstrap_vals_list))\n",
    "    \n",
    "print(transport_phi)\n",
    "print(reaction_phi)\n",
    "print(search_phi)\n",
    "print(bootstrap_search_phi)\n",
    "\n",
    "#############################################################################"
   ]
  },
  {
   "cell_type": "code",
   "execution_count": 16,
   "metadata": {
    "collapsed": false
   },
   "outputs": [
    {
     "name": "stdout",
     "output_type": "stream",
     "text": [
      "134.7989367065274\n",
      "74.1759165377654\n",
      "47.58757004276123\n",
      "36.198379731221806\n",
      "28.946736054599672\n",
      "19.783365170609844\n",
      "(0.0, 41.93734066812312)\n",
      "134.7989367065274\n",
      "74.1759165377654\n",
      "47.58757004276123\n",
      "36.198379731221806\n",
      "28.946736054599672\n",
      "19.783365170609844\n",
      "423.1057723334446\n"
     ]
    },
    {
     "name": "stderr",
     "output_type": "stream",
     "text": [
      "/Users/Akshay/anaconda3/lib/python3.6/site-packages/ipykernel/__main__.py:14: MatplotlibDeprecationWarning: \n",
      "The 'normed' kwarg was deprecated in Matplotlib 2.1 and will be removed in 3.1. Use 'density' instead.\n"
     ]
    },
    {
     "data": {
      "image/png": "[encoded data removed]",
      "text/plain": [
       "<Figure size 432x288 with 1 Axes>"
      ]
     },
     "metadata": {
      "needs_background": "light"
     },
     "output_type": "display_data"
    },
    {
     "data": {
      "image/png": "[encoded data removed]",
      "text/plain": [
       "<Figure size 432x288 with 1 Axes>"
      ]
     },
     "metadata": {
      "needs_background": "light"
     },
     "output_type": "display_data"
    }
   ],
   "source": [
    "for i in range(0,6):\n",
    "    print(np.average(search_list[i]))\n",
    "\n",
    "search_list_combined = [k for b in search_list for k in b ]\n",
    "b = [k<200 for k in search_list_combined]\n",
    "search_list_combined = np.array(search_list_combined)\n",
    "min_search = search_list_combined[b]\n",
    "P = ss.expon.fit(min_search)\n",
    "print(P)\n",
    "rX = np.linspace(0,200, 1000)\n",
    "rP = ss.expon.pdf(rX, *P)\n",
    "plt.plot(rX, rP)\n",
    "\n",
    "plt.hist(min_search, normed=True, bins=10)\n",
    "\n",
    "plt.title('Search time: phi = 0.42 (gr =3.0); Acc=10; ts=0.2e-3; res_steps=3')\n",
    "plt.ylabel('Probability')\n",
    "plt.xlabel('Elongation time (ms)')\n",
    "\n",
    "plt.figure()\n",
    "for i in range(0,6):\n",
    "    print(np.average(search_list[i]))\n",
    "\n",
    "search_list_combined = [k for b in search_list for k in b ]\n",
    "gr30hist = np.histogram(search_list_combined,bins=20,range=(0,1000))\n",
    "plt.bar(gr30hist[1][0:-1],gr30hist[0]/sum(gr30hist[0]),align='edge',width=25,color='darkblue')\n",
    "\n",
    "plt.title('Search time: phi = 0.42 (gr =3.0); Acc=10; ts=0.2e-3; res_steps=3')\n",
    "plt.ylabel('Probability')\n",
    "plt.xlabel('Elongation time (ms)')\n",
    "plt.ylim(0,0.7)\n",
    "print(max(search_list_combined))"
   ]
  },
  {
   "cell_type": "code",
   "execution_count": 55,
   "metadata": {
    "collapsed": false
   },
   "outputs": [
    {
     "name": "stdout",
     "output_type": "stream",
     "text": [
      "The autoreload extension is already loaded. To reload it, use:\n",
      "  %reload_ext autoreload\n",
      "test\n",
      "missing expt\n",
      "1\n",
      "missing expt\n",
      "5\n",
      "missing expt\n",
      "12\n",
      "missing expt\n",
      "16\n",
      "missing expt\n",
      "20\n",
      "missing expt\n",
      "26\n",
      "missing expt\n",
      "27\n",
      "missing expt\n",
      "32\n",
      "missing expt\n",
      "36\n",
      "missing expt\n",
      "40\n",
      "missing expt\n",
      "43\n",
      "missing expt\n",
      "51\n",
      "missing expt\n",
      "56\n",
      "missing expt\n",
      "58\n",
      "missing expt\n",
      "59\n",
      "missing expt\n",
      "62\n",
      "missing expt\n",
      "64\n",
      "missing expt\n",
      "68\n",
      "missing expt\n",
      "77\n",
      "missing expt\n",
      "95\n",
      "missing expt\n",
      "97\n",
      "missing expt\n",
      "98\n",
      "test\n",
      "missing expt\n",
      "102\n",
      "missing expt\n",
      "112\n",
      "missing expt\n",
      "155\n",
      "missing expt\n",
      "163\n",
      "missing expt\n",
      "185\n",
      "test\n",
      "missing expt\n",
      "214\n",
      "missing expt\n",
      "265\n",
      "test\n",
      "test\n",
      "test\n",
      "i\n"
     ]
    },
    {
     "data": {
      "text/html": [
       "<style>.container { width:80% !important; }</style>"
      ],
      "text/plain": [
       "<IPython.core.display.HTML object>"
      ]
     },
     "metadata": {},
     "output_type": "display_data"
    },
    {
     "name": "stdout",
     "output_type": "stream",
     "text": [
      "The autoreload extension is already loaded. To reload it, use:\n",
      "  %reload_ext autoreload\n",
      "[0.042400157267609935]\n",
      "[0.007450909097797573]\n",
      "[0.04985106636540751]\n",
      "[0.049851618302900635]\n"
     ]
    }
   ],
   "source": [
    "#10 scaling\n",
    "from analysis_utils import *\n",
    "%load_ext autoreload\n",
    "%autoreload\n",
    "path = \"/Users/Akshay/Documents/TranslationDynamics/data/\"\n",
    "\n",
    "gr06_1e8 = dict()\n",
    "data = \"190921_2258/\"\n",
    "k=900\n",
    "gr30 = dict()\n",
    "\n",
    "for i in range(1,7):\n",
    "    sim_i = computeTransportRxnTimes(path+data, 1e15, 1e15, 100*(i-1),100*(i-1)+100,scaling=10)\n",
    "    gr30[i] = (CellLatencies(sim_i))\n",
    "\n",
    "print('i')\n",
    "gr = {3.0:gr30}\n",
    "\n",
    "#Figure 3\n",
    "from analysis_utils import *\n",
    "from IPython.core.display import display, HTML\n",
    "display(HTML(\"<style>.container { width:80% !important; }</style>\"))\n",
    "\n",
    "%load_ext autoreload\n",
    "%autoreload\n",
    "\n",
    "####### transport vs. reaction for different growth rates #####\n",
    "\n",
    "colors = ['darkblue','#D43F3A']\n",
    "gr_i_list = [3.0]\n",
    "phi_list = [0.13,0.22,0.30,0.36,0.39,0.42]\n",
    "markers = ['*','^']\n",
    "transport_phi = list()\n",
    "reaction_phi = list()\n",
    "search_phi = list()\n",
    "bootstrap_search_phi=list()\n",
    "search_list = list()\n",
    "for j,gr_i in enumerate(gr_i_list):\n",
    "    transport_vals_list = list()\n",
    "    reaction_vals_list = list()\n",
    "    search_vals_list = list()\n",
    "    bootstrap_vals_list = list()\n",
    "    for i in range(1,7):\n",
    "        transport_vals = gr[gr_i][i].avg_transportT*1/1608733*p_codon_count_hist_weighted_avg[i]/(1-p_codon_count_hist_weighted_avg[0])\n",
    "        rxn_vals = gr[gr_i][i].avg_rxnT*1/1608733*p_codon_count_hist_weighted_avg[i]/(1-p_codon_count_hist_weighted_avg[0])\n",
    "        search_vals = gr[gr_i][i].avg_searchT*1/1608733*p_codon_count_hist_weighted_avg[i]/(1-p_codon_count_hist_weighted_avg[0])\n",
    "        bootstrap_vals = gr[gr_i][i].bootavg_searchT*1/1608733*p_codon_count_hist_weighted_avg[i]/(1-p_codon_count_hist_weighted_avg[0])\n",
    "        \n",
    "        transport_vals_list.append(np.array(transport_vals))\n",
    "        reaction_vals_list.append(np.array(rxn_vals))\n",
    "        search_vals_list.append(np.array(search_vals))\n",
    "        bootstrap_vals_list.append(np.array(bootstrap_vals))\n",
    "        search_list.append(np.array(gr[gr_i][i].searchT)*1000/1608733)\n",
    "    transport_phi.append(np.sum(transport_vals_list))\n",
    "    reaction_phi.append(np.sum(reaction_vals_list))\n",
    "    search_phi.append(np.sum(search_vals_list))\n",
    "    bootstrap_search_phi.append(np.sum(bootstrap_vals_list))\n",
    "    \n",
    "print(transport_phi)\n",
    "print(reaction_phi)\n",
    "print(search_phi)\n",
    "print(bootstrap_search_phi)\n",
    "\n",
    "#############################################################################"
   ]
  },
  {
   "cell_type": "code",
   "execution_count": 57,
   "metadata": {
    "collapsed": false
   },
   "outputs": [
    {
     "name": "stdout",
     "output_type": "stream",
     "text": [
      "67.35045351614052\n",
      "60.5138708929358\n",
      "46.1780841884394\n",
      "31.155958483431093\n",
      "23.31236924792051\n",
      "20.588170700857134\n",
      "(0.0, 40.05205736771856)\n",
      "67.35045351614052\n",
      "60.5138708929358\n",
      "46.1780841884394\n",
      "31.155958483431093\n",
      "23.31236924792051\n",
      "20.588170700857134\n",
      "203.58250317622065\n"
     ]
    },
    {
     "data": {
      "image/png": "[encoded data removed]",
      "text/plain": [
       "<Figure size 432x288 with 1 Axes>"
      ]
     },
     "metadata": {
      "needs_background": "light"
     },
     "output_type": "display_data"
    },
    {
     "data": {
      "image/png": "[encoded data removed]",
      "text/plain": [
       "<Figure size 432x288 with 1 Axes>"
      ]
     },
     "metadata": {
      "needs_background": "light"
     },
     "output_type": "display_data"
    }
   ],
   "source": [
    "import scipy.stats as ss\n",
    "min_search=list()\n",
    "for i in range(0,6):\n",
    "    b = [k<200 for k in search_list[i]]\n",
    "    search_list_combined = np.array(search_list[i])\n",
    "    min_search.append(search_list_combined[b])\n",
    "    print(np.average(search_list_combined[b]))\n",
    "\n",
    "min_search = [k for b in min_search for k in b]\n",
    "P = ss.expon.fit(min_search)\n",
    "print(P)\n",
    "rX = np.linspace(0,200, 1000)\n",
    "rP = ss.expon.pdf(rX, *P)\n",
    "plt.plot(rX, rP)\n",
    "\n",
    "plt.hist(min_search, normed=True, bins=10)\n",
    "\n",
    "plt.title('Search time: phi = 0.42 (gr =3.0); Acc=10; ts=0.2e-3; res_steps=3')\n",
    "plt.ylabel('Probability')\n",
    "plt.xlabel('Elongation time (ms)')\n",
    "\n",
    "plt.figure()\n",
    "for i in range(0,6):\n",
    "    print(np.average(search_list[i]))\n",
    "\n",
    "search_list_combined = [k for b in search_list for k in b ]\n",
    "gr30hist = np.histogram(search_list_combined,bins=20,range=(0,1000))\n",
    "plt.bar(gr30hist[1][0:-1],gr30hist[0]/sum(gr30hist[0]),align='edge',width=25,color='darkblue')\n",
    "\n",
    "plt.title('Search time: phi = 0.42 (gr =3.0); Acc=10; ts=0.2e-3; res_steps=3')\n",
    "plt.ylabel('Probability')\n",
    "plt.xlabel('Elongation time (ms)')\n",
    "plt.ylim(0,0.7)\n",
    "print(max(search_list_combined))"
   ]
  },
  {
   "cell_type": "code",
   "execution_count": 69,
   "metadata": {
    "collapsed": false
   },
   "outputs": [
    {
     "name": "stdout",
     "output_type": "stream",
     "text": [
      "The autoreload extension is already loaded. To reload it, use:\n",
      "  %reload_ext autoreload\n",
      "test\n",
      "missing expt\n",
      "40\n",
      "test\n",
      "test\n",
      "test\n",
      "missing expt\n",
      "383\n",
      "test\n",
      "test\n",
      "missing expt\n",
      "541\n",
      "i\n"
     ]
    },
    {
     "data": {
      "text/html": [
       "<style>.container { width:80% !important; }</style>"
      ],
      "text/plain": [
       "<IPython.core.display.HTML object>"
      ]
     },
     "metadata": {},
     "output_type": "display_data"
    },
    {
     "name": "stdout",
     "output_type": "stream",
     "text": [
      "The autoreload extension is already loaded. To reload it, use:\n",
      "  %reload_ext autoreload\n",
      "[0.24819213862618805]\n",
      "[0.019543103676477394]\n",
      "[0.26773524230266543]\n",
      "[0.025801202159247864]\n"
     ]
    }
   ],
   "source": []
  },
  {
   "cell_type": "code",
   "execution_count": 70,
   "metadata": {
    "collapsed": false
   },
   "outputs": [
    {
     "name": "stdout",
     "output_type": "stream",
     "text": [
      "84.0286339411497\n",
      "73.8620887332386\n",
      "73.9486178379471\n",
      "64.2476391890177\n",
      "64.98841912215451\n",
      "64.96853742001602\n",
      "(0.0, 68.99118233500697)\n",
      "513.7146826514307\n",
      "237.17626539580746\n",
      "176.91197232481588\n",
      "142.68314620238658\n",
      "108.0825245654911\n",
      "74.5035077391537\n",
      "1941.9278411856262\n"
     ]
    },
    {
     "data": {
      "image/png": "[encoded data removed]",
      "text/plain": [
       "<Figure size 432x288 with 1 Axes>"
      ]
     },
     "metadata": {
      "needs_background": "light"
     },
     "output_type": "display_data"
    },
    {
     "data": {
      "image/png": "[encoded data removed]",
      "text/plain": [
       "<Figure size 432x288 with 1 Axes>"
      ]
     },
     "metadata": {
      "needs_background": "light"
     },
     "output_type": "display_data"
    }
   ],
   "source": []
  },
  {
   "cell_type": "code",
   "execution_count": 3,
   "metadata": {
    "collapsed": false
   },
   "outputs": [
    {
     "name": "stdout",
     "output_type": "stream",
     "text": [
      "test\n",
      "test\n",
      "test\n",
      "test\n",
      "test\n",
      "test\n",
      "i\n"
     ]
    },
    {
     "data": {
      "text/html": [
       "<style>.container { width:80% !important; }</style>"
      ],
      "text/plain": [
       "<IPython.core.display.HTML object>"
      ]
     },
     "metadata": {},
     "output_type": "display_data"
    },
    {
     "name": "stdout",
     "output_type": "stream",
     "text": [
      "The autoreload extension is already loaded. To reload it, use:\n",
      "  %reload_ext autoreload\n",
      "[0.0653749795879345]\n",
      "[0.010638680647462609]\n",
      "[0.07601366023539713]\n",
      "[0.007262157590512339]\n"
     ]
    }
   ],
   "source": [
    "#gr 3.0\n",
    "#100 scaling, 0.1e-3\n",
    "from analysis_utils import *\n",
    "%load_ext autoreload\n",
    "%autoreload\n",
    "path = \"/Users/Akshay/Documents/TranslationDynamics/data/\"\n",
    "\n",
    "gr06_1e8 = dict()\n",
    "data = \"190925_1407/\"\n",
    "k=900\n",
    "gr30 = dict()\n",
    "\n",
    "for i in range(1,7):\n",
    "    sim_i = computeTransportRxnTimes(path+data, 1e15, 1e15, 100*(i-1),100*(i-1)+100,scaling=100)\n",
    "    gr30[i] = (CellLatencies(sim_i))\n",
    "\n",
    "print('i')\n",
    "gr = {3.0:gr30}\n",
    "\n",
    "#Figure 3\n",
    "from analysis_utils import *\n",
    "from IPython.core.display import display, HTML\n",
    "display(HTML(\"<style>.container { width:80% !important; }</style>\"))\n",
    "\n",
    "%load_ext autoreload\n",
    "%autoreload\n",
    "\n",
    "####### transport vs. reaction for different growth rates #####\n",
    "\n",
    "colors = ['darkblue','#D43F3A']\n",
    "gr_i_list = [3.0]\n",
    "phi_list = [0.13,0.22,0.30,0.36,0.39,0.42]\n",
    "markers = ['*','^']\n",
    "transport_phi = list()\n",
    "reaction_phi = list()\n",
    "search_phi = list()\n",
    "bootstrap_search_phi=list()\n",
    "search_list = list()\n",
    "for j,gr_i in enumerate(gr_i_list):\n",
    "    transport_vals_list = list()\n",
    "    reaction_vals_list = list()\n",
    "    search_vals_list = list()\n",
    "    bootstrap_vals_list = list()\n",
    "    for i in range(1,7):\n",
    "        transport_vals = gr[gr_i][i].avg_transportT*1/1608733*p_codon_count_hist_weighted_avg[i]/(1-p_codon_count_hist_weighted_avg[0])\n",
    "        rxn_vals = gr[gr_i][i].avg_rxnT*1/1608733*p_codon_count_hist_weighted_avg[i]/(1-p_codon_count_hist_weighted_avg[0])\n",
    "        search_vals = gr[gr_i][i].avg_searchT*1/1608733*p_codon_count_hist_weighted_avg[i]/(1-p_codon_count_hist_weighted_avg[0])\n",
    "        bootstrap_vals = gr[gr_i][i].bootstd_searchT*1/1608733*p_codon_count_hist_weighted_avg[i]/(1-p_codon_count_hist_weighted_avg[0])\n",
    "        \n",
    "        transport_vals_list.append(np.array(transport_vals))\n",
    "        reaction_vals_list.append(np.array(rxn_vals))\n",
    "        search_vals_list.append(np.array(search_vals))\n",
    "        bootstrap_vals_list.append(np.array(bootstrap_vals))\n",
    "        search_list.append(np.array(gr[gr_i][i].searchT)*1000/1608733)\n",
    "    transport_phi.append(np.sum(transport_vals_list))\n",
    "    reaction_phi.append(np.sum(reaction_vals_list))\n",
    "    search_phi.append(np.sum(search_vals_list))\n",
    "    bootstrap_search_phi.append(np.sum(bootstrap_vals_list))\n",
    "    \n",
    "print(transport_phi)\n",
    "print(reaction_phi)\n",
    "print(search_phi)\n",
    "print(bootstrap_search_phi)\n",
    "\n",
    "#############################################################################"
   ]
  },
  {
   "cell_type": "code",
   "execution_count": 68,
   "metadata": {
    "collapsed": false
   },
   "outputs": [
    {
     "name": "stdout",
     "output_type": "stream",
     "text": [
      "83.0916773299439\n",
      "54.69431072506663\n",
      "47.808456160281786\n",
      "32.07234829704673\n",
      "27.000439970439498\n",
      "22.268861579893628\n",
      "(0.0, 42.44037909537773)\n",
      "143.96563973417125\n",
      "70.119681529458\n",
      "49.850633135935915\n",
      "32.07234829704673\n",
      "27.000439970439498\n",
      "22.268861579893628\n",
      "530.0517431801976\n"
     ]
    },
    {
     "data": {
      "image/png": "[encoded data removed]",
      "text/plain": [
       "<Figure size 432x288 with 1 Axes>"
      ]
     },
     "metadata": {
      "needs_background": "light"
     },
     "output_type": "display_data"
    },
    {
     "data": {
      "image/png": "[encoded data removed]",
      "text/plain": [
       "<Figure size 432x288 with 1 Axes>"
      ]
     },
     "metadata": {
      "needs_background": "light"
     },
     "output_type": "display_data"
    }
   ],
   "source": [
    "import scipy.stats as ss\n",
    "min_search=list()\n",
    "for i in range(0,6):\n",
    "    b = [k<200 for k in search_list[i]]\n",
    "    search_list_combined = np.array(search_list[i])\n",
    "    min_search.append(search_list_combined[b])\n",
    "    print(np.average(search_list_combined[b]))\n",
    "\n",
    "min_search = [k for b in min_search for k in b]\n",
    "P = ss.expon.fit(min_search)\n",
    "print(P)\n",
    "rX = np.linspace(0,200, 1000)\n",
    "rP = ss.expon.pdf(rX, *P)\n",
    "plt.plot(rX, rP)\n",
    "\n",
    "plt.hist(min_search, normed=True, bins=10)\n",
    "\n",
    "plt.title('Search time: phi = 0.42 (gr =3.0); Acc=10; ts=0.2e-3; res_steps=3')\n",
    "plt.ylabel('Probability')\n",
    "plt.xlabel('Elongation time (ms)')\n",
    "\n",
    "plt.figure()\n",
    "for i in range(0,6):\n",
    "    print(np.average(search_list[i]))\n",
    "\n",
    "search_list_combined = [k for b in search_list for k in b ]\n",
    "gr30hist = np.histogram(search_list_combined,bins=20,range=(0,1000))\n",
    "plt.bar(gr30hist[1][0:-1],gr30hist[0]/sum(gr30hist[0]),align='edge',width=25,color='darkblue')\n",
    "\n",
    "plt.title('Search time: phi = 0.42 (gr =3.0); Acc=10; ts=0.2e-3; res_steps=3')\n",
    "plt.ylabel('Probability')\n",
    "plt.xlabel('Elongation time (ms)')\n",
    "plt.ylim(0,0.7)\n",
    "print(max(search_list_combined))"
   ]
  },
  {
   "cell_type": "code",
   "execution_count": null,
   "metadata": {
    "collapsed": true
   },
   "outputs": [],
   "source": []
  },
  {
   "cell_type": "code",
   "execution_count": 13,
   "metadata": {
    "collapsed": false
   },
   "outputs": [
    {
     "name": "stdout",
     "output_type": "stream",
     "text": [
      "The autoreload extension is already loaded. To reload it, use:\n",
      "  %reload_ext autoreload\n",
      "test\n",
      "test\n",
      "test\n",
      "test\n",
      "missing expt\n",
      "383\n",
      "test\n",
      "test\n",
      "missing expt\n",
      "541\n",
      "i\n"
     ]
    },
    {
     "data": {
      "text/html": [
       "<style>.container { width:80% !important; }</style>"
      ],
      "text/plain": [
       "<IPython.core.display.HTML object>"
      ]
     },
     "metadata": {},
     "output_type": "display_data"
    },
    {
     "name": "stdout",
     "output_type": "stream",
     "text": [
      "The autoreload extension is already loaded. To reload it, use:\n",
      "  %reload_ext autoreload\n",
      "[0.25329641209887904]\n",
      "[0.020109062156875877]\n",
      "[0.27340547425575484]\n",
      "[0.02727933029283609]\n"
     ]
    }
   ],
   "source": [
    "#1000 scaling, gr 0.6\n",
    "from analysis_utils import *\n",
    "%load_ext autoreload\n",
    "%autoreload\n",
    "path = \"/Users/Akshay/Documents/TranslationDynamics/data/\"\n",
    "\n",
    "gr06_1e8 = dict()\n",
    "data = \"190927_0043/\"\n",
    "k=900\n",
    "gr30 = dict()\n",
    "\n",
    "for i in range(1,7):\n",
    "    sim_i = computeTransportRxnTimes(path+data, 1e15, 1e15, 100*(i-1),100*(i-1)+100,scaling=1000)\n",
    "    gr30[i] = (CellLatencies(sim_i))\n",
    "\n",
    "print('i')\n",
    "gr = {3.0:gr30}\n",
    "\n",
    "#Figure 3\n",
    "from analysis_utils import *\n",
    "from IPython.core.display import display, HTML\n",
    "display(HTML(\"<style>.container { width:80% !important; }</style>\"))\n",
    "\n",
    "%load_ext autoreload\n",
    "%autoreload\n",
    "\n",
    "####### transport vs. reaction for different growth rates #####\n",
    "\n",
    "colors = ['darkblue','#D43F3A']\n",
    "gr_i_list = [3.0]\n",
    "phi_list = [0.13,0.22,0.30,0.36,0.39,0.42]\n",
    "markers = ['*','^']\n",
    "transport_phi = list()\n",
    "reaction_phi = list()\n",
    "search_phi = list()\n",
    "bootstrap_search_phi=list()\n",
    "search_list = list()\n",
    "for j,gr_i in enumerate(gr_i_list):\n",
    "    transport_vals_list = list()\n",
    "    reaction_vals_list = list()\n",
    "    search_vals_list = list()\n",
    "    bootstrap_vals_list = list()\n",
    "    for i in range(1,7):\n",
    "        transport_vals = gr[gr_i][i].avg_transportT*1/1608733*p_codon_count_hist_weighted_avg[i]/(1-p_codon_count_hist_weighted_avg[0])\n",
    "        rxn_vals = gr[gr_i][i].avg_rxnT*1/1608733*p_codon_count_hist_weighted_avg[i]/(1-p_codon_count_hist_weighted_avg[0])\n",
    "        search_vals = gr[gr_i][i].avg_searchT*1/1608733*p_codon_count_hist_weighted_avg[i]/(1-p_codon_count_hist_weighted_avg[0])\n",
    "        bootstrap_vals = gr[gr_i][i].bootstd_searchT*1/1608733*p_codon_count_hist_weighted_avg[i]/(1-p_codon_count_hist_weighted_avg[0])\n",
    "        \n",
    "        transport_vals_list.append(np.array(transport_vals))\n",
    "        reaction_vals_list.append(np.array(rxn_vals))\n",
    "        search_vals_list.append(np.array(search_vals))\n",
    "        bootstrap_vals_list.append(np.array(bootstrap_vals))\n",
    "        search_list.append(np.array(gr[gr_i][i].searchT)*1000/1608733)\n",
    "    transport_phi.append(np.sum(transport_vals_list))\n",
    "    reaction_phi.append(np.sum(reaction_vals_list))\n",
    "    search_phi.append(np.sum(search_vals_list))\n",
    "    bootstrap_search_phi.append(np.sum(bootstrap_vals_list))\n",
    "    \n",
    "print(transport_phi)\n",
    "print(reaction_phi)\n",
    "print(search_phi)\n",
    "print(bootstrap_search_phi)\n",
    "\n",
    "#############################################################################"
   ]
  },
  {
   "cell_type": "code",
   "execution_count": 14,
   "metadata": {
    "collapsed": false
   },
   "outputs": [
    {
     "name": "stdout",
     "output_type": "stream",
     "text": [
      "167.40341732838922\n",
      "160.09084020234752\n",
      "126.14748898669905\n",
      "99.39600570115928\n",
      "96.93520739955497\n",
      "74.5035077391537\n",
      "(0.0, 116.13105769991503)\n",
      "534.9967813057506\n",
      "237.17626539580746\n",
      "176.91197232481588\n",
      "142.68314620238658\n",
      "108.0825245654911\n",
      "74.5035077391537\n",
      "2641.924548083413\n"
     ]
    },
    {
     "name": "stderr",
     "output_type": "stream",
     "text": [
      "/Users/Akshay/anaconda3/lib/python3.6/site-packages/ipykernel/__main__.py:16: MatplotlibDeprecationWarning: \n",
      "The 'normed' kwarg was deprecated in Matplotlib 2.1 and will be removed in 3.1. Use 'density' instead.\n"
     ]
    },
    {
     "data": {
      "image/png": "[encoded data removed]",
      "text/plain": [
       "<Figure size 432x288 with 1 Axes>"
      ]
     },
     "metadata": {
      "needs_background": "light"
     },
     "output_type": "display_data"
    },
    {
     "data": {
      "image/png": "[encoded data removed]",
      "text/plain": [
       "<Figure size 432x288 with 1 Axes>"
      ]
     },
     "metadata": {
      "needs_background": "light"
     },
     "output_type": "display_data"
    }
   ],
   "source": [
    "import scipy.stats as ss\n",
    "min_search=list()\n",
    "for i in range(0,6):\n",
    "    b = [k<380 for k in search_list[i]]\n",
    "    search_list_combined = np.array(search_list[i])\n",
    "    min_search.append(search_list_combined[b])\n",
    "    print(np.average(search_list_combined[b]))\n",
    "\n",
    "min_search = [k for b in min_search for k in b]\n",
    "P = ss.expon.fit(min_search)\n",
    "print(P)\n",
    "rX = np.linspace(0,380, 1000)\n",
    "rP = ss.expon.pdf(rX, *P)\n",
    "plt.plot(rX, rP)\n",
    "\n",
    "plt.hist(min_search, normed=True, bins=10)\n",
    "\n",
    "plt.title('Search time: phi = 0.13 (gr =0.6); Acc=10; ts=0.1e-3; res_steps=3')\n",
    "plt.ylabel('Probability')\n",
    "plt.xlabel('Elongation time (ms)')\n",
    "\n",
    "plt.figure()\n",
    "for i in range(0,6):\n",
    "    print(np.average(search_list[i]))\n",
    "\n",
    "search_list_combined = [k for b in search_list for k in b ]\n",
    "gr30hist = np.histogram(search_list_combined,bins=20,range=(0,1000))\n",
    "plt.bar(gr30hist[1][0:-1],gr30hist[0]/sum(gr30hist[0]),align='edge',width=25,color='darkblue')\n",
    "\n",
    "plt.title('Search time: phi = 0.13 (gr =0.6); Acc=10; ts=0.1e-3; res_steps=3')\n",
    "plt.ylabel('Probability')\n",
    "plt.xlabel('Elongation time (ms)')\n",
    "plt.ylim(0,0.7)\n",
    "print(max(search_list_combined))"
   ]
  },
  {
   "cell_type": "code",
   "execution_count": 11,
   "metadata": {
    "collapsed": false
   },
   "outputs": [
    {
     "name": "stdout",
     "output_type": "stream",
     "text": [
      "The autoreload extension is already loaded. To reload it, use:\n",
      "  %reload_ext autoreload\n",
      "test\n",
      "missing expt\n",
      "6\n",
      "missing expt\n",
      "10\n",
      "missing expt\n",
      "16\n",
      "missing expt\n",
      "17\n",
      "missing expt\n",
      "20\n",
      "missing expt\n",
      "22\n",
      "missing expt\n",
      "23\n",
      "missing expt\n",
      "32\n",
      "missing expt\n",
      "36\n",
      "missing expt\n",
      "43\n",
      "missing expt\n",
      "44\n",
      "missing expt\n",
      "48\n",
      "missing expt\n",
      "49\n",
      "missing expt\n",
      "51\n",
      "missing expt\n",
      "57\n",
      "missing expt\n",
      "60\n",
      "missing expt\n",
      "62\n",
      "missing expt\n",
      "78\n",
      "missing expt\n",
      "81\n",
      "missing expt\n",
      "90\n",
      "missing expt\n",
      "98\n",
      "test\n",
      "missing expt\n",
      "119\n",
      "missing expt\n",
      "126\n",
      "missing expt\n",
      "149\n",
      "missing expt\n",
      "152\n",
      "missing expt\n",
      "161\n",
      "missing expt\n",
      "162\n",
      "missing expt\n",
      "171\n",
      "missing expt\n",
      "195\n",
      "test\n",
      "missing expt\n",
      "204\n",
      "test\n",
      "test\n",
      "test\n",
      "i\n"
     ]
    },
    {
     "data": {
      "text/html": [
       "<style>.container { width:80% !important; }</style>"
      ],
      "text/plain": [
       "<IPython.core.display.HTML object>"
      ]
     },
     "metadata": {},
     "output_type": "display_data"
    },
    {
     "name": "stdout",
     "output_type": "stream",
     "text": [
      "The autoreload extension is already loaded. To reload it, use:\n",
      "  %reload_ext autoreload\n",
      "[0.14661867613940513]\n",
      "[0.011650741731749941]\n",
      "[0.15826941787115506]\n",
      "[0.015022849038267021]\n"
     ]
    }
   ],
   "source": [
    "#200 scaling, gr 0.6\n",
    "from analysis_utils import *\n",
    "%load_ext autoreload\n",
    "%autoreload\n",
    "path = \"/Users/Akshay/Documents/TranslationDynamics/data/\"\n",
    "\n",
    "gr06_1e8 = dict()\n",
    "data = \"190927_0154/\"\n",
    "k=900\n",
    "gr30 = dict()\n",
    "\n",
    "for i in range(1,7):\n",
    "    sim_i = computeTransportRxnTimes(path+data, 1e15, 1e15, 100*(i-1),100*(i-1)+100,scaling=200)\n",
    "    gr30[i] = (CellLatencies(sim_i))\n",
    "\n",
    "print('i')\n",
    "gr = {3.0:gr30}\n",
    "\n",
    "#Figure 3\n",
    "from analysis_utils import *\n",
    "from IPython.core.display import display, HTML\n",
    "display(HTML(\"<style>.container { width:80% !important; }</style>\"))\n",
    "\n",
    "%load_ext autoreload\n",
    "%autoreload\n",
    "\n",
    "####### transport vs. reaction for different growth rates #####\n",
    "\n",
    "colors = ['darkblue','#D43F3A']\n",
    "gr_i_list = [3.0]\n",
    "phi_list = [0.13,0.22,0.30,0.36,0.39,0.42]\n",
    "markers = ['*','^']\n",
    "transport_phi = list()\n",
    "reaction_phi = list()\n",
    "search_phi = list()\n",
    "bootstrap_search_phi=list()\n",
    "search_list = list()\n",
    "for j,gr_i in enumerate(gr_i_list):\n",
    "    transport_vals_list = list()\n",
    "    reaction_vals_list = list()\n",
    "    search_vals_list = list()\n",
    "    bootstrap_vals_list = list()\n",
    "    for i in range(1,7):\n",
    "        transport_vals = gr[gr_i][i].avg_transportT*1/1608733*p_codon_count_hist_weighted_avg[i]/(1-p_codon_count_hist_weighted_avg[0])\n",
    "        rxn_vals = gr[gr_i][i].avg_rxnT*1/1608733*p_codon_count_hist_weighted_avg[i]/(1-p_codon_count_hist_weighted_avg[0])\n",
    "        search_vals = gr[gr_i][i].avg_searchT*1/1608733*p_codon_count_hist_weighted_avg[i]/(1-p_codon_count_hist_weighted_avg[0])\n",
    "        bootstrap_vals = gr[gr_i][i].bootstd_searchT*1/1608733*p_codon_count_hist_weighted_avg[i]/(1-p_codon_count_hist_weighted_avg[0])\n",
    "        \n",
    "        transport_vals_list.append(np.array(transport_vals))\n",
    "        reaction_vals_list.append(np.array(rxn_vals))\n",
    "        search_vals_list.append(np.array(search_vals))\n",
    "        bootstrap_vals_list.append(np.array(bootstrap_vals))\n",
    "        search_list.append(np.array(gr[gr_i][i].searchT)*1000/1608733)\n",
    "    transport_phi.append(np.sum(transport_vals_list))\n",
    "    reaction_phi.append(np.sum(reaction_vals_list))\n",
    "    search_phi.append(np.sum(search_vals_list))\n",
    "    bootstrap_search_phi.append(np.sum(bootstrap_vals_list))\n",
    "    \n",
    "print(transport_phi)\n",
    "print(reaction_phi)\n",
    "print(search_phi)\n",
    "print(bootstrap_search_phi)\n",
    "\n",
    "#############################################################################"
   ]
  },
  {
   "cell_type": "code",
   "execution_count": 12,
   "metadata": {
    "collapsed": false
   },
   "outputs": [
    {
     "name": "stdout",
     "output_type": "stream",
     "text": [
      "150.4341284549378\n",
      "128.39737226676715\n",
      "118.12468988147947\n",
      "91.48019887470618\n",
      "75.18461844459044\n",
      "50.802941690426316\n",
      "(0.0, 97.81481448629835)\n",
      "244.20534980079887\n",
      "166.7735026566482\n",
      "134.6011220578151\n",
      "106.00362521794307\n",
      "75.18461844459044\n",
      "50.802941690426316\n",
      "704.6553289924183\n"
     ]
    },
    {
     "name": "stderr",
     "output_type": "stream",
     "text": [
      "/Users/Akshay/anaconda3/lib/python3.6/site-packages/ipykernel/__main__.py:16: MatplotlibDeprecationWarning: \n",
      "The 'normed' kwarg was deprecated in Matplotlib 2.1 and will be removed in 3.1. Use 'density' instead.\n"
     ]
    },
    {
     "data": {
      "image/png": "[encoded data removed]",
      "text/plain": [
       "<Figure size 432x288 with 1 Axes>"
      ]
     },
     "metadata": {
      "needs_background": "light"
     },
     "output_type": "display_data"
    },
    {
     "data": {
      "image/png": "[encoded data removed]",
      "text/plain": [
       "<Figure size 432x288 with 1 Axes>"
      ]
     },
     "metadata": {
      "needs_background": "light"
     },
     "output_type": "display_data"
    }
   ],
   "source": [
    "import scipy.stats as ss\n",
    "min_search=list()\n",
    "for i in range(0,6):\n",
    "    b = [k<380 for k in search_list[i]]\n",
    "    search_list_combined = np.array(search_list[i])\n",
    "    min_search.append(search_list_combined[b])\n",
    "    print(np.average(search_list_combined[b]))\n",
    "\n",
    "min_search = [k for b in min_search for k in b]\n",
    "P = ss.expon.fit(min_search)\n",
    "print(P)\n",
    "rX = np.linspace(0,380, 1000)\n",
    "rP = ss.expon.pdf(rX, *P)\n",
    "plt.plot(rX, rP)\n",
    "\n",
    "plt.hist(min_search, normed=True, bins=10)\n",
    "\n",
    "plt.title('Search time: phi = 0.13 (gr =0.6); Acc=10; ts=0.1e-3; res_steps=3')\n",
    "plt.ylabel('Probability')\n",
    "plt.xlabel('Elongation time (ms)')\n",
    "\n",
    "plt.figure()\n",
    "for i in range(0,6):\n",
    "    print(np.average(search_list[i]))\n",
    "\n",
    "search_list_combined = [k for b in search_list for k in b ]\n",
    "gr30hist = np.histogram(search_list_combined,bins=20,range=(0,1000))\n",
    "plt.bar(gr30hist[1][0:-1],gr30hist[0]/sum(gr30hist[0]),align='edge',width=25,color='darkblue')\n",
    "\n",
    "plt.title('Search time: phi = 0.13 (gr =0.6); Acc=10; ts=0.1e-3; res_steps=3')\n",
    "plt.ylabel('Probability')\n",
    "plt.xlabel('Elongation time (ms)')\n",
    "plt.ylim(0,0.7)\n",
    "print(max(search_list_combined))"
   ]
  },
  {
   "cell_type": "code",
   "execution_count": 8,
   "metadata": {
    "collapsed": false
   },
   "outputs": [
    {
     "name": "stdout",
     "output_type": "stream",
     "text": [
      "The autoreload extension is already loaded. To reload it, use:\n",
      "  %reload_ext autoreload\n",
      "test\n",
      "missing expt\n",
      "0\n",
      "missing expt\n",
      "6\n",
      "missing expt\n",
      "7\n",
      "missing expt\n",
      "11\n",
      "missing expt\n",
      "14\n",
      "missing expt\n",
      "16\n",
      "missing expt\n",
      "17\n",
      "missing expt\n",
      "19\n",
      "missing expt\n",
      "21\n",
      "missing expt\n",
      "22\n",
      "missing expt\n",
      "23\n",
      "missing expt\n",
      "25\n",
      "missing expt\n",
      "26\n",
      "missing expt\n",
      "30\n",
      "missing expt\n",
      "31\n",
      "missing expt\n",
      "34\n",
      "missing expt\n",
      "36\n",
      "missing expt\n",
      "38\n",
      "missing expt\n",
      "39\n",
      "missing expt\n",
      "42\n",
      "missing expt\n",
      "45\n",
      "missing expt\n",
      "47\n",
      "missing expt\n",
      "48\n",
      "missing expt\n",
      "49\n",
      "missing expt\n",
      "50\n",
      "missing expt\n",
      "51\n",
      "missing expt\n",
      "53\n",
      "missing expt\n",
      "54\n",
      "missing expt\n",
      "55\n",
      "missing expt\n",
      "57\n",
      "missing expt\n",
      "59\n",
      "missing expt\n",
      "60\n",
      "missing expt\n",
      "62\n",
      "missing expt\n",
      "63\n",
      "missing expt\n",
      "64\n",
      "missing expt\n",
      "66\n",
      "missing expt\n",
      "73\n",
      "missing expt\n",
      "76\n",
      "missing expt\n",
      "78\n",
      "missing expt\n",
      "79\n",
      "missing expt\n",
      "80\n",
      "missing expt\n",
      "81\n",
      "missing expt\n",
      "82\n",
      "missing expt\n",
      "83\n",
      "missing expt\n",
      "87\n",
      "missing expt\n",
      "89\n",
      "missing expt\n",
      "91\n",
      "missing expt\n",
      "92\n",
      "test\n",
      "missing expt\n",
      "100\n",
      "missing expt\n",
      "102\n",
      "missing expt\n",
      "104\n",
      "missing expt\n",
      "114\n",
      "missing expt\n",
      "121\n",
      "missing expt\n",
      "128\n",
      "missing expt\n",
      "132\n",
      "missing expt\n",
      "141\n",
      "missing expt\n",
      "143\n",
      "missing expt\n",
      "165\n",
      "missing expt\n",
      "174\n",
      "missing expt\n",
      "176\n",
      "missing expt\n",
      "181\n",
      "missing expt\n",
      "184\n",
      "missing expt\n",
      "196\n",
      "missing expt\n",
      "199\n",
      "test\n",
      "missing expt\n",
      "268\n",
      "missing expt\n",
      "269\n",
      "missing expt\n",
      "289\n",
      "test\n",
      "missing expt\n",
      "323\n",
      "missing expt\n",
      "359\n",
      "missing expt\n",
      "382\n",
      "missing expt\n",
      "392\n",
      "test\n",
      "test\n",
      "missing expt\n",
      "548\n",
      "i\n"
     ]
    },
    {
     "data": {
      "text/html": [
       "<style>.container { width:80% !important; }</style>"
      ],
      "text/plain": [
       "<IPython.core.display.HTML object>"
      ]
     },
     "metadata": {},
     "output_type": "display_data"
    },
    {
     "name": "stdout",
     "output_type": "stream",
     "text": [
      "The autoreload extension is already loaded. To reload it, use:\n",
      "  %reload_ext autoreload\n",
      "[0.1085119378786438]\n",
      "[0.008512489280677982]\n",
      "[0.11702442715932178]\n",
      "[0.010947813248103748]\n"
     ]
    }
   ],
   "source": [
    "#100 scaling, gr 0.6\n",
    "from analysis_utils import *\n",
    "%load_ext autoreload\n",
    "%autoreload\n",
    "path = \"/Users/Akshay/Documents/TranslationDynamics/data/\"\n",
    "\n",
    "gr06_1e8 = dict()\n",
    "data = \"190926_1825/\"\n",
    "k=900\n",
    "gr30 = dict()\n",
    "\n",
    "for i in range(1,7):\n",
    "    sim_i = computeTransportRxnTimes(path+data, 1e15, 1e15, 100*(i-1),100*(i-1)+100,scaling=100)\n",
    "    gr30[i] = (CellLatencies(sim_i))\n",
    "\n",
    "print('i')\n",
    "gr = {3.0:gr30}\n",
    "\n",
    "#Figure 3\n",
    "from analysis_utils import *\n",
    "from IPython.core.display import display, HTML\n",
    "display(HTML(\"<style>.container { width:80% !important; }</style>\"))\n",
    "\n",
    "%load_ext autoreload\n",
    "%autoreload\n",
    "\n",
    "####### transport vs. reaction for different growth rates #####\n",
    "\n",
    "colors = ['darkblue','#D43F3A']\n",
    "gr_i_list = [3.0]\n",
    "phi_list = [0.13,0.22,0.30,0.36,0.39,0.42]\n",
    "markers = ['*','^']\n",
    "transport_phi = list()\n",
    "reaction_phi = list()\n",
    "search_phi = list()\n",
    "bootstrap_search_phi=list()\n",
    "search_list = list()\n",
    "for j,gr_i in enumerate(gr_i_list):\n",
    "    transport_vals_list = list()\n",
    "    reaction_vals_list = list()\n",
    "    search_vals_list = list()\n",
    "    bootstrap_vals_list = list()\n",
    "    for i in range(1,7):\n",
    "        transport_vals = gr[gr_i][i].avg_transportT*1/1608733*p_codon_count_hist_weighted_avg[i]/(1-p_codon_count_hist_weighted_avg[0])\n",
    "        rxn_vals = gr[gr_i][i].avg_rxnT*1/1608733*p_codon_count_hist_weighted_avg[i]/(1-p_codon_count_hist_weighted_avg[0])\n",
    "        search_vals = gr[gr_i][i].avg_searchT*1/1608733*p_codon_count_hist_weighted_avg[i]/(1-p_codon_count_hist_weighted_avg[0])\n",
    "        bootstrap_vals = gr[gr_i][i].bootstd_searchT*1/1608733*p_codon_count_hist_weighted_avg[i]/(1-p_codon_count_hist_weighted_avg[0])\n",
    "        \n",
    "        transport_vals_list.append(np.array(transport_vals))\n",
    "        reaction_vals_list.append(np.array(rxn_vals))\n",
    "        search_vals_list.append(np.array(search_vals))\n",
    "        bootstrap_vals_list.append(np.array(bootstrap_vals))\n",
    "        search_list.append(np.array(gr[gr_i][i].searchT)*1000/1608733)\n",
    "    transport_phi.append(np.sum(transport_vals_list))\n",
    "    reaction_phi.append(np.sum(reaction_vals_list))\n",
    "    search_phi.append(np.sum(search_vals_list))\n",
    "    bootstrap_search_phi.append(np.sum(bootstrap_vals_list))\n",
    "    \n",
    "print(transport_phi)\n",
    "print(reaction_phi)\n",
    "print(search_phi)\n",
    "print(bootstrap_search_phi)\n",
    "\n",
    "#############################################################################"
   ]
  },
  {
   "cell_type": "code",
   "execution_count": 10,
   "metadata": {
    "collapsed": false
   },
   "outputs": [
    {
     "name": "stdout",
     "output_type": "stream",
     "text": [
      "146.60085840272598\n",
      "126.1467430911767\n",
      "105.10385595767009\n",
      "89.22651639349108\n",
      "91.38169251570629\n",
      "58.036036794093675\n",
      "(0.0, 98.04358523887869)\n",
      "155.93253126547552\n",
      "126.1467430911767\n",
      "105.10385595767009\n",
      "89.22651639349108\n",
      "91.38169251570629\n",
      "58.036036794093675\n",
      "390.23112027372986\n"
     ]
    },
    {
     "name": "stderr",
     "output_type": "stream",
     "text": [
      "/Users/Akshay/anaconda3/lib/python3.6/site-packages/ipykernel/__main__.py:16: MatplotlibDeprecationWarning: \n",
      "The 'normed' kwarg was deprecated in Matplotlib 2.1 and will be removed in 3.1. Use 'density' instead.\n"
     ]
    },
    {
     "data": {
      "image/png": "[encoded data removed]",
      "text/plain": [
       "<Figure size 432x288 with 1 Axes>"
      ]
     },
     "metadata": {
      "needs_background": "light"
     },
     "output_type": "display_data"
    },
    {
     "data": {
      "image/png": "[encoded data removed]",
      "text/plain": [
       "<Figure size 432x288 with 1 Axes>"
      ]
     },
     "metadata": {
      "needs_background": "light"
     },
     "output_type": "display_data"
    }
   ],
   "source": [
    "import scipy.stats as ss\n",
    "min_search=list()\n",
    "for i in range(0,6):\n",
    "    b = [k<380 for k in search_list[i]]\n",
    "    search_list_combined = np.array(search_list[i])\n",
    "    min_search.append(search_list_combined[b])\n",
    "    print(np.average(search_list_combined[b]))\n",
    "\n",
    "min_search = [k for b in min_search for k in b]\n",
    "P = ss.expon.fit(min_search)\n",
    "print(P)\n",
    "rX = np.linspace(0,380, 1000)\n",
    "rP = ss.expon.pdf(rX, *P)\n",
    "plt.plot(rX, rP)\n",
    "\n",
    "plt.hist(min_search, normed=True, bins=10)\n",
    "\n",
    "plt.title('Search time: phi = 0.13 (gr =0.6); Acc=10; ts=0.1e-3; res_steps=3')\n",
    "plt.ylabel('Probability')\n",
    "plt.xlabel('Elongation time (ms)')\n",
    "\n",
    "plt.figure()\n",
    "for i in range(0,6):\n",
    "    print(np.average(search_list[i]))\n",
    "\n",
    "search_list_combined = [k for b in search_list for k in b ]\n",
    "gr30hist = np.histogram(search_list_combined,bins=20,range=(0,1000))\n",
    "plt.bar(gr30hist[1][0:-1],gr30hist[0]/sum(gr30hist[0]),align='edge',width=25,color='darkblue')\n",
    "\n",
    "plt.title('Search time: phi = 0.13 (gr =0.6); Acc=10; ts=0.1e-3; res_steps=3')\n",
    "plt.ylabel('Probability')\n",
    "plt.xlabel('Elongation time (ms)')\n",
    "plt.ylim(0,0.7)\n",
    "print(max(search_list_combined))"
   ]
  },
  {
   "cell_type": "code",
   "execution_count": null,
   "metadata": {
    "collapsed": true
   },
   "outputs": [],
   "source": [
    "#100 scaling, gr 3.0 no crowders\n",
    "from analysis_utils import *\n",
    "%load_ext autoreload\n",
    "%autoreload\n",
    "path = \"/Users/Akshay/Documents/TranslationDynamics/data/\"\n",
    "\n",
    "gr06_1e8 = dict()\n",
    "data = \"190930_2210/\"\n",
    "k=900\n",
    "gr30 = dict()\n",
    "\n",
    "for i in range(1,7):\n",
    "    sim_i = computeTransportRxnTimes(path+data, 1e15, 1e15, 100*(i-1),100*(i-1)+100,scaling=100)\n",
    "    gr30[i] = (CellLatencies(sim_i))\n",
    "\n",
    "print('i')\n",
    "gr = {3.0:gr30}\n",
    "\n",
    "#Figure 3\n",
    "from analysis_utils import *\n",
    "from IPython.core.display import display, HTML\n",
    "display(HTML(\"<style>.container { width:80% !important; }</style>\"))\n",
    "\n",
    "%load_ext autoreload\n",
    "%autoreload\n",
    "\n",
    "####### transport vs. reaction for different growth rates #####\n",
    "\n",
    "colors = ['darkblue','#D43F3A']\n",
    "gr_i_list = [3.0]\n",
    "phi_list = [0.13,0.22,0.30,0.36,0.39,0.42]\n",
    "markers = ['*','^']\n",
    "transport_phi = list()\n",
    "reaction_phi = list()\n",
    "search_phi = list()\n",
    "bootstrap_search_phi=list()\n",
    "search_list = list()\n",
    "for j,gr_i in enumerate(gr_i_list):\n",
    "    transport_vals_list = list()\n",
    "    reaction_vals_list = list()\n",
    "    search_vals_list = list()\n",
    "    bootstrap_vals_list = list()\n",
    "    for i in range(1,7):\n",
    "        transport_vals = gr[gr_i][i].avg_transportT*1/1608733*p_codon_count_hist_weighted_avg[i]/(1-p_codon_count_hist_weighted_avg[0])\n",
    "        rxn_vals = gr[gr_i][i].avg_rxnT*1/1608733*p_codon_count_hist_weighted_avg[i]/(1-p_codon_count_hist_weighted_avg[0])\n",
    "        search_vals = gr[gr_i][i].avg_searchT*1/1608733*p_codon_count_hist_weighted_avg[i]/(1-p_codon_count_hist_weighted_avg[0])\n",
    "        bootstrap_vals = gr[gr_i][i].bootstd_searchT*1/1608733*p_codon_count_hist_weighted_avg[i]/(1-p_codon_count_hist_weighted_avg[0])\n",
    "        \n",
    "        transport_vals_list.append(np.array(transport_vals))\n",
    "        reaction_vals_list.append(np.array(rxn_vals))\n",
    "        search_vals_list.append(np.array(search_vals))\n",
    "        bootstrap_vals_list.append(np.array(bootstrap_vals))\n",
    "        search_list.append(np.array(gr[gr_i][i].searchT)*1000/1608733)\n",
    "    transport_phi.append(np.sum(transport_vals_list))\n",
    "    reaction_phi.append(np.sum(reaction_vals_list))\n",
    "    search_phi.append(np.sum(search_vals_list))\n",
    "    bootstrap_search_phi.append(np.sum(bootstrap_vals_list))\n",
    "    \n",
    "print(transport_phi)\n",
    "print(reaction_phi)\n",
    "print(search_phi)\n",
    "print(bootstrap_search_phi)\n",
    "\n",
    "#############################################################################"
   ]
  }
 ],
 "metadata": {
  "kernelspec": {
   "display_name": "Python 3",
   "language": "python",
   "name": "python3"
  },
  "language_info": {
   "codemirror_mode": {
    "name": "ipython",
    "version": 3
   },
   "file_extension": ".py",
   "mimetype": "text/x-python",
   "name": "python",
   "nbconvert_exporter": "python",
   "pygments_lexer": "ipython3",
   "version": "3.6.7"
  }
 },
 "nbformat": 4,
 "nbformat_minor": 2
}
