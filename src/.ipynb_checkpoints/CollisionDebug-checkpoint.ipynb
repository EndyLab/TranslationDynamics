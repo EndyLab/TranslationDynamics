{
 "cells": [
  {
   "cell_type": "code",
   "execution_count": 1,
   "metadata": {
    "collapsed": false
   },
   "outputs": [
    {
     "name": "stdout",
     "output_type": "stream",
     "text": [
      "test\n",
      "missing expt\n",
      "166\n",
      "(75.28187919463087, 12.716886483638795)\n",
      "test\n",
      "missing expt\n",
      "399\n",
      "(78.77852348993288, 11.897687800624377)\n"
     ]
    }
   ],
   "source": [
    "from analysis_utils import *\n",
    "import matplotlib.pyplot as plt\n",
    "import matplotlib.patches as mpatches\n",
    "import matplotlib as mpl\n",
    "%matplotlib inline\n",
    "%load_ext autoreload\n",
    "%autoreload\n",
    "gr30_1rib1tRNA_100x_1e9_1e10 = dict()\n",
    "path = \"/Users/Akshay/Dropbox/Life/EndyLab/Research/TranslationDynamics/data/\"\n",
    "\n",
    "#7nm post reaction\n",
    "data = \"190502_2231/\"\n",
    "for i in range(1,3):\n",
    "    sim_i = countIncorrectReactions(path+data, 1000, 1000, 200*(i-1)+50,200*i,scaling=100)\n",
    "    print(sim_i)"
   ]
  },
  {
   "cell_type": "code",
   "execution_count": 35,
   "metadata": {
    "collapsed": false
   },
   "outputs": [
    {
     "name": "stdout",
     "output_type": "stream",
     "text": [
      "test\n",
      "(452.705, 67.72302396526605)\n",
      "test\n",
      "missing expt\n",
      "399\n",
      "(694.2361809045226, 91.50626470295282)\n"
     ]
    }
   ],
   "source": [
    "gr30_1rib1tRNA_100x_1e9_1e10 = dict()\n",
    "path = \"/Users/Akshay/Dropbox/Life/EndyLab/Research/TranslationDynamics/data/\"\n",
    "\n",
    "#0nm post reaction\n",
    "data = \"190502_2312/\"\n",
    "for i in range(1,3):\n",
    "    sim_i = countIncorrectReactions(path+data, 1000, 1000, 200*(i-1),200*i,scaling=100)\n",
    "    print(sim_i)"
   ]
  },
  {
   "cell_type": "code",
   "execution_count": 36,
   "metadata": {
    "collapsed": false
   },
   "outputs": [
    {
     "name": "stdout",
     "output_type": "stream",
     "text": [
      "test\n",
      "(871.38, 141.0916212962343)\n",
      "test\n",
      "missing expt\n",
      "399\n",
      "(2894.331658291457, 494.5487365435767)\n"
     ]
    }
   ],
   "source": [
    "gr30_1rib1tRNA_100x_1e9_1e10 = dict()\n",
    "path = \"/Users/Akshay/Dropbox/Life/EndyLab/Research/TranslationDynamics/data/\"\n",
    "\n",
    "#0nm post reaction; rescaled sizes to account for imprecision\n",
    "data = \"190503_0117/\"\n",
    "for i in range(1,3):\n",
    "    sim_i = countIncorrectReactions(path+data, 1000, 1000, 200*(i-1),200*i,scaling=100)\n",
    "    print(sim_i)"
   ]
  },
  {
   "cell_type": "code",
   "execution_count": 38,
   "metadata": {
    "collapsed": false
   },
   "outputs": [
    {
     "name": "stdout",
     "output_type": "stream",
     "text": [
      "test\n",
      "(544.255, 79.63786772007397)\n",
      "test\n",
      "missing expt\n",
      "399\n",
      "(953.0904522613065, 91.52165275996748)\n"
     ]
    }
   ],
   "source": [
    "gr30_1rib1tRNA_100x_1e9_1e10 = dict()\n",
    "path = \"/Users/Akshay/Dropbox/Life/EndyLab/Research/TranslationDynamics/data/\"\n",
    "\n",
    "#0nm post reaction; changed box size\n",
    "data = \"190503_0900/\"\n",
    "for i in range(1,3):\n",
    "    sim_i = countIncorrectReactions(path+data, 1000, 1000, 200*(i-1),200*i,scaling=100)\n",
    "    print(sim_i)\n"
   ]
  },
  {
   "cell_type": "code",
   "execution_count": 3,
   "metadata": {
    "collapsed": false
   },
   "outputs": [
    {
     "name": "stdout",
     "output_type": "stream",
     "text": [
      "test\n",
      "(121.205, 19.413474057983542)\n",
      "test\n",
      "(131.525, 20.787240677877378)\n",
      "test\n",
      "(132.21, 20.809995194617418)\n",
      "test\n",
      "missing expt\n",
      "799\n",
      "(139.58793969849245, 22.562945014225352)\n"
     ]
    }
   ],
   "source": [
    "gr30_1rib1tRNA_100x_1e9101112_2nm = dict()\n",
    "path = \"/Users/Akshay/Dropbox/Life/EndyLab/Research/TranslationDynamics/data/\"\n",
    "\n",
    "#0nm post reaction; changed box size\n",
    "data = \"190507_1952/\"\n",
    "for i in range(1,5):\n",
    "    sim_i = countIncorrectReactions(path+data, 1000, 1000, 200*(i-1),200*i,scaling=100)\n",
    "    print(sim_i)\n",
    "\n"
   ]
  },
  {
   "cell_type": "code",
   "execution_count": 4,
   "metadata": {
    "collapsed": false
   },
   "outputs": [
    {
     "name": "stdout",
     "output_type": "stream",
     "text": [
      "test\n",
      "(267.565, 44.54868993584435)\n",
      "test\n",
      "(326.2, 45.490438555810826)\n",
      "test\n",
      "(347.85, 53.1688583665288)\n",
      "test\n",
      "missing expt\n",
      "750\n",
      "missing expt\n",
      "799\n",
      "(361.1818181818182, 51.080618324481804)\n"
     ]
    }
   ],
   "source": [
    "gr30_1rib1tRNA_100x_1e9101112_5ang = dict()\n",
    "path = \"/Users/Akshay/Dropbox/Life/EndyLab/Research/TranslationDynamics/data/\"\n",
    "\n",
    "#0nm post reaction; changed box size\n",
    "data = \"190509_0125/\"\n",
    "for i in range(1,5):\n",
    "    sim_i = countIncorrectReactions(path+data, 1000, 1000, 200*(i-1),200*i,scaling=100)\n",
    "    print(sim_i)"
   ]
  },
  {
   "cell_type": "code",
   "execution_count": null,
   "metadata": {
    "collapsed": true
   },
   "outputs": [],
   "source": [
    "gr30_1rib1tRNA_100x_1e9101112_1ang = dict()\n",
    "path = \"/Users/Akshay/Dropbox/Life/EndyLab/Research/TranslationDynamics/data/\"\n",
    "\n",
    "#0nm post reaction; changed box size\n",
    "data = \"190509_0125/\"\n",
    "for i in range(1,5):\n",
    "    sim_i = countIncorrectReactions(path+data, 1000, 1000, 200*(i-1),200*i,scaling=100)\n",
    "    print(sim_i)"
   ]
  }
 ],
 "metadata": {
  "kernelspec": {
   "display_name": "Python 3",
   "language": "python",
   "name": "python3"
  },
  "language_info": {
   "codemirror_mode": {
    "name": "ipython",
    "version": 3
   },
   "file_extension": ".py",
   "mimetype": "text/x-python",
   "name": "python",
   "nbconvert_exporter": "python",
   "pygments_lexer": "ipython3",
   "version": "3.6.7"
  }
 },
 "nbformat": 4,
 "nbformat_minor": 2
}
