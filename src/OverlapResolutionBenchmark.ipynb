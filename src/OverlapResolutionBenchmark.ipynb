{
 "cells": [
  {
   "cell_type": "code",
   "execution_count": null,
   "metadata": {
    "collapsed": false
   },
   "outputs": [],
   "source": []
  },
  {
   "cell_type": "code",
   "execution_count": 1,
   "metadata": {
    "collapsed": false
   },
   "outputs": [
    {
     "name": "stdout",
     "output_type": "stream",
     "text": [
      "Error (e.g., Missing expt or incorrect input)\n",
      "Error (e.g., Missing expt or incorrect input)\n",
      "[[-0.]\n",
      " [-0.]\n",
      " [-0.]\n",
      " [-0.]\n",
      " [-0.]\n",
      " [-0.]\n",
      " [-0.]\n",
      " [-0.]\n",
      " [-0.]\n",
      " [-0.]\n",
      " [-0.]\n",
      " [-0.]\n",
      " [-0.]\n",
      " [-0.]\n",
      " [-0.]\n",
      " [-0.]\n",
      " [-0.]\n",
      " [-0.]\n",
      " [-0.]\n",
      " [-0.]\n",
      " [-0.]\n",
      " [-0.]\n",
      " [-0.]\n",
      " [-0.]\n",
      " [-0.]\n",
      " [-0.]\n",
      " [-0.]\n",
      " [-0.]\n",
      " [-0.]\n",
      " [-0.]\n",
      " [-0.]\n",
      " [-0.]\n",
      " [-0.]\n",
      " [-0.]\n",
      " [-0.]\n",
      " [-0.]\n",
      " [-0.]\n",
      " [-0.]\n",
      " [-0.]\n",
      " [-0.]\n",
      " [-0.]\n",
      " [-0.]\n",
      " [-0.]\n",
      " [-0.]\n",
      " [-0.]\n",
      " [-0.]\n",
      " [-0.]\n",
      " [-0.]\n",
      " [-0.]\n",
      " [-0.]\n",
      " [-0.]\n",
      " [-0.]\n",
      " [-0.]\n",
      " [-0.]\n",
      " [-0.]\n",
      " [-0.]\n",
      " [-0.]\n",
      " [-0.]\n",
      " [-0.]\n",
      " [-0.]\n",
      " [-0.]\n",
      " [-0.]\n",
      " [-0.]\n",
      " [-0.]\n",
      " [-0.]\n",
      " [-0.]\n",
      " [-0.]\n",
      " [-0.]\n",
      " [-0.]\n",
      " [-0.]\n",
      " [-0.]\n",
      " [-0.]\n",
      " [-0.]\n",
      " [-0.]\n",
      " [-0.]\n",
      " [-0.]\n",
      " [-0.]\n",
      " [-0.]\n",
      " [-0.]\n",
      " [-0.]\n",
      " [-0.]\n",
      " [-0.]\n",
      " [-0.]\n",
      " [-0.]\n",
      " [-0.]\n",
      " [-0.]\n",
      " [-0.]\n",
      " [-0.]\n",
      " [-0.]\n",
      " [-0.]\n",
      " [-0.]\n",
      " [-0.]\n",
      " [-0.]\n",
      " [-0.]\n",
      " [-0.]\n",
      " [-0.]\n",
      " [-0.]\n",
      " [-0.]\n",
      " [-0.]\n",
      " [-0.]]\n"
     ]
    },
    {
     "data": {
      "text/plain": [
       "(0, 0.05500000000000001)"
      ]
     },
     "execution_count": 1,
     "metadata": {},
     "output_type": "execute_result"
    },
    {
     "data": {
      "image/png": "[encoded data removed]",
      "text/plain": [
       "<Figure size 432x288 with 1 Axes>"
      ]
     },
     "metadata": {
      "needs_background": "light"
     },
     "output_type": "display_data"
    }
   ],
   "source": [
    "import numpy as np\n",
    "import pandas as pd\n",
    "import matplotlib.pyplot as plt\n",
    "import re\n",
    "%matplotlib inline\n",
    "#path = '/Users/Akshay/Dropbox/Life/EndyLab/Research/TranslationDynamics/data/CollisionOverlap/data/'\n",
    "path = '/Users/Akshay/Dropbox/Life/EndyLab/Research/TranslationDynamics/data/'\n",
    "data = ''\n",
    "def overlapSteps(path,res_steps,expt_start,expt_end):\n",
    "    df_outputs = pd.read_csv(path+\"outputReactionsList.txt\",sep=\" \",header=None) #Add batch processing here potentially\n",
    "    threshold_steps = -np.zeros((res_steps,1))\n",
    "    for expt_num, row in enumerate(df_outputs.values):\n",
    "        if(expt_num>=expt_start and expt_num<expt_end):\n",
    "            try:\n",
    "                params = pd.read_csv(path+\"expt_\"+str(expt_num)+'.txt',delim_whitespace=True,names=['var','param','val'])\n",
    "                ts = float(params.loc[params['param']=='Z_ts_']['val'].values[0])\n",
    "                res_steps = int(float(params.loc[params['param']=='Z_ts_delta_']['val'].values[0])/ts)\n",
    "                molpos_start = int(float(params.loc[params['param']=='Z_molPosTSStart_']['val'].values[0]))\n",
    "\n",
    "                df = pd.read_csv(path+row.squeeze(),delimiter=\" \",header=None)\n",
    "                df.columns=[\"time\",\"rxn\",\"x\",\"y\",\"z\",\"reactantA\",\"productA\",\"productB\",\"productC\"]\n",
    "                #df=df[df['rxn'].str.contains('rxn4')]\n",
    "\n",
    "                df=df[['time']].round(4)\n",
    "                times=np.array(df['time'].tolist())-molpos_start\n",
    "                for i in range(0,res_steps):\n",
    "                    a=[t%((ts*res_steps))==0 for t in np.round(times-(ts*(i)),6)]\n",
    "                    threshold_steps[i] += len(times[a])\n",
    "\n",
    "            except:\n",
    "                print(\"Error (e.g., Missing expt or incorrect input)\")\n",
    "    return(threshold_steps)     \n",
    "threshold_steps = overlapSteps(path+data,100,1332,1334)\n",
    "plt.plot(range(-1,100-1),threshold_steps)\n",
    "print(threshold_steps)\n",
    "plt.xlabel('steps')\n",
    "plt.ylabel('Num collisions in ~a timestep')\n",
    "plt.ylim(0)"
   ]
  },
  {
   "cell_type": "code",
   "execution_count": 482,
   "metadata": {
    "collapsed": false
   },
   "outputs": [
    {
     "name": "stdout",
     "output_type": "stream",
     "text": [
      "4655\n",
      "[[320.]\n",
      " [143.]\n",
      " [110.]\n",
      " [100.]\n",
      " [103.]\n",
      " [101.]\n",
      " [107.]\n",
      " [ 98.]\n",
      " [106.]\n",
      " [ 98.]\n",
      " [ 98.]\n",
      " [ 91.]\n",
      " [ 91.]\n",
      " [ 83.]\n",
      " [ 88.]\n",
      " [ 79.]\n",
      " [ 83.]\n",
      " [ 70.]\n",
      " [ 77.]\n",
      " [ 68.]\n",
      " [ 69.]\n",
      " [ 63.]\n",
      " [ 67.]\n",
      " [ 57.]\n",
      " [ 60.]\n",
      " [ 54.]\n",
      " [ 54.]\n",
      " [ 49.]\n",
      " [ 45.]\n",
      " [ 43.]\n",
      " [ 45.]\n",
      " [ 38.]\n",
      " [ 36.]\n",
      " [ 37.]\n",
      " [ 32.]\n",
      " [ 34.]\n",
      " [ 34.]\n",
      " [ 34.]\n",
      " [ 34.]\n",
      " [ 38.]\n",
      " [ 35.]\n",
      " [ 38.]\n",
      " [ 35.]\n",
      " [ 35.]\n",
      " [ 36.]\n",
      " [ 33.]\n",
      " [ 32.]\n",
      " [ 33.]\n",
      " [ 30.]\n",
      " [ 29.]\n",
      " [ 33.]\n",
      " [ 29.]\n",
      " [ 29.]\n",
      " [ 28.]\n",
      " [ 28.]\n",
      " [ 28.]\n",
      " [ 26.]\n",
      " [ 28.]\n",
      " [ 27.]\n",
      " [ 30.]\n",
      " [ 28.]\n",
      " [ 31.]\n",
      " [ 33.]\n",
      " [ 28.]\n",
      " [ 29.]\n",
      " [ 29.]\n",
      " [ 29.]\n",
      " [ 27.]\n",
      " [ 28.]\n",
      " [ 26.]\n",
      " [ 26.]\n",
      " [ 28.]\n",
      " [ 27.]\n",
      " [ 25.]\n",
      " [ 26.]\n",
      " [ 25.]\n",
      " [ 25.]\n",
      " [ 26.]\n",
      " [ 21.]\n",
      " [ 23.]\n",
      " [ 22.]\n",
      " [ 23.]\n",
      " [ 25.]\n",
      " [ 23.]\n",
      " [ 25.]\n",
      " [ 22.]\n",
      " [ 25.]\n",
      " [ 24.]\n",
      " [ 23.]\n",
      " [ 26.]\n",
      " [ 22.]\n",
      " [ 25.]\n",
      " [ 24.]\n",
      " [ 22.]\n",
      " [ 22.]\n",
      " [ 23.]\n",
      " [ 18.]\n",
      " [ 21.]\n",
      " [ 20.]\n",
      " [ 21.]]\n",
      "hi [4655.]\n"
     ]
    },
    {
     "data": {
      "text/plain": [
       "(0, 335.1)"
      ]
     },
     "execution_count": 482,
     "metadata": {},
     "output_type": "execute_result"
    },
    {
     "data": {
      "image/png": "[encoded data removed]",
      "text/plain": [
       "<Figure size 432x288 with 1 Axes>"
      ]
     },
     "metadata": {
      "needs_background": "light"
     },
     "output_type": "display_data"
    }
   ],
   "source": [
    "#path = '/Users/Akshay/Dropbox/Life/EndyLab/Research/TranslationDynamics/calculations/CollisionOverlap/data/'\n",
    "path = '/Users/Akshay/Dropbox/Life/EndyLab/Research/TranslationDynamics/data/'\n",
    "row = 'expt-1333-Reactions-20190831.csv'\n",
    "\n",
    "my_cols=[\"time\",\"rxn\",\"x\",\"y\",\"z\",\"reactantA\",\"productA\",\"productB\",\"productC\"]\n",
    "df = pd.read_csv(path+row,delimiter=\" \",header=None,names=my_cols)\n",
    "#df=df[df['rxn'].str.contains('rxn4')]\n",
    "df=df[['time']].round(6)\n",
    "times=np.array(df['time'].tolist())\n",
    "times = np.round(times,6)-10\n",
    "reaction_count = 0\n",
    "ts=0.0008\n",
    "print(len(times))\n",
    "res_steps=100\n",
    "threshold_steps = -np.zeros((res_steps,1))\n",
    "for i in range(0,100):\n",
    "    #print(np.round(times[1200:1300],4))\n",
    "\n",
    "    #print(np.round(times[120:130]-ts*(i+1),4))\n",
    "   # print((ts*res_steps))\n",
    "    a=[t%((ts*res_steps))==0 for t in np.round(times-(ts*(i)),6)]\n",
    "   # print(times[a])\n",
    "\n",
    "    threshold_steps[i] += len(times[a])\n",
    "plt.plot(range(-1,res_steps-1),threshold_steps)\n",
    "print(threshold_steps)\n",
    "print('hi',sum(threshold_steps))\n",
    "plt.xlabel('steps')\n",
    "plt.ylabel('Num collisions in ~a timestep')\n",
    "plt.ylim(0)"
   ]
  },
  {
   "cell_type": "code",
   "execution_count": null,
   "metadata": {
    "collapsed": true
   },
   "outputs": [],
   "source": [
    "#path = '/Users/Akshay/Dropbox/Life/EndyLab/Research/TranslationDynamics/calculations/CollisionOverlap/data/'\n",
    "path = '/Users/Akshay/Dropbox/Life/EndyLab/Research/TranslationDynamics/data/'\n",
    "row = 'expt-1333-Reactions-20190831.csv'\n",
    "\n",
    "my_cols=[\"time\",\"rxn\",\"x\",\"y\",\"z\",\"reactantA\",\"productA\",\"productB\",\"productC\"]\n",
    "df = pd.read_csv(path+row,delimiter=\" \",header=None,names=my_cols)\n",
    "df=df[df['rxn'].str.contains('rxn4')]\n",
    "df=df[['time']].round(4)\n",
    "times=np.array(df['time'].tolist())\n",
    "times = np.round(times,4)-10\n",
    "reaction_count = 0\n",
    "ts=0.0008\n",
    "res_steps=100\n",
    "threshold_steps = -np.ones((res_steps,1))\n",
    "for i in range(7,8):\n",
    "    print(np.round(times[120:130]-ts*(i+1),4))\n",
    "    print((ts*res_steps))\n",
    "    a=[t%((ts*res_steps))==0 for t in np.round(times-(ts*(i+1)),6)]\n",
    "    print(times[a])\n",
    "\n",
    "    threshold_steps[i] += len(times[a])\n",
    "plt.plot(range(-1,res_steps-1),threshold_steps)\n",
    "print(threshold_steps)\n",
    "plt.xlabel('steps')\n",
    "plt.ylabel('Num collisions in ~a timestep')\n",
    "plt.ylim(0)"
   ]
  },
  {
   "cell_type": "code",
   "execution_count": null,
   "metadata": {
    "collapsed": true
   },
   "outputs": [],
   "source": [
    "##### path = '/Users/Akshay/Dropbox/Life/EndyLab/Research/TranslationDynamics/calculations/CollisionOverlap/data/'\n",
    "row = 'expt_0thresh_200res.csv'\n",
    "\n",
    "my_cols=[\"time\",\"rxn\",\"x\",\"y\",\"z\",\"reactantA\",\"productA\",\"productB\",\"productC\"]\n",
    "df = pd.read_csv(path+row,delimiter=\" \",header=None,names=my_cols)\n",
    "#df=df[df['rxn'].str.contains('rxn4')]\n",
    "df=df[['time']].round(4)\n",
    "#times=np.array(df['time'].tolist())\n",
    "#times = np.round(times,4)\n",
    "reaction_count = 0\n",
    "ts=0.0004\n",
    "res_steps=300\n",
    "bts=10\n",
    "threshold_steps = -np.ones((res_steps,1))\n",
    "print(times)\n",
    "for bt in range(bts):\n",
    "    times_i = df[(df['time']>=(ts*res_steps)*100+bt*res_steps) &(df['time']<(ts*res_steps)*100+(bt+1)*res_steps)]\n",
    "    times_i = np.array(times_i['time'].tolist())\n",
    "    for i in range(0,res_steps):\n",
    "        a=[t%((ts*res_steps)*1e17)==0 for t in times_i*1e17-(ts*(i-1)*1e17)]\n",
    "        threshold_steps[i] += len(times_i[a])\n",
    "plt.plot(range(-1,res_steps-1),threshold_steps)\n",
    "print(threshold_steps)\n",
    "plt.xlabel('steps')\n",
    "plt.ylabel('Num collisions in ~a timestep')\n",
    "plt.ylim(0)"
   ]
  },
  {
   "cell_type": "code",
   "execution_count": null,
   "metadata": {
    "collapsed": false
   },
   "outputs": [],
   "source": []
  },
  {
   "cell_type": "code",
   "execution_count": null,
   "metadata": {
    "collapsed": false
   },
   "outputs": [],
   "source": []
  },
  {
   "cell_type": "code",
   "execution_count": null,
   "metadata": {
    "collapsed": false
   },
   "outputs": [],
   "source": []
  },
  {
   "cell_type": "code",
   "execution_count": 56,
   "metadata": {
    "collapsed": false
   },
   "outputs": [
    {
     "data": {
      "text/plain": [
       "0.0"
      ]
     },
     "execution_count": 56,
     "metadata": {},
     "output_type": "execute_result"
    }
   ],
   "source": [
    "0.48%round(0.0016*300,4)"
   ]
  },
  {
   "cell_type": "code",
   "execution_count": 3,
   "metadata": {
    "collapsed": false
   },
   "outputs": [
    {
     "name": "stdout",
     "output_type": "stream",
     "text": [
      "[[291.]\n",
      " [290.]\n",
      " [287.]\n",
      " [282.]\n",
      " [285.]\n",
      " [284.]\n",
      " [284.]\n",
      " [281.]\n",
      " [283.]\n",
      " [281.]\n",
      " [282.]\n",
      " [282.]\n",
      " [281.]\n",
      " [281.]\n",
      " [283.]\n",
      " [281.]\n",
      " [282.]\n",
      " [282.]\n",
      " [281.]\n",
      " [281.]\n",
      " [284.]\n",
      " [280.]\n",
      " [282.]\n",
      " [281.]\n",
      " [282.]\n",
      " [280.]\n",
      " [282.]\n",
      " [279.]\n",
      " [282.]\n",
      " [279.]\n",
      " [281.]\n",
      " [281.]\n",
      " [282.]\n",
      " [279.]\n",
      " [281.]\n",
      " [280.]\n",
      " [280.]\n",
      " [281.]\n",
      " [281.]\n",
      " [279.]\n",
      " [282.]\n",
      " [279.]\n",
      " [281.]\n",
      " [278.]\n",
      " [280.]\n",
      " [278.]\n",
      " [281.]\n",
      " [277.]\n",
      " [281.]\n",
      " [278.]\n",
      " [280.]\n",
      " [278.]\n",
      " [280.]\n",
      " [278.]\n",
      " [280.]\n",
      " [279.]\n",
      " [281.]\n",
      " [278.]\n",
      " [281.]\n",
      " [279.]\n",
      " [280.]\n",
      " [279.]\n",
      " [280.]\n",
      " [279.]\n",
      " [280.]\n",
      " [279.]\n",
      " [281.]\n",
      " [278.]\n",
      " [281.]\n",
      " [278.]\n",
      " [281.]\n",
      " [278.]\n",
      " [281.]\n",
      " [278.]\n",
      " [281.]\n",
      " [278.]\n",
      " [281.]\n",
      " [279.]\n",
      " [280.]\n",
      " [279.]\n",
      " [281.]\n",
      " [278.]\n",
      " [281.]\n",
      " [279.]\n",
      " [280.]\n",
      " [279.]\n",
      " [281.]\n",
      " [278.]\n",
      " [281.]\n",
      " [278.]\n",
      " [281.]\n",
      " [279.]\n",
      " [280.]\n",
      " [279.]\n",
      " [280.]\n",
      " [279.]\n",
      " [281.]\n",
      " [278.]\n",
      " [281.]\n",
      " [278.]\n",
      " [280.]\n",
      " [278.]\n",
      " [280.]\n",
      " [278.]\n",
      " [280.]\n",
      " [278.]\n",
      " [280.]\n",
      " [278.]\n",
      " [280.]\n",
      " [278.]\n",
      " [280.]\n",
      " [278.]\n",
      " [280.]\n",
      " [278.]\n",
      " [280.]\n",
      " [278.]\n",
      " [280.]\n",
      " [278.]\n",
      " [280.]\n",
      " [278.]\n",
      " [280.]\n",
      " [278.]\n",
      " [280.]\n",
      " [278.]\n",
      " [280.]\n",
      " [278.]\n",
      " [280.]\n",
      " [278.]\n",
      " [280.]\n",
      " [278.]\n",
      " [280.]\n",
      " [278.]\n",
      " [280.]\n",
      " [278.]\n",
      " [280.]\n",
      " [278.]\n",
      " [280.]\n",
      " [278.]\n",
      " [280.]\n",
      " [278.]\n",
      " [280.]\n",
      " [278.]\n",
      " [280.]\n",
      " [278.]\n",
      " [280.]\n",
      " [278.]\n",
      " [280.]\n",
      " [278.]\n",
      " [280.]\n",
      " [278.]\n",
      " [280.]\n",
      " [278.]\n",
      " [280.]\n",
      " [278.]\n",
      " [280.]\n",
      " [278.]\n",
      " [280.]\n",
      " [278.]\n",
      " [280.]\n",
      " [278.]\n",
      " [280.]\n",
      " [278.]\n",
      " [280.]\n",
      " [278.]\n",
      " [280.]\n",
      " [278.]\n",
      " [280.]\n",
      " [278.]\n",
      " [280.]\n",
      " [278.]\n",
      " [280.]\n",
      " [278.]\n",
      " [280.]\n",
      " [278.]\n",
      " [280.]\n",
      " [278.]\n",
      " [280.]\n",
      " [278.]\n",
      " [280.]\n",
      " [278.]\n",
      " [280.]\n",
      " [278.]\n",
      " [280.]\n",
      " [278.]\n",
      " [280.]\n",
      " [278.]\n",
      " [280.]\n",
      " [278.]\n",
      " [280.]\n",
      " [278.]\n",
      " [280.]\n",
      " [278.]\n",
      " [280.]\n",
      " [278.]\n",
      " [280.]\n",
      " [278.]\n",
      " [280.]\n",
      " [278.]\n",
      " [280.]\n",
      " [278.]\n",
      " [280.]\n",
      " [278.]\n",
      " [280.]\n",
      " [278.]\n",
      " [280.]\n",
      " [278.]\n",
      " [280.]\n",
      " [278.]\n",
      " [280.]\n",
      " [278.]\n",
      " [280.]\n",
      " [278.]\n",
      " [280.]\n",
      " [278.]\n",
      " [280.]\n",
      " [278.]\n",
      " [280.]\n",
      " [278.]\n",
      " [280.]\n",
      " [278.]\n",
      " [280.]\n",
      " [278.]\n",
      " [280.]\n",
      " [278.]\n",
      " [280.]\n",
      " [278.]\n",
      " [280.]\n",
      " [278.]\n",
      " [280.]\n",
      " [278.]\n",
      " [280.]\n",
      " [278.]\n",
      " [280.]\n",
      " [278.]\n",
      " [280.]\n",
      " [278.]\n",
      " [280.]\n",
      " [278.]\n",
      " [280.]\n",
      " [278.]\n",
      " [280.]\n",
      " [278.]\n",
      " [280.]\n",
      " [278.]\n",
      " [280.]\n",
      " [278.]\n",
      " [280.]\n",
      " [278.]\n",
      " [280.]\n",
      " [278.]\n",
      " [280.]\n",
      " [278.]\n",
      " [280.]\n",
      " [278.]\n",
      " [280.]\n",
      " [278.]\n",
      " [280.]\n",
      " [278.]\n",
      " [280.]\n",
      " [278.]\n",
      " [280.]\n",
      " [278.]\n",
      " [280.]\n",
      " [278.]\n",
      " [280.]\n",
      " [278.]\n",
      " [280.]\n",
      " [278.]\n",
      " [280.]\n",
      " [278.]\n",
      " [280.]\n",
      " [278.]\n",
      " [280.]\n",
      " [278.]\n",
      " [280.]\n",
      " [278.]\n",
      " [280.]\n",
      " [278.]\n",
      " [280.]\n",
      " [278.]\n",
      " [280.]\n",
      " [278.]\n",
      " [280.]\n",
      " [278.]\n",
      " [280.]\n",
      " [278.]\n",
      " [280.]\n",
      " [278.]\n",
      " [280.]\n",
      " [278.]\n",
      " [280.]\n",
      " [278.]\n",
      " [280.]\n",
      " [278.]\n",
      " [280.]\n",
      " [278.]\n",
      " [280.]\n",
      " [278.]\n",
      " [280.]\n",
      " [465.]]\n"
     ]
    },
    {
     "data": {
      "text/plain": [
       "(0, 474.4)"
      ]
     },
     "execution_count": 3,
     "metadata": {},
     "output_type": "execute_result"
    },
    {
     "data": {
      "image/png": "[encoded data removed]",
      "text/plain": [
       "<Figure size 432x288 with 1 Axes>"
      ]
     },
     "metadata": {
      "needs_background": "light"
     },
     "output_type": "display_data"
    }
   ],
   "source": [
    "path = '/Users/Akshay/Dropbox/Life/EndyLab/Research/TranslationDynamics/data/'\n",
    "data = '190831_2354/'\n",
    "def overlapSteps(path,res_steps,expt_start,expt_end):\n",
    "    df_outputs = pd.read_csv(path+\"outputReactionsList.txt\",sep=\" \",header=None) #Add batch processing here potentially\n",
    "    threshold_steps = -np.zeros((res_steps,1))\n",
    "    for expt_num, row in enumerate(df_outputs.values):\n",
    "        if(expt_num>=expt_start and expt_num<expt_end):\n",
    "            try:\n",
    "                params = pd.read_csv(path+\"expt_\"+str(expt_num)+'.txt',delim_whitespace=True,names=['var','param','val'])\n",
    "                ts = float(params.loc[params['param']=='Z_ts_']['val'].values[0])\n",
    "                res_steps = int(float(params.loc[params['param']=='Z_ts_delta_']['val'].values[0])/ts)\n",
    "                molpos_start = float(params.loc[params['param']=='Z_molPosTSStart_']['val'].values[0])\n",
    "                df = pd.read_csv(path+row.squeeze(),delimiter=\" \",header=None)\n",
    "                df.columns=[\"time\",\"rxn\",\"x\",\"y\",\"z\",\"reactantA\",\"productA\",\"productB\",\"productC\"]\n",
    "                #df=df[df['rxn'].str.contains('rxn4')]\n",
    "\n",
    "                df=df[['time']].round(6)\n",
    "                times=np.array(df['time'].tolist())-molpos_start\n",
    "                for i in range(0,res_steps):\n",
    "                    a=[t%round((ts*res_steps),6)==0 for t in np.round(times-(ts*(i)),6)]\n",
    "                    \n",
    "                    #print(list(np.round(times-(ts*(i)),6)))\n",
    "                    #print(times[a])\n",
    "                    \n",
    "                    threshold_steps[i] += len(times[a])\n",
    "\n",
    "            except:\n",
    "                print(\"Error (e.g., Missing expt or incorrect input)\")\n",
    "    return(threshold_steps) \n",
    "\n",
    "res_steps=300\n",
    "threshold_steps = overlapSteps(path+data,res_steps,1650,1652)\n",
    "plt.plot(range(0,res_steps),threshold_steps)\n",
    "print(threshold_steps)\n",
    "plt.xlabel('steps')\n",
    "plt.ylabel('Num collisions in ~a timestep')\n",
    "plt.ylim(0)"
   ]
  },
  {
   "cell_type": "code",
   "execution_count": 26,
   "metadata": {
    "collapsed": false
   },
   "outputs": [
    {
     "name": "stdout",
     "output_type": "stream",
     "text": [
      "[[265.]\n",
      " [112.]\n",
      " [ 91.]]\n"
     ]
    },
    {
     "data": {
      "text/plain": [
       "(0, 273.7)"
      ]
     },
     "execution_count": 26,
     "metadata": {},
     "output_type": "execute_result"
    },
    {
     "data": {
      "image/png": "[encoded data removed]",
      "text/plain": [
       "<Figure size 432x288 with 1 Axes>"
      ]
     },
     "metadata": {
      "needs_background": "light"
     },
     "output_type": "display_data"
    }
   ],
   "source": [
    "import numpy as np\n",
    "import pandas as pd\n",
    "import matplotlib.pyplot as plt\n",
    "import re\n",
    "%matplotlib inline\n",
    "path = '/Users/Akshay/Dropbox/Life/EndyLab/Research/TranslationDynamics/data/'\n",
    "data = '190831_1445/'\n",
    "def overlapSteps(path,res_steps,expt_start,expt_end):\n",
    "    df_outputs = pd.read_csv(path+\"outputReactionsList.txt\",sep=\" \",header=None) #Add batch processing here potentially\n",
    "    threshold_steps = -np.zeros((res_steps,1))\n",
    "    for expt_num, row in enumerate(df_outputs.values):\n",
    "        if(expt_num>=expt_start and expt_num<expt_end):\n",
    "            try:\n",
    "                params = pd.read_csv(path+\"expt_\"+str(expt_num)+'.txt',delim_whitespace=True,names=['var','param','val'])\n",
    "                ts = float(params.loc[params['param']=='Z_ts_']['val'].values[0])\n",
    "                res_steps = int(float(params.loc[params['param']=='Z_ts_delta_']['val'].values[0])/ts)\n",
    "                molpos_start = float(params.loc[params['param']=='Z_molPosTSStart_']['val'].values[0])\n",
    "                df = pd.read_csv(path+row.squeeze(),delimiter=\" \",header=None)\n",
    "                df.columns=[\"time\",\"rxn\",\"x\",\"y\",\"z\",\"reactantA\",\"productA\",\"productB\",\"productC\"]\n",
    "                df=df[df['rxn'].str.contains('rxn5')]\n",
    "\n",
    "                df=df[['time']].round(6)\n",
    "                times=np.array(df['time'].tolist())-molpos_start\n",
    "                for i in range(0,res_steps):\n",
    "                    a=[t%round((ts*res_steps),6)==0 for t in np.round(times-(ts*(i)),6)]\n",
    "                    \n",
    "                    #print(list(np.round(times-(ts*(i)),6)))\n",
    "                    #print(times[a])\n",
    "                    \n",
    "                    threshold_steps[i] += len(times[a])\n",
    "\n",
    "            except:\n",
    "                print(\"Error (e.g., Missing expt or incorrect input)\")\n",
    "    return(threshold_steps) \n",
    "\n",
    "res_steps=3\n",
    "threshold_steps = overlapSteps(path+data,res_steps,500,501)\n",
    "plt.plot(range(0,res_steps),threshold_steps)\n",
    "print(threshold_steps)\n",
    "plt.xlabel('Overlap resolution steps')\n",
    "plt.ylabel('Num collisions')\n",
    "plt.ylim(0)\n"
   ]
  },
  {
   "cell_type": "code",
   "execution_count": 65,
   "metadata": {
    "collapsed": false
   },
   "outputs": [
    {
     "name": "stdout",
     "output_type": "stream",
     "text": [
      "[[342.]\n",
      " [243.]\n",
      " [237.]]\n"
     ]
    },
    {
     "data": {
      "text/plain": [
       "<matplotlib.legend.Legend at 0x11808ba20>"
      ]
     },
     "execution_count": 65,
     "metadata": {},
     "output_type": "execute_result"
    },
    {
     "data": {
      "image/png": "[encoded data removed]",
      "text/plain": [
       "<Figure size 432x288 with 1 Axes>"
      ]
     },
     "metadata": {
      "needs_background": "light"
     },
     "output_type": "display_data"
    }
   ],
   "source": [
    "import numpy as np\n",
    "import pandas as pd\n",
    "import matplotlib.pyplot as plt\n",
    "import re\n",
    "%matplotlib inline\n",
    "path = '/Users/Akshay/Dropbox/Life/EndyLab/Research/TranslationDynamics/data/'\n",
    "data = '190902_1144/'\n",
    "def overlapSteps(path,res_steps,expt_start,expt_end):\n",
    "    df_outputs = pd.read_csv(path+\"outputReactionsList.txt\",sep=\" \",header=None) #Add batch processing here potentially\n",
    "    threshold_steps = -np.zeros((res_steps,1))\n",
    "    for expt_num, row in enumerate(df_outputs.values):\n",
    "        if(expt_num>=expt_start and expt_num<expt_end):\n",
    "            try:\n",
    "                params = pd.read_csv(path+\"expt_\"+str(expt_num)+'.txt',delim_whitespace=True,names=['var','param','val'])\n",
    "                ts = float(params.loc[params['param']=='Z_ts_']['val'].values[0])\n",
    "                res_steps = int(float(params.loc[params['param']=='Z_ts_delta_']['val'].values[0])/ts)\n",
    "                molpos_start = float(params.loc[params['param']=='Z_molPosTSStart_']['val'].values[0])\n",
    "                df = pd.read_csv(path+row.squeeze(),delimiter=\" \",header=None)\n",
    "                df.columns=[\"time\",\"rxn\",\"x\",\"y\",\"z\",\"reactantA\",\"productA\",\"productB\",\"productC\"]\n",
    "                #df=df[df['rxn'].str.contains('rxn4')]\n",
    "\n",
    "                df=df[['time']].round(6)\n",
    "                times=np.array(df['time'].tolist())-molpos_start\n",
    "                for i in range(0,res_steps):\n",
    "                    a=[t%round((ts*res_steps),6)==0 for t in np.round(times-(ts*(i)),6)]\n",
    "                    \n",
    "                    #print(list(np.round(times-(ts*(i)),6)))\n",
    "                    #print(times[a])\n",
    "                    \n",
    "                    threshold_steps[i] += len(times[a])\n",
    "\n",
    "            except:\n",
    "                print(\"Error (e.g., Missing expt or incorrect input)\")\n",
    "    return(threshold_steps) \n",
    "\n",
    "res_steps=3\n",
    "threshold_steps = overlapSteps(path+data,res_steps,0,1)\n",
    "plt.plot(range(0,res_steps),threshold_steps,label='1.6e-3')\n",
    "threshold_steps = overlapSteps(path+data,res_steps,50,51)\n",
    "plt.plot(range(0,res_steps),threshold_steps,label='0.8-3')\n",
    "threshold_steps = overlapSteps(path+data,res_steps,100,101)\n",
    "plt.plot(range(0,res_steps),threshold_steps,label='0.4e-3')\n",
    "threshold_steps = overlapSteps(path+data,res_steps,150,151)\n",
    "plt.plot(range(0,res_steps),threshold_steps,label='0.2e-3')\n",
    "plt.xlabel('Overlap resolution steps')\n",
    "plt.ylabel('Num collisions')\n",
    "plt.ylim(0)\n",
    "plt.title('# of collisions across overlap resolution steps (0 thresh)')\n",
    "plt.legend()\n"
   ]
  },
  {
   "cell_type": "code",
   "execution_count": 66,
   "metadata": {
    "collapsed": false
   },
   "outputs": [
    {
     "name": "stdout",
     "output_type": "stream",
     "text": [
      "[[336.]\n",
      " [169.]\n",
      " [155.]]\n",
      "[[226.]\n",
      " [ 74.]\n",
      " [ 69.]]\n"
     ]
    },
    {
     "data": {
      "text/plain": [
       "<matplotlib.legend.Legend at 0x117e13630>"
      ]
     },
     "execution_count": 66,
     "metadata": {},
     "output_type": "execute_result"
    },
    {
     "data": {
      "image/png": "[encoded data removed]",
      "text/plain": [
       "<Figure size 432x288 with 1 Axes>"
      ]
     },
     "metadata": {
      "needs_background": "light"
     },
     "output_type": "display_data"
    }
   ],
   "source": [
    "path = '/Users/Akshay/Dropbox/Life/EndyLab/Research/TranslationDynamics/data/'\n",
    "data = '190902_0223/'\n",
    "def overlapSteps(path,res_steps,expt_start,expt_end):\n",
    "    df_outputs = pd.read_csv(path+\"outputReactionsList.txt\",sep=\" \",header=None) #Add batch processing here potentially\n",
    "    threshold_steps = -np.zeros((res_steps,1))\n",
    "    for expt_num, row in enumerate(df_outputs.values):\n",
    "        if(expt_num>=expt_start and expt_num<expt_end):\n",
    "            try:\n",
    "                params = pd.read_csv(path+\"expt_\"+str(expt_num)+'.txt',delim_whitespace=True,names=['var','param','val'])\n",
    "                ts = float(params.loc[params['param']=='Z_ts_']['val'].values[0])\n",
    "                res_steps = int(float(params.loc[params['param']=='Z_ts_delta_']['val'].values[0])/ts)\n",
    "                molpos_start = float(params.loc[params['param']=='Z_molPosTSStart_']['val'].values[0])\n",
    "                df = pd.read_csv(path+row.squeeze(),delimiter=\" \",header=None)\n",
    "                df.columns=[\"time\",\"rxn\",\"x\",\"y\",\"z\",\"reactantA\",\"productA\",\"productB\",\"productC\"]\n",
    "                #df=df[df['rxn'].str.contains('rxn4')]\n",
    "\n",
    "                df=df[['time']].round(6)\n",
    "                times=np.array(df['time'].tolist())-molpos_start\n",
    "                for i in range(0,res_steps):\n",
    "                    a=[t%round((ts*res_steps),6)==0 for t in np.round(times-(ts*(i)),6)]\n",
    "                    \n",
    "                    #print(list(np.round(times-(ts*(i)),6)))\n",
    "                    #print(times[a])\n",
    "                    \n",
    "                    threshold_steps[i] += len(times[a])\n",
    "\n",
    "            except:\n",
    "                print(\"Error (e.g., Missing expt or incorrect input)\")\n",
    "    return(threshold_steps) \n",
    "\n",
    "res_steps=3\n",
    "threshold_steps = overlapSteps(path+data,res_steps,0,1)\n",
    "print(threshold_steps)\n",
    "\n",
    "plt.plot(range(0,res_steps),threshold_steps,label='1.6e-3')\n",
    "threshold_steps = overlapSteps(path+data,res_steps,200,201)\n",
    "plt.plot(range(0,res_steps),threshold_steps,label='0.8-3')\n",
    "threshold_steps = overlapSteps(path+data,res_steps,400,401)\n",
    "plt.plot(range(0,res_steps),threshold_steps,label='0.4e-3')\n",
    "threshold_steps = overlapSteps(path+data,res_steps,600,601)\n",
    "plt.plot(range(0,res_steps),threshold_steps,label='0.2e-3')\n",
    "print(threshold_steps)\n",
    "plt.xlabel('steps')\n",
    "plt.ylabel('Num collisions in ~a timestep')\n",
    "plt.ylim(0)\n",
    "plt.title('# of collisions across overlap resolution steps (1e-10 thresh)')\n",
    "plt.legend()"
   ]
  },
  {
   "cell_type": "code",
   "execution_count": 68,
   "metadata": {
    "collapsed": false
   },
   "outputs": [
    {
     "name": "stdout",
     "output_type": "stream",
     "text": [
      "[[342.]\n",
      " [243.]\n",
      " [237.]]\n",
      "[[336.]\n",
      " [169.]\n",
      " [155.]]\n"
     ]
    }
   ],
   "source": [
    "import numpy as np\n",
    "import pandas as pd\n",
    "import matplotlib.pyplot as plt\n",
    "import re\n",
    "%matplotlib inline\n",
    "def overlapSteps(path,res_steps,expt_start,expt_end):\n",
    "    df_outputs = pd.read_csv(path+\"outputReactionsList.txt\",sep=\" \",header=None) #Add batch processing here potentially\n",
    "    threshold_steps = -np.zeros((res_steps,1))\n",
    "    for expt_num, row in enumerate(df_outputs.values):\n",
    "        if(expt_num>=expt_start and expt_num<expt_end):\n",
    "            try:\n",
    "                params = pd.read_csv(path+\"expt_\"+str(expt_num)+'.txt',delim_whitespace=True,names=['var','param','val'])\n",
    "                ts = float(params.loc[params['param']=='Z_ts_']['val'].values[0])\n",
    "                res_steps = int(float(params.loc[params['param']=='Z_ts_delta_']['val'].values[0])/ts)\n",
    "                molpos_start = float(params.loc[params['param']=='Z_molPosTSStart_']['val'].values[0])\n",
    "                df = pd.read_csv(path+row.squeeze(),delimiter=\" \",header=None)\n",
    "                df.columns=[\"time\",\"rxn\",\"x\",\"y\",\"z\",\"reactantA\",\"productA\",\"productB\",\"productC\"]\n",
    "                #df=df[df['rxn'].str.contains('rxn4')]\n",
    "\n",
    "                df=df[['time']].round(6)\n",
    "                times=np.array(df['time'].tolist())-molpos_start\n",
    "                for i in range(0,res_steps):\n",
    "                    a=[t%round((ts*res_steps),6)==0 for t in np.round(times-(ts*(i)),6)]\n",
    "                    \n",
    "                    #print(list(np.round(times-(ts*(i)),6)))\n",
    "                    #print(times[a])\n",
    "                    \n",
    "                    threshold_steps[i] += len(times[a])\n",
    "\n",
    "            except:\n",
    "                print(\"Error (e.g., Missing expt or incorrect input)\")\n",
    "    return(threshold_steps) \n",
    "path = '/Users/Akshay/Dropbox/Life/EndyLab/Research/TranslationDynamics/data/'\n",
    "data = '190902_1144/data/data/'\n",
    "res_steps=3\n",
    "threshold_steps = overlapSteps(path+data,res_steps,0,1)\n",
    "print(threshold_steps)\n",
    "\n",
    "path = '/Users/Akshay/Dropbox/Life/EndyLab/Research/TranslationDynamics/data/'\n",
    "data = '190902_0223/data/data/'\n",
    "res_steps=3\n",
    "threshold_steps = overlapSteps(path+data,res_steps,0,1)\n",
    "print(threshold_steps)"
   ]
  },
  {
   "cell_type": "code",
   "execution_count": 62,
   "metadata": {
    "collapsed": false
   },
   "outputs": [
    {
     "name": "stdout",
     "output_type": "stream",
     "text": [
      "[[258.]\n",
      " [175.]\n",
      " [172.]]\n"
     ]
    }
   ],
   "source": []
  },
  {
   "cell_type": "code",
   "execution_count": 72,
   "metadata": {
    "collapsed": false
   },
   "outputs": [
    {
     "name": "stdout",
     "output_type": "stream",
     "text": [
      "[[335.]\n",
      " [245.]\n",
      " [224.]]\n",
      "[[245.]\n",
      " [179.]\n",
      " [151.]]\n"
     ]
    },
    {
     "data": {
      "text/plain": [
       "<matplotlib.legend.Legend at 0x10bfcebe0>"
      ]
     },
     "execution_count": 72,
     "metadata": {},
     "output_type": "execute_result"
    },
    {
     "data": {
      "image/png": "[encoded data removed]",
      "text/plain": [
       "<Figure size 432x288 with 1 Axes>"
      ]
     },
     "metadata": {
      "needs_background": "light"
     },
     "output_type": "display_data"
    }
   ],
   "source": [
    "path = '/Users/Akshay/Dropbox/Life/EndyLab/Research/TranslationDynamics/data/'\n",
    "data = '190903_0147/'\n",
    "def overlapSteps(path,res_steps,expt_start,expt_end):\n",
    "    df_outputs = pd.read_csv(path+\"outputReactionsList.txt\",sep=\" \",header=None) #Add batch processing here potentially\n",
    "    threshold_steps = -np.zeros((res_steps,1))\n",
    "    for expt_num, row in enumerate(df_outputs.values):\n",
    "        if(expt_num>=expt_start and expt_num<expt_end):\n",
    "            try:\n",
    "                params = pd.read_csv(path+\"expt_\"+str(expt_num)+'.txt',delim_whitespace=True,names=['var','param','val'])\n",
    "                ts = float(params.loc[params['param']=='Z_ts_']['val'].values[0])\n",
    "                res_steps = int(float(params.loc[params['param']=='Z_ts_delta_']['val'].values[0])/ts)\n",
    "                molpos_start = float(params.loc[params['param']=='Z_molPosTSStart_']['val'].values[0])\n",
    "                df = pd.read_csv(path+row.squeeze(),delimiter=\" \",header=None)\n",
    "                df.columns=[\"time\",\"rxn\",\"x\",\"y\",\"z\",\"reactantA\",\"productA\",\"productB\",\"productC\"]\n",
    "                #df=df[df['rxn'].str.contains('rxn4')]\n",
    "\n",
    "                df=df[['time']].round(6)\n",
    "                times=np.array(df['time'].tolist())-molpos_start\n",
    "                for i in range(0,res_steps):\n",
    "                    a=[t%round((ts*res_steps),6)==0 for t in np.round(times-(ts*(i)),6)]\n",
    "                    \n",
    "                    #print(list(np.round(times-(ts*(i)),6)))\n",
    "                    #print(times[a])\n",
    "                    \n",
    "                    threshold_steps[i] += len(times[a])\n",
    "\n",
    "            except:\n",
    "                print(\"Error (e.g., Missing expt or incorrect input)\")\n",
    "    return(threshold_steps) \n",
    "\n",
    "res_steps=3\n",
    "threshold_steps = overlapSteps(path+data,res_steps,0,1)\n",
    "print(threshold_steps)\n",
    "plt.plot(range(0,res_steps),threshold_steps,label='1.6e-3')\n",
    "threshold_steps = overlapSteps(path+data,res_steps,50,51)\n",
    "plt.plot(range(0,res_steps),threshold_steps,label='0.8-3')\n",
    "threshold_steps = overlapSteps(path+data,res_steps,100,101)\n",
    "plt.plot(range(0,res_steps),threshold_steps,label='0.4e-3')\n",
    "#threshold_steps = overlapSteps(path+data,res_steps,150,200)\n",
    "#plt.plot(range(0,res_steps),threshold_steps,label='0.2e-3')\n",
    "print(threshold_steps)\n",
    "plt.xlabel('steps')\n",
    "plt.ylabel('Num collisions in ~a timestep')\n",
    "plt.ylim(0)\n",
    "plt.legend()"
   ]
  },
  {
   "cell_type": "code",
   "execution_count": 104,
   "metadata": {
    "collapsed": false
   },
   "outputs": [
    {
     "name": "stdout",
     "output_type": "stream",
     "text": [
      "80.0\n",
      "[[350.]\n",
      " [265.]]\n",
      "20.0\n",
      "5.0\n",
      "1.25\n",
      "0.3125\n",
      "[[112.]\n",
      " [177.]]\n"
     ]
    },
    {
     "data": {
      "text/plain": [
       "<matplotlib.legend.Legend at 0x11ae52fd0>"
      ]
     },
     "execution_count": 104,
     "metadata": {},
     "output_type": "execute_result"
    },
    {
     "data": {
      "image/png": "[encoded data removed]",
      "text/plain": [
       "<Figure size 432x288 with 1 Axes>"
      ]
     },
     "metadata": {
      "needs_background": "light"
     },
     "output_type": "display_data"
    }
   ],
   "source": [
    "path = '/Users/Akshay/Dropbox/Life/EndyLab/Research/TranslationDynamics/data/'\n",
    "data = '190903_0350/'\n",
    "def overlapSteps(path,res_steps,expt_start,expt_end):\n",
    "    df_outputs = pd.read_csv(path+\"outputReactionsList.txt\",sep=\" \",header=None) #Add batch processing here potentially\n",
    "    threshold_steps = -np.zeros((res_steps,1))\n",
    "    for expt_num, row in enumerate(df_outputs.values):\n",
    "        if(expt_num>=expt_start and expt_num<expt_end):\n",
    "            try:\n",
    "                params = pd.read_csv(path+\"expt_\"+str(expt_num)+'.txt',delim_whitespace=True,names=['var','param','val'])\n",
    "                ts = float(params.loc[params['param']=='Z_ts_']['val'].values[0])\n",
    "                res_steps = int(float(params.loc[params['param']=='Z_ts_delta_']['val'].values[0])/ts)\n",
    "                molpos_start = float(params.loc[params['param']=='Z_molPosTSStart_']['val'].values[0])\n",
    "                print(molpos_start)\n",
    "                df = pd.read_csv(path+row.squeeze(),delimiter=\" \",header=None)\n",
    "                df.columns=[\"time\",\"rxn\",\"x\",\"y\",\"z\",\"reactantA\",\"productA\",\"productB\",\"productC\"]\n",
    "                #df=df[df['rxn'].str.contains('rxn4')]\n",
    "\n",
    "                df=df[['time']].round(6)\n",
    "                times=np.array(df['time'].tolist())-molpos_start\n",
    "                for i in range(0,res_steps):\n",
    "                    a=[t%round((ts*res_steps),6)==0 for t in np.round(times-(ts*(i)),6)]\n",
    "                    \n",
    "                    #print(list(np.round(times-(ts*(i)),6)))\n",
    "                    #print(times[a])\n",
    "                    \n",
    "                    threshold_steps[i] += len(times[a])\n",
    "\n",
    "            except:\n",
    "                print(\"Error (e.g., Missing expt or incorrect input)\")\n",
    "    return(threshold_steps) \n",
    "n=1\n",
    "delta=50\n",
    "k=250\n",
    "res_steps=2\n",
    "threshold_steps = overlapSteps(path+data,res_steps,k,k+n)\n",
    "plt.plot(range(0,res_steps),threshold_steps,label='1.6e-3')\n",
    "print(threshold_steps)\n",
    "\n",
    "threshold_steps = overlapSteps(path+data,res_steps,k+delta,k+delta+n)\n",
    "plt.plot(range(0,res_steps),threshold_steps,label='0.8-3')\n",
    "threshold_steps = overlapSteps(path+data,res_steps,k+2*delta,k+2*delta+n)\n",
    "plt.plot(range(0,res_steps),threshold_steps,label='0.4e-3')\n",
    "threshold_steps = overlapSteps(path+data,res_steps,k+3*delta,k+3*delta+n)\n",
    "plt.plot(range(0,res_steps),threshold_steps,label='0.2e-3')\n",
    "threshold_steps = overlapSteps(path+data,res_steps,k+4*delta,k+4*delta+n)\n",
    "plt.plot(range(0,res_steps),threshold_steps,label='0.1e-3')\n",
    "print(threshold_steps)\n",
    "plt.xlabel('steps')\n",
    "plt.ylabel('Num collisions in ~a timestep')\n",
    "plt.ylim(0)\n",
    "plt.legend()"
   ]
  },
  {
   "cell_type": "code",
   "execution_count": 109,
   "metadata": {
    "collapsed": false
   },
   "outputs": [
    {
     "name": "stdout",
     "output_type": "stream",
     "text": [
      "240.00000000000003\n",
      "[[352.]\n",
      " [248.]\n",
      " [226.]]\n",
      "240.00000000000003\n",
      "240.00000000000003\n",
      "240.00000000000003\n",
      "240.00000000000003\n",
      "[[107.]\n",
      " [ 98.]\n",
      " [179.]]\n"
     ]
    },
    {
     "data": {
      "text/plain": [
       "<matplotlib.legend.Legend at 0x11b9078d0>"
      ]
     },
     "execution_count": 109,
     "metadata": {},
     "output_type": "execute_result"
    },
    {
     "data": {
      "image/png": "[encoded data removed]",
      "text/plain": [
       "<Figure size 432x288 with 1 Axes>"
      ]
     },
     "metadata": {
      "needs_background": "light"
     },
     "output_type": "display_data"
    }
   ],
   "source": [
    "path = '/Users/Akshay/Dropbox/Life/EndyLab/Research/TranslationDynamics/data/'\n",
    "data = '190903_1848/'\n",
    "def overlapSteps(path,res_steps,expt_start,expt_end):\n",
    "    df_outputs = pd.read_csv(path+\"outputReactionsList.txt\",sep=\" \",header=None) #Add batch processing here potentially\n",
    "    threshold_steps = -np.zeros((res_steps,1))\n",
    "    for expt_num, row in enumerate(df_outputs.values):\n",
    "        if(expt_num>=expt_start and expt_num<expt_end):\n",
    "            try:\n",
    "                params = pd.read_csv(path+\"expt_\"+str(expt_num)+'.txt',delim_whitespace=True,names=['var','param','val'])\n",
    "                ts = float(params.loc[params['param']=='Z_ts_']['val'].values[0])\n",
    "                res_steps = int(float(params.loc[params['param']=='Z_ts_delta_']['val'].values[0])/ts)\n",
    "                molpos_start = float(params.loc[params['param']=='Z_molPosTSStart_']['val'].values[0])\n",
    "                print(molpos_start)\n",
    "                df = pd.read_csv(path+row.squeeze(),delimiter=\" \",header=None)\n",
    "                df.columns=[\"time\",\"rxn\",\"x\",\"y\",\"z\",\"reactantA\",\"productA\",\"productB\",\"productC\"]\n",
    "                #df=df[df['rxn'].str.contains('rxn4')]\n",
    "\n",
    "                df=df[['time']].round(6)\n",
    "                times=np.array(df['time'].tolist())-molpos_start\n",
    "                for i in range(0,res_steps):\n",
    "                    a=[t%round((ts*res_steps),6)==0 for t in np.round(times-(ts*(i)),6)]\n",
    "                    \n",
    "                    #print(list(np.round(times-(ts*(i)),6)))\n",
    "                    #print(times[a])\n",
    "                    \n",
    "                    threshold_steps[i] += len(times[a])\n",
    "\n",
    "            except:\n",
    "                print(\"Error (e.g., Missing expt or incorrect input)\")\n",
    "    return(threshold_steps) \n",
    "n=1\n",
    "delta=50\n",
    "k=500\n",
    "res_steps=3\n",
    "threshold_steps = overlapSteps(path+data,res_steps,k,k+n)\n",
    "plt.plot(range(0,res_steps),threshold_steps,label='1.6e-3')\n",
    "print(threshold_steps)\n",
    "\n",
    "threshold_steps = overlapSteps(path+data,res_steps,k+delta,k+delta+n)\n",
    "plt.plot(range(0,res_steps),threshold_steps,label='0.8-3')\n",
    "threshold_steps = overlapSteps(path+data,res_steps,k+2*delta,k+2*delta+n)\n",
    "plt.plot(range(0,res_steps),threshold_steps,label='0.4e-3')\n",
    "threshold_steps = overlapSteps(path+data,res_steps,k+3*delta,k+3*delta+n)\n",
    "plt.plot(range(0,res_steps),threshold_steps,label='0.2e-3')\n",
    "threshold_steps = overlapSteps(path+data,res_steps,k+4*delta,k+4*delta+n)\n",
    "plt.plot(range(0,res_steps),threshold_steps,label='0.1e-3')\n",
    "print(threshold_steps)\n",
    "plt.xlabel('steps')\n",
    "plt.ylabel('Num collisions in ~a timestep')\n",
    "plt.ylim(0)\n",
    "plt.legend()"
   ]
  },
  {
   "cell_type": "code",
   "execution_count": 49,
   "metadata": {
    "collapsed": false
   },
   "outputs": [
    {
     "name": "stdout",
     "output_type": "stream",
     "text": [
      "[[2302.]\n",
      " [1698.]\n",
      " [1411.]\n",
      " [1340.]\n",
      " [1193.]\n",
      " [1175.]\n",
      " [1113.]\n",
      " [1066.]\n",
      " [1035.]\n",
      " [ 975.]]\n",
      "[[1929.]\n",
      " [1342.]\n",
      " [1071.]\n",
      " [ 943.]\n",
      " [ 859.]\n",
      " [ 828.]\n",
      " [ 804.]\n",
      " [ 778.]\n",
      " [ 699.]\n",
      " [ 723.]]\n",
      "[[1482.]\n",
      " [ 970.]\n",
      " [ 780.]\n",
      " [ 712.]\n",
      " [ 640.]\n",
      " [ 626.]\n",
      " [ 565.]\n",
      " [ 553.]\n",
      " [ 492.]\n",
      " [ 500.]]\n"
     ]
    },
    {
     "data": {
      "text/plain": [
       "<matplotlib.legend.Legend at 0x11743fc18>"
      ]
     },
     "execution_count": 49,
     "metadata": {},
     "output_type": "execute_result"
    },
    {
     "data": {
      "image/png": "[encoded data removed]",
      "text/plain": [
       "<Figure size 432x288 with 1 Axes>"
      ]
     },
     "metadata": {
      "needs_background": "light"
     },
     "output_type": "display_data"
    }
   ],
   "source": [
    "path = '/Users/Akshay/Dropbox/Life/EndyLab/Research/TranslationDynamics/data/'\n",
    "data = '190905_0050/'\n",
    "def overlapSteps(path,res_steps,expt_start,expt_end):\n",
    "    df_outputs = pd.read_csv(path+\"outputReactionsList.txt\",sep=\" \",header=None) #Add batch processing here potentially\n",
    "    threshold_steps = -np.zeros((res_steps,1))\n",
    "    for expt_num, row in enumerate(df_outputs.values):\n",
    "        if(expt_num>=expt_start and expt_num<expt_end):\n",
    "            try:\n",
    "                params = pd.read_csv(path+\"expt_\"+str(expt_num)+'.txt',delim_whitespace=True,names=['var','param','val'])\n",
    "                ts = float(params.loc[params['param']=='Z_ts_']['val'].values[0])\n",
    "                res_steps = int(float(params.loc[params['param']=='Z_ts_delta_']['val'].values[0])/ts)\n",
    "                molpos_start = float(params.loc[params['param']=='Z_molPosTSStart_']['val'].values[0])\n",
    "                df = pd.read_csv(path+row.squeeze(),delimiter=\" \",header=None)\n",
    "                df.columns=[\"time\",\"rxn\",\"x\",\"y\",\"z\",\"reactantA\",\"productA\",\"productB\",\"productC\"]\n",
    "                df=df[df['rxn'].str.contains('rxn4')]\n",
    "\n",
    "                df=df[['time']].round(6)\n",
    "                times=np.array(df['time'].tolist())-molpos_start\n",
    "                for i in range(0,res_steps):\n",
    "                    a=[t%round((ts*res_steps),6)==0 for t in np.round(times-(ts*(i-1)),6)]\n",
    "                    \n",
    "                    #print(list(np.round(times-(ts*(i)),6)))\n",
    "                    #print(times[a])\n",
    "                    \n",
    "                    threshold_steps[i] += len(times[a])\n",
    "\n",
    "            except:\n",
    "                print(\"Error (e.g., Missing expt or incorrect input)\")\n",
    "    return(threshold_steps) \n",
    "n=50\n",
    "delta=50\n",
    "k=1200\n",
    "res_steps=10\n",
    "\n",
    "threshold_steps = overlapSteps(path+data,res_steps,k,k+n)\n",
    "plt.plot(range(0,res_steps),threshold_steps,label='0.4e-3')\n",
    "print(threshold_steps)\n",
    "\n",
    "threshold_steps = overlapSteps(path+data,res_steps,k+delta,k+delta+n)\n",
    "plt.plot(range(0,res_steps),threshold_steps,label='0.2-3')\n",
    "print(threshold_steps)\n",
    "\n",
    "threshold_steps = overlapSteps(path+data,res_steps,k+2*delta,k+2*delta+n)\n",
    "plt.plot(range(0,res_steps),threshold_steps,label='0.1e-3')\n",
    "print(threshold_steps)\n",
    "\n",
    "plt.xlabel('steps')\n",
    "plt.ylabel('Num collisions in ~a timestep')\n",
    "plt.ylim(0)\n",
    "plt.legend()\n",
    "#[[11726.][ 6425.]]\n",
    "#[[13273.][ 7762.]]\n",
    "#[[12224.][ 6757.]]\n",
    "#[[13262.][ 7852.]]"
   ]
  },
  {
   "cell_type": "code",
   "execution_count": 67,
   "metadata": {
    "collapsed": false
   },
   "outputs": [
    {
     "name": "stdout",
     "output_type": "stream",
     "text": [
      "[[106.57]\n",
      " [ 70.24]\n",
      " [ 60.01]]\n",
      "[[132.62]\n",
      " [ 90.22]\n",
      " [ 78.52]]\n",
      "[[-0.]\n",
      " [-0.]\n",
      " [-0.]]\n"
     ]
    },
    {
     "data": {
      "text/plain": [
       "<matplotlib.legend.Legend at 0x1197e2a58>"
      ]
     },
     "execution_count": 67,
     "metadata": {},
     "output_type": "execute_result"
    },
    {
     "data": {
      "image/png": "[encoded data removed]",
      "text/plain": [
       "<Figure size 432x288 with 1 Axes>"
      ]
     },
     "metadata": {
      "needs_background": "light"
     },
     "output_type": "display_data"
    }
   ],
   "source": [
    "path = '/Users/Akshay/Dropbox/Life/EndyLab/Research/TranslationDynamics/data/'\n",
    "data = '190906_1302/'\n",
    "def overlapSteps(path,res_steps,expt_start,expt_end):\n",
    "    df_outputs = pd.read_csv(path+\"outputReactionsList.txt\",sep=\" \",header=None) #Add batch processing here potentially\n",
    "    threshold_steps = -np.zeros((res_steps,1))\n",
    "    for expt_num, row in enumerate(df_outputs.values):\n",
    "        if(expt_num>=expt_start and expt_num<expt_end):\n",
    "            try:\n",
    "                params = pd.read_csv(path+\"expt_\"+str(expt_num)+'.txt',delim_whitespace=True,names=['var','param','val'])\n",
    "                ts = float(params.loc[params['param']=='Z_ts_']['val'].values[0])\n",
    "                res_steps = int(float(params.loc[params['param']=='Z_ts_delta_']['val'].values[0])/ts)\n",
    "                molpos_start = float(params.loc[params['param']=='Z_molPosTSStart_']['val'].values[0])\n",
    "                df = pd.read_csv(path+row.squeeze(),delimiter=\" \",header=None)\n",
    "                df.columns=[\"time\",\"rxn\",\"x\",\"y\",\"z\",\"reactantA\",\"productA\",\"productB\",\"productC\"]\n",
    "                #df=df[df['rxn'].str.contains('rxn4')]\n",
    "\n",
    "                df=df[['time']].round(6)\n",
    "                times=np.array(df['time'].tolist())-molpos_start\n",
    "                for i in range(0,res_steps):\n",
    "                    a=[t%round((ts*res_steps),6)==0 for t in np.round(times-(ts*(i)),6)]\n",
    "                    \n",
    "                    #print(list(np.round(times-(ts*(i)),6)))\n",
    "                    #print(times[a])\n",
    "                    \n",
    "                    threshold_steps[i] += len(times[a])\n",
    "\n",
    "            except:\n",
    "                print(\"Error (e.g., Missing expt or incorrect input)\")\n",
    "    return(threshold_steps) \n",
    "n=50\n",
    "delta=50\n",
    "k=750\n",
    "res_steps=3\n",
    "\n",
    "threshold_steps = overlapSteps(path+data,res_steps,k,k+n)\n",
    "plt.plot(range(0,res_steps),threshold_steps/(n*2),label='0.4e-3 ts')\n",
    "print(threshold_steps/(n*2))\n",
    "threshold_steps = overlapSteps(path+data,res_steps,k+delta,k+delta+n)\n",
    "plt.plot(range(0,res_steps),threshold_steps/(n*2),label='0.2e-2 ts')\n",
    "print(threshold_steps/(n*2))\n",
    "threshold_steps = overlapSteps(path+data,res_steps,k+delta*2,k+delta*2+n)\n",
    "plt.plot(range(0,res_steps),threshold_steps/(n*2),label='0.1e-3 ts')\n",
    "print(threshold_steps/(n*2))\n",
    "#threshold_steps = overlapSteps(path+data,res_steps,k+delta*3,k+delta*3+n)\n",
    "#plt.plot(range(0,res_steps),threshold_steps/(n*2),label='0.05e-3 ts')#\n",
    "#print(threshold_steps/(n*2))\n",
    "\n",
    "\n",
    "#threshold_steps = overlapSteps(path+data,res_steps,k+2*delta,k+2*delta+n)\n",
    "#plt.plot(range(0,res_steps),threshold_steps,label='0.1e-3')\n",
    "#print(threshold_steps)\n",
    "\n",
    "plt.xlabel('steps')\n",
    "plt.ylabel('Num collisions in ~a timestep')\n",
    "plt.ylim(0)\n",
    "plt.legend()\n",
    "#[[11726.][ 6425.]]\n",
    "#[[13273.][ 7762.]]\n",
    "#[[12224.][ 6757.]]\n",
    "#[[13262.][ 7852.]]"
   ]
  },
  {
   "cell_type": "code",
   "execution_count": null,
   "metadata": {
    "collapsed": true
   },
   "outputs": [],
   "source": []
  },
  {
   "cell_type": "code",
   "execution_count": null,
   "metadata": {
    "collapsed": true
   },
   "outputs": [],
   "source": []
  }
 ],
 "metadata": {
  "kernelspec": {
   "display_name": "Python 3",
   "language": "python",
   "name": "python3"
  },
  "language_info": {
   "codemirror_mode": {
    "name": "ipython",
    "version": 3
   },
   "file_extension": ".py",
   "mimetype": "text/x-python",
   "name": "python",
   "nbconvert_exporter": "python",
   "pygments_lexer": "ipython3",
   "version": "3.6.7"
  }
 },
 "nbformat": 4,
 "nbformat_minor": 2
}
