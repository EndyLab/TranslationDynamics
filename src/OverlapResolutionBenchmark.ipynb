{
 "cells": [
  {
   "cell_type": "code",
   "execution_count": null,
   "metadata": {
    "collapsed": true
   },
   "outputs": [],
   "source": [
    "import numpy as np\n",
    "import pandas as pd\n",
    "import matplotlib.pyplot as plt\n",
    "import re\n",
    "%matplotlib inline\n",
    "def overlapSteps(path,expt_start,expt_end):\n",
    "    df_outputs = pd.read_csv(path+\"outputReactions.txt\",sep=\" \",header=None) #Add batch processing here potentially\n",
    "    r2_lists=list() \n",
    "    for expt_num, row in enumerate(df_outputs):\n",
    "        if(expt_num>=expt_start and expt_num<expt_end):\n",
    "            try:\n",
    "                df = pd.read_csv(path+row,delimiter=\" \",header=None)\n",
    "                my_cols=[\"time\",\"rxn\",\"x\",\"y\",\"z\",\"reactantA\",\"productA\",\"productB\",\"productC\"]\n",
    "                params = pd.read_csv(path+\"expt_\"+str(expt_num)+'.txt',delim_whitespace=True,names=my_cols)\n",
    "                #molposTS = float(params.loc[params['param']=='Z_molPosTS_']['val'].values[0])\n",
    "                df.columns=[\"time\",\"r2\",\"r4\"]\n",
    "                r2_lists.append(np.array(df['r2'].tolist()))\n",
    "            except:\n",
    "                print(\"Error (e.g., Missing expt or incorrect input)\")\n",
    "    return r2_lists,np.add.reduce(r2_lists)/(len(r2_lists)),np.arange(0,len(np.add.reduce(r2_lists)/(len(r2_lists))))*molposTS\n",
    "#crowder,ribosome,tRNA\n",
    "path='/Users/Akshay/Dropbox/Life/EndyLab/Research/TranslationDynamics/data/'\n",
    "data = \"190826_1154/\"\n",
    "#MSD_data = MSD(path+data,0,2,'tRNA')\n",
    "#plt.plot(MSD(path+data,200,250,'ribosome')[2],MSD(path+data,200,250,'ribosome')[1],color='blue',label=\"284 crowders\")\n",
    "n =50\n",
    "plt.plot(MSD(path+data,0,n,'crowder')[2],MSD(path+data,0,n,'crowder')[1],color='purple',alpha=0.2,label=\"Dilute\")\n",
    "#plt.plot(MSD(path+data,4*n,5*n,'tRNA')[2],MSD(path+data,4*n,5*n,'tRNA')[1],color='purple',label=\"1.6e-3 ts\")\n",
    "\n"
   ]
  }
 ],
 "metadata": {
  "kernelspec": {
   "display_name": "Python 3",
   "language": "python",
   "name": "python3"
  },
  "language_info": {
   "codemirror_mode": {
    "name": "ipython",
    "version": 3
   },
   "file_extension": ".py",
   "mimetype": "text/x-python",
   "name": "python",
   "nbconvert_exporter": "python",
   "pygments_lexer": "ipython3",
   "version": "3.6.7"
  }
 },
 "nbformat": 4,
 "nbformat_minor": 2
}
