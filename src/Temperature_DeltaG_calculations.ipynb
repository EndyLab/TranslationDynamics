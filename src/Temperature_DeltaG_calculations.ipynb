{
 "cells": [
  {
   "cell_type": "code",
   "execution_count": 9,
   "metadata": {},
   "outputs": [
    {
     "data": {
      "text/plain": [
       "-0.0016976744186046513"
      ]
     },
     "execution_count": 9,
     "metadata": {},
     "output_type": "execute_result"
    }
   ],
   "source": [
    "delG = -7.3 #kcal/mol for single P-P bond hydrolysis\n",
    "delG_1 = delG/(6.02*10**23)\n",
    "#How much energy does hydrolysis equivalent to # of ribosomes in cell release? (Assume gr=3.0)\n",
    "delG_cell_singlehydrolysis = delG_1*70000\n",
    "\n",
    "#Two hydrolysis events per ribosome per elongation event\n",
    "delG_cell_total= delG_cell_singlehydrolysis*2\n",
    "\n",
    "#DelG = DelH - T*DelS\n",
    "#Assume all deltaG goes to dissipated heat in the surrounding, the limiting case for raising temp\n",
    "#How much energy does a single hydrolysis release in Joules?\n",
    "delH_cell = delG_cell_total*4184 #Joules/cell\n",
    "#specific heat of water = 4.184 joules/gram-C, or 4.184*1e-12 J/cell-C (1fL = 1pg);\n",
    "tempRaise = delH_cell/(4.184*1e-12)\n",
    "tempRaise"
   ]
  },
  {
   "cell_type": "code",
   "execution_count": 31,
   "metadata": {},
   "outputs": [
    {
     "name": "stdout",
     "output_type": "stream",
     "text": [
      "8.117794019933555e-19\n",
      "0.02371811706332963 C/elongation event\n",
      "0.18974493650663704 C/s.\n"
     ]
    },
    {
     "data": {
      "text/plain": [
       "-3.9610913644237244e-14"
      ]
     },
     "execution_count": 31,
     "metadata": {},
     "output_type": "execute_result"
    }
   ],
   "source": [
    "delG = -7.3 #kcal/mol for single P-P bond hydrolysis\n",
    "delG_1 = delG/(6.02*10**23)\n",
    "#Two hydrolysis events per ribosome per elongation event\n",
    "delG_cell_total= delG_1*2\n",
    "\n",
    "#DelG = DelH - T*DelS\n",
    "#Assume all deltaG goes to dissipated heat in the surrounding, the limiting case for raising temp\n",
    "#How much energy does a single hydrolysis release in Joules?\n",
    "delH_cell = -delG_cell_total*4184 #Joules/A-site\n",
    "print(delH_cell*8)\n",
    "\n",
    "AsiteVolume = (4/3*3.14159265*0.013**3)/9 #Assume 1/3 length and width --> 1/9th volume of ribosome; units of micron^3 i.e. fL\n",
    "\n",
    "#specific heat of water = 4.184 joules/gram-C --> 4.184 J/gram-C * ((AsiteVolume)*1e-12) gram Water/A-site (1fL = 1pg);\n",
    "\n",
    "localTempChange = delH_cell/(4.184*AsiteVolume*1e-12) #(Joules/Asite)/(Joules/Asite-C)\n",
    "print(localTempChange, 'C/elongation event') ##localTempChange represents temperature change in A-site per elongation event\n",
    "\n",
    "#12 to 20 aa/s from low to high growth rate --> expect ~8 additional elongation events/s.\n",
    "print(localTempChange*8, 'C/s.')\n",
    "\n",
    "#How fast would heat flow in 1 second? delQ = -kA*delT\n",
    "k=614.50 #mW/m^2*K\n",
    "A = 4*3.14159265*((0.013*1e-6)/3)**2 #m^2\n",
    "delt = 1 # second\n",
    "delT = localTempChange+273.15 #Kelvin\n",
    "Q = -k*A*delt*delT #units of mW\n",
    "Q*0.001 #Joules/second"
   ]
  },
  {
   "cell_type": "code",
   "execution_count": 20,
   "metadata": {},
   "outputs": [
    {
     "data": {
      "text/plain": [
       "83.33333333333333"
      ]
     },
     "execution_count": 20,
     "metadata": {},
     "output_type": "execute_result"
    }
   ],
   "source": []
  },
  {
   "cell_type": "code",
   "execution_count": null,
   "metadata": {},
   "outputs": [],
   "source": []
  }
 ],
 "metadata": {
  "kernelspec": {
   "display_name": "Python 3",
   "language": "python",
   "name": "python3"
  },
  "language_info": {
   "codemirror_mode": {
    "name": "ipython",
    "version": 3
   },
   "file_extension": ".py",
   "mimetype": "text/x-python",
   "name": "python",
   "nbconvert_exporter": "python",
   "pygments_lexer": "ipython3",
   "version": "3.7.4"
  }
 },
 "nbformat": 4,
 "nbformat_minor": 2
}
