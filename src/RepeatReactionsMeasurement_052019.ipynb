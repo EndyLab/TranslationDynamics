{
 "cells": [
  {
   "cell_type": "code",
   "execution_count": 1,
   "metadata": {
    "collapsed": false
   },
   "outputs": [
    {
     "ename": "FileNotFoundError",
     "evalue": "[Errno 2] File b'/Users/Akshay/Dropbox/Life/EndyLab/Research/TranslationDynamics/data/190515_1927/outputReactionsList.txt' does not exist: b'/Users/Akshay/Dropbox/Life/EndyLab/Research/TranslationDynamics/data/190515_1927/outputReactionsList.txt'",
     "output_type": "error",
     "traceback": [
      "\u001b[0;31m---------------------------------------------------------------------------\u001b[0m",
      "\u001b[0;31mFileNotFoundError\u001b[0m                         Traceback (most recent call last)",
      "\u001b[0;32m<ipython-input-1-ada639904e51>\u001b[0m in \u001b[0;36m<module>\u001b[0;34m\u001b[0m\n\u001b[1;32m     12\u001b[0m \u001b[0mcollisions\u001b[0m \u001b[0;34m=\u001b[0m \u001b[0;34m[\u001b[0m\u001b[0;34m]\u001b[0m\u001b[0;34m\u001b[0m\u001b[0;34m\u001b[0m\u001b[0m\n\u001b[1;32m     13\u001b[0m \u001b[0;32mfor\u001b[0m \u001b[0mi\u001b[0m \u001b[0;32min\u001b[0m \u001b[0mrange\u001b[0m\u001b[0;34m(\u001b[0m\u001b[0;36m1\u001b[0m\u001b[0;34m,\u001b[0m\u001b[0;36m13\u001b[0m\u001b[0;34m)\u001b[0m\u001b[0;34m:\u001b[0m\u001b[0;34m\u001b[0m\u001b[0;34m\u001b[0m\u001b[0m\n\u001b[0;32m---> 14\u001b[0;31m     \u001b[0msim_i\u001b[0m \u001b[0;34m=\u001b[0m \u001b[0mcountIncorrectRepeatCollisions\u001b[0m\u001b[0;34m(\u001b[0m\u001b[0mpath\u001b[0m\u001b[0;34m+\u001b[0m\u001b[0mdata\u001b[0m\u001b[0;34m,\u001b[0m \u001b[0;36m100\u001b[0m\u001b[0;34m*\u001b[0m\u001b[0;34m(\u001b[0m\u001b[0mi\u001b[0m\u001b[0;34m-\u001b[0m\u001b[0;36m1\u001b[0m\u001b[0;34m)\u001b[0m\u001b[0;34m,\u001b[0m\u001b[0;36m100\u001b[0m\u001b[0;34m*\u001b[0m\u001b[0mi\u001b[0m\u001b[0;34m)\u001b[0m\u001b[0;34m\u001b[0m\u001b[0;34m\u001b[0m\u001b[0m\n\u001b[0m\u001b[1;32m     15\u001b[0m     \u001b[0mcollisions\u001b[0m\u001b[0;34m.\u001b[0m\u001b[0mappend\u001b[0m\u001b[0;34m(\u001b[0m\u001b[0msim_i\u001b[0m\u001b[0;34m)\u001b[0m\u001b[0;34m\u001b[0m\u001b[0;34m\u001b[0m\u001b[0m\n\u001b[1;32m     16\u001b[0m     \u001b[0mprint\u001b[0m\u001b[0;34m(\u001b[0m\u001b[0msim_i\u001b[0m\u001b[0;34m)\u001b[0m\u001b[0;34m\u001b[0m\u001b[0;34m\u001b[0m\u001b[0m\n",
      "\u001b[0;32m~/Documents/TranslationDynamics/src/analysis_utils.py\u001b[0m in \u001b[0;36mcountIncorrectRepeatCollisions\u001b[0;34m(path, expt_start, expt_end, equalRibosomes, ts_equillibrate, avg, scaling)\u001b[0m\n\u001b[1;32m    398\u001b[0m \u001b[0;34m\u001b[0m\u001b[0m\n\u001b[1;32m    399\u001b[0m \u001b[0;32mdef\u001b[0m \u001b[0mcountIncorrectRepeatCollisions\u001b[0m\u001b[0;34m(\u001b[0m\u001b[0mpath\u001b[0m\u001b[0;34m,\u001b[0m\u001b[0mexpt_start\u001b[0m\u001b[0;34m,\u001b[0m\u001b[0mexpt_end\u001b[0m\u001b[0;34m,\u001b[0m\u001b[0mequalRibosomes\u001b[0m\u001b[0;34m=\u001b[0m\u001b[0;32mFalse\u001b[0m\u001b[0;34m,\u001b[0m\u001b[0mts_equillibrate\u001b[0m\u001b[0;34m=\u001b[0m\u001b[0;36m0\u001b[0m\u001b[0;34m,\u001b[0m \u001b[0mavg\u001b[0m\u001b[0;34m=\u001b[0m\u001b[0;32mFalse\u001b[0m\u001b[0;34m,\u001b[0m\u001b[0mscaling\u001b[0m\u001b[0;34m=\u001b[0m\u001b[0;36m1\u001b[0m\u001b[0;34m)\u001b[0m\u001b[0;34m:\u001b[0m\u001b[0;34m\u001b[0m\u001b[0;34m\u001b[0m\u001b[0m\n\u001b[0;32m--> 400\u001b[0;31m     \u001b[0mdf_outputs\u001b[0m \u001b[0;34m=\u001b[0m \u001b[0mpd\u001b[0m\u001b[0;34m.\u001b[0m\u001b[0mread_csv\u001b[0m\u001b[0;34m(\u001b[0m\u001b[0mpath\u001b[0m\u001b[0;34m+\u001b[0m\u001b[0;34m\"outputReactionsList.txt\"\u001b[0m\u001b[0;34m,\u001b[0m\u001b[0msep\u001b[0m\u001b[0;34m=\u001b[0m\u001b[0;34m\" \"\u001b[0m\u001b[0;34m,\u001b[0m\u001b[0mheader\u001b[0m\u001b[0;34m=\u001b[0m\u001b[0;32mNone\u001b[0m\u001b[0;34m)\u001b[0m \u001b[0;31m#Add batch processing here potentially\u001b[0m\u001b[0;34m\u001b[0m\u001b[0;34m\u001b[0m\u001b[0m\n\u001b[0m\u001b[1;32m    401\u001b[0m \u001b[0;34m\u001b[0m\u001b[0m\n\u001b[1;32m    402\u001b[0m     \u001b[0mrxn14_tot\u001b[0m \u001b[0;34m=\u001b[0m \u001b[0mlist\u001b[0m\u001b[0;34m(\u001b[0m\u001b[0;34m)\u001b[0m\u001b[0;34m\u001b[0m\u001b[0;34m\u001b[0m\u001b[0m\n",
      "\u001b[0;32m~/anaconda3/lib/python3.6/site-packages/pandas/io/parsers.py\u001b[0m in \u001b[0;36mparser_f\u001b[0;34m(filepath_or_buffer, sep, delimiter, header, names, index_col, usecols, squeeze, prefix, mangle_dupe_cols, dtype, engine, converters, true_values, false_values, skipinitialspace, skiprows, skipfooter, nrows, na_values, keep_default_na, na_filter, verbose, skip_blank_lines, parse_dates, infer_datetime_format, keep_date_col, date_parser, dayfirst, cache_dates, iterator, chunksize, compression, thousands, decimal, lineterminator, quotechar, quoting, doublequote, escapechar, comment, encoding, dialect, error_bad_lines, warn_bad_lines, delim_whitespace, low_memory, memory_map, float_precision)\u001b[0m\n\u001b[1;32m    683\u001b[0m         )\n\u001b[1;32m    684\u001b[0m \u001b[0;34m\u001b[0m\u001b[0m\n\u001b[0;32m--> 685\u001b[0;31m         \u001b[0;32mreturn\u001b[0m \u001b[0m_read\u001b[0m\u001b[0;34m(\u001b[0m\u001b[0mfilepath_or_buffer\u001b[0m\u001b[0;34m,\u001b[0m \u001b[0mkwds\u001b[0m\u001b[0;34m)\u001b[0m\u001b[0;34m\u001b[0m\u001b[0;34m\u001b[0m\u001b[0m\n\u001b[0m\u001b[1;32m    686\u001b[0m \u001b[0;34m\u001b[0m\u001b[0m\n\u001b[1;32m    687\u001b[0m     \u001b[0mparser_f\u001b[0m\u001b[0;34m.\u001b[0m\u001b[0m__name__\u001b[0m \u001b[0;34m=\u001b[0m \u001b[0mname\u001b[0m\u001b[0;34m\u001b[0m\u001b[0;34m\u001b[0m\u001b[0m\n",
      "\u001b[0;32m~/anaconda3/lib/python3.6/site-packages/pandas/io/parsers.py\u001b[0m in \u001b[0;36m_read\u001b[0;34m(filepath_or_buffer, kwds)\u001b[0m\n\u001b[1;32m    455\u001b[0m \u001b[0;34m\u001b[0m\u001b[0m\n\u001b[1;32m    456\u001b[0m     \u001b[0;31m# Create the parser.\u001b[0m\u001b[0;34m\u001b[0m\u001b[0;34m\u001b[0m\u001b[0;34m\u001b[0m\u001b[0m\n\u001b[0;32m--> 457\u001b[0;31m     \u001b[0mparser\u001b[0m \u001b[0;34m=\u001b[0m \u001b[0mTextFileReader\u001b[0m\u001b[0;34m(\u001b[0m\u001b[0mfp_or_buf\u001b[0m\u001b[0;34m,\u001b[0m \u001b[0;34m**\u001b[0m\u001b[0mkwds\u001b[0m\u001b[0;34m)\u001b[0m\u001b[0;34m\u001b[0m\u001b[0;34m\u001b[0m\u001b[0m\n\u001b[0m\u001b[1;32m    458\u001b[0m \u001b[0;34m\u001b[0m\u001b[0m\n\u001b[1;32m    459\u001b[0m     \u001b[0;32mif\u001b[0m \u001b[0mchunksize\u001b[0m \u001b[0;32mor\u001b[0m \u001b[0miterator\u001b[0m\u001b[0;34m:\u001b[0m\u001b[0;34m\u001b[0m\u001b[0;34m\u001b[0m\u001b[0m\n",
      "\u001b[0;32m~/anaconda3/lib/python3.6/site-packages/pandas/io/parsers.py\u001b[0m in \u001b[0;36m__init__\u001b[0;34m(self, f, engine, **kwds)\u001b[0m\n\u001b[1;32m    893\u001b[0m             \u001b[0mself\u001b[0m\u001b[0;34m.\u001b[0m\u001b[0moptions\u001b[0m\u001b[0;34m[\u001b[0m\u001b[0;34m\"has_index_names\"\u001b[0m\u001b[0;34m]\u001b[0m \u001b[0;34m=\u001b[0m \u001b[0mkwds\u001b[0m\u001b[0;34m[\u001b[0m\u001b[0;34m\"has_index_names\"\u001b[0m\u001b[0;34m]\u001b[0m\u001b[0;34m\u001b[0m\u001b[0;34m\u001b[0m\u001b[0m\n\u001b[1;32m    894\u001b[0m \u001b[0;34m\u001b[0m\u001b[0m\n\u001b[0;32m--> 895\u001b[0;31m         \u001b[0mself\u001b[0m\u001b[0;34m.\u001b[0m\u001b[0m_make_engine\u001b[0m\u001b[0;34m(\u001b[0m\u001b[0mself\u001b[0m\u001b[0;34m.\u001b[0m\u001b[0mengine\u001b[0m\u001b[0;34m)\u001b[0m\u001b[0;34m\u001b[0m\u001b[0;34m\u001b[0m\u001b[0m\n\u001b[0m\u001b[1;32m    896\u001b[0m \u001b[0;34m\u001b[0m\u001b[0m\n\u001b[1;32m    897\u001b[0m     \u001b[0;32mdef\u001b[0m \u001b[0mclose\u001b[0m\u001b[0;34m(\u001b[0m\u001b[0mself\u001b[0m\u001b[0;34m)\u001b[0m\u001b[0;34m:\u001b[0m\u001b[0;34m\u001b[0m\u001b[0;34m\u001b[0m\u001b[0m\n",
      "\u001b[0;32m~/anaconda3/lib/python3.6/site-packages/pandas/io/parsers.py\u001b[0m in \u001b[0;36m_make_engine\u001b[0;34m(self, engine)\u001b[0m\n\u001b[1;32m   1133\u001b[0m     \u001b[0;32mdef\u001b[0m \u001b[0m_make_engine\u001b[0m\u001b[0;34m(\u001b[0m\u001b[0mself\u001b[0m\u001b[0;34m,\u001b[0m \u001b[0mengine\u001b[0m\u001b[0;34m=\u001b[0m\u001b[0;34m\"c\"\u001b[0m\u001b[0;34m)\u001b[0m\u001b[0;34m:\u001b[0m\u001b[0;34m\u001b[0m\u001b[0;34m\u001b[0m\u001b[0m\n\u001b[1;32m   1134\u001b[0m         \u001b[0;32mif\u001b[0m \u001b[0mengine\u001b[0m \u001b[0;34m==\u001b[0m \u001b[0;34m\"c\"\u001b[0m\u001b[0;34m:\u001b[0m\u001b[0;34m\u001b[0m\u001b[0;34m\u001b[0m\u001b[0m\n\u001b[0;32m-> 1135\u001b[0;31m             \u001b[0mself\u001b[0m\u001b[0;34m.\u001b[0m\u001b[0m_engine\u001b[0m \u001b[0;34m=\u001b[0m \u001b[0mCParserWrapper\u001b[0m\u001b[0;34m(\u001b[0m\u001b[0mself\u001b[0m\u001b[0;34m.\u001b[0m\u001b[0mf\u001b[0m\u001b[0;34m,\u001b[0m \u001b[0;34m**\u001b[0m\u001b[0mself\u001b[0m\u001b[0;34m.\u001b[0m\u001b[0moptions\u001b[0m\u001b[0;34m)\u001b[0m\u001b[0;34m\u001b[0m\u001b[0;34m\u001b[0m\u001b[0m\n\u001b[0m\u001b[1;32m   1136\u001b[0m         \u001b[0;32melse\u001b[0m\u001b[0;34m:\u001b[0m\u001b[0;34m\u001b[0m\u001b[0;34m\u001b[0m\u001b[0m\n\u001b[1;32m   1137\u001b[0m             \u001b[0;32mif\u001b[0m \u001b[0mengine\u001b[0m \u001b[0;34m==\u001b[0m \u001b[0;34m\"python\"\u001b[0m\u001b[0;34m:\u001b[0m\u001b[0;34m\u001b[0m\u001b[0;34m\u001b[0m\u001b[0m\n",
      "\u001b[0;32m~/anaconda3/lib/python3.6/site-packages/pandas/io/parsers.py\u001b[0m in \u001b[0;36m__init__\u001b[0;34m(self, src, **kwds)\u001b[0m\n\u001b[1;32m   1915\u001b[0m         \u001b[0mkwds\u001b[0m\u001b[0;34m[\u001b[0m\u001b[0;34m\"usecols\"\u001b[0m\u001b[0;34m]\u001b[0m \u001b[0;34m=\u001b[0m \u001b[0mself\u001b[0m\u001b[0;34m.\u001b[0m\u001b[0musecols\u001b[0m\u001b[0;34m\u001b[0m\u001b[0;34m\u001b[0m\u001b[0m\n\u001b[1;32m   1916\u001b[0m \u001b[0;34m\u001b[0m\u001b[0m\n\u001b[0;32m-> 1917\u001b[0;31m         \u001b[0mself\u001b[0m\u001b[0;34m.\u001b[0m\u001b[0m_reader\u001b[0m \u001b[0;34m=\u001b[0m \u001b[0mparsers\u001b[0m\u001b[0;34m.\u001b[0m\u001b[0mTextReader\u001b[0m\u001b[0;34m(\u001b[0m\u001b[0msrc\u001b[0m\u001b[0;34m,\u001b[0m \u001b[0;34m**\u001b[0m\u001b[0mkwds\u001b[0m\u001b[0;34m)\u001b[0m\u001b[0;34m\u001b[0m\u001b[0;34m\u001b[0m\u001b[0m\n\u001b[0m\u001b[1;32m   1918\u001b[0m         \u001b[0mself\u001b[0m\u001b[0;34m.\u001b[0m\u001b[0munnamed_cols\u001b[0m \u001b[0;34m=\u001b[0m \u001b[0mself\u001b[0m\u001b[0;34m.\u001b[0m\u001b[0m_reader\u001b[0m\u001b[0;34m.\u001b[0m\u001b[0munnamed_cols\u001b[0m\u001b[0;34m\u001b[0m\u001b[0;34m\u001b[0m\u001b[0m\n\u001b[1;32m   1919\u001b[0m \u001b[0;34m\u001b[0m\u001b[0m\n",
      "\u001b[0;32mpandas/_libs/parsers.pyx\u001b[0m in \u001b[0;36mpandas._libs.parsers.TextReader.__cinit__\u001b[0;34m()\u001b[0m\n",
      "\u001b[0;32mpandas/_libs/parsers.pyx\u001b[0m in \u001b[0;36mpandas._libs.parsers.TextReader._setup_parser_source\u001b[0;34m()\u001b[0m\n",
      "\u001b[0;31mFileNotFoundError\u001b[0m: [Errno 2] File b'/Users/Akshay/Dropbox/Life/EndyLab/Research/TranslationDynamics/data/190515_1927/outputReactionsList.txt' does not exist: b'/Users/Akshay/Dropbox/Life/EndyLab/Research/TranslationDynamics/data/190515_1927/outputReactionsList.txt'"
     ]
    }
   ],
   "source": [
    "from analysis_utils import *\n",
    "import matplotlib.pyplot as plt\n",
    "import matplotlib.patches as mpatches\n",
    "import matplotlib as mpl\n",
    "import numpy as np\n",
    "%matplotlib inline\n",
    "%load_ext autoreload\n",
    "%autoreload\n",
    "\n",
    "path = \"/Users/Akshay/Documents/TranslationDynamics/data/\"\n",
    "data = \"190515_1927/\"\n",
    "collisions = []\n",
    "for i in range(1,13):\n",
    "    sim_i = countIncorrectRepeatCollisions(path+data, 100*(i-1),100*i)\n",
    "    collisions.append(sim_i)\n",
    "    print(sim_i)"
   ]
  },
  {
   "cell_type": "code",
   "execution_count": null,
   "metadata": {
    "collapsed": false
   },
   "outputs": [],
   "source": []
  },
  {
   "cell_type": "code",
   "execution_count": null,
   "metadata": {
    "collapsed": true
   },
   "outputs": [],
   "source": []
  },
  {
   "cell_type": "code",
   "execution_count": 2,
   "metadata": {
    "collapsed": false
   },
   "outputs": [
    {
     "name": "stdout",
     "output_type": "stream",
     "text": [
      "test\n",
      "              time  reactantA  reactantB\n",
      "1     2.200000e-09          1         40\n",
      "4     3.000000e-09          1         44\n",
      "11    5.700000e-09          1         19\n",
      "26    1.310000e-08          1         19\n",
      "30    1.410000e-08          1         19\n",
      "34    1.510000e-08          1         19\n",
      "36    1.530000e-08          1         19\n",
      "48    1.840000e-08          1         44\n",
      "50    1.940000e-08          1         44\n",
      "51    2.140000e-08          1         19\n",
      "52    2.160000e-08          1         19\n",
      "54    2.210000e-08          1         19\n",
      "62    2.570000e-08          1         19\n",
      "68    2.610000e-08          1         19\n",
      "73    2.690000e-08          1         19\n",
      "84    2.790000e-08          1         19\n",
      "88    2.880000e-08          1         44\n",
      "90    2.900000e-08          1         19\n",
      "92    2.930000e-08          1         44\n",
      "96    3.060000e-08          1         19\n",
      "98    3.070000e-08          1         44\n",
      "99    3.090000e-08          1         19\n",
      "101   3.110000e-08          1         19\n",
      "103   3.130000e-08          1         44\n",
      "104   3.140000e-08          1         44\n",
      "116   3.350000e-08          1         44\n",
      "117   3.370000e-08          1         44\n",
      "120   3.420000e-08          1         44\n",
      "126   3.460000e-08          1         19\n",
      "133   3.520000e-08          1         19\n",
      "...            ...        ...        ...\n",
      "1156  2.087000e-07       1140         41\n",
      "1157  2.091000e-07       1140         11\n",
      "1158  2.093000e-07       1140         41\n",
      "1164  2.108000e-07       1140         11\n",
      "1170  2.121000e-07       1140         41\n",
      "1188  2.166000e-07       1140         41\n",
      "1191  2.170000e-07       1140         41\n",
      "1198  2.189000e-07       1140         17\n",
      "1200  2.191000e-07       1140         17\n",
      "1205  2.203000e-07       1140         41\n",
      "1207  2.205000e-07       1140         41\n",
      "1212  2.211000e-07       1140         17\n",
      "1216  2.218000e-07       1140         41\n",
      "1221  2.231000e-07       1140         17\n",
      "1222  2.237000e-07       1140         17\n",
      "1228  2.248000e-07       1140         17\n",
      "1260  2.363000e-07       1140         41\n",
      "1263  2.378000e-07       1140         41\n",
      "1264  2.380000e-07       1140         41\n",
      "1269  2.401000e-07       1140         41\n",
      "1270  2.402000e-07       1140         41\n",
      "1301  2.520000e-07       1140         17\n",
      "1352  2.663000e-07       1140         17\n",
      "1371  2.702000e-07       1140         11\n",
      "1374  2.721000e-07       1140         11\n",
      "1378  2.744000e-07       1140         11\n",
      "1389  2.778000e-07       1140         41\n",
      "1421  2.869000e-07       1140         17\n",
      "1430  2.918000e-07       1140         17\n",
      "1444  2.975000e-07       1140         11\n",
      "\n",
      "[1450 rows x 3 columns]\n"
     ]
    }
   ],
   "source": [
    "expt_start=1000\n",
    "expt_end=1001\n",
    "df_outputs = pd.read_csv(path+data+\"outputReactionsList.txt\",sep=\" \",header=None) #Add batch processing here potentially\n",
    "rxn14_tot = list()\n",
    "print(\"test\")\n",
    "for expt_num, row in df_outputs.iterrows():\n",
    "    rxn14_count = 0\n",
    "    if(expt_num>=expt_start and expt_num<expt_end):\n",
    "        try:\n",
    "            my_cols=[\"time\",\"rxn\",\"x\",\"y\",\"z\",\"reactantA\",\"reactantB\",\"productA\",\"productB\"]\n",
    "            \n",
    "            df = pd.read_csv(path+data+row[0],delimiter=\" \",header=None, names=my_cols)\n",
    "            df=df[['time','reactantA','reactantB']]\n",
    "            df=df.sort_values(['reactantA', 'time'])\n",
    "            print(df)\n",
    "            reactantA = '-1'\n",
    "            reactantB = '-1'\n",
    "            repeat=0\n",
    "            for _, row in df.iterrows():\n",
    "                if(row[\"reactantA\"]==reactantA and row[\"reactantB\"]==reactantB):\n",
    "                    repeat+=1\n",
    "                else:\n",
    "                    rxn14_tot.append(repeat)\n",
    "                    repeat=0\n",
    "                    reactantA = row[\"reactantA\"]\n",
    "                    reactantB= row[\"reactantB\"]\n",
    "        except:\n",
    "            print(\"missing expt\")\n",
    "            print(expt_num)"
   ]
  },
  {
   "cell_type": "code",
   "execution_count": 3,
   "metadata": {
    "collapsed": false
   },
   "outputs": [
    {
     "name": "stdout",
     "output_type": "stream",
     "text": [
      "The autoreload extension is already loaded. To reload it, use:\n",
      "  %reload_ext autoreload\n",
      "test\n",
      "(10.622208811104406, 18.24991634004603)\n",
      "test\n",
      "(7.876129339039467, 14.301675192469538)\n",
      "test\n",
      "(6.9874145431945305, 13.941249923777564)\n",
      "test\n",
      "(5.317821485195184, 10.97233588910208)\n",
      "test\n",
      "(3.9675166093327383, 8.212125595879135)\n",
      "test\n",
      "(3.078997253278657, 6.979420979697253)\n",
      "test\n",
      "(7.097882083571838, 13.738215268575388)\n",
      "test\n",
      "(3.5667231775248243, 7.9544121862961505)\n",
      "test\n",
      "(3.283757170990667, 8.113395062780974)\n",
      "test\n",
      "(2.4330872173511766, 6.125619211762253)\n",
      "test\n",
      "(1.912853941739662, 4.914376225766993)\n",
      "test\n",
      "(1.3209466638334042, 3.108700592823437)\n",
      "test\n",
      "(10.622208811104406, 18.24991634004603)\n",
      "test\n",
      "(7.801724137931035, 13.755461281981303)\n",
      "test\n",
      "(6.917514124293786, 13.778322114784684)\n",
      "test\n",
      "(5.149203852958522, 11.062431214119833)\n",
      "test\n",
      "(3.9731429180432696, 8.295352780881739)\n",
      "test\n",
      "(3.0909657968603805, 7.457272719159218)\n",
      "test\n",
      "(7.097882083571838, 13.738215268575388)\n",
      "test\n",
      "(3.4861146496815287, 7.596453970737309)\n",
      "test\n",
      "(3.0786217399581193, 7.889520422673997)\n",
      "test\n",
      "(2.269443775583915, 5.6472792708350426)\n",
      "test\n",
      "(1.907960600678185, 4.914373175471818)\n",
      "test\n",
      "(1.35910176779742, 3.2152808756139932)\n"
     ]
    }
   ],
   "source": [
    "from analysis_utils import *\n",
    "import matplotlib.pyplot as plt\n",
    "import matplotlib.patches as mpatches\n",
    "import matplotlib as mpl\n",
    "import numpy as np\n",
    "%matplotlib inline\n",
    "%load_ext autoreload\n",
    "%autoreload\n",
    "\n",
    "path = \"/Users/Akshay/Documents/TranslationDynamics/data/\"\n",
    "data = \"190516_0358/\"\n",
    "collisions = []\n",
    "for i in range(1,13):\n",
    "    sim_i = countIncorrectRepeatCollisions(path+data, 100*(i-1),100*i,ts_equillibrate=1e-7)\n",
    "    collisions.append(sim_i[0])\n",
    "    print(sim_i)\n",
    "for i in range(1,13):\n",
    "    sim_i = countIncorrectRepeatCollisions(path+data, 100*(i-1),100*i,equalRibosomes=True,ts_equillibrate=1e-7)\n",
    "    collisions.append(sim_i[0])\n",
    "    print(sim_i)\n"
   ]
  },
  {
   "cell_type": "code",
   "execution_count": 5,
   "metadata": {
    "collapsed": false
   },
   "outputs": [
    {
     "ename": "SyntaxError",
     "evalue": "invalid syntax (<ipython-input-5-8a20060485a2>, line 16)",
     "output_type": "error",
     "traceback": [
      "\u001b[0;36m  File \u001b[0;32m\"<ipython-input-5-8a20060485a2>\"\u001b[0;36m, line \u001b[0;32m16\u001b[0m\n\u001b[0;31m    ax.set_xlabel('$\\phi_{tot}$',size=55color='black')\u001b[0m\n\u001b[0m                                            ^\u001b[0m\n\u001b[0;31mSyntaxError\u001b[0m\u001b[0;31m:\u001b[0m invalid syntax\n"
     ]
    }
   ],
   "source": [
    "phi_tot = np.array([0.13172292, 0.22350473, 0.30181037, 0.35583449, 0.3945994 ,\n",
    "       0.42317604])\n",
    "phi_crowder = np.array([0.06434998409146828, 0.08752983986220698, 0.10039264723107891, 0.10253311875190417, 0.09787505368673736, 0.08864402690993489])\n",
    "dbl = [0.6,1.0,1.5,2.0,2.5,3.0]\n",
    "\n",
    "fig,ax = plt.subplots(1,1,figsize=(10,10))\n",
    "ax.plot(phi_tot-phi_crowder,collisions[0:6],label='No crowders, all ribosomes',linewidth=4)\n",
    "ax.plot(phi_tot-phi_crowder,collisions[6:12],label='Crowders, all ribosomes',linewidth=4)\n",
    "ax.plot(phi_tot,collisions[12:18],label='No crowders, equal active ribosomes',linewidth=4)\n",
    "ax.plot(phi_tot,collisions[18:24],label='Crowders, equal active ribosomes',linewidth=4)\n",
    "ax.legend(prop={'size': 6})\n",
    "ax.spines['left'].set_linewidth(4)\n",
    "ax.spines['bottom'].set_linewidth(4)\n",
    "ax.spines['top'].set_linewidth(4)\n",
    "ax.spines['right'].set_linewidth(4)\n",
    "ax.set_xlabel('$\\phi_{tot}$',size=55color='black')\n",
    "ax.set_ylabel(\"Average # of repeat collisions\",fontsize=40)\n",
    "ax.tick_params(axis='both', which='major', labelsize=25)\n",
    "\n",
    "collisions[6:12]\n"
   ]
  },
  {
   "cell_type": "code",
   "execution_count": 6,
   "metadata": {
    "collapsed": false
   },
   "outputs": [
    {
     "ename": "SyntaxError",
     "evalue": "invalid syntax (<ipython-input-6-ae9596327810>, line 10)",
     "output_type": "error",
     "traceback": [
      "\u001b[0;36m  File \u001b[0;32m\"<ipython-input-6-ae9596327810>\"\u001b[0;36m, line \u001b[0;32m10\u001b[0m\n\u001b[0;31m    ax.plot(dbl,collisions[12:18],label='No crowders, equal active ribosomes',linewidth=4,linestyle='--'))\u001b[0m\n\u001b[0m                                                                                                         ^\u001b[0m\n\u001b[0;31mSyntaxError\u001b[0m\u001b[0;31m:\u001b[0m invalid syntax\n"
     ]
    }
   ],
   "source": [
    "phi_tot = np.array([0.13172292, 0.22350473, 0.30181037, 0.35583449, 0.3945994 ,\n",
    "       0.42317604])\n",
    "phi_crowder = np.array([0.06434998409146828, 0.08752983986220698, 0.10039264723107891, 0.10253311875190417, 0.09787505368673736, 0.08864402690993489])\n",
    "dbl = [0.6,1.0,1.5,2.0,2.5,3.0]\n",
    "\n",
    "fig,ax = plt.subplots(1,1,figsize=(10,10))\n",
    "ax.plot(dbl,collisions[6:12],label='Crowders, all ribosomes',linewidth=4)\n",
    "ax.plot(dbl,collisions[0:6],label='No crowders, all ribosomes',linewidth=4, linestyle='--')\n",
    "ax.plot(dbl,collisions[18:24],label='Crowders, equal active ribosomes',linewidth=4)\n",
    "ax.plot(dbl,collisions[12:18],label='No crowders, equal active ribosomes',linewidth=4,linestyle='--'))\n",
    "ax.legend()\n",
    "ax.spines['left'].set_linewidth(4)\n",
    "ax.spines['bottom'].set_linewidth(4)\n",
    "ax.spines['top'].set_linewidth(4)\n",
    "ax.spines['right'].set_linewidth(4)\n",
    "ax.set_xlabel('Doubling rate',size=45,color='black')\n",
    "ax.set_ylabel(\"Average # of repeat collisions\",fontsize=25)\n",
    "ax.tick_params(axis='both', which='major', labelsize=15)\n"
   ]
  },
  {
   "cell_type": "code",
   "execution_count": null,
   "metadata": {
    "collapsed": false
   },
   "outputs": [],
   "source": [
    "\n"
   ]
  },
  {
   "cell_type": "code",
   "execution_count": 2,
   "metadata": {
    "collapsed": false
   },
   "outputs": [
    {
     "name": "stdout",
     "output_type": "stream",
     "text": [
      "The autoreload extension is already loaded. To reload it, use:\n",
      "  %reload_ext autoreload\n"
     ]
    },
    {
     "ename": "FileNotFoundError",
     "evalue": "[Errno 2] File b'/Users/Akshay/Dropbox/Life/EndyLab/Research/TranslationDynamics/data/190529_1527/outputReactionsList.txt' does not exist: b'/Users/Akshay/Dropbox/Life/EndyLab/Research/TranslationDynamics/data/190529_1527/outputReactionsList.txt'",
     "output_type": "error",
     "traceback": [
      "\u001b[0;31m---------------------------------------------------------------------------\u001b[0m",
      "\u001b[0;31mFileNotFoundError\u001b[0m                         Traceback (most recent call last)",
      "\u001b[0;32m<ipython-input-2-6bfa7aa19659>\u001b[0m in \u001b[0;36m<module>\u001b[0;34m\u001b[0m\n\u001b[1;32m     15\u001b[0m \u001b[0mcollisions\u001b[0m \u001b[0;34m=\u001b[0m \u001b[0;34m[\u001b[0m\u001b[0;34m]\u001b[0m\u001b[0;34m\u001b[0m\u001b[0;34m\u001b[0m\u001b[0m\n\u001b[1;32m     16\u001b[0m \u001b[0;32mfor\u001b[0m \u001b[0mi\u001b[0m \u001b[0;32min\u001b[0m \u001b[0mrange\u001b[0m\u001b[0;34m(\u001b[0m\u001b[0;36m1\u001b[0m\u001b[0;34m,\u001b[0m\u001b[0;36m13\u001b[0m\u001b[0;34m)\u001b[0m\u001b[0;34m:\u001b[0m\u001b[0;34m\u001b[0m\u001b[0;34m\u001b[0m\u001b[0m\n\u001b[0;32m---> 17\u001b[0;31m     \u001b[0msim_i\u001b[0m \u001b[0;34m=\u001b[0m \u001b[0mcountIncorrectRepeatCollisions\u001b[0m\u001b[0;34m(\u001b[0m\u001b[0mpath\u001b[0m\u001b[0;34m+\u001b[0m\u001b[0mdata\u001b[0m\u001b[0;34m,\u001b[0m \u001b[0;36m100\u001b[0m\u001b[0;34m*\u001b[0m\u001b[0;34m(\u001b[0m\u001b[0mi\u001b[0m\u001b[0;34m-\u001b[0m\u001b[0;36m1\u001b[0m\u001b[0;34m)\u001b[0m\u001b[0;34m,\u001b[0m\u001b[0;36m100\u001b[0m\u001b[0;34m*\u001b[0m\u001b[0mi\u001b[0m\u001b[0;34m,\u001b[0m\u001b[0mts_equillibrate\u001b[0m\u001b[0;34m=\u001b[0m\u001b[0;36m1e-7\u001b[0m\u001b[0;34m)\u001b[0m\u001b[0;34m\u001b[0m\u001b[0;34m\u001b[0m\u001b[0m\n\u001b[0m\u001b[1;32m     18\u001b[0m     \u001b[0mcollisions\u001b[0m\u001b[0;34m.\u001b[0m\u001b[0mappend\u001b[0m\u001b[0;34m(\u001b[0m\u001b[0msim_i\u001b[0m\u001b[0;34m[\u001b[0m\u001b[0;36m0\u001b[0m\u001b[0;34m]\u001b[0m\u001b[0;34m)\u001b[0m\u001b[0;34m\u001b[0m\u001b[0;34m\u001b[0m\u001b[0m\n\u001b[1;32m     19\u001b[0m     \u001b[0mprint\u001b[0m\u001b[0;34m(\u001b[0m\u001b[0msim_i\u001b[0m\u001b[0;34m)\u001b[0m\u001b[0;34m\u001b[0m\u001b[0;34m\u001b[0m\u001b[0m\n",
      "\u001b[0;32m~/Documents/TranslationDynamics/src/analysis_utils.py\u001b[0m in \u001b[0;36mcountIncorrectRepeatCollisions\u001b[0;34m(path, expt_start, expt_end, equalRibosomes, ts_equillibrate, avg, scaling)\u001b[0m\n\u001b[1;32m    398\u001b[0m \u001b[0;34m\u001b[0m\u001b[0m\n\u001b[1;32m    399\u001b[0m \u001b[0;32mdef\u001b[0m \u001b[0mcountIncorrectRepeatCollisions\u001b[0m\u001b[0;34m(\u001b[0m\u001b[0mpath\u001b[0m\u001b[0;34m,\u001b[0m\u001b[0mexpt_start\u001b[0m\u001b[0;34m,\u001b[0m\u001b[0mexpt_end\u001b[0m\u001b[0;34m,\u001b[0m\u001b[0mequalRibosomes\u001b[0m\u001b[0;34m=\u001b[0m\u001b[0;32mFalse\u001b[0m\u001b[0;34m,\u001b[0m\u001b[0mts_equillibrate\u001b[0m\u001b[0;34m=\u001b[0m\u001b[0;36m0\u001b[0m\u001b[0;34m,\u001b[0m \u001b[0mavg\u001b[0m\u001b[0;34m=\u001b[0m\u001b[0;32mFalse\u001b[0m\u001b[0;34m,\u001b[0m\u001b[0mscaling\u001b[0m\u001b[0;34m=\u001b[0m\u001b[0;36m1\u001b[0m\u001b[0;34m)\u001b[0m\u001b[0;34m:\u001b[0m\u001b[0;34m\u001b[0m\u001b[0;34m\u001b[0m\u001b[0m\n\u001b[0;32m--> 400\u001b[0;31m     \u001b[0mdf_outputs\u001b[0m \u001b[0;34m=\u001b[0m \u001b[0mpd\u001b[0m\u001b[0;34m.\u001b[0m\u001b[0mread_csv\u001b[0m\u001b[0;34m(\u001b[0m\u001b[0mpath\u001b[0m\u001b[0;34m+\u001b[0m\u001b[0;34m\"outputReactionsList.txt\"\u001b[0m\u001b[0;34m,\u001b[0m\u001b[0msep\u001b[0m\u001b[0;34m=\u001b[0m\u001b[0;34m\" \"\u001b[0m\u001b[0;34m,\u001b[0m\u001b[0mheader\u001b[0m\u001b[0;34m=\u001b[0m\u001b[0;32mNone\u001b[0m\u001b[0;34m)\u001b[0m \u001b[0;31m#Add batch processing here potentially\u001b[0m\u001b[0;34m\u001b[0m\u001b[0;34m\u001b[0m\u001b[0m\n\u001b[0m\u001b[1;32m    401\u001b[0m \u001b[0;34m\u001b[0m\u001b[0m\n\u001b[1;32m    402\u001b[0m     \u001b[0mrxn14_tot\u001b[0m \u001b[0;34m=\u001b[0m \u001b[0mlist\u001b[0m\u001b[0;34m(\u001b[0m\u001b[0;34m)\u001b[0m\u001b[0;34m\u001b[0m\u001b[0;34m\u001b[0m\u001b[0m\n",
      "\u001b[0;32m~/anaconda3/lib/python3.6/site-packages/pandas/io/parsers.py\u001b[0m in \u001b[0;36mparser_f\u001b[0;34m(filepath_or_buffer, sep, delimiter, header, names, index_col, usecols, squeeze, prefix, mangle_dupe_cols, dtype, engine, converters, true_values, false_values, skipinitialspace, skiprows, skipfooter, nrows, na_values, keep_default_na, na_filter, verbose, skip_blank_lines, parse_dates, infer_datetime_format, keep_date_col, date_parser, dayfirst, cache_dates, iterator, chunksize, compression, thousands, decimal, lineterminator, quotechar, quoting, doublequote, escapechar, comment, encoding, dialect, error_bad_lines, warn_bad_lines, delim_whitespace, low_memory, memory_map, float_precision)\u001b[0m\n\u001b[1;32m    683\u001b[0m         )\n\u001b[1;32m    684\u001b[0m \u001b[0;34m\u001b[0m\u001b[0m\n\u001b[0;32m--> 685\u001b[0;31m         \u001b[0;32mreturn\u001b[0m \u001b[0m_read\u001b[0m\u001b[0;34m(\u001b[0m\u001b[0mfilepath_or_buffer\u001b[0m\u001b[0;34m,\u001b[0m \u001b[0mkwds\u001b[0m\u001b[0;34m)\u001b[0m\u001b[0;34m\u001b[0m\u001b[0;34m\u001b[0m\u001b[0m\n\u001b[0m\u001b[1;32m    686\u001b[0m \u001b[0;34m\u001b[0m\u001b[0m\n\u001b[1;32m    687\u001b[0m     \u001b[0mparser_f\u001b[0m\u001b[0;34m.\u001b[0m\u001b[0m__name__\u001b[0m \u001b[0;34m=\u001b[0m \u001b[0mname\u001b[0m\u001b[0;34m\u001b[0m\u001b[0;34m\u001b[0m\u001b[0m\n",
      "\u001b[0;32m~/anaconda3/lib/python3.6/site-packages/pandas/io/parsers.py\u001b[0m in \u001b[0;36m_read\u001b[0;34m(filepath_or_buffer, kwds)\u001b[0m\n\u001b[1;32m    455\u001b[0m \u001b[0;34m\u001b[0m\u001b[0m\n\u001b[1;32m    456\u001b[0m     \u001b[0;31m# Create the parser.\u001b[0m\u001b[0;34m\u001b[0m\u001b[0;34m\u001b[0m\u001b[0;34m\u001b[0m\u001b[0m\n\u001b[0;32m--> 457\u001b[0;31m     \u001b[0mparser\u001b[0m \u001b[0;34m=\u001b[0m \u001b[0mTextFileReader\u001b[0m\u001b[0;34m(\u001b[0m\u001b[0mfp_or_buf\u001b[0m\u001b[0;34m,\u001b[0m \u001b[0;34m**\u001b[0m\u001b[0mkwds\u001b[0m\u001b[0;34m)\u001b[0m\u001b[0;34m\u001b[0m\u001b[0;34m\u001b[0m\u001b[0m\n\u001b[0m\u001b[1;32m    458\u001b[0m \u001b[0;34m\u001b[0m\u001b[0m\n\u001b[1;32m    459\u001b[0m     \u001b[0;32mif\u001b[0m \u001b[0mchunksize\u001b[0m \u001b[0;32mor\u001b[0m \u001b[0miterator\u001b[0m\u001b[0;34m:\u001b[0m\u001b[0;34m\u001b[0m\u001b[0;34m\u001b[0m\u001b[0m\n",
      "\u001b[0;32m~/anaconda3/lib/python3.6/site-packages/pandas/io/parsers.py\u001b[0m in \u001b[0;36m__init__\u001b[0;34m(self, f, engine, **kwds)\u001b[0m\n\u001b[1;32m    893\u001b[0m             \u001b[0mself\u001b[0m\u001b[0;34m.\u001b[0m\u001b[0moptions\u001b[0m\u001b[0;34m[\u001b[0m\u001b[0;34m\"has_index_names\"\u001b[0m\u001b[0;34m]\u001b[0m \u001b[0;34m=\u001b[0m \u001b[0mkwds\u001b[0m\u001b[0;34m[\u001b[0m\u001b[0;34m\"has_index_names\"\u001b[0m\u001b[0;34m]\u001b[0m\u001b[0;34m\u001b[0m\u001b[0;34m\u001b[0m\u001b[0m\n\u001b[1;32m    894\u001b[0m \u001b[0;34m\u001b[0m\u001b[0m\n\u001b[0;32m--> 895\u001b[0;31m         \u001b[0mself\u001b[0m\u001b[0;34m.\u001b[0m\u001b[0m_make_engine\u001b[0m\u001b[0;34m(\u001b[0m\u001b[0mself\u001b[0m\u001b[0;34m.\u001b[0m\u001b[0mengine\u001b[0m\u001b[0;34m)\u001b[0m\u001b[0;34m\u001b[0m\u001b[0;34m\u001b[0m\u001b[0m\n\u001b[0m\u001b[1;32m    896\u001b[0m \u001b[0;34m\u001b[0m\u001b[0m\n\u001b[1;32m    897\u001b[0m     \u001b[0;32mdef\u001b[0m \u001b[0mclose\u001b[0m\u001b[0;34m(\u001b[0m\u001b[0mself\u001b[0m\u001b[0;34m)\u001b[0m\u001b[0;34m:\u001b[0m\u001b[0;34m\u001b[0m\u001b[0;34m\u001b[0m\u001b[0m\n",
      "\u001b[0;32m~/anaconda3/lib/python3.6/site-packages/pandas/io/parsers.py\u001b[0m in \u001b[0;36m_make_engine\u001b[0;34m(self, engine)\u001b[0m\n\u001b[1;32m   1133\u001b[0m     \u001b[0;32mdef\u001b[0m \u001b[0m_make_engine\u001b[0m\u001b[0;34m(\u001b[0m\u001b[0mself\u001b[0m\u001b[0;34m,\u001b[0m \u001b[0mengine\u001b[0m\u001b[0;34m=\u001b[0m\u001b[0;34m\"c\"\u001b[0m\u001b[0;34m)\u001b[0m\u001b[0;34m:\u001b[0m\u001b[0;34m\u001b[0m\u001b[0;34m\u001b[0m\u001b[0m\n\u001b[1;32m   1134\u001b[0m         \u001b[0;32mif\u001b[0m \u001b[0mengine\u001b[0m \u001b[0;34m==\u001b[0m \u001b[0;34m\"c\"\u001b[0m\u001b[0;34m:\u001b[0m\u001b[0;34m\u001b[0m\u001b[0;34m\u001b[0m\u001b[0m\n\u001b[0;32m-> 1135\u001b[0;31m             \u001b[0mself\u001b[0m\u001b[0;34m.\u001b[0m\u001b[0m_engine\u001b[0m \u001b[0;34m=\u001b[0m \u001b[0mCParserWrapper\u001b[0m\u001b[0;34m(\u001b[0m\u001b[0mself\u001b[0m\u001b[0;34m.\u001b[0m\u001b[0mf\u001b[0m\u001b[0;34m,\u001b[0m \u001b[0;34m**\u001b[0m\u001b[0mself\u001b[0m\u001b[0;34m.\u001b[0m\u001b[0moptions\u001b[0m\u001b[0;34m)\u001b[0m\u001b[0;34m\u001b[0m\u001b[0;34m\u001b[0m\u001b[0m\n\u001b[0m\u001b[1;32m   1136\u001b[0m         \u001b[0;32melse\u001b[0m\u001b[0;34m:\u001b[0m\u001b[0;34m\u001b[0m\u001b[0;34m\u001b[0m\u001b[0m\n\u001b[1;32m   1137\u001b[0m             \u001b[0;32mif\u001b[0m \u001b[0mengine\u001b[0m \u001b[0;34m==\u001b[0m \u001b[0;34m\"python\"\u001b[0m\u001b[0;34m:\u001b[0m\u001b[0;34m\u001b[0m\u001b[0;34m\u001b[0m\u001b[0m\n",
      "\u001b[0;32m~/anaconda3/lib/python3.6/site-packages/pandas/io/parsers.py\u001b[0m in \u001b[0;36m__init__\u001b[0;34m(self, src, **kwds)\u001b[0m\n\u001b[1;32m   1915\u001b[0m         \u001b[0mkwds\u001b[0m\u001b[0;34m[\u001b[0m\u001b[0;34m\"usecols\"\u001b[0m\u001b[0;34m]\u001b[0m \u001b[0;34m=\u001b[0m \u001b[0mself\u001b[0m\u001b[0;34m.\u001b[0m\u001b[0musecols\u001b[0m\u001b[0;34m\u001b[0m\u001b[0;34m\u001b[0m\u001b[0m\n\u001b[1;32m   1916\u001b[0m \u001b[0;34m\u001b[0m\u001b[0m\n\u001b[0;32m-> 1917\u001b[0;31m         \u001b[0mself\u001b[0m\u001b[0;34m.\u001b[0m\u001b[0m_reader\u001b[0m \u001b[0;34m=\u001b[0m \u001b[0mparsers\u001b[0m\u001b[0;34m.\u001b[0m\u001b[0mTextReader\u001b[0m\u001b[0;34m(\u001b[0m\u001b[0msrc\u001b[0m\u001b[0;34m,\u001b[0m \u001b[0;34m**\u001b[0m\u001b[0mkwds\u001b[0m\u001b[0;34m)\u001b[0m\u001b[0;34m\u001b[0m\u001b[0;34m\u001b[0m\u001b[0m\n\u001b[0m\u001b[1;32m   1918\u001b[0m         \u001b[0mself\u001b[0m\u001b[0;34m.\u001b[0m\u001b[0munnamed_cols\u001b[0m \u001b[0;34m=\u001b[0m \u001b[0mself\u001b[0m\u001b[0;34m.\u001b[0m\u001b[0m_reader\u001b[0m\u001b[0;34m.\u001b[0m\u001b[0munnamed_cols\u001b[0m\u001b[0;34m\u001b[0m\u001b[0;34m\u001b[0m\u001b[0m\n\u001b[1;32m   1919\u001b[0m \u001b[0;34m\u001b[0m\u001b[0m\n",
      "\u001b[0;32mpandas/_libs/parsers.pyx\u001b[0m in \u001b[0;36mpandas._libs.parsers.TextReader.__cinit__\u001b[0;34m()\u001b[0m\n",
      "\u001b[0;32mpandas/_libs/parsers.pyx\u001b[0m in \u001b[0;36mpandas._libs.parsers.TextReader._setup_parser_source\u001b[0;34m()\u001b[0m\n",
      "\u001b[0;31mFileNotFoundError\u001b[0m: [Errno 2] File b'/Users/Akshay/Dropbox/Life/EndyLab/Research/TranslationDynamics/data/190529_1527/outputReactionsList.txt' does not exist: b'/Users/Akshay/Dropbox/Life/EndyLab/Research/TranslationDynamics/data/190529_1527/outputReactionsList.txt'"
     ]
    }
   ],
   "source": [
    "from analysis_utils import *\n",
    "import matplotlib.pyplot as plt\n",
    "import matplotlib.patches as mpatches\n",
    "import matplotlib as mpl\n",
    "import numpy as np\n",
    "%matplotlib inline\n",
    "%load_ext autoreload\n",
    "%autoreload\n",
    "\n",
    "\n",
    "#####Extra 9 overlap resolving steps for every diffusion step#######\n",
    "### From ribosome view ###\n",
    "path = \"/Users/Akshay/Documents/TranslationDynamics/data/\"\n",
    "data = \"190529_1527/\"\n",
    "collisions = []\n",
    "for i in range(1,13):\n",
    "    sim_i = countIncorrectRepeatCollisions(path+data, 100*(i-1),100*i,ts_equillibrate=1e-7)\n",
    "    collisions.append(sim_i[0])\n",
    "    print(sim_i)\n",
    "for i in range(1,13):\n",
    "    sim_i = countIncorrectRepeatCollisions(path+data, 100*(i-1),100*i,equalRibosomes=True,ts_equillibrate=1e-7)\n",
    "    collisions.append(sim_i[0])\n",
    "    print(sim_i)\n",
    "    \n",
    "phi_tot = np.array([0.13172292, 0.22350473, 0.30181037, 0.35583449, 0.3945994 ,\n",
    "   0.42317604])\n",
    "phi_crowder = np.array([0.06434998409146828, 0.08752983986220698, 0.10039264723107891, 0.10253311875190417, 0.09787505368673736, 0.08864402690993489])\n",
    "dbl = [0.6,1.0,1.5,2.0,2.5,3.0]\n",
    "\n",
    "fig,ax = plt.subplots(1,1,figsize=(10,10))\n",
    "ax.plot(dbl,collisions[0:6],label='No crowders, all ribosomes',linewidth=4)\n",
    "ax.plot(dbl,collisions[6:12],label='Crowders, all ribosomes',linewidth=4)\n",
    "ax.plot(dbl,collisions[12:18],label='No crowders, equal active ribosomes',linewidth=4)\n",
    "ax.plot(dbl,collisions[18:24],label='Crowders, equal active ribosomes',linewidth=4)\n",
    "ax.legend()\n",
    "ax.spines['left'].set_linewidth(4)\n",
    "ax.spines['bottom'].set_linewidth(4)\n",
    "ax.spines['top'].set_linewidth(4)\n",
    "ax.spines['right'].set_linewidth(4)\n",
    "ax.set_xlabel('Doubling rate',size=45,color='black')\n",
    "ax.set_ylabel(\"Average # of repeat collisions\",fontsize=25)\n",
    "ax.tick_params(axis='both', which='major', labelsize=15)"
   ]
  },
  {
   "cell_type": "code",
   "execution_count": 8,
   "metadata": {
    "collapsed": false
   },
   "outputs": [
    {
     "name": "stdout",
     "output_type": "stream",
     "text": [
      "The autoreload extension is already loaded. To reload it, use:\n",
      "  %reload_ext autoreload\n",
      "test\n",
      "(1.7106969205834683, 2.859162926861741)\n",
      "test\n",
      "(1.5312438785504408, 2.678285979635353)\n",
      "test\n",
      "missing expt\n",
      "237\n",
      "(3.367508288701862, 47.091586847193675)\n",
      "test\n",
      "(2.3286872206651013, 27.65457117516052)\n",
      "test\n",
      "(3.379380826561643, 31.971364524435113)\n",
      "test\n",
      "(2.1683198076345054, 24.183981593343166)\n",
      "test\n",
      "(2.208855472013367, 3.746988334731698)\n",
      "test\n",
      "(1.7030102261270343, 3.655470806000324)\n",
      "test\n",
      "(1.55718820861678, 3.480274089793463)\n",
      "test\n",
      "(1.1507453190329031, 3.000068000325853)\n",
      "test\n",
      "(0.8553775743707094, 2.256371534224404)\n",
      "test\n",
      "(0.8172586242090223, 3.914923759555986)\n",
      "test\n",
      "(1.7106969205834683, 2.859162926861741)\n",
      "test\n",
      "(1.5515840779853778, 2.7463104872690742)\n",
      "test\n",
      "missing expt\n",
      "237\n",
      "(4.338483146067416, 45.119065727042454)\n",
      "test\n",
      "(2.9551848217206413, 33.33206831253776)\n",
      "test\n",
      "(3.338952071486596, 29.435151875275412)\n",
      "test\n",
      "(2.3551528878822197, 29.305932877760732)\n",
      "test\n",
      "(2.208855472013367, 3.746988334731698)\n",
      "test\n",
      "(1.6549672813801308, 3.6690808234157197)\n",
      "test\n",
      "(1.5389808362369337, 3.546819207041378)\n",
      "test\n",
      "(1.0723314606741574, 2.983953355885731)\n",
      "test\n",
      "(0.8532462777642177, 2.2745428358588096)\n",
      "test\n",
      "(0.8629740247986243, 4.026448250835614)\n"
     ]
    },
    {
     "data": {
      "image/png": "[encoded data removed]",
      "text/plain": [
       "<Figure size 720x720 with 1 Axes>"
      ]
     },
     "metadata": {
      "needs_background": "light"
     },
     "output_type": "display_data"
    }
   ],
   "source": [
    "from analysis_utils import *\n",
    "import matplotlib.pyplot as plt\n",
    "import matplotlib.patches as mpatches\n",
    "import matplotlib as mpl\n",
    "import numpy as np\n",
    "%matplotlib inline\n",
    "%load_ext autoreload\n",
    "%autoreload\n",
    "\n",
    "#####Extra 9 overlap resolving steps for every diffusion step#######\n",
    "####Particles are moved an extra 5 angstroms after every collision####\n",
    "### From ribosome view ###\n",
    "\n",
    "path = \"/Users/Akshay/Documents/TranslationDynamics/data/\"\n",
    "data = \"190530_0934/\"\n",
    "collisions = []\n",
    "for i in range(1,13):\n",
    "    sim_i = countIncorrectRepeatCollisions(path+data, 100*(i-1),100*i,ts_equillibrate=1e-7)\n",
    "    collisions.append(sim_i[0])\n",
    "    print(sim_i)\n",
    "for i in range(1,13):\n",
    "    sim_i = countIncorrectRepeatCollisions(path+data, 100*(i-1),100*i,equalRibosomes=True,ts_equillibrate=1e-7)\n",
    "    collisions.append(sim_i[0])\n",
    "    print(sim_i)\n",
    "\n",
    "phi_tot = np.array([0.13172292, 0.22350473, 0.30181037, 0.35583449, 0.3945994 ,\n",
    "   0.42317604])\n",
    "phi_crowder = np.array([0.06434998409146828, 0.08752983986220698, 0.10039264723107891, 0.10253311875190417, 0.09787505368673736, 0.08864402690993489])\n",
    "dbl = [0.6,1.0,1.5,2.0,2.5,3.0]\n",
    "\n",
    "fig,ax = plt.subplots(1,1,figsize=(10,10))\n",
    "ax.plot(dbl,collisions[0:6],label='No crowders, all ribosomes',linewidth=4)\n",
    "ax.plot(dbl,collisions[6:12],label='Crowders, all ribosomes',linewidth=4)\n",
    "ax.plot(dbl,collisions[12:18],label='No crowders, equal active ribosomes',linewidth=4)\n",
    "ax.plot(dbl,collisions[18:24],label='Crowders, equal active ribosomes',linewidth=4)\n",
    "ax.legend()\n",
    "ax.spines['left'].set_linewidth(4)\n",
    "ax.spines['bottom'].set_linewidth(4)\n",
    "ax.spines['top'].set_linewidth(4)\n",
    "ax.spines['right'].set_linewidth(4)\n",
    "ax.set_xlabel('Doubling rate',size=45,color='black')\n",
    "ax.set_ylabel(\"Average # of repeat collisions\",fontsize=25)\n",
    "ax.tick_params(axis='both', which='major', labelsize=15)"
   ]
  },
  {
   "cell_type": "code",
   "execution_count": null,
   "metadata": {
    "collapsed": false
   },
   "outputs": [],
   "source": []
  },
  {
   "cell_type": "code",
   "execution_count": null,
   "metadata": {
    "collapsed": false
   },
   "outputs": [],
   "source": []
  },
  {
   "cell_type": "code",
   "execution_count": null,
   "metadata": {
    "collapsed": false
   },
   "outputs": [],
   "source": []
  },
  {
   "cell_type": "code",
   "execution_count": 7,
   "metadata": {
    "collapsed": false
   },
   "outputs": [
    {
     "name": "stdout",
     "output_type": "stream",
     "text": [
      "test\n",
      "(0.0, 0.0)\n",
      "test\n",
      "(0.0, 0.0)\n",
      "test\n",
      "(0.0, 0.0)\n",
      "test\n",
      "(0.0, 0.0)\n",
      "test\n",
      "(0.0, 0.0)\n",
      "test\n",
      "(0.0, 0.0)\n",
      "test\n",
      "(0.0, 0.0)\n",
      "test\n",
      "(0.0, 0.0)\n",
      "test\n",
      "(0.0, 0.0)\n",
      "test\n",
      "(0.0, 0.0)\n",
      "test\n",
      "missing expt\n",
      "1093\n",
      "(0.0, 0.0)\n",
      "test\n",
      "missing expt\n",
      "1169\n",
      "missing expt\n",
      "1199\n",
      "(0.0, 0.0)\n"
     ]
    }
   ],
   "source": [
    "path = \"/Users/Akshay/Documents/TranslationDynamics/data/\"\n",
    "data = \"190814_0330/\"\n",
    "collisions = []\n",
    "for i in range(1,13):\n",
    "    sim_i = countIncorrectRepeatReactions(path+data,1,4,100*(i-1),100*i)\n",
    "    collisions.append(sim_i)\n",
    "    print(sim_i)"
   ]
  },
  {
   "cell_type": "code",
   "execution_count": 49,
   "metadata": {
    "collapsed": false
   },
   "outputs": [
    {
     "name": "stdout",
     "output_type": "stream",
     "text": [
      "The autoreload extension is already loaded. To reload it, use:\n",
      "  %reload_ext autoreload\n",
      "test\n",
      "[0, 1, 0, 1, 0, 0, 0, 0, 0, 0, 1, 3, 0, 2, 1, 0, 0, 0, 1, 0, 0, 0, 1, 2, 0, 0, 0, 0, 2, 3, 0, 0, 0, 2, 0, 1, 0, 1, 0, 0, 1, 0, 1, 0, 2, 2, 0, 0, 3, 0, 1, 0, 1, 3, 2, 1, 1, 0, 1, 0, 0, 0, 2, 2, 2, 0, 0, 1, 2, 1, 0, 2, 0, 1, 4, 2, 2, 0, 2, 0, 0, 0, 0, 1, 2, 1, 3, 1, 0, 1, 1, 0, 1, 0, 0, 0, 1, 3, 0, 0, 0, 1, 1, 0, 0, 1, 0, 2, 0, 0, 0, 5, 0, 0, 0, 0, 2, 0, 0, 0, 3, 1, 1, 0, 0, 0, 0, 3, 0, 1, 4, 1, 0, 0, 0, 3, 2, 0, 3, 0, 0, 0, 0, 0, 2, 0, 0, 0, 0, 0, 1, 1, 0, 0, 1, 4, 1, 1, 0, 0, 1, 1, 0, 1, 0, 3, 0, 1, 3, 2, 1, 1, 1, 0, 0, 7, 0, 0, 1, 2, 2, 0, 1, 2, 1, 0, 0, 0, 0, 0, 0, 1, 1, 4, 0, 0, 2, 2, 1, 0, 0, 0, 2, 2, 0, 1, 2, 1, 0, 1, 0, 1, 0, 0, 3, 0, 0, 1, 4, 2, 3, 1, 0, 2, 1, 0, 1, 0, 1, 0, 0, 0, 1, 0, 0, 0, 1, 1, 0, 0, 4, 1, 1, 0, 0, 0, 1, 1, 0, 1, 0, 0, 0, 0, 0, 0, 1, 0, 0, 0, 0, 0, 0, 3, 0, 0, 0, 0, 0, 6, 0, 1, 0, 2, 2, 0, 0, 2, 0, 3, 0, 0, 0, 0, 1, 0, 1, 1, 1, 1, 0, 0, 2, 0, 1, 3, 0, 1, 0, 0, 1, 0, 0, 0, 0, 0, 0, 1, 0, 0, 2, 0, 0, 0, 0, 2, 0, 0, 0, 0, 2, 1, 0, 0, 0, 1, 0, 2, 0, 4, 0, 0, 0, 0, 2, 0, 0, 0, 0, 1, 0, 1, 1, 0, 0, 0, 0, 1, 1, 4, 0, 0, 2, 0, 3, 0, 3, 2, 5, 0, 1, 0, 1, 0, 0, 1, 0, 0, 1, 0, 0, 6, 0, 0, 1, 0, 0, 1, 1, 0, 0, 1, 0, 0, 2, 0, 1, 1, 0, 0, 0, 0, 0, 0, 1, 1, 0, 0, 0, 0, 0, 0, 0, 1, 0, 0, 0, 1, 0, 0, 1, 1, 0, 0, 0, 0, 1, 1, 0, 2, 0, 0, 2, 5, 1, 0, 0, 1, 0, 0, 0, 2, 0, 0, 1, 1, 1, 0, 0, 1, 1, 0, 0, 1, 5, 0, 0, 1, 0, 1, 1, 0, 0, 1, 1, 2, 0, 2, 2, 2, 0, 5, 3, 0, 0, 1, 0, 2, 1, 1, 1, 0, 2, 1, 0, 0, 0, 0, 2, 1, 0, 0, 0, 1, 1, 0, 1, 4, 0, 0, 1, 1, 1, 0, 0, 0, 0, 0, 1, 0, 0, 1, 0, 1, 1, 3, 2, 0, 0, 1, 0, 0, 1, 0, 0, 0, 0, 3, 0, 1, 0, 0, 2, 4, 1, 0, 0, 0, 3, 0, 0, 2, 5, 1, 1, 0, 2, 0, 1, 0, 0, 2, 1, 2, 3, 2, 0, 1, 1, 0, 1, 1, 1, 0, 2, 1, 1, 1, 0, 0, 0, 3, 1, 0, 1, 0, 0, 1, 0, 0, 0, 0, 0, 0, 0, 1, 1, 0, 0, 0, 0, 0, 1, 1, 1, 0, 0, 2, 3, 1, 0, 1, 6, 0, 1, 5, 1, 1, 2, 0, 2, 1, 0, 0, 0, 0, 2, 0, 0, 0, 0, 2, 4, 0, 0, 2, 0, 2, 1, 2, 3, 0, 0, 0, 0, 0, 0, 0, 0, 0, 0, 0, 0, 1, 2, 0, 0, 2, 0, 0, 0, 1, 0, 1, 2, 1, 0, 2, 1]\n",
      "(0.7688751926040062, 1.1290609150566129)\n",
      "test\n",
      "[0, 0, 1, 1, 1, 1, 3, 0, 0, 3, 1, 3, 5, 1, 2, 0, 0, 0, 1, 4, 0, 2, 1, 0, 1, 0, 1, 0, 0, 2, 2, 1, 2, 0, 0, 2, 2, 4, 2, 2, 1, 0, 0, 0, 0, 1, 0, 3, 0, 1, 8, 4, 2, 0, 3, 3, 4, 1, 1, 1, 2, 11, 0, 0, 0, 4, 1, 3, 0, 0, 0, 0, 2, 0, 1, 0, 1, 0, 2, 0, 3, 9, 0, 3, 3, 1, 5, 1, 0, 1, 1, 0, 0, 0, 0, 2, 0, 1, 0, 0, 1, 1, 2, 3, 5, 0, 0, 0, 0, 1, 6, 0, 1, 1, 0, 1, 2, 0, 1, 0, 9, 0, 4, 3, 2, 1, 4, 1, 0, 1, 0, 4, 7, 5, 1, 3, 1, 2, 0, 2, 2, 4, 4, 1, 7, 0, 0, 4, 0, 1, 0, 1, 0, 3, 2, 1, 0, 1, 0, 1, 0, 2, 1, 0, 2, 1, 1, 0, 6, 0, 0, 1, 1, 0, 1, 0, 2, 0, 0, 2, 0, 1, 2, 0, 0, 0, 1, 3, 0, 6, 0, 5, 0, 0, 0, 3, 4, 3, 0, 0, 0, 6, 2, 0, 3, 1, 2, 0, 6, 2, 1, 1, 1, 3, 4, 1, 0, 1, 2, 1, 1, 0, 1, 0, 1, 0, 4, 2, 1, 1, 2, 1, 4, 0, 1, 1, 5, 3, 1, 0, 4, 0, 2, 3, 0, 3, 3, 0, 3, 0, 1, 9, 0, 0, 3, 1, 2, 0, 0, 2, 7, 2, 1, 7, 0, 0, 5, 2, 0, 1, 2, 1, 2, 2, 2, 0, 5, 2, 0, 1, 3, 1, 1, 0, 3, 1, 0, 2, 1, 4, 0, 0, 2, 0, 1, 1, 1, 2, 1, 7, 0, 0, 0, 0, 1, 0, 5, 4, 2, 2, 0, 3, 0, 0, 1, 0, 2, 1, 3, 0, 5, 0, 0, 0, 1, 3, 0, 1, 5, 0, 0, 1, 1, 2, 4, 10, 4, 4, 0, 0, 3, 1, 1, 0, 5, 1, 1, 2, 4, 2, 0, 6, 2, 4, 2, 2, 0, 0, 0, 1, 8, 3, 1, 2, 1, 3, 1, 0, 0, 5, 1, 0, 5, 0, 1, 0, 2, 0, 2, 1, 4, 1, 0, 1, 2, 5, 1, 3, 4, 1, 1, 0, 11, 2, 2, 1, 1, 4, 2, 4, 1, 0, 1, 2, 0, 0, 3, 0, 0, 0, 0, 4, 0, 1, 0, 0, 2, 4, 0, 3, 3, 3, 4, 0, 4, 0, 4, 1, 2, 0, 4, 2, 2, 3, 3, 3, 0, 1, 1, 0, 6, 0, 5, 0, 0, 3, 1, 0, 2, 5, 0, 3, 1, 2, 0, 0, 2, 2, 1, 0, 1, 0, 1, 0, 1, 1, 3, 1, 4, 0, 1, 3, 0, 6, 1, 0, 1, 0, 0, 0, 0, 0, 0, 0, 2, 0, 1, 2, 0, 2, 0, 1, 0, 8, 1, 3, 2, 0, 5, 0, 1, 5, 7, 0, 3, 0, 0, 3, 1, 0, 0, 2, 2, 1, 0, 2, 8, 0, 0, 4, 2, 0, 0, 2, 3, 0, 0, 5, 0, 0, 3, 3, 0, 1, 0, 4, 6, 6, 0, 0, 1, 2, 0, 4, 4, 6, 1, 0, 1, 5, 1, 0, 0, 0, 1, 0, 0, 0, 6, 11, 3, 1, 3, 0, 3, 5, 2, 0, 0, 0, 10, 4, 0, 1, 1, 5, 1, 0, 2, 2, 0, 2, 0, 1, 0, 1]\n",
      "(1.651877133105802, 2.0029768524856064)\n"
     ]
    }
   ],
   "source": [
    "from analysis_utils import *\n",
    "import matplotlib.pyplot as plt\n",
    "import matplotlib.patches as mpatches\n",
    "import matplotlib as mpl\n",
    "import numpy as np\n",
    "%matplotlib inline\n",
    "%load_ext autoreload\n",
    "%autoreload\n",
    "\n",
    "path = \"/Users/Akshay/Documents/TranslationDynamics/data/\"\n",
    "\n",
    "data = \"191001_0116/\"\n",
    "sim_i = countIncorrectRepeatReactions(path+data,6400,19,0,99)\n",
    "print(sim_i)\n",
    "\n",
    "\n",
    "data = \"191001_0339/\"\n",
    "sim_i = countIncorrectRepeatReactions(path+data,6400,19,0,99)\n",
    "print(sim_i)"
   ]
  },
  {
   "cell_type": "code",
   "execution_count": 44,
   "metadata": {
    "collapsed": false
   },
   "outputs": [
    {
     "name": "stdout",
     "output_type": "stream",
     "text": [
      "The autoreload extension is already loaded. To reload it, use:\n",
      "  %reload_ext autoreload\n",
      "test\n",
      "[0, 0, 1, 1, 1, 1, 3, 0, 0, 3, 1, 3, 5, 1, 2, 0, 0, 0, 1, 4, 0, 2, 1, 0, 1, 0, 1, 0, 0, 2, 2, 1, 2, 0, 0, 2, 2, 4, 2, 2, 1, 0, 0, 0, 0, 1, 0, 3, 0, 1, 8, 4, 2, 0, 3, 3, 4, 1, 1, 1, 2, 11, 0, 0, 0, 4, 1, 3, 0, 0, 0, 0, 2, 0, 1, 0, 1, 0, 2, 0, 3, 9, 0, 3, 3, 1, 5, 1, 0, 1, 1, 0, 0, 0, 0, 2, 0, 1, 0, 0, 1, 1, 2, 3, 5, 0, 0, 0, 0, 1, 6, 0, 1, 1, 0, 1, 2, 0, 1, 0, 9, 0, 4, 3, 2, 1, 4, 1, 0, 1, 0, 4, 7, 5, 1, 3, 1, 2, 0, 2, 2, 4, 4, 1, 7, 0, 0, 4, 0, 1, 0, 1, 0, 3, 2, 1, 0, 1, 0, 1, 0, 2, 1, 0, 2, 1, 1, 0, 6, 0, 0, 1, 1, 0, 1, 0, 2, 0, 0, 2, 0, 1, 2, 0, 0, 0, 1, 3, 0, 6, 0, 5, 0, 0, 0, 3, 4, 3, 0, 0, 0, 6, 2, 0, 3, 1, 2, 0, 6, 2, 1, 1, 1, 3, 4, 1, 0, 1, 2, 1, 1, 0, 1, 0, 1, 0, 4, 2, 1, 1, 2, 1, 4, 0, 1, 1, 5, 3, 1, 0, 4, 0, 2, 3, 0, 3, 3, 0, 3, 0, 1, 9, 0, 0, 3, 1, 2, 0, 0, 2, 7, 2, 1, 7, 0, 0, 5, 2, 0, 1, 2, 1, 2, 2, 2, 0, 5, 2, 0, 1, 3, 1, 1, 0, 3, 1, 0, 2, 1, 4, 0, 0, 2, 0, 1, 1, 1, 2, 1, 7, 0, 0, 0, 0, 1, 0, 5, 4, 2, 2, 0, 3, 0, 0, 1, 0, 2, 1, 3, 0, 5, 0, 0, 0, 1, 3, 0, 1, 5, 0, 0, 1, 1, 2, 4, 10, 4, 4, 0, 0, 3, 1, 1, 0, 5, 1, 1, 2, 4, 2, 0, 6, 2, 4, 2, 2, 0, 0, 0, 1, 8, 3, 1, 2, 1, 3, 1, 0, 0, 5, 1, 0, 5, 0, 1, 0, 2, 0, 2, 1, 4, 1, 0, 1, 2, 5, 1, 3, 4, 1, 1, 0, 11, 2, 2, 1, 1, 4, 2, 4, 1, 0, 1, 2, 0, 0, 3, 0, 0, 0, 0, 4, 0, 1, 0, 0, 2, 4, 0, 3, 3, 3, 4, 0, 4, 0, 4, 1, 2, 0, 4, 2, 2, 3, 3, 3, 0, 1, 1, 0, 6, 0, 5, 0, 0, 3, 1, 0, 2, 5, 0, 3, 1, 2, 0, 0, 2, 2, 1, 0, 1, 0, 1, 0, 1, 1, 3, 1, 4, 0, 1, 3, 0, 6, 1, 0, 1, 0, 0, 0, 0, 0, 0, 0, 2, 0, 1, 2, 0, 2, 0, 1, 0, 8, 1, 3, 2, 0, 5, 0, 1, 5, 7, 0, 3, 0, 0, 3, 1, 0, 0, 2, 2, 1, 0, 2, 8, 0, 0, 4, 2, 0, 0, 2, 3, 0, 0, 5, 0, 0, 3, 3, 0, 1, 0, 4, 6, 6, 0, 0, 1, 2, 0, 4, 4, 6, 1, 0, 1, 5, 1, 0, 0, 0, 1, 0, 0, 0, 6, 11, 3, 1, 3, 0, 3, 5, 2, 0, 0, 0, 10, 4, 0, 1, 1, 5, 1, 0, 2, 2, 0, 2, 0, 1, 0, 1]\n",
      "(1.651877133105802, 2.0029768524856064)\n",
      "test\n",
      "[3, 2, 0, 5, 2, 2, 1, 1, 3, 1, 0, 0, 0, 2, 0, 6, 4, 0, 1, 0, 3, 2, 1, 4, 0, 1, 1, 3, 6, 0, 0, 0, 2, 1, 0, 1, 0, 0, 0, 1, 4, 0, 1, 0, 1, 1, 4, 1, 3, 1, 5, 10, 0, 3, 1, 9, 0, 1, 2, 0, 1, 0, 4, 1, 0, 1, 6, 1, 2, 0, 4, 1, 1, 1, 0, 0, 1, 4, 0, 0, 0, 0, 1, 0, 4, 1, 1, 3, 1, 2, 0, 0, 2, 0, 0, 3, 2, 0, 1, 1, 0, 2, 0, 6, 1, 0, 1, 0, 0, 2, 2, 1, 0, 1, 0, 2, 1, 2, 0, 4, 10, 1, 1, 0, 1, 2, 0, 1, 0, 2, 7, 0, 2, 0, 0, 0, 2, 2, 2, 5, 4, 0, 6, 1, 1, 4, 0, 0, 2, 7, 0, 0, 1, 0, 1, 0, 1, 1, 1, 0, 0, 1, 1, 0, 1, 0, 4, 3, 0, 0, 0, 1, 5, 0, 1, 1, 4, 2, 1, 1, 0, 3, 0, 0, 2, 3, 5, 0, 0, 0, 5, 1, 0, 6, 2, 1, 0, 0, 0, 6, 4, 0, 1, 4, 3, 0, 3, 5, 2, 0, 3, 1, 3, 1, 3, 3, 0, 3, 9, 0, 0, 0, 0, 0, 1, 1, 1, 0, 3, 2, 3, 0, 1, 1, 0, 2, 2, 6, 2, 3, 3, 0, 1, 6, 0, 0, 4, 0, 8, 1, 0, 0, 0, 2, 2, 2, 0, 4, 1, 2, 4, 5, 0, 0, 2, 0, 5, 0, 0, 0, 0, 3, 1, 2, 1, 3, 0, 9, 1, 12, 1, 0, 0, 3, 4, 5, 2, 1, 0, 1, 1, 0, 1, 2, 0, 1, 0, 0, 0, 0, 3, 2, 0, 0, 4, 0, 1, 6, 0, 4, 0, 0, 2, 1, 0, 2, 0, 1, 1, 0, 0, 2, 5, 1, 1, 0, 0, 2, 4, 0, 0, 3, 0, 0, 1, 0, 0, 2, 0, 9, 4, 13, 5, 0, 4, 13, 1, 8, 0, 6, 1, 1, 0, 0, 0, 2, 5, 10, 2, 1, 0, 0, 1, 2, 0, 5, 2, 0, 1, 3, 0, 2, 2, 3, 9, 0, 1, 0, 3, 2, 2, 0, 2, 1, 0, 1, 1, 0, 0, 0, 3, 1, 2, 2, 0, 0, 3, 2, 3, 0, 1, 6, 0, 4, 2, 1, 1, 0, 7, 3, 0, 0, 0, 4, 1, 10, 2, 1, 2, 1, 3, 3, 2, 2, 0, 0, 9, 0, 8, 12, 1, 2, 0, 0, 0, 5, 6, 3, 2, 1, 0, 3, 7, 2, 11, 1, 0, 3, 0, 6, 0, 6, 5, 1, 0, 1, 2, 1, 4, 0, 3, 3, 1, 4, 4, 0, 2, 1, 1, 8, 3, 0, 0, 0, 0, 2, 3, 0, 1, 1, 3, 0, 6, 1, 0, 0, 1, 0, 10, 0, 3, 0, 1, 1, 1, 0, 0, 1, 1, 0, 1, 2, 6, 1, 0, 4, 0, 3, 4, 0, 0, 4, 0, 0, 0, 12, 1, 0, 6, 1, 1, 2, 2, 0, 0, 0, 2, 3, 1, 3, 0, 3, 6, 0, 5, 2, 3, 8, 4, 0, 1, 3, 0, 0, 0, 1, 0, 2, 4, 1, 1, 1, 0, 1, 2, 7, 2, 1, 4, 1]\n",
      "(1.8375, 2.3589542552943725)\n"
     ]
    }
   ],
   "source": [
    "from analysis_utils import *\n",
    "import matplotlib.pyplot as plt\n",
    "import matplotlib.patches as mpatches\n",
    "import matplotlib as mpl\n",
    "import numpy as np\n",
    "%matplotlib inline\n",
    "%load_ext autoreload\n",
    "%autoreload\n",
    "\n",
    "path = \"/Users/Akshay/Documents/TranslationDynamics/data/\"\n",
    "\n",
    "data = \"191001_0339/\"\n",
    "sim_i = countIncorrectRepeatReactions(path+data,6400,19,0,99)\n",
    "print(sim_i)\n",
    "\n",
    "\n",
    "data = \"191001_0409/\"\n",
    "sim_i = countIncorrectRepeatReactions(path+data,6400,19,0,99)\n",
    "print(sim_i)\n"
   ]
  },
  {
   "cell_type": "code",
   "execution_count": 65,
   "metadata": {
    "collapsed": false
   },
   "outputs": [
    {
     "name": "stdout",
     "output_type": "stream",
     "text": [
      "The autoreload extension is already loaded. To reload it, use:\n",
      "  %reload_ext autoreload\n",
      "test\n",
      "(2.0662087912087914, 2.7606459111077832)\n",
      "test\n",
      "(1.0227784730913643, 1.5573257106168756)\n",
      "test\n",
      "(0.9709742554265522, 1.4940283317515226)\n",
      "test\n",
      "(0.8794709948902916, 1.3062320700798238)\n",
      "test\n",
      "missing expt\n",
      "58\n",
      "missing expt\n",
      "59\n",
      "(0.834403080872914, 1.1563509942334578)\n"
     ]
    }
   ],
   "source": [
    "from analysis_utils import *\n",
    "import matplotlib.pyplot as plt\n",
    "import matplotlib.patches as mpatches\n",
    "import matplotlib as mpl\n",
    "import numpy as np\n",
    "%matplotlib inline\n",
    "%load_ext autoreload\n",
    "%autoreload\n",
    "\n",
    "path = \"/Users/Akshay/Documents/TranslationDynamics/data/\"\n",
    "\n",
    "data = \"190916_1101/\"\n",
    "sim_i = countIncorrectRepeatReactions(path+data,6400,19,0,599)\n",
    "print(sim_i)\n",
    "\n",
    "data = \"190917_0105/\"\n",
    "sim_i = countIncorrectRepeatReactions(path+data,6400,19,0,599)\n",
    "print(sim_i)\n",
    "\n",
    "data = \"190918_1046/\"\n",
    "sim_i = countIncorrectRepeatReactions(path+data,6400,19,0,599)\n",
    "print(sim_i)\n",
    "\n",
    "data = \"190921_2357/\"\n",
    "sim_i = countIncorrectRepeatReactions(path+data,6400,19,0,599)\n",
    "print(sim_i)\n",
    "\n",
    "data = \"190921_2258/\"\n",
    "sim_i = countIncorrectRepeatReactions(path+data,6400,19,0,599)\n",
    "print(sim_i)"
   ]
  },
  {
   "cell_type": "code",
   "execution_count": 54,
   "metadata": {
    "collapsed": false
   },
   "outputs": [
    {
     "name": "stdout",
     "output_type": "stream",
     "text": [
      "The autoreload extension is already loaded. To reload it, use:\n",
      "  %reload_ext autoreload\n",
      "test\n",
      "[27, 1, 0, 2, 6, 2, 0, 1, 15, 15, 0, 1, 0, 1, 1, 0, 4, 1, 3, 1, 12, 1, 1, 1, 5, 14, 0, 0, 0, 0, 4, 2, 35, 2, 6, 0, 3, 0, 0, 0, 7, 0, 1, 4, 0, 0, 1, 0, 0, 6, 0, 0, 0, 0, 0, 2, 0, 14, 0, 3, 9, 6, 27, 7, 6, 7, 0, 0, 2, 1, 0, 0, 0, 0, 0, 2, 13, 12, 0, 0, 6, 0, 1, 0, 2, 8, 0, 11, 3, 12, 2, 3, 1, 2, 6, 7, 16, 1, 14, 3, 9, 4, 4, 8, 4, 5, 2, 1, 5, 0, 0, 0, 3, 0, 2, 1, 2, 0, 1, 0, 6, 0, 0, 7, 0, 7, 14, 7, 1, 4, 2, 0, 3, 0, 0, 27, 7, 6, 3, 10, 9, 2, 2, 2, 0, 0, 1, 0, 0, 1, 0, 0, 0, 14, 1, 4, 9, 7, 0, 5, 0, 1, 0, 0, 0, 1, 1, 0, 3, 0, 0, 1, 2, 4, 14, 2, 5, 0, 5, 7, 5, 0, 3, 1, 9, 2, 3, 1, 0, 0, 1, 1, 2, 0, 0, 5, 0, 1, 0, 0, 0, 0, 3, 5, 0, 3, 2, 2, 4, 1, 1, 0, 6, 2, 4, 0, 1, 0, 2, 2, 7, 0, 0, 0, 0, 6, 11, 6, 3, 2, 12, 26, 0, 3, 2, 0, 0, 0, 2, 1, 13, 6, 0, 0, 2, 4, 2, 0, 0, 0, 10, 3, 13, 13, 1, 4, 15, 2, 0, 0, 4, 0, 9, 12, 10, 1, 1, 4, 0, 23, 0, 6, 0, 30, 2, 1, 11, 2, 0, 0, 1, 0, 0, 3, 0, 0, 0, 3, 0, 11, 4, 13, 9, 1, 8, 3, 21, 13, 3, 5, 2, 0, 0, 4, 1, 0, 20, 0, 4, 2, 8, 2, 3, 0, 1, 0, 1, 0, 1, 0, 0, 0, 0, 20, 0, 3, 0, 0, 2, 3, 2, 1, 0, 0, 0, 3, 0, 12, 7, 7, 7, 22, 12, 0, 9, 0, 0, 1, 2, 2, 0, 6, 21, 2, 1, 2, 2, 1, 0, 1, 41, 0, 0, 0, 0, 1, 9, 20, 19, 39, 1, 0, 5, 5, 0, 1, 7, 15, 1, 4, 0, 15, 3, 1, 0, 5, 2, 2, 5, 2, 4, 0, 1, 2, 2, 4, 2, 1, 0, 3, 3, 8, 0, 0, 0, 2, 13, 3, 6, 5, 0, 1, 0, 1, 10, 0, 2, 3, 0, 0, 7, 1, 1, 1, 0, 0, 1, 2, 1, 1, 11, 0, 9, 1, 8, 16, 1, 7, 1, 0, 8, 20, 9, 6, 4, 5, 0, 3, 1, 0, 2, 1]\n",
      "(3.7942477876106193, 5.884181780896704)\n",
      "test\n",
      "missing expt\n",
      "506\n",
      "missing expt\n",
      "510\n",
      "missing expt\n",
      "512\n",
      "missing expt\n",
      "516\n",
      "missing expt\n",
      "522\n",
      "missing expt\n",
      "526\n",
      "missing expt\n",
      "531\n",
      "missing expt\n",
      "539\n",
      "missing expt\n",
      "543\n",
      "missing expt\n",
      "550\n",
      "missing expt\n",
      "567\n",
      "missing expt\n",
      "568\n",
      "missing expt\n",
      "590\n",
      "[20, 2, 0, 0, 3, 6, 1, 0, 6, 0, 5, 3, 5, 9, 1, 3, 2, 9, 0, 0, 8, 12, 0, 0, 0, 0, 0, 1, 0, 4, 1, 0, 0, 1, 0, 0, 0, 0, 2, 0, 0, 0, 1, 2, 3, 0, 0, 0, 0, 0, 3, 2, 4, 1, 7, 0, 0, 5, 1, 1, 0, 2, 10, 1, 0, 1, 0, 24, 3, 2, 8, 23, 1, 3, 20, 0, 1, 5, 9, 5, 2, 4, 9, 9, 0, 12, 1, 0, 9, 2, 1, 2, 5, 4, 10, 5, 0, 6, 7, 0, 0, 0, 1, 7, 0, 11, 10, 3, 14, 2, 6, 7, 2, 11, 12, 2, 0, 2, 1, 11, 7, 2, 0, 0, 1, 1, 1, 2, 1, 0, 0, 1, 0, 1, 1, 1, 2, 0, 1, 0, 0, 2, 10, 0, 10, 15, 10, 9, 0, 15, 0, 0, 0, 0, 2, 5, 0, 1, 9, 5, 0, 0, 2, 7, 12, 2, 0, 2, 2, 0, 1, 0, 0, 7, 5, 8, 2, 1, 8, 0, 9, 22, 4, 3, 0, 3, 0, 0, 7, 9, 3, 1, 3, 0, 6, 10, 5, 0, 3, 12, 24, 3, 0, 0, 1, 0, 0, 4, 5, 0, 12, 3, 3, 0, 0, 1, 4, 6, 4, 6, 3, 17, 1, 3, 2, 14, 4]\n",
      "(3.682819383259912, 4.874261717775195)\n"
     ]
    }
   ],
   "source": [
    "from analysis_utils import *\n",
    "import matplotlib.pyplot as plt\n",
    "import matplotlib.patches as mpatches\n",
    "import matplotlib as mpl\n",
    "import numpy as np\n",
    "%matplotlib inline\n",
    "%load_ext autoreload\n",
    "%autoreload\n",
    "\n",
    "path = \"/Users/Akshay/Documents/TranslationDynamics/data/\"\n",
    "\n",
    "data = \"191003_2140/\"\n",
    "sim_i = countIncorrectRepeatReactions(path+data,6400,19,500,599)\n",
    "print(sim_i)\n",
    "\n",
    "\n",
    "data = \"191008_0117/\"\n",
    "sim_i = countIncorrectRepeatReactions(path+data,6400,19,500,599)\n",
    "print(sim_i)\n"
   ]
  },
  {
   "cell_type": "code",
   "execution_count": 66,
   "metadata": {
    "collapsed": false
   },
   "outputs": [
    {
     "name": "stdout",
     "output_type": "stream",
     "text": [
      "The autoreload extension is already loaded. To reload it, use:\n",
      "  %reload_ext autoreload\n",
      "test\n",
      "(0.6461138672336404, 1.0701674376938457)\n",
      "test\n",
      "missing expt\n",
      "85\n",
      "missing expt\n",
      "132\n",
      "missing expt\n",
      "276\n",
      "missing expt\n",
      "390\n",
      "(0.5806032241289651, 0.9766532312937757)\n"
     ]
    }
   ],
   "source": [
    "from analysis_utils import *\n",
    "import matplotlib.pyplot as plt\n",
    "import matplotlib.patches as mpatches\n",
    "import matplotlib as mpl\n",
    "import numpy as np\n",
    "%matplotlib inline\n",
    "%load_ext autoreload\n",
    "%autoreload\n",
    "\n",
    "path = \"/Users/Akshay/Documents/TranslationDynamics/data/\"\n",
    "\n",
    "data = \"191007_1529/\"\n",
    "sim_i = countIncorrectRepeatReactions(path+data,6400,19,0,599)\n",
    "print(sim_i)\n",
    "\n",
    "\n",
    "data = \"191007_1601/\"\n",
    "sim_i = countIncorrectRepeatReactions(path+data,6400,19,0,599)\n",
    "print(sim_i)\n"
   ]
  },
  {
   "cell_type": "code",
   "execution_count": null,
   "metadata": {
    "collapsed": true
   },
   "outputs": [],
   "source": []
  }
 ],
 "metadata": {
  "kernelspec": {
   "display_name": "Python 3",
   "language": "python",
   "name": "python3"
  },
  "language_info": {
   "codemirror_mode": {
    "name": "ipython",
    "version": 3
   },
   "file_extension": ".py",
   "mimetype": "text/x-python",
   "name": "python",
   "nbconvert_exporter": "python",
   "pygments_lexer": "ipython3",
   "version": "3.6.7"
  }
 },
 "nbformat": 4,
 "nbformat_minor": 2
}
