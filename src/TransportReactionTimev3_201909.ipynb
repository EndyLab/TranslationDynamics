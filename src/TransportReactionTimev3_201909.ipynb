{
 "cells": [
  {
   "cell_type": "code",
   "execution_count": 2,
   "metadata": {
    "collapsed": false
   },
   "outputs": [
    {
     "name": "stdout",
     "output_type": "stream",
     "text": [
      "[1.82341173e-01 2.26531806e-01 2.06304160e-01 1.61892723e-01\n",
      " 1.09417179e-01 6.29140997e-02 3.15151046e-02 1.24700271e-02\n",
      " 4.58560922e-03 1.49502032e-03 3.88603959e-04 1.26338361e-04\n",
      " 1.81560186e-05 0.00000000e+00 0.00000000e+00 0.00000000e+00\n",
      " 0.00000000e+00 0.00000000e+00 0.00000000e+00 0.00000000e+00\n",
      " 0.00000000e+00 0.00000000e+00 0.00000000e+00 0.00000000e+00\n",
      " 0.00000000e+00 0.00000000e+00 0.00000000e+00 0.00000000e+00\n",
      " 0.00000000e+00 0.00000000e+00 0.00000000e+00 0.00000000e+00\n",
      " 0.00000000e+00 0.00000000e+00 0.00000000e+00 0.00000000e+00\n",
      " 0.00000000e+00 0.00000000e+00 0.00000000e+00 0.00000000e+00\n",
      " 0.00000000e+00 0.00000000e+00]\n"
     ]
    }
   ],
   "source": [
    "import numpy as np\n",
    "\n",
    "ptRNA = [0.0521, 0.0099, 0.0762, 0.0102, 0.0139, 0.0067, 0.0191, 0.0384, 0.0255, 0.0123, 0.0141,\\\n",
    " 0.0757, 0.0343, 0.0699, 0.0102, 0.0557, 0.0717, 0.0151, 0.0107, 0.0307, \\\n",
    " 0.0165, 0.0309, 0.0113, 0.0166, 0.0144, 0.0115, 0.0093, 0.0035, 0.0208, 0.0055, 0.0226, \\\n",
    " 0.0123, 0.0017, 0.0087, 0.0176, 0.0147, 0.0151, 0.0326, 0.0616,0.0203]\n",
    "ptRNA = np.divide(ptRNA,sum(ptRNA))\n",
    "\n",
    "tRNA_tags = [\"Ala1B\", \"Ala2\", \"Arg2\", \"Arg3\", \"Arg4\", \"Arg5\", \"Asn\", \"Asp1\", \"Cys\", \"Gln1\", \"Gln2\", \\\n",
    "\"Glu2\", \"Gly2\", \"Gly3\", \"His\", \"Ile1\", \"Leu1\", \"Leu2\", \"Leu3\", \"Leu4\", \"Leu5\", \"Lys\", \\\n",
    "\"Met_m\", \"Phe\", \"Pro1\", \"Pro2\", \"Pro3\", \"Sel_Cys\", \"Ser1\", \"Ser2\", \"Ser3\", \"Ser5\", \"Thr1\", \\\n",
    "\"Thr2\", \"Thr3\", \"Thr4\", \"Trp\", \"Tyr1pTyr2\", \"Val1\", \"Val2ApB\"]\n",
    "\n",
    "ptRNA_dict = dict(zip(tRNA_tags, ptRNA))\n",
    "\n",
    "codons_Ec = [\"GGG\", \"GGA\", \"GGU\", \"GGC\", \"GAG\", \"GAA\", \"GAU\", \"GAC\", \"GUG\", \"GUA\", \"GUU\", \\\n",
    "\"GUC\", \"GCG\", \"GCA\", \"GCU\", \"GCC\", \"AGG\", \"AGA\", \"AGU\", \"AGC\", \"AAG\", \"AAA\", \\\n",
    "\"AAU\", \"AAC\", \"AUG\", \"AUA\", \"AUU\", \"AUC\", \"ACG\", \"ACA\", \"ACU\", \"ACC\", \"UGG\", \\\n",
    "\"UGA\", \"UGU\", \"UGC\", \"UAU\", \"UAC\", \"UUG\", \"UUA\", \"UUU\", \"UUC\", \"UCG\", \"UCA\", \\\n",
    "\"UCU\", \"UCC\", \"CGG\", \"CGA\", \"CGU\", \"CGC\", \"CAG\", \"CAA\", \"CAU\", \"CAC\", \"CUG\", \\\n",
    "\"CUA\", \"CUU\", \"CUC\", \"CCG\", \"CCA\", \"CCU\", \"CCC\"]\n",
    "\n",
    "pcodons_Ec =[0.00483, 0.00272, 0.03847, 0.03579, 0.01665, 0.05335, 0.02436, \\\n",
    "0.02885, 0.02150, 0.01594, 0.03146, 0.01130, 0.03047, 0.02223, \\\n",
    "0.02898, 0.01989, 0.00009, 0.00113, 0.00401, 0.01203, 0.01214, \\\n",
    "0.04464, 0.00984, 0.02808, 0.02247, 0.00093, 0.02148, 0.03685, \\\n",
    "0.00757, 0.00350, 0.01394, 0.02663, 0.00981, 0.00031, 0.00425, \\\n",
    "0.00531, 0.01073, 0.01628, 0.00666, 0.00616, 0.01261, 0.02279, \\\n",
    "0.00608, 0.00391, 0.01318, 0.01120, 0.00176, 0.00133, 0.03126, \\\n",
    "0.02235, 0.02938, 0.01024, 0.00927, 0.01396, 0.06041, 0.00216, \\\n",
    "0.00573, 0.00622, 0.02965, 0.00655, 0.00501, 0.00332]\n",
    "pcodons_Ec = np.divide(pcodons_Ec,sum(pcodons_Ec))\n",
    "\n",
    "pcodon_dict = dict(zip(codons_Ec, pcodons_Ec))\n",
    "\n",
    "#Note AUA does not have an assigned tRNA\n",
    "codon_dict={'GGG': ['Gly2'], 'GGA': ['Gly2'], 'GGU': ['Gly3'], 'GGC': ['Gly3'], \\\n",
    "'GAG': ['Glu2'], 'GAA': ['Glu2'], 'GAU': ['Asp1'], 'GAC': ['Asp1'], \\\n",
    "'GUG': ['Val1'], 'GUA': ['Val1'], 'GUU': ['Val1','Val2ApB'], \\\n",
    "'GUC': ['Val2ApB'], 'GCG': ['Ala1B'], 'GCA': ['Ala1B'], 'GCU': ['Ala1B'], \\\n",
    "'GCC': ['Ala2'], 'AGG': ['Arg5'], 'AGA': ['Arg4'], 'AGU': ['Ser3'], \\\n",
    "'AGC': ['Ser3'], 'AAG': ['Lys'], 'AAA': ['Lys'], 'AAU': ['Asn'], \\\n",
    "'AAC': ['Asn'], 'AUG': ['Met_m'], 'AUA': [], 'AUU': ['Ile1'], \\\n",
    "'AUC': ['Ile1'], 'ACG': ['Thr2','Thr4'], 'ACA': ['Thr4'], \\\n",
    "'ACU': ['Thr1','Thr4','Thr3'], 'ACC': ['Thr3','Thr1'], \\\n",
    "'UGG': ['Trp'], 'UGA': ['Sel_Cys'], 'UGU': ['Cys'], 'UGC': ['Cys'], \\\n",
    "'UAU': ['Tyr1pTyr2'], 'UAC': ['Tyr1pTyr2'], 'UUG': ['Leu5','Leu4'], \\\n",
    "'UUA': ['Leu5'], 'UUU': ['Phe'], 'UUC': ['Phe'], 'UCG': ['Ser1','Ser2'], \\\n",
    "'UCA': ['Ser1'], 'UCU': ['Ser5','Ser1'], 'UCC': ['Ser5'], 'CGG': ['Arg3'], \\\n",
    "'CGA': ['Arg2'], 'CGU': ['Arg2'], 'CGC': ['Arg2'], 'CAG': ['Gln2'], \\\n",
    "'CAA': ['Gln1'], 'CAU': ['His'], 'CAC': ['His'], 'CUG': ['Leu1','Leu3'], \\\n",
    "'CUA': ['Leu3'], 'CUU': ['Leu2'], 'CUC': ['Leu2'], 'CCG': ['Pro1','Pro3'], \\\n",
    "'CCA': ['Pro3'], 'CCU': ['Pro2','Pro3'], 'CCC': ['Pro2']}\n",
    "\n",
    "cells = 1\n",
    "TU = 9500*20\n",
    "time = 180\n",
    "tRNA_distrib_arr = list()\n",
    "codon_count = {}\n",
    "codon_time = {}\n",
    "codon_time_avg = {}\n",
    "codon_time_weighted_avg={}\n",
    "codon_count_hist = {}\n",
    "codon_count_hist_weighted_avg = np.zeros(42)\n",
    "p_codon_tRNA = {}\n",
    "\n",
    "for key in codon_dict:\n",
    "    codon_count[key] = []\n",
    "    codon_time[key] = []\n",
    "    codon_time_avg[key] = []\n",
    "    codon_time_weighted_avg[key]=[]\n",
    "    codon_count_hist[key]=[]\n",
    "    p_codon_tRNA[key] = []\n",
    "\n",
    "# Construct dictionary that assigns probability of all tRNA specific to a certain codon\n",
    "# to that codon (p_codon_tRNA)\n",
    "for codon in codon_dict:\n",
    "    p_codon_tRNA_i = 0\n",
    "    for tRNA in codon_dict[codon]:\n",
    "        p_codon_tRNA_i += ptRNA_dict[tRNA]\n",
    "    p_codon_tRNA[codon].append(p_codon_tRNA_i)\n",
    "\n",
    "for cell in range(cells):\n",
    "    # Generate distribution for cognate tRNA count for each codon\n",
    "    for i in range(TU):\n",
    "            \n",
    "        #Construct translation unit with random tRNA (weighted by specific tRNA abundances)\n",
    "        #and 1 random codon (weighted by codon probabilities).\n",
    "        tRNA_vox = list(np.random.choice(tRNA_tags,42,p=ptRNA))\n",
    "        codon_vox = np.random.choice(codons_Ec, 1, p=pcodons_Ec)\n",
    "\n",
    "        #Count how many cognate tRNA appeared in the translation unit (for given codon) and record in codon_count\n",
    "        codon_count_i = 0\n",
    "        for tRNA in codon_dict[codon_vox[0]]:\n",
    "            codon_count_i += tRNA_vox.count(tRNA)\n",
    "        codon_count[codon_vox[0]].append(codon_count_i)\n",
    "    \n",
    "    for codon in codon_count:\n",
    "        #Generate histogram of cognate tRNA counts for each codon\n",
    "        codon_count_hist[codon] = np.histogram(codon_count[codon], bins=np.arange(0,43))[0]\n",
    "        \n",
    "        #Weight histogram by codon probabilities to generate weighted average histogram for all codon\n",
    "        codon_count_hist_weighted_avg += codon_count_hist[codon]*pcodon_dict[codon]\n",
    "    p_codon_count_hist_weighted_avg = codon_count_hist_weighted_avg/sum(codon_count_hist_weighted_avg)\n",
    "    print(p_codon_count_hist_weighted_avg)"
   ]
  },
  {
   "cell_type": "code",
   "execution_count": 3,
   "metadata": {
    "collapsed": false
   },
   "outputs": [
    {
     "name": "stdout",
     "output_type": "stream",
     "text": [
      "0.9494011404582239\n",
      "[1.82341173e-01 2.26531806e-01 2.06304160e-01 1.61892723e-01\n",
      " 1.09417179e-01 6.29140997e-02 3.15151046e-02 1.24700271e-02\n",
      " 4.58560922e-03 1.49502032e-03 3.88603959e-04 1.26338361e-04\n",
      " 1.81560186e-05 0.00000000e+00 0.00000000e+00 0.00000000e+00\n",
      " 0.00000000e+00 0.00000000e+00 0.00000000e+00 0.00000000e+00\n",
      " 0.00000000e+00 0.00000000e+00 0.00000000e+00 0.00000000e+00\n",
      " 0.00000000e+00 0.00000000e+00 0.00000000e+00 0.00000000e+00\n",
      " 0.00000000e+00 0.00000000e+00 0.00000000e+00 0.00000000e+00\n",
      " 0.00000000e+00 0.00000000e+00 0.00000000e+00 0.00000000e+00\n",
      " 0.00000000e+00 0.00000000e+00 0.00000000e+00 0.00000000e+00\n",
      " 0.00000000e+00 0.00000000e+00]\n"
     ]
    },
    {
     "data": {
      "image/png": "[encoded data removed]",
      "text/plain": [
       "<Figure size 432x288 with 1 Axes>"
      ]
     },
     "metadata": {
      "needs_background": "light"
     },
     "output_type": "display_data"
    }
   ],
   "source": [
    "from analysis_utils import *\n",
    "import matplotlib.pyplot as plt\n",
    "import matplotlib.patches as mpatches\n",
    "import matplotlib as mpl\n",
    "%matplotlib inline\n",
    "\n",
    "plt.bar(np.arange(0,42),p_codon_count_hist_weighted_avg)\n",
    "plt.xlabel('# of cognate tRNA per TU',fontsize=20)\n",
    "plt.ylabel('Probability',fontsize=20)\n",
    "print(sum(p_codon_count_hist_weighted_avg[0:6]))\n",
    "print(p_codon_count_hist_weighted_avg)"
   ]
  },
  {
   "cell_type": "code",
   "execution_count": 29,
   "metadata": {
    "collapsed": false
   },
   "outputs": [
    {
     "name": "stdout",
     "output_type": "stream",
     "text": [
      "The autoreload extension is already loaded. To reload it, use:\n",
      "  %reload_ext autoreload\n",
      "test\n",
      "test\n",
      "test\n",
      "test\n",
      "test\n",
      "test\n"
     ]
    },
    {
     "data": {
      "text/html": [
       "<style>.container { width:80% !important; }</style>"
      ],
      "text/plain": [
       "<IPython.core.display.HTML object>"
      ]
     },
     "metadata": {},
     "output_type": "display_data"
    },
    {
     "name": "stdout",
     "output_type": "stream",
     "text": [
      "The autoreload extension is already loaded. To reload it, use:\n",
      "  %reload_ext autoreload\n",
      "[0.0832921795178958]\n",
      "[0.013886986006047696]\n",
      "[0.09717916552394353]\n",
      "[0.010543171261350097]\n"
     ]
    }
   ],
   "source": [
    "### 1000x 0.2e-3 ts\n",
    "\n",
    "from analysis_utils import *\n",
    "%load_ext autoreload\n",
    "%autoreload\n",
    "path = \"/Users/Akshay/Documents/TranslationDynamics/data/\"\n",
    "\n",
    "data = \"190916_1101/\"\n",
    "k=900\n",
    "gr30 = dict()\n",
    "for i in range(1,7):\n",
    "    sim_i = computeTransportRxnTimes(path+data, 1e15, 1e15, 300*(i-1)+100,300*(i-1)+200,scaling=1000)\n",
    "    gr30[i] = (CellLatencies(sim_i))\n",
    "\n",
    "\n",
    "gr = {3.0:gr30}\n",
    "\n",
    "#Figure 3\n",
    "from analysis_utils import *\n",
    "from IPython.core.display import display, HTML\n",
    "display(HTML(\"<style>.container { width:80% !important; }</style>\"))\n",
    "\n",
    "%load_ext autoreload\n",
    "%autoreload\n",
    "\n",
    "####### transport vs. reaction for different growth rates #####\n",
    "\n",
    "colors = ['darkblue','#D43F3A']\n",
    "gr_i_list = [3.0]\n",
    "phi_list = [0.13,0.22,0.30,0.36,0.39,0.42]\n",
    "markers = ['*','^']\n",
    "transport_phi = list()\n",
    "reaction_phi = list()\n",
    "search_phi = list()\n",
    "bootstrap_search_phi=list()\n",
    "search_list = list()\n",
    "for j,gr_i in enumerate(gr_i_list):\n",
    "    transport_vals_list = list()\n",
    "    reaction_vals_list = list()\n",
    "    search_vals_list = list()\n",
    "    bootstrap_vals_list = list()\n",
    "    for i in range(1,7):\n",
    "        transport_vals = gr[gr_i][i].avg_transportT*1/1608733*p_codon_count_hist_weighted_avg[i]/(1-p_codon_count_hist_weighted_avg[0])\n",
    "        rxn_vals = gr[gr_i][i].avg_rxnT*1/1608733*p_codon_count_hist_weighted_avg[i]/(1-p_codon_count_hist_weighted_avg[0])\n",
    "        search_vals = gr[gr_i][i].avg_searchT*1/1608733*p_codon_count_hist_weighted_avg[i]/(1-p_codon_count_hist_weighted_avg[0])\n",
    "        bootstrap_vals = gr[gr_i][i].bootstd_searchT*1/1608733*p_codon_count_hist_weighted_avg[i]/(1-p_codon_count_hist_weighted_avg[0])\n",
    "        \n",
    "        transport_vals_list.append(np.array(transport_vals))\n",
    "        reaction_vals_list.append(np.array(rxn_vals))\n",
    "        search_vals_list.append(np.array(search_vals))\n",
    "        bootstrap_vals_list.append(np.array(bootstrap_vals))\n",
    "        search_list.append(np.array(gr[gr_i][i].searchT)*1000/1608733)\n",
    "    transport_phi.append(np.sum(transport_vals_list))\n",
    "    reaction_phi.append(np.sum(reaction_vals_list))\n",
    "    search_phi.append(np.sum(search_vals_list))\n",
    "    bootstrap_search_phi.append(np.sum(bootstrap_vals_list))\n",
    "    \n",
    "print(transport_phi)\n",
    "print(reaction_phi)\n",
    "print(search_phi)\n",
    "print(bootstrap_search_phi)\n",
    "\n",
    "#############################################################################"
   ]
  },
  {
   "cell_type": "code",
   "execution_count": 32,
   "metadata": {
    "collapsed": false
   },
   "outputs": [
    {
     "name": "stdout",
     "output_type": "stream",
     "text": [
      "170.45597870767605\n",
      "117.71089298171277\n",
      "54.11799472073484\n",
      "45.06414924088304\n",
      "30.7639527506583\n",
      "27.48489774278732\n",
      "(0.0, 67.0283523923915)\n",
      "170.45597870767605\n",
      "117.71089298171277\n",
      "54.11799472073484\n",
      "45.06414924088304\n",
      "30.7639527506583\n",
      "27.48489774278732\n"
     ]
    },
    {
     "data": {
      "text/plain": [
       "(0, 0.7)"
      ]
     },
     "execution_count": 32,
     "metadata": {},
     "output_type": "execute_result"
    },
    {
     "data": {
      "image/png": "[encoded data removed]",
      "text/plain": [
       "<Figure size 432x288 with 1 Axes>"
      ]
     },
     "metadata": {
      "needs_background": "light"
     },
     "output_type": "display_data"
    },
    {
     "data": {
      "image/png": "[encoded data removed]",
      "text/plain": [
       "<Figure size 432x288 with 1 Axes>"
      ]
     },
     "metadata": {
      "needs_background": "light"
     },
     "output_type": "display_data"
    }
   ],
   "source": [
    "import scipy.stats as ss\n",
    "\n",
    "for i in range(0,6):\n",
    "    print(np.average(search_list[i]))\n",
    "\n",
    "search_list_combined = [k for b in search_list for k in b ]\n",
    "b = [k<600 for k in search_list_combined]\n",
    "search_list_combined = np.array(search_list_combined)\n",
    "min_search = search_list_combined[b]\n",
    "P = ss.expon.fit(min_search)\n",
    "print(P)\n",
    "rX = np.linspace(0,600, 1000)\n",
    "rP = ss.expon.pdf(rX, *P)\n",
    "plt.plot(rX, rP)\n",
    "\n",
    "plt.hist(min_search, normed=True, bins=10)\n",
    "\n",
    "plt.title('Search time: phi = 0.42 (gr =3.0); Acc=10; ts=0.2e-3; res_steps=3')\n",
    "plt.ylabel('Probability')\n",
    "plt.xlabel('Elongation time (ms)')\n",
    "\n",
    "plt.figure()\n",
    "for i in range(0,6):\n",
    "    print(np.average(search_list[i]))\n",
    "\n",
    "search_list_combined = [k for b in search_list for k in b ]\n",
    "gr30hist = np.histogram(search_list_combined,bins=20,range=(0,1000))\n",
    "plt.bar(gr30hist[1][0:-1],gr30hist[0]/sum(gr30hist[0]),align='edge',width=25,color='darkblue')\n",
    "\n",
    "plt.title('Search time: phi = 0.42 (gr =3.0); Acc=10; ts=0.2e-3; res_steps=3')\n",
    "plt.ylabel('Probability')\n",
    "plt.xlabel('Elongation time (ms)')\n",
    "plt.ylim(0,0.7)"
   ]
  },
  {
   "cell_type": "code",
   "execution_count": null,
   "metadata": {
    "collapsed": true
   },
   "outputs": [],
   "source": []
  },
  {
   "cell_type": "code",
   "execution_count": 107,
   "metadata": {
    "collapsed": false
   },
   "outputs": [
    {
     "name": "stdout",
     "output_type": "stream",
     "text": [
      "The autoreload extension is already loaded. To reload it, use:\n",
      "  %reload_ext autoreload\n",
      "test\n",
      "test\n",
      "test\n",
      "test\n",
      "test\n",
      "test\n"
     ]
    },
    {
     "data": {
      "text/html": [
       "<style>.container { width:80% !important; }</style>"
      ],
      "text/plain": [
       "<IPython.core.display.HTML object>"
      ]
     },
     "metadata": {},
     "output_type": "display_data"
    },
    {
     "name": "stdout",
     "output_type": "stream",
     "text": [
      "The autoreload extension is already loaded. To reload it, use:\n",
      "  %reload_ext autoreload\n",
      "[0.06401587012484146]\n",
      "[0.010923308717367627]\n",
      "[0.07493917884220909]\n",
      "[0.007615205267463058]\n"
     ]
    }
   ],
   "source": [
    "from analysis_utils import *\n",
    "%load_ext autoreload\n",
    "%autoreload\n",
    "path = \"/Users/Akshay/Documents/TranslationDynamics/data/\"\n",
    "\n",
    "gr30 = dict()\n",
    "data = \"190917_0105/\"\n",
    "k=900\n",
    "for i in range(1,7):\n",
    "    sim_i = computeTransportRxnTimes(path+data, 1e15, 1e15, 100*(i-1),100*(i-1)+100,scaling=200)\n",
    "    gr30[i] = (CellLatencies(sim_i))\n",
    "\n",
    "\n",
    "gr = {3.0:gr30}\n",
    "\n",
    "#Figure 3\n",
    "from analysis_utils import *\n",
    "from IPython.core.display import display, HTML\n",
    "display(HTML(\"<style>.container { width:80% !important; }</style>\"))\n",
    "\n",
    "%load_ext autoreload\n",
    "%autoreload\n",
    "\n",
    "####### transport vs. reaction for different growth rates #####\n",
    "\n",
    "colors = ['darkblue','#D43F3A']\n",
    "gr_i_list = [3.0]\n",
    "phi_list = [0.13,0.22,0.30,0.36,0.39,0.42]\n",
    "markers = ['*','^']\n",
    "transport_phi = list()\n",
    "reaction_phi = list()\n",
    "search_phi = list()\n",
    "bootstrap_search_phi=list()\n",
    "search_list = list()\n",
    "for j,gr_i in enumerate(gr_i_list):\n",
    "    transport_vals_list = list()\n",
    "    reaction_vals_list = list()\n",
    "    search_vals_list = list()\n",
    "    bootstrap_vals_list = list()\n",
    "    for i in range(1,7):\n",
    "        transport_vals = gr[gr_i][i].avg_transportT*1/1608733*p_codon_count_hist_weighted_avg[i]/(1-p_codon_count_hist_weighted_avg[0])\n",
    "        rxn_vals = gr[gr_i][i].avg_rxnT*1/1608733*p_codon_count_hist_weighted_avg[i]/(1-p_codon_count_hist_weighted_avg[0])\n",
    "        search_vals = gr[gr_i][i].avg_searchT*1/1608733*p_codon_count_hist_weighted_avg[i]/(1-p_codon_count_hist_weighted_avg[0])\n",
    "        bootstrap_vals = gr[gr_i][i].bootstd_searchT*1/1608733*p_codon_count_hist_weighted_avg[i]/(1-p_codon_count_hist_weighted_avg[0])\n",
    "        \n",
    "        transport_vals_list.append(np.array(transport_vals))\n",
    "        reaction_vals_list.append(np.array(rxn_vals))\n",
    "        search_vals_list.append(np.array(search_vals))\n",
    "        bootstrap_vals_list.append(np.array(bootstrap_vals))\n",
    "        search_list.append(np.array(gr[gr_i][i].searchT)*1000/1608733)\n",
    "    transport_phi.append(np.sum(transport_vals_list))\n",
    "    reaction_phi.append(np.sum(reaction_vals_list))\n",
    "    search_phi.append(np.sum(search_vals_list))\n",
    "    bootstrap_search_phi.append(np.sum(bootstrap_vals_list))\n",
    "    \n",
    "print(transport_phi)\n",
    "print(reaction_phi)\n",
    "print(search_phi)\n",
    "print(bootstrap_search_phi)\n",
    "\n",
    "#############################################################################"
   ]
  },
  {
   "cell_type": "code",
   "execution_count": 108,
   "metadata": {
    "collapsed": false
   },
   "outputs": [
    {
     "name": "stdout",
     "output_type": "stream",
     "text": [
      "74.7891663750644\n",
      "48.23389829744649\n",
      "42.05484029022264\n",
      "34.57840101428098\n",
      "25.703805168217883\n",
      "25.056601685760544\n",
      "(0.0, 39.93369802364065)\n",
      "152.25266416149873\n",
      "63.89112549526716\n",
      "45.80162724059178\n",
      "34.57840101428098\n",
      "25.703805168217883\n",
      "25.056601685760544\n",
      "698.4040984045357\n"
     ]
    },
    {
     "name": "stderr",
     "output_type": "stream",
     "text": [
      "/Users/Akshay/anaconda3/lib/python3.6/site-packages/ipykernel/__main__.py:16: MatplotlibDeprecationWarning: \n",
      "The 'normed' kwarg was deprecated in Matplotlib 2.1 and will be removed in 3.1. Use 'density' instead.\n"
     ]
    },
    {
     "data": {
      "image/png": "[encoded data removed]",
      "text/plain": [
       "<Figure size 432x288 with 1 Axes>"
      ]
     },
     "metadata": {
      "needs_background": "light"
     },
     "output_type": "display_data"
    },
    {
     "data": {
      "image/png": "[encoded data removed]",
      "text/plain": [
       "<Figure size 432x288 with 1 Axes>"
      ]
     },
     "metadata": {
      "needs_background": "light"
     },
     "output_type": "display_data"
    }
   ],
   "source": [
    "import scipy.stats as ss\n",
    "min_search=list()\n",
    "for i in range(0,6):\n",
    "    b = [k<200 for k in search_list[i]]\n",
    "    search_list_combined = np.array(search_list[i])\n",
    "    min_search.append(search_list_combined[b])\n",
    "    print(np.average(search_list_combined[b]))\n",
    "\n",
    "min_search = [k for b in min_search for k in b]\n",
    "P = ss.expon.fit(min_search)\n",
    "print(P)\n",
    "rX = np.linspace(0,200, 1000)\n",
    "rP = ss.expon.pdf(rX, *P)\n",
    "plt.plot(rX, rP)\n",
    "\n",
    "plt.hist(min_search, normed=True, bins=10)\n",
    "\n",
    "plt.title('Search time: phi = 0.13 (gr =0.6); Acc=10; ts=0.1e-3; res_steps=3')\n",
    "plt.ylabel('Probability')\n",
    "plt.xlabel('Elongation time (ms)')\n",
    "\n",
    "plt.figure()\n",
    "for i in range(0,6):\n",
    "    print(np.average(search_list[i]))\n",
    "\n",
    "search_list_combined = [k for b in search_list for k in b ]\n",
    "gr30hist = np.histogram(search_list_combined,bins=20,range=(0,1000))\n",
    "plt.bar(gr30hist[1][0:-1],gr30hist[0]/sum(gr30hist[0]),align='edge',width=25,color='darkblue')\n",
    "\n",
    "plt.title('Search time: phi = 0.13 (gr =0.6); Acc=10; ts=0.1e-3; res_steps=3')\n",
    "plt.ylabel('Probability')\n",
    "plt.xlabel('Elongation time (ms)')\n",
    "plt.ylim(0,0.7)\n",
    "print(max(search_list_combined))"
   ]
  },
  {
   "cell_type": "code",
   "execution_count": 60,
   "metadata": {
    "collapsed": false
   },
   "outputs": [
    {
     "name": "stdout",
     "output_type": "stream",
     "text": [
      "The autoreload extension is already loaded. To reload it, use:\n",
      "  %reload_ext autoreload\n",
      "test\n",
      "test\n",
      "test\n",
      "test\n",
      "test\n",
      "test\n",
      "i\n"
     ]
    },
    {
     "data": {
      "text/html": [
       "<style>.container { width:80% !important; }</style>"
      ],
      "text/plain": [
       "<IPython.core.display.HTML object>"
      ]
     },
     "metadata": {},
     "output_type": "display_data"
    },
    {
     "name": "stdout",
     "output_type": "stream",
     "text": [
      "The autoreload extension is already loaded. To reload it, use:\n",
      "  %reload_ext autoreload\n",
      "[0.06127592865568816]\n",
      "[0.01024088427624191]\n",
      "[0.07151681293193007]\n",
      "[0.008041805672890406]\n"
     ]
    }
   ],
   "source": [
    "#100 scaling\n",
    "from analysis_utils import *\n",
    "%load_ext autoreload\n",
    "%autoreload\n",
    "path = \"/Users/Akshay/Documents/TranslationDynamics/data/\"\n",
    "\n",
    "gr06_1e8 = dict()\n",
    "data = \"190918_1046/\"\n",
    "k=900\n",
    "gr30 = dict()\n",
    "\n",
    "for i in range(1,7):\n",
    "    sim_i = computeTransportRxnTimes(path+data, 1e15, 1e15, 100*(i-1),100*(i-1)+100,scaling=100)\n",
    "    gr30[i] = (CellLatencies(sim_i))\n",
    "\n",
    "print('i')\n",
    "gr = {3.0:gr30}\n",
    "\n",
    "#Figure 3\n",
    "from analysis_utils import *\n",
    "from IPython.core.display import display, HTML\n",
    "display(HTML(\"<style>.container { width:80% !important; }</style>\"))\n",
    "\n",
    "%load_ext autoreload\n",
    "%autoreload\n",
    "\n",
    "####### transport vs. reaction for different growth rates #####\n",
    "\n",
    "colors = ['darkblue','#D43F3A']\n",
    "gr_i_list = [3.0]\n",
    "phi_list = [0.13,0.22,0.30,0.36,0.39,0.42]\n",
    "markers = ['*','^']\n",
    "transport_phi = list()\n",
    "reaction_phi = list()\n",
    "search_phi = list()\n",
    "bootstrap_search_phi=list()\n",
    "search_list = list()\n",
    "for j,gr_i in enumerate(gr_i_list):\n",
    "    transport_vals_list = list()\n",
    "    reaction_vals_list = list()\n",
    "    search_vals_list = list()\n",
    "    bootstrap_vals_list = list()\n",
    "    for i in range(1,7):\n",
    "        transport_vals = gr[gr_i][i].avg_transportT*1/1608733*p_codon_count_hist_weighted_avg[i]/(1-p_codon_count_hist_weighted_avg[0])\n",
    "        rxn_vals = gr[gr_i][i].avg_rxnT*1/1608733*p_codon_count_hist_weighted_avg[i]/(1-p_codon_count_hist_weighted_avg[0])\n",
    "        search_vals = gr[gr_i][i].avg_searchT*1/1608733*p_codon_count_hist_weighted_avg[i]/(1-p_codon_count_hist_weighted_avg[0])\n",
    "        bootstrap_vals = gr[gr_i][i].bootstd_searchT*1/1608733*p_codon_count_hist_weighted_avg[i]/(1-p_codon_count_hist_weighted_avg[0])\n",
    "        \n",
    "        transport_vals_list.append(np.array(transport_vals))\n",
    "        reaction_vals_list.append(np.array(rxn_vals))\n",
    "        search_vals_list.append(np.array(search_vals))\n",
    "        bootstrap_vals_list.append(np.array(bootstrap_vals))\n",
    "        search_list.append(np.array(gr[gr_i][i].searchT)*1000/1608733)\n",
    "    transport_phi.append(np.sum(transport_vals_list))\n",
    "    reaction_phi.append(np.sum(reaction_vals_list))\n",
    "    search_phi.append(np.sum(search_vals_list))\n",
    "    bootstrap_search_phi.append(np.sum(bootstrap_vals_list))\n",
    "    \n",
    "print(transport_phi)\n",
    "print(reaction_phi)\n",
    "print(search_phi)\n",
    "print(bootstrap_search_phi)\n",
    "\n",
    "#############################################################################"
   ]
  },
  {
   "cell_type": "code",
   "execution_count": 61,
   "metadata": {
    "collapsed": false
   },
   "outputs": [
    {
     "name": "stdout",
     "output_type": "stream",
     "text": [
      "81.61144099895066\n",
      "52.32726312519146\n",
      "42.19677832967216\n",
      "34.89922350039463\n",
      "24.749595611824706\n",
      "22.077849710329733\n",
      "(0.0, 41.71209402916013)\n",
      "128.33451842904208\n",
      "78.8467326735776\n",
      "42.19677832967216\n",
      "36.569918434938195\n",
      "24.749595611824706\n",
      "22.077849710329733\n",
      "910.2673110112268\n"
     ]
    },
    {
     "data": {
      "image/png": "[encoded data removed]",
      "text/plain": [
       "<Figure size 432x288 with 1 Axes>"
      ]
     },
     "metadata": {
      "needs_background": "light"
     },
     "output_type": "display_data"
    },
    {
     "data": {
      "image/png": "[encoded data removed]",
      "text/plain": [
       "<Figure size 432x288 with 1 Axes>"
      ]
     },
     "metadata": {
      "needs_background": "light"
     },
     "output_type": "display_data"
    }
   ],
   "source": [
    "import scipy.stats as ss\n",
    "min_search=list()\n",
    "for i in range(0,6):\n",
    "    b = [k<200 for k in search_list[i]]\n",
    "    search_list_combined = np.array(search_list[i])\n",
    "    min_search.append(search_list_combined[b])\n",
    "    print(np.average(search_list_combined[b]))\n",
    "\n",
    "min_search = [k for b in min_search for k in b]\n",
    "P = ss.expon.fit(min_search)\n",
    "print(P)\n",
    "rX = np.linspace(0,200, 1000)\n",
    "rP = ss.expon.pdf(rX, *P)\n",
    "plt.plot(rX, rP)\n",
    "\n",
    "plt.hist(min_search, normed=True, bins=10)\n",
    "\n",
    "plt.title('Search time: phi = 0.42 (gr =3.0); Acc=10; ts=0.2e-3; res_steps=3')\n",
    "plt.ylabel('Probability')\n",
    "plt.xlabel('Elongation time (ms)')\n",
    "\n",
    "plt.figure()\n",
    "for i in range(0,6):\n",
    "    print(np.average(search_list[i]))\n",
    "\n",
    "search_list_combined = [k for b in search_list for k in b ]\n",
    "gr30hist = np.histogram(search_list_combined,bins=20,range=(0,1000))\n",
    "plt.bar(gr30hist[1][0:-1],gr30hist[0]/sum(gr30hist[0]),align='edge',width=25,color='darkblue')\n",
    "\n",
    "plt.title('Search time: phi = 0.42 (gr =3.0); Acc=10; ts=0.2e-3; res_steps=3')\n",
    "plt.ylabel('Probability')\n",
    "plt.xlabel('Elongation time (ms)')\n",
    "plt.ylim(0,0.7)\n",
    "print(max(search_list_combined))"
   ]
  },
  {
   "cell_type": "code",
   "execution_count": 103,
   "metadata": {
    "collapsed": false
   },
   "outputs": [
    {
     "name": "stdout",
     "output_type": "stream",
     "text": [
      "The autoreload extension is already loaded. To reload it, use:\n",
      "  %reload_ext autoreload\n",
      "test\n",
      "missing expt\n",
      "10\n",
      "missing expt\n",
      "54\n",
      "missing expt\n",
      "60\n",
      "test\n",
      "test\n",
      "test\n",
      "test\n",
      "test\n",
      "i\n"
     ]
    },
    {
     "data": {
      "text/html": [
       "<style>.container { width:80% !important; }</style>"
      ],
      "text/plain": [
       "<IPython.core.display.HTML object>"
      ]
     },
     "metadata": {},
     "output_type": "display_data"
    },
    {
     "name": "stdout",
     "output_type": "stream",
     "text": [
      "The autoreload extension is already loaded. To reload it, use:\n",
      "  %reload_ext autoreload\n",
      "[0.06756882645794933]\n",
      "[0.010853224351373078]\n",
      "[0.07842205080932242]\n",
      "[0.0784087435498039]\n"
     ]
    }
   ],
   "source": [
    "#20 scaling\n",
    "from analysis_utils import *\n",
    "%load_ext autoreload\n",
    "%autoreload\n",
    "path = \"/Users/Akshay/Documents/TranslationDynamics/data/\"\n",
    "\n",
    "gr06_1e8 = dict()\n",
    "data = \"190921_2357/\"\n",
    "k=900\n",
    "gr30 = dict()\n",
    "\n",
    "for i in range(1,7):\n",
    "    sim_i = computeTransportRxnTimes(path+data, 1e15, 1e15, 100*(i-1),100*(i-1)+100,scaling=20)\n",
    "    gr30[i] = (CellLatencies(sim_i))\n",
    "\n",
    "print('i')\n",
    "gr = {3.0:gr30}\n",
    "\n",
    "#Figure 3\n",
    "from analysis_utils import *\n",
    "from IPython.core.display import display, HTML\n",
    "display(HTML(\"<style>.container { width:80% !important; }</style>\"))\n",
    "\n",
    "%load_ext autoreload\n",
    "%autoreload\n",
    "\n",
    "####### transport vs. reaction for different growth rates #####\n",
    "\n",
    "colors = ['darkblue','#D43F3A']\n",
    "gr_i_list = [3.0]\n",
    "phi_list = [0.13,0.22,0.30,0.36,0.39,0.42]\n",
    "markers = ['*','^']\n",
    "transport_phi = list()\n",
    "reaction_phi = list()\n",
    "search_phi = list()\n",
    "bootstrap_search_phi=list()\n",
    "search_list = list()\n",
    "for j,gr_i in enumerate(gr_i_list):\n",
    "    transport_vals_list = list()\n",
    "    reaction_vals_list = list()\n",
    "    search_vals_list = list()\n",
    "    bootstrap_vals_list = list()\n",
    "    for i in range(1,7):\n",
    "        transport_vals = gr[gr_i][i].avg_transportT*1/1608733*p_codon_count_hist_weighted_avg[i]/(1-p_codon_count_hist_weighted_avg[0])\n",
    "        rxn_vals = gr[gr_i][i].avg_rxnT*1/1608733*p_codon_count_hist_weighted_avg[i]/(1-p_codon_count_hist_weighted_avg[0])\n",
    "        search_vals = gr[gr_i][i].avg_searchT*1/1608733*p_codon_count_hist_weighted_avg[i]/(1-p_codon_count_hist_weighted_avg[0])\n",
    "        bootstrap_vals = gr[gr_i][i].bootavg_searchT*1/1608733*p_codon_count_hist_weighted_avg[i]/(1-p_codon_count_hist_weighted_avg[0])\n",
    "        \n",
    "        transport_vals_list.append(np.array(transport_vals))\n",
    "        reaction_vals_list.append(np.array(rxn_vals))\n",
    "        search_vals_list.append(np.array(search_vals))\n",
    "        bootstrap_vals_list.append(np.array(bootstrap_vals))\n",
    "        search_list.append(np.array(gr[gr_i][i].searchT)*1000/1608733)\n",
    "    transport_phi.append(np.sum(transport_vals_list))\n",
    "    reaction_phi.append(np.sum(reaction_vals_list))\n",
    "    search_phi.append(np.sum(search_vals_list))\n",
    "    bootstrap_search_phi.append(np.sum(bootstrap_vals_list))\n",
    "    \n",
    "print(transport_phi)\n",
    "print(reaction_phi)\n",
    "print(search_phi)\n",
    "print(bootstrap_search_phi)\n",
    "\n",
    "#############################################################################"
   ]
  },
  {
   "cell_type": "code",
   "execution_count": 104,
   "metadata": {
    "collapsed": false
   },
   "outputs": [
    {
     "name": "stdout",
     "output_type": "stream",
     "text": [
      "75.07915189809357\n",
      "62.87276049048317\n",
      "44.09475716035807\n",
      "34.48840050879502\n",
      "27.074433706109986\n",
      "19.783365170609844\n",
      "(0.0, 41.93734066812312)\n",
      "149.69063776801536\n",
      "78.18612610414725\n",
      "47.58757004276123\n",
      "36.198379731221806\n",
      "28.946736054599672\n",
      "19.783365170609844\n",
      "523.8341777317072\n"
     ]
    },
    {
     "name": "stderr",
     "output_type": "stream",
     "text": [
      "/Users/Akshay/anaconda3/lib/python3.6/site-packages/ipykernel/__main__.py:16: MatplotlibDeprecationWarning: \n",
      "The 'normed' kwarg was deprecated in Matplotlib 2.1 and will be removed in 3.1. Use 'density' instead.\n"
     ]
    },
    {
     "data": {
      "image/png": "[encoded data removed]",
      "text/plain": [
       "<Figure size 432x288 with 1 Axes>"
      ]
     },
     "metadata": {
      "needs_background": "light"
     },
     "output_type": "display_data"
    },
    {
     "data": {
      "image/png": "[encoded data removed]",
      "text/plain": [
       "<Figure size 432x288 with 1 Axes>"
      ]
     },
     "metadata": {
      "needs_background": "light"
     },
     "output_type": "display_data"
    }
   ],
   "source": [
    "import scipy.stats as ss\n",
    "min_search=list()\n",
    "for i in range(0,6):\n",
    "    b = [k<200 for k in search_list[i]]\n",
    "    search_list_combined = np.array(search_list[i])\n",
    "    min_search.append(search_list_combined[b])\n",
    "    print(np.average(search_list_combined[b]))\n",
    "\n",
    "min_search = [k for b in min_search for k in b]\n",
    "P = ss.expon.fit(min_search)\n",
    "print(P)\n",
    "rX = np.linspace(0,200, 1000)\n",
    "rP = ss.expon.pdf(rX, *P)\n",
    "plt.plot(rX, rP)\n",
    "\n",
    "plt.hist(min_search, normed=True, bins=10)\n",
    "\n",
    "plt.title('Search time: phi = 0.13 (gr =0.6); Acc=10; ts=0.1e-3; res_steps=3')\n",
    "plt.ylabel('Probability')\n",
    "plt.xlabel('Elongation time (ms)')\n",
    "\n",
    "plt.figure()\n",
    "for i in range(0,6):\n",
    "    print(np.average(search_list[i]))\n",
    "\n",
    "search_list_combined = [k for b in search_list for k in b ]\n",
    "gr30hist = np.histogram(search_list_combined,bins=20,range=(0,1000))\n",
    "plt.bar(gr30hist[1][0:-1],gr30hist[0]/sum(gr30hist[0]),align='edge',width=25,color='darkblue')\n",
    "\n",
    "plt.title('Search time: phi = 0.13 (gr =0.6); Acc=10; ts=0.1e-3; res_steps=3')\n",
    "plt.ylabel('Probability')\n",
    "plt.xlabel('Elongation time (ms)')\n",
    "plt.ylim(0,0.7)\n",
    "print(max(search_list_combined))"
   ]
  },
  {
   "cell_type": "code",
   "execution_count": 105,
   "metadata": {
    "collapsed": false
   },
   "outputs": [
    {
     "name": "stdout",
     "output_type": "stream",
     "text": [
      "The autoreload extension is already loaded. To reload it, use:\n",
      "  %reload_ext autoreload\n",
      "test\n",
      "missing expt\n",
      "12\n",
      "missing expt\n",
      "16\n",
      "missing expt\n",
      "26\n",
      "missing expt\n",
      "27\n",
      "missing expt\n",
      "32\n",
      "missing expt\n",
      "40\n",
      "missing expt\n",
      "43\n",
      "missing expt\n",
      "58\n",
      "missing expt\n",
      "59\n",
      "missing expt\n",
      "62\n",
      "missing expt\n",
      "68\n",
      "test\n",
      "missing expt\n",
      "102\n",
      "missing expt\n",
      "163\n",
      "missing expt\n",
      "185\n",
      "test\n",
      "missing expt\n",
      "214\n",
      "test\n",
      "test\n",
      "test\n",
      "i\n"
     ]
    },
    {
     "data": {
      "text/html": [
       "<style>.container { width:80% !important; }</style>"
      ],
      "text/plain": [
       "<IPython.core.display.HTML object>"
      ]
     },
     "metadata": {},
     "output_type": "display_data"
    },
    {
     "name": "stdout",
     "output_type": "stream",
     "text": [
      "The autoreload extension is already loaded. To reload it, use:\n",
      "  %reload_ext autoreload\n",
      "[0.04832529411568769]\n",
      "[0.008754160055083489]\n",
      "[0.05707945417077119]\n",
      "[0.05702878180751814]\n"
     ]
    }
   ],
   "source": [
    "#10 scaling\n",
    "from analysis_utils import *\n",
    "%load_ext autoreload\n",
    "%autoreload\n",
    "path = \"/Users/Akshay/Documents/TranslationDynamics/data/\"\n",
    "\n",
    "gr06_1e8 = dict()\n",
    "data = \"190921_2258/\"\n",
    "k=900\n",
    "gr30 = dict()\n",
    "\n",
    "for i in range(1,7):\n",
    "    sim_i = computeTransportRxnTimes(path+data, 1e15, 1e15, 100*(i-1),100*(i-1)+100,scaling=10)\n",
    "    gr30[i] = (CellLatencies(sim_i))\n",
    "\n",
    "print('i')\n",
    "gr = {3.0:gr30}\n",
    "\n",
    "#Figure 3\n",
    "from analysis_utils import *\n",
    "from IPython.core.display import display, HTML\n",
    "display(HTML(\"<style>.container { width:80% !important; }</style>\"))\n",
    "\n",
    "%load_ext autoreload\n",
    "%autoreload\n",
    "\n",
    "####### transport vs. reaction for different growth rates #####\n",
    "\n",
    "colors = ['darkblue','#D43F3A']\n",
    "gr_i_list = [3.0]\n",
    "phi_list = [0.13,0.22,0.30,0.36,0.39,0.42]\n",
    "markers = ['*','^']\n",
    "transport_phi = list()\n",
    "reaction_phi = list()\n",
    "search_phi = list()\n",
    "bootstrap_search_phi=list()\n",
    "search_list = list()\n",
    "for j,gr_i in enumerate(gr_i_list):\n",
    "    transport_vals_list = list()\n",
    "    reaction_vals_list = list()\n",
    "    search_vals_list = list()\n",
    "    bootstrap_vals_list = list()\n",
    "    for i in range(1,7):\n",
    "        transport_vals = gr[gr_i][i].avg_transportT*1/1608733*p_codon_count_hist_weighted_avg[i]/(1-p_codon_count_hist_weighted_avg[0])\n",
    "        rxn_vals = gr[gr_i][i].avg_rxnT*1/1608733*p_codon_count_hist_weighted_avg[i]/(1-p_codon_count_hist_weighted_avg[0])\n",
    "        search_vals = gr[gr_i][i].avg_searchT*1/1608733*p_codon_count_hist_weighted_avg[i]/(1-p_codon_count_hist_weighted_avg[0])\n",
    "        bootstrap_vals = gr[gr_i][i].bootavg_searchT*1/1608733*p_codon_count_hist_weighted_avg[i]/(1-p_codon_count_hist_weighted_avg[0])\n",
    "        \n",
    "        transport_vals_list.append(np.array(transport_vals))\n",
    "        reaction_vals_list.append(np.array(rxn_vals))\n",
    "        search_vals_list.append(np.array(search_vals))\n",
    "        bootstrap_vals_list.append(np.array(bootstrap_vals))\n",
    "        search_list.append(np.array(gr[gr_i][i].searchT)*1000/1608733)\n",
    "    transport_phi.append(np.sum(transport_vals_list))\n",
    "    reaction_phi.append(np.sum(reaction_vals_list))\n",
    "    search_phi.append(np.sum(search_vals_list))\n",
    "    bootstrap_search_phi.append(np.sum(bootstrap_vals_list))\n",
    "    \n",
    "print(transport_phi)\n",
    "print(reaction_phi)\n",
    "print(search_phi)\n",
    "print(bootstrap_search_phi)\n",
    "\n",
    "#############################################################################"
   ]
  },
  {
   "cell_type": "code",
   "execution_count": 106,
   "metadata": {
    "collapsed": false
   },
   "outputs": [
    {
     "name": "stdout",
     "output_type": "stream",
     "text": [
      "67.35045351614052\n",
      "58.991864166517885\n",
      "46.1780841884394\n",
      "31.155958483431093\n",
      "23.31236924792051\n",
      "20.588170700857134\n",
      "(0.0, 40.05205736771856)\n",
      "88.81209368405553\n",
      "64.01158155519427\n",
      "48.538962402696754\n",
      "31.155958483431093\n",
      "23.31236924792051\n",
      "20.588170700857134\n",
      "282.6828805611836\n"
     ]
    },
    {
     "name": "stderr",
     "output_type": "stream",
     "text": [
      "/Users/Akshay/anaconda3/lib/python3.6/site-packages/ipykernel/__main__.py:16: MatplotlibDeprecationWarning: \n",
      "The 'normed' kwarg was deprecated in Matplotlib 2.1 and will be removed in 3.1. Use 'density' instead.\n"
     ]
    },
    {
     "data": {
      "image/png": "[encoded data removed]",
      "text/plain": [
       "<Figure size 432x288 with 1 Axes>"
      ]
     },
     "metadata": {
      "needs_background": "light"
     },
     "output_type": "display_data"
    },
    {
     "data": {
      "image/png": "[encoded data removed]",
      "text/plain": [
       "<Figure size 432x288 with 1 Axes>"
      ]
     },
     "metadata": {
      "needs_background": "light"
     },
     "output_type": "display_data"
    }
   ],
   "source": [
    "import scipy.stats as ss\n",
    "min_search=list()\n",
    "for i in range(0,6):\n",
    "    b = [k<200 for k in search_list[i]]\n",
    "    search_list_combined = np.array(search_list[i])\n",
    "    min_search.append(search_list_combined[b])\n",
    "    print(np.average(search_list_combined[b]))\n",
    "\n",
    "min_search = [k for b in min_search for k in b]\n",
    "P = ss.expon.fit(min_search)\n",
    "print(P)\n",
    "rX = np.linspace(0,200, 1000)\n",
    "rP = ss.expon.pdf(rX, *P)\n",
    "plt.plot(rX, rP)\n",
    "\n",
    "plt.hist(min_search, normed=True, bins=10)\n",
    "\n",
    "plt.title('Search time: phi = 0.13 (gr =0.6); Acc=10; ts=0.1e-3; res_steps=3')\n",
    "plt.ylabel('Probability')\n",
    "plt.xlabel('Elongation time (ms)')\n",
    "\n",
    "plt.figure()\n",
    "for i in range(0,6):\n",
    "    print(np.average(search_list[i]))\n",
    "\n",
    "search_list_combined = [k for b in search_list for k in b ]\n",
    "gr30hist = np.histogram(search_list_combined,bins=20,range=(0,1000))\n",
    "plt.bar(gr30hist[1][0:-1],gr30hist[0]/sum(gr30hist[0]),align='edge',width=25,color='darkblue')\n",
    "\n",
    "plt.title('Search time: phi = 0.13 (gr =0.6); Acc=10; ts=0.1e-3; res_steps=3')\n",
    "plt.ylabel('Probability')\n",
    "plt.xlabel('Elongation time (ms)')\n",
    "plt.ylim(0,0.7)\n",
    "print(max(search_list_combined))"
   ]
  },
  {
   "cell_type": "code",
   "execution_count": 69,
   "metadata": {
    "collapsed": false
   },
   "outputs": [
    {
     "name": "stdout",
     "output_type": "stream",
     "text": [
      "The autoreload extension is already loaded. To reload it, use:\n",
      "  %reload_ext autoreload\n",
      "test\n",
      "missing expt\n",
      "40\n",
      "test\n",
      "test\n",
      "test\n",
      "missing expt\n",
      "383\n",
      "test\n",
      "test\n",
      "missing expt\n",
      "541\n",
      "i\n"
     ]
    },
    {
     "data": {
      "text/html": [
       "<style>.container { width:80% !important; }</style>"
      ],
      "text/plain": [
       "<IPython.core.display.HTML object>"
      ]
     },
     "metadata": {},
     "output_type": "display_data"
    },
    {
     "name": "stdout",
     "output_type": "stream",
     "text": [
      "The autoreload extension is already loaded. To reload it, use:\n",
      "  %reload_ext autoreload\n",
      "[0.24819213862618805]\n",
      "[0.019543103676477394]\n",
      "[0.26773524230266543]\n",
      "[0.025801202159247864]\n"
     ]
    }
   ],
   "source": []
  },
  {
   "cell_type": "code",
   "execution_count": 70,
   "metadata": {
    "collapsed": false
   },
   "outputs": [
    {
     "name": "stdout",
     "output_type": "stream",
     "text": [
      "84.0286339411497\n",
      "73.8620887332386\n",
      "73.9486178379471\n",
      "64.2476391890177\n",
      "64.98841912215451\n",
      "64.96853742001602\n",
      "(0.0, 68.99118233500697)\n",
      "513.7146826514307\n",
      "237.17626539580746\n",
      "176.91197232481588\n",
      "142.68314620238658\n",
      "108.0825245654911\n",
      "74.5035077391537\n",
      "1941.9278411856262\n"
     ]
    },
    {
     "data": {
      "image/png": "[encoded data removed]",
      "text/plain": [
       "<Figure size 432x288 with 1 Axes>"
      ]
     },
     "metadata": {
      "needs_background": "light"
     },
     "output_type": "display_data"
    },
    {
     "data": {
      "image/png": "[encoded data removed]",
      "text/plain": [
       "<Figure size 432x288 with 1 Axes>"
      ]
     },
     "metadata": {
      "needs_background": "light"
     },
     "output_type": "display_data"
    }
   ],
   "source": []
  },
  {
   "cell_type": "code",
   "execution_count": 3,
   "metadata": {
    "collapsed": false
   },
   "outputs": [
    {
     "name": "stdout",
     "output_type": "stream",
     "text": [
      "test\n",
      "test\n",
      "test\n",
      "test\n",
      "test\n",
      "test\n",
      "i\n"
     ]
    },
    {
     "data": {
      "text/html": [
       "<style>.container { width:80% !important; }</style>"
      ],
      "text/plain": [
       "<IPython.core.display.HTML object>"
      ]
     },
     "metadata": {},
     "output_type": "display_data"
    },
    {
     "name": "stdout",
     "output_type": "stream",
     "text": [
      "The autoreload extension is already loaded. To reload it, use:\n",
      "  %reload_ext autoreload\n",
      "[0.0653749795879345]\n",
      "[0.010638680647462609]\n",
      "[0.07601366023539713]\n",
      "[0.007262157590512339]\n"
     ]
    }
   ],
   "source": [
    "#gr 3.0\n",
    "#100 scaling, 0.1e-3\n",
    "from analysis_utils import *\n",
    "%load_ext autoreload\n",
    "%autoreload\n",
    "path = \"/Users/Akshay/Documents/TranslationDynamics/data/\"\n",
    "\n",
    "gr06_1e8 = dict()\n",
    "data = \"190925_1407/\"\n",
    "k=900\n",
    "gr30 = dict()\n",
    "\n",
    "for i in range(1,7):\n",
    "    sim_i = computeTransportRxnTimes(path+data, 1e15, 1e15, 100*(i-1),100*(i-1)+100,scaling=100)\n",
    "    gr30[i] = (CellLatencies(sim_i))\n",
    "\n",
    "print('i')\n",
    "gr = {3.0:gr30}\n",
    "\n",
    "#Figure 3\n",
    "from analysis_utils import *\n",
    "from IPython.core.display import display, HTML\n",
    "display(HTML(\"<style>.container { width:80% !important; }</style>\"))\n",
    "\n",
    "%load_ext autoreload\n",
    "%autoreload\n",
    "\n",
    "####### transport vs. reaction for different growth rates #####\n",
    "\n",
    "colors = ['darkblue','#D43F3A']\n",
    "gr_i_list = [3.0]\n",
    "phi_list = [0.13,0.22,0.30,0.36,0.39,0.42]\n",
    "markers = ['*','^']\n",
    "transport_phi = list()\n",
    "reaction_phi = list()\n",
    "search_phi = list()\n",
    "bootstrap_search_phi=list()\n",
    "search_list = list()\n",
    "for j,gr_i in enumerate(gr_i_list):\n",
    "    transport_vals_list = list()\n",
    "    reaction_vals_list = list()\n",
    "    search_vals_list = list()\n",
    "    bootstrap_vals_list = list()\n",
    "    for i in range(1,7):\n",
    "        transport_vals = gr[gr_i][i].avg_transportT*1/1608733*p_codon_count_hist_weighted_avg[i]/(1-p_codon_count_hist_weighted_avg[0])\n",
    "        rxn_vals = gr[gr_i][i].avg_rxnT*1/1608733*p_codon_count_hist_weighted_avg[i]/(1-p_codon_count_hist_weighted_avg[0])\n",
    "        search_vals = gr[gr_i][i].avg_searchT*1/1608733*p_codon_count_hist_weighted_avg[i]/(1-p_codon_count_hist_weighted_avg[0])\n",
    "        bootstrap_vals = gr[gr_i][i].bootstd_searchT*1/1608733*p_codon_count_hist_weighted_avg[i]/(1-p_codon_count_hist_weighted_avg[0])\n",
    "        \n",
    "        transport_vals_list.append(np.array(transport_vals))\n",
    "        reaction_vals_list.append(np.array(rxn_vals))\n",
    "        search_vals_list.append(np.array(search_vals))\n",
    "        bootstrap_vals_list.append(np.array(bootstrap_vals))\n",
    "        search_list.append(np.array(gr[gr_i][i].searchT)*1000/1608733)\n",
    "    transport_phi.append(np.sum(transport_vals_list))\n",
    "    reaction_phi.append(np.sum(reaction_vals_list))\n",
    "    search_phi.append(np.sum(search_vals_list))\n",
    "    bootstrap_search_phi.append(np.sum(bootstrap_vals_list))\n",
    "    \n",
    "print(transport_phi)\n",
    "print(reaction_phi)\n",
    "print(search_phi)\n",
    "print(bootstrap_search_phi)\n",
    "\n",
    "#############################################################################"
   ]
  },
  {
   "cell_type": "code",
   "execution_count": 68,
   "metadata": {
    "collapsed": false
   },
   "outputs": [
    {
     "name": "stdout",
     "output_type": "stream",
     "text": [
      "83.0916773299439\n",
      "54.69431072506663\n",
      "47.808456160281786\n",
      "32.07234829704673\n",
      "27.000439970439498\n",
      "22.268861579893628\n",
      "(0.0, 42.44037909537773)\n",
      "143.96563973417125\n",
      "70.119681529458\n",
      "49.850633135935915\n",
      "32.07234829704673\n",
      "27.000439970439498\n",
      "22.268861579893628\n",
      "530.0517431801976\n"
     ]
    },
    {
     "data": {
      "image/png": "[encoded data removed]",
      "text/plain": [
       "<Figure size 432x288 with 1 Axes>"
      ]
     },
     "metadata": {
      "needs_background": "light"
     },
     "output_type": "display_data"
    },
    {
     "data": {
      "image/png": "[encoded data removed]",
      "text/plain": [
       "<Figure size 432x288 with 1 Axes>"
      ]
     },
     "metadata": {
      "needs_background": "light"
     },
     "output_type": "display_data"
    }
   ],
   "source": [
    "import scipy.stats as ss\n",
    "min_search=list()\n",
    "for i in range(0,6):\n",
    "    b = [k<200 for k in search_list[i]]\n",
    "    search_list_combined = np.array(search_list[i])\n",
    "    min_search.append(search_list_combined[b])\n",
    "    print(np.average(search_list_combined[b]))\n",
    "\n",
    "min_search = [k for b in min_search for k in b]\n",
    "P = ss.expon.fit(min_search)\n",
    "print(P)\n",
    "rX = np.linspace(0,200, 1000)\n",
    "rP = ss.expon.pdf(rX, *P)\n",
    "plt.plot(rX, rP)\n",
    "\n",
    "plt.hist(min_search, normed=True, bins=10)\n",
    "\n",
    "plt.title('Search time: phi = 0.42 (gr =3.0); Acc=10; ts=0.2e-3; res_steps=3')\n",
    "plt.ylabel('Probability')\n",
    "plt.xlabel('Elongation time (ms)')\n",
    "\n",
    "plt.figure()\n",
    "for i in range(0,6):\n",
    "    print(np.average(search_list[i]))\n",
    "\n",
    "search_list_combined = [k for b in search_list for k in b ]\n",
    "gr30hist = np.histogram(search_list_combined,bins=20,range=(0,1000))\n",
    "plt.bar(gr30hist[1][0:-1],gr30hist[0]/sum(gr30hist[0]),align='edge',width=25,color='darkblue')\n",
    "\n",
    "plt.title('Search time: phi = 0.42 (gr =3.0); Acc=10; ts=0.2e-3; res_steps=3')\n",
    "plt.ylabel('Probability')\n",
    "plt.xlabel('Elongation time (ms)')\n",
    "plt.ylim(0,0.7)\n",
    "print(max(search_list_combined))"
   ]
  },
  {
   "cell_type": "code",
   "execution_count": null,
   "metadata": {
    "collapsed": true
   },
   "outputs": [],
   "source": []
  },
  {
   "cell_type": "code",
   "execution_count": 56,
   "metadata": {
    "collapsed": false
   },
   "outputs": [
    {
     "name": "stdout",
     "output_type": "stream",
     "text": [
      "The autoreload extension is already loaded. To reload it, use:\n",
      "  %reload_ext autoreload\n",
      "test\n",
      "test\n",
      "test\n",
      "test\n",
      "missing expt\n",
      "383\n",
      "test\n",
      "test\n",
      "missing expt\n",
      "541\n",
      "i\n"
     ]
    },
    {
     "data": {
      "text/html": [
       "<style>.container { width:80% !important; }</style>"
      ],
      "text/plain": [
       "<IPython.core.display.HTML object>"
      ]
     },
     "metadata": {},
     "output_type": "display_data"
    },
    {
     "name": "stdout",
     "output_type": "stream",
     "text": [
      "The autoreload extension is already loaded. To reload it, use:\n",
      "  %reload_ext autoreload\n",
      "[0.25329641209887904]\n",
      "[0.020109062156875877]\n",
      "[0.27340547425575484]\n",
      "[0.02687865639785333]\n"
     ]
    }
   ],
   "source": [
    "#1000 scaling, gr 0.6\n",
    "from analysis_utils import *\n",
    "%load_ext autoreload\n",
    "%autoreload\n",
    "path = \"/Users/Akshay/Documents/TranslationDynamics/data/\"\n",
    "\n",
    "gr06_1e8 = dict()\n",
    "data = \"190927_0043/\"\n",
    "k=900\n",
    "gr30 = dict()\n",
    "\n",
    "for i in range(1,7):\n",
    "    sim_i = computeTransportRxnTimes(path+data, 1e15, 1e15, 100*(i-1),100*(i-1)+100,scaling=1000)\n",
    "    gr30[i] = (CellLatencies(sim_i))\n",
    "\n",
    "print('i')\n",
    "gr = {3.0:gr30}\n",
    "\n",
    "#Figure 3\n",
    "from analysis_utils import *\n",
    "from IPython.core.display import display, HTML\n",
    "display(HTML(\"<style>.container { width:80% !important; }</style>\"))\n",
    "\n",
    "%load_ext autoreload\n",
    "%autoreload\n",
    "\n",
    "####### transport vs. reaction for different growth rates #####\n",
    "\n",
    "colors = ['darkblue','#D43F3A']\n",
    "gr_i_list = [3.0]\n",
    "phi_list = [0.13,0.22,0.30,0.36,0.39,0.42]\n",
    "markers = ['*','^']\n",
    "transport_phi = list()\n",
    "reaction_phi = list()\n",
    "search_phi = list()\n",
    "bootstrap_search_phi=list()\n",
    "search_list = list()\n",
    "for j,gr_i in enumerate(gr_i_list):\n",
    "    transport_vals_list = list()\n",
    "    reaction_vals_list = list()\n",
    "    search_vals_list = list()\n",
    "    bootstrap_vals_list = list()\n",
    "    for i in range(1,7):\n",
    "        transport_vals = gr[gr_i][i].avg_transportT*1/1608733*p_codon_count_hist_weighted_avg[i]/(1-p_codon_count_hist_weighted_avg[0])\n",
    "        rxn_vals = gr[gr_i][i].avg_rxnT*1/1608733*p_codon_count_hist_weighted_avg[i]/(1-p_codon_count_hist_weighted_avg[0])\n",
    "        search_vals = gr[gr_i][i].avg_searchT*1/1608733*p_codon_count_hist_weighted_avg[i]/(1-p_codon_count_hist_weighted_avg[0])\n",
    "        bootstrap_vals = gr[gr_i][i].bootstd_searchT*1/1608733*p_codon_count_hist_weighted_avg[i]/(1-p_codon_count_hist_weighted_avg[0])\n",
    "        \n",
    "        transport_vals_list.append(np.array(transport_vals))\n",
    "        reaction_vals_list.append(np.array(rxn_vals))\n",
    "        search_vals_list.append(np.array(search_vals))\n",
    "        bootstrap_vals_list.append(np.array(bootstrap_vals))\n",
    "        search_list.append(np.array(gr[gr_i][i].searchT)*1000/1608733)\n",
    "    transport_phi.append(np.sum(transport_vals_list))\n",
    "    reaction_phi.append(np.sum(reaction_vals_list))\n",
    "    search_phi.append(np.sum(search_vals_list))\n",
    "    bootstrap_search_phi.append(np.sum(bootstrap_vals_list))\n",
    "    \n",
    "print(transport_phi)\n",
    "print(reaction_phi)\n",
    "print(search_phi)\n",
    "print(bootstrap_search_phi)\n",
    "\n",
    "#############################################################################"
   ]
  },
  {
   "cell_type": "code",
   "execution_count": 58,
   "metadata": {
    "collapsed": false
   },
   "outputs": [
    {
     "name": "stdout",
     "output_type": "stream",
     "text": [
      "171.52409390332434\n",
      "160.09084020234752\n",
      "129.2112209087681\n",
      "102.51743875927444\n",
      "99.921994637056\n",
      "74.5035077391537\n",
      "(0.0, 118.26913891767065)\n",
      "534.9967813057506\n",
      "237.17626539580746\n",
      "176.91197232481588\n",
      "142.68314620238658\n",
      "108.0825245654911\n",
      "74.5035077391537\n",
      "2641.924548083413\n"
     ]
    },
    {
     "name": "stderr",
     "output_type": "stream",
     "text": [
      "/Users/Akshay/anaconda3/lib/python3.6/site-packages/ipykernel/__main__.py:16: MatplotlibDeprecationWarning: \n",
      "The 'normed' kwarg was deprecated in Matplotlib 2.1 and will be removed in 3.1. Use 'density' instead.\n"
     ]
    },
    {
     "data": {
      "image/png": "[encoded data removed]",
      "text/plain": [
       "<Figure size 432x288 with 1 Axes>"
      ]
     },
     "metadata": {
      "needs_background": "light"
     },
     "output_type": "display_data"
    },
    {
     "data": {
      "image/png": "[encoded data removed]",
      "text/plain": [
       "<Figure size 432x288 with 1 Axes>"
      ]
     },
     "metadata": {
      "needs_background": "light"
     },
     "output_type": "display_data"
    }
   ],
   "source": [
    "import scipy.stats as ss\n",
    "min_search=list()\n",
    "for i in range(0,6):\n",
    "    b = [k<410 for k in search_list[i]]\n",
    "    search_list_combined = np.array(search_list[i])\n",
    "    min_search.append(search_list_combined[b])\n",
    "    print(np.average(search_list_combined[b]))\n",
    "\n",
    "min_search = [k for b in min_search for k in b]\n",
    "P = ss.expon.fit(min_search)\n",
    "print(P)\n",
    "rX = np.linspace(0,410, 1000)\n",
    "rP = ss.expon.pdf(rX, *P)\n",
    "plt.plot(rX, rP)\n",
    "\n",
    "plt.hist(min_search, normed=True, bins=10)\n",
    "\n",
    "plt.title('Search time: phi = 0.13 (gr =0.6); Acc=10; ts=0.1e-3; res_steps=3')\n",
    "plt.ylabel('Probability')\n",
    "plt.xlabel('Elongation time (ms)')\n",
    "\n",
    "plt.figure()\n",
    "for i in range(0,6):\n",
    "    print(np.average(search_list[i]))\n",
    "\n",
    "search_list_combined = [k for b in search_list for k in b ]\n",
    "gr30hist = np.histogram(search_list_combined,bins=20,range=(0,1000))\n",
    "plt.bar(gr30hist[1][0:-1],gr30hist[0]/sum(gr30hist[0]),align='edge',width=25,color='darkblue')\n",
    "\n",
    "plt.title('Search time: phi = 0.13 (gr =0.6); Acc=10; ts=0.1e-3; res_steps=3')\n",
    "plt.ylabel('Probability')\n",
    "plt.xlabel('Elongation time (ms)')\n",
    "plt.ylim(0,0.7)\n",
    "print(max(search_list_combined))"
   ]
  },
  {
   "cell_type": "code",
   "execution_count": 117,
   "metadata": {
    "collapsed": false
   },
   "outputs": [
    {
     "name": "stdout",
     "output_type": "stream",
     "text": [
      "The autoreload extension is already loaded. To reload it, use:\n",
      "  %reload_ext autoreload\n",
      "test\n",
      "missing expt\n",
      "6\n",
      "missing expt\n",
      "22\n",
      "missing expt\n",
      "43\n",
      "missing expt\n",
      "49\n",
      "missing expt\n",
      "51\n",
      "missing expt\n",
      "57\n",
      "missing expt\n",
      "78\n",
      "missing expt\n",
      "81\n",
      "missing expt\n",
      "98\n",
      "test\n",
      "missing expt\n",
      "119\n",
      "missing expt\n",
      "195\n",
      "test\n",
      "test\n",
      "test\n",
      "test\n",
      "i\n"
     ]
    },
    {
     "data": {
      "text/html": [
       "<style>.container { width:80% !important; }</style>"
      ],
      "text/plain": [
       "<IPython.core.display.HTML object>"
      ]
     },
     "metadata": {},
     "output_type": "display_data"
    },
    {
     "name": "stdout",
     "output_type": "stream",
     "text": [
      "The autoreload extension is already loaded. To reload it, use:\n",
      "  %reload_ext autoreload\n",
      "[0.1792590697155767]\n",
      "[0.014876228510466997]\n",
      "[0.1941352982260437]\n",
      "[0.019327649796693044]\n"
     ]
    }
   ],
   "source": [
    "#200 scaling, gr 0.6\n",
    "from analysis_utils import *\n",
    "%load_ext autoreload\n",
    "%autoreload\n",
    "path = \"/Users/Akshay/Documents/TranslationDynamics/data/\"\n",
    "\n",
    "gr06_1e8 = dict()\n",
    "data = \"190927_0154/\"\n",
    "k=900\n",
    "gr30 = dict()\n",
    "\n",
    "for i in range(1,7):\n",
    "    sim_i = computeTransportRxnTimes(path+data, 1e15, 1e15, 100*(i-1),100*(i-1)+100,scaling=200)\n",
    "    gr30[i] = (CellLatencies(sim_i))\n",
    "\n",
    "print('i')\n",
    "gr = {3.0:gr30}\n",
    "\n",
    "#Figure 3\n",
    "from analysis_utils import *\n",
    "from IPython.core.display import display, HTML\n",
    "display(HTML(\"<style>.container { width:80% !important; }</style>\"))\n",
    "\n",
    "%load_ext autoreload\n",
    "%autoreload\n",
    "\n",
    "####### transport vs. reaction for different growth rates #####\n",
    "\n",
    "colors = ['darkblue','#D43F3A']\n",
    "gr_i_list = [3.0]\n",
    "phi_list = [0.13,0.22,0.30,0.36,0.39,0.42]\n",
    "markers = ['*','^']\n",
    "transport_phi = list()\n",
    "reaction_phi = list()\n",
    "search_phi = list()\n",
    "bootstrap_search_phi=list()\n",
    "search_list = list()\n",
    "for j,gr_i in enumerate(gr_i_list):\n",
    "    transport_vals_list = list()\n",
    "    reaction_vals_list = list()\n",
    "    search_vals_list = list()\n",
    "    bootstrap_vals_list = list()\n",
    "    for i in range(1,7):\n",
    "        transport_vals = gr[gr_i][i].avg_transportT*1/1608733*p_codon_count_hist_weighted_avg[i]/(1-p_codon_count_hist_weighted_avg[0])\n",
    "        rxn_vals = gr[gr_i][i].avg_rxnT*1/1608733*p_codon_count_hist_weighted_avg[i]/(1-p_codon_count_hist_weighted_avg[0])\n",
    "        search_vals = gr[gr_i][i].avg_searchT*1/1608733*p_codon_count_hist_weighted_avg[i]/(1-p_codon_count_hist_weighted_avg[0])\n",
    "        bootstrap_vals = gr[gr_i][i].bootstd_searchT*1/1608733*p_codon_count_hist_weighted_avg[i]/(1-p_codon_count_hist_weighted_avg[0])\n",
    "        \n",
    "        transport_vals_list.append(np.array(transport_vals))\n",
    "        reaction_vals_list.append(np.array(rxn_vals))\n",
    "        search_vals_list.append(np.array(search_vals))\n",
    "        bootstrap_vals_list.append(np.array(bootstrap_vals))\n",
    "        search_list.append(np.array(gr[gr_i][i].searchT)*1000/1608733)\n",
    "    transport_phi.append(np.sum(transport_vals_list))\n",
    "    reaction_phi.append(np.sum(reaction_vals_list))\n",
    "    search_phi.append(np.sum(search_vals_list))\n",
    "    bootstrap_search_phi.append(np.sum(bootstrap_vals_list))\n",
    "    \n",
    "print(transport_phi)\n",
    "print(reaction_phi)\n",
    "print(search_phi)\n",
    "print(bootstrap_search_phi)\n",
    "\n",
    "#############################################################################"
   ]
  },
  {
   "cell_type": "code",
   "execution_count": 118,
   "metadata": {
    "collapsed": false
   },
   "outputs": [
    {
     "name": "stdout",
     "output_type": "stream",
     "text": [
      "135.0922292545446\n",
      "113.30872995027447\n",
      "112.9663376418191\n",
      "91.48019887470618\n",
      "75.18461844459044\n",
      "47.69715086217275\n",
      "(0.0, 91.74011865181664)\n",
      "330.81858773499624\n",
      "208.48947852232786\n",
      "141.69721168200158\n",
      "106.00362521794307\n",
      "75.18461844459044\n",
      "50.802941690426316\n",
      "1109.5765309471162\n"
     ]
    },
    {
     "name": "stderr",
     "output_type": "stream",
     "text": [
      "/Users/Akshay/anaconda3/lib/python3.6/site-packages/ipykernel/__main__.py:16: MatplotlibDeprecationWarning: \n",
      "The 'normed' kwarg was deprecated in Matplotlib 2.1 and will be removed in 3.1. Use 'density' instead.\n"
     ]
    },
    {
     "data": {
      "image/png": "[encoded data removed]",
      "text/plain": [
       "<Figure size 432x288 with 1 Axes>"
      ]
     },
     "metadata": {
      "needs_background": "light"
     },
     "output_type": "display_data"
    },
    {
     "data": {
      "image/png": "[encoded data removed]",
      "text/plain": [
       "<Figure size 432x288 with 1 Axes>"
      ]
     },
     "metadata": {
      "needs_background": "light"
     },
     "output_type": "display_data"
    }
   ],
   "source": [
    "import scipy.stats as ss\n",
    "min_search=list()\n",
    "for i in range(0,6):\n",
    "    b = [k<340 for k in search_list[i]]\n",
    "    search_list_combined = np.array(search_list[i])\n",
    "    min_search.append(search_list_combined[b])\n",
    "    print(np.average(search_list_combined[b]))\n",
    "\n",
    "min_search = [k for b in min_search for k in b]\n",
    "P = ss.expon.fit(min_search)\n",
    "print(P)\n",
    "rX = np.linspace(0,340, 1000)\n",
    "rP = ss.expon.pdf(rX, *P)\n",
    "plt.plot(rX, rP)\n",
    "\n",
    "plt.hist(min_search, normed=True, bins=10)\n",
    "\n",
    "plt.title('Search time: phi = 0.13 (gr =0.6); Acc=10; ts=0.1e-3; res_steps=3')\n",
    "plt.ylabel('Probability')\n",
    "plt.xlabel('Elongation time (ms)')\n",
    "\n",
    "plt.figure()\n",
    "for i in range(0,6):\n",
    "    print(np.average(search_list[i]))\n",
    "\n",
    "search_list_combined = [k for b in search_list for k in b ]\n",
    "gr30hist = np.histogram(search_list_combined,bins=20,range=(0,1000))\n",
    "plt.bar(gr30hist[1][0:-1],gr30hist[0]/sum(gr30hist[0]),align='edge',width=25,color='darkblue')\n",
    "\n",
    "plt.title('Search time: phi = 0.13 (gr =0.6); Acc=10; ts=0.1e-3; res_steps=3')\n",
    "plt.ylabel('Probability')\n",
    "plt.xlabel('Elongation time (ms)')\n",
    "plt.ylim(0,0.7)\n",
    "print(max(search_list_combined))"
   ]
  },
  {
   "cell_type": "code",
   "execution_count": 119,
   "metadata": {
    "collapsed": false
   },
   "outputs": [
    {
     "name": "stdout",
     "output_type": "stream",
     "text": [
      "The autoreload extension is already loaded. To reload it, use:\n",
      "  %reload_ext autoreload\n",
      "test\n",
      "missing expt\n",
      "0\n",
      "missing expt\n",
      "6\n",
      "missing expt\n",
      "7\n",
      "missing expt\n",
      "11\n",
      "missing expt\n",
      "14\n",
      "missing expt\n",
      "16\n",
      "missing expt\n",
      "17\n",
      "missing expt\n",
      "19\n",
      "missing expt\n",
      "21\n",
      "missing expt\n",
      "22\n",
      "missing expt\n",
      "23\n",
      "missing expt\n",
      "25\n",
      "missing expt\n",
      "26\n",
      "missing expt\n",
      "30\n",
      "missing expt\n",
      "31\n",
      "missing expt\n",
      "34\n",
      "missing expt\n",
      "36\n",
      "missing expt\n",
      "38\n",
      "missing expt\n",
      "39\n",
      "missing expt\n",
      "42\n",
      "missing expt\n",
      "45\n",
      "missing expt\n",
      "48\n",
      "missing expt\n",
      "49\n",
      "missing expt\n",
      "50\n",
      "missing expt\n",
      "51\n",
      "missing expt\n",
      "53\n",
      "missing expt\n",
      "54\n",
      "missing expt\n",
      "55\n",
      "missing expt\n",
      "57\n",
      "missing expt\n",
      "59\n",
      "missing expt\n",
      "60\n",
      "missing expt\n",
      "63\n",
      "missing expt\n",
      "64\n",
      "missing expt\n",
      "66\n",
      "missing expt\n",
      "73\n",
      "missing expt\n",
      "76\n",
      "missing expt\n",
      "78\n",
      "missing expt\n",
      "79\n",
      "missing expt\n",
      "80\n",
      "missing expt\n",
      "81\n",
      "missing expt\n",
      "82\n",
      "missing expt\n",
      "83\n",
      "missing expt\n",
      "89\n",
      "missing expt\n",
      "91\n",
      "missing expt\n",
      "92\n",
      "test\n",
      "missing expt\n",
      "100\n",
      "missing expt\n",
      "102\n",
      "missing expt\n",
      "104\n",
      "missing expt\n",
      "114\n",
      "missing expt\n",
      "121\n",
      "missing expt\n",
      "128\n",
      "missing expt\n",
      "132\n",
      "missing expt\n",
      "141\n",
      "missing expt\n",
      "143\n",
      "missing expt\n",
      "174\n",
      "missing expt\n",
      "176\n",
      "missing expt\n",
      "184\n",
      "missing expt\n",
      "196\n",
      "missing expt\n",
      "199\n",
      "test\n",
      "missing expt\n",
      "268\n",
      "missing expt\n",
      "269\n",
      "missing expt\n",
      "289\n",
      "test\n",
      "missing expt\n",
      "323\n",
      "missing expt\n",
      "359\n",
      "missing expt\n",
      "382\n",
      "test\n",
      "test\n",
      "missing expt\n",
      "548\n",
      "i\n"
     ]
    },
    {
     "data": {
      "text/html": [
       "<style>.container { width:80% !important; }</style>"
      ],
      "text/plain": [
       "<IPython.core.display.HTML object>"
      ]
     },
     "metadata": {},
     "output_type": "display_data"
    },
    {
     "name": "stdout",
     "output_type": "stream",
     "text": [
      "The autoreload extension is already loaded. To reload it, use:\n",
      "  %reload_ext autoreload\n",
      "[0.11385303871423273]\n",
      "[0.008972459369098585]\n",
      "[0.1228254980833313]\n",
      "[0.011512493815075232]\n"
     ]
    }
   ],
   "source": [
    "#100 scaling, gr 0.6\n",
    "from analysis_utils import *\n",
    "%load_ext autoreload\n",
    "%autoreload\n",
    "path = \"/Users/Akshay/Documents/TranslationDynamics/data/\"\n",
    "\n",
    "gr06_1e8 = dict()\n",
    "data = \"190926_1825/\"\n",
    "k=900\n",
    "gr30 = dict()\n",
    "\n",
    "for i in range(1,7):\n",
    "    sim_i = computeTransportRxnTimes(path+data, 1e15, 1e15, 100*(i-1),100*(i-1)+100,scaling=100)\n",
    "    gr30[i] = (CellLatencies(sim_i))\n",
    "\n",
    "print('i')\n",
    "gr = {3.0:gr30}\n",
    "\n",
    "#Figure 3\n",
    "from analysis_utils import *\n",
    "from IPython.core.display import display, HTML\n",
    "display(HTML(\"<style>.container { width:80% !important; }</style>\"))\n",
    "\n",
    "%load_ext autoreload\n",
    "%autoreload\n",
    "\n",
    "####### transport vs. reaction for different growth rates #####\n",
    "\n",
    "colors = ['darkblue','#D43F3A']\n",
    "gr_i_list = [3.0]\n",
    "phi_list = [0.13,0.22,0.30,0.36,0.39,0.42]\n",
    "markers = ['*','^']\n",
    "transport_phi = list()\n",
    "reaction_phi = list()\n",
    "search_phi = list()\n",
    "bootstrap_search_phi=list()\n",
    "search_list = list()\n",
    "for j,gr_i in enumerate(gr_i_list):\n",
    "    transport_vals_list = list()\n",
    "    reaction_vals_list = list()\n",
    "    search_vals_list = list()\n",
    "    bootstrap_vals_list = list()\n",
    "    for i in range(1,7):\n",
    "        transport_vals = gr[gr_i][i].avg_transportT*1/1608733*p_codon_count_hist_weighted_avg[i]/(1-p_codon_count_hist_weighted_avg[0])\n",
    "        rxn_vals = gr[gr_i][i].avg_rxnT*1/1608733*p_codon_count_hist_weighted_avg[i]/(1-p_codon_count_hist_weighted_avg[0])\n",
    "        search_vals = gr[gr_i][i].avg_searchT*1/1608733*p_codon_count_hist_weighted_avg[i]/(1-p_codon_count_hist_weighted_avg[0])\n",
    "        bootstrap_vals = gr[gr_i][i].bootstd_searchT*1/1608733*p_codon_count_hist_weighted_avg[i]/(1-p_codon_count_hist_weighted_avg[0])\n",
    "        \n",
    "        transport_vals_list.append(np.array(transport_vals))\n",
    "        reaction_vals_list.append(np.array(rxn_vals))\n",
    "        search_vals_list.append(np.array(search_vals))\n",
    "        bootstrap_vals_list.append(np.array(bootstrap_vals))\n",
    "        search_list.append(np.array(gr[gr_i][i].searchT)*1000/1608733)\n",
    "    transport_phi.append(np.sum(transport_vals_list))\n",
    "    reaction_phi.append(np.sum(reaction_vals_list))\n",
    "    search_phi.append(np.sum(search_vals_list))\n",
    "    bootstrap_search_phi.append(np.sum(bootstrap_vals_list))\n",
    "    \n",
    "print(transport_phi)\n",
    "print(reaction_phi)\n",
    "print(search_phi)\n",
    "print(bootstrap_search_phi)\n",
    "\n",
    "#############################################################################"
   ]
  },
  {
   "cell_type": "code",
   "execution_count": 121,
   "metadata": {
    "collapsed": false
   },
   "outputs": [
    {
     "name": "stdout",
     "output_type": "stream",
     "text": [
      "133.4507452544205\n",
      "117.48701831275955\n",
      "94.42475968214998\n",
      "86.2407599375682\n",
      "80.11225197427059\n",
      "58.036036794093675\n",
      "(0.0, 90.40969116819073)\n",
      "169.2577711911092\n",
      "132.751821578884\n",
      "105.10385595767009\n",
      "92.58172867323495\n",
      "91.38169251570629\n",
      "58.036036794093675\n",
      "414.68210752864667\n"
     ]
    },
    {
     "name": "stderr",
     "output_type": "stream",
     "text": [
      "/Users/Akshay/anaconda3/lib/python3.6/site-packages/ipykernel/__main__.py:16: MatplotlibDeprecationWarning: \n",
      "The 'normed' kwarg was deprecated in Matplotlib 2.1 and will be removed in 3.1. Use 'density' instead.\n"
     ]
    },
    {
     "data": {
      "image/png": "[encoded data removed]",
      "text/plain": [
       "<Figure size 432x288 with 1 Axes>"
      ]
     },
     "metadata": {
      "needs_background": "light"
     },
     "output_type": "display_data"
    },
    {
     "data": {
      "image/png": "[encoded data removed]",
      "text/plain": [
       "<Figure size 432x288 with 1 Axes>"
      ]
     },
     "metadata": {
      "needs_background": "light"
     },
     "output_type": "display_data"
    }
   ],
   "source": [
    "import scipy.stats as ss\n",
    "min_search=list()\n",
    "for i in range(0,6):\n",
    "    b = [k<340 for k in search_list[i]]\n",
    "    search_list_combined = np.array(search_list[i])\n",
    "    min_search.append(search_list_combined[b])\n",
    "    print(np.average(search_list_combined[b]))\n",
    "\n",
    "min_search = [k for b in min_search for k in b]\n",
    "P = ss.expon.fit(min_search)\n",
    "print(P)\n",
    "rX = np.linspace(0,340, 1000)\n",
    "rP = ss.expon.pdf(rX, *P)\n",
    "plt.plot(rX, rP)\n",
    "\n",
    "plt.hist(min_search, normed=True, bins=10)\n",
    "\n",
    "plt.title('Search time: phi = 0.13 (gr =0.6); Acc=10; ts=0.1e-3; res_steps=3')\n",
    "plt.ylabel('Probability')\n",
    "plt.xlabel('Elongation time (ms)')\n",
    "\n",
    "plt.figure()\n",
    "for i in range(0,6):\n",
    "    print(np.average(search_list[i]))\n",
    "\n",
    "search_list_combined = [k for b in search_list for k in b ]\n",
    "gr30hist = np.histogram(search_list_combined,bins=20,range=(0,1000))\n",
    "plt.bar(gr30hist[1][0:-1],gr30hist[0]/sum(gr30hist[0]),align='edge',width=25,color='darkblue')\n",
    "\n",
    "plt.title('Search time: phi = 0.13 (gr =0.6); Acc=10; ts=0.1e-3; res_steps=3')\n",
    "plt.ylabel('Probability')\n",
    "plt.xlabel('Elongation time (ms)')\n",
    "plt.ylim(0,0.7)\n",
    "print(max(search_list_combined))"
   ]
  },
  {
   "cell_type": "code",
   "execution_count": 6,
   "metadata": {
    "collapsed": false
   },
   "outputs": [
    {
     "name": "stdout",
     "output_type": "stream",
     "text": [
      "The autoreload extension is already loaded. To reload it, use:\n",
      "  %reload_ext autoreload\n",
      "test\n",
      "missing expt\n",
      "61\n",
      "test\n",
      "test\n",
      "test\n",
      "test\n",
      "test\n",
      "i\n"
     ]
    },
    {
     "data": {
      "text/html": [
       "<style>.container { width:80% !important; }</style>"
      ],
      "text/plain": [
       "<IPython.core.display.HTML object>"
      ]
     },
     "metadata": {},
     "output_type": "display_data"
    },
    {
     "name": "stdout",
     "output_type": "stream",
     "text": [
      "The autoreload extension is already loaded. To reload it, use:\n",
      "  %reload_ext autoreload\n",
      "[0.06545722230757188]\n",
      "[0.01161857032608799]\n",
      "[0.07707579263365986]\n",
      "[0.007414324809186412]\n"
     ]
    }
   ],
   "source": [
    "#200 scaling, gr3.0\n",
    "from analysis_utils import *\n",
    "%load_ext autoreload\n",
    "%autoreload\n",
    "path = \"/Users/Akshay/Documents/TranslationDynamics/data/\"\n",
    "\n",
    "gr06_1e8 = dict()\n",
    "data = \"191001_0409/\"\n",
    "k=900\n",
    "gr30 = dict()\n",
    "\n",
    "for i in range(1,7):\n",
    "    sim_i = computeTransportRxnTimes(path+data, 1e15, 1e15, 100*(i-1),100*(i-1)+100,scaling=200)\n",
    "    gr30[i] = (CellLatencies(sim_i))\n",
    "\n",
    "print('i')\n",
    "gr = {3.0:gr30}\n",
    "\n",
    "#Figure 3\n",
    "from analysis_utils import *\n",
    "from IPython.core.display import display, HTML\n",
    "display(HTML(\"<style>.container { width:80% !important; }</style>\"))\n",
    "\n",
    "%load_ext autoreload\n",
    "%autoreload\n",
    "\n",
    "####### transport vs. reaction for different growth rates #####\n",
    "\n",
    "colors = ['darkblue','#D43F3A']\n",
    "gr_i_list = [3.0]\n",
    "phi_list = [0.13,0.22,0.30,0.36,0.39,0.42]\n",
    "markers = ['*','^']\n",
    "transport_phi = list()\n",
    "reaction_phi = list()\n",
    "search_phi = list()\n",
    "bootstrap_search_phi=list()\n",
    "search_list = list()\n",
    "for j,gr_i in enumerate(gr_i_list):\n",
    "    transport_vals_list = list()\n",
    "    reaction_vals_list = list()\n",
    "    search_vals_list = list()\n",
    "    bootstrap_vals_list = list()\n",
    "    for i in range(1,7):\n",
    "        transport_vals = gr[gr_i][i].avg_transportT*1/1608733*p_codon_count_hist_weighted_avg[i]/(1-p_codon_count_hist_weighted_avg[0])\n",
    "        rxn_vals = gr[gr_i][i].avg_rxnT*1/1608733*p_codon_count_hist_weighted_avg[i]/(1-p_codon_count_hist_weighted_avg[0])\n",
    "        search_vals = gr[gr_i][i].avg_searchT*1/1608733*p_codon_count_hist_weighted_avg[i]/(1-p_codon_count_hist_weighted_avg[0])\n",
    "        bootstrap_vals = gr[gr_i][i].bootstd_searchT*1/1608733*p_codon_count_hist_weighted_avg[i]/(1-p_codon_count_hist_weighted_avg[0])\n",
    "        \n",
    "        transport_vals_list.append(np.array(transport_vals))\n",
    "        reaction_vals_list.append(np.array(rxn_vals))\n",
    "        search_vals_list.append(np.array(search_vals))\n",
    "        bootstrap_vals_list.append(np.array(bootstrap_vals))\n",
    "        search_list.append(np.array(gr[gr_i][i].searchT)*1000/1608733)\n",
    "    transport_phi.append(np.sum(transport_vals_list))\n",
    "    reaction_phi.append(np.sum(reaction_vals_list))\n",
    "    search_phi.append(np.sum(search_vals_list))\n",
    "    bootstrap_search_phi.append(np.sum(bootstrap_vals_list))\n",
    "    \n",
    "print(transport_phi)\n",
    "print(reaction_phi)\n",
    "print(search_phi)\n",
    "print(bootstrap_search_phi)\n",
    "\n",
    "#############################################################################"
   ]
  },
  {
   "cell_type": "code",
   "execution_count": 90,
   "metadata": {
    "collapsed": false
   },
   "outputs": [
    {
     "name": "stdout",
     "output_type": "stream",
     "text": [
      "107.23248612174719\n",
      "80.2697782571445\n",
      "51.81599730281488\n",
      "40.90626200420116\n",
      "27.568077733656\n",
      "20.024475781670166\n",
      "(3.729643141528146e-05, 53.74467941357861)\n",
      "107.23248612174719\n",
      "80.2697782571445\n",
      "51.81599730281488\n",
      "40.90626200420116\n",
      "27.568077733656\n",
      "20.024475781670166\n",
      "378.3995357304914\n"
     ]
    },
    {
     "name": "stderr",
     "output_type": "stream",
     "text": [
      "/Users/Akshay/anaconda3/lib/python3.6/site-packages/ipykernel/__main__.py:16: MatplotlibDeprecationWarning: \n",
      "The 'normed' kwarg was deprecated in Matplotlib 2.1 and will be removed in 3.1. Use 'density' instead.\n"
     ]
    },
    {
     "data": {
      "image/png": "[encoded data removed]",
      "text/plain": [
       "<Figure size 432x288 with 1 Axes>"
      ]
     },
     "metadata": {
      "needs_background": "light"
     },
     "output_type": "display_data"
    },
    {
     "data": {
      "image/png": "[encoded data removed]",
      "text/plain": [
       "<Figure size 432x288 with 1 Axes>"
      ]
     },
     "metadata": {
      "needs_background": "light"
     },
     "output_type": "display_data"
    }
   ],
   "source": [
    "import scipy.stats as ss\n",
    "min_search=list()\n",
    "for i in range(0,6):\n",
    "    b = [k<800 for k in search_list[i]]\n",
    "    search_list_combined = np.array(search_list[i])\n",
    "    min_search.append(search_list_combined[b])\n",
    "    print(np.average(search_list_combined[b]))\n",
    "\n",
    "min_search = [k for b in min_search for k in b]\n",
    "P = ss.expon.fit(min_search)\n",
    "print(P)\n",
    "rX = np.linspace(0,800, 1000)\n",
    "rP = ss.expon.pdf(rX, *P)\n",
    "plt.plot(rX, rP)\n",
    "\n",
    "plt.hist(min_search, normed=True, bins=10)\n",
    "\n",
    "plt.title('Search time: phi = 0.13 (gr =0.6); Acc=10; ts=0.1e-3; res_steps=3')\n",
    "plt.ylabel('Probability')\n",
    "plt.xlabel('Elongation time (ms)')\n",
    "\n",
    "plt.figure()\n",
    "for i in range(0,6):\n",
    "    print(np.average(search_list[i]))\n",
    "\n",
    "search_list_combined = [k for b in search_list for k in b ]\n",
    "gr30hist = np.histogram(search_list_combined,bins=20,range=(0,1000))\n",
    "plt.bar(gr30hist[1][0:-1],gr30hist[0]/sum(gr30hist[0]),align='edge',width=25,color='darkblue')\n",
    "\n",
    "plt.title('Search time: phi = 0.13 (gr =0.6); Acc=10; ts=0.1e-3; res_steps=3')\n",
    "plt.ylabel('Probability')\n",
    "plt.xlabel('Elongation time (ms)')\n",
    "plt.ylim(0,0.7)\n",
    "print(max(search_list_combined))"
   ]
  },
  {
   "cell_type": "code",
   "execution_count": 91,
   "metadata": {
    "collapsed": false
   },
   "outputs": [
    {
     "name": "stdout",
     "output_type": "stream",
     "text": [
      "The autoreload extension is already loaded. To reload it, use:\n",
      "  %reload_ext autoreload\n",
      "test\n",
      "missing expt\n",
      "5\n",
      "missing expt\n",
      "6\n",
      "missing expt\n",
      "7\n",
      "missing expt\n",
      "11\n",
      "missing expt\n",
      "13\n",
      "missing expt\n",
      "18\n",
      "missing expt\n",
      "19\n",
      "missing expt\n",
      "20\n",
      "missing expt\n",
      "21\n",
      "missing expt\n",
      "22\n",
      "missing expt\n",
      "23\n",
      "missing expt\n",
      "27\n",
      "missing expt\n",
      "32\n",
      "missing expt\n",
      "33\n",
      "missing expt\n",
      "35\n",
      "missing expt\n",
      "37\n",
      "missing expt\n",
      "43\n",
      "missing expt\n",
      "45\n",
      "missing expt\n",
      "49\n",
      "missing expt\n",
      "50\n",
      "missing expt\n",
      "52\n",
      "missing expt\n",
      "56\n",
      "missing expt\n",
      "61\n",
      "missing expt\n",
      "63\n",
      "missing expt\n",
      "65\n",
      "missing expt\n",
      "66\n",
      "missing expt\n",
      "67\n",
      "missing expt\n",
      "75\n",
      "missing expt\n",
      "79\n",
      "missing expt\n",
      "86\n",
      "missing expt\n",
      "89\n",
      "missing expt\n",
      "92\n",
      "missing expt\n",
      "94\n",
      "missing expt\n",
      "95\n",
      "test\n",
      "missing expt\n",
      "160\n",
      "missing expt\n",
      "181\n",
      "missing expt\n",
      "183\n",
      "missing expt\n",
      "194\n",
      "missing expt\n",
      "196\n",
      "test\n",
      "missing expt\n",
      "271\n",
      "test\n",
      "missing expt\n",
      "389\n",
      "test\n",
      "test\n",
      "i\n"
     ]
    },
    {
     "data": {
      "text/html": [
       "<style>.container { width:80% !important; }</style>"
      ],
      "text/plain": [
       "<IPython.core.display.HTML object>"
      ]
     },
     "metadata": {},
     "output_type": "display_data"
    },
    {
     "name": "stdout",
     "output_type": "stream",
     "text": [
      "The autoreload extension is already loaded. To reload it, use:\n",
      "  %reload_ext autoreload\n",
      "[0.04453595506928975]\n",
      "[0.00737799176856757]\n",
      "[0.05191394683785731]\n",
      "[0.00459169664440017]\n"
     ]
    }
   ],
   "source": [
    "#100 scaling, gr 3.0 crowders\n",
    "from analysis_utils import *\n",
    "%load_ext autoreload\n",
    "%autoreload\n",
    "path = \"/Users/Akshay/Documents/TranslationDynamics/data/\"\n",
    "\n",
    "gr06_1e8 = dict()\n",
    "data = \"191001_0339/\"\n",
    "k=900\n",
    "gr30 = dict()\n",
    "\n",
    "for i in range(1,7):\n",
    "    sim_i = computeTransportRxnTimes(path+data, 1e15, 1e15, 100*(i-1),100*(i-1)+100,scaling=100)\n",
    "    gr30[i] = (CellLatencies(sim_i))\n",
    "\n",
    "print('i')\n",
    "gr = {3.0:gr30}\n",
    "\n",
    "#Figure 3\n",
    "from analysis_utils import *\n",
    "from IPython.core.display import display, HTML\n",
    "display(HTML(\"<style>.container { width:80% !important; }</style>\"))\n",
    "\n",
    "%load_ext autoreload\n",
    "%autoreload\n",
    "\n",
    "####### transport vs. reaction for different growth rates #####\n",
    "\n",
    "colors = ['darkblue','#D43F3A']\n",
    "gr_i_list = [3.0]\n",
    "phi_list = [0.13,0.22,0.30,0.36,0.39,0.42]\n",
    "markers = ['*','^']\n",
    "transport_phi = list()\n",
    "reaction_phi = list()\n",
    "search_phi = list()\n",
    "bootstrap_search_phi=list()\n",
    "search_list = list()\n",
    "for j,gr_i in enumerate(gr_i_list):\n",
    "    transport_vals_list = list()\n",
    "    reaction_vals_list = list()\n",
    "    search_vals_list = list()\n",
    "    bootstrap_vals_list = list()\n",
    "    for i in range(1,7):\n",
    "        transport_vals = gr[gr_i][i].avg_transportT*1/1608733*p_codon_count_hist_weighted_avg[i]/(1-p_codon_count_hist_weighted_avg[0])\n",
    "        rxn_vals = gr[gr_i][i].avg_rxnT*1/1608733*p_codon_count_hist_weighted_avg[i]/(1-p_codon_count_hist_weighted_avg[0])\n",
    "        search_vals = gr[gr_i][i].avg_searchT*1/1608733*p_codon_count_hist_weighted_avg[i]/(1-p_codon_count_hist_weighted_avg[0])\n",
    "        bootstrap_vals = gr[gr_i][i].bootstd_searchT*1/1608733*p_codon_count_hist_weighted_avg[i]/(1-p_codon_count_hist_weighted_avg[0])\n",
    "        \n",
    "        transport_vals_list.append(np.array(transport_vals))\n",
    "        reaction_vals_list.append(np.array(rxn_vals))\n",
    "        search_vals_list.append(np.array(search_vals))\n",
    "        bootstrap_vals_list.append(np.array(bootstrap_vals))\n",
    "        search_list.append(np.array(gr[gr_i][i].searchT)*1000/1608733)\n",
    "    transport_phi.append(np.sum(transport_vals_list))\n",
    "    reaction_phi.append(np.sum(reaction_vals_list))\n",
    "    search_phi.append(np.sum(search_vals_list))\n",
    "    bootstrap_search_phi.append(np.sum(bootstrap_vals_list))\n",
    "    \n",
    "print(transport_phi)\n",
    "print(reaction_phi)\n",
    "print(search_phi)\n",
    "print(bootstrap_search_phi)\n",
    "\n",
    "#############################################################################"
   ]
  },
  {
   "cell_type": "code",
   "execution_count": 92,
   "metadata": {
    "collapsed": false
   },
   "outputs": [
    {
     "name": "stdout",
     "output_type": "stream",
     "text": [
      "44.852628371038186\n",
      "38.06939945314972\n",
      "30.956301079370764\n",
      "27.491636932575304\n",
      "25.2379294089267\n",
      "22.41745365472435\n",
      "(7.459286283056292e-05, 29.82506195606589)\n",
      "74.52375216227216\n",
      "60.757265303550476\n",
      "38.70399640810261\n",
      "39.14305671833912\n",
      "28.289971856061474\n",
      "23.309195059244395\n",
      "180.58124631565056\n"
     ]
    },
    {
     "name": "stderr",
     "output_type": "stream",
     "text": [
      "/Users/Akshay/anaconda3/lib/python3.6/site-packages/ipykernel/__main__.py:16: MatplotlibDeprecationWarning: \n",
      "The 'normed' kwarg was deprecated in Matplotlib 2.1 and will be removed in 3.1. Use 'density' instead.\n"
     ]
    },
    {
     "data": {
      "image/png": "[encoded data removed]",
      "text/plain": [
       "<Figure size 432x288 with 1 Axes>"
      ]
     },
     "metadata": {
      "needs_background": "light"
     },
     "output_type": "display_data"
    },
    {
     "data": {
      "image/png": "[encoded data removed]",
      "text/plain": [
       "<Figure size 432x288 with 1 Axes>"
      ]
     },
     "metadata": {
      "needs_background": "light"
     },
     "output_type": "display_data"
    }
   ],
   "source": [
    "import scipy.stats as ss\n",
    "min_search=list()\n",
    "for i in range(0,6):\n",
    "    b = [k<100 for k in search_list[i]]\n",
    "    search_list_combined = np.array(search_list[i])\n",
    "    min_search.append(search_list_combined[b])\n",
    "    print(np.average(search_list_combined[b]))\n",
    "\n",
    "min_search = [k for b in min_search for k in b]\n",
    "P = ss.expon.fit(min_search)\n",
    "print(P)\n",
    "rX = np.linspace(0,100, 1000)\n",
    "rP = ss.expon.pdf(rX, *P)\n",
    "plt.plot(rX, rP)\n",
    "\n",
    "plt.hist(min_search, normed=True, bins=10)\n",
    "\n",
    "plt.title('Search time: phi = 0.13 (gr =0.6); Acc=10; ts=0.1e-3; res_steps=3')\n",
    "plt.ylabel('Probability')\n",
    "plt.xlabel('Elongation time (ms)')\n",
    "\n",
    "plt.figure()\n",
    "for i in range(0,6):\n",
    "    print(np.average(search_list[i]))\n",
    "\n",
    "search_list_combined = [k for b in search_list for k in b ]\n",
    "gr30hist = np.histogram(search_list_combined,bins=20,range=(0,1000))\n",
    "plt.bar(gr30hist[1][0:-1],gr30hist[0]/sum(gr30hist[0]),align='edge',width=25,color='darkblue')\n",
    "\n",
    "plt.title('Search time: phi = 0.13 (gr =0.6); Acc=10; ts=0.1e-3; res_steps=3')\n",
    "plt.ylabel('Probability')\n",
    "plt.xlabel('Elongation time (ms)')\n",
    "plt.ylim(0,0.7)\n",
    "print(max(search_list_combined))"
   ]
  },
  {
   "cell_type": "code",
   "execution_count": 114,
   "metadata": {
    "collapsed": false
   },
   "outputs": [
    {
     "name": "stdout",
     "output_type": "stream",
     "text": [
      "The autoreload extension is already loaded. To reload it, use:\n",
      "  %reload_ext autoreload\n",
      "test\n",
      "missing expt\n",
      "3\n",
      "missing expt\n",
      "4\n",
      "missing expt\n",
      "12\n",
      "missing expt\n",
      "13\n",
      "missing expt\n",
      "17\n",
      "missing expt\n",
      "21\n",
      "missing expt\n",
      "24\n",
      "missing expt\n",
      "25\n",
      "missing expt\n",
      "26\n",
      "missing expt\n",
      "27\n",
      "missing expt\n",
      "29\n",
      "missing expt\n",
      "31\n",
      "missing expt\n",
      "33\n",
      "missing expt\n",
      "34\n",
      "missing expt\n",
      "35\n",
      "missing expt\n",
      "37\n",
      "missing expt\n",
      "39\n",
      "missing expt\n",
      "40\n",
      "missing expt\n",
      "43\n",
      "missing expt\n",
      "44\n",
      "missing expt\n",
      "45\n",
      "missing expt\n",
      "46\n",
      "missing expt\n",
      "47\n",
      "missing expt\n",
      "49\n",
      "missing expt\n",
      "50\n",
      "missing expt\n",
      "51\n",
      "missing expt\n",
      "56\n",
      "missing expt\n",
      "57\n",
      "missing expt\n",
      "58\n",
      "missing expt\n",
      "61\n",
      "missing expt\n",
      "63\n",
      "missing expt\n",
      "70\n",
      "missing expt\n",
      "72\n",
      "missing expt\n",
      "73\n",
      "missing expt\n",
      "74\n",
      "missing expt\n",
      "75\n",
      "missing expt\n",
      "77\n",
      "missing expt\n",
      "79\n",
      "missing expt\n",
      "80\n",
      "missing expt\n",
      "88\n",
      "missing expt\n",
      "89\n",
      "missing expt\n",
      "90\n",
      "missing expt\n",
      "91\n",
      "missing expt\n",
      "95\n",
      "missing expt\n",
      "98\n",
      "test\n",
      "missing expt\n",
      "101\n",
      "missing expt\n",
      "104\n",
      "missing expt\n",
      "108\n",
      "missing expt\n",
      "110\n",
      "missing expt\n",
      "113\n",
      "missing expt\n",
      "119\n",
      "missing expt\n",
      "127\n",
      "missing expt\n",
      "130\n",
      "missing expt\n",
      "136\n",
      "missing expt\n",
      "139\n",
      "missing expt\n",
      "144\n",
      "missing expt\n",
      "146\n",
      "missing expt\n",
      "152\n",
      "missing expt\n",
      "153\n",
      "missing expt\n",
      "154\n",
      "missing expt\n",
      "162\n",
      "missing expt\n",
      "165\n",
      "missing expt\n",
      "166\n",
      "missing expt\n",
      "167\n",
      "missing expt\n",
      "168\n",
      "missing expt\n",
      "173\n",
      "missing expt\n",
      "177\n",
      "missing expt\n",
      "191\n",
      "missing expt\n",
      "193\n",
      "missing expt\n",
      "197\n",
      "test\n",
      "missing expt\n",
      "214\n",
      "missing expt\n",
      "247\n",
      "missing expt\n",
      "265\n",
      "missing expt\n",
      "274\n",
      "test\n",
      "missing expt\n",
      "302\n",
      "missing expt\n",
      "363\n",
      "missing expt\n",
      "385\n",
      "test\n",
      "missing expt\n",
      "409\n",
      "missing expt\n",
      "442\n",
      "test\n",
      "i\n"
     ]
    },
    {
     "data": {
      "text/html": [
       "<style>.container { width:80% !important; }</style>"
      ],
      "text/plain": [
       "<IPython.core.display.HTML object>"
      ]
     },
     "metadata": {},
     "output_type": "display_data"
    },
    {
     "name": "stdout",
     "output_type": "stream",
     "text": [
      "The autoreload extension is already loaded. To reload it, use:\n",
      "  %reload_ext autoreload\n",
      "[0.10774406456442301]\n",
      "[0.007738098097735372]\n",
      "[0.11548216266215838]\n",
      "[0.010379574800960169]\n"
     ]
    }
   ],
   "source": [
    "#200 scaling, gr 0.6\n",
    "from analysis_utils import *\n",
    "%load_ext autoreload\n",
    "%autoreload\n",
    "path = \"/Users/Akshay/Documents/TranslationDynamics/data/\"\n",
    "\n",
    "gr06_1e8 = dict()\n",
    "data = \"191001_0439/\"\n",
    "k=900\n",
    "gr30 = dict()\n",
    "\n",
    "for i in range(1,7):\n",
    "    sim_i = computeTransportRxnTimes(path+data, 1e15, 1e15, 100*(i-1),100*(i-1)+100,scaling=200)\n",
    "    gr30[i] = (CellLatencies(sim_i))\n",
    "\n",
    "print('i')\n",
    "gr = {3.0:gr30}\n",
    "\n",
    "#Figure 3\n",
    "from analysis_utils import *\n",
    "from IPython.core.display import display, HTML\n",
    "display(HTML(\"<style>.container { width:80% !important; }</style>\"))\n",
    "\n",
    "%load_ext autoreload\n",
    "%autoreload\n",
    "\n",
    "####### transport vs. reaction for different growth rates #####\n",
    "\n",
    "colors = ['darkblue','#D43F3A']\n",
    "gr_i_list = [3.0]\n",
    "phi_list = [0.13,0.22,0.30,0.36,0.39,0.42]\n",
    "markers = ['*','^']\n",
    "transport_phi = list()\n",
    "reaction_phi = list()\n",
    "search_phi = list()\n",
    "bootstrap_search_phi=list()\n",
    "search_list = list()\n",
    "for j,gr_i in enumerate(gr_i_list):\n",
    "    transport_vals_list = list()\n",
    "    reaction_vals_list = list()\n",
    "    search_vals_list = list()\n",
    "    bootstrap_vals_list = list()\n",
    "    for i in range(1,7):\n",
    "        transport_vals = gr[gr_i][i].avg_transportT*1/1608733*p_codon_count_hist_weighted_avg[i]/(1-p_codon_count_hist_weighted_avg[0])\n",
    "        rxn_vals = gr[gr_i][i].avg_rxnT*1/1608733*p_codon_count_hist_weighted_avg[i]/(1-p_codon_count_hist_weighted_avg[0])\n",
    "        search_vals = gr[gr_i][i].avg_searchT*1/1608733*p_codon_count_hist_weighted_avg[i]/(1-p_codon_count_hist_weighted_avg[0])\n",
    "        bootstrap_vals = gr[gr_i][i].bootstd_searchT*1/1608733*p_codon_count_hist_weighted_avg[i]/(1-p_codon_count_hist_weighted_avg[0])\n",
    "        \n",
    "        transport_vals_list.append(np.array(transport_vals))\n",
    "        reaction_vals_list.append(np.array(rxn_vals))\n",
    "        search_vals_list.append(np.array(search_vals))\n",
    "        bootstrap_vals_list.append(np.array(bootstrap_vals))\n",
    "        search_list.append(np.array(gr[gr_i][i].searchT)*1000/1608733)\n",
    "    transport_phi.append(np.sum(transport_vals_list))\n",
    "    reaction_phi.append(np.sum(reaction_vals_list))\n",
    "    search_phi.append(np.sum(search_vals_list))\n",
    "    bootstrap_search_phi.append(np.sum(bootstrap_vals_list))\n",
    "    \n",
    "print(transport_phi)\n",
    "print(reaction_phi)\n",
    "print(search_phi)\n",
    "print(bootstrap_search_phi)\n",
    "\n",
    "#############################################################################"
   ]
  },
  {
   "cell_type": "code",
   "execution_count": 116,
   "metadata": {
    "collapsed": false
   },
   "outputs": [
    {
     "name": "stdout",
     "output_type": "stream",
     "text": [
      "161.96568166277052\n",
      "126.4015384331486\n",
      "92.35456538351538\n",
      "72.07662857332743\n",
      "84.21924581982647\n",
      "52.18169664515705\n",
      "(3.729643141528146e-05, 91.3147676234883)\n",
      "168.5573693899561\n",
      "126.4015384331486\n",
      "94.97119561861217\n",
      "72.07662857332743\n",
      "84.21924581982647\n",
      "52.18169664515705\n",
      "345.39665700083793\n"
     ]
    },
    {
     "name": "stderr",
     "output_type": "stream",
     "text": [
      "/Users/Akshay/anaconda3/lib/python3.6/site-packages/ipykernel/__main__.py:16: MatplotlibDeprecationWarning: \n",
      "The 'normed' kwarg was deprecated in Matplotlib 2.1 and will be removed in 3.1. Use 'density' instead.\n"
     ]
    },
    {
     "data": {
      "image/png": "[encoded data removed]",
      "text/plain": [
       "<Figure size 432x288 with 1 Axes>"
      ]
     },
     "metadata": {
      "needs_background": "light"
     },
     "output_type": "display_data"
    },
    {
     "data": {
      "image/png": "[encoded data removed]",
      "text/plain": [
       "<Figure size 432x288 with 1 Axes>"
      ]
     },
     "metadata": {
      "needs_background": "light"
     },
     "output_type": "display_data"
    }
   ],
   "source": [
    "import scipy.stats as ss\n",
    "min_search=list()\n",
    "for i in range(0,6):\n",
    "    b = [k<340 for k in search_list[i]]\n",
    "    search_list_combined = np.array(search_list[i])\n",
    "    min_search.append(search_list_combined[b])\n",
    "    print(np.average(search_list_combined[b]))\n",
    "\n",
    "min_search = [k for b in min_search for k in b]\n",
    "P = ss.expon.fit(min_search)\n",
    "print(P)\n",
    "rX = np.linspace(0,340, 1000)\n",
    "rP = ss.expon.pdf(rX, *P)\n",
    "plt.plot(rX, rP)\n",
    "\n",
    "plt.hist(min_search, normed=True, bins=10)\n",
    "\n",
    "plt.title('Search time: phi = 0.13 (gr =0.6); Acc=10; ts=0.1e-3; res_steps=3')\n",
    "plt.ylabel('Probability')\n",
    "plt.xlabel('Elongation time (ms)')\n",
    "\n",
    "plt.figure()\n",
    "for i in range(0,6):\n",
    "    print(np.average(search_list[i]))\n",
    "\n",
    "search_list_combined = [k for b in search_list for k in b ]\n",
    "gr30hist = np.histogram(search_list_combined,bins=20,range=(0,1000))\n",
    "plt.bar(gr30hist[1][0:-1],gr30hist[0]/sum(gr30hist[0]),align='edge',width=25,color='darkblue')\n",
    "\n",
    "plt.title('Search time: phi = 0.13 (gr =0.6); Acc=10; ts=0.1e-3; res_steps=3')\n",
    "plt.ylabel('Probability')\n",
    "plt.xlabel('Elongation time (ms)')\n",
    "plt.ylim(0,0.7)\n",
    "print(max(search_list_combined))"
   ]
  },
  {
   "cell_type": "code",
   "execution_count": 95,
   "metadata": {
    "collapsed": false
   },
   "outputs": [
    {
     "name": "stdout",
     "output_type": "stream",
     "text": [
      "The autoreload extension is already loaded. To reload it, use:\n",
      "  %reload_ext autoreload\n",
      "test\n",
      "missing expt\n",
      "0\n",
      "missing expt\n",
      "1\n",
      "missing expt\n",
      "2\n",
      "missing expt\n",
      "3\n",
      "missing expt\n",
      "4\n",
      "missing expt\n",
      "5\n",
      "missing expt\n",
      "6\n",
      "missing expt\n",
      "7\n",
      "missing expt\n",
      "9\n",
      "missing expt\n",
      "10\n",
      "missing expt\n",
      "11\n",
      "missing expt\n",
      "13\n",
      "missing expt\n",
      "14\n",
      "missing expt\n",
      "15\n",
      "missing expt\n",
      "16\n",
      "missing expt\n",
      "17\n",
      "missing expt\n",
      "18\n",
      "missing expt\n",
      "20\n",
      "missing expt\n",
      "21\n",
      "missing expt\n",
      "23\n",
      "missing expt\n",
      "26\n",
      "missing expt\n",
      "27\n",
      "missing expt\n",
      "29\n",
      "missing expt\n",
      "30\n",
      "missing expt\n",
      "31\n",
      "missing expt\n",
      "32\n",
      "missing expt\n",
      "33\n",
      "missing expt\n",
      "34\n",
      "missing expt\n",
      "35\n",
      "missing expt\n",
      "36\n",
      "missing expt\n",
      "37\n",
      "missing expt\n",
      "38\n",
      "missing expt\n",
      "39\n",
      "missing expt\n",
      "42\n",
      "missing expt\n",
      "44\n",
      "missing expt\n",
      "45\n",
      "missing expt\n",
      "46\n",
      "missing expt\n",
      "47\n",
      "missing expt\n",
      "48\n",
      "missing expt\n",
      "49\n",
      "missing expt\n",
      "50\n",
      "missing expt\n",
      "51\n",
      "missing expt\n",
      "52\n",
      "missing expt\n",
      "53\n",
      "missing expt\n",
      "54\n",
      "missing expt\n",
      "55\n",
      "missing expt\n",
      "57\n",
      "missing expt\n",
      "58\n",
      "missing expt\n",
      "59\n",
      "missing expt\n",
      "60\n",
      "missing expt\n",
      "61\n",
      "missing expt\n",
      "62\n",
      "missing expt\n",
      "64\n",
      "missing expt\n",
      "65\n",
      "missing expt\n",
      "66\n",
      "missing expt\n",
      "67\n",
      "missing expt\n",
      "68\n",
      "missing expt\n",
      "72\n",
      "missing expt\n",
      "73\n",
      "missing expt\n",
      "74\n",
      "missing expt\n",
      "75\n",
      "missing expt\n",
      "76\n",
      "missing expt\n",
      "77\n",
      "missing expt\n",
      "78\n",
      "missing expt\n",
      "79\n",
      "missing expt\n",
      "81\n",
      "missing expt\n",
      "82\n",
      "missing expt\n",
      "83\n",
      "missing expt\n",
      "84\n",
      "missing expt\n",
      "85\n",
      "missing expt\n",
      "87\n",
      "missing expt\n",
      "89\n",
      "missing expt\n",
      "90\n",
      "missing expt\n",
      "91\n",
      "missing expt\n",
      "92\n",
      "missing expt\n",
      "94\n",
      "missing expt\n",
      "95\n",
      "missing expt\n",
      "96\n",
      "missing expt\n",
      "98\n",
      "test\n",
      "missing expt\n",
      "100\n",
      "missing expt\n",
      "103\n",
      "missing expt\n",
      "104\n",
      "missing expt\n",
      "107\n",
      "missing expt\n",
      "109\n",
      "missing expt\n",
      "112\n",
      "missing expt\n",
      "113\n",
      "missing expt\n",
      "114\n",
      "missing expt\n",
      "115\n",
      "missing expt\n",
      "116\n",
      "missing expt\n",
      "119\n",
      "missing expt\n",
      "123\n",
      "missing expt\n",
      "124\n",
      "missing expt\n",
      "125\n",
      "missing expt\n",
      "127\n",
      "missing expt\n",
      "128\n",
      "missing expt\n",
      "129\n",
      "missing expt\n",
      "130\n",
      "missing expt\n",
      "131\n",
      "missing expt\n",
      "132\n",
      "missing expt\n",
      "133\n",
      "missing expt\n",
      "135\n",
      "missing expt\n",
      "136\n",
      "missing expt\n",
      "138\n",
      "missing expt\n",
      "140\n",
      "missing expt\n",
      "142\n",
      "missing expt\n",
      "144\n",
      "missing expt\n",
      "145\n",
      "missing expt\n",
      "146\n",
      "missing expt\n",
      "148\n",
      "missing expt\n",
      "149\n",
      "missing expt\n",
      "151\n",
      "missing expt\n",
      "152\n",
      "missing expt\n",
      "153\n",
      "missing expt\n",
      "154\n",
      "missing expt\n",
      "155\n",
      "missing expt\n",
      "156\n",
      "missing expt\n",
      "157\n",
      "missing expt\n",
      "158\n",
      "missing expt\n",
      "159\n",
      "missing expt\n",
      "161\n",
      "missing expt\n",
      "162\n",
      "missing expt\n",
      "163\n",
      "missing expt\n",
      "164\n",
      "missing expt\n",
      "165\n",
      "missing expt\n",
      "167\n",
      "missing expt\n",
      "168\n",
      "missing expt\n",
      "169\n",
      "missing expt\n",
      "171\n",
      "missing expt\n",
      "172\n",
      "missing expt\n",
      "174\n",
      "missing expt\n",
      "175\n",
      "missing expt\n",
      "182\n",
      "missing expt\n",
      "183\n",
      "missing expt\n",
      "187\n",
      "missing expt\n",
      "188\n",
      "missing expt\n",
      "189\n",
      "missing expt\n",
      "191\n",
      "missing expt\n",
      "192\n",
      "missing expt\n",
      "194\n",
      "missing expt\n",
      "195\n",
      "missing expt\n",
      "198\n",
      "missing expt\n",
      "199\n",
      "test\n",
      "missing expt\n",
      "202\n",
      "missing expt\n",
      "203\n",
      "missing expt\n",
      "205\n",
      "missing expt\n",
      "207\n",
      "missing expt\n",
      "208\n",
      "missing expt\n",
      "210\n",
      "missing expt\n",
      "211\n",
      "missing expt\n",
      "216\n",
      "missing expt\n",
      "219\n",
      "missing expt\n",
      "220\n",
      "missing expt\n",
      "221\n",
      "missing expt\n",
      "226\n",
      "missing expt\n",
      "227\n",
      "missing expt\n",
      "234\n",
      "missing expt\n",
      "235\n",
      "missing expt\n",
      "236\n",
      "missing expt\n",
      "238\n",
      "missing expt\n",
      "240\n",
      "missing expt\n",
      "241\n",
      "missing expt\n",
      "242\n",
      "missing expt\n",
      "243\n",
      "missing expt\n",
      "248\n",
      "missing expt\n",
      "252\n",
      "missing expt\n",
      "254\n",
      "missing expt\n",
      "256\n",
      "missing expt\n",
      "259\n",
      "missing expt\n",
      "263\n",
      "missing expt\n",
      "264\n",
      "missing expt\n",
      "265\n",
      "missing expt\n",
      "267\n",
      "missing expt\n",
      "269\n",
      "missing expt\n",
      "270\n",
      "missing expt\n",
      "275\n",
      "missing expt\n",
      "276\n",
      "missing expt\n",
      "278\n",
      "missing expt\n",
      "283\n",
      "missing expt\n",
      "284\n",
      "missing expt\n",
      "285\n",
      "missing expt\n",
      "288\n",
      "missing expt\n",
      "290\n",
      "missing expt\n",
      "293\n",
      "missing expt\n",
      "298\n",
      "test\n",
      "missing expt\n",
      "303\n",
      "missing expt\n",
      "308\n",
      "missing expt\n",
      "310\n",
      "missing expt\n",
      "312\n",
      "missing expt\n",
      "314\n",
      "missing expt\n",
      "317\n",
      "missing expt\n",
      "320\n",
      "missing expt\n",
      "321\n",
      "missing expt\n",
      "325\n",
      "missing expt\n",
      "326\n",
      "missing expt\n",
      "327\n",
      "missing expt\n",
      "328\n",
      "missing expt\n",
      "330\n",
      "missing expt\n",
      "331\n",
      "missing expt\n",
      "333\n",
      "missing expt\n",
      "335\n",
      "missing expt\n",
      "340\n",
      "missing expt\n",
      "345\n",
      "missing expt\n",
      "349\n",
      "missing expt\n",
      "351\n",
      "missing expt\n",
      "353\n",
      "missing expt\n",
      "355\n",
      "missing expt\n",
      "357\n",
      "missing expt\n",
      "358\n",
      "missing expt\n",
      "361\n",
      "missing expt\n",
      "362\n",
      "missing expt\n",
      "363\n",
      "missing expt\n",
      "366\n",
      "missing expt\n",
      "367\n",
      "missing expt\n",
      "370\n",
      "missing expt\n",
      "371\n",
      "missing expt\n",
      "373\n",
      "missing expt\n",
      "384\n",
      "missing expt\n",
      "386\n",
      "missing expt\n",
      "392\n",
      "missing expt\n",
      "395\n",
      "missing expt\n",
      "398\n",
      "missing expt\n",
      "399\n",
      "test\n",
      "missing expt\n",
      "402\n",
      "missing expt\n",
      "410\n",
      "missing expt\n",
      "421\n",
      "missing expt\n",
      "423\n",
      "missing expt\n",
      "424\n",
      "missing expt\n",
      "426\n",
      "missing expt\n",
      "427\n",
      "missing expt\n",
      "435\n",
      "missing expt\n",
      "438\n",
      "missing expt\n",
      "448\n",
      "missing expt\n",
      "451\n",
      "missing expt\n",
      "454\n",
      "missing expt\n",
      "459\n",
      "missing expt\n",
      "462\n",
      "missing expt\n",
      "465\n",
      "missing expt\n",
      "471\n",
      "missing expt\n",
      "475\n",
      "missing expt\n",
      "478\n",
      "missing expt\n",
      "482\n",
      "missing expt\n",
      "488\n",
      "missing expt\n",
      "489\n",
      "missing expt\n",
      "490\n",
      "missing expt\n",
      "494\n",
      "missing expt\n",
      "495\n",
      "test\n",
      "missing expt\n",
      "504\n",
      "missing expt\n",
      "516\n",
      "missing expt\n",
      "527\n",
      "missing expt\n",
      "553\n",
      "missing expt\n",
      "565\n",
      "missing expt\n",
      "567\n",
      "missing expt\n",
      "571\n",
      "missing expt\n",
      "572\n",
      "missing expt\n",
      "573\n",
      "missing expt\n",
      "574\n",
      "missing expt\n",
      "587\n",
      "missing expt\n",
      "589\n",
      "missing expt\n",
      "593\n",
      "missing expt\n",
      "594\n",
      "missing expt\n",
      "598\n",
      "i\n"
     ]
    },
    {
     "data": {
      "text/html": [
       "<style>.container { width:80% !important; }</style>"
      ],
      "text/plain": [
       "<IPython.core.display.HTML object>"
      ]
     },
     "metadata": {},
     "output_type": "display_data"
    },
    {
     "name": "stdout",
     "output_type": "stream",
     "text": [
      "The autoreload extension is already loaded. To reload it, use:\n",
      "  %reload_ext autoreload\n",
      "[0.04053671658078214]\n",
      "[0.002085174074174712]\n",
      "[0.04262189065495685]\n",
      "[0.004563731379627809]\n"
     ]
    }
   ],
   "source": [
    "#100 scaling, gr 3.0 no crowders\n",
    "from analysis_utils import *\n",
    "%load_ext autoreload\n",
    "%autoreload\n",
    "path = \"/Users/Akshay/Documents/TranslationDynamics/data/\"\n",
    "\n",
    "gr06_1e8 = dict()\n",
    "data = \"191001_1203/\"\n",
    "k=900\n",
    "gr30 = dict()\n",
    "\n",
    "for i in range(1,7):\n",
    "    sim_i = computeTransportRxnTimes(path+data, 1e15, 1e15, 100*(i-1),100*(i-1)+100,scaling=100)\n",
    "    gr30[i] = (CellLatencies(sim_i))\n",
    "\n",
    "print('i')\n",
    "gr = {3.0:gr30}\n",
    "\n",
    "#Figure 3\n",
    "from analysis_utils import *\n",
    "from IPython.core.display import display, HTML\n",
    "display(HTML(\"<style>.container { width:80% !important; }</style>\"))\n",
    "\n",
    "%load_ext autoreload\n",
    "%autoreload\n",
    "\n",
    "####### transport vs. reaction for different growth rates #####\n",
    "\n",
    "colors = ['darkblue','#D43F3A']\n",
    "gr_i_list = [3.0]\n",
    "phi_list = [0.13,0.22,0.30,0.36,0.39,0.42]\n",
    "markers = ['*','^']\n",
    "transport_phi = list()\n",
    "reaction_phi = list()\n",
    "search_phi = list()\n",
    "bootstrap_search_phi=list()\n",
    "search_list = list()\n",
    "for j,gr_i in enumerate(gr_i_list):\n",
    "    transport_vals_list = list()\n",
    "    reaction_vals_list = list()\n",
    "    search_vals_list = list()\n",
    "    bootstrap_vals_list = list()\n",
    "    for i in range(1,7):\n",
    "        transport_vals = gr[gr_i][i].avg_transportT*1/1608733*p_codon_count_hist_weighted_avg[i]/(1-p_codon_count_hist_weighted_avg[0])\n",
    "        rxn_vals = gr[gr_i][i].avg_rxnT*1/1608733*p_codon_count_hist_weighted_avg[i]/(1-p_codon_count_hist_weighted_avg[0])\n",
    "        search_vals = gr[gr_i][i].avg_searchT*1/1608733*p_codon_count_hist_weighted_avg[i]/(1-p_codon_count_hist_weighted_avg[0])\n",
    "        bootstrap_vals = gr[gr_i][i].bootstd_searchT*1/1608733*p_codon_count_hist_weighted_avg[i]/(1-p_codon_count_hist_weighted_avg[0])\n",
    "        \n",
    "        transport_vals_list.append(np.array(transport_vals))\n",
    "        reaction_vals_list.append(np.array(rxn_vals))\n",
    "        search_vals_list.append(np.array(search_vals))\n",
    "        bootstrap_vals_list.append(np.array(bootstrap_vals))\n",
    "        search_list.append(np.array(gr[gr_i][i].searchT)*1000/1608733)\n",
    "    transport_phi.append(np.sum(transport_vals_list))\n",
    "    reaction_phi.append(np.sum(reaction_vals_list))\n",
    "    search_phi.append(np.sum(search_vals_list))\n",
    "    bootstrap_search_phi.append(np.sum(bootstrap_vals_list))\n",
    "    \n",
    "print(transport_phi)\n",
    "print(reaction_phi)\n",
    "print(search_phi)\n",
    "print(bootstrap_search_phi)\n",
    "\n",
    "#############################################################################"
   ]
  },
  {
   "cell_type": "code",
   "execution_count": 96,
   "metadata": {
    "collapsed": false
   },
   "outputs": [
    {
     "name": "stdout",
     "output_type": "stream",
     "text": [
      "47.238237726430825\n",
      "45.32073157840279\n",
      "43.08077000218307\n",
      "38.64533906380492\n",
      "40.316964124761846\n",
      "33.813946600371246\n",
      "(1.864821570764073e-05, 39.828419337778186)\n",
      "47.238237726430825\n",
      "45.32073157840279\n",
      "43.08077000218307\n",
      "38.64533906380492\n",
      "40.316964124761846\n",
      "33.813946600371246\n",
      "106.19976712374115\n"
     ]
    },
    {
     "name": "stderr",
     "output_type": "stream",
     "text": [
      "/Users/Akshay/anaconda3/lib/python3.6/site-packages/ipykernel/__main__.py:16: MatplotlibDeprecationWarning: \n",
      "The 'normed' kwarg was deprecated in Matplotlib 2.1 and will be removed in 3.1. Use 'density' instead.\n"
     ]
    },
    {
     "data": {
      "image/png": "[encoded data removed]",
      "text/plain": [
       "<Figure size 432x288 with 1 Axes>"
      ]
     },
     "metadata": {
      "needs_background": "light"
     },
     "output_type": "display_data"
    },
    {
     "data": {
      "image/png": "[encoded data removed]",
      "text/plain": [
       "<Figure size 432x288 with 1 Axes>"
      ]
     },
     "metadata": {
      "needs_background": "light"
     },
     "output_type": "display_data"
    }
   ],
   "source": [
    "import scipy.stats as ss\n",
    "min_search=list()\n",
    "for i in range(0,6):\n",
    "    b = [k<400 for k in search_list[i]]\n",
    "    search_list_combined = np.array(search_list[i])\n",
    "    min_search.append(search_list_combined[b])\n",
    "    print(np.average(search_list_combined[b]))\n",
    "\n",
    "min_search = [k for b in min_search for k in b]\n",
    "P = ss.expon.fit(min_search)\n",
    "print(P)\n",
    "rX = np.linspace(0,400, 1000)\n",
    "rP = ss.expon.pdf(rX, *P)\n",
    "plt.plot(rX, rP)\n",
    "\n",
    "plt.hist(min_search, normed=True, bins=10)\n",
    "\n",
    "plt.title('Search time: phi = 0.13 (gr =0.6); Acc=10; ts=0.1e-3; res_steps=3')\n",
    "plt.ylabel('Probability')\n",
    "plt.xlabel('Elongation time (ms)')\n",
    "\n",
    "plt.figure()\n",
    "for i in range(0,6):\n",
    "    print(np.average(search_list[i]))\n",
    "\n",
    "search_list_combined = [k for b in search_list for k in b ]\n",
    "gr30hist = np.histogram(search_list_combined,bins=20,range=(0,1000))\n",
    "plt.bar(gr30hist[1][0:-1],gr30hist[0]/sum(gr30hist[0]),align='edge',width=25,color='darkblue')\n",
    "\n",
    "plt.title('Search time: phi = 0.13 (gr =0.6); Acc=10; ts=0.1e-3; res_steps=3')\n",
    "plt.ylabel('Probability')\n",
    "plt.xlabel('Elongation time (ms)')\n",
    "plt.ylim(0,0.7)\n",
    "print(max(search_list_combined))"
   ]
  },
  {
   "cell_type": "code",
   "execution_count": 4,
   "metadata": {
    "collapsed": false
   },
   "outputs": [
    {
     "name": "stdout",
     "output_type": "stream",
     "text": [
      "The autoreload extension is already loaded. To reload it, use:\n",
      "  %reload_ext autoreload\n",
      "test\n",
      "test\n",
      "test\n",
      "test\n",
      "test\n",
      "test\n",
      "i\n"
     ]
    },
    {
     "data": {
      "text/html": [
       "<style>.container { width:80% !important; }</style>"
      ],
      "text/plain": [
       "<IPython.core.display.HTML object>"
      ]
     },
     "metadata": {},
     "output_type": "display_data"
    },
    {
     "name": "stdout",
     "output_type": "stream",
     "text": [
      "The autoreload extension is already loaded. To reload it, use:\n",
      "  %reload_ext autoreload\n",
      "[0.04979348183628686]\n",
      "[0.008539693698656987]\n",
      "[0.05833317553494386]\n",
      "[0.00566080367461952]\n"
     ]
    }
   ],
   "source": [
    "#100 scaling, gr 3.0 no crowders\n",
    "from analysis_utils import *\n",
    "%load_ext autoreload\n",
    "%autoreload\n",
    "path = \"/Users/Akshay/Documents/TranslationDynamics/data/\"\n",
    "\n",
    "gr06_1e8 = dict()\n",
    "data = \"191001_0116/\"\n",
    "k=900\n",
    "gr30 = dict()\n",
    "\n",
    "for i in range(1,7):\n",
    "    sim_i = computeTransportRxnTimes(path+data, 1e15, 1e15, 100*(i-1),100*(i-1)+100,scaling=100)\n",
    "    gr30[i] = (CellLatencies(sim_i))\n",
    "\n",
    "print('i')\n",
    "gr = {3.0:gr30}\n",
    "\n",
    "#Figure 3\n",
    "from analysis_utils import *\n",
    "from IPython.core.display import display, HTML\n",
    "display(HTML(\"<style>.container { width:80% !important; }</style>\"))\n",
    "\n",
    "%load_ext autoreload\n",
    "%autoreload\n",
    "\n",
    "####### transport vs. reaction for different growth rates #####\n",
    "\n",
    "colors = ['darkblue','#D43F3A']\n",
    "gr_i_list = [3.0]\n",
    "phi_list = [0.13,0.22,0.30,0.36,0.39,0.42]\n",
    "markers = ['*','^']\n",
    "transport_phi = list()\n",
    "reaction_phi = list()\n",
    "search_phi = list()\n",
    "bootstrap_search_phi=list()\n",
    "search_list = list()\n",
    "for j,gr_i in enumerate(gr_i_list):\n",
    "    transport_vals_list = list()\n",
    "    reaction_vals_list = list()\n",
    "    search_vals_list = list()\n",
    "    bootstrap_vals_list = list()\n",
    "    for i in range(1,7):\n",
    "        transport_vals = gr[gr_i][i].avg_transportT*1/1608733*p_codon_count_hist_weighted_avg[i]/(1-p_codon_count_hist_weighted_avg[0])\n",
    "        rxn_vals = gr[gr_i][i].avg_rxnT*1/1608733*p_codon_count_hist_weighted_avg[i]/(1-p_codon_count_hist_weighted_avg[0])\n",
    "        search_vals = gr[gr_i][i].avg_searchT*1/1608733*p_codon_count_hist_weighted_avg[i]/(1-p_codon_count_hist_weighted_avg[0])\n",
    "        bootstrap_vals = gr[gr_i][i].bootstd_searchT*1/1608733*p_codon_count_hist_weighted_avg[i]/(1-p_codon_count_hist_weighted_avg[0])\n",
    "        \n",
    "        transport_vals_list.append(np.array(transport_vals))\n",
    "        reaction_vals_list.append(np.array(rxn_vals))\n",
    "        search_vals_list.append(np.array(search_vals))\n",
    "        bootstrap_vals_list.append(np.array(bootstrap_vals))\n",
    "        search_list.append(np.array(gr[gr_i][i].searchT)*1000/1608733)\n",
    "    transport_phi.append(np.sum(transport_vals_list))\n",
    "    reaction_phi.append(np.sum(reaction_vals_list))\n",
    "    search_phi.append(np.sum(search_vals_list))\n",
    "    bootstrap_search_phi.append(np.sum(bootstrap_vals_list))\n",
    "    \n",
    "print(transport_phi)\n",
    "print(reaction_phi)\n",
    "print(search_phi)\n",
    "print(bootstrap_search_phi)\n",
    "\n",
    "#############################################################################"
   ]
  },
  {
   "cell_type": "code",
   "execution_count": 31,
   "metadata": {
    "collapsed": false
   },
   "outputs": [
    {
     "name": "stdout",
     "output_type": "stream",
     "text": [
      "The autoreload extension is already loaded. To reload it, use:\n",
      "  %reload_ext autoreload\n",
      "test\n",
      "test\n",
      "test\n",
      "test\n",
      "test\n",
      "test\n",
      "i\n"
     ]
    },
    {
     "data": {
      "text/html": [
       "<style>.container { width:80% !important; }</style>"
      ],
      "text/plain": [
       "<IPython.core.display.HTML object>"
      ]
     },
     "metadata": {},
     "output_type": "display_data"
    },
    {
     "name": "stdout",
     "output_type": "stream",
     "text": [
      "The autoreload extension is already loaded. To reload it, use:\n",
      "  %reload_ext autoreload\n",
      "[0.04979348183628686]\n",
      "[0.008539693698656987]\n",
      "[0.05833317553494386]\n",
      "[0.005689185172322856]\n"
     ]
    }
   ],
   "source": [
    "#100 scaling, gr 3.0 no crowders\n",
    "from analysis_utils import *\n",
    "%load_ext autoreload\n",
    "%autoreload\n",
    "path = \"/Users/Akshay/Documents/TranslationDynamics/data/\"\n",
    "\n",
    "gr06_1e8 = dict()\n",
    "data = \"191001_0116/\"\n",
    "k=900\n",
    "gr30 = dict()\n",
    "\n",
    "for i in range(1,7):\n",
    "    sim_i = computeTransportRxnTimes(path+data, 1e15, 1e15, 100*(i-1),100*(i-1)+100,scaling=100)\n",
    "    gr30[i] = (CellLatencies(sim_i))\n",
    "\n",
    "print('i')\n",
    "gr = {3.0:gr30}\n",
    "\n",
    "#Figure 3\n",
    "from analysis_utils import *\n",
    "from IPython.core.display import display, HTML\n",
    "display(HTML(\"<style>.container { width:80% !important; }</style>\"))\n",
    "\n",
    "%load_ext autoreload\n",
    "%autoreload\n",
    "\n",
    "####### transport vs. reaction for different growth rates #####\n",
    "\n",
    "colors = ['darkblue','#D43F3A']\n",
    "gr_i_list = [3.0]\n",
    "phi_list = [0.13,0.22,0.30,0.36,0.39,0.42]\n",
    "markers = ['*','^']\n",
    "transport_phi = list()\n",
    "reaction_phi = list()\n",
    "search_phi = list()\n",
    "bootstrap_search_phi=list()\n",
    "search_list = list()\n",
    "for j,gr_i in enumerate(gr_i_list):\n",
    "    transport_vals_list = list()\n",
    "    reaction_vals_list = list()\n",
    "    search_vals_list = list()\n",
    "    bootstrap_vals_list = list()\n",
    "    for i in range(1,7):\n",
    "        transport_vals = gr[gr_i][i].avg_transportT*1/1608733*p_codon_count_hist_weighted_avg[i]/(1-p_codon_count_hist_weighted_avg[0])\n",
    "        rxn_vals = gr[gr_i][i].avg_rxnT*1/1608733*p_codon_count_hist_weighted_avg[i]/(1-p_codon_count_hist_weighted_avg[0])\n",
    "        search_vals = gr[gr_i][i].avg_searchT*1/1608733*p_codon_count_hist_weighted_avg[i]/(1-p_codon_count_hist_weighted_avg[0])\n",
    "        bootstrap_vals = gr[gr_i][i].bootstd_searchT*1/1608733*p_codon_count_hist_weighted_avg[i]/(1-p_codon_count_hist_weighted_avg[0])\n",
    "        \n",
    "        transport_vals_list.append(np.array(transport_vals))\n",
    "        reaction_vals_list.append(np.array(rxn_vals))\n",
    "        search_vals_list.append(np.array(search_vals))\n",
    "        bootstrap_vals_list.append(np.array(bootstrap_vals))\n",
    "        search_list.append(np.array(gr[gr_i][i].searchT)*1000/1608733)\n",
    "    transport_phi.append(np.sum(transport_vals_list))\n",
    "    reaction_phi.append(np.sum(reaction_vals_list))\n",
    "    search_phi.append(np.sum(search_vals_list))\n",
    "    bootstrap_search_phi.append(np.sum(bootstrap_vals_list))\n",
    "    \n",
    "print(transport_phi)\n",
    "print(reaction_phi)\n",
    "print(search_phi)\n",
    "print(bootstrap_search_phi)\n",
    "\n",
    "#############################################################################"
   ]
  },
  {
   "cell_type": "code",
   "execution_count": 32,
   "metadata": {
    "collapsed": false
   },
   "outputs": [
    {
     "name": "stdout",
     "output_type": "stream",
     "text": [
      "103.10247881991998\n",
      "59.04512980479297\n",
      "33.56882322515554\n",
      "26.52330554185175\n",
      "22.973925005404837\n",
      "14.004680825518125\n",
      "(0.0, 43.0027246900075)\n",
      "111.35496647326885\n",
      "59.04512980479297\n",
      "33.56882322515554\n",
      "26.52330554185175\n",
      "22.973925005404837\n",
      "14.004680825518125\n",
      "530.8909874739688\n"
     ]
    },
    {
     "name": "stderr",
     "output_type": "stream",
     "text": [
      "/Users/Akshay/anaconda3/lib/python3.6/site-packages/ipykernel/__main__.py:16: MatplotlibDeprecationWarning: \n",
      "The 'normed' kwarg was deprecated in Matplotlib 2.1 and will be removed in 3.1. Use 'density' instead.\n"
     ]
    },
    {
     "data": {
      "image/png": "[encoded data removed]",
      "text/plain": [
       "<Figure size 432x288 with 1 Axes>"
      ]
     },
     "metadata": {
      "needs_background": "light"
     },
     "output_type": "display_data"
    },
    {
     "data": {
      "image/png": "[encoded data removed]",
      "text/plain": [
       "<Figure size 432x288 with 1 Axes>"
      ]
     },
     "metadata": {
      "needs_background": "light"
     },
     "output_type": "display_data"
    }
   ],
   "source": [
    "import scipy.stats as ss\n",
    "min_search=list()\n",
    "for i in range(0,6):\n",
    "    b = [k<400 for k in search_list[i]]\n",
    "    search_list_combined = np.array(search_list[i])\n",
    "    min_search.append(search_list_combined[b])\n",
    "    print(np.average(search_list_combined[b]))\n",
    "\n",
    "min_search = [k for b in min_search for k in b]\n",
    "P = ss.expon.fit(min_search)\n",
    "print(P)\n",
    "rX = np.linspace(0,400, 1000)\n",
    "rP = ss.expon.pdf(rX, *P)\n",
    "plt.plot(rX, rP)\n",
    "\n",
    "plt.hist(min_search, normed=True, bins=10)\n",
    "\n",
    "plt.title('Search time: phi = 0.13 (gr =0.6); Acc=10; ts=0.1e-3; res_steps=3')\n",
    "plt.ylabel('Probability')\n",
    "plt.xlabel('Elongation time (ms)')\n",
    "\n",
    "plt.figure()\n",
    "for i in range(0,6):\n",
    "    print(np.average(search_list[i]))\n",
    "\n",
    "search_list_combined = [k for b in search_list for k in b ]\n",
    "gr30hist = np.histogram(search_list_combined,bins=20,range=(0,1000))\n",
    "plt.bar(gr30hist[1][0:-1],gr30hist[0]/sum(gr30hist[0]),align='edge',width=25,color='darkblue')\n",
    "\n",
    "plt.title('Search time: phi = 0.13 (gr =0.6); Acc=10; ts=0.1e-3; res_steps=3')\n",
    "plt.ylabel('Probability')\n",
    "plt.xlabel('Elongation time (ms)')\n",
    "plt.ylim(0,0.7)\n",
    "print(max(search_list_combined))"
   ]
  },
  {
   "cell_type": "code",
   "execution_count": null,
   "metadata": {
    "collapsed": true
   },
   "outputs": [],
   "source": [
    "\n"
   ]
  },
  {
   "cell_type": "code",
   "execution_count": 29,
   "metadata": {
    "collapsed": false
   },
   "outputs": [
    {
     "name": "stdout",
     "output_type": "stream",
     "text": [
      "The autoreload extension is already loaded. To reload it, use:\n",
      "  %reload_ext autoreload\n"
     ]
    },
    {
     "name": "stderr",
     "output_type": "stream",
     "text": [
      "[autoreload of analysis_utils failed: Traceback (most recent call last):\n",
      "  File \"/Users/Akshay/anaconda3/lib/python3.6/site-packages/IPython/extensions/autoreload.py\", line 245, in check\n",
      "    superreload(m, reload, self.old_objects)\n",
      "  File \"/Users/Akshay/anaconda3/lib/python3.6/site-packages/IPython/extensions/autoreload.py\", line 450, in superreload\n",
      "    update_generic(old_obj, new_obj)\n",
      "  File \"/Users/Akshay/anaconda3/lib/python3.6/site-packages/IPython/extensions/autoreload.py\", line 387, in update_generic\n",
      "    update(a, b)\n",
      "  File \"/Users/Akshay/anaconda3/lib/python3.6/site-packages/IPython/extensions/autoreload.py\", line 357, in update_class\n",
      "    update_instances(old, new)\n",
      "  File \"/Users/Akshay/anaconda3/lib/python3.6/site-packages/IPython/extensions/autoreload.py\", line 280, in update_instances\n",
      "    frame = next(frame_nfo.frame for frame_nfo in inspect.stack()\n",
      "StopIteration\n",
      "]\n"
     ]
    },
    {
     "name": "stdout",
     "output_type": "stream",
     "text": [
      "test\n",
      "test\n",
      "test\n",
      "test\n",
      "test\n",
      "test\n",
      "i\n"
     ]
    },
    {
     "data": {
      "text/html": [
       "<style>.container { width:80% !important; }</style>"
      ],
      "text/plain": [
       "<IPython.core.display.HTML object>"
      ]
     },
     "metadata": {},
     "output_type": "display_data"
    },
    {
     "name": "stdout",
     "output_type": "stream",
     "text": [
      "The autoreload extension is already loaded. To reload it, use:\n",
      "  %reload_ext autoreload\n",
      "[0.06611118154054821]\n",
      "[0.011899442752644393]\n",
      "[0.0780106242931926]\n",
      "[0.007953612005185467]\n"
     ]
    }
   ],
   "source": [
    "#100 scaling, gr 3.0 no crowders\n",
    "from analysis_utils import *\n",
    "%load_ext autoreload\n",
    "%autoreload\n",
    "path = \"/Users/Akshay/Documents/TranslationDynamics/data/\"\n",
    "\n",
    "gr06_1e8 = dict()\n",
    "data = \"191003_2210/\"\n",
    "k=900\n",
    "gr30 = dict()\n",
    "\n",
    "for i in range(1,7):\n",
    "    sim_i = computeTransportRxnTimes(path+data, 1e15, 1e15, 100*(i-1),100*(i-1)+100,scaling=200)\n",
    "    gr30[i] = (CellLatencies(sim_i))\n",
    "\n",
    "print('i')\n",
    "gr = {3.0:gr30}\n",
    "\n",
    "#Figure 3\n",
    "from analysis_utils import *\n",
    "from IPython.core.display import display, HTML\n",
    "display(HTML(\"<style>.container { width:80% !important; }</style>\"))\n",
    "\n",
    "%load_ext autoreload\n",
    "%autoreload\n",
    "\n",
    "####### transport vs. reaction for different growth rates #####\n",
    "\n",
    "colors = ['darkblue','#D43F3A']\n",
    "gr_i_list = [3.0]\n",
    "phi_list = [0.13,0.22,0.30,0.36,0.39,0.42]\n",
    "markers = ['*','^']\n",
    "transport_phi = list()\n",
    "reaction_phi = list()\n",
    "search_phi = list()\n",
    "bootstrap_search_phi=list()\n",
    "search_list = list()\n",
    "for j,gr_i in enumerate(gr_i_list):\n",
    "    transport_vals_list = list()\n",
    "    reaction_vals_list = list()\n",
    "    search_vals_list = list()\n",
    "    bootstrap_vals_list = list()\n",
    "    for i in range(1,7):\n",
    "        transport_vals = gr[gr_i][i].avg_transportT*1/1608733*p_codon_count_hist_weighted_avg[i]/(1-p_codon_count_hist_weighted_avg[0])\n",
    "        rxn_vals = gr[gr_i][i].avg_rxnT*1/1608733*p_codon_count_hist_weighted_avg[i]/(1-p_codon_count_hist_weighted_avg[0])\n",
    "        search_vals = gr[gr_i][i].avg_searchT*1/1608733*p_codon_count_hist_weighted_avg[i]/(1-p_codon_count_hist_weighted_avg[0])\n",
    "        bootstrap_vals = gr[gr_i][i].bootstd_searchT*1/1608733*p_codon_count_hist_weighted_avg[i]/(1-p_codon_count_hist_weighted_avg[0])\n",
    "        \n",
    "        transport_vals_list.append(np.array(transport_vals))\n",
    "        reaction_vals_list.append(np.array(rxn_vals))\n",
    "        search_vals_list.append(np.array(search_vals))\n",
    "        bootstrap_vals_list.append(np.array(bootstrap_vals))\n",
    "        search_list.append(np.array(gr[gr_i][i].searchT)*1000/1608733)\n",
    "    transport_phi.append(np.sum(transport_vals_list))\n",
    "    reaction_phi.append(np.sum(reaction_vals_list))\n",
    "    search_phi.append(np.sum(search_vals_list))\n",
    "    bootstrap_search_phi.append(np.sum(bootstrap_vals_list))\n",
    "    \n",
    "print(transport_phi)\n",
    "print(reaction_phi)\n",
    "print(search_phi)\n",
    "print(bootstrap_search_phi)\n",
    "\n",
    "#############################################################################"
   ]
  },
  {
   "cell_type": "code",
   "execution_count": 30,
   "metadata": {
    "collapsed": false
   },
   "outputs": [
    {
     "name": "stdout",
     "output_type": "stream",
     "text": [
      "119.1103258993233\n",
      "69.68054971349203\n",
      "56.6641550768325\n",
      "36.40967518819263\n",
      "27.906255417695988\n",
      "23.382829467476512\n",
      "(7.459286283056292e-05, 54.85833446479629)\n",
      "145.38502576489066\n",
      "73.25684721401723\n",
      "56.6641550768325\n",
      "36.40967518819263\n",
      "27.906255417695988\n",
      "23.382829467476512\n",
      "925.9926054206596\n"
     ]
    },
    {
     "name": "stderr",
     "output_type": "stream",
     "text": [
      "/Users/Akshay/anaconda3/lib/python3.6/site-packages/ipykernel/__main__.py:16: MatplotlibDeprecationWarning: \n",
      "The 'normed' kwarg was deprecated in Matplotlib 2.1 and will be removed in 3.1. Use 'density' instead.\n"
     ]
    },
    {
     "data": {
      "image/png": "[encoded data removed]",
      "text/plain": [
       "<Figure size 432x288 with 1 Axes>"
      ]
     },
     "metadata": {
      "needs_background": "light"
     },
     "output_type": "display_data"
    },
    {
     "data": {
      "image/png": "[encoded data removed]",
      "text/plain": [
       "<Figure size 432x288 with 1 Axes>"
      ]
     },
     "metadata": {
      "needs_background": "light"
     },
     "output_type": "display_data"
    }
   ],
   "source": [
    "import scipy.stats as ss\n",
    "min_search=list()\n",
    "for i in range(0,6):\n",
    "    b = [k<400 for k in search_list[i]]\n",
    "    search_list_combined = np.array(search_list[i])\n",
    "    min_search.append(search_list_combined[b])\n",
    "    print(np.average(search_list_combined[b]))\n",
    "\n",
    "min_search = [k for b in min_search for k in b]\n",
    "P = ss.expon.fit(min_search)\n",
    "print(P)\n",
    "rX = np.linspace(0,400, 1000)\n",
    "rP = ss.expon.pdf(rX, *P)\n",
    "plt.plot(rX, rP)\n",
    "\n",
    "plt.hist(min_search, normed=True, bins=10)\n",
    "\n",
    "plt.title('Search time: phi = 0.13 (gr =0.6); Acc=10; ts=0.1e-3; res_steps=3')\n",
    "plt.ylabel('Probability')\n",
    "plt.xlabel('Elongation time (ms)')\n",
    "\n",
    "plt.figure()\n",
    "for i in range(0,6):\n",
    "    print(np.average(search_list[i]))\n",
    "\n",
    "search_list_combined = [k for b in search_list for k in b ]\n",
    "gr30hist = np.histogram(search_list_combined,bins=20,range=(0,1000))\n",
    "plt.bar(gr30hist[1][0:-1],gr30hist[0]/sum(gr30hist[0]),align='edge',width=25,color='darkblue')\n",
    "\n",
    "plt.title('Search time: phi = 0.13 (gr =0.6); Acc=10; ts=0.1e-3; res_steps=3')\n",
    "plt.ylabel('Probability')\n",
    "plt.xlabel('Elongation time (ms)')\n",
    "plt.ylim(0,0.7)\n",
    "print(max(search_list_combined))"
   ]
  },
  {
   "cell_type": "code",
   "execution_count": 35,
   "metadata": {
    "collapsed": false
   },
   "outputs": [
    {
     "name": "stdout",
     "output_type": "stream",
     "text": [
      "The autoreload extension is already loaded. To reload it, use:\n",
      "  %reload_ext autoreload\n",
      "test\n",
      "missing expt\n",
      "1\n",
      "missing expt\n",
      "28\n",
      "missing expt\n",
      "37\n",
      "missing expt\n",
      "50\n",
      "missing expt\n",
      "52\n",
      "missing expt\n",
      "61\n",
      "missing expt\n",
      "62\n",
      "missing expt\n",
      "73\n",
      "missing expt\n",
      "85\n",
      "missing expt\n",
      "99\n",
      "test\n",
      "missing expt\n",
      "122\n",
      "missing expt\n",
      "132\n",
      "test\n",
      "missing expt\n",
      "276\n",
      "test\n",
      "missing expt\n",
      "390\n",
      "test\n",
      "test\n",
      "i\n"
     ]
    },
    {
     "data": {
      "text/html": [
       "<style>.container { width:80% !important; }</style>"
      ],
      "text/plain": [
       "<IPython.core.display.HTML object>"
      ]
     },
     "metadata": {},
     "output_type": "display_data"
    },
    {
     "name": "stdout",
     "output_type": "stream",
     "text": [
      "The autoreload extension is already loaded. To reload it, use:\n",
      "  %reload_ext autoreload\n",
      "[0.04099870538352453]\n",
      "[0.007243562278580694]\n",
      "[0.04824226766210521]\n",
      "[0.00466237083109407]\n"
     ]
    }
   ],
   "source": [
    "#100 scaling, gr 3.0 no crowders\n",
    "from analysis_utils import *\n",
    "%load_ext autoreload\n",
    "%autoreload\n",
    "path = \"/Users/Akshay/Documents/TranslationDynamics/data/\"\n",
    "\n",
    "gr06_1e8 = dict()\n",
    "data = \"191007_1601/\"\n",
    "k=900\n",
    "gr30 = dict()\n",
    "\n",
    "for i in range(1,7):\n",
    "    sim_i = computeTransportRxnTimes(path+data, 1e15, 1e15, 100*(i-1),100*(i-1)+100,scaling=200)\n",
    "    gr30[i] = (CellLatencies(sim_i))\n",
    "\n",
    "print('i')\n",
    "gr = {3.0:gr30}\n",
    "\n",
    "#Figure 3\n",
    "from analysis_utils import *\n",
    "from IPython.core.display import display, HTML\n",
    "display(HTML(\"<style>.container { width:80% !important; }</style>\"))\n",
    "\n",
    "%load_ext autoreload\n",
    "%autoreload\n",
    "\n",
    "####### transport vs. reaction for different growth rates #####\n",
    "\n",
    "colors = ['darkblue','#D43F3A']\n",
    "gr_i_list = [3.0]\n",
    "phi_list = [0.13,0.22,0.30,0.36,0.39,0.42]\n",
    "markers = ['*','^']\n",
    "transport_phi = list()\n",
    "reaction_phi = list()\n",
    "search_phi = list()\n",
    "bootstrap_search_phi=list()\n",
    "search_list = list()\n",
    "for j,gr_i in enumerate(gr_i_list):\n",
    "    transport_vals_list = list()\n",
    "    reaction_vals_list = list()\n",
    "    search_vals_list = list()\n",
    "    bootstrap_vals_list = list()\n",
    "    for i in range(1,7):\n",
    "        transport_vals = gr[gr_i][i].avg_transportT*1/1608733*p_codon_count_hist_weighted_avg[i]/(1-p_codon_count_hist_weighted_avg[0])\n",
    "        rxn_vals = gr[gr_i][i].avg_rxnT*1/1608733*p_codon_count_hist_weighted_avg[i]/(1-p_codon_count_hist_weighted_avg[0])\n",
    "        search_vals = gr[gr_i][i].avg_searchT*1/1608733*p_codon_count_hist_weighted_avg[i]/(1-p_codon_count_hist_weighted_avg[0])\n",
    "        bootstrap_vals = gr[gr_i][i].bootstd_searchT*1/1608733*p_codon_count_hist_weighted_avg[i]/(1-p_codon_count_hist_weighted_avg[0])\n",
    "        \n",
    "        transport_vals_list.append(np.array(transport_vals))\n",
    "        reaction_vals_list.append(np.array(rxn_vals))\n",
    "        search_vals_list.append(np.array(search_vals))\n",
    "        bootstrap_vals_list.append(np.array(bootstrap_vals))\n",
    "        search_list.append(np.array(gr[gr_i][i].searchT)*1000/1608733)\n",
    "    transport_phi.append(np.sum(transport_vals_list))\n",
    "    reaction_phi.append(np.sum(reaction_vals_list))\n",
    "    search_phi.append(np.sum(search_vals_list))\n",
    "    bootstrap_search_phi.append(np.sum(bootstrap_vals_list))\n",
    "    \n",
    "print(transport_phi)\n",
    "print(reaction_phi)\n",
    "print(search_phi)\n",
    "print(bootstrap_search_phi)\n",
    "\n",
    "#############################################################################"
   ]
  },
  {
   "cell_type": "code",
   "execution_count": 40,
   "metadata": {
    "collapsed": false
   },
   "outputs": [
    {
     "name": "stdout",
     "output_type": "stream",
     "text": [
      "The autoreload extension is already loaded. To reload it, use:\n",
      "  %reload_ext autoreload\n",
      "test\n",
      "test\n",
      "test\n",
      "test\n",
      "test\n",
      "test\n",
      "i\n"
     ]
    },
    {
     "data": {
      "text/html": [
       "<style>.container { width:80% !important; }</style>"
      ],
      "text/plain": [
       "<IPython.core.display.HTML object>"
      ]
     },
     "metadata": {},
     "output_type": "display_data"
    },
    {
     "name": "stdout",
     "output_type": "stream",
     "text": [
      "The autoreload extension is already loaded. To reload it, use:\n",
      "  %reload_ext autoreload\n",
      "[0.05235217071353964]\n",
      "[0.008875349387150963]\n",
      "[0.06122752010069061]\n",
      "[0.006624363317003703]\n"
     ]
    }
   ],
   "source": [
    "#100 scaling, gr 3.0 no crowders\n",
    "from analysis_utils import *\n",
    "%load_ext autoreload\n",
    "%autoreload\n",
    "path = \"/Users/Akshay/Documents/TranslationDynamics/data/\"\n",
    "\n",
    "gr06_1e8 = dict()\n",
    "data = \"191007_1529/\"\n",
    "k=900\n",
    "gr30 = dict()\n",
    "\n",
    "for i in range(1,7):\n",
    "    sim_i = computeTransportRxnTimes(path+data, 1e15, 1e15, 100*(i-1),100*(i-1)+100,scaling=200)\n",
    "    gr30[i] = (CellLatencies(sim_i))\n",
    "\n",
    "print('i')\n",
    "gr = {3.0:gr30}\n",
    "\n",
    "#Figure 3\n",
    "from analysis_utils import *\n",
    "from IPython.core.display import display, HTML\n",
    "display(HTML(\"<style>.container { width:80% !important; }</style>\"))\n",
    "\n",
    "%load_ext autoreload\n",
    "%autoreload\n",
    "\n",
    "####### transport vs. reaction for different growth rates #####\n",
    "\n",
    "colors = ['darkblue','#D43F3A']\n",
    "gr_i_list = [3.0]\n",
    "phi_list = [0.13,0.22,0.30,0.36,0.39,0.42]\n",
    "markers = ['*','^']\n",
    "transport_phi = list()\n",
    "reaction_phi = list()\n",
    "search_phi = list()\n",
    "bootstrap_search_phi=list()\n",
    "search_list = list()\n",
    "for j,gr_i in enumerate(gr_i_list):\n",
    "    transport_vals_list = list()\n",
    "    reaction_vals_list = list()\n",
    "    search_vals_list = list()\n",
    "    bootstrap_vals_list = list()\n",
    "    for i in range(1,7):\n",
    "        transport_vals = gr[gr_i][i].avg_transportT*1/1608733*p_codon_count_hist_weighted_avg[i]/(1-p_codon_count_hist_weighted_avg[0])\n",
    "        rxn_vals = gr[gr_i][i].avg_rxnT*1/1608733*p_codon_count_hist_weighted_avg[i]/(1-p_codon_count_hist_weighted_avg[0])\n",
    "        search_vals = gr[gr_i][i].avg_searchT*1/1608733*p_codon_count_hist_weighted_avg[i]/(1-p_codon_count_hist_weighted_avg[0])\n",
    "        bootstrap_vals = gr[gr_i][i].bootstd_searchT*1/1608733*p_codon_count_hist_weighted_avg[i]/(1-p_codon_count_hist_weighted_avg[0])\n",
    "        \n",
    "        transport_vals_list.append(np.array(transport_vals))\n",
    "        reaction_vals_list.append(np.array(rxn_vals))\n",
    "        search_vals_list.append(np.array(search_vals))\n",
    "        bootstrap_vals_list.append(np.array(bootstrap_vals))\n",
    "        search_list.append(np.array(gr[gr_i][i].searchT)*1000/1608733)\n",
    "    transport_phi.append(np.sum(transport_vals_list))\n",
    "    reaction_phi.append(np.sum(reaction_vals_list))\n",
    "    search_phi.append(np.sum(search_vals_list))\n",
    "    bootstrap_search_phi.append(np.sum(bootstrap_vals_list))\n",
    "    \n",
    "print(transport_phi)\n",
    "print(reaction_phi)\n",
    "print(search_phi)\n",
    "print(bootstrap_search_phi)\n",
    "\n",
    "#############################################################################"
   ]
  },
  {
   "cell_type": "code",
   "execution_count": null,
   "metadata": {
    "collapsed": false
   },
   "outputs": [],
   "source": [
    "#100 scaling, gr 3.0 no crowders\n",
    "from analysis_utils import *\n",
    "%load_ext autoreload\n",
    "%autoreload\n",
    "path = \"/Users/Akshay/Documents/TranslationDynamics/data/\"\n",
    "\n",
    "gr06_1e8 = dict()\n",
    "data = \"191007_1601/\"\n",
    "k=900\n",
    "gr30 = dict()\n",
    "\n",
    "for i in range(1,7):\n",
    "    sim_i = computeTransportRxnTimes(path+data, 1e15, 1e15, 100*(i-1),100*(i-1)+100,scaling=200)\n",
    "    gr30[i] = (CellLatencies(sim_i))\n",
    "\n",
    "print('i')\n",
    "gr = {3.0:gr30}\n",
    "\n",
    "#Figure 3\n",
    "from analysis_utils import *\n",
    "from IPython.core.display import display, HTML\n",
    "display(HTML(\"<style>.container { width:80% !important; }</style>\"))\n",
    "\n",
    "%load_ext autoreload\n",
    "%autoreload\n",
    "\n",
    "####### transport vs. reaction for different growth rates #####\n",
    "\n",
    "colors = ['darkblue','#D43F3A']\n",
    "gr_i_list = [3.0]\n",
    "phi_list = [0.13,0.22,0.30,0.36,0.39,0.42]\n",
    "markers = ['*','^']\n",
    "transport_phi = list()\n",
    "reaction_phi = list()\n",
    "search_phi = list()\n",
    "bootstrap_search_phi=list()\n",
    "search_list = list()\n",
    "for j,gr_i in enumerate(gr_i_list):\n",
    "    transport_vals_list = list()\n",
    "    reaction_vals_list = list()\n",
    "    search_vals_list = list()\n",
    "    bootstrap_vals_list = list()\n",
    "    for i in range(1,7):\n",
    "        transport_vals = gr[gr_i][i].avg_transportT*1/1608733*p_codon_count_hist_weighted_avg[i]/(1-p_codon_count_hist_weighted_avg[0])\n",
    "        rxn_vals = gr[gr_i][i].avg_rxnT*1/1608733*p_codon_count_hist_weighted_avg[i]/(1-p_codon_count_hist_weighted_avg[0])\n",
    "        search_vals = gr[gr_i][i].avg_searchT*1/1608733*p_codon_count_hist_weighted_avg[i]/(1-p_codon_count_hist_weighted_avg[0])\n",
    "        bootstrap_vals = gr[gr_i][i].bootstd_searchT*1/1608733*p_codon_count_hist_weighted_avg[i]/(1-p_codon_count_hist_weighted_avg[0])\n",
    "        \n",
    "        transport_vals_list.append(np.array(transport_vals))\n",
    "        reaction_vals_list.append(np.array(rxn_vals))\n",
    "        search_vals_list.append(np.array(search_vals))\n",
    "        bootstrap_vals_list.append(np.array(bootstrap_vals))\n",
    "        search_list.append(np.array(gr[gr_i][i].searchT)*1000/1608733)\n",
    "    transport_phi.append(np.sum(transport_vals_list))\n",
    "    reaction_phi.append(np.sum(reaction_vals_list))\n",
    "    search_phi.append(np.sum(search_vals_list))\n",
    "    bootstrap_search_phi.append(np.sum(bootstrap_vals_list))\n",
    "    \n",
    "print(transport_phi)\n",
    "print(reaction_phi)\n",
    "print(search_phi)\n",
    "print(bootstrap_search_phi)\n",
    "\n",
    "#############################################################################"
   ]
  },
  {
   "cell_type": "code",
   "execution_count": null,
   "metadata": {
    "collapsed": true
   },
   "outputs": [],
   "source": []
  }
 ],
 "metadata": {
  "kernelspec": {
   "display_name": "Python 3",
   "language": "python",
   "name": "python3"
  }
 },
 "nbformat": 4,
 "nbformat_minor": 2
}
