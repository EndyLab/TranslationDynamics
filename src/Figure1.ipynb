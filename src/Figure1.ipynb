{
 "cells": [
  {
   "cell_type": "markdown",
   "metadata": {},
   "source": [
    "# Figure 1\n",
    "**Transport and distinguishability of tRNA matter for elongation dynamics.**The supply of correct tRNA ternary complexes to initiated ribosomes is dependent on both transport within the crowded cytoplasm as well as competition with incorrect tRNA ternary complexes."
   ]
  },
  {
   "cell_type": "code",
   "execution_count": 2,
   "metadata": {},
   "outputs": [],
   "source": [
    "#Time it takes per correct collision = exponential distrib; # of incorr collisiosn per time = poisson distrib?\n",
    "import matplotlib.pyplot as plt\n",
    "import numpy as np\n",
    "import pickle as pkl\n",
    "import seaborn as sns\n",
    "import pandas as pd\n",
    "import scipy.stats as sci\n",
    "from matplotlib.patches import Rectangle\n",
    "%matplotlib inline \n",
    "\n",
    "from analysis_utils import *\n",
    "%load_ext autoreload\n",
    "%autoreload"
   ]
  },
  {
   "cell_type": "code",
   "execution_count": null,
   "metadata": {},
   "outputs": [],
   "source": []
  },
  {
   "cell_type": "markdown",
   "metadata": {},
   "source": [
    "### 1a. Instantaneous transport & Indistinguishable tRNA"
   ]
  },
  {
   "cell_type": "code",
   "execution_count": 3,
   "metadata": {},
   "outputs": [
    {
     "name": "stderr",
     "output_type": "stream",
     "text": [
      "/Users/Akshay/anaconda3/lib/python3.6/site-packages/ipykernel/__main__.py:22: MatplotlibDeprecationWarning: \n",
      "The 'normed' kwarg was deprecated in Matplotlib 2.1 and will be removed in 3.1. Use 'density' instead.\n"
     ]
    },
    {
     "ename": "NameError",
     "evalue": "name 'xticks' is not defined",
     "output_type": "error",
     "traceback": [
      "\u001b[0;31m---------------------------------------------------------------------------\u001b[0m",
      "\u001b[0;31mNameError\u001b[0m                                 Traceback (most recent call last)",
      "\u001b[0;32m<ipython-input-3-0cb74264d694>\u001b[0m in \u001b[0;36m<module>\u001b[0;34m\u001b[0m\n\u001b[1;32m     25\u001b[0m \u001b[0mpos2\u001b[0m \u001b[0;34m=\u001b[0m \u001b[0;34m[\u001b[0m\u001b[0mpos1\u001b[0m\u001b[0;34m.\u001b[0m\u001b[0mx0\u001b[0m \u001b[0;34m+\u001b[0m \u001b[0;36m0.3\u001b[0m\u001b[0;34m,\u001b[0m \u001b[0mpos1\u001b[0m\u001b[0;34m.\u001b[0m\u001b[0my0\u001b[0m \u001b[0;34m+\u001b[0m \u001b[0;36m0.3\u001b[0m\u001b[0;34m,\u001b[0m  \u001b[0mpos1\u001b[0m\u001b[0;34m.\u001b[0m\u001b[0mwidth\u001b[0m \u001b[0;34m/\u001b[0m \u001b[0;36m2.0\u001b[0m\u001b[0;34m,\u001b[0m \u001b[0mpos1\u001b[0m\u001b[0;34m.\u001b[0m\u001b[0mheight\u001b[0m \u001b[0;34m/\u001b[0m \u001b[0;36m2.0\u001b[0m\u001b[0;34m]\u001b[0m\u001b[0;34m\u001b[0m\u001b[0;34m\u001b[0m\u001b[0m\n\u001b[1;32m     26\u001b[0m \u001b[0max2\u001b[0m\u001b[0;34m.\u001b[0m\u001b[0mset_position\u001b[0m\u001b[0;34m(\u001b[0m\u001b[0mpos2\u001b[0m\u001b[0;34m)\u001b[0m \u001b[0;31m# set a new position\u001b[0m\u001b[0;34m\u001b[0m\u001b[0;34m\u001b[0m\u001b[0m\n\u001b[0;32m---> 27\u001b[0;31m \u001b[0mlocs\u001b[0m\u001b[0;34m,\u001b[0m\u001b[0mlabels\u001b[0m \u001b[0;34m=\u001b[0m \u001b[0mxticks\u001b[0m\u001b[0;34m(\u001b[0m\u001b[0;34m)\u001b[0m\u001b[0;34m\u001b[0m\u001b[0;34m\u001b[0m\u001b[0m\n\u001b[0m\u001b[1;32m     28\u001b[0m \u001b[0;34m\u001b[0m\u001b[0m\n\u001b[1;32m     29\u001b[0m \u001b[0max\u001b[0m\u001b[0;34m.\u001b[0m\u001b[0mhist\u001b[0m\u001b[0;34m(\u001b[0m\u001b[0mincorrectRolls_arr\u001b[0m\u001b[0;34m,\u001b[0m\u001b[0mbins\u001b[0m\u001b[0;34m=\u001b[0m\u001b[0;36m400\u001b[0m\u001b[0;34m,\u001b[0m\u001b[0mrange\u001b[0m\u001b[0;34m=\u001b[0m\u001b[0;34m(\u001b[0m\u001b[0;36m0\u001b[0m\u001b[0;34m,\u001b[0m\u001b[0;36m400\u001b[0m\u001b[0;34m)\u001b[0m\u001b[0;34m,\u001b[0m\u001b[0mnormed\u001b[0m\u001b[0;34m=\u001b[0m\u001b[0;36m1\u001b[0m\u001b[0;34m,\u001b[0m\u001b[0mcolor\u001b[0m\u001b[0;34m=\u001b[0m\u001b[0;34m'red'\u001b[0m\u001b[0;34m,\u001b[0m\u001b[0malpha\u001b[0m\u001b[0;34m=\u001b[0m\u001b[0;36m0.5\u001b[0m\u001b[0;34m)\u001b[0m\u001b[0;34m;\u001b[0m\u001b[0;34m\u001b[0m\u001b[0;34m\u001b[0m\u001b[0m\n",
      "\u001b[0;31mNameError\u001b[0m: name 'xticks' is not defined"
     ]
    },
    {
     "data": {
      "image/png": "[encoded data removed]",
      "text/plain": [
       "<Figure size 720x360 with 2 Axes>"
      ]
     },
     "metadata": {
      "needs_background": "light"
     },
     "output_type": "display_data"
    }
   ],
   "source": [
    "#Generates a histogram with just one bar at 0\n",
    "incorrectRolls_arr = [0]\n",
    "fig, ax = plt.subplots(figsize=(10,5))\n",
    "ax2 = ax.twiny()\n",
    "fig.subplots_adjust(bottom=0.2)\n",
    "ax2.xaxis.set_ticks_position(\"bottom\")\n",
    "\n",
    "# Move twinned axis ticks and label from top to bottom\n",
    "ax2.xaxis.set_ticks_position(\"bottom\")\n",
    "ax2.xaxis.set_label_position(\"bottom\")\n",
    "\n",
    "# Offset the twin axis below the host\n",
    "ax2.spines[\"bottom\"].set_position((\"axes\", -0.2))\n",
    "\n",
    "# Turn on the frame for the twin axis, but then hide all \n",
    "# but the bottom spine\n",
    "ax2.set_frame_on(True)\n",
    "ax2.patch.set_visible(False)\n",
    "\n",
    "ax2.set_xlim(0,400)\n",
    "ax2.set_xlabel(\"Time\")\n",
    "p2 = ax2.hist([3],bins=400,range=(0,400),normed=1,color='green',alpha=0.5);\n",
    "\n",
    "pos1 = ax2.get_position() # get the original position \n",
    "pos2 = [pos1.x0 + 0.3, pos1.y0 + 0.3,  pos1.width / 2.0, pos1.height / 2.0] \n",
    "ax2.set_position(pos2) # set a new position\n",
    "locs,labels = xticks()\n",
    "\n",
    "ax.hist(incorrectRolls_arr,bins=400,range=(0,400),normed=1,color='red',alpha=0.5);\n",
    "ax.set_title(\"Distribution of incorrect tRNA collisions per correct tRNA collision\\n for a given ribosome & single cognate tRNA\", y=1.18,fontsize=20)\n",
    "ax.set_xlabel(\"# of incorrect tRNA collisions per correct\",fontsize=10)\n",
    "ax.set_ylabel(\"Probability of \\nsuccesful incorporation\",fontsize=10)"
   ]
  },
  {
   "cell_type": "code",
   "execution_count": null,
   "metadata": {},
   "outputs": [],
   "source": [
    "incorrectRolls_arr = [0]\n",
    "fig, ax = plt.subplots(figsize=(10,5))\n",
    "ax.hist(incorrectRolls_arr,bins=400,range=(0,400),normed=1,color='red',alpha=0.5);\n",
    "#ax.set_title(\"Distribution of incorrect tRNA collisions per correct tRNA collision\\n for a given ribosome & single cognate tRNA\", y=1.18,fontsize=20)\n",
    "ax.set_xlabel(\"# of incorrect tRNA collisions per correct\",fontsize=10)\n",
    "ax.set_ylabel(\"Probability of \\nsuccesful incorporation\",fontsize=10)\n",
    "# for dat, xoff in zip([incorrectRolls_arr], [15]):\n",
    "#     x0 = int(np.mean(incorrectRolls_arr))\n",
    "#     align = 'left' if xoff > 0 else 'right'\n",
    "#     ax.annotate('Mean: {:0.0f}'.format(x0), xy=(x0, 1), xytext=(xoff, 15),\n",
    "#             xycoords=('data', 'axes fraction'), textcoords='offset points',\n",
    "#             horizontalalignment=align, verticalalignment='center',\n",
    "#             arrowprops=dict(arrowstyle='-|>', fc='black', shrinkA=0, shrinkB=0,\n",
    "#                             connectionstyle='angle,angleA=0,angleB=90,rad=10'),\n",
    "#             )\n",
    "# for dat, xoff in zip([incorrectRolls_arr], [-15]):\n",
    "#     x0 = int(np.median(incorrectRolls_arr))\n",
    "#     align = 'left' if xoff > 0 else 'right'\n",
    "#     ax.annotate('Median: {:0.0f}'.format(x0), xy=(x0, 1), xytext=(xoff, 15),\n",
    "#             xycoords=('data', 'axes fraction'), textcoords='offset points',\n",
    "#             horizontalalignment=align, verticalalignment='center',\n",
    "#             arrowprops=dict(arrowstyle='-|>', fc='black', shrinkA=0, shrinkB=0,\n",
    "#                             connectionstyle='angle,angleA=0,angleB=90,rad=10'),\n",
    "#             )\n",
    "\n",
    "#######TIME    \n",
    "incorrectRolls_arr = [0]\n",
    "ax = plt.axes([.5, .45, .35, .35], facecolor='lightgrey')\n",
    "ax.hist(incorrectRolls_arr,bins=400,range=(0,400),normed=1,color='green',alpha=1);\n",
    "#ax.set_title(\"Time taken (ms)\", y=1.18,fontsize=20)\n",
    "ax.set_xlabel(\"Time\")\n",
    "ax.set_ylabel(\"Probability\")\n",
    "#ax.set_xlabel('Time taken until one correct ribosome-ternary complex reaction started')\n",
    "#ax.set_ylabel(\"Probability of \\nsuccesful incorporation\",fontsize=10)\n",
    "\n",
    "# for dat, xoff in zip([incorrectRolls_arr], [15]):\n",
    "#     x0 = int(np.mean(incorrectRolls_arr))\n",
    "#     align = 'left' if xoff > 0 else 'right'\n",
    "#     ax.annotate('Mean: {:0.0f} ms'.format(x0), xy=(x0, 1), xytext=(xoff, 15),\n",
    "#             xycoords=('data', 'axes fraction'), textcoords='offset points',\n",
    "#             horizontalalignment=align, verticalalignment='center',\n",
    "#             arrowprops=dict(arrowstyle='-|>', fc='black', shrinkA=0, shrinkB=0,\n",
    "#                             connectionstyle='angle,angleA=0,angleB=90,rad=10'),\n",
    "#             )\n",
    "    \n",
    "# for dat, xoff in zip([incorrectRolls_arr], [-15]):\n",
    "#     x0 = int(np.median(incorrectRolls_arr))\n",
    "#     align = 'left' if xoff > 0 else 'right'\n",
    "#     ax.annotate('Median: {:0.0f} ms'.format(x0), xy=(x0, 1), xytext=(xoff, 15),\n",
    "#             xycoords=('data', 'axes fraction'), textcoords='offset points',\n",
    "#             horizontalalignment=align, verticalalignment='center',\n",
    "#             arrowprops=dict(arrowstyle='-|>', fc='black', shrinkA=0, shrinkB=0,\n",
    "#                             connectionstyle='angle,angleA=0,angleB=90,rad=10'),\n",
    "#             )"
   ]
  },
  {
   "cell_type": "code",
   "execution_count": null,
   "metadata": {},
   "outputs": [],
   "source": [
    "np.array(time_taken_arr)"
   ]
  },
  {
   "cell_type": "code",
   "execution_count": null,
   "metadata": {},
   "outputs": [],
   "source": [
    "plt.hist(np.random.exponential(1000/717,1000)+np.random.exponential(1000/717,1000)+np.random.exponential(1000/717,1000)+np.random.exponential(1000/717,1000)+np.random.exponential(1000/717,1000),bins=20)"
   ]
  },
  {
   "cell_type": "markdown",
   "metadata": {},
   "source": [
    "# 1b. Instantaneous transport & Distinguishable tRNA"
   ]
  },
  {
   "cell_type": "code",
   "execution_count": null,
   "metadata": {},
   "outputs": [],
   "source": [
    "# Given 42 independent isoacceptor tRNAs, each with equal probability of being chosen (i.e., uniform distribution),\n",
    "# if there is 1 \"correct\" tRNA and 41 \"incorrect tRNAs\", this algorithm runs many sampling events to \n",
    "# generate a distribution of # of incorrect tRNAs chosen per correct tRNA chosen.\n",
    "\n",
    "incorrectRolls_disting_arr = list()\n",
    "sampling_events = 200000\n",
    "time_taken_arr = list()\n",
    "for i in range(sampling_events):\n",
    "    incorrectRolls_i = 0;\n",
    "    time_taken_i=0;\n",
    "    roll = np.random.randint(0,42)\n",
    "    while(roll!=9): #9 is a arbitrarily picked \"correct\" tRNA\n",
    "        incorrectRolls_i+=1\n",
    "        roll = np.random.randint(0,42)\n",
    "        time_taken_i+=np.random.exponential(1000/717)\n",
    "\n",
    "    incorrectRolls_disting_arr.append(incorrectRolls_i)\n",
    "    time_taken_arr.append(time_taken_i)"
   ]
  },
  {
   "cell_type": "code",
   "execution_count": null,
   "metadata": {},
   "outputs": [],
   "source": [
    "import scipy.stats as sci\n",
    "import matplotlib.ticker as ticker\n",
    "\n",
    "###300 bins\n",
    "fig,ax=plt.subplots(figsize=(10,5))\n",
    "ax = plt.axes(facecolor='lightgrey')\n",
    "print(np.average(time_taken_arr))\n",
    "print(np.median(time_taken_arr))\n",
    "ax.hist(time_taken_arr,range=[0,400],bins=399,color='green',alpha=0.5, normed=1);\n",
    "\n",
    "ax.set_ylabel('Probability')\n",
    "ax.set_xlabel('Time')\n",
    "ax.axvline(np.mean(time_taken_arr), color='green', linestyle='dashed', linewidth=1)\n",
    "ax.axvline(np.median(time_taken_arr), color='green', linestyle='dashed', linewidth=1)\n",
    "\n",
    "\n",
    "for dat, xoff in zip([time_taken_arr], [15]):\n",
    "    x0 = int(np.mean(time_taken_arr))\n",
    "    align = 'left' if xoff > 0 else 'right'\n",
    "    ax.annotate('Mean: {:0.0f} ms'.format(x0), xy=(x0, 1), xytext=(xoff, 15),\n",
    "            xycoords=('data', 'axes fraction'), textcoords='offset points',\n",
    "            horizontalalignment=align, verticalalignment='center',\n",
    "            arrowprops=dict(arrowstyle='-|>', fc='black', shrinkA=0, shrinkB=0,\n",
    "                            connectionstyle='angle,angleA=0,angleB=90,rad=10'),\n",
    "            )\n",
    "for dat, xoff in zip([time_taken_arr], [-15]):\n",
    "    x0 = int(np.median(time_taken_arr))\n",
    "    align = 'left' if xoff > 0 else 'right'\n",
    "    ax.annotate('Median: {:0.0f} ms'.format(x0), xy=(x0, 1), xytext=(xoff, 15),\n",
    "            xycoords=('data', 'axes fraction'), textcoords='offset points',\n",
    "            horizontalalignment=align, verticalalignment='center',\n",
    "            arrowprops=dict(arrowstyle='-|>', fc='black', shrinkA=0, shrinkB=0,\n",
    "                            connectionstyle='angle,angleA=0,angleB=90,rad=10'),\n",
    "            )\n",
    "\n",
    "    \n",
    "##### 40 bins (~10ms each)\n",
    "fig,ax=plt.subplots(figsize=(10,5))\n",
    "print(np.median(time_taken_arr))\n",
    "print(np.mean(time_taken_arr))\n",
    "ax.hist(time_taken_arr,bins=30,range=(0.00000,400),normed=1,alpha=0.5,color='green')\n",
    "\n",
    "ax.set_ylabel('Probability')\n",
    "ax.set_xlabel('Time')\n",
    "ax.axvline(np.mean(time_taken_arr), color='green', linestyle='dashed', linewidth=1)\n",
    "ax.axvline(np.median(time_taken_arr), color='green', linestyle='dashed', linewidth=1)\n",
    "\n",
    "for dat, xoff in zip([time_taken_arr], [15]):\n",
    "    x0 = int(np.mean(time_taken_arr))\n",
    "    align = 'left' if xoff > 0 else 'right'\n",
    "    ax.annotate('Mean: {:0.0f} ms'.format(x0), xy=(x0, 1), xytext=(xoff, 15),\n",
    "            xycoords=('data', 'axes fraction'), textcoords='offset points',\n",
    "            horizontalalignment=align, verticalalignment='center',\n",
    "            arrowprops=dict(arrowstyle='-|>', fc='black', shrinkA=0, shrinkB=0,\n",
    "                            connectionstyle='angle,angleA=0,angleB=90,rad=10'),\n",
    "            )\n",
    "for dat, xoff in zip([time_taken_arr], [-15]):\n",
    "    x0 = int(np.median(time_taken_arr))\n",
    "    align = 'left' if xoff > 0 else 'right'\n",
    "    ax.annotate('Median: {:0.0f} ms'.format(x0), xy=(x0, 1), xytext=(xoff, 15),\n",
    "            xycoords=('data', 'axes fraction'), textcoords='offset points',\n",
    "            horizontalalignment=align, verticalalignment='center',\n",
    "            arrowprops=dict(arrowstyle='-|>', fc='black', shrinkA=0, shrinkB=0,\n",
    "                            connectionstyle='angle,angleA=0,angleB=90,rad=10'),\n",
    "            )\n",
    "        \n",
    "##### 300 bins (~1ms each) take out 0s\n",
    "\n",
    "fig,ax=plt.subplots(figsize=(10,5))\n",
    "time_taken_arr_nozero=np.array(time_taken_arr)[np.array(time_taken_arr) != 0]\n",
    "print(np.average(time_taken_arr_nozero))\n",
    "print(np.median(time_taken_arr_nozero))\n",
    "ax.hist(time_taken_arr_nozero,range=[1e-11,400],bins=400,color='green',alpha=0.5, normed=1);\n",
    "\n",
    "ax.set_ylabel('Probability')\n",
    "ax.set_xlabel('Time')\n",
    "ax.axvline(np.mean(time_taken_arr_nozero), color='green', linestyle='dashed', linewidth=1)\n",
    "ax.axvline(np.median(time_taken_arr_nozero), color='green', linestyle='dashed', linewidth=1)\n",
    "\n",
    "for dat, xoff in zip([time_taken_arr_nozero], [15]):\n",
    "    x0 = int(np.mean(time_taken_arr_nozero))\n",
    "    align = 'left' if xoff > 0 else 'right'\n",
    "    ax.annotate('Mean: {:0.0f} ms'.format(x0), xy=(x0, 1), xytext=(xoff, 15),\n",
    "            xycoords=('data', 'axes fraction'), textcoords='offset points',\n",
    "            horizontalalignment=align, verticalalignment='center',\n",
    "            arrowprops=dict(arrowstyle='-|>', fc='black', shrinkA=0, shrinkB=0,\n",
    "                            connectionstyle='angle,angleA=0,angleB=90,rad=10'),\n",
    "            )\n",
    "for dat, xoff in zip([time_taken_arr_nozero], [-15]):\n",
    "    x0 = int(np.median(time_taken_arr_nozero))\n",
    "    align = 'left' if xoff > 0 else 'right'\n",
    "    ax.annotate('Median: {:0.0f} ms'.format(x0), xy=(x0, 1), xytext=(xoff, 15),\n",
    "            xycoords=('data', 'axes fraction'), textcoords='offset points',\n",
    "            horizontalalignment=align, verticalalignment='center',\n",
    "            arrowprops=dict(arrowstyle='-|>', fc='black', shrinkA=0, shrinkB=0,\n",
    "                            connectionstyle='angle,angleA=0,angleB=90,rad=10'),\n",
    "            )\n"
   ]
  },
  {
   "cell_type": "code",
   "execution_count": null,
   "metadata": {},
   "outputs": [],
   "source": [
    "#Generate a plot of the incorrect \"rolls\" per correct \"roll\" distribution\n",
    "fig, ax = plt.subplots(figsize=(10,5))\n",
    "ax.hist(incorrectRolls_disting_arr,bins=300,range=(0,300),normed=1,alpha=0.5,color='red');\n",
    "#ax.set_title(\"# of Incorrect tRNAs-Ribosome interactions per correct\", y=1.1)\n",
    "ax.set_xlabel(\"# Incorrect tRNA-Ribosome interactions before one correct ribosome-ternary complex reaction started\")\n",
    "ax.set_ylabel(\"Probability of occurrence\")\n",
    "\n",
    "ax.axvline(np.mean(incorrectRolls_disting_arr), color='red', linestyle='dashed', linewidth=1)\n",
    "ax.axvline(np.median(incorrectRolls_disting_arr), color='red', linestyle='dashed', linewidth=1)\n",
    "print(np.median(incorrectRolls_disting_arr))\n",
    "print(np.mean(incorrectRolls_disting_arr))\n",
    "\n",
    "# Add arrows annotating the means:\n",
    "for dat, xoff in zip([incorrectRolls_disting_arr], [15]):\n",
    "    x0 = round(np.mean(incorrectRolls_disting_arr))\n",
    "    align = 'left' if xoff > 0 else 'right'\n",
    "    ax.annotate('Mean: {:0.0f}'.format(x0), xy=(x0, 1), xytext=(xoff, 15),\n",
    "            xycoords=('data', 'axes fraction'), textcoords='offset points',\n",
    "            horizontalalignment=align, verticalalignment='center',\n",
    "            arrowprops=dict(arrowstyle='-|>', fc='black', shrinkA=0, shrinkB=0,\n",
    "                            connectionstyle='angle,angleA=0,angleB=90,rad=10'),\n",
    "            )\n",
    "for dat, xoff in zip([incorrectRolls_disting_arr], [-15]):\n",
    "    x0 = int(np.median(incorrectRolls_disting_arr))\n",
    "    align = 'left' if xoff > 0 else 'right'\n",
    "    ax.annotate('Median: {:0.0f}'.format(x0), xy=(x0, 1), xytext=(xoff, 15),\n",
    "            xycoords=('data', 'axes fraction'), textcoords='offset points',\n",
    "            horizontalalignment=align, verticalalignment='center',\n",
    "            arrowprops=dict(arrowstyle='-|>', fc='black', shrinkA=0, shrinkB=0,\n",
    "                            connectionstyle='angle,angleA=0,angleB=90,rad=10'),\n",
    "            )\n",
    "ax.set_ylim(0,0.03)\n",
    "\n",
    "\n",
    "\n",
    "#######TIME    \n",
    "\n",
    "\n",
    "ax = plt.axes([.5, .45, .35, .35], facecolor='lightgrey')\n",
    "\n",
    "print(np.average(time_taken_arr))\n",
    "print(np.median(time_taken_arr))\n",
    "ax.hist(time_taken_arr,range=[0,400],bins=399,color='green',alpha=0.5, normed=1);\n",
    "\n",
    "ax.set_ylabel('Probability')\n",
    "ax.set_xlabel('Time')\n",
    "ax.axvline(np.mean(time_taken_arr), color='green', linestyle='dashed', linewidth=1)\n",
    "ax.axvline(np.median(time_taken_arr), color='green', linestyle='dashed', linewidth=1)\n",
    "\n",
    "\n",
    "for dat, xoff in zip([time_taken_arr], [15]):\n",
    "    x0 = int(np.mean(time_taken_arr))\n",
    "    align = 'left' if xoff > 0 else 'right'\n",
    "    ax.annotate('Mean: {:0.0f} ms'.format(x0), xy=(x0, 1), xytext=(xoff, 15),\n",
    "            xycoords=('data', 'axes fraction'), textcoords='offset points',\n",
    "            horizontalalignment=align, verticalalignment='center',\n",
    "            arrowprops=dict(arrowstyle='-|>', fc='black', shrinkA=0, shrinkB=0,\n",
    "                            connectionstyle='angle,angleA=0,angleB=90,rad=10'),\n",
    "            )\n",
    "for dat, xoff in zip([time_taken_arr], [-15]):\n",
    "    x0 = int(np.median(time_taken_arr))\n",
    "    align = 'left' if xoff > 0 else 'right'\n",
    "    ax.annotate('Median: {:0.0f} ms'.format(x0), xy=(x0, 1), xytext=(xoff, 15),\n",
    "            xycoords=('data', 'axes fraction'), textcoords='offset points',\n",
    "            horizontalalignment=align, verticalalignment='center',\n",
    "            arrowprops=dict(arrowstyle='-|>', fc='black', shrinkA=0, shrinkB=0,\n",
    "                            connectionstyle='angle,angleA=0,angleB=90,rad=10'),\n",
    "            )"
   ]
  },
  {
   "cell_type": "code",
   "execution_count": null,
   "metadata": {},
   "outputs": [],
   "source": []
  },
  {
   "cell_type": "code",
   "execution_count": null,
   "metadata": {},
   "outputs": [],
   "source": []
  },
  {
   "cell_type": "markdown",
   "metadata": {
    "collapsed": true
   },
   "source": [
    "### 1c. Realistic transport & Indistinguishable tRNA"
   ]
  },
  {
   "cell_type": "markdown",
   "metadata": {},
   "source": [
    "Let's create a voxel cube and see how the distribution of distance from the center looks:"
   ]
  },
  {
   "cell_type": "code",
   "execution_count": null,
   "metadata": {},
   "outputs": [],
   "source": [
    "####Calculate average place to be put in voxel:\n",
    "dist_list = list()\n",
    "for r in range(0,100000):\n",
    "    x = np.random.uniform(-0.05,0.05)\n",
    "    y = np.random.uniform(-0.05,0.05)\n",
    "    z = np.random.uniform(-0.05,0.05)\n",
    "    #if(np.sqrt(x**2+y**2+z**2)>0.019):\n",
    "    dist_list.append(np.sqrt(x**2+y**2+z**2))\n",
    "fig,ax=plt.subplots()\n",
    "ax.hist(dist_list,bins=100);"
   ]
  },
  {
   "cell_type": "markdown",
   "metadata": {},
   "source": [
    "The distribution peaks at the width of the voxel, since at this point CORNERS start affecting the number of times a point can be picked a certain distance away from the center. In particular, spherical shells with radius=r can keep being drawn (causing the number of points to grow as r^2 surface of sphere) until r= half width of voxel, at which point number of points no longer scales the same (and in fact starts decreasing as parts of bigger spherical shells are no longer within the voxel).\n",
    "\n",
    "Ok, great. So let's now insert a particle in the middle of the voxel (here a ribosome w/ r=0.013µm), and also treat the tRNA that is searching for the ribosome as having excluded volume (here r=0.06µm). Let's see how the distribution changes. "
   ]
  },
  {
   "cell_type": "code",
   "execution_count": null,
   "metadata": {},
   "outputs": [],
   "source": [
    "####Calculate average place to be put in voxel:\n",
    "dist_list = list()\n",
    "for r in range(0,100000):\n",
    "    x = np.random.uniform(-0.05,0.05)\n",
    "    y = np.random.uniform(-0.05,0.05)\n",
    "    z = np.random.uniform(-0.05,0.05)\n",
    "    if(np.sqrt(x**2+y**2+z**2)>0.019):\n",
    "        dist_list.append(np.sqrt(x**2+y**2+z**2)-0.019)\n",
    "fig,ax=plt.subplots()\n",
    "\n",
    "ax.hist(dist_list,bins=100);\n",
    "ax.set_xlabel('Radial distance from nearest surface of ternary complex to ribosome (µm)')\n",
    "#ticks = ticker.FuncFormatter(lambda x, pos: '{0:g}'.format(x))\n",
    "#ax.xaxis.set_major_formatter(ticks)\n",
    "\n"
   ]
  },
  {
   "cell_type": "markdown",
   "metadata": {},
   "source": [
    "As expected, the region between 0 and 0.019 now becomes inaccessible, but otherwise the distribution looks the same. If we treat the ribosome as a 2D plane at its closest surface to the ternary complex, we can then estimate a lower bound (and also a qualitative shape) for how long a ternary complex should take until it reaches the ribosome. Let's see how the RMSD (i.e., within 1 SD (68%) of particles diffusing from a certain distance should reach the 2D plane within RMSD time) changes with distance."
   ]
  },
  {
   "cell_type": "code",
   "execution_count": null,
   "metadata": {},
   "outputs": [],
   "source": [
    "t_list = list()\n",
    "D = 56\n",
    "#t = x^2/6D\n",
    "\n",
    "fig,ax=plt.subplots()\n",
    "RMSD_time_arr = list()\n",
    "x_dist = np.linspace(0,np.ptp(dist_list))\n",
    "for i in range(len(x_dist)):\n",
    "    RMSD_time_arr.append(x_dist[i]**2/(6*D))\n",
    "    \n",
    "ax.plot(x_dist,RMSD_time_arr)\n",
    "ax.yaxis.get_major_formatter().set_powerlimits((0, 1))\n",
    "ax.set_ylabel(\"RMSD time to diffuse to ribosome\")\n",
    "ax.set_xlabel(\"Distance from edge of ternary complex to ribosome (µm)\")\n"
   ]
  },
  {
   "cell_type": "markdown",
   "metadata": {},
   "source": [
    "The RMSD time scales with x^2, as expected, but interestingly, note that the bulk of randomly chosen points earlier fall very early on this curve, meaning we expect the distribution of average RMSD times for randomly chosen distances away from the ribosome in a cube voxel to be heavily weighted towards earlier times. \n",
    "\n",
    "RMSD time increases quadratically with distance. The # of times a distance is chosen also increases quadratically with distance (w/ surface area of spherical shell) until the half width of cube voxel is reached. until that half width point, we expect roughly uniform (at least a linear relationship, since there is a constant scaling difference between volume and RMSD) abundances of RMSD time.\n",
    "\n",
    "Note one nuance though: since histogram bins are equal size, the early part of the distribution where quadratic scaling is happening on shorter overall lengths, abundances will be squished and higher at the edge. [e.g., going from 0.01 to 0.02 will have the same count as going from"
   ]
  },
  {
   "cell_type": "code",
   "execution_count": null,
   "metadata": {},
   "outputs": [],
   "source": [
    "plt.plot([0,25,100,225,400,1600,3600,6400],[0,41,333,1125,2666,18666,50666,98666])"
   ]
  },
  {
   "cell_type": "code",
   "execution_count": null,
   "metadata": {},
   "outputs": [],
   "source": [
    "#For each location a tRNA could be placed, create a gaussian for \n",
    "\n",
    "####Calculate average place to be put in voxel:\n",
    "dist_list = list()\n",
    "for r in range(0,1000000):\n",
    "    x = np.random.uniform(-0.3,0.3)\n",
    "    y = np.random.uniform(-0.3,0.3)\n",
    "    z = np.random.uniform(-0.3,0.3)\n",
    "    if(np.sqrt(x**2+y**2+z**2)>0.019):\n",
    "        dist_list.append(np.sqrt(x**2+y**2+z**2)-0.019)\n",
    "t_list = list()\n",
    "D = 56\n",
    "#t = x^2/6D\n",
    "\n",
    "#calculate RMSD time distrib should take a particle to reach a plane @ ribosome edge\n",
    "fig,ax=plt.subplots(figsize=(10,5))\n",
    "\n",
    "#x = np.linspace(0,0.031) #Right next to ribosome to in the corner of voxel furthest from ribosome\n",
    "for x_i in range(len(dist_list)):\n",
    "    if(dist_list[x_i]):\n",
    "        t_list.append(dist_list[x_i]**2/(6*D))\n",
    "np.average(t_list)\n",
    "\n",
    "ax.hist(t_list,bins=200,range=(0.0000001,0.0005));\n",
    "\n",
    "#For each location a tRNA could be placed, create a gaussian for "
   ]
  },
  {
   "cell_type": "code",
   "execution_count": null,
   "metadata": {},
   "outputs": [],
   "source": [
    "x = np.random.uniform(0,100,1000000);\n",
    "x1 = np.random.uniform(0,100,1000000);\n",
    "x2 = np.random.uniform(0,100,1000000);\n",
    "r = np.sqrt(x**2+x1**2+x2**2)\n",
    "\n",
    "fig,[ax,ax1,ax2]=plt.subplots(3,1,figsize=(10,10))\n",
    "ax1.scatter(r,r**2);\n",
    "ax2.hist(r**2,bins=100,range=(0,10000));\n",
    "a= ax.hist(r,bins=100,range=(0,100))[0]\n"
   ]
  },
  {
   "cell_type": "code",
   "execution_count": null,
   "metadata": {},
   "outputs": [],
   "source": [
    "print(sum(a[0:16]),sum(a[0:32]),sum(a[0:64]))\n",
    "print(sum(a[0:32])/sum(a[0:16]),sum(a[0:64])/sum(a[0:32]))\n"
   ]
  },
  {
   "cell_type": "code",
   "execution_count": null,
   "metadata": {},
   "outputs": [],
   "source": [
    "x = np.random.uniform(0,1,1000000);\n",
    "x1 = np.random.uniform(0,1,1000000);\n",
    "x2 = np.random.uniform(0,1,1000000);\n",
    "x3 = np.random.uniform(0,1,1000000);\n",
    "x4 = np.random.uniform(0,1,1000000);\n",
    "\n",
    "a=plt.hist((x**2+x1**2+x2**2),bins=100,range=(0,0.32))\n",
    "a[0][9]\n"
   ]
  },
  {
   "cell_type": "code",
   "execution_count": null,
   "metadata": {},
   "outputs": [],
   "source": [
    "x = np.random.uniform(0,100,1000000);\n",
    "x1 = np.random.uniform(0,100,1000000);\n",
    "x2 = np.random.uniform(0,100,1000000);\n",
    "x3 = np.random.uniform(0,100,1000000);\n",
    "\n",
    "plt.hist(x**2+x1**2,bins=100);"
   ]
  },
  {
   "cell_type": "code",
   "execution_count": 4,
   "metadata": {},
   "outputs": [
    {
     "data": {
      "text/plain": [
       "[<matplotlib.lines.Line2D at 0x112b89da0>]"
      ]
     },
     "execution_count": 4,
     "metadata": {},
     "output_type": "execute_result"
    },
    {
     "data": {
      "image/png": "[encoded data removed]",
      "text/plain": [
       "<Figure size 432x288 with 1 Axes>"
      ]
     },
     "metadata": {
      "needs_background": "light"
     },
     "output_type": "display_data"
    }
   ],
   "source": [
    "a=np.linspace(0,100)\n",
    "plt.plot(a,a**2)"
   ]
  },
  {
   "cell_type": "code",
   "execution_count": null,
   "metadata": {},
   "outputs": [],
   "source": []
  },
  {
   "cell_type": "code",
   "execution_count": 5,
   "metadata": {},
   "outputs": [
    {
     "name": "stdout",
     "output_type": "stream",
     "text": [
      "[0. 0. 0. 0. 1. 0. 0. 0. 0.]\n",
      "[0.23998446 0.24998446 0.25998446 0.26998446 0.27998446 0.28998446\n",
      " 0.29998446 0.30998446 0.31998446]\n",
      "[ 2.95381404  5.85473522  8.75565641 11.6565776  14.55749879 17.45841997\n",
      " 20.35934116 23.26026235 26.16118353]\n",
      "[ 495.  596.  710.  818.  909.  978. 1036. 1151. 1207.]\n",
      "2.958995845145883\n",
      "287 495 596\n"
     ]
    },
    {
     "data": {
      "image/png": "[encoded data removed]",
      "text/plain": [
       "<Figure size 720x720 with 3 Axes>"
      ]
     },
     "metadata": {
      "needs_background": "light"
     },
     "output_type": "display_data"
    }
   ],
   "source": [
    "dist_list = list()\n",
    "r_list = list()\n",
    "x_list = list()\n",
    "for r in range(0,100000):\n",
    "    x = (np.random.uniform(0,10))\n",
    "    y = (np.random.uniform(0,10))\n",
    "    z = (np.random.uniform(0,10))\n",
    "    r_list.append(np.sqrt(x**2+y**2+(z**2)*1))\n",
    "    x_list.append(x)\n",
    "t_list = list()\n",
    "D = 56\n",
    "\n",
    "#calculate RMSD time distrib should take a particle to reach a plane @ ribosome edge\n",
    "fig,[ax,ax1,ax2]=plt.subplots(3,1,figsize=(10,10))\n",
    "\n",
    "a=ax.hist(r_list,bins=np.arange(min(r_list), max(r_list) + 0.01, 0.01));\n",
    "print(a[0][1:10])\n",
    "print(a[1][1:10])\n",
    "\n",
    "\n",
    "for x_i in range(len(r_list)):\n",
    "    t_list.append((r_list[x_i]**2))\n",
    "ax1.scatter(r_list,t_list);\n",
    "\n",
    "b=ax2.hist(t_list,bins=100);\n",
    "\n",
    "print(b[1][1:10])\n",
    "print(b[0][1:10])\n",
    "one= (len(np.where(np.array(r_list)<np.sqrt(b[1][1]))[0]))\n",
    "two = (len(np.where(np.array(r_list)<np.sqrt(b[1][2]))[0])) - one\n",
    "three = (len(np.where(np.array(r_list)<np.sqrt(b[1][3]))[0])) - two - one\n",
    "print(np.sqrt(b[1][3]))\n",
    "print(one,two,three)"
   ]
  },
  {
   "cell_type": "code",
   "execution_count": 6,
   "metadata": {},
   "outputs": [
    {
     "data": {
      "image/png": "[encoded data removed]",
      "text/plain": [
       "<Figure size 720x360 with 1 Axes>"
      ]
     },
     "metadata": {
      "needs_background": "light"
     },
     "output_type": "display_data"
    }
   ],
   "source": [
    "\n",
    "fig,ax=plt.subplots(figsize=(10,5))\n",
    "dist_list = list()\n",
    "for r in range(0,100000):\n",
    "    x = np.random.uniform(-1,1)\n",
    "    y = np.random.uniform(-1,1)\n",
    "    z = np.random.uniform(-1,1)\n",
    "    if(np.sqrt(x**2+y**2+z**2)>0):\n",
    "        dist_list.append(np.sqrt(x**2+y**2+z**2))\n",
    "\n",
    "t_list = list()\n",
    "for x_i in range(len(dist_list)):\n",
    "    t_list.append((dist_list[x_i])**2)\n",
    "np.average(t_list)\n",
    "ax.hist(t_list,bins=400);"
   ]
  },
  {
   "cell_type": "code",
   "execution_count": 7,
   "metadata": {},
   "outputs": [
    {
     "data": {
      "text/plain": [
       "1.0099008031369041"
      ]
     },
     "execution_count": 7,
     "metadata": {},
     "output_type": "execute_result"
    }
   ],
   "source": [
    "dist_list[x_i]"
   ]
  },
  {
   "cell_type": "code",
   "execution_count": 8,
   "metadata": {},
   "outputs": [
    {
     "data": {
      "image/png": "[encoded data removed]",
      "text/plain": [
       "<Figure size 720x360 with 1 Axes>"
      ]
     },
     "metadata": {
      "needs_background": "light"
     },
     "output_type": "display_data"
    }
   ],
   "source": [
    "#For each location a tRNA could be placed, create a gaussian for \n",
    "\n",
    "####Calculate average place to be put in voxel:\n",
    "dist_list = list()\n",
    "for r in range(0,100000):\n",
    "    x = np.random.uniform(-0.05,0.05)\n",
    "    y = np.random.uniform(-0.05,0.05)\n",
    "    z = np.random.uniform(-0.05,0.05)\n",
    "    if(np.sqrt(x**2+y**2+z**2)>0.019):\n",
    "        dist_list.append(np.sqrt(x**2+y**2+z**2)-0.013-0.006)\n",
    "    \n",
    "t_list = list()\n",
    "D = 56\n",
    "#t = x^2/6D\n",
    "\n",
    "#calculate RMSD time distrib should take a particle to reach a plane @ ribosome edge\n",
    "fig,ax=plt.subplots(figsize=(10,5))\n",
    "\n",
    "#x = np.linspace(0,0.031) #Right next to ribosome to in the corner of voxel furthest from ribosome\n",
    "for x_i in range(len(dist_list)):\n",
    "    if(dist_list[x_i]):\n",
    "        t_list.append(dist_list[x_i]**2/(6*D))\n",
    "np.average(t_list)\n",
    "\n",
    "ax.hist(t_list,bins=400);\n",
    "\n",
    "#For each location a tRNA could be placed, create a gaussian "
   ]
  },
  {
   "cell_type": "code",
   "execution_count": 9,
   "metadata": {},
   "outputs": [
    {
     "ename": "SyntaxError",
     "evalue": "invalid syntax (<ipython-input-9-9332d0abc090>, line 3)",
     "output_type": "error",
     "traceback": [
      "\u001b[0;36m  File \u001b[0;32m\"<ipython-input-9-9332d0abc090>\"\u001b[0;36m, line \u001b[0;32m3\u001b[0m\n\u001b[0;31m    gaussian_list.append(np.random.normal(dist_i,np.sqrt(6*56*))\u001b[0m\n\u001b[0m                                                              ^\u001b[0m\n\u001b[0;31mSyntaxError\u001b[0m\u001b[0;31m:\u001b[0m invalid syntax\n"
     ]
    }
   ],
   "source": [
    "gaussian_list = list()\n",
    "for dist_i in dist_list:\n",
    "    gaussian_list.append(np.random.normal(dist_i,np.sqrt(6*56*))"
   ]
  },
  {
   "cell_type": "code",
   "execution_count": null,
   "metadata": {},
   "outputs": [],
   "source": [
    "normal=np.abs(np.random.normal(size=100000))\n",
    "plt.hist(np.abs(normal),bins=100);\n",
    "print(np.sqrt(np.average(normal**2)))"
   ]
  },
  {
   "cell_type": "code",
   "execution_count": null,
   "metadata": {},
   "outputs": [],
   "source": [
    "###Only tRNA that have sink of 1 middle ribosome. tRNA start uniform but ribosome fixed at center of voxel\n",
    "\n",
    "import scipy.stats as sci\n",
    "import matplotlib.ticker as ticker\n",
    "fig,ax=plt.subplots(figsize=(10,5))\n",
    "path = \"/Users/Akshay/Dropbox/Life/EndyLab/Research/TranslationDynamics/data/\"\n",
    "data = \"181005_0129\"\n",
    "df_outputs = pd.read_csv(path+data+\"/outputReactionsList.txt\",sep=\" \",header=None)\n",
    "transport_time = list()\n",
    "expt_start = 0\n",
    "expt_end= 500\n",
    "for expt_num, row in df_outputs.iterrows():\n",
    "    if(expt_num>=expt_start and expt_num<expt_end):\n",
    "        df = pd.read_csv(path+data+\"/\"+row[0],delimiter=\" \",header=None)\n",
    "        df.columns=[\"time\",\"rxn\",\"x\",\"y\",\"z\",\"reactantA\",\"productA\",\"productB\"]\n",
    "        df=df['time']\n",
    "        transport_time.append(df.values)\n",
    "transport_time = np.multiply([item for sublist in transport_time for item in sublist],1)#1e6)\n",
    "ax.hist(transport_time,bins=100,range=(1e-8,0.0003),normed=False);\n",
    "#scale=1e-3\n",
    "#ticks = ticker.FuncFormatter(lambda x, pos: '{0:g}'.format(x*scale))\n",
    "#ax.xaxis.set_major_formatter(ticks)\n",
    "#ax.set_xlabel(\"time (ms)\")\n",
    "\n",
    "###Only tRNA that have sink of 1 middle ribosome. tRNA start uniform and ribosome uniform randomly distributed\n",
    "##I predict in the previous section, was starting with ribosome/tRNA overlap, let's see how random ribosome distrib. looks\n",
    "\n",
    "import scipy.stats as sci\n",
    "import matplotlib.ticker as ticker\n",
    "fig,ax=plt.subplots(figsize=(10,5))\n",
    "path = \"/Users/Akshay/Dropbox/Life/EndyLab/Research/TranslationDynamics/data/\"\n",
    "data = \"181007_0059\"\n",
    "df_outputs = pd.read_csv(path+data+\"/outputReactionsList.txt\",sep=\" \",header=None)\n",
    "transport_time = list()\n",
    "expt_start = 0\n",
    "expt_end= 500\n",
    "for expt_num, row in df_outputs.iterrows():\n",
    "    if(expt_num>=expt_start and expt_num<expt_end):\n",
    "        df = pd.read_csv(path+data+\"/\"+row[0],delimiter=\" \",header=None)\n",
    "        df.columns=[\"time\",\"rxn\",\"x\",\"y\",\"z\",\"reactantA\",\"productA\",\"productB\"]\n",
    "        df=df['time']\n",
    "        transport_time.append(df.values)\n",
    "transport_time = np.multiply([item for sublist in transport_time for item in sublist],1e6)\n",
    "ax.hist(transport_time,bins=100,range=(1e-8*1e6,0.0003*1e6),normed=True)\n",
    "scale=1e-3\n",
    "ticks = ticker.FuncFormatter(lambda x, pos: '{0:g}'.format(x*scale))\n",
    "ax.xaxis.set_major_formatter(ticks)\n",
    "ax.set_xlabel(\"Time (ms)\")\n",
    "ax.set_ylabel(\"Probability\")\n",
    "\n",
    "###Only tRNA that have sink of 1 middle ribosome. tRNA start uniform and ribosome uniform randomly distributed\n",
    "##I predict in the previous section, was starting with ribosome/tRNA overlap, let's see how random ribosome distrib.\n",
    "#Same as immediately above excepet 1e-10 timesteps in case was having error with sink time taking too long.\n",
    "\n",
    "import scipy.stats as sci\n",
    "import matplotlib.ticker as ticker\n",
    "fig,ax=plt.subplots(figsize=(10,5))\n",
    "path = \"/Users/Akshay/Dropbox/Life/EndyLab/Research/TranslationDynamics/data/\"\n",
    "data = \"181007_1111\"\n",
    "df_outputs = pd.read_csv(path+data+\"/outputReactionsList.txt\",sep=\" \",header=None)\n",
    "transport_time = list()\n",
    "expt_start = 0\n",
    "expt_end= 250\n",
    "for expt_num, row in df_outputs.iterrows():\n",
    "    if(expt_num>=expt_start and expt_num<expt_end):\n",
    "        df = pd.read_csv(path+data+\"/\"+row[0],delimiter=\" \",header=None)\n",
    "        df.columns=[\"time\",\"rxn\",\"x\",\"y\",\"z\",\"reactantA\",\"productA\",\"productB\"]\n",
    "        df=df['time']\n",
    "        transport_time.append(df.values)\n",
    "transport_time = np.multiply([item for sublist in transport_time for item in sublist],1e6)\n",
    "ax.hist(transport_time,bins=75,range=(1e-9*1e6,3e-4*1e6),normed=True)\n",
    "scale=1\n",
    "ticks = ticker.FuncFormatter(lambda x, pos: '{0:g}'.format(x*scale))\n",
    "ax.xaxis.set_major_formatter(ticks)\n",
    "ax.set_xlabel(\"time (ms)\")"
   ]
  },
  {
   "cell_type": "code",
   "execution_count": null,
   "metadata": {},
   "outputs": [],
   "source": [
    "## Only tRNA that have sink of 1 middle ribosome. tRNA start at edge of voxel,\n",
    "#while ribosome sits in middle. 100nm side voxel. 100 non-cognates (acting as cognates here)\n",
    "\n",
    "import scipy.stats as sci\n",
    "import matplotlib.ticker as ticker\n",
    "fig,ax=plt.subplots(figsize=(10,5))\n",
    "path = \"/Users/Akshay/Dropbox/Life/EndyLab/Research/TranslationDynamics/data/\"\n",
    "data = \"181004_2155\"\n",
    "df_outputs = pd.read_csv(path+data+\"/outputReactionsList.txt\",sep=\" \",header=None)\n",
    "transport_time = list()\n",
    "expt_start = 0\n",
    "expt_end= 500\n",
    "for expt_num, row in df_outputs.iterrows():\n",
    "    if(expt_num>=expt_start and expt_num<expt_end):\n",
    "        df = pd.read_csv(path+data+\"/\"+row[0],delimiter=\" \",header=None)\n",
    "        df.columns=[\"time\",\"rxn\",\"x\",\"y\",\"z\",\"reactantA\",\"productA\",\"productB\"]\n",
    "        df=df['time']\n",
    "        transport_time.append(df.values)\n",
    "transport_time = np.multiply([item for sublist in transport_time for item in sublist],1)\n",
    "ax.hist(transport_time+transport_time,bins=300,range=(0,3e-4),normed=False);\n",
    "\n",
    "\n",
    "####tRNA at 0.075 0.075 0.075 and ribosome at 0.05 0.05 0.05. Timestep 1e-10.\n",
    "import scipy.stats as sci\n",
    "import matplotlib.ticker as ticker\n",
    "fig,ax=plt.subplots(figsize=(10,5))\n",
    "path = \"/Users/Akshay/Dropbox/Life/EndyLab/Research/TranslationDynamics/data/\"\n",
    "data = \"181007_1014\"\n",
    "df_outputs = pd.read_csv(path+data+\"/outputReactionsList.txt\",sep=\" \",header=None)\n",
    "transport_time = list()\n",
    "expt_start = 0\n",
    "expt_end= 250\n",
    "for expt_num, row in df_outputs.iterrows():\n",
    "    if(expt_num>=expt_start and expt_num<expt_end):\n",
    "        df = pd.read_csv(path+data+\"/\"+row[0],delimiter=\" \",header=None)\n",
    "        df.columns=[\"time\",\"rxn\",\"x\",\"y\",\"z\",\"reactantA\",\"productA\",\"productB\"]\n",
    "        df=df['time']\n",
    "        transport_time.append(df.values)\n",
    "transport_time = np.multiply([item for sublist in transport_time for item in sublist],1)\n",
    "ax.hist(transport_time+transport_time,bins=300,range=(0,3e-4),normed=False)\n",
    "\n"
   ]
  },
  {
   "cell_type": "code",
   "execution_count": null,
   "metadata": {},
   "outputs": [],
   "source": []
  },
  {
   "cell_type": "code",
   "execution_count": null,
   "metadata": {},
   "outputs": [],
   "source": [
    "## Only tRNA that have sink of 1 middle ribosome. tRNA start at edge of voxel,\n",
    "#while ribosome sits in middle. 100nm side voxel. 50 cognates. HALF SIZED RIBOSOME TO TEST <x> diffusion/when\n",
    "#reaction actually counted by smoldyn\n",
    "\n",
    "import scipy.stats as sci\n",
    "import matplotlib.ticker as ticker\n",
    "fig,ax=plt.subplots(figsize=(10,5))\n",
    "path = \"/Users/Akshay/Dropbox/Life/EndyLab/Research/TranslationDynamics/data/\"\n",
    "data = \"181005_1537\"\n",
    "df_outputs = pd.read_csv(path+data+\"/outputReactionsList.txt\",sep=\" \",header=None)\n",
    "transport_time = list()\n",
    "expt_start = 6\n",
    "expt_end= 500\n",
    "for expt_num, row in df_outputs.iterrows():\n",
    "    if(expt_num>=expt_start and expt_num<expt_end):\n",
    "        df = pd.read_csv(path+data+\"/\"+row[0],delimiter=\" \",header=None)\n",
    "        df.columns=[\"time\",\"rxn\",\"x\",\"y\",\"z\",\"reactantA\",\"productA\",\"productB\"]\n",
    "        df=df['time']\n",
    "        transport_time.append(df.values)\n",
    "transport_time = np.multiply([item for sublist in transport_time for item in sublist],1e6)\n",
    "ax.hist(transport_time,bins=200,range=(0,0.00025*1e6),normed=True);\n",
    "\n"
   ]
  },
  {
   "cell_type": "code",
   "execution_count": null,
   "metadata": {},
   "outputs": [],
   "source": [
    "## Only tRNA that have sink of 1 middle ribosome. tRNA start at edge of voxel,\n",
    "#while ribosome sits in middle. 100nm side voxel. 50 cognates\n",
    "\n",
    "import scipy.stats as sci\n",
    "import matplotlib.ticker as ticker\n",
    "fig,ax=plt.subplots(figsize=(10,5))\n",
    "path = \"/Users/Akshay/Dropbox/Life/EndyLab/Research/TranslationDynamics/data/\"\n",
    "data = \"181005_1344\"\n",
    "df_outputs = pd.read_csv(path+data+\"/outputReactionsList.txt\",sep=\" \",header=None)\n",
    "transport_time = list()\n",
    "expt_start = 6\n",
    "expt_end= 290\n",
    "for expt_num, row in df_outputs.iterrows():\n",
    "    if(expt_num>=expt_start and expt_num<expt_end):\n",
    "        df = pd.read_csv(path+data+\"/\"+row[0],delimiter=\" \",header=None)\n",
    "        df.columns=[\"time\",\"rxn\",\"x\",\"y\",\"z\",\"reactantA\",\"productA\",\"productB\"]\n",
    "        df=df['time']\n",
    "        transport_time.append(df.values)\n",
    "transport_time = np.multiply([item for sublist in transport_time for item in sublist],1e6)\n",
    "ax.hist(transport_time,bins=300,range=(0,0.00025*1e6),normed=False);\n"
   ]
  },
  {
   "cell_type": "code",
   "execution_count": null,
   "metadata": {},
   "outputs": [],
   "source": [
    "incorrectRolls_arr = [0]\n",
    "fig, ax = plt.subplots(figsize=(10,5))\n",
    "ax.hist(incorrectRolls_arr,bins=400,range=(0,400),normed=1,color='red',alpha=0.5);\n",
    "#ax.set_title(\"Distribution of incorrect tRNA collisions per correct tRNA collision\\n for a given ribosome & single cognate tRNA\", y=1.18,fontsize=20)\n",
    "ax.set_xlabel(\"# of incorrect tRNA collisions per correct\",fontsize=10)\n",
    "ax.set_ylabel(\"Probability of \\nsuccesful incorporation\",fontsize=10)\n",
    "for dat, xoff in zip([incorrectRolls_arr], [15]):\n",
    "    x0 = int(np.mean(incorrectRolls_arr))\n",
    "    align = 'left' if xoff > 0 else 'right'\n",
    "    ax.annotate('Mean: {:0.0f}'.format(x0), xy=(x0, 1), xytext=(xoff, 15),\n",
    "            xycoords=('data', 'axes fraction'), textcoords='offset points',\n",
    "            horizontalalignment=align, verticalalignment='center',\n",
    "            arrowprops=dict(arrowstyle='-|>', fc='black', shrinkA=0, shrinkB=0,\n",
    "                            connectionstyle='angle,angleA=0,angleB=90,rad=10'),\n",
    "            )\n",
    "for dat, xoff in zip([incorrectRolls_arr], [-15]):\n",
    "    x0 = int(np.median(incorrectRolls_arr))\n",
    "    align = 'left' if xoff > 0 else 'right'\n",
    "    ax.annotate('Median: {:0.0f}'.format(x0), xy=(x0, 1), xytext=(xoff, 15),\n",
    "            xycoords=('data', 'axes fraction'), textcoords='offset points',\n",
    "            horizontalalignment=align, verticalalignment='center',\n",
    "            arrowprops=dict(arrowstyle='-|>', fc='black', shrinkA=0, shrinkB=0,\n",
    "                            connectionstyle='angle,angleA=0,angleB=90,rad=10'),\n",
    "            )\n",
    "\n",
    "#######TIME \n",
    "import scipy.stats as sci\n",
    "import matplotlib.ticker as ticker\n",
    "path = \"/Users/Akshay/Dropbox/Life/EndyLab/Research/TranslationDynamics/data/\"\n",
    "data = \"181005_1344\"\n",
    "df_outputs = pd.read_csv(path+data+\"/outputReactionsList.txt\",sep=\" \",header=None)\n",
    "transport_time = list()\n",
    "expt_start = 6\n",
    "expt_end= 290\n",
    "for expt_num, row in df_outputs.iterrows():\n",
    "    if(expt_num>=expt_start and expt_num<expt_end):\n",
    "        df = pd.read_csv(path+data+\"/\"+row[0],delimiter=\" \",header=None)\n",
    "        df.columns=[\"time\",\"rxn\",\"x\",\"y\",\"z\",\"reactantA\",\"productA\",\"productB\"]\n",
    "        df=df['time']\n",
    "        transport_time.append(df.values)\n",
    "transport_time = np.multiply([item for sublist in transport_time for item in sublist],1e6)\n",
    "\n",
    "ax = plt.axes([.5, .45, .35, .35], facecolor='lightgrey')\n",
    "ax.hist(transport_time,bins=300,range=(0,0.00025*1e6),normed=1,color='green',alpha=0.5)\n",
    "scale=1e-3\n",
    "ticks = ticker.FuncFormatter(lambda x, pos: '{0:g}'.format(x*scale))\n",
    "ax.xaxis.set_major_formatter(ticks)\n",
    "ax.set_xlabel(\"time (ms)\")\n",
    "#ax.set_title(\"Time taken (ms)\", y=1.18,fontsize=20)\n",
    "ax.set_xlabel(\"Time\")\n",
    "ax.set_ylabel(\"Probability\")\n",
    "#ax.set_xlabel('Time taken until one correct ribosome-ternary complex reaction started')\n",
    "#ax.set_ylabel(\"Probability of \\nsuccesful incorporation\",fontsize=10)\n",
    "ax.axvline(np.mean(transport_time), color='green', linestyle='dashed', linewidth=1)\n",
    "for dat, xoff in zip([transport_time], [15]):\n",
    "    x0 = (np.mean(transport_time))\n",
    "    align = 'left' if xoff > 0 else 'right'\n",
    "    ax.annotate('Mean: {:0.3f} ms'.format(x0*scale), xy=(x0, 1), xytext=(xoff, 15),\n",
    "            xycoords=('data', 'axes fraction'), textcoords='offset points',\n",
    "            horizontalalignment=align, verticalalignment='center',\n",
    "            arrowprops=dict(arrowstyle='-|>', fc='black', shrinkA=0, shrinkB=0,\n",
    "                            connectionstyle='angle,angleA=0,angleB=90,rad=10'),\n",
    "            )\n",
    "x0 = (sci.stats.mode(transport_time)[0][0])\n",
    "print(x0)\n",
    "ax.axvline(x0, color='green', linestyle='dashed', linewidth=1)\n",
    "for dat, xoff in zip([transport_time], [-15]):\n",
    "    align = 'left' if xoff > 0 else 'right'\n",
    "    ax.annotate('Mode: {:0.3f} ms'.format(x0*scale), xy=(x0, 1), xytext=(xoff, 15),\n",
    "            xycoords=('data', 'axes fraction'), textcoords='offset points',\n",
    "            horizontalalignment=align, verticalalignment='center',\n",
    "            arrowprops=dict(arrowstyle='-|>', fc='black', shrinkA=0, shrinkB=0,\n",
    "                            connectionstyle='angle,angleA=0,angleB=90,rad=10'),\n",
    "            )"
   ]
  },
  {
   "cell_type": "code",
   "execution_count": null,
   "metadata": {},
   "outputs": [],
   "source": []
  },
  {
   "cell_type": "markdown",
   "metadata": {},
   "source": [
    "### 1d. Realistic transport & Distinguishable tRNA\n"
   ]
  },
  {
   "cell_type": "code",
   "execution_count": null,
   "metadata": {},
   "outputs": [],
   "source": [
    "## Only tRNA that have sink of 1 middle ribosome. tRNA start at edge of voxel,\n",
    "#while ribosome sits in middle. 100nm side voxel. With 41 non-cognates. 100 cognates non-interacting\n",
    "\n",
    "import scipy.stats as sci\n",
    "import matplotlib.ticker as ticker\n",
    "fig,ax=plt.subplots(figsize=(10,5))\n",
    "path = \"/Users/Akshay/Dropbox/Life/EndyLab/Research/TranslationDynamics/data/\"\n",
    "data = \"181005_0418\"\n",
    "df_outputs = pd.read_csv(path+data+\"/outputReactionsList.txt\",sep=\" \",header=None)\n",
    "transport_time = list()\n",
    "expt_start = 0\n",
    "expt_end= 500\n",
    "for expt_num, row in df_outputs.iterrows():\n",
    "    if(expt_num>=expt_start and expt_num<expt_end):\n",
    "        df = pd.read_csv(path+data+\"/\"+row[0],delimiter=\" \",header=None)\n",
    "        df.columns=[\"time\",\"rxn\",\"x\",\"y\",\"z\",\"reactantA\",\"productA\",\"productB\"]\n",
    "        df=df['time']\n",
    "        transport_time.append(df.values)\n",
    "transport_time = np.multiply([item for sublist in transport_time for item in sublist],1e3)\n",
    "print(np.average(transport_time))\n",
    "print(np.median(transport_time))\n",
    "ax.hist(transport_time,bins=150);"
   ]
  },
  {
   "cell_type": "code",
   "execution_count": null,
   "metadata": {},
   "outputs": [],
   "source": []
  },
  {
   "cell_type": "code",
   "execution_count": null,
   "metadata": {},
   "outputs": [],
   "source": [
    "## Only tRNA that have sink of 1 middle ribosome. tRNA start at edge of voxel,\n",
    "## while ribosome sits in middle. 100nm side voxel. With 41 non-cognates. 200 cognates non-interacting\n",
    "\n",
    "import scipy.stats as sci\n",
    "import matplotlib.ticker as ticker\n",
    "fig,ax=plt.subplots(figsize=(10,5))\n",
    "path = \"/Users/Akshay/Dropbox/Life/EndyLab/Research/TranslationDynamics/data/\"\n",
    "data = \"181005_1152\"\n",
    "df_outputs = pd.read_csv(path+data+\"/outputReactionsList.txt\",sep=\" \",header=None)\n",
    "transport_time = list()\n",
    "expt_start = 0\n",
    "expt_end= 500\n",
    "for expt_num, row in df_outputs.iterrows():\n",
    "    if(expt_num>=expt_start and expt_num<expt_end):\n",
    "        df = pd.read_csv(path+data+\"/\"+row[0],delimiter=\" \",header=None)\n",
    "        df.columns=[\"time\",\"rxn\",\"x\",\"y\",\"z\",\"reactantA\",\"productA\",\"productB\"]\n",
    "        df=df['time']\n",
    "        transport_time.append(df.values)\n",
    "transport_time = np.multiply([item for sublist in transport_time for item in sublist],1e3)\n",
    "print(np.average(transport_time))\n",
    "print(np.median(transport_time))\n",
    "ax.hist(transport_time,bins=250,normed=True,color='green');\n",
    "ax.set_xlabel('Time (ms)')\n",
    "ax.set_ylabel('Probability')\n"
   ]
  },
  {
   "cell_type": "code",
   "execution_count": null,
   "metadata": {},
   "outputs": [],
   "source": [
    "## Only tRNA that have sink of 1 middle ribosome. tRNA start at edge of voxel,\n",
    "## while ribosome sits in middle. 100nm side voxel. With 41 non-cognates. 50 cognates non-interacting\n",
    "\n",
    "import scipy.stats as sci\n",
    "import matplotlib.ticker as ticker\n",
    "fig,ax=plt.subplots(figsize=(10,5))\n",
    "path = \"/Users/Akshay/Dropbox/Life/EndyLab/Research/TranslationDynamics/data/\"\n",
    "data = \"181009_1130\"\n",
    "df_outputs = pd.read_csv(path+data+\"/outputReactionsList.txt\",sep=\" \",header=None)\n",
    "transport_time = list()\n",
    "expt_start = 0\n",
    "expt_end= 500\n",
    "for expt_num, row in df_outputs.iterrows():\n",
    "    if(expt_num>=expt_start and expt_num<expt_end):\n",
    "        df = pd.read_csv(path+data+\"/\"+row[0],delimiter=\" \",header=None)\n",
    "        df.columns=[\"time\",\"rxn\",\"x\",\"y\",\"z\",\"reactantA\",\"productA\",\"productB\"]\n",
    "        df=df['time']\n",
    "        transport_time.append(df.values)\n",
    "transport_time = np.multiply([item for sublist in transport_time for item in sublist],1e3)\n",
    "print(np.average(transport_time))\n",
    "print(np.median(transport_time))\n",
    "ax.hist(transport_time,bins=100,range=(0,400),density=True,color='green');\n",
    "ax.set_xlabel('Time (ms)')\n",
    "ax.set_ylabel('Probability')"
   ]
  },
  {
   "cell_type": "code",
   "execution_count": null,
   "metadata": {},
   "outputs": [],
   "source": [
    "## Only tRNA that have sink of 1 middle ribosome. tRNA start at edge of voxel,\n",
    "## while ribosome sits in middle. 100nm side voxel. With 41 non-cognates. 50 cognates non-interacting./\n",
    "#here also recorded non-cognate reactions \n",
    "\n",
    "import scipy.stats as sci\n",
    "import matplotlib.ticker as ticker\n",
    "fig,[ax1,ax2]=plt.subplots(1,2,figsize=(10,5))\n",
    "path = \"/Users/Akshay/Dropbox/Life/EndyLab/Research/TranslationDynamics/data/\"\n",
    "data = \"181009_1311\"\n",
    "df_outputs = pd.read_csv(path+data+\"/outputReactionsList.txt\",sep=\" \",header=None)\n",
    "transport_time = list()\n",
    "incorrect_count_arr=list()\n",
    "expt_start = 0\n",
    "expt_end= 500\n",
    "for expt_num, row in df_outputs.iterrows():\n",
    "    if(expt_num>=expt_start and expt_num<expt_end):\n",
    "        df = pd.read_csv(path+data+\"/\"+row[0],delimiter=\" \",header=None)\n",
    "        df.columns=[\"time\",\"rxn\",\"x\",\"y\",\"z\",\"reactantA\",\"productA\",\"productB\"]\n",
    "        df_corr=df.loc[df['rxn'].isin([\"rxn6\"])]\n",
    "        transport_time.append(df_corr['time'].values)\n",
    "        incorr_count_i =0\n",
    "        for _,row in df.iterrows():\n",
    "            if row['rxn']=='rxn6':\n",
    "                incorrect_count_arr.append(incorr_count_i)\n",
    "            if row['rxn']=='rxn7':\n",
    "                incorr_count_i+=1\n",
    "            \n",
    "transport_time = np.multiply([item for sublist in transport_time for item in sublist],1e3)\n",
    "print(np.average(transport_time))\n",
    "print(np.median(transport_time))\n",
    "print(np.average(incorrect_count_arr))\n",
    "ax1.hist(transport_time,bins=100,range=(0,400),density=False,color='green');\n",
    "ax2.hist(incorrect_count_arr,bins=100,range=(0,300),density=False,color='red');\n",
    "ax2.set_xlabel('# incorrect tRNA-ribosome interactions per correct ribosome ternary-complex interaction')\n",
    "ax1.set_xlabel('Time (ms)')\n",
    "ax1.set_ylabel('Probability')\n",
    "ax2.set_ylabel('Probability')"
   ]
  },
  {
   "cell_type": "code",
   "execution_count": null,
   "metadata": {},
   "outputs": [],
   "source": [
    "## Only tRNA that have sink of 1 middle ribosome. tRNA start at edge of voxel,\n",
    "## while ribosome sits in middle. 100nm side voxel. With 41 non-cognates. 50 cognates non-interacting./\n",
    "#here also recorded non-cognate reactions \n",
    "\n",
    "import scipy.stats as sci\n",
    "import matplotlib.ticker as ticker\n",
    "fig,[ax1,ax2]=plt.subplots(1,2,figsize=(10,5))\n",
    "path = \"/Users/Akshay/Dropbox/Life/EndyLab/Research/TranslationDynamics/data/\"\n",
    "data = \"181009_1311\"\n",
    "df_outputs = pd.read_csv(path+data+\"/outputReactionsList.txt\",sep=\" \",header=None)\n",
    "transport_time = list()\n",
    "incorrect_count_arr=list()\n",
    "expt_start = 0\n",
    "expt_end= 500\n",
    "for expt_num, row in df_outputs.iterrows():\n",
    "    if(expt_num>=expt_start and expt_num<expt_end):\n",
    "        df = pd.read_csv(path+data+\"/\"+row[0],delimiter=\" \",header=None)\n",
    "        df.columns=[\"time\",\"rxn\",\"x\",\"y\",\"z\",\"reactantA\",\"productA\",\"productB\"]\n",
    "        df_corr=df.loc[df['rxn'].isin([\"rxn6\"])]\n",
    "        transport_time.append(df_corr['time'].values)\n",
    "        incorr_count_i =0\n",
    "        for _,row in df.iterrows():\n",
    "            if row['rxn']=='rxn6':\n",
    "                incorrect_count_arr.append(incorr_count_i)\n",
    "            if row['rxn']=='rxn7':\n",
    "                incorr_count_i+=1\n",
    "data = \"181009_1130\"\n",
    "df_outputs = pd.read_csv(path+data+\"/outputReactionsList.txt\",sep=\" \",header=None)\n",
    "for expt_num, row in df_outputs.iterrows():\n",
    "    if(expt_num>=expt_start and expt_num<expt_end):\n",
    "        df = pd.read_csv(path+data+\"/\"+row[0],delimiter=\" \",header=None)\n",
    "        df.columns=[\"time\",\"rxn\",\"x\",\"y\",\"z\",\"reactantA\",\"productA\",\"productB\"]\n",
    "        df_corr=df.loc[df['rxn'].isin([\"rxn6\"])]\n",
    "        transport_time.append(df_corr['time'].values)\n",
    "\n",
    "transport_time = np.multiply([item for sublist in transport_time for item in sublist],1e3)\n",
    "print(np.average(transport_time))\n",
    "print(np.median(transport_time))\n",
    "print(np.average(incorrect_count_arr))\n",
    "ax1.hist(transport_time,bins=100,range=(0,400),density=False,color='green');\n",
    "ax2.hist(incorrect_count_arr,bins=100,range=(0,300),density=False,color='red');\n",
    "ax2.set_xlabel('# incorrect tRNA-ribosome interactions per correct ribosome ternary-complex interaction')\n",
    "ax1.set_xlabel('Time (ms)')\n",
    "ax1.set_ylabel('Probability')\n",
    "ax2.set_ylabel('Probability')"
   ]
  },
  {
   "cell_type": "code",
   "execution_count": null,
   "metadata": {},
   "outputs": [],
   "source": [
    "## Only tRNA that have sink of 1 middle ribosome. tRNA start at edge of voxel,\n",
    "## while ribosome sits in middle. 100nm side voxel. With 41 non-cognates. 200 cognates non-interacting\n",
    "\n",
    "import scipy.stats as sci\n",
    "import matplotlib.ticker as ticker\n",
    "fig,ax=plt.subplots(figsize=(10,5))\n",
    "path = \"/Users/Akshay/Dropbox/Life/EndyLab/Research/TranslationDynamics/data/\"\n",
    "data = \"181008_1628\"\n",
    "df_outputs = pd.read_csv(path+data+\"/outputReactionsList.txt\",sep=\" \",header=None)\n",
    "transport_time = list()\n",
    "expt_start = 0\n",
    "expt_end= 500\n",
    "for expt_num, row in df_outputs.iterrows():\n",
    "    if(expt_num>=expt_start and expt_num<expt_end):\n",
    "        df = pd.read_csv(path+data+\"/\"+row[0],delimiter=\" \",header=None)\n",
    "        df.columns=[\"time\",\"rxn\",\"x\",\"y\",\"z\",\"reactantA\",\"productA\",\"productB\"]\n",
    "        df=df['time']\n",
    "        transport_time.append(df.values)\n",
    "transport_time = np.multiply([item for sublist in transport_time for item in sublist],1e3)\n",
    "print(np.average(transport_time))\n",
    "print(np.median(transport_time))\n",
    "ax.hist(transport_time,bins=250,normed=True,alpha=0.5,color='green');\n",
    "ax.set_xlabel('Time (ms)')\n",
    "\n",
    "ax.hist(time_taken_arr,range=[0,400],bins=399,color='grey',alpha=0.3, normed=1);"
   ]
  },
  {
   "cell_type": "code",
   "execution_count": null,
   "metadata": {},
   "outputs": [],
   "source": [
    "## Only tRNA that have sink of 1 middle ribosome. tRNA start at vertex while non-cognates start at random,\n",
    "## while ribosome is uniform random. 100nm side voxel. With 41 non-cognates. 50 cognates non-interacting\n",
    "\n",
    "import scipy.stats as sci\n",
    "import matplotlib.ticker as ticker\n",
    "fig,ax=plt.subplots(figsize=(10,5))\n",
    "path = \"/Users/Akshay/Dropbox/Life/EndyLab/Research/TranslationDynamics/data/\"\n",
    "data = \"181008_2118\"\n",
    "df_outputs = pd.read_csv(path+data+\"/outputReactionsList.txt\",sep=\" \",header=None)\n",
    "transport_time = list()\n",
    "expt_start = 0\n",
    "expt_end= 500\n",
    "for expt_num, row in df_outputs.iterrows():\n",
    "    if(expt_num>=expt_start and expt_num<expt_end):\n",
    "        df = pd.read_csv(path+data+\"/\"+row[0],delimiter=\" \",header=None)\n",
    "        df.columns=[\"time\",\"rxn\",\"x\",\"y\",\"z\",\"reactantA\",\"productA\",\"productB\"]\n",
    "        df=df['time']\n",
    "        transport_time.append(df.values)\n",
    "transport_time = np.multiply([item for sublist in transport_time for item in sublist],1e3)\n",
    "print(np.average(transport_time))\n",
    "print(np.median(transport_time))\n",
    "ax.hist(transport_time,bins=250,normed=True,color='green',alpha=0.2);\n",
    "ax.set_xlabel('Time (ms)')\n",
    "ax.set_ylabel('Probability')"
   ]
  },
  {
   "cell_type": "code",
   "execution_count": null,
   "metadata": {},
   "outputs": [],
   "source": [
    "## Only tRNA that have sink of 1 middle ribosome. tRNA start at random as do non-cognates,\n",
    "## while ribosome is uniform random. 100nm side voxel. With 41 non-cognates. 50 cognates non-interacting\n",
    "\n",
    "import scipy.stats as sci\n",
    "import matplotlib.ticker as ticker\n",
    "fig,ax=plt.subplots(figsize=(10,5))\n",
    "path = \"/Users/Akshay/Dropbox/Life/EndyLab/Research/TranslationDynamics/data/\"\n",
    "data = \"181008_1628\"\n",
    "df_outputs = pd.read_csv(path+data+\"/outputReactionsList.txt\",sep=\" \",header=None)\n",
    "transport_time = list()\n",
    "expt_start = 0\n",
    "expt_end= 500\n",
    "incorrect_count_arr = list()\n",
    "for expt_num, row in df_outputs.iterrows():\n",
    "    if(expt_num>=expt_start and expt_num<expt_end):\n",
    "        df = pd.read_csv(path+data+\"/\"+row[0],delimiter=\" \",header=None)\n",
    "        df.columns=[\"time\",\"rxn\",\"x\",\"y\",\"z\",\"reactantA\",\"productA\",\"productB\"]\n",
    "        df=df.loc[df['rxn'].isin([\"rxn6\"])]\n",
    "        df_incorr=df.loc[df['rxn'].isin([\"rxn7\"])] \n",
    "        df=df['time']\n",
    "        transport_time.append(df.values)\n",
    "transport_time = np.multiply([item for sublist in transport_time for item in sublist],1e3)\n",
    "print(np.average(transport_time))\n",
    "print(np.median(transport_time))\n",
    "ax.hist(transport_time,bins=250,density=True,color='green');\n",
    "ax.set_xlabel('Time (ms)')\n",
    "ax.set_ylabel('Probability')"
   ]
  },
  {
   "cell_type": "code",
   "execution_count": null,
   "metadata": {},
   "outputs": [],
   "source": [
    "## Only tRNA that have sink of 1 middle ribosome. Just 1 cognate start uniform,\n",
    "## while ribosome also uniform. 100nm side voxel. With 41 non-cognates. 200 cognates non-interacting\n",
    "\n",
    "import scipy.stats as sci\n",
    "import matplotlib.ticker as ticker\n",
    "fig,ax=plt.subplots(figsize=(10,5))\n",
    "path = \"/Users/Akshay/Dropbox/Life/EndyLab/Research/TranslationDynamics/data/\"\n",
    "data = \"181005_1152\"\n",
    "df_outputs = pd.read_csv(path+data+\"/outputReactionsList.txt\",sep=\" \",header=None)\n",
    "transport_time = list()\n",
    "expt_start = 0\n",
    "expt_end= 500\n",
    "for expt_num, row in df_outputs.iterrows():\n",
    "    if(expt_num>=expt_start and expt_num<expt_end):\n",
    "        df = pd.read_csv(path+data+\"/\"+row[0],delimiter=\" \",header=None)\n",
    "        df.columns=[\"time\",\"rxn\",\"x\",\"y\",\"z\",\"reactantA\",\"productA\",\"productB\"]\n",
    "        df=df['time']\n",
    "        transport_time.append(df.values)\n",
    "transport_time = np.multiply([item for sublist in transport_time for item in sublist],1e3)\n",
    "print(np.average(transport_time))\n",
    "print(np.median(transport_time))\n",
    "ax.hist(transport_time,bins=250,normed=True,color='green');\n",
    "ax.set_xlabel('Time (ms)')\n",
    "ax.set_ylabel('Probability')\n"
   ]
  },
  {
   "cell_type": "code",
   "execution_count": null,
   "metadata": {},
   "outputs": [],
   "source": [
    "np.random.seed=100\n",
    "time_hist = np.random.geometric(0.001,1000000)"
   ]
  },
  {
   "cell_type": "code",
   "execution_count": 114,
   "metadata": {},
   "outputs": [
    {
     "data": {
      "image/png": "[encoded data removed]",
      "text/plain": [
       "<matplotlib.figure.Figure at 0x124fe1208>"
      ]
     },
     "metadata": {},
     "output_type": "display_data"
    }
   ],
   "source": [
    "fig, ax = plt.subplots(figsize=(10,5))\n",
    "\n",
    "ax.hist(time_hist,bins=1000,color='C0');\n",
    "ax.hist(10000+time_hist,bins=1000,color='green');\n",
    "ax.set_title('Time until succesful tRNA collision with ribosome')\n",
    "ax.set_xlabel(\"Time\")\n",
    "ax.set_ylabel(\"Probability of occurrence\")\n",
    "plt.tick_params(\n",
    "    axis='both',          # changes apply to the x-axis\n",
    "    which='both',      # both major and minor ticks are affected\n",
    "    bottom=False,      # ticks along the bottom edge are off\n",
    "    left=False,\n",
    "    top=False,         # ticks along the top edge are off\n",
    "    labelbottom=False,\n",
    "labelleft=False) # labels along the bottom edge are off"
   ]
  },
  {
   "cell_type": "code",
   "execution_count": 120,
   "metadata": {},
   "outputs": [
    {
     "data": {
      "image/png": "[encoded data removed]",
      "text/plain": [
       "<matplotlib.figure.Figure at 0x1207ddd30>"
      ]
     },
     "metadata": {},
     "output_type": "display_data"
    }
   ],
   "source": [
    "plt.hist(np.random.geometric(0.001,100000),bins=100);"
   ]
  },
  {
   "cell_type": "code",
   "execution_count": 607,
   "metadata": {},
   "outputs": [
    {
     "data": {
      "image/png": "[encoded data removed]",
      "text/plain": [
       "<matplotlib.figure.Figure at 0x173d59fd0>"
      ]
     },
     "metadata": {},
     "output_type": "display_data"
    }
   ],
   "source": [
    "plt.hist(np.random.exponential(0.01,100000)+np.random.exponential(0.01,100000)+np.random.exponential(0.01,100000)+np.random.exponential(0.01,100000)+np.random.exponential(0.1,100000),bins=100);"
   ]
  },
  {
   "cell_type": "code",
   "execution_count": null,
   "metadata": {
    "collapsed": true
   },
   "outputs": [],
   "source": []
  }
 ],
 "metadata": {
  "anaconda-cloud": {},
  "kernelspec": {
   "display_name": "Python 3",
   "language": "python",
   "name": "python3"
  },
  "language_info": {
   "codemirror_mode": {
    "name": "ipython",
    "version": 3
   },
   "file_extension": ".py",
   "mimetype": "text/x-python",
   "name": "python",
   "nbconvert_exporter": "python",
   "pygments_lexer": "ipython3",
   "version": "3.6.7"
  }
 },
 "nbformat": 4,
 "nbformat_minor": 2
}
