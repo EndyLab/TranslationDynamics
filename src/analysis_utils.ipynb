{
 "cells": [
  {
   "cell_type": "code",
   "execution_count": 1,
   "metadata": {
    "collapsed": false
   },
   "outputs": [],
   "source": [
    "import pandas\n",
    "import numpy as np\n",
    "import matplotlib.pyplot as plt\n",
    "import matplotlib\n",
    "%matplotlib inline "
   ]
  },
  {
   "cell_type": "code",
   "execution_count": 3,
   "metadata": {
    "collapsed": false
   },
   "outputs": [],
   "source": [
    "#Returns the average total transport and reaction time needed to succesfully incorporate amino acids\n",
    "#in num_rib ribosomes (rxn13) in the voxel for experiments expt_start to expt_end. Only looks at events within\n",
    "#simtime\n",
    "def computeTransportRxnTimes(path,simtime, num_rib,expt_start,expt_end,avg=False):\n",
    "    df_outputs = pandas.read_csv(path+\"outputReactionsList.txt\",sep=\" \",header=None)\n",
    "    transport_time = list()\n",
    "    reaction_time = list()\n",
    "    success_incorp = list()\n",
    "    for expt_num, row in df_outputs.iterrows():\n",
    "        succincorp_count = 0\n",
    "        if(expt_num>=expt_start and expt_num<expt_end):\n",
    "            df = pandas.read_csv(path+row[0],delimiter=\" \",header=None)\n",
    "            df.columns=[\"time\",\"rxn\",\"x\",\"y\",\"z\",\"reactantA\",\"productA\",\"productB\"]\n",
    "            df=df.loc[df['rxn'].isin([\"rxn10\",\"rxn12\",\"rxn13\"])]\n",
    "            df=df.loc[df['time']<simtime]\n",
    "            df=df[['time','rxn']]\n",
    "\n",
    "            transport_time_i = list()\n",
    "            reaction_time_i = list()\n",
    "            i=-1\n",
    "            single_RxnTime = list() #Created to aggregate transport time between unsuccesful rxns into those btwn only succesful rxns\n",
    "            single_TransportTime = list() #Created to aggregate transport time between unsuccesful rxns into those btwn only succesful rxns\n",
    "\n",
    "            for _, row in df.iterrows():\n",
    "                i+=1\n",
    "\n",
    "                if(row[\"rxn\"]=='rxn10' and succincorp_count<num_rib):\n",
    "                    if(i>0):\n",
    "                        single_TransportTime.append(row['time']-float(df.iloc[[i-1]]['time']))\n",
    "                    else:\n",
    "                        single_TransportTime.append(row['time'])\n",
    "\n",
    "                if((row['rxn']=='rxn13'or row[\"rxn\"]=='rxn12') and succincorp_count<num_rib):\n",
    "                    single_RxnTime.append(row['time']-float(df.iloc[[i-1]]['time']))\n",
    "                    if(row['rxn']=='rxn13'):\n",
    "                        succincorp_count+=1\n",
    "                        transport_time_i.append(sum(single_TransportTime))\n",
    "                        reaction_time_i.append(sum(single_RxnTime))\n",
    "                        single_TransportTime = list()\n",
    "                        single_RxnTime = list()\n",
    "                        \n",
    "            #print(reaction_time_i)\n",
    "            if(succincorp_count<num_rib and avg==True):\n",
    "                transport_time_i = transport_time_i[:-1] #drops the last transport time if there wasn't a reaction recorded afterwards (else last transport time would be too short)\n",
    "            transport_time.append(transport_time_i)\n",
    "            reaction_time.append(reaction_time_i)\n",
    "            success_incorp.append(succincorp_count)\n",
    "         #   print(len(transport_time))\n",
    "          #  print((reaction_time))\n",
    "\n",
    "    return transport_time, reaction_time, success_incorp\n",
    "\n",
    "def compute_avgtimes(data, simtime):\n",
    "    avg_transport_time=list()\n",
    "    avg_reaction_time=list()\n",
    "    avg_succincorp = list()\n",
    "   \n",
    "    for i,data_i in enumerate(data):\n",
    "        path = \"/Users/Akshay/Dropbox/Life/EndyLab/Research/TranslationDynamics/data/\"+data_i[0]+\"/\"\n",
    "        transport_time, reaction_time,incorp_count = computeTransportRxnTimes(path, simtime, 100000, data_i[1],data_i[2],avg=True)\n",
    "        avg_transport_time.append(np.average([np.average(l) for l in transport_time]))\n",
    "       # print(([np.average(l) for l in transport_time]))\n",
    "        avg_reaction_time.append(np.average([np.average(l) for l in reaction_time]))\n",
    "        #print(([np.average(l) for l in reaction_time]))\n",
    "        #print(np.divide(1,(np.add([np.average(l) for l in reaction_time],[np.average(l) for l in transport_time]))))\n",
    "        avg_succincorp.append(np.average(incorp_count))\n",
    "        #print((incorp_count))\n",
    "        \n",
    "    print( avg_transport_time,\"\\n\",avg_reaction_time,\"\\n avg incorp:\", avg_succincorp)\n",
    "    return avg_transport_time, avg_reaction_time, avg_succincorp\n",
    "\n",
    "\n",
    "def compute_totaltimes(data, simtime):\n",
    "    total_transport_time=list()\n",
    "    total_reaction_time=list()\n",
    "    for i,data_i in enumerate(data):\n",
    "        path = \"/Users/Akshay/Dropbox/Life/EndyLab/Research/TranslationDynamics/data/\"+data_i[0]+\"/\"\n",
    "        transport_time, reaction_time,incorp_count = computeTransportRxnTimes(path, simtime, 100000, data_i[1],data_i[2])\n",
    "\n",
    "        total_transport_time.append(np.average([np.sum(l) for l in transport_time]))\n",
    "        total_reaction_time.append(np.average([np.sum(l) for l in reaction_time]))\n",
    "\n",
    "    return total_transport_time,total_reaction_time\n",
    "\n",
    "###Taking average elongation based on transport and reaction times is more accurate, as for the small\n",
    "#amounts of time being simulated here, actual incorporation rate achieved by a simulated voxel will\n",
    "#be prone to stochastic effects (since only a few total incorp events are happening). Thus, instead\n",
    "#calculating the average transport time and reaction time per incorporation event is more accurate/robust\n",
    "#for scaling up and estimating incorp rate/total incorp at longer time scales.\n",
    "def compute_elongationtimes(avg_transport_time,avg_reaction_time, numrib_voxel,numrib_total):\n",
    "    avg_elong = np.divide(1,(np.add(avg_transport_time,avg_reaction_time)))/numrib_voxel\n",
    "    total_elong = avg_elong*numrib_total #right now, this is just multiplying by 62k so not that informative. bcz scaling tot ribosomes by # ribosomes in voxel...\n",
    "    return avg_elong,total_elong\n",
    "    \n",
    "\n",
    "def plot_avgtimes(plt_rxn,plt_transport,total_rxn,total_transport,single_elong_rate,bulk_elong_rate):\n",
    "    f,[ax1,ax2,ax3] = plt.subplots(1,3,figsize=(20,10))\n",
    "    z=[1,2,3,4,5,6,7,8]\n",
    "    cmap = matplotlib.cm.get_cmap('Blues')\n",
    "    normalize = matplotlib.colors.Normalize(vmin=min(z)-1, vmax=max(z))\n",
    "    colors = [cmap(normalize(value)) for value in z]\n",
    "\n",
    "    ax1.scatter(np.multiply(plt_transport,1000),np.multiply(plt_rxn,1000), color=colors,s=60)\n",
    "    # plt.colorbar('Blues')\n",
    "    ax1.set_title(\"Influence of average transport vs. reaction time on translation rate\\n at different ribosome abundances\")\n",
    "    ax1.set_xlabel('tau_reaction (ms)')\n",
    "    ax1.set_ylabel('tau_transport (ms)')\n",
    "    ax1.set_xlim(0,200)\n",
    "    ax1.set_ylim(0,200)\n",
    "\n",
    "    #Draw translation rate contour\n",
    "    elongation_reaction_time = np.arange(500) #500\n",
    "    elongation_transport_time = np.arange(500) #500\n",
    "\n",
    "    x=list(([],[],[],[],[],[],[],[]))\n",
    "    y=list(([],[],[],[],[],[],[],[]))\n",
    "\n",
    "    for k in range(len(x)):\n",
    "        for i in elongation_reaction_time:\n",
    "            for j in elongation_transport_time:\n",
    "                if(elongation_reaction_time[i]+elongation_transport_time[j]==50*(k+1) and i%5==0):\n",
    "                    x[k].append(elongation_reaction_time[i])\n",
    "                    y[k].append(elongation_transport_time[j])\n",
    "        ax1.scatter(x[k],y[k],marker='.',color='black',alpha='0.6',s=10)\n",
    "    \n",
    "    ###############\n",
    "    \n",
    "    ax2.set_title(\"Influence of total transport vs. reaction time in\\n overall elongation rate at different ribosome abundances\")\n",
    "    ax2.scatter(total_rxn,total_transport,color=colors,s=60)\n",
    "    ax2.set_xlim(0,1)\n",
    "    ax2.set_ylim(0,1)\n",
    "    ax2.set_xlabel(\"Fraction of total time spent by cognate tRNA in a reaction\")\n",
    "    ax2.set_ylabel(\"Fraction of total time spent by cognate tRNA freely diffusing\")\n",
    "\n",
    "    ###############\n",
    "    ax3.set_title(\"Bulk cellular elongation rate vs. elongation rate per ribosome\\n at different ribosome abundances\")\n",
    "    ax3.scatter(single_elong_rate,bulk_elong_rate,color=colors,s=60)\n",
    "    ax3.set_xlabel(\"Average aa incorporated per ribosome per second\")\n",
    "    ax3.set_ylabel(\"Average aa incorporoated by all ribosomes per second\")\n",
    "    ax3.set_xlim(0,7)\n",
    "    ax3.set_ylim(0,250000)\n",
    "\n",
    "    \n",
    "#suggests that instant charging must be possible, or some other speedup. #425"
   ]
  },
  {
   "cell_type": "code",
   "execution_count": 4,
   "metadata": {
    "collapsed": false
   },
   "outputs": [
    {
     "name": "stdout",
     "output_type": "stream",
     "text": [
      "[0.0814779026904762, 0.050285319233387527, 0.03273575660967515, 0.025882850488898147, 0.011198471889519423, 0.00987003275699282, 0.007752108573749599, 0.0068316737816438156] \n",
      " [0.010248412636155512, 0.010876438232448113, 0.011629987070111049, 0.010943752794763992, 0.011429286321846133, 0.010987403676332167, 0.011021117386733193, 0.011900726369619894] \n",
      " avg incorp: [11.2, 15.5, 22.5, 26.5, 43.5, 47.9, 53.1, 52.9]\n",
      "hi [0.82516581, 0.7613780099999999, 0.70444175, 0.6814768700000002, 0.4847334200000001, 0.4705044899999997, 0.4108643700000001, 0.3545390400000001] [0.11269359000000001, 0.1694960900000001, 0.2604767500000001, 0.2893258299999998, 0.49352488, 0.5185974100000001, 0.5801234300000001, 0.6250097600000001] [0.9378594 0.9308741 0.9649185 0.9708027 0.9782583 0.9891019 0.9909878\n",
      " 0.9795488]\n",
      "[5.45099842 5.4500287  5.63497823 5.43085656 4.41935074 4.35859369\n",
      " 4.09748847 3.81310301] [ 48280.27172793  72407.52411415  99819.61444251 120254.68095604\n",
      " 195714.10420795 212325.77851685 235898.26478909 236412.38671024]\n"
     ]
    },
    {
     "data": {
      "image/png": "[encoded data removed]",
      "text/plain": [
       "<Figure size 1440x720 with 3 Axes>"
      ]
     },
     "metadata": {
      "needs_background": "light"
     },
     "output_type": "display_data"
    }
   ],
   "source": [
    "data=[[\"180906_2150\",10,20],[\"180906_2321\",10,20],[\"180907_1316\",10,20],[\"180907_1509\",10,20],[\"180907_1509\",0,10],[\"180907_1316\",0,10], [\"180906_2321\",0,10],[\"180906_2150\",0,10]]\n",
    "avg_transport_time, avg_reaction_time, avg_succincorp = compute_avgtimes(data,1)\n",
    "total_transport_time,total_reaction_time = compute_totaltimes(data,1)\n",
    "print(\"hi\",total_transport_time,total_reaction_time,np.add(total_transport_time,total_reaction_time))\n",
    "    \n",
    "numrib_voxel = [2,3,4,5,10,11,13,14]\n",
    "numrib_total=[62000*2/14,62000*3/14,62000*4/14,62000*5/14,62000*10/14,62000*11/14,62000*13/14,62000*14/14]\n",
    "single_elong_rate, bulk_elong_rate=compute_elongationtimes(avg_transport_time, avg_reaction_time,numrib_voxel,numrib_total)\n",
    "print(single_elong_rate,bulk_elong_rate)\n",
    "\n",
    "plot_avgtimes(avg_transport_time,avg_reaction_time,total_reaction_time,total_transport_time,single_elong_rate, bulk_elong_rate)"
   ]
  },
  {
   "cell_type": "code",
   "execution_count": 905,
   "metadata": {
    "collapsed": false
   },
   "outputs": [
    {
     "name": "stdout",
     "output_type": "stream",
     "text": [
      "[0.080864233333333327] \n",
      " [0.0093569899999999869] \n",
      " avg incorp: [10.0]\n",
      "hi [0.83204309999999992] [0.093569899999999873] [ 0.925613]\n",
      "[ 5.54193328  3.69462219  2.77096664  2.21677331  1.10838666  1.00762423\n",
      "  0.85260512  0.79170475] [ 49085.69475066  49085.69475066  49085.69475066  49085.69475066\n",
      "  49085.69475066  49085.69475066  49085.69475066  49085.69475066]\n"
     ]
    },
    {
     "data": {
      "image/png": "[encoded data removed]",
      "text/plain": [
       "<matplotlib.figure.Figure at 0x11070a908>"
      ]
     },
     "metadata": {},
     "output_type": "display_data"
    }
   ],
   "source": [
    "### Need to fix total_reaction_time so that it sums to 1 -- some bug fix needed ##\n",
    "######Might just be the last bit of time is spent in a rxn10 but doesn't finish to rxn 13 in time#####\n",
    "#####No, dont think this is the error...\"\n",
    "## Need to incorporate elongation rate into the total_trans vs total_rxn figure ##\n",
    "## Need to incorporate a colorscale (some bug causing to crash) ##\n",
    "\n",
    "data=[[\"180906_2150\",18,19]]\n",
    "avg_transport_time, avg_reaction_time, avg_succincorp = compute_avgtimes(data,1)\n",
    "total_transport_time,total_reaction_time = compute_totaltimes(data,1)\n",
    "print(\"hi\",total_transport_time,total_reaction_time,np.add(total_transport_time,total_reaction_time))\n",
    "    \n",
    "numrib_voxel = [2,3,4,5,10,11,13,14]\n",
    "numrib_total=[62000*2/14,62000*3/14,62000*4/14,62000*5/14,62000*10/14,62000*11/14,62000*13/14,62000*14/14]\n",
    "single_elong_rate, bulk_elong_rate=compute_elongationtimes(avg_transport_time, avg_reaction_time,numrib_voxel,numrib_total)\n",
    "print(single_elong_rate,bulk_elong_rate)\n",
    "\n",
    "plot_avgtimes(avg_transport_time,avg_reaction_time, total_transport_time,total_reaction_time,single_elong_rate, bulk_elong_rate)"
   ]
  },
  {
   "cell_type": "code",
   "execution_count": 61,
   "metadata": {
    "collapsed": false
   },
   "outputs": [
    {
     "name": "stdout",
     "output_type": "stream",
     "text": [
      "              time  reactantA  reactantB         x         y         z\n",
      "44    1.194800e-06          3          6  0.031620  0.043132  0.110487\n",
      "45    1.194900e-06          3          6  0.031598  0.043084  0.110496\n",
      "46    1.512900e-06          3          6  0.028100  0.038364  0.107870\n",
      "47    1.514500e-06          3          6  0.027609  0.038430  0.107023\n",
      "48    1.514600e-06          3          6  0.027550  0.038545  0.107042\n",
      "49    1.514700e-06          3          6  0.027527  0.038515  0.106937\n",
      "154   2.095300e-06          3          6  0.026750  0.039935  0.102832\n",
      "155   2.095400e-06          3          6  0.026794  0.039893  0.102844\n",
      "195   2.133700e-06          3          6  0.026681  0.041584  0.103447\n",
      "196   2.133800e-06          3          6  0.026600  0.041590  0.103412\n",
      "197   2.133900e-06          3          6  0.026767  0.041784  0.103363\n",
      "198   2.134300e-06          3          6  0.026477  0.041773  0.103373\n",
      "199   2.137600e-06          3          6  0.025923  0.041493  0.103521\n",
      "200   2.139300e-06          3          6  0.025939  0.042045  0.103178\n",
      "201   2.139400e-06          3          6  0.025902  0.042004  0.103252\n",
      "202   2.139500e-06          3          6  0.025967  0.041938  0.103188\n",
      "203   2.140000e-06          3          6  0.026030  0.041887  0.103176\n",
      "204   2.140100e-06          3          6  0.026176  0.041910  0.103272\n",
      "205   2.140300e-06          3          6  0.026153  0.042181  0.103270\n",
      "206   2.140700e-06          3          6  0.026002  0.042143  0.103266\n",
      "207   2.142600e-06          3          6  0.025759  0.041863  0.103319\n",
      "208   2.142700e-06          3          6  0.025887  0.041842  0.103203\n",
      "209   2.143000e-06          3          6  0.025410  0.041583  0.103223\n",
      "210   2.145300e-06          3          6  0.025598  0.042208  0.103061\n",
      "211   2.146100e-06          3          6  0.025214  0.041721  0.103070\n",
      "212   2.146200e-06          3          6  0.025271  0.041525  0.102972\n",
      "213   2.146400e-06          3          6  0.025352  0.041546  0.103135\n",
      "214   2.148100e-06          3          6  0.025075  0.041532  0.103586\n",
      "215   2.148300e-06          3          6  0.025106  0.041611  0.103551\n",
      "50    1.534100e-06          4         28  0.056874  0.120648  0.139313\n",
      "...            ...        ...        ...       ...       ...       ...\n",
      "1085  9.717000e-06         37         19  0.149820  0.121911  0.154451\n",
      "1086  9.717100e-06         37         19  0.149905  0.121899  0.154468\n",
      "1087  9.724600e-06         37         19  0.149703  0.121033  0.154370\n",
      "1088  9.724900e-06         37         19  0.149655  0.121071  0.154566\n",
      "43    9.424000e-07         40         36  0.099897  0.122994  0.047179\n",
      "479   5.317400e-06         41         37  0.187263  0.147548  0.173409\n",
      "480   5.348200e-06         41         37  0.187263  0.147548  0.173409\n",
      "481   5.348400e-06         41         37  0.187263  0.147548  0.173409\n",
      "569   6.926900e-06         41          5  0.187263  0.147548  0.173409\n",
      "570   6.929000e-06         41          5  0.187263  0.147548  0.173409\n",
      "571   6.933400e-06         41          5  0.187263  0.147548  0.173409\n",
      "572   6.933500e-06         41          5  0.187263  0.147548  0.173409\n",
      "573   6.936900e-06         41          5  0.187263  0.147548  0.173409\n",
      "574   6.937000e-06         41          5  0.187263  0.147548  0.173409\n",
      "27    7.539000e-07         42         41  0.155651  0.137234  0.008843\n",
      "28    7.584000e-07         42         41  0.155493  0.137184  0.008168\n",
      "29    7.604000e-07         42         41  0.155995  0.137397  0.007856\n",
      "30    7.605000e-07         42         41  0.156169  0.137376  0.007799\n",
      "31    7.636000e-07         42         41  0.156072  0.137545  0.007960\n",
      "32    7.639000e-07         42         41  0.155962  0.137643  0.007902\n",
      "33    7.641000e-07         42         41  0.155917  0.137681  0.007926\n",
      "34    7.643000e-07         42         41  0.155762  0.137707  0.007987\n",
      "35    7.684000e-07         42         41  0.155678  0.137063  0.007316\n",
      "36    7.685000e-07         42         41  0.155663  0.137073  0.007392\n",
      "37    7.706000e-07         42         41  0.155306  0.136896  0.007792\n",
      "38    7.707000e-07         42         41  0.155340  0.136958  0.007740\n",
      "39    7.708000e-07         42         41  0.155377  0.136847  0.007702\n",
      "40    7.724000e-07         42         41  0.155413  0.136630  0.007708\n",
      "41    8.091000e-07         42         41  0.154038  0.137862  0.006147\n",
      "42    9.066000e-07         42         41  0.155296  0.138470  0.008246\n",
      "\n",
      "[1098 rows x 6 columns]\n",
      "37\n"
     ]
    },
    {
     "data": {
      "text/plain": [
       "37"
      ]
     },
     "execution_count": 61,
     "metadata": {},
     "output_type": "execute_result"
    }
   ],
   "source": [
    "df = pandas.read_csv(\"/Users/Akshay/Dropbox/Life/EndyLab/Research/TranslationDynamics/data/expt-0-Reactions-20180910.csv\",sep=\" \",header=None)\n",
    "df.columns=[\"time\",\"rxn\",\"x\",\"y\",\"z\",\"reactantA\",\"reactantB\",\"productA\",\"productB\"]\n",
    "\n",
    "def totalRibosomeCollisions(df):\n",
    "    df=df[['time','reactantA','reactantB','x','y','z']]\n",
    "    df = df.sort_values(by=['reactantA','time'])\n",
    "    #with pandas.option_context('display.max_rows', None, 'display.max_columns', None):\n",
    "    print(df)\n",
    "    reactantA_i = \"\"\n",
    "    reactantB_i = \"\"\n",
    "    collision=0\n",
    "    for index, row in df.iterrows():\n",
    "        if row[\"reactantA\"] != reactantA_i or row[\"reactantB\"] != reactantB_i:\n",
    "            collision+=1\n",
    "        reactantA_i = row[\"reactantA\"]\n",
    "        reactantB_i = row[\"reactantB\"]\n",
    "    print(collision)\n",
    "    return collision\n",
    "\n",
    "totalRibosomeCollisions(df)"
   ]
  },
  {
   "cell_type": "code",
   "execution_count": 117,
   "metadata": {
    "collapsed": false
   },
   "outputs": [
    {
     "name": "stdout",
     "output_type": "stream",
     "text": [
      "(7704, 9)\n",
      "adjusted shape  (0, 9)\n"
     ]
    },
    {
     "data": {
      "text/plain": [
       "0"
      ]
     },
     "execution_count": 117,
     "metadata": {},
     "output_type": "execute_result"
    }
   ],
   "source": [
    "#Maybe create a 43 x 43 table that tracks the xyz position of last collision for each pair,\n",
    "#and if the new collision is within 1 nm of location or some threshold, discard.\n",
    "#Otherwise, what's happening is that 4 guys are vibrating against a ribosome, so their collisions\n",
    "#don't seem consecutive? No but I should be counting this as consecutive....\n",
    "import pandas\n",
    "import numpy as np\n",
    "def multiTotalRibosomeCollisions(datapath,ts,expt_start,expt_end):\n",
    "    df_outputs = pandas.read_csv(datapath+\"/outputReactionsList.txt\",sep=\" \",header=None)\n",
    "    collisions = list()\n",
    "    df_molpos = pandas.read_csv(datapath+\"/outputMolPosList.txt\",sep=\" \",header=None)\n",
    "    for expt_num, row in df_outputs.iterrows():\n",
    "        if(expt_num>=expt_start and expt_num<expt_end):\n",
    "            expt_path=datapath+\"/\"+row[0]\n",
    "            molpos_path=datapath+\"/\"+df_molpos.iloc[expt_num].values[0]\n",
    "            #print(expt_path)\n",
    "            collisions.append(totalRibosomeCollisions(expt_path,molpos_path,ts))\n",
    "    print(collisions)\n",
    "    return np.average(collisions)\n",
    "\n",
    "def totalRibosomeCollisions(path,molpos_path,ts):\n",
    "    min_delta_time = 1e-9\n",
    "    df = pandas.read_csv(path,delimiter=\" \",header=None)\n",
    "    df.columns=[\"time\",\"rxn\",\"x\",\"y\",\"z\",\"reactantA\",\"reactantB\",\"productA\",\"productB\"]\n",
    "    df = df.sort_values(by=['time','reactantA'])\n",
    "    print(df.shape)\n",
    "    df = df[df['time'] > 10e-9]  #Drop first 2 nanoseconds due to overlap of spheres at startup causing increased rxns\n",
    "    df = df.iloc[0:] #test different time lengths\n",
    "    print(\"adjusted shape \",df.shape)\n",
    "\n",
    "    #df_molpos = pandas.read_csv(molpos_path,delimiter=\" \",header=None)\n",
    "    #df_molpos.columns=[\"time\",\"species\", \"none\",\"x\",\"y\",\"z\",\"id\"]\n",
    "    #df_molpos[\"time\"] = df_molpos[\"time\"]-1 \n",
    "\n",
    "    lookup = {}\n",
    "    reacA_prev = \"\"\n",
    "    reacB_prev = \"\"\n",
    "    collision=0\n",
    "    \n",
    "    #i=0\n",
    "    for index, row in df.iterrows():\n",
    "        #i+=1\n",
    "        reacA_i = row[\"reactantA\"] \n",
    "        reacB_i = row[\"reactantB\"]\n",
    "        time_i = row['time']\n",
    "\n",
    "        #if reacA_i != reacA_prev or reacB_i != reacB_prev:\n",
    "        #reacA_xyz = df_molpos.loc[(df_molpos['id']==reacA_i) & (df_molpos['time'] == round(time_i*ts))][['x','y','z']].values[0]\n",
    "        #reacB_xyz = df_molpos.loc[(df_molpos['id']==reacB_i) & (df_molpos['time'] == round(time_i*ts))][['x','y','z']].values[0]\n",
    "        \n",
    "        if (reacA_i,reacB_i) in lookup:\n",
    "            if ((time_i-lookup[(reacA_i,reacB_i)][0] > min_delta_time)): #or (np.linalg.norm(lookup[(reacA_i,reacB_i)][1]-reacA_xyz) > 0.005) or (np.linalg.norm(lookup[(reacA_i,reacB_i)][2]-reacB_xyz) > 0.005)):\n",
    "                collision+=1\n",
    "                #if collision%50==0:\n",
    "                    #print(collision)\n",
    "                lookup[(reacA_i,reacB_i)] = [time_i]#,reacA_xyz,reacB_xyz]\n",
    "                lookup[(reacB_i,reacA_i)] = [time_i]#,reacB_xyz,reacA_xyz] ###Adding both orders of key values since order of reactants doesnt matter, but shows up differently for collisions in smoldyn\n",
    "\n",
    "        else:\n",
    "            collision+=1\n",
    "            lookup[(reacA_i,reacB_i)] = [time_i]#,reacA_xyz,reacB_xyz]\n",
    "            lookup[(reacB_i,reacA_i)] = [time_i]#,reacB_xyz,reacA_xyz] ###Adding both orders of key values since order of reactants doesnt matter, but shows up differently for collisions in smoldyn\n",
    "\n",
    "        reacA_prev = reacA_i\n",
    "        reacB_prev = reacB_i\n",
    "        #reacA_xyz_prev = reacA_xyz\n",
    "        #reacB_xyz_prev = reacB_xyz\n",
    "\n",
    "    #print(collision)\n",
    "    return collision\n",
    "\n",
    "path = \"/Users/Akshay/Dropbox/Life/EndyLab/Research/TranslationDynamics/data/expt-8-Reactions-20180913.csv\"\n",
    "pathmolpos =\"/Users/Akshay/Dropbox/Life/EndyLab/Research/TranslationDynamics/180912_1607/expt-9-Molpos-20180912.csv\"\n",
    "ts=1e10\n",
    "totalRibosomeCollisions(path,pathmolpos,ts)\n",
    "#2363; get rid of first 10 time steps. [average across every 10 timesteps should be similar] <--can validate check w/ this\n",
    "###NEED TO START AT 1 TIME INSTEAD OF 0; maybe +1 to rounded times. or actually, just subtract 1 from molpos\n",
    "#I need to 1) print df_molpos['time'] and the round at different places to verify right time is being got\n",
    "#Compare against other assigned ts to make sure getting right thing\n",
    "#when ts=0 vs ts=1-11 (correct) only makes difference of ~100; i think this means that most reactions are new rxns\n",
    "#Compare collision in the else to collision in the lookuip. Also might mean i need to run more timesteps\n",
    "#to get more lookup overlap. Should still be lots of repeat reactions when going from 1e11 to 1e12...!\n",
    "#Validate with fewer molecules so can get more timesteps to test block average across diff blocks\n",
    "#437,427,441; vs. 1034 (0 to 3000); vs.598 (1000 to 4000); vs.  475(2000to5000) vs. 459 (3000 to 6000) vs. \n",
    "#443 (4000 to 7000); so drop at least 5000. (~250 time steps here.)\n",
    "#Calculate by dropping first ~250(of 10^-11) frames of any simulation (first ~2.5 ns). Then taking average of \n",
    "#blocks of time to validate that all the same --> use this number to scale up estimations. (if drop or taking blocks\n",
    "#need to scale accordingly to the time in which collisions are measured.)\n",
    "#Try all the error catching...e.g., changing timestep, sim time , etc.;; changing the 5k steps measure location...\n",
    "#2314 vs 2363; with dropped: 1315 (1e11) vs 1406(1e10); of the 1315, 805 are new rxns while the rest (510) are repeat far enough \n",
    "#If just compare against \n",
    "\n",
    "##TRY SIMPLER, just check every nanosecond."
   ]
  },
  {
   "cell_type": "code",
   "execution_count": 402,
   "metadata": {
    "collapsed": false
   },
   "outputs": [
    {
     "name": "stdout",
     "output_type": "stream",
     "text": [
      "/Users/Akshay/Dropbox/Life/EndyLab/Research/TranslationDynamics/data/expt-10-Reactions-20180919.csv\n",
      "1\n"
     ]
    },
    {
     "data": {
      "text/plain": [
       "array([30232, 30232,  2706])"
      ]
     },
     "execution_count": 402,
     "metadata": {},
     "output_type": "execute_result"
    }
   ],
   "source": [
    "import pandas as pd\n",
    "def totalCollisions(path):\n",
    "    \"\"\"[summary]\n",
    "    \n",
    "    [description]\n",
    "    \n",
    "    Arguments:\n",
    "        path {[type]} -- [description]\n",
    "    \n",
    "    Returns:\n",
    "        [type] -- [description]\n",
    "    \"\"\"\n",
    "    min_delta_time = 1e-9\n",
    "    print(path)\n",
    "    df_chunker = pd.read_csv(path,delimiter=\" \",header=None,chunksize=250000)\n",
    "    overall_return_array = list([0,0,0])\n",
    "    for df in df_chunker:\n",
    "        returnArray=list()\n",
    "        df.columns=[\"time\",\"rxn\",\"x\",\"y\",\"z\",\"reactantA\",\"reactantB\",\"productA\",\"productB\"]\n",
    "        df = df[df['time'] > 0.1e-6]  #Drop first 2 nanoseconds due to overlap of spheres at startup causing increased rxns\n",
    "        #df = df.sort_values(by=['time','reactantA'])\n",
    "        returnArray.append(df.shape[0])\n",
    "        df = df.iloc[0:] #test different time lengths\n",
    "        returnArray.append(df.shape[0])\n",
    "\n",
    "        lookup = {}\n",
    "        reacA_prev = \"\"\n",
    "        reacB_prev = \"\"\n",
    "        collision=0\n",
    "     \n",
    "        for index, row in df.iterrows():\n",
    "            reacA_i = row[\"reactantA\"] \n",
    "            reacB_i = row[\"reactantB\"]\n",
    "            time_i = row['time']\n",
    "\n",
    "            if ((reacA_i,reacB_i) not in lookup) or ((time_i-lookup[(reacA_i,reacB_i)][0] > min_delta_time)): #Note, second part of or statement only evaluated if first is false, i.e. reacA and reacB in lookup.\n",
    "                collision+=1\n",
    "                lookup[(reacA_i,reacB_i)] = [time_i]\n",
    "                lookup[(reacB_i,reacA_i)] = [time_i]\n",
    "\n",
    "            reacA_prev = reacA_i\n",
    "            reacB_prev = reacB_i\n",
    "        returnArray.append(collision)\n",
    "        overall_return_array = np.add(overall_return_array, returnArray)\n",
    "        print(1)\n",
    "    return overall_return_array\n",
    "totalCollisions(\"/Users/Akshay/Dropbox/Life/EndyLab/Research/TranslationDynamics/data/expt-10-Reactions-20180919.csv\")\n"
   ]
  },
  {
   "cell_type": "code",
   "execution_count": null,
   "metadata": {
    "collapsed": false
   },
   "outputs": [],
   "source": []
  },
  {
   "cell_type": "code",
   "execution_count": 321,
   "metadata": {
    "collapsed": false
   },
   "outputs": [
    {
     "name": "stdout",
     "output_type": "stream",
     "text": [
      "(1075962, 9)\n",
      "adjusted shape  (1063064, 9)\n"
     ]
    },
    {
     "data": {
      "text/plain": [
       "162117"
      ]
     },
     "execution_count": 321,
     "metadata": {},
     "output_type": "execute_result"
    }
   ],
   "source": [
    "totalRibosomeCollisions(\"/Users/Akshay/Dropbox/Life/EndyLab/Research/TranslationDynamics/data/180914_1052/expt-94-Reactions-20180914.csv\",\"test\",-1)"
   ]
  },
  {
   "cell_type": "code",
   "execution_count": 134,
   "metadata": {
    "collapsed": false
   },
   "outputs": [
    {
     "name": "stdout",
     "output_type": "stream",
     "text": [
      "[(1691, 9), (1639, 9), 1437]\n"
     ]
    }
   ],
   "source": [
    "import pickle as pkl\n",
    "with open(\"/Users/Akshay/Dropbox/Life/EndyLab/Research/TranslationDynamics/data/analysis/expt-6-Reactions-20180914_collision_count.pkl\", 'rb') as f:\n",
    "    data = pkl.load(f)\n",
    "print(data)"
   ]
  },
  {
   "cell_type": "code",
   "execution_count": 102,
   "metadata": {
    "collapsed": false
   },
   "outputs": [
    {
     "name": "stdout",
     "output_type": "stream",
     "text": [
      "(10240, 9)\n",
      "adjusted shape  (9788, 9)\n",
      "(9885, 9)\n",
      "adjusted shape  (9444, 9)\n",
      "(9838, 9)\n",
      "adjusted shape  (9413, 9)\n",
      "(10117, 9)\n",
      "adjusted shape  (9667, 9)\n",
      "(10015, 9)\n",
      "adjusted shape  (9586, 9)\n",
      "[9057, 8685, 8683, 8875, 8820]\n",
      "(37579, 9)\n",
      "adjusted shape  (36035, 9)\n",
      "(37820, 9)\n",
      "adjusted shape  (36201, 9)\n",
      "(38020, 9)\n",
      "adjusted shape  (36470, 9)\n",
      "(37730, 9)\n",
      "adjusted shape  (36065, 9)\n",
      "(38651, 9)\n",
      "adjusted shape  (36962, 9)\n",
      "[12572, 12623, 12615, 12511, 12707]\n",
      "(125426, 9)\n",
      "adjusted shape  (121068, 9)\n",
      "(130936, 9)\n",
      "adjusted shape  (126063, 9)\n",
      "(125733, 9)\n",
      "adjusted shape  (121731, 9)\n",
      "(122783, 9)\n",
      "adjusted shape  (118733, 9)\n",
      "(126842, 9)\n",
      "adjusted shape  (122380, 9)\n",
      "[12794, 12998, 13017, 12682, 13002]\n",
      "(418970, 9)\n",
      "adjusted shape  (407147, 9)\n",
      "(407119, 9)\n",
      "adjusted shape  (395967, 9)\n",
      "(408860, 9)\n",
      "adjusted shape  (396959, 9)\n",
      "(391728, 9)\n",
      "adjusted shape  (380623, 9)\n",
      "(412351, 9)\n",
      "adjusted shape  (401066, 9)\n",
      "[13266, 13329, 12937, 12696, 12991]\n",
      "[8824.0, 12605.6, 12898.6, 13043.799999999999]\n",
      "(1278213, 9)\n",
      "adjusted shape  (1243499, 9)\n",
      "(1290024, 9)\n",
      "adjusted shape  (1256334, 9)\n",
      "(1266139, 9)\n",
      "adjusted shape  (1230997, 9)\n",
      "(1307424, 9)\n",
      "adjusted shape  (1273784, 9)\n",
      "(1311852, 9)\n",
      "adjusted shape  (1277376, 9)\n",
      "[12840, 12889, 12840, 13228, 13215]\n",
      "(4074537, 9)\n",
      "adjusted shape  (3975852, 9)\n",
      "(4043786, 9)\n",
      "adjusted shape  (3926601, 9)\n",
      "(4233231, 9)\n",
      "adjusted shape  (4123420, 9)\n",
      "(3961460, 9)\n",
      "adjusted shape  (3862886, 9)\n",
      "(4169433, 9)\n",
      "adjusted shape  (4059505, 9)\n",
      "[13040, 12880, 13131, 12666, 13254]\n",
      "[8824.0, 12605.6, 12898.6, 13043.799999999999, 13002.4, 12994.200000000001]\n"
     ]
    }
   ],
   "source": [
    "path = \"/Users/Akshay/Dropbox/Life/EndyLab/Research/TranslationDynamics/data/\"\n",
    "data = \"180913_1108\"\n",
    "data1 = \"180913_1147\"\n",
    "ts=1e11\n",
    "expts = [(0,5),(5,10),(10,15),(15,20)]\n",
    "expts1 = [(0,5),(5,10)]\n",
    "collisionCount = list()\n",
    "for i in range(len(expts)):\n",
    "    collisionCount.append(multiTotalRibosomeCollisions(path+data,ts,expts[i][0],expts[i][1]))\n",
    "print(collisionCount)\n",
    "\n",
    "for i in range(len(expts1)):\n",
    "    collisionCount.append(multiTotalRibosomeCollisions(path+data1,ts,expts[i][0],expts[i][1]))\n",
    "print(collisionCount)"
   ]
  },
  {
   "cell_type": "code",
   "execution_count": 110,
   "metadata": {
    "collapsed": false
   },
   "outputs": [
    {
     "name": "stdout",
     "output_type": "stream",
     "text": [
      "(8297383, 9)\n",
      "adjusted shape  (7548576, 9)\n",
      "(8292485, 9)\n",
      "adjusted shape  (7545502, 9)\n",
      "(8310969, 9)\n",
      "adjusted shape  (7553371, 9)\n",
      "(3282844, 9)\n",
      "adjusted shape  (2543729, 9)\n",
      "(8264285, 9)\n",
      "adjusted shape  (7528326, 9)\n",
      "[1073176, 1074872, 1066492, 362578, 1058847]\n",
      "(1219201, 9)\n",
      "adjusted shape  (1108160, 9)\n",
      "(1218616, 9)\n",
      "adjusted shape  (1107277, 9)\n",
      "(1219788, 9)\n",
      "adjusted shape  (1108622, 9)\n",
      "(1217810, 9)\n",
      "adjusted shape  (1107961, 9)\n",
      "(1218320, 9)\n",
      "adjusted shape  (1107564, 9)\n",
      "[8933, 8921, 8834, 9120, 8904]\n",
      "(304674, 9)\n",
      "adjusted shape  (270714, 9)\n",
      "(298711, 9)\n",
      "adjusted shape  (265838, 9)\n",
      "(293909, 9)\n",
      "adjusted shape  (263303, 9)\n",
      "(296537, 9)\n",
      "adjusted shape  (265276, 9)\n",
      "(303290, 9)\n",
      "adjusted shape  (271919, 9)\n",
      "[8962, 8965, 9041, 9111, 9027]\n",
      "(6491, 9)\n",
      "adjusted shape  (5615, 9)\n",
      "(6151, 9)\n",
      "adjusted shape  (5140, 9)\n",
      "(8320, 9)\n",
      "adjusted shape  (7645, 9)\n",
      "(6733, 9)\n",
      "adjusted shape  (5992, 9)\n",
      "(7277, 9)\n",
      "adjusted shape  (6436, 9)\n",
      "[193, 157, 218, 205, 175]\n",
      "[927193.0, 8942.3999999999996, 9021.2000000000007, 189.59999999999999]\n"
     ]
    }
   ],
   "source": [
    "path = \"/Users/Akshay/Dropbox/Life/EndyLab/Research/TranslationDynamics/data/\"\n",
    "data = \"180913_1306\"\n",
    "ts=1e11\n",
    "expts = [(0,5),(5,10),(10,15),(15,20)] #14ribosome+crowding;14ribosome;1ribosome+crowding;1ribosome\n",
    "collisionCountCrowding = list()\n",
    "for i in range(len(expts)):\n",
    "    collisionCountCrowding.append(multiTotalRibosomeCollisions(path+data,ts,expts[i][0],expts[i][1]))\n",
    "print(collisionCountCrowding)"
   ]
  },
  {
   "cell_type": "code",
   "execution_count": 112,
   "metadata": {
    "collapsed": false
   },
   "outputs": [
    {
     "name": "stdout",
     "output_type": "stream",
     "text": [
      "(879629, 9)\n",
      "adjusted shape  (806514, 9)\n",
      "(880967, 9)\n",
      "adjusted shape  (805539, 9)\n",
      "(893238, 9)\n",
      "adjusted shape  (820905, 9)\n",
      "(876030, 9)\n",
      "adjusted shape  (798600, 9)\n",
      "(902067, 9)\n",
      "adjusted shape  (824166, 9)\n",
      "[171549, 169105, 178792, 167388, 180541]\n",
      "(122525, 9)\n",
      "adjusted shape  (111444, 9)\n",
      "(122894, 9)\n",
      "adjusted shape  (111855, 9)\n",
      "(122594, 9)\n",
      "adjusted shape  (111510, 9)\n",
      "(122962, 9)\n",
      "adjusted shape  (111725, 9)\n",
      "(123102, 9)\n",
      "adjusted shape  (111979, 9)\n",
      "[21402, 21409, 21339, 21287, 21396]\n",
      "(92883, 9)\n",
      "adjusted shape  (82758, 9)\n",
      "(92490, 9)\n",
      "adjusted shape  (81885, 9)\n",
      "(92781, 9)\n",
      "adjusted shape  (82897, 9)\n",
      "(95979, 9)\n",
      "adjusted shape  (84701, 9)\n",
      "(95046, 9)\n",
      "adjusted shape  (83746, 9)\n",
      "[8859, 8751, 8907, 9138, 9053]\n",
      "(2026, 9)\n",
      "adjusted shape  (1615, 9)\n",
      "(2482, 9)\n",
      "adjusted shape  (2128, 9)\n",
      "(1105, 9)\n",
      "adjusted shape  (963, 9)\n",
      "(1362, 9)\n",
      "adjusted shape  (1140, 9)\n",
      "(1712, 9)\n",
      "adjusted shape  (1506, 9)\n",
      "[160, 235, 119, 134, 153]\n",
      "[173475.0, 21366.599999999999, 8941.6000000000004, 160.19999999999999]\n"
     ]
    }
   ],
   "source": [
    "path = \"/Users/Akshay/Dropbox/Life/EndyLab/Research/TranslationDynamics/data/\"\n",
    "data = \"180913_1437\"\n",
    "ts=1e11\n",
    "expts = [(0,5),(5,10),(10,15),(15,20)] #14ribosome+crowding;14ribosome;1ribosome+crowding;1ribosome\n",
    "collisionCountCrowding2 = list()\n",
    "for i in range(len(expts)):\n",
    "    collisionCountCrowding2.append(multiTotalRibosomeCollisions(path+data,ts,expts[i][0],expts[i][1]))\n",
    "print(collisionCountCrowding2)\n"
   ]
  },
  {
   "cell_type": "code",
   "execution_count": 107,
   "metadata": {
    "collapsed": false
   },
   "outputs": [
    {
     "name": "stdout",
     "output_type": "stream",
     "text": [
      "(7991, 9)\n",
      "adjusted shape  (7044, 9)\n",
      "(7958, 9)\n",
      "adjusted shape  (6895, 9)\n",
      "(7581, 9)\n",
      "adjusted shape  (6580, 9)\n",
      "(7884, 9)\n",
      "adjusted shape  (6869, 9)\n",
      "(7611, 9)\n",
      "adjusted shape  (6674, 9)\n",
      "[6372, 6225, 5998, 6219, 6034]\n",
      "(28105, 9)\n",
      "adjusted shape  (24644, 9)\n",
      "(28117, 9)\n",
      "adjusted shape  (24771, 9)\n",
      "(30179, 9)\n",
      "adjusted shape  (26420, 9)\n",
      "(29286, 9)\n",
      "adjusted shape  (25977, 9)\n",
      "(28314, 9)\n",
      "adjusted shape  (24849, 9)\n",
      "[8455, 8672, 9054, 8857, 8505]\n",
      "(92465, 9)\n",
      "adjusted shape  (82219, 9)\n",
      "(96024, 9)\n",
      "adjusted shape  (84654, 9)\n",
      "(97735, 9)\n",
      "adjusted shape  (87021, 9)\n",
      "(96314, 9)\n",
      "adjusted shape  (85033, 9)\n",
      "(90931, 9)\n",
      "adjusted shape  (80217, 9)\n",
      "[8821, 9078, 9157, 9006, 8728]\n",
      "(300932, 9)\n",
      "adjusted shape  (268044, 9)\n",
      "(303839, 9)\n",
      "adjusted shape  (271420, 9)\n",
      "(312158, 9)\n",
      "adjusted shape  (279190, 9)\n",
      "(302612, 9)\n",
      "adjusted shape  (267844, 9)\n",
      "(297297, 9)\n",
      "adjusted shape  (263911, 9)\n",
      "[9011, 8982, 9023, 9008, 8892]\n",
      "[6169.6000000000004, 8708.6000000000004, 8958.0, 8983.2000000000007]\n"
     ]
    }
   ],
   "source": [
    "path = \"/Users/Akshay/Dropbox/Life/EndyLab/Research/TranslationDynamics/data/\"\n",
    "data = \"180913_1412\"\n",
    "ts=1e11\n",
    "expts = [(0,5),(5,10),(10,15),(15,20)] #14ribosome+crowding;14ribosome;1ribosome+crowding;1ribosome\n",
    "collisionCountCrowding1 = list()\n",
    "for i in range(len(expts)):\n",
    "    collisionCountCrowding1.append(multiTotalRibosomeCollisions(path+data,ts,expts[i][0],expts[i][1]))\n",
    "print(collisionCountCrowding1)"
   ]
  },
  {
   "cell_type": "code",
   "execution_count": 114,
   "metadata": {
    "collapsed": false
   },
   "outputs": [
    {
     "name": "stdout",
     "output_type": "stream",
     "text": [
      "(1367, 9)\n",
      "adjusted shape  (1227, 9)\n",
      "(1429, 9)\n",
      "adjusted shape  (1285, 9)\n",
      "(1399, 9)\n",
      "adjusted shape  (1268, 9)\n",
      "(1416, 9)\n",
      "adjusted shape  (1274, 9)\n",
      "[1201, 1261, 1236, 1249]\n",
      "(12533, 9)\n",
      "adjusted shape  (11410, 9)\n",
      "(12754, 9)\n",
      "adjusted shape  (11568, 9)\n",
      "(12527, 9)\n",
      "adjusted shape  (11351, 9)\n",
      "(12614, 9)\n",
      "adjusted shape  (11451, 9)\n",
      "[7195, 7150, 7155, 7148]\n",
      "(122371, 9)\n",
      "adjusted shape  (111088, 9)\n",
      "(123196, 9)\n",
      "adjusted shape  (112116, 9)\n",
      "(123051, 9)\n",
      "adjusted shape  (111731, 9)\n",
      "(122470, 9)\n",
      "adjusted shape  (111191, 9)\n",
      "[21369, 21219, 21362, 21322]\n",
      "(1217444, 9)\n",
      "adjusted shape  (1107090, 9)\n",
      "(1220575, 9)\n",
      "adjusted shape  (1109612, 9)\n",
      "(1217602, 9)\n",
      "adjusted shape  (1107439, 9)\n",
      "(1215897, 9)\n",
      "adjusted shape  (1105640, 9)\n",
      "[8970, 8843, 9021, 8996]\n",
      "(12136133, 9)\n",
      "adjusted shape  (11033666, 9)\n",
      "(12142423, 9)\n",
      "adjusted shape  (11037810, 9)\n",
      "(12140644, 9)\n",
      "adjusted shape  (11037418, 9)\n",
      "(12138226, 9)\n",
      "adjusted shape  (11034193, 9)\n",
      "[861, 861, 861, 862]\n",
      "[1236.75, 7162.0, 21318.0, 8957.5, 861.25]\n"
     ]
    }
   ],
   "source": [
    "path = \"/Users/Akshay/Dropbox/Life/EndyLab/Research/TranslationDynamics/data/\"\n",
    "data = \"180913_1636\"\n",
    "ts=1e11\n",
    "expts = [(0,4),(4,8),(8,12),(12,16),(16,20)] #14ribosome+crowding;14ribosome;1ribosome+crowding;1ribosome\n",
    "collisionCountCrowding4 = list()\n",
    "for i in range(len(expts)):\n",
    "    collisionCountCrowding4.append(multiTotalRibosomeCollisions(path+data,ts,expts[i][0],expts[i][1]))\n",
    "print(collisionCountCrowding4)\n"
   ]
  },
  {
   "cell_type": "code",
   "execution_count": 119,
   "metadata": {
    "collapsed": false
   },
   "outputs": [
    {
     "name": "stdout",
     "output_type": "stream",
     "text": [
      "(1367, 9)\n",
      "adjusted shape  (1227, 9)\n",
      "(1429, 9)\n",
      "adjusted shape  (1285, 9)\n",
      "(1399, 9)\n",
      "adjusted shape  (1268, 9)\n",
      "(1416, 9)\n",
      "adjusted shape  (1274, 9)\n",
      "[1202, 1262, 1239, 1249]\n",
      "(12533, 9)\n",
      "adjusted shape  (11410, 9)\n",
      "(12754, 9)\n",
      "adjusted shape  (11568, 9)\n",
      "(12527, 9)\n",
      "adjusted shape  (11351, 9)\n",
      "(12614, 9)\n",
      "adjusted shape  (11451, 9)\n",
      "[7848, 7873, 7782, 7836]\n",
      "(122371, 9)\n",
      "adjusted shape  (111088, 9)\n",
      "(123196, 9)\n",
      "adjusted shape  (112116, 9)\n",
      "(123051, 9)\n",
      "adjusted shape  (111731, 9)\n",
      "(122470, 9)\n",
      "adjusted shape  (111191, 9)\n",
      "[33523, 33317, 33435, 33439]\n",
      "(1217444, 9)\n",
      "adjusted shape  (1107090, 9)\n",
      "(1220575, 9)\n",
      "adjusted shape  (1109612, 9)\n",
      "(1217602, 9)\n",
      "adjusted shape  (1107439, 9)\n",
      "(1215897, 9)\n",
      "adjusted shape  (1105640, 9)\n",
      "[71250, 71120, 71107, 71124]\n",
      "(12136133, 9)\n",
      "adjusted shape  (11033666, 9)\n",
      "(12142423, 9)\n",
      "adjusted shape  (11037810, 9)\n",
      "(12140644, 9)\n",
      "adjusted shape  (11037418, 9)\n",
      "(12138226, 9)\n",
      "adjusted shape  (11034193, 9)\n",
      "[84439, 84444, 84440, 84438]\n",
      "[1238.0, 7834.75, 33428.5, 71150.25, 84440.25]\n"
     ]
    }
   ],
   "source": [
    "#new with updates to time tracking\n",
    "path = \"/Users/Akshay/Dropbox/Life/EndyLab/Research/TranslationDynamics/data/\"\n",
    "data = \"180913_1636\"\n",
    "ts=1e11\n",
    "expts = [(0,4),(4,8),(8,12),(12,16),(16,20)] #14ribosome+crowding;14ribosome;1ribosome+crowding;1ribosome\n",
    "collisionCountCrowding5 = list()\n",
    "for i in range(len(expts)):\n",
    "    collisionCountCrowding5.append(multiTotalRibosomeCollisions(path+data,ts,expts[i][0],expts[i][1]))\n",
    "print(collisionCountCrowding5)\n",
    "\n",
    "\n",
    "#14 ribosomes may be too many and they're always colliding causing issues? But checking every 1e-9 shouldn't cause issues...\n",
    "# why are tehre more collisions with 14 ribosomes and no crowders than with 1 ribosome and 400 crowders??"
   ]
  },
  {
   "cell_type": "code",
   "execution_count": 121,
   "metadata": {
    "collapsed": false
   },
   "outputs": [
    {
     "name": "stdout",
     "output_type": "stream",
     "text": [
      "(267, 9)\n",
      "adjusted shape  (201, 9)\n",
      "(832, 9)\n",
      "adjusted shape  (650, 9)\n",
      "(2277, 9)\n",
      "adjusted shape  (1895, 9)\n",
      "(9227, 9)\n",
      "adjusted shape  (7542, 9)\n",
      "(26562, 9)\n",
      "adjusted shape  (22748, 9)\n",
      "[173, 267, 256, 401, 343]\n",
      "(7746, 9)\n",
      "adjusted shape  (6760, 9)\n",
      "(28613, 9)\n",
      "adjusted shape  (25256, 9)\n",
      "(90028, 9)\n",
      "adjusted shape  (79615, 9)\n",
      "(293395, 9)\n",
      "adjusted shape  (261872, 9)\n",
      "(949140, 9)\n",
      "adjusted shape  (844755, 9)\n",
      "[6173, 11023, 12385, 13142, 13595]\n",
      "(358, 9)\n",
      "adjusted shape  (281, 9)\n",
      "(863, 9)\n",
      "adjusted shape  (692, 9)\n",
      "(2453, 9)\n",
      "adjusted shape  (2133, 9)\n",
      "(8072, 9)\n",
      "adjusted shape  (6359, 9)\n",
      "(31232, 9)\n",
      "adjusted shape  (27654, 9)\n",
      "[238, 287, 326, 330, 448]\n",
      "(8471, 9)\n",
      "adjusted shape  (7446, 9)\n",
      "(32068, 9)\n",
      "adjusted shape  (28253, 9)\n",
      "(107198, 9)\n",
      "adjusted shape  (95395, 9)\n",
      "(343162, 9)\n",
      "adjusted shape  (305051, 9)\n",
      "(1173502, 9)\n",
      "adjusted shape  (1051671, 9)\n",
      "[6823, 12528, 14746, 15203, 16610]\n",
      "[288.0, 11263.6, 325.80000000000001, 13182.0]\n"
     ]
    }
   ],
   "source": [
    "#Checking different time steps & crowding with the same seed to check effect of crowding on time scale neccessary\n",
    "path = \"/Users/Akshay/Dropbox/Life/EndyLab/Research/TranslationDynamics/data/\"\n",
    "data = \"180913_2325\"\n",
    "ts=-10\n",
    "expts = [(0,5),(5,10),(10,15),(15,20)] #14ribosome+crowding;14ribosome;1ribosome+crowding;1ribosome\n",
    "collisionCountCrowding5 = list()\n",
    "for i in range(len(expts)):\n",
    "    collisionCountCrowding5.append(multiTotalRibosomeCollisions(path+data,ts,expts[i][0],expts[i][1]))\n",
    "print(collisionCountCrowding5)\n",
    "\n",
    "\n",
    "#14 ribosomes may be too many and they're always colliding causing issues? But checking every 1e-9 shouldn't cause issues...\n",
    "# why are tehre more collisions with 14 ribosomes and no crowders than with 1 ribosome and 400 crowders??"
   ]
  },
  {
   "cell_type": "code",
   "execution_count": 122,
   "metadata": {
    "collapsed": false
   },
   "outputs": [
    {
     "name": "stdout",
     "output_type": "stream",
     "text": [
      "(531, 9)\n",
      "adjusted shape  (508, 9)\n",
      "(550, 9)\n",
      "adjusted shape  (528, 9)\n",
      "(530, 9)\n",
      "adjusted shape  (508, 9)\n",
      "(468, 9)\n",
      "adjusted shape  (450, 9)\n",
      "(530, 9)\n",
      "adjusted shape  (508, 9)\n",
      "[508, 528, 508, 450, 508]\n",
      "(2029, 9)\n",
      "adjusted shape  (1969, 9)\n",
      "(1691, 9)\n",
      "adjusted shape  (1639, 9)\n",
      "(1724, 9)\n",
      "adjusted shape  (1684, 9)\n",
      "(1771, 9)\n",
      "adjusted shape  (1727, 9)\n",
      "(1543, 9)\n",
      "adjusted shape  (1489, 9)\n",
      "[1728, 1437, 1473, 1530, 1294]\n",
      "(5102, 9)\n",
      "adjusted shape  (4977, 9)\n",
      "(5345, 9)\n",
      "adjusted shape  (5213, 9)\n",
      "(6620, 9)\n",
      "adjusted shape  (6533, 9)\n",
      "(5881, 9)\n",
      "adjusted shape  (5784, 9)\n",
      "(5715, 9)\n",
      "adjusted shape  (5599, 9)\n",
      "[2040, 2177, 2686, 2385, 2321]\n",
      "(18570, 9)\n",
      "adjusted shape  (18270, 9)\n",
      "(18070, 9)\n",
      "adjusted shape  (17853, 9)\n",
      "(15436, 9)\n",
      "adjusted shape  (15151, 9)\n",
      "(18449, 9)\n",
      "adjusted shape  (18221, 9)\n",
      "(19280, 9)\n",
      "adjusted shape  (19007, 9)\n",
      "[2779, 2726, 2244, 2689, 2911]\n",
      "(58900, 9)\n",
      "adjusted shape  (57798, 9)\n",
      "(59105, 9)\n",
      "adjusted shape  (58174, 9)\n",
      "(57937, 9)\n",
      "adjusted shape  (57325, 9)\n",
      "(51376, 9)\n",
      "adjusted shape  (50881, 9)\n",
      "(58047, 9)\n",
      "adjusted shape  (56749, 9)\n",
      "[2864, 2834, 2840, 2546, 2757]\n",
      "[500.39999999999998, 1492.4000000000001, 2321.8000000000002, 2669.8000000000002, 2768.1999999999998]\n"
     ]
    }
   ],
   "source": [
    "##1e8 1e9 1e10 1e11 1e12 for 1 ribosome, no crowding# #####\n",
    "\n",
    "#Checking different time steps & crowding with the same seed to check effect of crowding on time scale neccessary\n",
    "#Repeat of 2325 except with 5 repeats with different seeds for each repeat (but same 5 seeds across diff time steps)\n",
    "path = \"/Users/Akshay/Dropbox/Life/EndyLab/Research/TranslationDynamics/data/\"\n",
    "data = \"180914_1052\"\n",
    "ts=-10\n",
    "expts = [(0,5),(5,10),(10,15),(15,20),(20,25)] #14ribosome+crowding;14ribosome;1ribosome+crowding;1ribosome\n",
    "collisionCountCrowding5 = list()\n",
    "for i in range(len(expts)):\n",
    "    collisionCountCrowding5.append(multiTotalRibosomeCollisions(path+data,ts,expts[i][0],expts[i][1]))\n",
    "print(collisionCountCrowding5)"
   ]
  },
  {
   "cell_type": "code",
   "execution_count": 123,
   "metadata": {
    "collapsed": false
   },
   "outputs": [
    {
     "name": "stdout",
     "output_type": "stream",
     "text": [
      "\n",
      "(13015, 9)\n",
      "adjusted shape  (12755, 9)\n",
      "(13179, 9)\n",
      "adjusted shape  (12917, 9)\n",
      "(13081, 9)\n",
      "adjusted shape  (12820, 9)\n",
      "(13228, 9)\n",
      "adjusted shape  (12967, 9)\n",
      "(13216, 9)\n",
      "adjusted shape  (12955, 9)\n",
      "[12755, 12917, 12820, 12967, 12955]\n",
      "(74586, 9)\n",
      "adjusted shape  (73552, 9)\n",
      "(74222, 9)\n",
      "adjusted shape  (73215, 9)\n",
      "(73682, 9)\n",
      "adjusted shape  (72688, 9)\n",
      "(73235, 9)\n",
      "adjusted shape  (72238, 9)\n",
      "(73907, 9)\n",
      "adjusted shape  (72922, 9)\n",
      "[67767, 67526, 66878, 66502, 67283]\n",
      "(275957, 9)\n",
      "adjusted shape  (272421, 9)\n",
      "(278201, 9)\n",
      "adjusted shape  (274674, 9)\n",
      "(274306, 9)\n",
      "adjusted shape  (270596, 9)\n",
      "(279231, 9)\n",
      "adjusted shape  (275465, 9)\n",
      "(274103, 9)\n",
      "adjusted shape  (270675, 9)\n",
      "[118557, 119410, 117418, 119787, 117354]\n",
      "(913566, 9)\n",
      "adjusted shape  (903184, 9)\n",
      "(898240, 9)\n",
      "adjusted shape  (887081, 9)\n",
      "(905496, 9)\n",
      "adjusted shape  (894799, 9)\n",
      "(902670, 9)\n",
      "adjusted shape  (891979, 9)\n",
      "(916197, 9)\n",
      "adjusted shape  (905052, 9)\n",
      "[138928, 136242, 137110, 137587, 139007]\n",
      "(2879594, 9)\n",
      "adjusted shape  (2846290, 9)\n",
      "(2899400, 9)\n",
      "adjusted shape  (2869077, 9)\n",
      "(2951960, 9)\n",
      "adjusted shape  (2918818, 9)\n",
      "(2907505, 9)\n",
      "adjusted shape  (2873058, 9)\n",
      "(2874584, 9)\n",
      "adjusted shape  (2841430, 9)\n",
      "[142607, 144112, 146049, 143684, 142901]\n",
      "[12882.799999999999, 67191.199999999997, 118505.2, 137774.79999999999, 143870.60000000001]\n"
     ]
    }
   ],
   "source": [
    "##1e8 1e9 1e10 1e11 1e12 for 1 ribosome, 427 crowding# #####\n",
    "\n",
    "#Checking different time steps & crowding with the same seed to check effect of crowding on time scale neccessary\n",
    "#Repeat of 2325 except with 5 repeats with different seeds for each repeat (but same 5 seeds across diff time steps)\n",
    "path = \"/Users/Akshay/Dropbox/Life/EndyLab/Research/TranslationDynamics/data/\"\n",
    "data = \"180914_1052\"\n",
    "ts=-10\n",
    "expts = [(25,30),(30,35),(35,40),(40,45),(45,50)] #14ribosome+crowding;14ribosome;1ribosome+crowding;1ribosome\n",
    "collisionCountCrowding5 = list()\n",
    "for i in range(len(expts)):\n",
    "    collisionCountCrowding5.append(multiTotalRibosomeCollisions(path+data,ts,expts[i][0],expts[i][1]))\n",
    "print(collisionCountCrowding5)\n"
   ]
  },
  {
   "cell_type": "code",
   "execution_count": 126,
   "metadata": {
    "collapsed": false
   },
   "outputs": [
    {
     "name": "stdout",
     "output_type": "stream",
     "text": [
      "(693, 9)\n",
      "adjusted shape  (672, 9)\n",
      "(679, 9)\n",
      "adjusted shape  (659, 9)\n",
      "(655, 9)\n",
      "adjusted shape  (632, 9)\n",
      "(677, 9)\n",
      "adjusted shape  (657, 9)\n",
      "(620, 9)\n",
      "adjusted shape  (598, 9)\n",
      "[672, 659, 632, 657, 598]\n",
      "(2156, 9)\n",
      "adjusted shape  (2081, 9)\n",
      "(2287, 9)\n",
      "adjusted shape  (2215, 9)\n",
      "(2460, 9)\n",
      "adjusted shape  (2390, 9)\n",
      "(2298, 9)\n",
      "adjusted shape  (2228, 9)\n",
      "(2419, 9)\n",
      "adjusted shape  (2349, 9)\n",
      "[1840, 1958, 2128, 1967, 2066]\n",
      "(7092, 9)\n",
      "adjusted shape  (6928, 9)\n",
      "(5986, 9)\n",
      "adjusted shape  (5830, 9)\n",
      "(7031, 9)\n",
      "adjusted shape  (6867, 9)\n",
      "(6411, 9)\n",
      "adjusted shape  (6294, 9)\n",
      "(7140, 9)\n",
      "adjusted shape  (6965, 9)\n",
      "[2871, 2378, 2827, 2632, 2820]\n",
      "(22819, 9)\n",
      "adjusted shape  (22217, 9)\n",
      "(22291, 9)\n",
      "adjusted shape  (22033, 9)\n",
      "(23920, 9)\n",
      "adjusted shape  (23648, 9)\n",
      "(23601, 9)\n",
      "adjusted shape  (23322, 9)\n",
      "(25218, 9)\n",
      "adjusted shape  (24767, 9)\n",
      "[3359, 3303, 3497, 3407, 3632]\n",
      "(67715, 9)\n",
      "adjusted shape  (66250, 9)\n",
      "(66333, 9)\n",
      "adjusted shape  (65502, 9)\n",
      "(76620, 9)\n",
      "adjusted shape  (75745, 9)\n",
      "(74612, 9)\n",
      "adjusted shape  (73341, 9)\n",
      "(71846, 9)\n",
      "adjusted shape  (70423, 9)\n",
      "[3193, 3256, 3766, 3586, 3521]\n",
      "[643.60000000000002, 1991.8, 2705.5999999999999, 3439.5999999999999, 3464.4000000000001]\n"
     ]
    }
   ],
   "source": [
    "##1e8 1e9 1e10 1e11 1e12 for 3 ribosome, no crowding# #####\n",
    "\n",
    "#Checking different time steps & crowding with the same seed to check effect of crowding on time scale neccessary\n",
    "#Repeat of 2325 except with 5 repeats with different seeds for each repeat (but same 5 seeds across diff time steps)\n",
    "path = \"/Users/Akshay/Dropbox/Life/EndyLab/Research/TranslationDynamics/data/\"\n",
    "data = \"180914_1052\"\n",
    "ts=-10\n",
    "expts = [(50,55),(55,60),(60,65),(65,70),(70,75)] #14ribosome+crowding;14ribosome;1ribosome+crowding;1ribosome\n",
    "collisionCountCrowding5 = list()\n",
    "for i in range(len(expts)):\n",
    "    collisionCountCrowding5.append(multiTotalRibosomeCollisions(path+data,ts,expts[i][0],expts[i][1]))\n",
    "print(collisionCountCrowding5)\n"
   ]
  },
  {
   "cell_type": "code",
   "execution_count": 125,
   "metadata": {
    "collapsed": false
   },
   "outputs": [
    {
     "name": "stdout",
     "output_type": "stream",
     "text": [
      "(13227, 9)\n",
      "adjusted shape  (12978, 9)\n",
      "(13395, 9)\n",
      "adjusted shape  (13132, 9)\n",
      "(13168, 9)\n",
      "adjusted shape  (12920, 9)\n",
      "(13562, 9)\n",
      "adjusted shape  (13311, 9)\n",
      "(13388, 9)\n",
      "adjusted shape  (13123, 9)\n",
      "[12978, 13132, 12920, 13311, 13123]\n",
      "(315054, 9)\n",
      "adjusted shape  (310971, 9)\n",
      "(320683, 9)\n",
      "adjusted shape  (316532, 9)\n",
      "(313785, 9)\n",
      "adjusted shape  (309684, 9)\n",
      "(318044, 9)\n",
      "adjusted shape  (314002, 9)\n",
      "(316353, 9)\n",
      "adjusted shape  (312383, 9)\n",
      "[135609, 138936, 136340, 137739, 136788]\n",
      "(1054797, 9)\n",
      "adjusted shape  (1042383, 9)\n",
      "(1057517, 9)\n",
      "adjusted shape  (1045119, 9)\n",
      "(1075738, 9)\n",
      "adjusted shape  (1062995, 9)\n",
      "(1073951, 9)\n",
      "adjusted shape  (1060985, 9)\n",
      "(1075962, 9)\n",
      "adjusted shape  (1063064, 9)\n",
      "[159179, 159745, 162414, 161495, 162117]\n",
      "(3409538, 9)\n",
      "adjusted shape  (3372590, 9)\n",
      "(3426628, 9)\n",
      "adjusted shape  (3384260, 9)\n",
      "(3452437, 9)\n",
      "adjusted shape  (3410713, 9)\n",
      "(3324883, 9)\n",
      "adjusted shape  (3285698, 9)\n",
      "(3418340, 9)\n",
      "adjusted shape  (3380619, 9)\n",
      "[167731, 168305, 170021, 164095, 168615]\n",
      "[13092.799999999999, 137082.39999999999, 160990.0, 167753.39999999999]\n"
     ]
    }
   ],
   "source": [
    "##1e8 1e9 1e10 1e11 1e12 for 3 ribosome, 427 crowding# #####\n",
    "\n",
    "#Checking different time steps & crowding with the same seed to check effect of crowding on time scale neccessary\n",
    "#Repeat of 2325 except with 5 repeats with different seeds for each repeat (but same 5 seeds across diff time steps)\n",
    "path = \"/Users/Akshay/Dropbox/Life/EndyLab/Research/TranslationDynamics/data/\"\n",
    "data = \"180914_1052\"\n",
    "ts=-10\n",
    "expts = [(75,80),(80,85),(85,90),(90,95),(95,100)] #14ribosome+crowding;14ribosome;1ribosome+crowding;1ribosome\n",
    "collisionCountCrowding5 = list()\n",
    "for i in range(len(expts)):\n",
    "    collisionCountCrowding5.append(multiTotalRibosomeCollisions(path+data,ts,expts[i][0],expts[i][1]))\n",
    "print(collisionCountCrowding5)\n"
   ]
  },
  {
   "cell_type": "code",
   "execution_count": null,
   "metadata": {
    "collapsed": false
   },
   "outputs": [],
   "source": []
  },
  {
   "cell_type": "code",
   "execution_count": 8,
   "metadata": {
    "collapsed": false
   },
   "outputs": [
    {
     "name": "stdout",
     "output_type": "stream",
     "text": [
      "[1387.0, 2056.6666666666665, 2267.6666666666665, 2562.0, 2379.3333333333335]\n",
      "[1546.0, 2301.0, 2583.0, 2846.0, 3163.6666666666665]\n",
      "[1679.6666666666667, 2486.3333333333335, 3074.6666666666665, 3017.3333333333335, 3055.6666666666665]\n",
      "[1975.3333333333333, 2692.0, 3386.3333333333335, 3405.0, 3631.6666666666665]\n",
      "[1974.3333333333333, 3074.6666666666665, 3653.0, 3817.3333333333335, 3910.3333333333335]\n",
      "[2343.3333333333335, 3421.6666666666665, 3968.0, 3979.0, 4273.0]\n",
      "[10439.0, 50227.333333333336, 13150.666666666666, 43120.0, 9361.3333333333339]\n"
     ]
    },
    {
     "data": {
      "text/plain": [
       "[[[(11058, 9), (10921, 9), 10637],\n",
       "  [(10829, 9), (10703, 9), 10385],\n",
       "  [(10749, 9), (10624, 9), 10295]],\n",
       " [[(46716, 9), (45706, 9), 27040],\n",
       "  [(97018, 9), (96131, 9), 62558],\n",
       "  [(95215, 9), (94262, 9), 61084]],\n",
       " [[(66671, 9), (57995, 9), 8955],\n",
       "  [(107919, 9), (99593, 9), 22459],\n",
       "  [(55764, 9), (54758, 9), 8038]],\n",
       " [[(803562, 9), (721443, 9), 50001],\n",
       "  [(386845, 9), (305341, 9), 18835],\n",
       "  [(940237, 9), (859492, 9), 60524]],\n",
       " [[(822805, 9), (652969, 9), 9809],\n",
       "  [(1072802, 9), (591104, 9), 8925],\n",
       "  [(663022, 9), (610711, 9), 9350]]]"
      ]
     },
     "execution_count": 8,
     "metadata": {},
     "output_type": "execute_result"
    }
   ],
   "source": [
    "import pickle as pkl\n",
    "import glob\n",
    "\n",
    "def collisionPickleAggregator(datapath, expts):\n",
    "    collision_count=list()\n",
    "    avg_coll_count = list()\n",
    "    for expt_i in expts:\n",
    "        data_arr_j=list()\n",
    "        count_arr_j=list()\n",
    "        for j in range(expt_i[0],expt_i[1]):\n",
    "            try:\n",
    "                collision_expt_path =glob.glob(datapath+'/analysis/expt-'+str(j)+'-*')[0]\n",
    "                with open(collision_expt_path, 'rb') as f:\n",
    "                    data_i = pkl.load(f)\n",
    "                    count_arr_i = data_i[2]\n",
    "                data_arr_j.append(data_i)\n",
    "                count_arr_j.append(count_arr_i)\n",
    "            except:\n",
    "                print(\"1\")\n",
    "        avg_coll_count.append(np.average(count_arr_j))\n",
    "        collision_count.append(data_arr_j)\n",
    "    print(avg_coll_count)\n",
    "    return collision_count\n",
    "\n",
    "path = \"/Users/Akshay/Dropbox/Life/EndyLab/Research/TranslationDynamics/data/\"\n",
    "data = \"180916_2322\"\n",
    "#expts = [(0,5),(5,10),(10,15),(15,20),(20,25),(25,30),(30,35),(35,40),(40,45),(45,50),(50,55),(55,60),(60,65),(65,70),(70,75),(75,80),(80,85),(85,90),(90,95)] #14ribosome+crowding;14ribosome;1ribosome+crowding;1ribosome\n",
    "\n",
    "expts=[(0,3),(3,6),(6,9),(9,12),(12,15)]\n",
    "collisionPickleAggregator(path+data,expts)\n",
    "expts=[(15,18),(18,21),(21,24),(24,27),(27,30)]\n",
    "collisionPickleAggregator(path+data,expts)\n",
    "expts=[(30,33),(33,36),(36,39),(39,42),(42,45)]\n",
    "collisionPickleAggregator(path+data,expts)\n",
    "expts=[(45,48),(48,51),(51,54),(54,57),(57,60)]\n",
    "collisionPickleAggregator(path+data,expts)\n",
    "expts=[(60,63),(63,66),(66,69),(69,72),(72,75)]\n",
    "collisionPickleAggregator(path+data,expts)\n",
    "expts=[(75,78),(78,81),(81,84),(84,87),(87,90)]\n",
    "collisionPickleAggregator(path+data,expts)\n",
    "expts=[(90,93),(93,96),(96,99),(99,102),(102,105)]\n",
    "collisionPickleAggregator(path+data,expts)\n",
    "\n",
    "\n",
    "###I suspect the issue might be with ribosome-ribosome collisions once you get too mayn ribosomes, since due to \n",
    "#approximate nature of smoldyn, just get permanent overlap of ribosomes...; maybe that's why things are weird\n",
    "#between diff seeds just based on initialization...? But why do total collisions for seed switch bellow from 1e11 to 1e12?\n",
    "#That's why gett\n",
    "#It's the ribosomes overlapping when too many. Easy fix: just allow ribosomes to overlap. Other fix: Fix locations\n",
    "#of ribosome w/ preset xyz instead of uniform random. Get drew's input.\n",
    "#Or run for 10x as long and cut out first 25% or so....and do lots of repeats and cut out high outliers.\n",
    "#ok i think solution is fix xyz to as far away as possible, and then also take off\n",
    "#ribosome-ribosome bounce so not flying everywhere."
   ]
  },
  {
   "cell_type": "code",
   "execution_count": 354,
   "metadata": {
    "collapsed": false
   },
   "outputs": [
    {
     "name": "stdout",
     "output_type": "stream",
     "text": [
      "[2324.6666666666665, 3681.0, 4105.0, 4193.333333333333, 4167.333333333333]\n",
      "[2494.6666666666665, 3929.3333333333335, 4375.333333333333, 4659.0, 4900.333333333333]\n",
      "[2697.0, 3986.3333333333335, 5091.0, 5197.333333333333, 5441.666666666667]\n",
      "[3473.0, 4729.333333333333, 5570.333333333333, 6586.333333333333, 6214.333333333333]\n",
      "[3619.0, 5989.0, 6485.0, 6975.333333333333, 6967.666666666667]\n",
      "[4488.333333333333, 6422.666666666667, 7045.666666666667, 8266.6666666666661, 8328.3333333333339]\n",
      "[5085.666666666667, 7452.666666666667, 8640.3333333333339, 9816.3333333333339, 9268.0]\n",
      "[5091.0, 8136.666666666667, 10049.0, 9794.0, 10472.333333333334]\n",
      "[6129.0, 11226.333333333334, 11104.333333333334, 13917.0, 12464.666666666666]\n",
      "[7693.666666666667, 11741.333333333334, 14725.0, 14307.333333333334, 12848.0]\n",
      "[[[(10133, 9), (9933, 9), 4091], [(8037, 9), (7838, 9), 3194], [(9429, 9), (9243, 9), 3758]], [[(10524, 9), (10305, 9), 4204], [(8998, 9), (8729, 9), 3586], [(10118, 9), (9915, 9), 3998]], [[(10065, 9), (9751, 9), 4010], [(9999, 9), (9750, 9), 4019], [(9521, 9), (9367, 9), 3930]], [[(12721, 9), (12306, 9), 5022], [(11161, 9), (10786, 9), 4340], [(11768, 9), (11531, 9), 4826]], [[(15212, 9), (14796, 9), 6018], [(16314, 9), (15897, 9), 6499], [(13497, 9), (13260, 9), 5450]], [[(17367, 9), (16938, 9), 6905], [(15408, 9), (15028, 9), 6122], [(15817, 9), (15455, 9), 6241]], [[(18488, 9), (17950, 9), 7262], [(19457, 9), (18926, 9), 7786], [(18478, 9), (17971, 9), 7310]], [[(21258, 9), (20628, 9), 8314], [(20293, 9), (19388, 9), 8063], [(20240, 9), (19700, 9), 8033]], [[(28704, 9), (27852, 9), 11505], [(28181, 9), (27369, 9), 11173], [(28095, 9), (27423, 9), 11001]], [[(31971, 9), (30807, 9), 12565], [(29215, 9), (28195, 9), 11380], [(28550, 9), (27572, 9), 11279]]]\n"
     ]
    }
   ],
   "source": [
    "path = \"/Users/Akshay/Dropbox/Life/EndyLab/Research/TranslationDynamics/data/\"\n",
    "data = \"180917_1048\"\n",
    "#[(0,5),(5,10),(10,15),(15,20),(20,25),(25,30),(30,35),(35,40),(40,45),(45,50),(50,55),(55,60),(60,65),(65,70),(70,75),(75,80),(80,85),(85,90),(90,95)] #14ribosome+crowding;14ribosome;1ribosome+crowding;1ribosome\n",
    "expts = [[(0,3),(3,6),(6,9),(9,12),(12,15)],[(15,18),(18,21),(21,24),(24,27),(27,30)],[(30,33),(33,36),(36,39),(39,42),(42,45)],\n",
    "[(45,48),(48,51),(51,54),(54,57),(57,60)],[(60,63),(63,66),(66,69),(69,72),(72,75)],[(75,78),(78,81),(81,84),(84,87),(87,90)],\n",
    "[(90,93),(93,96),(96,99),(99,102),(102,105)],[(105,108),(108,111),(111,114),(114,117),(117,120)],\n",
    "[(120,123),(123,126),(126,129),(129,132),(132,135)], [(135,138),(138,141),(141,144),(144,147),(148,150)]]\n",
    "\n",
    "collisionCountSweep = list()\n",
    "for i in range(len(expts)):\n",
    "    collisionCountSweep.append(collisionPickleAggregator(path+data,expts[i])[1])\n",
    "\n",
    "print(collisionCountSweep)"
   ]
  },
  {
   "cell_type": "code",
   "execution_count": 355,
   "metadata": {
    "collapsed": false
   },
   "outputs": [
    {
     "name": "stdout",
     "output_type": "stream",
     "text": [
      "[16682.5, 18855.5]\n",
      "[[[(12554035, 9), (12554035, 9), 20265], [(9172723, 9), (9172723, 9), 18427], [(8301530, 9), (8301530, 9), 15533], [(11845555, 9), (11845555, 9), 21197]]]\n"
     ]
    }
   ],
   "source": [
    "path = \"/Users/Akshay/Dropbox/Life/EndyLab/Research/TranslationDynamics/data/\"\n",
    "data = \"180917_2057\"\n",
    "expts = [[(0,4),(4,8)]]\n",
    "\n",
    "collisionCountSweep = list()\n",
    "for i in range(len(expts)):\n",
    "    collisionCountSweep.append(collisionPickleAggregator(path+data,expts[i])[1])\n",
    "\n",
    "print(collisionCountSweep)"
   ]
  },
  {
   "cell_type": "code",
   "execution_count": null,
   "metadata": {
    "collapsed": true
   },
   "outputs": [],
   "source": [
    "#with first 2 ns cut off: 8824,12605,12898,13043; if include all the time: 9236, 13457. 13869, 13945\n",
    "f,[ax1,ax2] = plt.subplots(1,2,figsize=(20,10))\n",
    "\n",
    "ax1.scatter([1e-9,1e-10,1e-11,1e-12],collisionCountCrowding,s=60)\n",
    "ax1.set_title(\"Effect of timestep on # of total collisions in 98 ns\")\n",
    "ax1.set_xlabel('Timestep (seconds)')\n",
    "ax1.set_ylabel('# of total collisions\\n (specific molecule pair overlaps are counted as collisions only once every nanosecond)')\n",
    "ax1.set_xlim(1e-15,1e-8)\n",
    "ax1.set_xscale('log')\n",
    "ax1.set_ylim(0,14000)\n",
    "\n",
    "x = [14,14,1,1]\n",
    "ax2.scatter(x,x)\n"
   ]
  },
  {
   "cell_type": "code",
   "execution_count": 9,
   "metadata": {
    "collapsed": false
   },
   "outputs": [
    {
     "name": "stdout",
     "output_type": "stream",
     "text": [
      "[4499.3999999999996, 207698.20000000001, 4960.8000000000002, 4116.1999999999998, 5205.6000000000004]\n"
     ]
    },
    {
     "data": {
      "text/plain": [
       "[[array([15730, 15730,  4495]),\n",
       "  array([15022, 15022,  4319]),\n",
       "  array([16632, 16632,  4774]),\n",
       "  array([16320, 16320,  4692]),\n",
       "  array([14733, 14733,  4217])],\n",
       " [array([2226077, 2226077,  207612]),\n",
       "  array([2211454, 2211454,  206507]),\n",
       "  array([2232660, 2232660,  209350]),\n",
       "  array([2219031, 2219031,  206987]),\n",
       "  array([2230370, 2230370,  208035])],\n",
       " [array([192800, 192800,   5387]),\n",
       "  array([170576, 170576,   4850]),\n",
       "  array([182817, 182817,   5036]),\n",
       "  array([181907, 181907,   5039]),\n",
       "  array([161727, 161727,   4492])],\n",
       " [array([5371, 5371, 4421]),\n",
       "  array([4612, 4612, 3822]),\n",
       "  array([5423, 5423, 4512]),\n",
       "  array([5046, 5046, 4175]),\n",
       "  array([4451, 4451, 3651])],\n",
       " [array([18765, 18765,  5429]),\n",
       "  array([17046, 17046,  4884]),\n",
       "  array([19169, 19169,  5394]),\n",
       "  array([18179, 18179,  5205]),\n",
       "  array([17835, 17835,  5116])]]"
      ]
     },
     "execution_count": 9,
     "metadata": {},
     "output_type": "execute_result"
    }
   ],
   "source": [
    "path = \"/Users/Akshay/Dropbox/Life/EndyLab/Research/TranslationDynamics/data/\"\n",
    "data = \"180919_0059\"\n",
    "#expts = [(0,5),(5,10),(10,15),(15,20),(20,25),(25,30),(30,35),(35,40),(40,45),(45,50),(50,55),(55,60),(60,65),(65,70),(70,75),(75,80),(80,85),(85,90),(90,95)] #14ribosome+crowding;14ribosome;1ribosome+crowding;1ribosome\n",
    "\n",
    "expts=[(125,130),(130,135),(135,140),(140,145),(145,150)]\n",
    "collisionPickleAggregator(path+data,expts)"
   ]
  },
  {
   "cell_type": "code",
   "execution_count": 409,
   "metadata": {
    "collapsed": false
   },
   "outputs": [
    {
     "name": "stdout",
     "output_type": "stream",
     "text": [
      "[1997.8, 2557.8000000000002, 2614.1999999999998, 2676.8000000000002]\n"
     ]
    },
    {
     "data": {
      "text/plain": [
       "[[array([2715, 2715, 2204]),\n",
       "  array([2295, 2295, 1832]),\n",
       "  array([2390, 2390, 1937]),\n",
       "  array([2467, 2467, 1983]),\n",
       "  array([2550, 2550, 2033])],\n",
       " [array([10804, 10804,  3063]),\n",
       "  array([9156, 9156, 2583]),\n",
       "  array([8849, 8849, 2511]),\n",
       "  array([7114, 7114, 1997]),\n",
       "  array([9280, 9280, 2635])],\n",
       " [array([29374, 29374,  2670]),\n",
       "  array([29369, 29369,  2677]),\n",
       "  array([30632, 30632,  2776]),\n",
       "  array([28606, 28606,  2631]),\n",
       "  array([25723, 25723,  2317])],\n",
       " [array([96035, 96035,  2712]),\n",
       "  array([87545, 87545,  2518]),\n",
       "  array([99139, 99139,  2792]),\n",
       "  array([91279, 91279,  2575]),\n",
       "  array([99947, 99947,  2787])]]"
      ]
     },
     "execution_count": 409,
     "metadata": {},
     "output_type": "execute_result"
    }
   ],
   "source": [
    "path = \"/Users/Akshay/Dropbox/Life/EndyLab/Research/TranslationDynamics/data/\"\n",
    "data = \"180919_1307\"\n",
    "#expts = [(0,5),(5,10),(10,15),(15,20),(20,25),(25,30),(30,35),(35,40),(40,45),(45,50),(50,55),(55,60),(60,65),(65,70),(70,75),(75,80),(80,85),(85,90),(90,95)] #14ribosome+crowding;14ribosome;1ribosome+crowding;1ribosome\n",
    "\n",
    "expts= [(0,5),(5,10),(10,15),(15,20)]\n",
    "collisionPickleAggregator(path+data,expts)\n"
   ]
  },
  {
   "cell_type": "code",
   "execution_count": 410,
   "metadata": {
    "collapsed": false
   },
   "outputs": [
    {
     "name": "stdout",
     "output_type": "stream",
     "text": [
      "[2099.8000000000002, 2509.1999999999998, 2575.5999999999999, 2706.8000000000002]\n"
     ]
    },
    {
     "data": {
      "text/plain": [
       "[[array([2855, 2855, 2278]),\n",
       "  array([2461, 2461, 2020]),\n",
       "  array([2196, 2196, 1749]),\n",
       "  array([2842, 2842, 2290]),\n",
       "  array([2661, 2661, 2162])],\n",
       " [array([9455, 9455, 2702]),\n",
       "  array([7344, 7344, 2106]),\n",
       "  array([10503, 10503,  2993]),\n",
       "  array([9022, 9022, 2560]),\n",
       "  array([7517, 7517, 2185])],\n",
       " [array([30232, 30232,  2706]),\n",
       "  array([26685, 26685,  2415]),\n",
       "  array([26534, 26534,  2414]),\n",
       "  array([30158, 30158,  2765]),\n",
       "  array([29459, 29459,  2578])],\n",
       " [array([99823, 99823,  2833]),\n",
       "  array([94738, 94738,  2742]),\n",
       "  array([95943, 95943,  2713]),\n",
       "  array([101405, 101405,   2857]),\n",
       "  array([83600, 83600,  2389])]]"
      ]
     },
     "execution_count": 410,
     "metadata": {},
     "output_type": "execute_result"
    }
   ],
   "source": [
    "path = \"/Users/Akshay/Dropbox/Life/EndyLab/Research/TranslationDynamics/data/\"\n",
    "data = \"180919_1321\"\n",
    "#expts = [(0,5),(5,10),(10,15),(15,20),(20,25),(25,30),(30,35),(35,40),(40,45),(45,50),(50,55),(55,60),(60,65),(65,70),(70,75),(75,80),(80,85),(85,90),(90,95)] #14ribosome+crowding;14ribosome;1ribosome+crowding;1ribosome\n",
    "\n",
    "expts= [(0,5),(5,10),(10,15),(15,20)]\n",
    "collisionPickleAggregator(path+data,expts)\n"
   ]
  },
  {
   "cell_type": "code",
   "execution_count": 435,
   "metadata": {
    "collapsed": false
   },
   "outputs": [
    {
     "name": "stdout",
     "output_type": "stream",
     "text": [
      "[1387.8, 8222.3999999999996, 13198.6, 13647.200000000001, 15131.0]\n",
      "[13163.4, 98119.600000000006, 283275.40000000002, 392430.20000000001, 417817.59999999998]\n"
     ]
    },
    {
     "data": {
      "text/plain": [
       "[[array([13304, 13304, 13304]),\n",
       "  array([13149, 13149, 13149]),\n",
       "  array([13018, 13018, 13018]),\n",
       "  array([13173, 13173, 13173]),\n",
       "  array([13173, 13173, 13173])],\n",
       " [array([112059, 112059,  99318]),\n",
       "  array([109738, 109738,  97200]),\n",
       "  array([111384, 111384,  98776]),\n",
       "  array([111139, 111139,  98472]),\n",
       "  array([109250, 109250,  96832])],\n",
       " [array([809460, 809460, 284731]),\n",
       "  array([816170, 816170, 288412]),\n",
       "  array([807682, 807682, 283956]),\n",
       "  array([792686, 792686, 279401]),\n",
       "  array([788836, 788836, 279877])],\n",
       " [array([4024884, 4024884,  383382]),\n",
       "  array([4076778, 4076778,  387531]),\n",
       "  array([4091274, 4091274,  383317]),\n",
       "  array([4164965, 4164965,  396951]),\n",
       "  array([4257352, 4257352,  410970])],\n",
       " [array([16217523, 16217523,   417600]),\n",
       "  array([15312514, 15312514,   408028]),\n",
       "  array([16971186, 16971186,   409134]),\n",
       "  array([16403409, 16403409,   417759]),\n",
       "  array([16323157, 16323157,   436567])]]"
      ]
     },
     "execution_count": 435,
     "metadata": {},
     "output_type": "execute_result"
    }
   ],
   "source": [
    "path = \"/Users/Akshay/Dropbox/Life/EndyLab/Research/TranslationDynamics/data/\"\n",
    "data = \"180919_1412\"\n",
    "#expts = [(0,5),(5,10),(10,15),(15,20),(20,25),(25,30),(30,35),(35,40),(40,45),(45,50),(50,55),(55,60),(60,65),(65,70),(70,75),(75,80),(80,85),(85,90),(90,95)] #14ribosome+crowding;14ribosome;1ribosome+crowding;1ribosome\n",
    "\n",
    "expts= [(0,5),(5,10),(10,15),(15,20),(20,25)]\n",
    "collisionPickleAggregator(path+data,expts)\n",
    "expts= [(25,30),(30,35),(35,40),(40,45),(45,50)]\n",
    "collisionPickleAggregator(path+data,expts)\n"
   ]
  },
  {
   "cell_type": "code",
   "execution_count": 5,
   "metadata": {
    "collapsed": false
   },
   "outputs": [
    {
     "name": "stdout",
     "output_type": "stream",
     "text": [
      "[586.79999999999995, 758.20000000000005, 835.20000000000005, 850.79999999999995, 868.39999999999998]\n",
      "[11748.200000000001, 31701.599999999999, 39855.400000000001, 42402.0, 43662.400000000001]\n"
     ]
    },
    {
     "data": {
      "text/plain": [
       "[[array([13633, 12276, 11757]),\n",
       "  array([13571, 12216, 11695]),\n",
       "  array([13524, 12169, 11713]),\n",
       "  array([13688, 12331, 11875]),\n",
       "  array([13546, 12217, 11701])],\n",
       " [array([93008, 84058, 31697]),\n",
       "  array([92534, 83864, 31604]),\n",
       "  array([92705, 83519, 31661]),\n",
       "  array([93406, 84365, 31925]),\n",
       "  array([92522, 83344, 31621])],\n",
       " [array([425706, 381819,  39736]),\n",
       "  array([425485, 383756,  39813]),\n",
       "  array([430193, 386809,  40094]),\n",
       "  array([427497, 383487,  39974]),\n",
       "  array([425013, 381414,  39660])],\n",
       " [array([1546228, 1386522,   42369]),\n",
       "  array([1540070, 1380535,   42308]),\n",
       "  array([1540089, 1380851,   42394]),\n",
       "  array([1548536, 1389935,   42599]),\n",
       "  array([1542752, 1377424,   42340])],\n",
       " [array([5093257, 4559876,   44050]),\n",
       "  array([5005276, 4495255,   43482]),\n",
       "  array([5001767, 4463656,   43216]),\n",
       "  array([5047796, 4524013,   43822]),\n",
       "  array([5064540, 4518156,   43742])]]"
      ]
     },
     "execution_count": 5,
     "metadata": {},
     "output_type": "execute_result"
    }
   ],
   "source": [
    "from analysis_utils import *\n",
    "#1e-8 cutoff\n",
    "path = \"/Users/Akshay/Dropbox/Life/EndyLab/Research/TranslationDynamics/data/\"\n",
    "data = \"180919_1517\"\n",
    "expts= [(0,5),(5,10),(10,15),(15,20),(20,25)]\n",
    "collisionPickleAggregators(path+data,expts)\n",
    "expts= [(25,30),(30,35),(35,40),(40,45),(45,50)]\n",
    "collisionPickleAggregators(path+data,expts)"
   ]
  },
  {
   "cell_type": "code",
   "execution_count": null,
   "metadata": {
    "collapsed": false
   },
   "outputs": [],
   "source": [
    "\n"
   ]
  },
  {
   "cell_type": "code",
   "execution_count": null,
   "metadata": {
    "collapsed": true
   },
   "outputs": [],
   "source": []
  },
  {
   "cell_type": "code",
   "execution_count": 10,
   "metadata": {
    "collapsed": false
   },
   "outputs": [
    {
     "ename": "NameError",
     "evalue": "name 'plt_transport' is not defined",
     "output_type": "error",
     "traceback": [
      "\u001b[0;31m---------------------------------------------------------------------------\u001b[0m",
      "\u001b[0;31mNameError\u001b[0m                                 Traceback (most recent call last)",
      "\u001b[0;32m<ipython-input-10-072285d9e032>\u001b[0m in \u001b[0;36m<module>\u001b[0;34m()\u001b[0m\n\u001b[1;32m      5\u001b[0m \u001b[0mcolors\u001b[0m \u001b[0;34m=\u001b[0m \u001b[0;34m[\u001b[0m\u001b[0mcmap\u001b[0m\u001b[0;34m(\u001b[0m\u001b[0mnormalize\u001b[0m\u001b[0;34m(\u001b[0m\u001b[0mvalue\u001b[0m\u001b[0;34m)\u001b[0m\u001b[0;34m)\u001b[0m \u001b[0;32mfor\u001b[0m \u001b[0mvalue\u001b[0m \u001b[0;32min\u001b[0m \u001b[0mz\u001b[0m\u001b[0;34m]\u001b[0m\u001b[0;34m\u001b[0m\u001b[0m\n\u001b[1;32m      6\u001b[0m \u001b[0;34m\u001b[0m\u001b[0m\n\u001b[0;32m----> 7\u001b[0;31m \u001b[0max1\u001b[0m\u001b[0;34m.\u001b[0m\u001b[0mscatter\u001b[0m\u001b[0;34m(\u001b[0m\u001b[0mnp\u001b[0m\u001b[0;34m.\u001b[0m\u001b[0mmultiply\u001b[0m\u001b[0;34m(\u001b[0m\u001b[0mplt_transport\u001b[0m\u001b[0;34m,\u001b[0m\u001b[0;36m1000\u001b[0m\u001b[0;34m)\u001b[0m\u001b[0;34m,\u001b[0m\u001b[0mnp\u001b[0m\u001b[0;34m.\u001b[0m\u001b[0mmultiply\u001b[0m\u001b[0;34m(\u001b[0m\u001b[0mplt_rxn\u001b[0m\u001b[0;34m,\u001b[0m\u001b[0;36m1000\u001b[0m\u001b[0;34m)\u001b[0m\u001b[0;34m,\u001b[0m \u001b[0mcolor\u001b[0m\u001b[0;34m=\u001b[0m\u001b[0mcolors\u001b[0m\u001b[0;34m,\u001b[0m\u001b[0ms\u001b[0m\u001b[0;34m=\u001b[0m\u001b[0;36m60\u001b[0m\u001b[0;34m)\u001b[0m\u001b[0;34m\u001b[0m\u001b[0m\n\u001b[0m\u001b[1;32m      8\u001b[0m \u001b[0;31m# plt.colorbar('Blues')\u001b[0m\u001b[0;34m\u001b[0m\u001b[0;34m\u001b[0m\u001b[0m\n\u001b[1;32m      9\u001b[0m \u001b[0max1\u001b[0m\u001b[0;34m.\u001b[0m\u001b[0mset_title\u001b[0m\u001b[0;34m(\u001b[0m\u001b[0;34m\"Influence of average transport vs. reaction time on translation rate\\n at different ribosome abundances\"\u001b[0m\u001b[0;34m)\u001b[0m\u001b[0;34m\u001b[0m\u001b[0m\n",
      "\u001b[0;31mNameError\u001b[0m: name 'plt_transport' is not defined"
     ]
    },
    {
     "data": {
      "image/png": "[encoded data removed]",
      "text/plain": [
       "<matplotlib.figure.Figure at 0x113179668>"
      ]
     },
     "metadata": {},
     "output_type": "display_data"
    }
   ],
   "source": [
    "    f,[ax1,ax2,ax3] = plt.subplots(1,3,figsize=(20,10))\n",
    "    z=[1,2,3,4,5,6,7,8]\n",
    "    cmap = matplotlib.cm.get_cmap('Blues')\n",
    "    normalize = matplotlib.colors.Normalize(vmin=min(z)-1, vmax=max(z))\n",
    "    colors = [cmap(normalize(value)) for value in z]\n",
    "\n",
    "    ax1.scatter(np.multiply(plt_transport,1000),np.multiply(plt_rxn,1000), color=colors,s=60)\n",
    "    # plt.colorbar('Blues')\n",
    "    ax1.set_title(\"Influence of average transport vs. reaction time on translation rate\\n at different ribosome abundances\")\n",
    "    ax1.set_xlabel('tau_reaction (ms)')\n",
    "    ax1.set_ylabel('tau_transport (ms)')\n",
    "    ax1.set_xlim(0,200)\n",
    "    ax1.set_ylim(0,200)\n",
    "\n",
    "    #Draw translation rate contour\n",
    "    elongation_reaction_time = np.arange(500) #500\n",
    "    elongation_transport_time = np.arange(500) #500\n",
    "\n",
    "    x=list(([],[],[],[],[],[],[],[]))\n",
    "    y=list(([],[],[],[],[],[],[],[]))\n",
    "\n",
    "    for k in range(len(x)):\n",
    "        for i in elongation_reaction_time:\n",
    "            for j in elongation_transport_time:\n",
    "                if(elongation_reaction_time[i]+elongation_transport_time[j]==50*(k+1) and i%5==0):\n",
    "                    x[k].append(elongation_reaction_time[i])\n",
    "                    y[k].append(elongation_transport_time[j])\n",
    "        ax1.scatter(x[k],y[k],marker='.',color='black',alpha='0.6',s=10)\n",
    "    \n",
    "    ###############\n",
    "    \n",
    "    ax2.set_title(\"Influence of total transport vs. reaction time in\\n overall elongation rate at different ribosome abundances\")\n",
    "    ax2.scatter(total_rxn,total_transport,color=colors,s=60)\n",
    "    ax2.set_xlim(0,1)\n",
    "    ax2.set_ylim(0,1)\n",
    "    ax2.set_xlabel(\"Fraction of total time spent by cognate tRNA in a reaction\")\n",
    "    ax2.set_ylabel(\"Fraction of total time spent by cognate tRNA freely diffusing\")"
   ]
  },
  {
   "cell_type": "code",
   "execution_count": 98,
   "metadata": {
    "collapsed": true
   },
   "outputs": [
    {
     "name": "stdout",
     "output_type": "stream",
     "text": [
      "(15814, 9)\n",
      "1000\n",
      "1050\n",
      "1100\n",
      "1150\n",
      "1200\n",
      "1250\n",
      "1350\n",
      "1400\n",
      "1450\n",
      "1500\n",
      "1550\n",
      "1600\n",
      "1650\n",
      "1700\n",
      "1750\n",
      "1900\n",
      "2000\n",
      "2050\n",
      "2100\n",
      "2150\n",
      "2200\n",
      "2250\n",
      "2312\n"
     ]
    },
    {
     "data": {
      "text/plain": [
       "2312"
      ]
     },
     "execution_count": 98,
     "metadata": {},
     "output_type": "execute_result"
    }
   ],
   "source": [
    "path = \"/Users/Akshay/Dropbox/Life/EndyLab/Research/TranslationDynamics/data/180912_1607/expt-10-Reactions-20180912.csv\"\n",
    "pathmolpos =\"/Users/Akshay/Dropbox/Life/EndyLab/Research/TranslationDynamics/data/180912_1607/expt-10-Molpos-20180912.csv\"\n",
    "ts=1e9\n",
    "totalRibosomeCollisions(path,pathmolpos,ts)\n",
    "\n",
    "#For expt-0-Reactions-20180907.csv and moleculespos\n",
    "#168 collisions for 1e-8 s threshold before repeat reaction before repeat collision allowed\n",
    "#69 collisions for 1e-7 s threshold before repeat collision allowed\n",
    "#114 collisions for 1e-8 threshold or 5nm space threhsold (and only checking reacA space)\n",
    "#116 collisions for 1e-8 threshold or 5nm space threhsold (and checking either reacA & reacB space)\n",
    "    #----the two extras are from a two crowder collision, not a ribosome crowder collision, as expected\n",
    "#187 collisions for 1e-9 threshold or 5nm space threhsold (and checking either reacA & reacB space)"
   ]
  },
  {
   "cell_type": "markdown",
   "metadata": {},
   "source": [
    "This section\n"
   ]
  },
  {
   "cell_type": "code",
   "execution_count": 116,
   "metadata": {
    "collapsed": false
   },
   "outputs": [
    {
     "ename": "FileNotFoundError",
     "evalue": "File b'/Users/Akshay/Dropbox/Life/EndyLab/Research/TranslationDynamics/data/moleculespos.csv' does not exist",
     "output_type": "error",
     "traceback": [
      "\u001b[0;31m--------------------------------------------------------------------------\u001b[0m",
      "\u001b[0;31mFileNotFoundError\u001b[0m                        Traceback (most recent call last)",
      "\u001b[0;32m<ipython-input-116-548b6ed2c616>\u001b[0m in \u001b[0;36m<module>\u001b[0;34m()\u001b[0m\n\u001b[1;32m      1\u001b[0m \u001b[0mts\u001b[0m \u001b[0;34m=\u001b[0m \u001b[0;36m1e10\u001b[0m\u001b[0;34m\u001b[0m\u001b[0m\n\u001b[1;32m      2\u001b[0m \u001b[0mpath\u001b[0m\u001b[0;34m=\u001b[0m\u001b[0;34m\"/Users/Akshay/Dropbox/Life/EndyLab/Research/TranslationDynamics/data/moleculespos.csv\"\u001b[0m\u001b[0;34m\u001b[0m\u001b[0m\n\u001b[0;32m----> 3\u001b[0;31m \u001b[0mdf_molpos\u001b[0m \u001b[0;34m=\u001b[0m \u001b[0mpandas\u001b[0m\u001b[0;34m.\u001b[0m\u001b[0mread_csv\u001b[0m\u001b[0;34m(\u001b[0m\u001b[0mpath\u001b[0m\u001b[0;34m,\u001b[0m\u001b[0mdelimiter\u001b[0m\u001b[0;34m=\u001b[0m\u001b[0;34m\" \"\u001b[0m\u001b[0;34m,\u001b[0m\u001b[0mheader\u001b[0m\u001b[0;34m=\u001b[0m\u001b[0;32mNone\u001b[0m\u001b[0;34m)\u001b[0m\u001b[0;34m\u001b[0m\u001b[0m\n\u001b[0m\u001b[1;32m      4\u001b[0m \u001b[0mdf_molpos\u001b[0m\u001b[0;34m.\u001b[0m\u001b[0mcolumns\u001b[0m\u001b[0;34m=\u001b[0m\u001b[0;34m[\u001b[0m\u001b[0;34m\"time\"\u001b[0m\u001b[0;34m,\u001b[0m\u001b[0;34m\"species\"\u001b[0m\u001b[0;34m,\u001b[0m \u001b[0;34m\"none\"\u001b[0m\u001b[0;34m,\u001b[0m\u001b[0;34m\"x\"\u001b[0m\u001b[0;34m,\u001b[0m\u001b[0;34m\"y\"\u001b[0m\u001b[0;34m,\u001b[0m\u001b[0;34m\"z\"\u001b[0m\u001b[0;34m,\u001b[0m\u001b[0;34m\"id\"\u001b[0m\u001b[0;34m]\u001b[0m\u001b[0;34m\u001b[0m\u001b[0m\n\u001b[1;32m      5\u001b[0m \u001b[0mdf_molpos\u001b[0m\u001b[0;34m[\u001b[0m\u001b[0;34m\"time\"\u001b[0m\u001b[0;34m]\u001b[0m \u001b[0;34m=\u001b[0m \u001b[0mdf_molpos\u001b[0m\u001b[0;34m[\u001b[0m\u001b[0;34m\"time\"\u001b[0m\u001b[0;34m]\u001b[0m\u001b[0;34m\u001b[0m\u001b[0m\n",
      "\u001b[0;32m~/anaconda3/lib/python3.6/site-packages/pandas/io/parsers.py\u001b[0m in \u001b[0;36mparser_f\u001b[0;34m(filepath_or_buffer, sep, delimiter, header, names, index_col, usecols, squeeze, prefix, mangle_dupe_cols, dtype, engine, converters, true_values, false_values, skipinitialspace, skiprows, nrows, na_values, keep_default_na, na_filter, verbose, skip_blank_lines, parse_dates, infer_datetime_format, keep_date_col, date_parser, dayfirst, iterator, chunksize, compression, thousands, decimal, lineterminator, quotechar, quoting, escapechar, comment, encoding, dialect, tupleize_cols, error_bad_lines, warn_bad_lines, skipfooter, doublequote, delim_whitespace, low_memory, memory_map, float_precision)\u001b[0m\n\u001b[1;32m    676\u001b[0m                     skip_blank_lines=skip_blank_lines)\n\u001b[1;32m    677\u001b[0m \u001b[0;34m\u001b[0m\u001b[0m\n\u001b[0;32m--> 678\u001b[0;31m         \u001b[0;32mreturn\u001b[0m \u001b[0m_read\u001b[0m\u001b[0;34m(\u001b[0m\u001b[0mfilepath_or_buffer\u001b[0m\u001b[0;34m,\u001b[0m \u001b[0mkwds\u001b[0m\u001b[0;34m)\u001b[0m\u001b[0;34m\u001b[0m\u001b[0m\n\u001b[0m\u001b[1;32m    679\u001b[0m \u001b[0;34m\u001b[0m\u001b[0m\n\u001b[1;32m    680\u001b[0m     \u001b[0mparser_f\u001b[0m\u001b[0;34m.\u001b[0m\u001b[0m__name__\u001b[0m \u001b[0;34m=\u001b[0m \u001b[0mname\u001b[0m\u001b[0;34m\u001b[0m\u001b[0m\n",
      "\u001b[0;32m~/anaconda3/lib/python3.6/site-packages/pandas/io/parsers.py\u001b[0m in \u001b[0;36m_read\u001b[0;34m(filepath_or_buffer, kwds)\u001b[0m\n\u001b[1;32m    438\u001b[0m \u001b[0;34m\u001b[0m\u001b[0m\n\u001b[1;32m    439\u001b[0m     \u001b[0;31m# Create the parser.\u001b[0m\u001b[0;34m\u001b[0m\u001b[0;34m\u001b[0m\u001b[0m\n\u001b[0;32m--> 440\u001b[0;31m     \u001b[0mparser\u001b[0m \u001b[0;34m=\u001b[0m \u001b[0mTextFileReader\u001b[0m\u001b[0;34m(\u001b[0m\u001b[0mfilepath_or_buffer\u001b[0m\u001b[0;34m,\u001b[0m \u001b[0;34m**\u001b[0m\u001b[0mkwds\u001b[0m\u001b[0;34m)\u001b[0m\u001b[0;34m\u001b[0m\u001b[0m\n\u001b[0m\u001b[1;32m    441\u001b[0m \u001b[0;34m\u001b[0m\u001b[0m\n\u001b[1;32m    442\u001b[0m     \u001b[0;32mif\u001b[0m \u001b[0mchunksize\u001b[0m \u001b[0;32mor\u001b[0m \u001b[0miterator\u001b[0m\u001b[0;34m:\u001b[0m\u001b[0;34m\u001b[0m\u001b[0m\n",
      "\u001b[0;32m~/anaconda3/lib/python3.6/site-packages/pandas/io/parsers.py\u001b[0m in \u001b[0;36m__init__\u001b[0;34m(self, f, engine, **kwds)\u001b[0m\n\u001b[1;32m    785\u001b[0m             \u001b[0mself\u001b[0m\u001b[0;34m.\u001b[0m\u001b[0moptions\u001b[0m\u001b[0;34m[\u001b[0m\u001b[0;34m'has_index_names'\u001b[0m\u001b[0;34m]\u001b[0m \u001b[0;34m=\u001b[0m \u001b[0mkwds\u001b[0m\u001b[0;34m[\u001b[0m\u001b[0;34m'has_index_names'\u001b[0m\u001b[0;34m]\u001b[0m\u001b[0;34m\u001b[0m\u001b[0m\n\u001b[1;32m    786\u001b[0m \u001b[0;34m\u001b[0m\u001b[0m\n\u001b[0;32m--> 787\u001b[0;31m         \u001b[0mself\u001b[0m\u001b[0;34m.\u001b[0m\u001b[0m_make_engine\u001b[0m\u001b[0;34m(\u001b[0m\u001b[0mself\u001b[0m\u001b[0;34m.\u001b[0m\u001b[0mengine\u001b[0m\u001b[0;34m)\u001b[0m\u001b[0;34m\u001b[0m\u001b[0m\n\u001b[0m\u001b[1;32m    788\u001b[0m \u001b[0;34m\u001b[0m\u001b[0m\n\u001b[1;32m    789\u001b[0m     \u001b[0;32mdef\u001b[0m \u001b[0mclose\u001b[0m\u001b[0;34m(\u001b[0m\u001b[0mself\u001b[0m\u001b[0;34m)\u001b[0m\u001b[0;34m:\u001b[0m\u001b[0;34m\u001b[0m\u001b[0m\n",
      "\u001b[0;32m~/anaconda3/lib/python3.6/site-packages/pandas/io/parsers.py\u001b[0m in \u001b[0;36m_make_engine\u001b[0;34m(self, engine)\u001b[0m\n\u001b[1;32m   1012\u001b[0m     \u001b[0;32mdef\u001b[0m \u001b[0m_make_engine\u001b[0m\u001b[0;34m(\u001b[0m\u001b[0mself\u001b[0m\u001b[0;34m,\u001b[0m \u001b[0mengine\u001b[0m\u001b[0;34m=\u001b[0m\u001b[0;34m'c'\u001b[0m\u001b[0;34m)\u001b[0m\u001b[0;34m:\u001b[0m\u001b[0;34m\u001b[0m\u001b[0m\n\u001b[1;32m   1013\u001b[0m         \u001b[0;32mif\u001b[0m \u001b[0mengine\u001b[0m \u001b[0;34m==\u001b[0m \u001b[0;34m'c'\u001b[0m\u001b[0;34m:\u001b[0m\u001b[0;34m\u001b[0m\u001b[0m\n\u001b[0;32m-> 1014\u001b[0;31m             \u001b[0mself\u001b[0m\u001b[0;34m.\u001b[0m\u001b[0m_engine\u001b[0m \u001b[0;34m=\u001b[0m \u001b[0mCParserWrapper\u001b[0m\u001b[0;34m(\u001b[0m\u001b[0mself\u001b[0m\u001b[0;34m.\u001b[0m\u001b[0mf\u001b[0m\u001b[0;34m,\u001b[0m \u001b[0;34m**\u001b[0m\u001b[0mself\u001b[0m\u001b[0;34m.\u001b[0m\u001b[0moptions\u001b[0m\u001b[0;34m)\u001b[0m\u001b[0;34m\u001b[0m\u001b[0m\n\u001b[0m\u001b[1;32m   1015\u001b[0m         \u001b[0;32melse\u001b[0m\u001b[0;34m:\u001b[0m\u001b[0;34m\u001b[0m\u001b[0m\n\u001b[1;32m   1016\u001b[0m             \u001b[0;32mif\u001b[0m \u001b[0mengine\u001b[0m \u001b[0;34m==\u001b[0m \u001b[0;34m'python'\u001b[0m\u001b[0;34m:\u001b[0m\u001b[0;34m\u001b[0m\u001b[0m\n",
      "\u001b[0;32m~/anaconda3/lib/python3.6/site-packages/pandas/io/parsers.py\u001b[0m in \u001b[0;36m__init__\u001b[0;34m(self, src, **kwds)\u001b[0m\n\u001b[1;32m   1706\u001b[0m         \u001b[0mkwds\u001b[0m\u001b[0;34m[\u001b[0m\u001b[0;34m'usecols'\u001b[0m\u001b[0;34m]\u001b[0m \u001b[0;34m=\u001b[0m \u001b[0mself\u001b[0m\u001b[0;34m.\u001b[0m\u001b[0musecols\u001b[0m\u001b[0;34m\u001b[0m\u001b[0m\n\u001b[1;32m   1707\u001b[0m \u001b[0;34m\u001b[0m\u001b[0m\n\u001b[0;32m-> 1708\u001b[0;31m         \u001b[0mself\u001b[0m\u001b[0;34m.\u001b[0m\u001b[0m_reader\u001b[0m \u001b[0;34m=\u001b[0m \u001b[0mparsers\u001b[0m\u001b[0;34m.\u001b[0m\u001b[0mTextReader\u001b[0m\u001b[0;34m(\u001b[0m\u001b[0msrc\u001b[0m\u001b[0;34m,\u001b[0m \u001b[0;34m**\u001b[0m\u001b[0mkwds\u001b[0m\u001b[0;34m)\u001b[0m\u001b[0;34m\u001b[0m\u001b[0m\n\u001b[0m\u001b[1;32m   1709\u001b[0m \u001b[0;34m\u001b[0m\u001b[0m\n\u001b[1;32m   1710\u001b[0m         \u001b[0mpassed_names\u001b[0m \u001b[0;34m=\u001b[0m \u001b[0mself\u001b[0m\u001b[0;34m.\u001b[0m\u001b[0mnames\u001b[0m \u001b[0;32mis\u001b[0m \u001b[0;32mNone\u001b[0m\u001b[0;34m\u001b[0m\u001b[0m\n",
      "\u001b[0;32mpandas/_libs/parsers.pyx\u001b[0m in \u001b[0;36mpandas._libs.parsers.TextReader.__cinit__\u001b[0;34m()\u001b[0m\n",
      "\u001b[0;32mpandas/_libs/parsers.pyx\u001b[0m in \u001b[0;36mpandas._libs.parsers.TextReader._setup_parser_source\u001b[0;34m()\u001b[0m\n",
      "\u001b[0;31mFileNotFoundError\u001b[0m: File b'/Users/Akshay/Dropbox/Life/EndyLab/Research/TranslationDynamics/data/moleculespos.csv' does not exist"
     ]
    }
   ],
   "source": [
    "ts = 1e10\n",
    "path=\"/Users/Akshay/Dropbox/Life/EndyLab/Research/TranslationDynamics/data/moleculespos.csv\"\n",
    "df_molpos = pandas.read_csv(path,delimiter=\" \",header=None)\n",
    "df_molpos.columns=[\"time\",\"species\", \"none\",\"x\",\"y\",\"z\",\"id\"]\n",
    "df_molpos[\"time\"] = df_molpos[\"time\"]\n",
    "print(df_molpos)\n",
    "a={}\n",
    "a[\"test\"]=df_molpos.loc[(df_molpos['id']==1) & (df_molpos['time'] == int(9.289030000000001e-05*ts))][['x','y','z']].values[0]\n",
    "a[\"test1\"]=df_molpos.loc[(df_molpos['id']==1) & (df_molpos['time'] == int(9.989030000000001e-05*ts))][['x','y','z']].values[0]\n",
    "\n",
    "print(a[\"test\"])\n",
    "print(a[\"test1\"])\n",
    "print(np.linalg.norm(a[\"test\"]-a[\"test1\"]))"
   ]
  },
  {
   "cell_type": "code",
   "execution_count": 63,
   "metadata": {
    "collapsed": false
   },
   "outputs": [
    {
     "name": "stdout",
     "output_type": "stream",
     "text": [
      "           time  species  none         x         y         z  id\n",
      "1787175  595726        4     0  0.003334  0.019397  0.044897   1\n",
      "1787176  595726        4     0  0.003578  0.017425  0.049841   2\n",
      "1787177  595726        5     0  0.063594  0.003585  0.003793   3\n",
      "1787178  595727        4     0  0.003450  0.019050  0.044755   1\n",
      "1787179  595727        4     0  0.003296  0.017264  0.049972   2\n",
      "1787180  595727        5     0  0.063594  0.003585  0.003793   3\n",
      "1787181  595728        4     0  0.003572  0.018971  0.044953   1\n",
      "1787182  595728        4     0  0.003395  0.017419  0.049751   2\n",
      "1787183  595728        5     0  0.063594  0.003585  0.003793   3\n",
      "1787184  595729        4     0  0.003640  0.018924  0.044809   1\n",
      "1787185  595729        4     0  0.003335  0.017187  0.049494   2\n",
      "1787186  595729        5     0  0.063594  0.003585  0.003793   3\n",
      "1787187  595730        4     0  0.003696  0.018742  0.044482   1\n",
      "1787188  595730        4     0  0.003029  0.017406  0.049451   2\n",
      "1787189  595730        5     0  0.063594  0.003585  0.003793   3\n",
      "1787190  595731        4     0  0.003816  0.018829  0.044626   1\n",
      "1787191  595731        4     0  0.002868  0.017043  0.049564   2\n",
      "1787192  595731        5     0  0.063594  0.003585  0.003793   3\n",
      "1787193  595732        4     0  0.004014  0.018552  0.044497   1\n",
      "1787194  595732        4     0  0.003056  0.017258  0.049327   2\n",
      "1787195  595732        5     0  0.063594  0.003585  0.003793   3\n",
      "1787196  595733        4     0  0.004096  0.018437  0.044465   1\n",
      "1787197  595733        4     0  0.003237  0.017401  0.049290   2\n",
      "1787198  595733        5     0  0.063594  0.003585  0.003793   3\n",
      "1787199  595734        4     0  0.003712  0.018454  0.044256   1\n",
      "1787200  595734        4     0  0.003103  0.017110  0.049267   2\n",
      "1787201  595734        5     0  0.063594  0.003585  0.003793   3\n",
      "1787202  595735        4     0  0.003721  0.018472  0.044190   1\n",
      "1787203  595735        4     0  0.003045  0.017228  0.049010   2\n",
      "1787204  595735        5     0  0.063594  0.003585  0.003793   3\n",
      "1787205  595736        4     0  0.003573  0.018474  0.044052   1\n",
      "1787206  595736        4     0  0.003033  0.017330  0.049170   2\n",
      "1787207  595736        5     0  0.063594  0.003585  0.003793   3\n",
      "1787208  595737        4     0  0.003584  0.018267  0.044036   1\n",
      "1787209  595737        4     0  0.002964  0.017239  0.048994   2\n",
      "1787210  595737        5     0  0.063594  0.003585  0.003793   3\n",
      "1787211  595738        4     0  0.003656  0.018333  0.044220   1\n",
      "1787212  595738        4     0  0.002846  0.017228  0.049504   2\n",
      "1787213  595738        5     0  0.063594  0.003585  0.003793   3\n",
      "1787214  595739        4     0  0.003644  0.018471  0.044025   1\n",
      "1787215  595739        4     0  0.002597  0.017268  0.049564   2\n",
      "1787216  595739        5     0  0.063594  0.003585  0.003793   3\n",
      "1787217  595740        4     0  0.003488  0.018680  0.044262   1\n",
      "1787218  595740        4     0  0.002861  0.017457  0.049416   2\n",
      "1787219  595740        5     0  0.063594  0.003585  0.003793   3\n",
      "1787220  595741        4     0  0.003320  0.018776  0.044262   1\n",
      "1787221  595741        4     0  0.002980  0.017322  0.049369   2\n",
      "1787222  595741        5     0  0.063594  0.003585  0.003793   3\n",
      "1787223  595742        4     0  0.003407  0.018647  0.043941   1\n",
      "1787224  595742        4     0  0.002859  0.017270  0.049254   2\n",
      "1787225  595742        5     0  0.063594  0.003585  0.003793   3\n",
      "1787226  595743        4     0  0.003413  0.018525  0.043991   1\n",
      "1787227  595743        4     0  0.002713  0.017158  0.049233   2\n",
      "1787228  595743        5     0  0.063594  0.003585  0.003793   3\n",
      "1787229  595744        4     0  0.003571  0.018432  0.044055   1\n",
      "1787230  595744        4     0  0.002579  0.017178  0.049097   2\n",
      "1787231  595744        5     0  0.063594  0.003585  0.003793   3\n",
      "1787232  595745        4     0  0.003500  0.018546  0.044169   1\n",
      "1787233  595745        4     0  0.002622  0.017437  0.049333   2\n",
      "1787234  595745        5     0  0.063594  0.003585  0.003793   3\n",
      "1787235  595746        4     0  0.003669  0.018127  0.044227   1\n",
      "1787236  595746        4     0  0.002629  0.017461  0.049407   2\n",
      "1787237  595746        5     0  0.063594  0.003585  0.003793   3\n",
      "1787238  595747        4     0  0.003574  0.018033  0.044213   1\n",
      "1787239  595747        4     0  0.002670  0.017220  0.049439   2\n",
      "1787240  595747        5     0  0.063594  0.003585  0.003793   3\n",
      "1787241  595748        4     0  0.003520  0.018279  0.044085   1\n",
      "1787242  595748        4     0  0.002483  0.017324  0.049172   2\n",
      "1787243  595748        5     0  0.063594  0.003585  0.003793   3\n",
      "1787244  595749        4     0  0.003608  0.018382  0.043905   1\n",
      "1787245  595749        4     0  0.002229  0.017263  0.049200   2\n",
      "1787246  595749        5     0  0.063594  0.003585  0.003793   3\n",
      "1787247  595750        4     0  0.003629  0.018459  0.043803   1\n",
      "1787248  595750        4     0  0.002327  0.017418  0.049195   2\n",
      "1787249  595750        5     0  0.063594  0.003585  0.003793   3\n",
      "1787250  595751        4     0  0.003437  0.018198  0.044065   1\n",
      "1787251  595751        4     0  0.002448  0.017501  0.049277   2\n",
      "1787252  595751        5     0  0.063594  0.003585  0.003793   3\n",
      "1787253  595752        4     0  0.003353  0.018079  0.044294   1\n",
      "1787254  595752        4     0  0.002548  0.017528  0.049287   2\n",
      "1787255  595752        5     0  0.063594  0.003585  0.003793   3\n",
      "1787256  595753        4     0  0.003203  0.018006  0.044153   1\n",
      "1787257  595753        4     0  0.002717  0.017256  0.049369   2\n",
      "1787258  595753        5     0  0.063594  0.003585  0.003793   3\n",
      "1787259  595754        4     0  0.003327  0.018052  0.044104   1\n",
      "1787260  595754        4     0  0.002750  0.016967  0.049521   2\n",
      "1787261  595754        5     0  0.063594  0.003585  0.003793   3\n",
      "1787262  595755        4     0  0.003060  0.018245  0.044389   1\n",
      "1787263  595755        4     0  0.002914  0.016936  0.049537   2\n",
      "1787264  595755        5     0  0.063594  0.003585  0.003793   3\n",
      "1787265  595756        4     0  0.003264  0.018555  0.044480   1\n",
      "1787266  595756        4     0  0.003063  0.017046  0.049389   2\n",
      "1787267  595756        5     0  0.063594  0.003585  0.003793   3\n",
      "1787268  595757        4     0  0.003337  0.018821  0.044562   1\n",
      "1787269  595757        4     0  0.003009  0.017089  0.049309   2\n",
      "1787270  595757        5     0  0.063594  0.003585  0.003793   3\n",
      "1787271  595758        4     0  0.003250  0.018825  0.044417   1\n",
      "1787272  595758        4     0  0.002934  0.017196  0.049428   2\n",
      "1787273  595758        5     0  0.063594  0.003585  0.003793   3\n",
      "1787274  595759        4     0  0.003385  0.018869  0.044232   1\n",
      "1787275  595759        4     0  0.002885  0.017285  0.049422   2\n",
      "1787276  595759        5     0  0.063594  0.003585  0.003793   3\n",
      "1787277  595760        4     0  0.003362  0.019008  0.044298   1\n",
      "1787278  595760        4     0  0.002388  0.016998  0.049189   2\n",
      "1787279  595760        5     0  0.063594  0.003585  0.003793   3\n",
      "1787280  595761        4     0  0.003203  0.019126  0.044601   1\n",
      "1787281  595761        4     0  0.002534  0.016719  0.049319   2\n",
      "1787282  595761        5     0  0.063594  0.003585  0.003793   3\n",
      "1787283  595762        4     0  0.003232  0.019019  0.044600   1\n",
      "1787284  595762        4     0  0.002676  0.016757  0.049515   2\n",
      "1787285  595762        5     0  0.063594  0.003585  0.003793   3\n",
      "1787286  595763        4     0  0.003052  0.018892  0.044934   1\n",
      "1787287  595763        4     0  0.002525  0.016908  0.049579   2\n",
      "1787288  595763        5     0  0.063594  0.003585  0.003793   3\n",
      "1787289  595764        4     0  0.003116  0.018778  0.044811   1\n",
      "1787290  595764        4     0  0.002700  0.016915  0.049649   2\n",
      "1787291  595764        5     0  0.063594  0.003585  0.003793   3\n",
      "1787292  595765        4     0  0.003256  0.018695  0.044910   1\n",
      "1787293  595765        4     0  0.002737  0.016808  0.049910   2\n",
      "1787294  595765        5     0  0.063594  0.003585  0.003793   3\n",
      "1787295  595766        4     0  0.003127  0.018618  0.045003   1\n",
      "1787296  595766        4     0  0.002890  0.016946  0.049944   2\n",
      "1787297  595766        5     0  0.063594  0.003585  0.003793   3\n",
      "1787298  595767        4     0  0.003086  0.018708  0.044834   1\n",
      "1787299  595767        4     0  0.002887  0.016782  0.050109   2\n",
      "1787300  595767        5     0  0.063594  0.003585  0.003793   3\n",
      "1787301  595768        4     0  0.003227  0.018589  0.044803   1\n",
      "1787302  595768        4     0  0.002567  0.016673  0.050163   2\n",
      "1787303  595768        5     0  0.063594  0.003585  0.003793   3\n",
      "1787304  595769        4     0  0.002837  0.018417  0.045077   1\n",
      "1787305  595769        4     0  0.002400  0.016562  0.050099   2\n",
      "1787306  595769        5     0  0.063594  0.003585  0.003793   3\n",
      "1787307  595770        4     0  0.002667  0.018365  0.044927   1\n",
      "1787308  595770        4     0  0.002308  0.016872  0.050346   2\n",
      "1787309  595770        5     0  0.063594  0.003585  0.003793   3\n",
      "1787310  595771        4     0  0.002816  0.018409  0.044636   1\n",
      "1787311  595771        4     0  0.002042  0.016872  0.050412   2\n",
      "1787312  595771        5     0  0.063594  0.003585  0.003793   3\n",
      "1787313  595772        4     0  0.002911  0.018531  0.044728   1\n",
      "1787314  595772        4     0  0.002160  0.016724  0.050148   2\n",
      "1787315  595772        5     0  0.063594  0.003585  0.003793   3\n",
      "1787316  595773        4     0  0.002620  0.018873  0.044724   1\n",
      "1787317  595773        4     0  0.002414  0.016662  0.050146   2\n",
      "1787318  595773        5     0  0.063594  0.003585  0.003793   3\n",
      "1787319  595774        4     0  0.002522  0.019199  0.044912   1\n",
      "1787320  595774        4     0  0.002684  0.016592  0.049981   2\n",
      "1787321  595774        5     0  0.063594  0.003585  0.003793   3\n",
      "1787322  595775        4     0  0.002492  0.019429  0.044758   1\n",
      "1787323  595775        4     0  0.002990  0.016453  0.050197   2\n",
      "1787324  595775        5     0  0.063594  0.003585  0.003793   3\n",
      "1787325  595776        4     0  0.002483  0.019376  0.045062   1\n",
      "1787326  595776        4     0  0.003106  0.016337  0.050413   2\n",
      "1787327  595776        5     0  0.063594  0.003585  0.003793   3\n",
      "1787328  595777        4     0  0.002477  0.019450  0.045202   1\n",
      "1787329  595777        4     0  0.003125  0.016309  0.050418   2\n",
      "1787330  595777        5     0  0.063594  0.003585  0.003793   3\n",
      "1787331  595778        4     0  0.002588  0.019629  0.045335   1\n",
      "1787332  595778        4     0  0.003233  0.016407  0.050482   2\n",
      "1787333  595778        5     0  0.063594  0.003585  0.003793   3\n",
      "1787334  595779        4     0  0.002559  0.019743  0.045285   1\n",
      "1787335  595779        4     0  0.003392  0.016549  0.050531   2\n",
      "1787336  595779        5     0  0.063594  0.003585  0.003793   3\n"
     ]
    }
   ],
   "source": [
    "with pandas.option_context('display.max_rows', None, 'display.max_columns', None):\n",
    "    print(df_molpos.loc[(df_molpos['time']>595725)&(df_molpos['time']<595780)])"
   ]
  },
  {
   "cell_type": "code",
   "execution_count": 108,
   "metadata": {
    "collapsed": false
   },
   "outputs": [
    {
     "data": {
      "text/plain": [
       "0.015630794580266866"
      ]
     },
     "execution_count": 108,
     "metadata": {},
     "output_type": "execute_result"
    }
   ],
   "source": [
    "1743"
   ]
  },
  {
   "cell_type": "code",
   "execution_count": null,
   "metadata": {
    "collapsed": false
   },
   "outputs": [],
   "source": [
    "68370 4 0 0.0550995 0.04039 0.00765291 1\n",
    "68370 4 0 0.0577785 0.0631067 0.0569662 2\n",
    "68370 5 0 0.0635936 0.00358526 0.00379349 3\n",
    "6.837e-06 rxn3_0 0.0635936 0.00358526 0.00379349 2 3 2 3\n",
    "\n",
    "1.75139e-05 rxn3_0 0.0635936 0.00358526 0.00379349 2 3 2 3\n",
    "175139 4 0 0.00728864 0.0598355 0.0117445 2\n",
    "175139 4 0 0.0447228 0.0114942 0.0160601 1\n",
    "175139 5 0 0.0635936 0.00358526 0.00379349 3\n"
   ]
  },
  {
   "cell_type": "code",
   "execution_count": null,
   "metadata": {
    "collapsed": false
   },
   "outputs": [],
   "source": [
    "#Store last locations of both pairs of collision reactants + time of reaction\n",
    "#When same pair collision happens access that point of the table, check to make sure that\n",
    "#the last collision happened at least a nanosecond before OR distance of rxn is at least a nm away.\n",
    "\n",
    "#Or, more simply, only count a collision if it happens after a nanosecond\n",
    "\n",
    "#These should give the same solutions at 1e-9, 1e-10,1e-11 timescales."
   ]
  },
  {
   "cell_type": "code",
   "execution_count": 70,
   "metadata": {
    "collapsed": false
   },
   "outputs": [
    {
     "data": {
      "text/plain": [
       "3323"
      ]
     },
     "execution_count": 70,
     "metadata": {},
     "output_type": "execute_result"
    }
   ],
   "source": [
    "1787187  595730        4     0  0.003696  0.018742  0.044482   1\n",
    "1787188  595730        4     0  0.003029  0.017406  0.049451   2\n",
    "\n",
    "1787190  595731        4     0  0.003816  0.018829  0.044626   1\n",
    "1787191  595731        4     0  0.002868  0.017043  0.049564   2\n",
    "\n",
    "1787193  595732        4     0  0.004014  0.018552  0.044497   1\n",
    "1787194  595732        4     0  0.003056  0.017258  0.049327   2"
   ]
  },
  {
   "cell_type": "code",
   "execution_count": 81,
   "metadata": {
    "collapsed": false
   },
   "outputs": [
    {
     "name": "stdout",
     "output_type": "stream",
     "text": [
      "0.0051885205984 0.00533594827561 0.0050912768536\n"
     ]
    }
   ],
   "source": [
    "print(np.linalg.norm([0.003696-0.003029, 0.018742-0.017406,0.044482 -0.049451 ])\n",
    ",np.linalg.norm([0.003816- 0.002868,0.018829-0.017043 ,0.044626- 0.049564 ]),\n",
    "np.linalg.norm([0.004014-0.003056,0.018552-0.017258, 0.044497-0.049327 ])\n",
    "     \n",
    "     \n",
    "     )"
   ]
  },
  {
   "cell_type": "code",
   "execution_count": null,
   "metadata": {
    "collapsed": false
   },
   "outputs": [],
   "source": [
    "136695 4 0 0.0424045 0.0213633 0.0387385 2\n",
    "136695 4 0 0.0497752 0.00486952 0.0107239 1\n",
    "136695 5 0 0.0635936 0.00358526 0.00379349 3\n",
    "1.36695e-05 rxn3_0 0.0635936 0.00358526 0.00379349 1 3 1 3\n",
    "1.36724e-05 rxn3_0 0.0635936 0.00358526 0.00379349 1 3 1 3\n",
    "136724 4 0 0.0419642 0.0220367 0.0390301 2\n",
    "136724 4 0 0.0500837 0.00479868 0.0116584 1\n",
    "136724 5 0 0.0635936 0.00358526 0.00379349 3"
   ]
  },
  {
   "cell_type": "code",
   "execution_count": null,
   "metadata": {
    "collapsed": true
   },
   "outputs": [],
   "source": []
  },
  {
   "cell_type": "code",
   "execution_count": null,
   "metadata": {
    "collapsed": false
   },
   "outputs": [],
   "source": [
    "99413 4 0 0.0470996 0.0238444 0.0468708 2\n",
    "99413 4 0 0.0640723 0.00216209 0.0193155 1\n",
    "99413 5 0 0.0635936 0.00358526 0.00379349 3\n",
    "\n",
    "9.9413e-06 rxn3_0 0.0635936 0.00358526 0.00379349 1 3 1 3\n",
    "1.35888e-05 rxn3_0 0.0635936 0.00358526 0.00379349 1 3 1 3\n",
    "\n",
    "135888 4 0 0.0401124 0.022017 0.0396005 2\n",
    "135888 4 0 0.0541059 0.00821112 0.0152551 1\n",
    "135888 5 0 0.0635936 0.00358526 0.00379349 3"
   ]
  },
  {
   "cell_type": "code",
   "execution_count": null,
   "metadata": {
    "collapsed": false
   },
   "outputs": [],
   "source": []
  },
  {
   "cell_type": "code",
   "execution_count": null,
   "metadata": {
    "collapsed": true
   },
   "outputs": [],
   "source": []
  },
  {
   "cell_type": "code",
   "execution_count": null,
   "metadata": {
    "collapsed": false
   },
   "outputs": [],
   "source": []
  },
  {
   "cell_type": "code",
   "execution_count": null,
   "metadata": {
    "collapsed": false
   },
   "outputs": [],
   "source": []
  },
  {
   "cell_type": "code",
   "execution_count": null,
   "metadata": {
    "collapsed": false
   },
   "outputs": [],
   "source": []
  },
  {
   "cell_type": "code",
   "execution_count": null,
   "metadata": {
    "collapsed": false
   },
   "outputs": [],
   "source": [
    "#####Previous Analysis code#######"
   ]
  },
  {
   "cell_type": "code",
   "execution_count": 386,
   "metadata": {
    "collapsed": false
   },
   "outputs": [
    {
     "name": "stdout",
     "output_type": "stream",
     "text": [
      "0.0289422\n"
     ]
    },
    {
     "data": {
      "image/png": "[encoded data removed]",
      "text/plain": [
       "<matplotlib.figure.Figure at 0x1104e6080>"
      ]
     },
     "metadata": {},
     "output_type": "display_data"
    }
   ],
   "source": [
    "df = pandas.read_csv(\"/Users/Akshay/Dropbox/Life/EndyLab/Research/TranslationDynamics/data/expt-4-Reactions-20180906.csv\",sep=\" \",header=None)\n",
    "df.columns=[\"time\",\"rxn\",\"x\",\"y\",\"z\",\"reactantA\",\"productA\"]\n",
    "t = list()\n",
    "t1=list()\n",
    "for i,row in df.iterrows():\n",
    "    if(row[\"rxn\"]=='rxn15'):\n",
    "        t.append(row[\"time\"])\n",
    "plt.hist(t)\n",
    "print(np.average(t))"
   ]
  },
  {
   "cell_type": "code",
   "execution_count": null,
   "metadata": {
    "collapsed": false
   },
   "outputs": [],
   "source": []
  },
  {
   "cell_type": "code",
   "execution_count": null,
   "metadata": {
    "collapsed": false
   },
   "outputs": [],
   "source": []
  },
  {
   "cell_type": "code",
   "execution_count": null,
   "metadata": {
    "collapsed": false
   },
   "outputs": [],
   "source": []
  },
  {
   "cell_type": "code",
   "execution_count": 13,
   "metadata": {
    "collapsed": false
   },
   "outputs": [],
   "source": [
    "def totalRibosomeCollisions(tRNAid,ribosomeIDList):\n",
    "    df = df.sort_values(by=['reactantA'])\n",
    "    rib=np.zeros(len(ribosomeIDs))\n",
    "    timeavg=np.zeros(len(ribosomeIDs))\n",
    "    for index, row in df.iterrows():\n",
    "        if row[\"reactantA\"] != tRNAid:\n",
    "            print(row[\"reactantA\"])\n",
    "            break\n",
    "        for index, ribosomeID in ribosomeIDList:\n",
    "            if row[\"reactantB\"]==ribosomeID:\n",
    "                rib[index]+=1\n",
    "                timeavg[index]+=row[\"time\"]\n",
    "    timeavg=np.array(timeavg)/np.array(rib)\n",
    "    return rib, timeavg"
   ]
  },
  {
   "cell_type": "code",
   "execution_count": null,
   "metadata": {
    "collapsed": true
   },
   "outputs": [],
   "source": []
  },
  {
   "cell_type": "code",
   "execution_count": 3,
   "metadata": {
    "collapsed": false
   },
   "outputs": [
    {
     "data": {
      "text/plain": [
       "10"
      ]
     },
     "execution_count": 3,
     "metadata": {},
     "output_type": "execute_result"
    }
   ],
   "source": [
    " if row[\"reactantB\"]==49: \n",
    "                rib[1]+=1\n",
    "                timeavg[1]+=row[\"time\"]\n",
    "            if row[\"reactantB\"]==50:\n",
    "                rib[2]+=1\n",
    "                timeavg[2]+=row[\"time\"]\n",
    "            if row[\"reactantB\"]==51:\n",
    "                rib[3]+=1\n",
    "                timeavg[3]+=row[\"time\"]\n",
    "            if row[\"reactantB\"]==52:\n",
    "                rib[4]+=1\n",
    "                timeavg[4]+=row[\"time\"]\n",
    "            if row[\"reactantB\"]==53:\n",
    "                rib[5]+=1\n",
    "                timeavg[5]+=row[\"time\"]\n",
    "            if row[\"reactantB\"]==54:\n",
    "                rib[6]+=1\n",
    "                timeavg[6]+=row[\"time\"]"
   ]
  },
  {
   "cell_type": "code",
   "execution_count": 122,
   "metadata": {
    "collapsed": false
   },
   "outputs": [
    {
     "name": "stdout",
     "output_type": "stream",
     "text": [
      "4985\n",
      "224078\n",
      "[[518, 0, 0, 0, 0, 0, 0, 0, 0, 41, 0, 0, 0, 0, 0, 0, 8, 0, 0, 0, 0, 0, 312, 0, 0, 0, 0, 0, 0, 0, 0, 12, 3, 0, 0, 0, 0, 0, 0, 1, 0, 0, 0, 1, 0, 0, 0, 0, 0, 0, 0, 0, 0, 0, 0, 0, 1, 12, 213, 9, 0, 0, 0, 0, 0, 0, 0, 0, 0, 0, 0, 0, 0, 0, 0, 0, 0, 0, 0, 0, 0, 0, 37, 0, 0, 0, 0, 0, 0, 0, 0, 117, 0, 0, 0, 0, 0, 0, 0, 7, 60, 0, 0, 0, 0, 0, 0, 0, 0, 0, 0, 70, 0, 37, 0, 0, 0, 849, 52, 0, 0, 416, 0, 0, 0, 0, 0, 0, 0, 0, 0, 0, 0, 0, 0, 574, 254, 0, 0, 226, 0, 0, 151, 0, 0, 0, 0, 197, 0, 0, 0, 0, 5, 0, 89, 0, 0, 0, 0, 0, 3, 0, 0, 82, 5, 0, 0, 343, 0, 0, 0, 0, 0, 0, 46, 0, 0, 732, 314, 0, 0, 0, 0, 6, 0, 1, 0, 0, 0, 0, 0, 23, 0, 105, 0, 0, 0, 0, 0, 0, 2, 0, 3, 0, 254, 0, 0, 440, 0, 1080, 0, 23, 147, 0, 0, 415, 0, 0, 0, 548, 0, 0, 0, 0, 0, 0, 0, 0, 0, 0, 0, 1, 0, 0, 0, 0, 667, 0, 0, 0, 59, 0, 126, 318, 0, 0, 0, 504, 0, 0, 0, 13, 107, 0, 0, 0, 0, 0, 58, 0, 0, 0, 0, 0, 0, 0, 38, 0, 0, 221, 0, 0, 0, 0, 0, 0, 173, 287, 0, 0, 0, 0, 0, 0, 0, 0, 0, 168, 0, 0, 0, 0, 572, 0, 175, 0, 0, 0, 0, 24, 0, 0, 0, 0, 0, 0, 0, 0, 0, 0, 0, 0, 0, 0, 0, 0, 0, 0, 0, 0, 0, 0, 0, 0, 0, 0, 54, 1, 0, 0, 0, 0, 0, 0, 866, 0, 0, 0, 0, 0, 0, 0, 0, 0, 4, 0, 127, 0, 0, 0, 0, 0, 0, 0, 0, 0, 0, 0, 0, 0, 917, 0, 0, 0, 133, 1194, 0, 0, 0, 0, 0, 9, 0, 0, 0, 0, 0, 0, 0, 0, 0, 0, 19, 0, 0, 55, 0, 0, 0, 290, 0, 0, 0, 0, 0, 0, 0, 0, 0, 0, 0, 0, 1, 77, 0, 0, 0, 0, 0, 0, 0, 16, 0, 978, 152, 0, 0, 0, 0, 0, 0, 0, 0, 0, 8, 0, 26, 0, 0, 0, 6, 0, 0, 0, 0, 1, 0, 0, 0, 0, 0, 0, 0, 0, 0, 0, 0, 227, 0, 0, 141, 0, 0, 0, 184, 0, 1178, 0, 0, 0, 0, 0, 873, 0, 0, 53, 0, 221, 0, 0, 214, 0, 0, 0, 0, 0, 0, 0, 0, 4, 188, 0, 0, 0, 0, 0, 78, 0, 0, 0, 667, 16, 0, 0, 0, 0, 0, 0, 0, 0, 46, 330, 0, 0, 270, 0, 0, 657, 89, 1, 0, 0, 0, 20, 0, 0, 38, 0, 0, 0, 0, 0, 0, 0, 2, 0, 0, 0, 0, 0, 0, 545, 0, 0, 0, 0, 0, 0, 0, 0, 208, 54, 0, 0, 0, 2, 0, 141, 0, 14, 0, 0, 0, 2, 0, 0, 0, 0, 0, 0, 467, 0, 0, 0, 0, 13, 0, 0, 0, 0, 0, 0, 1, 0, 0, 77, 69, 0, 0, 0, 0, 0, 0, 0, 0, 0, 0, 102, 0, 0, 0, 1, 0, 0, 0, 0, 0, 0, 0, 0, 0, 410, 0, 516, 0, 10, 0, 0, 0, 0, 0, 0, 0, 0, 0, 719, 0, 0, 0, 0, 0, 0, 0, 214, 95, 0, 0, 0, 0, 0, 1, 0, 0, 0, 0, 0, 0, 0, 0, 0, 0, 0, 317, 0, 1, 68, 0, 0, 0, 0, 0, 0, 0, 0, 0, 0, 479, 0, 0, 0, 6, 0, 0, 0, 0, 0, 0, 0, 0, 0, 0, 483, 0, 0, 0, 0, 0, 0, 0, 0, 0, 0, 0, 0, 7, 0, 0, 0, 0, 0, 0, 173, 0, 7, 0, 0, 0, 0, 0, 0, 0, 899, 0, 0, 0, 0, 5, 0, 0, 0, 0, 0, 585, 1, 0, 3, 0, 280, 0, 0, 887, 0, 0, 0, 0, 0, 0, 0, 1, 0, 0, 0, 201, 0, 0, 0, 0, 0, 0, 0, 0, 0, 0, 462, 40, 851, 0, 0, 0, 0, 0, 62, 0, 0, 0, 0, 0, 0, 0, 0, 0, 0, 0, 0, 14, 1, 107, 0, 0, 0, 0, 1, 1, 0, 0, 0, 0, 0, 107, 0, 0, 0, 35, 0, 0, 0, 0, 0, 0, 1513, 0, 0, 0, 0, 0, 0, 0, 9, 0, 0, 0, 0, 526, 0, 0, 0, 333, 0, 89, 0, 0, 0, 0, 0, 0, 0, 0, 0, 0, 254, 0, 0, 0, 0, 0, 0, 0, 0, 0, 0, 0, 3, 0, 0, 0, 0, 0, 0, 0, 0, 0, 0, 0, 608, 0, 0, 4, 0, 0, 22, 0, 0, 1, 106, 0, 0, 0, 0, 0, 0, 46, 0, 0, 0, 0, 0, 0, 0, 0, 0, 0, 0, 0, 0, 66, 0, 77, 0, 444, 0, 0, 0, 0, 0, 0, 0, 604, 0, 0, 0, 0, 0, 0, 0, 0, 0, 0, 0, 0, 0, 0, 0, 0, 201, 0, 0, 2, 9, 0, 0, 0, 0, 0, 0, 0, 0, 0, 290, 0, 503, 0, 0, 0, 0, 0, 0, 0, 0, 0, 0, 1427, 0, 0, 0, 93, 2, 611, 0, 0, 1, 0, 1, 0, 0, 0, 0, 0, 0, 0, 0, 0, 0, 0, 0, 0, 0, 0, 0, 611, 0, 359, 0, 9, 0, 0, 870, 0, 0, 0, 0, 0, 0, 3, 0, 0, 1075, 0, 0, 0, 0, 37, 0, 0, 0, 452, 72, 0, 0, 0, 0, 0, 0, 241, 0, 3, 0, 0, 0, 0, 0, 0, 0, 0, 589, 0, 2, 0, 0, 0, 0, 346, 0, 0, 0, 0, 0, 87, 0, 0, 0, 0, 0, 0, 0, 0, 0, 558, 64, 77, 0, 582, 0, 0, 1106, 0, 0, 0, 0, 0, 0, 0, 0, 0, 0, 0, 0, 0, 0, 160, 0, 0, 0, 0, 0, 0, 0, 0, 0, 0, 0, 0, 0, 0, 0, 0, 0, 97, 0, 0, 0, 0, 0, 0, 0, 0, 0, 15, 0, 0, 0, 0, 10, 0, 0, 0, 0, 0, 0, 0, 0, 0, 0, 0, 0, 0, 0, 0, 0, 3, 1044, 0, 6, 0, 259, 0, 97, 0, 377, 0, 0, 1, 0, 0, 0, 504, 0, 0, 0, 0, 231, 0, 0, 0, 0, 0, 0, 143, 52, 412, 0, 0, 0, 1, 0, 0, 0, 0, 2, 0, 0, 0, 0, 0, 0, 11, 0, 76, 0, 0, 0, 0, 0, 145, 0, 67, 0, 0, 0, 178, 0, 156, 0, 45, 0, 0, 0, 0, 71, 0, 0, 4, 0, 110, 0, 0, 0, 165, 920, 2, 35, 0, 0, 0, 0, 0, 0, 0, 0, 0, 613, 174, 0, 363, 0, 1, 0, 0, 0, 0, 0, 0, 0, 0, 0, 0, 0, 0, 12, 644, 0, 0, 0, 0, 0, 0, 0, 0, 0, 79, 0, 0, 0, 0, 0, 0, 0, 0, 2, 0, 0, 0, 0, 7, 3, 0, 402, 375, 0, 1038, 0, 0, 0, 0, 0, 0, 633, 0, 0, 0, 1, 0, 0, 0, 0, 418, 0, 0, 0, 0, 0, 0, 0, 0, 0, 0, 82, 0, 0, 248, 0, 527, 0, 0, 0, 0, 0, 0, 0, 0, 0, 0, 0, 0, 0, 0, 0, 0, 0, 0, 0, 0, 0, 1, 0, 0, 0, 0, 0, 228, 0, 0, 6, 0, 0, 69, 0, 0, 26, 58, 21, 0, 0, 588, 0, 17, 0, 0, 0, 0, 0, 0, 0, 0, 0, 0, 0, 0, 0, 0, 0, 532, 104, 0, 0, 3, 0, 0, 258, 0, 0, 0, 0, 0, 3, 75, 0, 431, 0, 0, 0, 0, 0, 0, 0, 0, 0, 0, 49, 0, 0, 0, 0, 0, 0, 0, 0, 0, 0, 3, 0, 3, 25, 307, 0, 0, 0, 0, 0, 62, 81, 0, 0, 0, 0, 0, 0, 0, 4, 0, 0, 9, 0, 0, 7, 0, 0, 0, 0, 0, 0, 0, 0, 0, 0, 0, 0, 0, 0, 589, 0, 0, 1111, 0, 0, 0, 0, 0, 0, 1, 0, 0, 0, 0, 0, 0, 0, 0, 0, 0, 0, 0, 0, 2, 0, 0, 0, 0, 0, 0, 295, 0, 0, 0, 0, 0, 0, 0, 26, 0, 0, 0, 0, 0, 0, 165, 59, 0, 592, 0, 1, 1, 2, 0, 1534, 323, 0, 0, 0, 0, 0, 0, 0, 0, 0, 0, 0, 0, 0, 291, 0, 0, 0, 0, 319, 0, 0, 16, 0, 0, 622, 0, 0, 0, 0, 0, 0, 0, 0, 0, 0, 472, 0, 230, 0, 641, 0, 0, 0, 75, 0, 15, 2, 0, 0, 201, 0, 0, 0, 0, 0, 0, 4, 0, 10, 0, 3, 0, 0, 0, 0, 79, 144, 0, 0, 0, 0, 0, 0, 0, 0, 0, 0, 0, 0, 0, 124, 0, 1769, 295, 65, 0, 0, 0, 234, 0, 0, 0, 0, 367, 0, 0, 0, 0, 0, 0, 0, 0, 0, 0, 0, 0, 0, 0, 0, 0, 0, 0, 0, 14, 299, 0, 0, 73, 0, 1041, 3, 0, 0, 0, 32, 0, 124, 450, 0, 24, 0, 0, 0, 0, 0, 0, 0, 21, 0, 0, 0, 661, 0, 79, 0, 0, 0, 299, 0, 0, 0, 224, 0, 86, 0, 0, 58, 0, 0, 0, 0, 54, 0, 407, 153, 0, 0, 0, 0, 1014, 0, 0, 0, 0, 0, 19, 0, 0, 0, 0, 0, 0, 0, 0, 0, 0, 0, 197, 0, 0, 329, 0, 0, 91, 0, 0, 0, 0, 0, 0, 0, 0, 0, 0, 1, 0, 0, 0, 0, 72, 0, 0, 0, 0, 0, 0, 0, 0, 281, 0, 0, 267, 0, 0, 89, 77, 0, 0, 658, 214, 0, 0, 0, 73, 0, 3, 0, 0, 0, 0, 0, 0, 0, 0, 0, 0, 0, 0, 0, 0, 142, 0, 0, 308, 0, 0, 0, 0, 0, 0, 0, 662, 0, 0, 0, 0, 0, 23, 0, 0, 0, 0, 0, 0, 0, 0, 1, 0, 0, 0, 0, 754, 0, 0, 0, 0, 0, 0, 0, 0, 0, 0, 76, 91, 286, 0, 0, 1, 0, 0, 0, 0, 0, 0, 0, 0, 82, 0, 0, 0, 162, 0, 8, 0, 0, 0, 0, 0, 0, 201, 217, 0, 0, 941, 0, 0, 0, 0, 0, 0, 0, 0, 0, 0, 0, 0, 0, 0, 0, 0, 0, 0, 0, 0, 0, 249, 0, 0, 53, 0, 55, 0, 399, 144, 0, 1115, 0, 0, 0, 0, 0, 0, 0, 0, 0, 0, 34, 0, 0, 0, 0, 0, 0, 0, 0, 0, 0, 0, 0, 0, 0, 0, 0, 2, 0, 141, 0, 64, 0, 72, 0, 0, 16, 0, 0, 0, 293, 0, 3, 0, 0, 0, 0, 317, 0, 0, 0, 0, 0, 608, 0, 0, 0, 0, 0, 104, 258, 0, 0, 0, 0, 0, 0, 0, 0, 0, 0, 0, 0, 0, 0, 565, 0, 0, 0, 0, 0, 0, 0, 0, 71, 27, 0, 0, 39, 0, 0, 0, 0, 0, 5, 0, 12, 7, 0, 0, 0, 0, 118, 0, 466, 783, 2, 0, 0, 17, 0, 0, 0, 321, 220, 0, 0, 0, 0, 0, 0, 163, 445, 0, 288, 0, 0, 54, 287, 0, 0, 0, 144, 683, 0, 0, 267, 0, 6, 0, 0, 164, 435, 378, 0, 0, 0, 0, 0, 0, 0, 38, 51, 0, 0, 0, 0, 0, 0, 0, 325, 0, 0, 0, 5, 0, 451, 156, 0, 0, 0, 468, 0, 1, 0, 0, 0, 0, 0, 323, 2, 0, 0, 112, 0, 0, 19, 1, 0, 0, 0, 0, 0, 0, 125, 0, 0, 0, 0, 0, 0, 0, 0, 0, 0, 0, 0, 0, 0, 0, 377, 0, 0, 0, 0, 0, 713, 223, 93, 0, 0, 0, 0, 151, 0, 0, 0, 0, 36, 0, 0, 0, 516, 0, 0, 0, 0, 0, 0, 0, 0, 3, 0, 0, 0, 0, 0, 0, 0, 0, 0, 0, 0, 0, 0, 0, 0, 0, 0, 0, 0, 0, 0, 0, 78, 0, 0, 0, 0, 0, 0, 374, 0, 603, 7, 0, 0, 0, 0, 0, 0, 0, 0, 0, 0, 0, 0, 0, 0, 0, 0, 0, 0, 0, 60, 776, 331, 0, 746, 1, 0, 0, 0, 0, 472, 0, 2, 181, 0, 0, 0, 0, 0, 0, 0, 0, 0, 432, 0, 0, 276, 0, 0, 0, 0, 0, 0, 0, 0, 70, 0, 0, 29, 0, 0, 0, 0, 1512, 0, 0, 0, 343, 0, 7, 0, 0, 0, 0, 0, 0, 0, 0, 0, 0, 0, 0, 135, 0, 0, 0, 0, 0, 0, 0, 0, 0, 299, 0, 0, 0, 0, 294, 1, 0, 0, 0, 0, 156, 0, 0, 0, 2, 0, 0, 0, 0, 0, 0, 0, 0, 0, 80, 0, 0, 0, 88, 0, 0, 0, 0, 0, 0, 0, 0, 291, 0, 0, 686, 0, 0, 433, 0, 0, 0, 0, 0, 0, 146, 0, 0, 0, 0, 0, 0, 0, 0, 128, 0, 74, 0, 0, 0, 0, 0, 0, 47, 0, 0, 0, 0, 0, 0, 270, 0, 0, 0, 0, 0, 141, 361, 0, 0, 0, 0, 0, 0, 0, 51, 318, 0, 0, 0, 0, 0, 0, 0, 1, 0, 0, 0, 0, 0, 0, 0, 0, 9, 1, 2, 0, 67, 0, 0, 736, 0, 0, 0, 0, 0, 0, 0, 0, 0, 0, 0, 262, 0, 0, 599, 0, 0, 1, 0, 0, 0, 0, 0, 250, 0, 0, 101, 0, 383, 0, 0, 606, 0, 0, 22, 11, 11, 124, 350, 185, 2, 0, 0, 332, 0, 0, 0, 0, 0, 0, 0, 0, 0, 0, 93, 0, 0, 0, 0, 4, 0, 346, 0, 0, 1, 677, 0, 0, 0, 0, 0, 0, 0, 0, 0, 0, 0, 0, 89, 0, 0, 0, 0, 0, 0, 0, 304, 0, 1, 864, 0, 89, 0, 0, 16, 0, 0, 0, 0, 79, 209, 0, 0, 0, 0, 0, 0, 466, 64, 0, 122, 0, 104, 0, 0, 0, 0, 0, 0, 0, 0, 0, 0, 0, 0, 0, 107, 0, 0, 0, 0, 0, 0, 0, 0, 0, 80, 0, 0, 0, 0, 0, 3, 0, 0, 0, 0, 4, 0, 0, 115, 0, 0, 0, 0, 120, 0, 165, 327, 0, 0, 0, 0, 99, 0, 0, 384, 0, 1, 0, 1, 0, 0, 0, 0, 0, 0, 0, 0, 0, 0, 0, 0, 0, 0, 0, 0, 0, 0, 0, 0, 0, 0, 0, 0, 0, 0, 0, 0, 0, 0, 0, 0, 0, 292, 0, 56, 0, 0, 0, 0, 0, 2, 0, 165, 0, 0, 0, 0, 0, 0, 0, 0, 207, 0, 4, 0, 371, 0, 0, 0, 291, 0, 0, 0, 9, 0, 114, 0, 68, 0, 57, 0, 25, 0, 0, 0, 0, 0, 0, 51, 0, 0, 0, 0, 1, 0, 628, 817, 0, 0, 0, 510, 12, 0, 0, 554, 89, 0, 0, 0, 0, 0, 0, 0, 0, 0, 0, 375, 256, 0, 0, 0, 0, 0, 101, 0, 0, 0, 0, 0, 90, 0, 0, 0, 0, 20, 0, 0, 0, 104, 0, 0, 0, 0, 0, 232, 0, 0, 0, 0, 0, 471, 4, 0, 0, 0, 0, 0, 0, 0, 0, 11, 0, 0, 0, 180, 0, 0, 5, 414, 0, 0, 0, 0, 7, 0, 0, 0, 23, 104, 198, 0, 0, 81, 0, 0, 72, 0, 0, 0, 0, 0, 0, 0, 0, 629, 0, 0, 66, 160, 0, 0, 0, 0, 0, 0, 0, 0, 0, 0, 0, 244, 0, 58, 0, 0, 261, 0, 0, 506, 0, 770, 36, 0, 0, 0, 0, 0, 0, 0, 0, 0, 0, 109, 0, 0, 0, 0, 0, 681, 0, 0, 4, 0, 0, 11, 0, 0, 0, 0, 0, 0, 0, 0, 0, 367, 0, 0, 0, 0, 0, 0, 0, 0, 0, 172, 0, 34, 0, 0, 0, 0, 236, 0, 0, 0, 0, 0, 0, 268, 0, 0, 0, 4, 0, 0, 0, 0, 0, 353, 0, 527, 0, 2, 0, 0, 0, 0, 0, 0, 0, 83, 0, 0, 275, 0, 0, 0, 0, 37, 0, 0, 0, 0, 70, 404, 0, 279, 8, 0, 0, 0, 0, 0, 5, 115, 206, 0, 0, 0, 51, 0, 2, 171, 41, 0, 0, 0, 0, 0, 56, 0, 0, 0, 0, 0, 6, 0, 0, 0, 0, 0, 0, 0, 0, 0, 328, 0, 0, 0, 0, 0, 0, 0, 0, 0, 0, 0, 359, 0, 0, 0, 0, 0, 0, 83, 0, 102, 0, 359, 0, 0, 0, 592, 0, 0, 0, 0, 0, 0, 0, 0, 0, 0, 0, 41, 0, 0, 0, 44, 0, 0, 0, 0, 0, 0, 0, 0, 0, 111, 0, 0, 0, 0, 0, 0, 6, 0, 0, 0, 0, 0, 0, 2, 0, 0, 0, 0, 0, 35, 0, 0, 0, 0, 0, 497, 1, 0, 0, 0, 0, 0, 0, 0, 0, 132, 0, 0, 0, 0, 0, 0, 183, 142, 0, 0, 109, 0, 0, 36, 0, 0, 58, 0, 0, 0, 44, 0, 0, 0, 116, 0, 0, 8, 0, 0, 0, 0, 0, 0, 0, 0, 0, 0, 0, 0, 0, 0, 0, 252, 0, 0, 445, 0, 0, 0, 0, 966, 0, 0, 0, 0, 0, 0, 0, 7, 0, 0, 0, 0, 0, 0, 0, 0, 0, 0, 0, 0, 0, 0, 0, 0, 0, 0, 0, 0, 244, 0, 0, 206, 0, 95, 287, 433, 0, 0, 0, 0, 0, 0, 97, 0, 0, 0, 0, 0, 0, 118, 0, 0, 0, 0, 0, 0, 37, 0, 0, 4, 0, 0, 104, 0, 0, 0, 100, 0, 18, 0, 0, 0, 0, 0, 0, 0, 0, 1, 0, 0, 0, 0, 1, 1, 3, 35, 0, 2, 2, 0, 0, 0, 0, 0, 0, 0, 2, 0, 0, 0, 0, 0, 0, 0, 0, 0, 0, 0, 0, 0, 0, 0, 0, 0, 0, 201, 50, 1, 0, 0, 0, 0, 5, 0, 0, 0, 0, 2, 0, 0, 481, 0, 30, 263, 0, 0, 0, 0, 538, 0, 0, 158, 0, 2, 0, 0, 0, 0, 0, 355, 96, 0, 479, 0, 0, 0, 0, 0, 0, 0, 0, 0, 184, 0, 0, 0, 0, 0, 2, 0, 0, 0, 0, 1, 0, 0, 90, 2, 0, 0, 0, 69, 0, 0, 500, 0, 0, 0, 0, 1, 0, 0, 0, 0, 0, 401, 0, 0, 0, 0, 0, 0, 2, 71, 0, 0, 0, 0, 0, 0, 0, 182, 3, 0, 0, 97, 1, 0, 0, 0, 0, 0, 0, 0, 0, 0, 0, 0, 0, 321, 0, 537, 0, 0, 0, 0, 0, 42, 323, 0, 0, 0, 0, 0, 0, 0, 0, 0, 0, 0, 0, 0, 0, 0, 0, 0, 0, 0, 141, 67, 0, 172, 0, 0, 0, 2, 0, 2, 0, 1, 0, 876, 2, 0, 165, 0, 0, 0, 0, 0, 0, 14, 0, 0, 0, 0, 0, 0, 0, 0, 90, 0, 222, 0, 0, 161, 158, 77, 0, 0, 0, 18, 0, 0, 74, 524, 0, 0, 0, 0, 0, 1, 0, 0, 0, 0, 0, 0, 0, 0, 0, 53, 0, 231, 0, 0, 0, 0, 0, 1, 0, 0, 0, 0, 0, 0, 552, 0, 0, 0, 629, 3, 1, 0, 204, 0, 0, 0, 0, 0, 0, 0, 0, 0, 8, 0, 0, 0, 7, 0, 382, 0, 20, 40, 2, 2, 0, 99, 0, 0, 0, 0, 0, 0, 0, 0, 0, 0, 0, 0, 233, 0, 0, 0, 0, 0, 43, 221, 0, 386, 0, 2, 0, 321, 0, 98, 0, 0, 0, 125, 0, 0, 0, 0, 379, 0, 0, 0, 0, 0, 0, 0, 0, 0, 0, 27, 0, 0, 0, 5, 0, 0, 0, 0, 0, 0, 0, 0, 0, 0, 0, 56, 0, 0, 0, 315, 0, 0, 0, 0, 0, 468, 0, 0, 0, 343, 0, 0, 0, 0, 0, 0, 0, 0, 0, 0, 108, 889, 0, 0, 0, 0, 0, 5, 0, 0, 0, 0, 0, 72, 0, 290, 0, 0, 0, 0, 0, 0, 26, 0, 0, 893, 0, 0, 0, 2, 0, 0, 0, 308, 1, 0, 187, 1, 0, 327, 686, 0, 2, 0, 0, 0, 0, 87, 0, 0, 31, 0, 0, 0, 450, 0, 0, 0, 0, 0, 0, 0, 0, 0, 0, 0, 0, 0, 1062, 0, 0, 0, 0, 0, 0, 0, 0, 0, 35, 0, 0, 134, 0, 0, 0, 819, 0, 0, 0, 0, 0, 0, 0, 0, 0, 0, 0, 0, 0, 0, 0, 0, 0, 0, 290, 3, 26, 85, 0, 0, 0, 0, 0, 0, 104, 1062, 0, 0, 0, 320, 0, 0, 46, 320, 0, 0, 178, 0, 0, 0, 0, 0, 1274, 0, 1, 2, 0, 7, 4, 0, 0, 0, 28, 0, 0, 0, 0, 480, 0, 0, 0, 0, 0, 0, 0, 0, 2, 0, 0, 0, 8, 0, 3, 1, 0, 0, 0, 0, 0, 0, 0, 0, 0, 0, 0, 0, 0, 0, 0, 0, 0, 0, 0, 0, 0, 0, 0, 0, 0, 0, 0, 26, 0, 0, 0, 0, 0, 1, 0, 0, 0, 0, 149, 0, 252, 0, 0, 0, 0, 0, 0, 0, 0, 0, 0, 131, 0, 0, 213, 0, 0, 0, 0, 298, 0, 0, 0, 134, 4, 95, 0, 0, 0, 0, 127, 0, 0, 387, 0, 0, 3, 0, 0, 0, 0, 0, 366, 0, 0, 0, 0, 0, 0, 0, 0, 0, 0, 0, 0, 0, 308, 0, 0, 0, 0, 515, 391, 0, 0, 0, 0, 0, 0, 0, 121, 145, 0, 0, 1, 0, 0, 0, 0, 0, 0, 8, 0, 636, 0, 0, 0, 0, 0, 0, 0, 0, 0, 0, 244, 0, 211, 0, 0, 56, 490, 0, 0, 0, 0, 0, 0, 532, 0, 0, 0, 0, 96, 0, 0, 0, 0, 0, 0, 0, 0, 474, 713, 0, 77, 1, 179, 0, 0, 0, 94, 872, 182, 0, 0, 0, 0, 150, 0, 0, 2, 0, 0, 0, 0, 0, 0, 0, 0, 0, 0, 0, 0, 0, 0, 0, 0, 0, 0, 0, 0, 0, 0, 0, 0, 0, 0, 0, 0, 551, 0, 0, 0, 0, 0, 116, 708, 0, 0, 422, 0, 0, 513, 0, 0, 202, 0, 0, 0, 0, 6, 0, 0, 0, 0, 0, 0, 0, 0, 0, 446, 0, 0, 0, 0, 0, 36, 0, 1, 0, 0, 0, 41, 0, 0, 0, 0, 57, 136, 0, 0, 0, 0, 0, 0, 0, 0, 183, 0, 0, 0, 0, 0, 11, 0, 0, 0, 0, 309, 0, 459, 0, 189, 0, 0, 0, 0, 329, 0, 0, 0, 0, 0, 88, 0, 0, 0, 0, 0, 0, 0, 102, 0, 0, 0, 23, 101, 0, 0, 0, 56, 715, 437, 0, 3, 0, 0, 0, 0, 0, 0, 0, 0, 0, 0, 368, 0, 0, 0, 0, 0, 0, 0, 273, 34, 0, 0, 0, 0, 0, 0, 0, 1, 299, 0, 0, 0, 0, 0, 0, 0, 0, 0, 0, 0, 0, 454, 3, 0, 113, 0, 0, 113, 0, 335, 0, 0, 0, 0, 294, 0, 0, 0, 156, 0, 0, 0, 0, 0, 62, 0, 0, 0, 0, 0, 0, 67, 0, 0, 0, 0, 0, 0, 0, 219, 0, 0, 0, 0, 0, 0, 19, 0, 0, 264, 283, 0, 0, 0, 0, 0, 0, 11, 0, 0, 0, 0, 0, 0, 0, 0, 0, 0, 278, 0, 0, 3, 1, 0, 503, 169, 0, 0, 0, 0, 0, 2, 357, 0, 0, 0, 1, 100, 0, 222, 0, 0, 0, 128, 0, 0, 240, 0, 0, 0, 0, 0, 0, 0, 594, 0, 0, 0, 0, 197, 232, 0, 0, 0, 0, 0, 0, 0, 0, 0, 0, 0, 0, 0, 0, 0, 0, 3, 0, 0, 1040, 0, 0, 0, 0, 0, 2, 0, 0, 0, 175, 140, 0, 0, 0, 0, 0, 339, 0, 0, 72, 135, 0, 5, 0, 0, 61, 0, 0, 0, 0, 0, 0, 0, 90, 0, 0, 0, 0, 0, 0, 0, 0, 314, 0, 0, 0, 296, 0, 0, 0, 0, 356, 5, 0, 0, 0, 0, 0, 0, 0, 0, 503, 0, 0, 0, 110, 0, 0, 87, 1, 0, 0, 0, 0, 0, 0, 318, 0, 0, 0, 0, 0, 0, 0, 0, 0, 0, 206, 0, 0, 0, 0, 0, 0, 0, 0, 0, 0, 0, 0, 0, 0, 0, 0, 0, 425, 0, 0, 0, 0, 0, 19, 406, 0, 158, 0, 0, 0, 0, 0, 0, 0, 0, 0, 0, 478, 0, 0, 0, 0, 0, 450, 0, 0, 0, 0, 0, 105, 0, 0, 0, 0, 135, 0, 0, 865, 0, 0, 0, 0, 0, 8, 2, 121, 0, 0, 0, 0, 0, 0, 0, 0, 0, 0, 0, 0, 0, 0, 0, 0, 0, 0, 0, 0, 91, 0, 112, 0, 0, 0, 0, 0, 0, 35, 78, 0, 0, 0, 0, 0, 262, 0, 0, 0, 0, 0, 0, 0, 1, 2, 0, 0, 0, 0, 0, 0, 0, 0, 1, 0, 0, 0, 0, 550, 0, 0, 209, 0, 0, 0, 377, 196, 53, 0, 0, 0, 0, 0, 317, 0, 0, 0, 0, 66, 0, 0, 0, 0, 0, 0, 0, 0, 81, 0, 0, 0, 0, 0, 0, 0, 0, 0, 79, 0, 0, 0, 0, 0, 41, 0, 0, 0, 665, 128, 3, 0, 129, 0, 0, 0, 585, 0, 0, 0, 0, 0, 207, 373, 0, 0, 0, 0, 30, 0, 0, 0, 0, 0, 0, 0, 0, 0, 69, 150, 37, 0, 0, 0, 0, 0, 0, 0, 0, 0, 0, 0, 4, 1, 0, 6, 117, 0, 68, 0, 0, 0, 0, 0, 0, 161, 6, 0, 0, 0, 201, 0, 0, 0, 0, 0, 0, 0, 243, 0, 0, 0, 0, 0, 0, 311, 4, 0, 19, 104, 0, 0, 7, 45, 0, 0, 338, 97, 0, 0, 0, 0, 0, 2, 0, 0, 0, 181, 0, 0, 0, 0, 211, 0, 0, 0, 0, 0, 143, 0, 0, 0, 0, 0, 0, 0, 0, 0, 0, 0, 0, 0, 0, 0, 0, 0, 0, 0, 209, 71, 0, 0, 0, 0, 0, 276, 0, 0, 151, 0, 0, 434, 324, 2, 0, 172, 0, 0, 0, 0, 0, 0, 0, 0, 0, 0, 0, 0, 0, 0, 0, 0, 80, 0, 0, 0, 0, 0, 0, 0, 0, 195, 0, 0, 0, 2, 0, 0, 0, 0, 88, 0, 0, 1, 0, 0, 0, 0, 0, 77, 131, 0, 0, 0, 229, 0, 0, 6, 0, 0, 0, 0, 0, 0, 0, 0, 0, 0, 0, 0, 86, 0, 0, 0, 0, 0, 0, 0, 0, 0, 0, 0, 2, 0, 0, 0, 0, 0, 0, 3, 0, 0, 0, 0, 0, 0, 0, 0, 0, 0, 15, 0, 0, 0, 649, 0, 0, 82, 1298, 0, 0, 0, 0, 0, 0, 0, 0, 0, 0, 0, 0, 0, 0, 0, 0, 0, 0, 67, 459, 0, 0, 0, 0, 0, 1, 0, 0, 0, 0, 0, 0, 0, 74, 888, 0, 0, 164, 0, 0, 0, 0, 318, 0, 0, 10, 0, 249, 0, 0, 0, 0, 0, 97, 0, 20, 0, 0, 0, 0, 0, 175, 0, 0, 0, 0, 0, 0, 0, 0, 9, 0, 6, 0, 0, 0, 0, 324, 0, 0, 274, 779, 519, 0, 0, 0, 0, 0, 616, 0, 0, 0, 0, 0, 0, 0, 0, 0, 0, 7, 0, 4, 0, 0, 0, 0, 226, 218, 0, 0, 87, 0, 0, 0, 0, 0, 0, 0, 0, 0, 0, 0, 3, 0, 0, 20, 0, 0, 0, 0, 298, 0, 0, 0, 0, 1, 325, 0, 0, 0, 0, 0, 0, 0, 70, 0, 0, 214, 0, 0, 6, 0, 0, 117, 0, 0, 0, 0, 0, 0, 1, 0, 0, 0, 0, 147, 0, 0, 0, 202, 0, 0, 0, 0, 0, 0, 0, 10, 575, 0, 5, 3, 2, 0, 13, 0, 0, 0, 0, 0, 0, 0, 185, 0, 0, 43, 0, 0, 0, 59, 0, 0, 0, 0, 0, 0, 0, 0, 0, 0, 0, 1, 284, 0, 7, 111, 0, 0, 274, 0, 0, 129, 0, 64, 0, 0, 0, 0, 0, 121, 0, 0, 0, 0, 0, 5, 0, 0, 889, 0, 21, 607, 582, 0, 0, 0, 46, 0, 0, 0, 12, 0, 1, 0, 0, 0, 0, 122, 1, 0, 653, 0, 0, 0, 283, 0, 5, 0, 0, 738, 0, 0, 0, 9, 142, 0, 0, 0, 1651, 0, 0, 0, 0, 0, 0, 0, 0, 0, 257, 0, 0, 0, 0, 0, 23, 0, 0, 0, 0, 0, 0, 0, 0, 0, 9, 0, 5, 3, 0, 1, 153, 59, 0, 0, 0, 0, 0, 0, 161, 81, 0, 20, 0, 0, 0, 0, 0, 0, 0, 0, 0, 0, 0, 0, 0, 0, 0, 1148, 0, 0, 0, 0, 0, 81, 0, 950, 0, 0, 0, 452, 0, 0, 0, 270, 0, 87, 0, 0, 0, 0, 0, 0, 0, 0, 0, 0, 0, 0, 406, 0, 0, 152, 0, 0, 674, 0, 0, 0, 0, 0, 0, 0, 0, 0, 0, 0, 0, 0, 0, 915, 12, 0, 0, 0, 0, 2, 5, 0, 0, 41, 4, 0, 529]]\n"
     ]
    }
   ],
   "source": [
    "#Module for analysis of number of wrong collisions before correct tRNA reaches ribosome 1.4 times\n",
    "#Produces graph of distribution of number of collisions in between two correct events\n",
    "#Need to check to see how far the poisson (power law?) distribution is for caged events vs. free diffusing/mixing events\n",
    "#to identify anomalies/spatial effects other than just being rare events being sampled.\n",
    "#or we find out that the distribution is same for each ribosome, just spends less time near the ribosome.\n",
    "#Fluitt uses \"average\", but really we have a poisson sampling rate where \"avg\" less meaningful\n",
    "\n",
    "df=df.sort_values(['reactantB','time'], ascending=[True,True])\n",
    "tRNAidList = list(range(1, 2))\n",
    "collisionCountTot=list()\n",
    "collisionCountDistrib=list()\n",
    "for tRNAid in tRNAidList:\n",
    "    collisionCount =0\n",
    "    for index, row in df.iterrows():\n",
    "        if row[\"reactantB\"]==51:\n",
    "            if row[\"reactantA\"]!=1:\n",
    "                collisionCount+=1\n",
    "            if row[\"reactantA\"]==1:\n",
    "                collisionCountTot.append(collisionCount)\n",
    "                collisionCount=0\n",
    "    collisionCountDistrib.append(collisionCountTot)\n",
    "    collisionCountTot=list()\n",
    "                \n",
    "print(len(collisionCountDistrib[0]))\n",
    "print(sum(collisionCountDistrib[0]))\n",
    "print(collisionCountDistrib)"
   ]
  },
  {
   "cell_type": "code",
   "execution_count": 120,
   "metadata": {
    "collapsed": false
   },
   "outputs": [
    {
     "data": {
      "text/plain": [
       "(array([ 897.,  320.,  103.,   34.,   12.,    6.,    0.,    0.,    1.,    0.]),\n",
       " array([   0.,   50.,  100.,  150.,  200.,  250.,  300.,  350.,  400.,\n",
       "         450.,  500.]),\n",
       " <a list of 10 Patch objects>)"
      ]
     },
     "execution_count": 120,
     "metadata": {},
     "output_type": "execute_result"
    },
    {
     "data": {
      "image/png": "[encoded data removed]",
      "text/plain": [
       "<matplotlib.figure.Figure at 0x11cede5f8>"
      ]
     },
     "metadata": {},
     "output_type": "display_data"
    }
   ],
   "source": [
    "plt.hist(collisionCountDistrib[0],bins=10,range=(0,500)) #expt 4"
   ]
  },
  {
   "cell_type": "code",
   "execution_count": 123,
   "metadata": {
    "collapsed": false
   },
   "outputs": [
    {
     "data": {
      "text/plain": [
       "(array([ 4282.,   155.,    93.,    65.,    59.,    60.,    48.,    31.,\n",
       "           26.,    28.]),\n",
       " array([   0.,   50.,  100.,  150.,  200.,  250.,  300.,  350.,  400.,\n",
       "         450.,  500.]),\n",
       " <a list of 10 Patch objects>)"
      ]
     },
     "execution_count": 123,
     "metadata": {},
     "output_type": "execute_result"
    },
    {
     "data": {
      "image/png": "[encoded data removed]",
      "text/plain": [
       "<matplotlib.figure.Figure at 0x12c3f5780>"
      ]
     },
     "metadata": {},
     "output_type": "display_data"
    }
   ],
   "source": [
    "plt.hist(collisionCountDistrib[0],bins=10,range=(0,500)) #expt 5"
   ]
  },
  {
   "cell_type": "code",
   "execution_count": 156,
   "metadata": {
    "collapsed": false
   },
   "outputs": [
    {
     "name": "stdout",
     "output_type": "stream",
     "text": [
      "[1184, 1279, 1363, 1373, 1234, 1319, 1338] [ 0.05183554  0.04899083  0.04911905  0.04938451  0.05046633  0.05205982\n",
      "  0.05166268]\n"
     ]
    },
    {
     "data": {
      "text/plain": [
       "<function matplotlib.pyplot.tight_layout>"
      ]
     },
     "execution_count": 156,
     "metadata": {},
     "output_type": "execute_result"
    },
    {
     "data": {
      "image/png": "[encoded data removed]",
      "text/plain": [
       "<matplotlib.figure.Figure at 0x136ff5978>"
      ]
     },
     "metadata": {},
     "output_type": "display_data"
    }
   ],
   "source": [
    "#Experiment 4:\n",
    "print(rib,timeavg)\n",
    "fig, ax = plt.subplots(1,2)\n",
    "ax[0].bar([0,1,2,3,4,5,6],rib,color='b')\n",
    "ax[0].set_title(\"# times ribosome \\n sampled a specific tRNA\",y=1.05)\n",
    "ax[1].bar([0,1,2,3,4,5,6],timeavg,color='r')\n",
    "ax[1].set_title(\"Avg time frame ribosome \\n sampled a specific tRNA\",y=1.05)\n",
    "plt.tight_layout"
   ]
  },
  {
   "cell_type": "code",
   "execution_count": 161,
   "metadata": {
    "collapsed": false
   },
   "outputs": [
    {
     "name": "stdout",
     "output_type": "stream",
     "text": [
      "[5273, 5050, 4424, 4985, 4862, 4502, 5213] [ 0.04796217  0.05122051  0.05047607  0.05051992  0.04876622  0.05090315\n",
      "  0.05113158]\n"
     ]
    },
    {
     "data": {
      "text/plain": [
       "<function matplotlib.pyplot.tight_layout>"
      ]
     },
     "execution_count": 161,
     "metadata": {},
     "output_type": "execute_result"
    },
    {
     "data": {
      "image/png": "[encoded data removed]",
      "text/plain": [
       "<matplotlib.figure.Figure at 0x137839cc0>"
      ]
     },
     "metadata": {},
     "output_type": "display_data"
    }
   ],
   "source": [
    "#Experiment 5:\n",
    "print(rib,timeavg)\n",
    "fig, ax = plt.subplots(1,2)\n",
    "ax[0].bar([0,1,2,3,4,5,6],rib,color='b')\n",
    "ax[0].set_title(\"# times ribosome \\n sampled a specific tRNA\",y=1.05)\n",
    "ax[1].bar([0,1,2,3,4,5,6],timeavg,color='r')\n",
    "ax[1].set_title(\"Avg time frame ribosome \\n sampled a specific tRNA\",y=1.05)\n",
    "plt.tight_layout"
   ]
  },
  {
   "cell_type": "code",
   "execution_count": 163,
   "metadata": {
    "collapsed": false
   },
   "outputs": [
    {
     "name": "stdout",
     "output_type": "stream",
     "text": [
      "[4061, 3469, 3937, 4304, 3863, 4476, 3922] [ 0.04862038  0.05375847  0.04359325  0.04807964  0.05175136  0.04856392\n",
      "  0.05078618]\n"
     ]
    },
    {
     "data": {
      "text/plain": [
       "<function matplotlib.pyplot.tight_layout>"
      ]
     },
     "execution_count": 163,
     "metadata": {},
     "output_type": "execute_result"
    },
    {
     "data": {
      "image/png": "[encoded data removed]",
      "text/plain": [
       "<matplotlib.figure.Figure at 0x15c703f28>"
      ]
     },
     "metadata": {},
     "output_type": "display_data"
    }
   ],
   "source": [
    "#Experiment 6:\n",
    "print(rib,timeavg)\n",
    "fig, ax = plt.subplots(1,2)\n",
    "ax[0].bar([0,1,2,3,4,5,6],rib,color='b')\n",
    "ax[0].set_title(\"# times ribosome \\n sampled a specific tRNA\",y=1.05)\n",
    "ax[1].bar([0,1,2,3,4,5,6],timeavg,color='r')\n",
    "ax[1].set_title(\"Avg time frame ribosome \\n sampled a specific tRNA\",y=1.05)\n",
    "plt.tight_layout"
   ]
  },
  {
   "cell_type": "code",
   "execution_count": 168,
   "metadata": {
    "collapsed": false
   },
   "outputs": [
    {
     "name": "stdout",
     "output_type": "stream",
     "text": [
      "[6564, 5549, 6191, 5654, 6230, 5810, 6691] [ 0.05085661  0.04528079  0.0482784   0.0515434   0.0467219   0.05080448\n",
      "  0.0490789 ]\n"
     ]
    },
    {
     "data": {
      "text/plain": [
       "<function matplotlib.pyplot.tight_layout>"
      ]
     },
     "execution_count": 168,
     "metadata": {},
     "output_type": "execute_result"
    },
    {
     "data": {
      "image/png": "[encoded data removed]",
      "text/plain": [
       "<matplotlib.figure.Figure at 0x20870a208>"
      ]
     },
     "metadata": {},
     "output_type": "display_data"
    }
   ],
   "source": [
    "#Experiment 7:\n",
    "print(rib,timeavg)\n",
    "fig, ax = plt.subplots(1,2)\n",
    "ax[0].bar([0,1,2,3,4,5,6],rib,color='b')\n",
    "ax[0].set_title(\"# times ribosome \\n sampled a specific tRNA\",y=1.05)\n",
    "ax[1].bar([0,1,2,3,4,5,6],timeavg,color='r')\n",
    "ax[1].set_title(\"Avg time frame ribosome \\n sampled a specific tRNA\",y=1.05)\n",
    "plt.tight_layout"
   ]
  },
  {
   "cell_type": "code",
   "execution_count": 170,
   "metadata": {
    "collapsed": false
   },
   "outputs": [
    {
     "data": {
      "text/plain": [
       "<function matplotlib.pyplot.tight_layout>"
      ]
     },
     "execution_count": 170,
     "metadata": {},
     "output_type": "execute_result"
    },
    {
     "data": {
      "image/png": "[encoded data removed]",
      "text/plain": [
       "<matplotlib.figure.Figure at 0x1484015c0>"
      ]
     },
     "metadata": {},
     "output_type": "display_data"
    }
   ],
   "source": [
    "#Experiment 8:\n",
    "fig, ax = plt.subplots(1,2)\n",
    "ax[0].bar([0,1,2,3,4,5,6],rib,color='b')\n",
    "ax[0].set_title(\"# times ribosome \\n sampled a specific tRNA\",y=1.05)\n",
    "ax[1].bar([0,1,2,3,4,5,6],timeavg,color='r')\n",
    "ax[1].set_title(\"Avg time frame ribosome \\n sampled a specific tRNA\",y=1.05)\n",
    "plt.tight_layout"
   ]
  },
  {
   "cell_type": "code",
   "execution_count": 172,
   "metadata": {
    "collapsed": false
   },
   "outputs": [
    {
     "data": {
      "text/plain": [
       "<function matplotlib.pyplot.tight_layout>"
      ]
     },
     "execution_count": 172,
     "metadata": {},
     "output_type": "execute_result"
    },
    {
     "data": {
      "image/png": "[encoded data removed]",
      "text/plain": [
       "<matplotlib.figure.Figure at 0x135d98438>"
      ]
     },
     "metadata": {},
     "output_type": "display_data"
    }
   ],
   "source": [
    "#Experiment 9:\n",
    "fig, ax = plt.subplots(1,2)\n",
    "ax[0].bar([0,1,2,3,4,5,6],rib,color='b')\n",
    "ax[0].set_title(\"# times ribosome \\n sampled a specific tRNA\",y=1.05)\n",
    "ax[1].bar([0,1,2,3,4,5,6],timeavg,color='r')\n",
    "ax[1].set_title(\"Avg time frame ribosome \\n sampled a specific tRNA\",y=1.05)\n",
    "plt.tight_layout"
   ]
  },
  {
   "cell_type": "code",
   "execution_count": 187,
   "metadata": {
    "collapsed": false
   },
   "outputs": [
    {
     "data": {
      "text/plain": [
       "<function matplotlib.pyplot.tight_layout>"
      ]
     },
     "execution_count": 187,
     "metadata": {},
     "output_type": "execute_result"
    },
    {
     "data": {
      "image/png": "[encoded data removed]",
      "text/plain": [
       "<matplotlib.figure.Figure at 0x1407226d8>"
      ]
     },
     "metadata": {},
     "output_type": "display_data"
    }
   ],
   "source": [
    "#Experiment 9 (100ms):\n",
    "fig, ax = plt.subplots(1,2)\n",
    "ax[0].bar([0,1,2,3,4,5,6],rib,color='b')\n",
    "ax[0].set_title(\"# times ribosome \\n sampled a specific tRNA\",y=1.05)\n",
    "ax[1].bar([0,1,2,3,4,5,6],timeavg,color='r')\n",
    "ax[1].set_title(\"Avg time frame ribosome \\n sampled a specific tRNA\",y=1.05)\n",
    "plt.tight_layout"
   ]
  },
  {
   "cell_type": "code",
   "execution_count": 181,
   "metadata": {
    "collapsed": false
   },
   "outputs": [
    {
     "data": {
      "text/plain": [
       "<function matplotlib.pyplot.tight_layout>"
      ]
     },
     "execution_count": 181,
     "metadata": {},
     "output_type": "execute_result"
    },
    {
     "data": {
      "image/png": "[encoded data removed]",
      "text/plain": [
       "<matplotlib.figure.Figure at 0x1a372a198>"
      ]
     },
     "metadata": {},
     "output_type": "display_data"
    }
   ],
   "source": [
    "#Experiment 9_2: -- particle polydisperity increases sampling disparity\n",
    "fig, ax = plt.subplots(1,2)\n",
    "ax[0].bar([0,1,2,3,4,5,6],rib,color='b')\n",
    "ax[0].set_title(\"# times ribosome \\n sampled a specific tRNA\",y=1.05)\n",
    "ax[1].bar([0,1,2,3,4,5,6],timeavg,color='r')\n",
    "ax[1].set_title(\"Avg time frame ribosome \\n sampled a specific tRNA\",y=1.05)\n",
    "plt.tight_layout"
   ]
  },
  {
   "cell_type": "code",
   "execution_count": 183,
   "metadata": {
    "collapsed": false
   },
   "outputs": [
    {
     "data": {
      "text/plain": [
       "<function matplotlib.pyplot.tight_layout>"
      ]
     },
     "execution_count": 183,
     "metadata": {},
     "output_type": "execute_result"
    },
    {
     "data": {
      "image/png": "[encoded data removed]",
      "text/plain": [
       "<matplotlib.figure.Figure at 0x136bf7358>"
      ]
     },
     "metadata": {},
     "output_type": "display_data"
    }
   ],
   "source": [
    "#Experiment 10 -- closed boundaries massively increase sampling disparity\n",
    "fig, ax = plt.subplots(1,2)\n",
    "ax[0].bar([0,1,2,3,4,5,6],rib,color='b')\n",
    "ax[0].set_title(\"# times ribosome \\n sampled a specific tRNA\",y=1.05)\n",
    "ax[1].bar([0,1,2,3,4,5,6],timeavg,color='r')\n",
    "ax[1].set_title(\"Avg time frame ribosome \\n sampled a specific tRNA\",y=1.05)\n",
    "plt.tight_layout"
   ]
  },
  {
   "cell_type": "code",
   "execution_count": 189,
   "metadata": {
    "collapsed": false
   },
   "outputs": [
    {
     "data": {
      "text/plain": [
       "<function matplotlib.pyplot.tight_layout>"
      ]
     },
     "execution_count": 189,
     "metadata": {},
     "output_type": "execute_result"
    },
    {
     "data": {
      "image/png": "[encoded data removed]",
      "text/plain": [
       "<matplotlib.figure.Figure at 0x14b87d278>"
      ]
     },
     "metadata": {},
     "output_type": "display_data"
    }
   ],
   "source": [
    "#Experiment 10 -- 100ms\n",
    "fig, ax = plt.subplots(1,2)\n",
    "ax[0].bar([0,1,2,3,4,5,6],rib,color='b')\n",
    "ax[0].set_title(\"# times ribosome \\n sampled a specific tRNA\",y=1.05)\n",
    "ax[1].bar([0,1,2,3,4,5,6],timeavg,color='r')\n",
    "ax[1].set_title(\"Avg time frame ribosome \\n sampled a specific tRNA\",y=1.05)\n",
    "plt.tight_layout"
   ]
  },
  {
   "cell_type": "code",
   "execution_count": 185,
   "metadata": {
    "collapsed": false
   },
   "outputs": [
    {
     "data": {
      "text/plain": [
       "<function matplotlib.pyplot.tight_layout>"
      ]
     },
     "execution_count": 185,
     "metadata": {},
     "output_type": "execute_result"
    },
    {
     "data": {
      "image/png": "[encoded data removed]",
      "text/plain": [
       "<matplotlib.figure.Figure at 0x135d6a860>"
      ]
     },
     "metadata": {},
     "output_type": "display_data"
    }
   ],
   "source": [
    "#Experiment 11\n",
    "fig, ax = plt.subplots(1,2)\n",
    "ax[0].bar([0,1,2,3,4,5,6],rib,color='b')\n",
    "ax[0].set_title(\"# times ribosome \\n sampled a specific tRNA\",y=1.05)\n",
    "ax[1].bar([0,1,2,3,4,5,6],timeavg,color='r')\n",
    "ax[1].set_title(\"Avg time frame ribosome \\n sampled a specific tRNA\",y=1.05)\n",
    "plt.tight_layout"
   ]
  },
  {
   "cell_type": "code",
   "execution_count": 191,
   "metadata": {
    "collapsed": false
   },
   "outputs": [
    {
     "data": {
      "text/plain": [
       "<function matplotlib.pyplot.tight_layout>"
      ]
     },
     "execution_count": 191,
     "metadata": {},
     "output_type": "execute_result"
    },
    {
     "data": {
      "image/png": "[encoded data removed]",
      "text/plain": [
       "<matplotlib.figure.Figure at 0x208701cc0>"
      ]
     },
     "metadata": {},
     "output_type": "display_data"
    }
   ],
   "source": [
    "#Experiment 11 - 100ms\n",
    "fig, ax = plt.subplots(1,2)\n",
    "ax[0].bar([0,1,2,3,4,5,6],rib,color='b')\n",
    "ax[0].set_title(\"# times ribosome \\n sampled a specific tRNA\",y=1.05)\n",
    "ax[1].bar([0,1,2,3,4,5,6],timeavg,color='r')\n",
    "ax[1].set_title(\"Avg time frame ribosome \\n sampled a specific tRNA\",y=1.05)\n",
    "plt.tight_layout"
   ]
  },
  {
   "cell_type": "code",
   "execution_count": 90,
   "metadata": {
    "collapsed": false
   },
   "outputs": [
    {
     "name": "stdout",
     "output_type": "stream",
     "text": [
      "[1842, 1924, 1826, 1878, 1599, 1979, 1339]\n"
     ]
    },
    {
     "data": {
      "text/plain": [
       "<function matplotlib.pyplot.tight_layout>"
      ]
     },
     "execution_count": 90,
     "metadata": {},
     "output_type": "execute_result"
    },
    {
     "data": {
      "image/png": "[encoded data removed]",
      "text/plain": [
       "<matplotlib.figure.Figure at 0x1195b0b38>"
      ]
     },
     "metadata": {},
     "output_type": "display_data"
    }
   ],
   "source": [
    "#Experiment 10 -- 100ms\n",
    "print(rib)\n",
    "fig, ax = plt.subplots(1,2)\n",
    "ax[0].bar([0,1,2,3,4,5,6],rib,color='b')\n",
    "ax[0].set_title(\"# times ribosome \\n sampled a specific tRNA\",y=1.05)\n",
    "ax[1].bar([0,1,2,3,4,5,6],timeavg,color='r')\n",
    "ax[1].set_title(\"Avg time frame ribosome \\n sampled a specific tRNA\",y=1.05)\n",
    "plt.tight_layout\n"
   ]
  },
  {
   "cell_type": "code",
   "execution_count": 12,
   "metadata": {
    "collapsed": true
   },
   "outputs": [
    {
     "ename": "NameError",
     "evalue": "name 'rib' is not defined",
     "output_type": "error",
     "traceback": [
      "\u001b[0;31m---------------------------------------------------------------------------\u001b[0m",
      "\u001b[0;31mNameError\u001b[0m                                 Traceback (most recent call last)",
      "\u001b[0;32m<ipython-input-12-5d957515f746>\u001b[0m in \u001b[0;36m<module>\u001b[0;34m()\u001b[0m\n\u001b[1;32m      1\u001b[0m \u001b[0;31m#Experiment 10 -- 100ms\u001b[0m\u001b[0;34m\u001b[0m\u001b[0;34m\u001b[0m\u001b[0m\n\u001b[0;32m----> 2\u001b[0;31m \u001b[0mprint\u001b[0m\u001b[0;34m(\u001b[0m\u001b[0mrib\u001b[0m\u001b[0;34m)\u001b[0m\u001b[0;34m\u001b[0m\u001b[0m\n\u001b[0m\u001b[1;32m      3\u001b[0m \u001b[0mfig\u001b[0m\u001b[0;34m,\u001b[0m \u001b[0max\u001b[0m \u001b[0;34m=\u001b[0m \u001b[0mplt\u001b[0m\u001b[0;34m.\u001b[0m\u001b[0msubplots\u001b[0m\u001b[0;34m(\u001b[0m\u001b[0;36m1\u001b[0m\u001b[0;34m,\u001b[0m\u001b[0;36m2\u001b[0m\u001b[0;34m)\u001b[0m\u001b[0;34m\u001b[0m\u001b[0m\n\u001b[1;32m      4\u001b[0m \u001b[0max\u001b[0m\u001b[0;34m[\u001b[0m\u001b[0;36m0\u001b[0m\u001b[0;34m]\u001b[0m\u001b[0;34m.\u001b[0m\u001b[0mbar\u001b[0m\u001b[0;34m(\u001b[0m\u001b[0;34m[\u001b[0m\u001b[0;36m0\u001b[0m\u001b[0;34m,\u001b[0m\u001b[0;36m1\u001b[0m\u001b[0;34m,\u001b[0m\u001b[0;36m2\u001b[0m\u001b[0;34m,\u001b[0m\u001b[0;36m3\u001b[0m\u001b[0;34m,\u001b[0m\u001b[0;36m4\u001b[0m\u001b[0;34m,\u001b[0m\u001b[0;36m5\u001b[0m\u001b[0;34m,\u001b[0m\u001b[0;36m6\u001b[0m\u001b[0;34m]\u001b[0m\u001b[0;34m,\u001b[0m\u001b[0mrib\u001b[0m\u001b[0;34m,\u001b[0m\u001b[0mcolor\u001b[0m\u001b[0;34m=\u001b[0m\u001b[0;34m'b'\u001b[0m\u001b[0;34m)\u001b[0m\u001b[0;34m\u001b[0m\u001b[0m\n\u001b[1;32m      5\u001b[0m \u001b[0max\u001b[0m\u001b[0;34m[\u001b[0m\u001b[0;36m0\u001b[0m\u001b[0;34m]\u001b[0m\u001b[0;34m.\u001b[0m\u001b[0mset_title\u001b[0m\u001b[0;34m(\u001b[0m\u001b[0;34m\"# times ribosome \\n sampled a specific tRNA\"\u001b[0m\u001b[0;34m,\u001b[0m\u001b[0my\u001b[0m\u001b[0;34m=\u001b[0m\u001b[0;36m1.05\u001b[0m\u001b[0;34m)\u001b[0m\u001b[0;34m\u001b[0m\u001b[0m\n",
      "\u001b[0;31mNameError\u001b[0m: name 'rib' is not defined"
     ]
    }
   ],
   "source": [
    "#Experiment 10 -- 100ms\n",
    "print(rib)\n",
    "fig, ax = plt.subplots(1,2)\n",
    "ax[0].bar([0,1,2,3,4,5,6],rib,color='b')\n",
    "ax[0].set_title(\"# times ribosome \\n sampled a specific tRNA\",y=1.05)\n",
    "ax[1].bar([0,1,2,3,4,5,6],timeavg,color='r')\n",
    "ax[1].set_title(\"Avg time frame ribosome \\n sampled a specific tRNA\",y=1.05)\n",
    "plt.tight_layout\n"
   ]
  },
  {
   "cell_type": "code",
   "execution_count": 10,
   "metadata": {
    "collapsed": true
   },
   "outputs": [],
   "source": [
    "a=np.ones([2,2])*-100\n",
    "a[0,1]=20"
   ]
  },
  {
   "cell_type": "code",
   "execution_count": 11,
   "metadata": {
    "collapsed": false
   },
   "outputs": [
    {
     "data": {
      "text/plain": [
       "array([[-100.,   20.],\n",
       "       [-100., -100.]])"
      ]
     },
     "execution_count": 11,
     "metadata": {},
     "output_type": "execute_result"
    }
   ],
   "source": [
    "a"
   ]
  },
  {
   "cell_type": "code",
   "execution_count": null,
   "metadata": {
    "collapsed": true
   },
   "outputs": [],
   "source": []
  }
 ],
 "metadata": {
  "kernelspec": {
   "display_name": "Python 3",
   "language": "python",
   "name": "python3"
  },
  "language_info": {
   "codemirror_mode": {
    "name": "ipython",
    "version": 3
   },
   "file_extension": ".py",
   "mimetype": "text/x-python",
   "name": "python",
   "nbconvert_exporter": "python",
   "pygments_lexer": "ipython3",
   "version": "3.6.6"
  }
 },
 "nbformat": 4,
 "nbformat_minor": 2
}
