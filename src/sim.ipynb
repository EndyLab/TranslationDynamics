{
 "cells": [
  {
   "cell_type": "code",
   "execution_count": 50,
   "metadata": {
    "collapsed": false
   },
   "outputs": [
    {
     "name": "stdout",
     "output_type": "stream",
     "text": [
      "[0. 0.]\n",
      "[0.5261020096231577, 98.05113128419588, 96.72370060544786, 23.889098876952623, 10.34114542903979, 235.06285473610595, 89.20177608535472, 51.242868495378765, 331.0897066933689, 142.0752091552863, 59.10673604436265, 211.06700502891803, 56.95094789976589, 103.70303244935933, 95.00215603094263, 12.121846045967724, 7.067654405059371, 97.06825699292033, 143.73383978930727, 176.9926789165133, 35.26941863845021, 16.731545919091495, 32.54598151917514, 57.075679033683635, 91.56272111946508, 78.15561330309427, 48.683709765358465, 15.339692194170375, 39.912182536155434, 140.0142914234562, 182.3234663278893, 16.336101017259775, 83.20220848702563, 177.70209280423782, 8.212016834208622, 6.81305619441639, 76.13675411334437, 62.612794376828134, 19.39734133358224, 122.34767674767842, 176.2651766040813, 37.11026107557664, 70.01020448187134, 23.360201040638874, 162.09813555045622, 119.52643857592159, 143.95151485801136, 65.88267983057466, 9.740823072794338, 15.95202421981524, 283.96050310342804, 141.31560150429303, 74.89971267434663, 49.381314750237486, 0.3739448121538616, 2.808693246405656, 182.9820309644053, 338.0644651594936, 69.13683297104352, 4.25629328283089, 17.423660824611098, 42.5661068781466, 138.4391267769839, 40.79998901870159, 95.63737721359296, 22.022697304226863, 62.90597881835484, 19.417427673447804, 62.049809902702656, 159.5568045706474, 62.220857592122925, 6.587306963108549, 111.24809209900508, 171.90151160953596, 37.07614627155005, 138.02194063069422, 164.2145990831354, 132.95187756976986, 184.63279235367978, 38.959050419712916, 453.14865297035783, 114.96086583018584, 10.949519501902165, 90.58234192254608, 7.01511032526774, 93.63691844774371, 155.08464550402695, 26.36807968811577, 311.11446549584605, 3.1212404112857772, 16.98433444960953, 0.8787697859643573, 344.5309074516451, 5.621802388524742, 51.31309140014754, 134.38278201272567, 112.59021881612742, 23.049291491224917, 44.83217899296151, 39.082587001408996]\n",
      "90.70349899902169\n"
     ]
    }
   ],
   "source": [
    "import numpy as np\n",
    "\n",
    "rib_num=2\n",
    "tRNA_num=41\n",
    "tRNA_cog=1\n",
    "reaction_time = 0 \n",
    "elong_times = list()\n",
    "ribosome_react_list = np.zeros(rib_num)\n",
    "print(ribosome_react_list)\n",
    "for i in range(100):\n",
    "    cog_bind = False\n",
    "    total_time = 0\n",
    "    while not cog_bind:\n",
    "        reacting_ID = np.random.randint(tRNA_num+1)\n",
    "        if  reacting_ID<tRNA_num:\n",
    "            total_time += np.random.exponential(1.4)\n",
    "        else:\n",
    "            cog_time = np.random.uniform(0,1.4)\n",
    "            if cog_time<1:\n",
    "                cog_bind=True\n",
    "            total_time+=cog_time\n",
    "    elong_times.append(total_time)\n",
    "print(elong_times)\n",
    "print(np.average(elong_times))\n",
    "    "
   ]
  },
  {
   "cell_type": "code",
   "execution_count": 190,
   "metadata": {
    "collapsed": false
   },
   "outputs": [],
   "source": [
    "import matplotlib.pyplot as plt\n",
    "%matplotlib inline\n",
    "def react_sim():\n",
    "    import numpy as np\n",
    "\n",
    "    #arbitrarily pick rib_id = 0 as cognate ribosome\n",
    "    #arbitrarily pick tRNA ids 0 to N as cognate tRNAs\n",
    "\n",
    "    rib_num=7\n",
    "    tRNA_id=np.arange(41)\n",
    "    tRNA_cog=2\n",
    "    elong_times = list()\n",
    "    cog_bind=False;\n",
    "    cog_succ=False\n",
    "    sys_t=0\n",
    "    \n",
    "    ## Randomly pick tRNA to be bound to all ribosomes from all possible tRNA.\n",
    "    tRNA_bound=np.random.choice(tRNA_id,rib_num,replace=False)\n",
    "    tRNA_unbound = [tRNA for tRNA in tRNA_id if tRNA not in tRNA_bound]\n",
    "    ## For each ribosome, now with a reacting tRNA, pick an exponential random time until dissociation\n",
    "\n",
    "    react_time = np.ones(rib_num)*np.random.exponential(1.4)\n",
    "    ## Dealing with the case of cog tRNA binding to cog ribosome\n",
    "    if 0 in tRNA_bound[0:tRNA_cog]:\n",
    "        cog_time_f = np.random.uniform(0,0.68)\n",
    "        cog_time_b = np.random.uniform(0,1.4)\n",
    "        if np.random.uniform(0,1)<1475/(1475+717):\n",
    "            cog_bind=True\n",
    "            sys_t+=cog_time_f\n",
    "            return sys_t\n",
    "        else:\n",
    "            react_time[0] = cog_time_b \n",
    "        \n",
    "    #### Loop while cognate tRNA isn't bound to cognate ribosome successfully\n",
    "    while not cog_bind:\n",
    "        \n",
    "        ###Find next event (a tRNA unbinding from a ribosome) and jump the system to this time\n",
    "        next_rib_time = min(react_time)\n",
    "        next_rib = np.argmin(react_time)\n",
    "        \n",
    "        just_unbound_tRNA = tRNA_bound[next_rib]\n",
    "        sys_t+= next_rib_time\n",
    "        \n",
    "        ##Adjust all pending reaction times by change in system time\n",
    "        react_time = react_time - np.ones(rib_num)*next_rib_time\n",
    "        \n",
    "        ##Pick new tRNA to be bound to recently unbound ribosome\n",
    "        next_tRNA = np.random.choice(np.concatenate((tRNA_unbound,[just_unbound_tRNA])))\n",
    "        tRNA_bound[next_rib] = next_tRNA\n",
    "        tRNA_unbound = [tRNA for tRNA in tRNA_id if tRNA not in tRNA_bound]\n",
    "\n",
    "        ##Pick a reaction time for the newly bound tRNA\n",
    "        react_time[next_rib] = np.random.exponential(1.4)\n",
    "        \n",
    "        ##If tRNA that's newly bound is a cog tRNA and its bound at the cognate ribosome, see if the cog_binding is successful\n",
    "        if 0 in tRNA_bound[0:tRNA_cog] and next_rib==0:\n",
    "            cog_time_f = np.random.uniform(0,0.68)\n",
    "            cog_time_b = np.random.uniform(0,1.4)\n",
    "            if np.random.uniform(0,1)<1475/(1475+717):\n",
    "                cog_bind=True\n",
    "                react_time[0] = cog_time_f\n",
    "            else:\n",
    "                react_time[0] = cog_time_b \n",
    "\n",
    "    return sys_t;"
   ]
  },
  {
   "cell_type": "code",
   "execution_count": null,
   "metadata": {
    "collapsed": true
   },
   "outputs": [],
   "source": [
    "sim_times=list()\n",
    "for i in range(100):\n",
    "    sim_times.append(react_sim())\n",
    "print(sim_times)\n",
    "print(np.average(sim_times))\n",
    "plt.hist(sim_times)"
   ]
  },
  {
   "cell_type": "code",
   "execution_count": 160,
   "metadata": {
    "collapsed": false
   },
   "outputs": [
    {
     "name": "stdout",
     "output_type": "stream",
     "text": [
      "815   1211   0.6729975227085053\n"
     ]
    }
   ],
   "source": [
    "count=0\n",
    "tot_count=0\n",
    "for i in range(50000):\n",
    "    ## Randomly pick tRNA to be bound to all ribosomes from all possible tRNA.\n",
    "    tRNA_bound=np.random.choice(tRNA_id,rib_num,replace=False)\n",
    "    tRNA_unbound = [tRNA for tRNA in tRNA_id if tRNA not in tRNA_bound]\n",
    "    ## For each ribosome, now with a reacting tRNA, pick an exponential random time until dissociation\n",
    "\n",
    "    react_time = np.ones(rib_num)*np.random.exponential(1.4)\n",
    "    ## Dealing with the case of cog tRNA binding to cog ribosome\n",
    "    if 0 in tRNA_bound[0:tRNA_cog]:\n",
    "        cog_time_f = np.random.uniform(0,0.68)\n",
    "        cog_time_b = np.random.uniform(0,1.4)\n",
    "        tot_count+=1\n",
    "        if np.random.uniform(0,1)<1475/(1475+717):\n",
    "            cog_bind=True\n",
    "            react_time[0] = cog_time_f\n",
    "            count+=1\n",
    "        else:\n",
    "            react_time[0] = cog_time_b \n",
    "        total_time+=cog_time\n",
    "print(count, ' ', tot_count, ' ',count/tot_count)"
   ]
  },
  {
   "cell_type": "code",
   "execution_count": 162,
   "metadata": {
    "collapsed": false
   },
   "outputs": [
    {
     "data": {
      "text/plain": [
       "array([ 3,  1, 23])"
      ]
     },
     "execution_count": 162,
     "metadata": {},
     "output_type": "execute_result"
    }
   ],
   "source": [
    "a = np.array([3,1,23])\n",
    "a"
   ]
  },
  {
   "cell_type": "code",
   "execution_count": 169,
   "metadata": {
    "collapsed": false
   },
   "outputs": [
    {
     "name": "stderr",
     "output_type": "stream",
     "text": [
      "/Users/Akshay/anaconda3/lib/python3.6/site-packages/ipykernel/__main__.py:1: DeprecationWarning: elementwise comparison failed; this will raise an error in the future.\n",
      "  if __name__ == '__main__':\n"
     ]
    },
    {
     "data": {
      "text/plain": [
       "array([ 0,  1,  2,  3,  4,  5,  6,  7,  8,  9, 10, 11, 12, 13, 14, 15, 16,\n",
       "       17, 18, 19, 20, 21, 23, 24, 26, 27, 28, 29, 30, 31, 32, 33, 34, 35,\n",
       "       36, 37, 38, 39, 40])"
      ]
     },
     "execution_count": 169,
     "metadata": {},
     "output_type": "execute_result"
    }
   ],
   "source": [
    "np.delete(tRNA_unbound,np.where(tRNA_unbound==tRNA_bound))\n"
   ]
  },
  {
   "cell_type": "code",
   "execution_count": null,
   "metadata": {
    "collapsed": true
   },
   "outputs": [],
   "source": []
  }
 ],
 "metadata": {
  "kernelspec": {
   "display_name": "Python 3",
   "language": "python",
   "name": "python3"
  },
  "language_info": {
   "codemirror_mode": {
    "name": "ipython",
    "version": 3
   },
   "file_extension": ".py",
   "mimetype": "text/x-python",
   "name": "python",
   "nbconvert_exporter": "python",
   "pygments_lexer": "ipython3",
   "version": "3.6.7"
  }
 },
 "nbformat": 4,
 "nbformat_minor": 2
}
