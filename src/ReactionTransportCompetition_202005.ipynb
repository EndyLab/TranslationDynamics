{
 "cells": [
  {
   "cell_type": "code",
   "execution_count": 82,
   "metadata": {},
   "outputs": [
    {
     "name": "stdout",
     "output_type": "stream",
     "text": [
      "The autoreload extension is already loaded. To reload it, use:\n",
      "  %reload_ext autoreload\n"
     ]
    },
    {
     "name": "stderr",
     "output_type": "stream",
     "text": [
      "[autoreload of analysis_utils failed: Traceback (most recent call last):\n",
      "  File \"/Users/akshay/opt/anaconda3/lib/python3.7/site-packages/IPython/extensions/autoreload.py\", line 245, in check\n",
      "    superreload(m, reload, self.old_objects)\n",
      "  File \"/Users/akshay/opt/anaconda3/lib/python3.7/site-packages/IPython/extensions/autoreload.py\", line 450, in superreload\n",
      "    update_generic(old_obj, new_obj)\n",
      "  File \"/Users/akshay/opt/anaconda3/lib/python3.7/site-packages/IPython/extensions/autoreload.py\", line 387, in update_generic\n",
      "    update(a, b)\n",
      "  File \"/Users/akshay/opt/anaconda3/lib/python3.7/site-packages/IPython/extensions/autoreload.py\", line 357, in update_class\n",
      "    update_instances(old, new)\n",
      "  File \"/Users/akshay/opt/anaconda3/lib/python3.7/site-packages/IPython/extensions/autoreload.py\", line 280, in update_instances\n",
      "    frame = next(frame_nfo.frame for frame_nfo in inspect.stack()\n",
      "StopIteration\n",
      "]\n"
     ]
    },
    {
     "name": "stdout",
     "output_type": "stream",
     "text": [
      "missing expt\n",
      "26\n",
      "missing expt\n",
      "89\n",
      "missing expt\n",
      "107\n",
      "(8.729526671675432, 0.2549367661839618)\n",
      "(5.441691691691692, 0.09880652347235261)\n",
      "(3.91975176546116, 0.06632021274474412)\n",
      "(2.772186025612222, 0.04893909368558765)\n",
      "missing expt\n",
      "202\n",
      "missing expt\n",
      "462\n",
      "(2.0292314945780294, 0.0375292712486741)\n",
      "(1.6580809510331163, 0.03557935936376023)\n",
      "missing expt\n",
      "147\n",
      "(4.610344827586207, 0.12572329586716738)\n",
      "missing expt\n",
      "349\n",
      "missing expt\n",
      "587\n",
      "(2.881449786055877, 0.05442239420104917)\n",
      "missing expt\n",
      "427\n",
      "(1.9327094474153297, 0.035351124881474634)\n",
      "missing expt\n",
      "65\n",
      "missing expt\n",
      "114\n",
      "(1.26248125133919, 0.024865949871742416)\n",
      "missing expt\n",
      "90\n",
      "(0.911907514450867, 0.020084271338228467)\n",
      "missing expt\n",
      "85\n",
      "missing expt\n",
      "132\n",
      "missing expt\n",
      "276\n",
      "missing expt\n",
      "390\n",
      "(0.7567723342939481, 0.01956837238410404)\n"
     ]
    }
   ],
   "source": [
    "from analysis_utils import *\n",
    "import matplotlib.pyplot as plt\n",
    "import matplotlib.patches as mpatches\n",
    "import matplotlib as mpl\n",
    "import numpy as np\n",
    "%matplotlib inline\n",
    "%load_ext autoreload\n",
    "%autoreload\n",
    "\n",
    "path = \"/Users/Akshay/Documents/TranslationDynamics/data/\"\n",
    "\n",
    "crowder = list()\n",
    "nocrowder = list()\n",
    "\n",
    "\n",
    "data = \"191003_2140/\"\n",
    "sim_i = countIncorrectRepeatReactions(path+data,6400,19,0,599)\n",
    "print(sim_i)\n",
    "crowder.append(sim_i[0])\n",
    "\n",
    "data = \"191004_0018/\"\n",
    "sim_i = countIncorrectRepeatReactions(path+data,6400,19,0,599)\n",
    "print(sim_i)\n",
    "crowder.append(sim_i[0])\n",
    "\n",
    "data = \"191004_0104/\"\n",
    "sim_i = countIncorrectRepeatReactions(path+data,6400,19,0,599)\n",
    "print(sim_i)\n",
    "crowder.append(sim_i[0])\n",
    "\n",
    "data = \"191004_1129/\"\n",
    "sim_i = countIncorrectRepeatReactions(path+data,6400,19,0,599)\n",
    "print(sim_i)\n",
    "crowder.append(sim_i[0])\n",
    "\n",
    "data = \"191004_1217/\"\n",
    "sim_i = countIncorrectRepeatReactions(path+data,6400,19,0,599)\n",
    "print(sim_i)\n",
    "crowder.append(sim_i[0])\n",
    "\n",
    "data = \"191003_2210/\"\n",
    "sim_i = countIncorrectRepeatReactions(path+data,6400,19,0,599)\n",
    "print(sim_i)\n",
    "crowder.append(sim_i[0])\n",
    "\n",
    "\n",
    "\n",
    "###No crowder.\n",
    "\n",
    "data = \"191009_1223/\"\n",
    "sim_i = countIncorrectRepeatReactions(path+data,6400,19,0,599)\n",
    "print(sim_i)\n",
    "nocrowder.append(sim_i[0])\n",
    "\n",
    "data = \"191009_1256/\"\n",
    "sim_i = countIncorrectRepeatReactions(path+data,6400,19,0,599)\n",
    "print(sim_i)\n",
    "nocrowder.append(sim_i[0])\n",
    "\n",
    "\n",
    "data = \"191009_1333/\"\n",
    "sim_i = countIncorrectRepeatReactions(path+data,6400,19,0,599)\n",
    "print(sim_i)\n",
    "nocrowder.append(sim_i[0])\n",
    "\n",
    "data = \"191009_1410/\"\n",
    "sim_i = countIncorrectRepeatReactions(path+data,6400,19,0,599)\n",
    "print(sim_i)\n",
    "nocrowder.append(sim_i[0])\n",
    "\n",
    "data = \"191009_1447/\"\n",
    "sim_i = countIncorrectRepeatReactions(path+data,6400,19,0,599)\n",
    "print(sim_i)\n",
    "nocrowder.append(sim_i[0])\n",
    "\n",
    "data = \"191007_1601/\"\n",
    "sim_i = countIncorrectRepeatReactions(path+data,6400,19,0,599)\n",
    "print(sim_i)\n",
    "nocrowder.append(sim_i[0])\n"
   ]
  },
  {
   "cell_type": "code",
   "execution_count": 51,
   "metadata": {},
   "outputs": [
    {
     "name": "stdout",
     "output_type": "stream",
     "text": [
      "The autoreload extension is already loaded. To reload it, use:\n",
      "  %reload_ext autoreload\n",
      "missing expt\n",
      "26\n"
     ]
    },
    {
     "name": "stderr",
     "output_type": "stream",
     "text": [
      "[autoreload of analysis_utils failed: Traceback (most recent call last):\n",
      "  File \"/Users/akshay/opt/anaconda3/lib/python3.7/site-packages/IPython/extensions/autoreload.py\", line 245, in check\n",
      "    superreload(m, reload, self.old_objects)\n",
      "  File \"/Users/akshay/opt/anaconda3/lib/python3.7/site-packages/IPython/extensions/autoreload.py\", line 450, in superreload\n",
      "    update_generic(old_obj, new_obj)\n",
      "  File \"/Users/akshay/opt/anaconda3/lib/python3.7/site-packages/IPython/extensions/autoreload.py\", line 387, in update_generic\n",
      "    update(a, b)\n",
      "  File \"/Users/akshay/opt/anaconda3/lib/python3.7/site-packages/IPython/extensions/autoreload.py\", line 357, in update_class\n",
      "    update_instances(old, new)\n",
      "  File \"/Users/akshay/opt/anaconda3/lib/python3.7/site-packages/IPython/extensions/autoreload.py\", line 280, in update_instances\n",
      "    frame = next(frame_nfo.frame for frame_nfo in inspect.stack()\n",
      "StopIteration\n",
      "]\n"
     ]
    },
    {
     "name": "stdout",
     "output_type": "stream",
     "text": [
      "missing expt\n",
      "89\n",
      "(10.040697674418604, 10.795324977679714, [9, 20, 4, 19, 18, 14, 0, 15, 11, 23, 2, 1, 7, 6, 6, 4, 7, 11, 19, 18, 19, 14, 38, 22, 16, 6, 7, 15, 19, 0, 9, 8, 5, 1, 4, 2, 0, 11, 20, 1, 27, 25, 9, 5, 4, 17, 3, 6, 2, 14, 13, 14, 26, 15, 2, 19, 7, 8, 42, 2, 7, 64, 0, 7, 33, 4, 13, 7, 6, 48, 2, 8, 5, 2, 2, 2, 13, 7, 27, 22, 1, 23, 19, 1, 0, 0, 9, 4, 14, 10, 1, 4, 2, 11, 8, 0, 10, 12, 3, 1, 18, 1, 6, 6, 0, 10, 34, 7, 5, 2, 1, 0, 4, 10, 18, 10, 57, 5, 29, 1, 3, 25, 1, 1, 13, 5, 0, 10, 3, 7, 18, 4, 0, 26, 15, 3, 3, 1, 1, 18, 15, 0, 3, 1, 3, 4, 4, 0, 10, 17, 2, 0, 13, 11, 32, 2, 4, 4, 3, 0, 8, 33, 10, 4, 6, 1, 5, 2, 25, 1, 0, 20])\n"
     ]
    }
   ],
   "source": [
    "from analysis_utils import *\n",
    "import matplotlib.pyplot as plt\n",
    "import matplotlib.patches as mpatches\n",
    "import matplotlib as mpl\n",
    "import numpy as np\n",
    "%matplotlib inline\n",
    "%load_ext autoreload\n",
    "%autoreload\n",
    "data = \"191003_2140/\"\n",
    "sim_i = countIncorrectRepeatReactions(path+data,6400,19,0,99)\n",
    "print(sim_i)\n",
    "crowder.append(sim_i[0])"
   ]
  },
  {
   "cell_type": "code",
   "execution_count": 81,
   "metadata": {},
   "outputs": [
    {
     "name": "stdout",
     "output_type": "stream",
     "text": [
      "The autoreload extension is already loaded. To reload it, use:\n",
      "  %reload_ext autoreload\n",
      "missing expt\n",
      "26\n",
      "missing expt\n",
      "89\n",
      "missing expt\n",
      "107\n",
      "(8.721889055472264, 0.2544067319398432, [9, 20, 4, 19, 18, 14, 0, 15, 11, 23, 2, 1, 7, 6, 6, 4, 7, 11, 19, 18, 19, 14, 38, 22, 16, 6, 7, 15, 19, 0, 9, 8, 5, 1, 4, 2, 0, 11, 20, 1, 27, 25, 9, 5, 4, 17, 3, 6, 2, 14, 13, 14, 26, 15, 2, 19, 7, 8, 42, 2, 7, 64, 0, 7, 33, 4, 13, 7, 6, 48, 2, 8, 5, 2, 2, 2, 13, 7, 27, 22, 1, 23, 19, 1, 0, 0, 9, 4, 14, 10, 1, 4, 2, 11, 8, 0, 10, 12, 3, 1, 18, 1, 6, 6, 0, 10, 34, 7, 5, 2, 1, 0, 4, 10, 18, 10, 57, 5, 29, 1, 3, 25, 1, 1, 13, 5, 0, 10, 3, 7, 18, 4, 0, 26, 15, 3, 3, 1, 1, 18, 15, 0, 3, 1, 3, 4, 4, 0, 10, 17, 2, 0, 13, 11, 32, 2, 4, 4, 3, 0, 8, 33, 10, 4, 6, 1, 5, 2, 25, 1, 0, 20, 14, 13, 2, 3, 8, 26, 24, 9, 6, 14, 7, 0, 3, 10, 12, 11, 6, 1, 9, 4, 9, 0, 2, 3, 30, 5, 20, 3, 6, 1, 7, 36, 20, 10, 47, 8, 27, 3, 0, 1, 10, 12, 13, 10, 2, 8, 3, 1, 14, 0, 3, 12, 4, 1, 2, 3, 2, 0, 20, 3, 7, 11, 7, 17, 22, 31, 3, 6, 3, 11, 1, 2, 19, 18, 15, 28, 16, 7, 4, 5, 4, 16, 18, 5, 4, 3, 10, 4, 13, 3, 7, 8, 21, 2, 19, 19, 11, 25, 27, 4, 14, 10, 3, 6, 2, 10, 13, 1, 12, 16, 27, 1, 10, 0, 0, 6, 5, 26, 7, 6, 2, 7, 4, 11, 6, 25, 6, 5, 8, 8, 0, 14, 12, 1, 1, 0, 0, 4, 14, 37, 7, 5, 4, 7, 12, 16, 1, 34, 12, 0, 4, 3, 5, 16, 3, 14, 5, 14, 3, 0, 7, 2, 37, 3, 14, 9, 2, 8, 1, 3, 8, 14, 8, 10, 1, 7, 3, 21, 11, 39, 29, 4, 10, 2, 1, 4, 5, 6, 2, 4, 16, 6, 21, 4, 10, 1, 2, 2, 2, 4, 10, 5, 8, 1, 8, 1, 19, 2, 6, 4, 9, 2, 2, 7, 9, 0, 29, 14, 12, 24, 8, 4, 13, 1, 4, 10, 6, 1, 12, 5, 9, 10, 8, 8, 11, 7, 5, 5, 14, 0, 7, 2, 1, 5, 0, 27, 1, 14, 25, 43, 10, 7, 11, 4, 23, 9, 1, 1, 6, 1, 14, 6, 18, 7, 12, 22, 10, 15, 3, 26, 17, 4, 0, 18, 22, 4, 13, 2, 0, 2, 8, 3, 3, 25, 2, 58, 2, 10, 28, 6, 3, 7, 1, 1, 12, 1, 4, 26, 0, 23, 1, 11, 2, 0, 3, 16, 5, 36, 8, 5, 4, 5, 11, 4, 9, 14, 1, 8, 16, 8, 4, 1, 4, 6, 27, 2, 5, 7, 2, 2, 31, 10, 0, 2, 0, 12, 11, 8, 0, 25, 8, 13, 1, 2, 2, 12, 2, 3, 10, 11, 17, 33, 8, 29, 0, 7, 15, 5, 3, 25, 1, 8, 1, 3, 10, 3, 5, 27, 0, 17, 19, 4, 4, 19, 19, 9, 2, 0, 1, 13, 18, 5, 11, 13, 12, 1, 18, 12, 5, 0, 18, 9, 13, 6, 5, 20, 4, 1, 6, 47, 16, 0, 1, 6, 8, 10, 30, 19, 12, 4, 4, 1, 2, 6, 11, 2, 4, 0, 9, 1, 10, 6, 6, 8, 2, 1, 5, 3, 0, 7, 13, 3, 0, 6, 8, 6, 16, 0, 4, 7, 5, 35, 29, 3, 5, 14, 6, 3, 0, 18, 1, 45, 1, 4, 4, 0, 5, 6, 4, 33, 14, 2, 4, 3, 1, 1, 22, 28, 12, 14, 20, 25, 56, 16, 4, 2, 22, 5, 9, 26, 7, 4, 22, 2, 4, 9, 3, 0, 4, 0, 33, 0, 3, 14, 1, 26, 1, 7, 22, 1, 9, 29, 9, 2, 12, 1, 57, 8, 23, 5, 3, 2, 1, 23, 18, 11, 4, 6, 20, 4, 0, 3, 3, 8, 1, 14, 1, 5, 1, 7, 2, 1, 28, 2, 17, 8, 18, 19, 1, 17, 22, 2, 0, 3, 10, 0, 4, 0, 19, 16, 13, 2, 3, 27, 9, 11, 13, 11, 18, 4, 4, 0, 9, 19, 3, 3, 13, 5, 1, 3, 4, 34, 10, 6, 0, 7, 0, 13, 14, 8, 1, 1, 9, 18, 13, 15, 21, 9, 12, 15, 2, 22, 10, 0, 2, 9, 6, 4, 1, 3, 5, 4, 9, 0, 7, 2, 10, 5, 12, 4, 1, 0, 16, 2, 25, 7, 2, 10, 0, 3, 0, 0, 4, 5, 21, 3, 7, 7, 37, 34, 1, 10, 6, 5, 23, 0, 2, 4, 5, 26, 26, 3, 8, 3, 0, 2, 9, 29, 14, 0, 4, 17, 0, 7, 5, 27, 15, 8, 4, 14, 1, 33, 7, 6, 4, 1, 10, 6, 35, 2, 13, 2, 3, 13, 10, 20, 4, 3, 5, 7, 0, 5, 3, 7, 2, 4, 10, 10, 36, 7, 0, 6, 11, 1, 15, 1, 4, 4, 5, 0, 0, 22, 1, 3, 0, 36, 3, 0, 5, 5, 1, 3, 8, 7, 6, 6, 0, 6, 6, 8, 22, 3, 7, 3, 2, 5, 4, 7, 2, 2, 2, 0, 3, 11, 7, 6, 1, 20, 0, 3, 2, 0, 0, 18, 24, 12, 34, 4, 2, 12, 14, 9, 3, 31, 0, 18, 6, 0, 2, 1, 7, 12, 1, 1, 4, 35, 3, 7, 4, 8, 9, 1, 0, 14, 17, 0, 2, 5, 1, 3, 1, 2, 15, 4, 41, 3, 0, 42, 3, 6, 8, 10, 5, 22, 0, 9, 9, 4, 0, 6, 1, 3, 2, 2, 4, 3, 0, 4, 0, 2, 6, 2, 2, 4, 15, 2, 24, 3, 1, 4, 11, 1, 6, 9, 20, 7, 3, 20, 6, 7, 6, 2, 15, 0, 12, 9, 2, 15, 12, 22, 5, 32, 4, 3, 3, 11, 9, 3, 5, 0, 0, 11, 9, 2, 16, 9, 0, 8, 1, 9, 8, 10, 1, 4, 5, 4, 2, 0, 53, 0, 1, 10, 1, 3, 11, 2, 2, 0, 21, 5, 5, 17, 27, 1, 1, 8, 13, 11, 4, 7, 2, 30, 1, 3, 4, 16, 5, 0, 15, 15, 20, 5, 1, 36, 10, 3, 2, 1, 3, 0, 1, 22, 4, 20, 15, 8, 8, 2, 4, 1, 1, 0, 20, 4, 35, 5, 6, 1, 15, 2, 46, 1, 2, 14, 3, 10, 6, 27, 0, 15, 1, 11, 13, 5, 7, 8, 6, 11, 11, 3, 3, 2, 16, 6, 9, 3, 16, 14, 1, 3, 0, 9, 2, 4, 6, 22, 4, 4, 13, 6, 16, 7, 7, 8, 1, 4, 2, 4, 0, 7, 28, 17, 3, 9, 2, 8, 1, 0, 20, 1, 4, 9, 5, 18, 3, 5, 11, 7, 0, 4, 4, 3, 7, 9, 17, 2, 9, 5, 6, 11, 3, 0, 5, 33, 2, 2, 6, 10, 1, 6, 0, 8, 3, 6, 4, 21, 11, 0, 1, 0, 1, 6, 13, 12, 0, 3, 32, 3, 10, 0, 6, 13, 2, 1, 15, 12, 45, 6, 12, 4, 13, 2, 11, 24, 10, 6, 8, 1, 1, 1, 38, 3, 13, 3, 5, 26, 6, 4, 2, 8, 2, 11, 4, 11, 8, 25, 7, 7, 18, 10, 0, 22, 16, 0, 3, 0, 9, 27, 9, 39, 14, 7, 2, 3, 5, 2, 19, 16, 8, 28, 7, 2, 11, 0, 0, 15, 1, 8, 4, 7, 2, 8, 0, 3, 2, 1, 3, 2, 1, 5, 2, 7, 6, 5, 12, 15, 3, 3, 1, 10, 0, 2, 3, 0, 0, 9, 2, 1, 5, 1, 12, 17, 1, 17, 4, 9, 0, 0, 17, 8, 1, 4, 6, 9, 2, 0, 3, 4, 5, 4, 7, 5])\n"
     ]
    }
   ],
   "source": [
    "from analysis_utils import *\n",
    "import matplotlib.pyplot as plt\n",
    "import matplotlib.patches as mpatches\n",
    "import matplotlib as mpl\n",
    "import numpy as np\n",
    "%matplotlib inline\n",
    "%load_ext autoreload\n",
    "%autoreload\n",
    "data = \"191003_2140/\"\n",
    "sim_i = countIncorrectRepeatReactions(path+data,6400,19,0,600)\n",
    "print(sim_i)\n",
    "crowder.append(sim_i[0])"
   ]
  },
  {
   "cell_type": "code",
   "execution_count": 92,
   "metadata": {},
   "outputs": [
    {
     "name": "stdout",
     "output_type": "stream",
     "text": [
      "The autoreload extension is already loaded. To reload it, use:\n",
      "  %reload_ext autoreload\n",
      "(1.4821124361158433, 0.07903869327895457)\n"
     ]
    }
   ],
   "source": [
    "from analysis_utils import *\n",
    "import matplotlib.pyplot as plt\n",
    "import matplotlib.patches as mpatches\n",
    "import matplotlib as mpl\n",
    "import numpy as np\n",
    "%matplotlib inline\n",
    "%load_ext autoreload\n",
    "%autoreload\n",
    "data = \"191003_2210/\"\n",
    "sim_i = countIncorrectRepeatReactions(path+data,6400,19,100,200)\n",
    "print(sim_i)\n",
    "crowder.append(sim_i[0])"
   ]
  },
  {
   "cell_type": "code",
   "execution_count": 141,
   "metadata": {},
   "outputs": [
    {
     "data": {
      "text/plain": [
       "0.010147160409342264"
      ]
     },
     "execution_count": 141,
     "metadata": {},
     "output_type": "execute_result"
    }
   ],
   "source": [
    "a = np.random.normal(0,1,10000)\n",
    "np.std(a)/100"
   ]
  },
  {
   "cell_type": "code",
   "execution_count": 166,
   "metadata": {},
   "outputs": [
    {
     "data": {
      "text/plain": [
       "0.02667452800440414"
      ]
     },
     "execution_count": 166,
     "metadata": {},
     "output_type": "execute_result"
    }
   ],
   "source": [
    "a=[]\n",
    "b=[]\n",
    "for i in range(0,1000):\n",
    "    a.append(np.random.normal(0,1,10))\n",
    "    b.append(np.mean(a))\n",
    "np.std(b)/np.sqrt(10)"
   ]
  },
  {
   "cell_type": "code",
   "execution_count": null,
   "metadata": {},
   "outputs": [],
   "source": []
  }
 ],
 "metadata": {
  "kernelspec": {
   "display_name": "Python 3",
   "language": "python",
   "name": "python3"
  },
  "language_info": {
   "codemirror_mode": {
    "name": "ipython",
    "version": 3
   },
   "file_extension": ".py",
   "mimetype": "text/x-python",
   "name": "python",
   "nbconvert_exporter": "python",
   "pygments_lexer": "ipython3",
   "version": "3.7.4"
  }
 },
 "nbformat": 4,
 "nbformat_minor": 2
}
