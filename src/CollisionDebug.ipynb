{
 "cells": [
  {
   "cell_type": "code",
   "execution_count": 3,
   "metadata": {
    "collapsed": false
   },
   "outputs": [
    {
     "name": "stdout",
     "output_type": "stream",
     "text": [
      "test\n",
      "missing expt\n",
      "166\n",
      "(75.28187919463087, 12.716886483638795)\n",
      "test\n",
      "missing expt\n",
      "399\n",
      "(78.77852348993288, 11.897687800624377)\n"
     ]
    }
   ],
   "source": [
    "from analysis_utils import *\n",
    "import matplotlib.pyplot as plt\n",
    "import matplotlib.patches as mpatches\n",
    "import matplotlib as mpl\n",
    "%matplotlib inline\n",
    "%load_ext autoreload\n",
    "%autoreload\n",
    "gr30_1rib1tRNA_100x_1e9_1e10 = dict()\n",
    "path = \"/Users/Akshay/Dropbox/Life/EndyLab/Research/TranslationDynamics/data/\"\n",
    "\n",
    "#7nm post reaction\n",
    "data = \"190502_2231/\"\n",
    "for i in range(1,3):\n",
    "    sim_i = countIncorrectReactions(path+data, 1000, 1000, 200*(i-1)+50,200*i,scaling=100)\n",
    "    print(sim_i)"
   ]
  },
  {
   "cell_type": "code",
   "execution_count": 35,
   "metadata": {
    "collapsed": false
   },
   "outputs": [
    {
     "name": "stdout",
     "output_type": "stream",
     "text": [
      "test\n",
      "(452.705, 67.72302396526605)\n",
      "test\n",
      "missing expt\n",
      "399\n",
      "(694.2361809045226, 91.50626470295282)\n"
     ]
    }
   ],
   "source": [
    "gr30_1rib1tRNA_100x_1e9_1e10 = dict()\n",
    "path = \"/Users/Akshay/Dropbox/Life/EndyLab/Research/TranslationDynamics/data/\"\n",
    "\n",
    "#0nm post reaction\n",
    "data = \"190502_2312/\"\n",
    "for i in range(1,3):\n",
    "    sim_i = countIncorrectReactions(path+data, 1000, 1000, 200*(i-1),200*i,scaling=100)\n",
    "    print(sim_i)"
   ]
  },
  {
   "cell_type": "code",
   "execution_count": 36,
   "metadata": {
    "collapsed": false
   },
   "outputs": [
    {
     "name": "stdout",
     "output_type": "stream",
     "text": [
      "test\n",
      "(871.38, 141.0916212962343)\n",
      "test\n",
      "missing expt\n",
      "399\n",
      "(2894.331658291457, 494.5487365435767)\n"
     ]
    }
   ],
   "source": [
    "gr30_1rib1tRNA_100x_1e9_1e10 = dict()\n",
    "path = \"/Users/Akshay/Dropbox/Life/EndyLab/Research/TranslationDynamics/data/\"\n",
    "\n",
    "#0nm post reaction; rescaled sizes to account for imprecision\n",
    "data = \"190503_0117/\"\n",
    "for i in range(1,3):\n",
    "    sim_i = countIncorrectReactions(path+data, 1000, 1000, 200*(i-1),200*i,scaling=100)\n",
    "    print(sim_i)"
   ]
  },
  {
   "cell_type": "code",
   "execution_count": 38,
   "metadata": {
    "collapsed": false
   },
   "outputs": [
    {
     "name": "stdout",
     "output_type": "stream",
     "text": [
      "test\n",
      "(544.255, 79.63786772007397)\n",
      "test\n",
      "missing expt\n",
      "399\n",
      "(953.0904522613065, 91.52165275996748)\n"
     ]
    }
   ],
   "source": [
    "gr30_1rib1tRNA_100x_1e9_1e10 = dict()\n",
    "path = \"/Users/Akshay/Dropbox/Life/EndyLab/Research/TranslationDynamics/data/\"\n",
    "\n",
    "#0nm post reaction; changed box size\n",
    "data = \"190503_0900/\"\n",
    "for i in range(1,3):\n",
    "    sim_i = countIncorrectReactions(path+data, 1000, 1000, 200*(i-1),200*i,scaling=100)\n",
    "    print(sim_i)\n"
   ]
  },
  {
   "cell_type": "code",
   "execution_count": 3,
   "metadata": {
    "collapsed": false
   },
   "outputs": [
    {
     "name": "stdout",
     "output_type": "stream",
     "text": [
      "test\n",
      "(121.205, 19.413474057983542)\n",
      "test\n",
      "(131.525, 20.787240677877378)\n",
      "test\n",
      "(132.21, 20.809995194617418)\n",
      "test\n",
      "missing expt\n",
      "799\n",
      "(139.58793969849245, 22.562945014225352)\n"
     ]
    }
   ],
   "source": [
    "gr30_1rib1tRNA_100x_1e9101112_2nm = dict()\n",
    "path = \"/Users/Akshay/Dropbox/Life/EndyLab/Research/TranslationDynamics/data/\"\n",
    "\n",
    "#0nm post reaction; changed box size\n",
    "data = \"190507_1952/\"\n",
    "for i in range(1,5):\n",
    "    sim_i = countIncorrectReactions(path+data, 1000, 1000, 200*(i-1),200*i,scaling=100)\n",
    "    print(sim_i)\n",
    "\n"
   ]
  },
  {
   "cell_type": "code",
   "execution_count": 4,
   "metadata": {
    "collapsed": false
   },
   "outputs": [
    {
     "name": "stdout",
     "output_type": "stream",
     "text": [
      "test\n",
      "(267.565, 44.54868993584435)\n",
      "test\n",
      "(326.2, 45.490438555810826)\n",
      "test\n",
      "(347.85, 53.1688583665288)\n",
      "test\n",
      "missing expt\n",
      "750\n",
      "missing expt\n",
      "799\n",
      "(361.1818181818182, 51.080618324481804)\n"
     ]
    }
   ],
   "source": [
    "gr30_1rib1tRNA_100x_1e9101112_5ang = dict()\n",
    "path = \"/Users/Akshay/Dropbox/Life/EndyLab/Research/TranslationDynamics/data/\"\n",
    "\n",
    "#0nm post reaction; changed box size\n",
    "data = \"190509_0125/\"\n",
    "for i in range(1,5):\n",
    "    sim_i = countIncorrectReactions(path+data, 1000, 1000, 200*(i-1),200*i,scaling=100)\n",
    "    print(sim_i)"
   ]
  },
  {
   "cell_type": "code",
   "execution_count": 6,
   "metadata": {
    "collapsed": false
   },
   "outputs": [
    {
     "name": "stdout",
     "output_type": "stream",
     "text": [
      "test\n",
      "(452.705, 67.72302396526605)\n",
      "test\n",
      "(693.53, 91.8192196656016)\n",
      "test\n",
      "missing expt\n",
      "490\n",
      "missing expt\n",
      "574\n",
      "(811.3030303030303, 83.89157920509265)\n",
      "test\n",
      "missing expt\n",
      "632\n",
      "missing expt\n",
      "669\n",
      "missing expt\n",
      "775\n",
      "missing expt\n",
      "799\n",
      "(854.0969387755102, 94.35152352044403)\n"
     ]
    }
   ],
   "source": [
    "gr30_1rib1tRNA_100x_1e9101112_1ang = dict()\n",
    "path = \"/Users/Akshay/Dropbox/Life/EndyLab/Research/TranslationDynamics/data/\"\n",
    "\n",
    "#0nm post reaction; changed box size\n",
    "data = \"190509_0948/\"\n",
    "for i in range(1,5):\n",
    "    sim_i = countIncorrectReactions(path+data, 1000, 1000, 200*(i-1),200*i,scaling=100)\n",
    "    print(sim_i)"
   ]
  },
  {
   "cell_type": "code",
   "execution_count": 22,
   "metadata": {
    "collapsed": false
   },
   "outputs": [
    {
     "name": "stdout",
     "output_type": "stream",
     "text": [
      "test\n",
      "(75.27, 24.166652643674094)\n",
      "test\n",
      "missing expt\n",
      "399\n",
      "(96.07537688442211, 34.03071841310773)\n"
     ]
    }
   ],
   "source": [
    "gr30_1rib1tRNA_100x_1e9101112_1ang = dict()\n",
    "path = \"/Users/Akshay/Dropbox/Life/EndyLab/Research/TranslationDynamics/data/\"\n",
    "\n",
    "#0nm post reaction; changed box size\n",
    "data = \"190510_0111/\"\n",
    "for i in range(1,3):\n",
    "    sim_i = countIncorrectReactions(path+data, 1000, 1000, 200*(i-1),200*i,scaling=100)\n",
    "    print(sim_i)"
   ]
  },
  {
   "cell_type": "code",
   "execution_count": 24,
   "metadata": {
    "collapsed": false
   },
   "outputs": [
    {
     "name": "stdout",
     "output_type": "stream",
     "text": [
      "The autoreload extension is already loaded. To reload it, use:\n",
      "  %reload_ext autoreload\n",
      "test\n",
      "(0.7762229398397321, 1.3627150691976002)\n",
      "test\n",
      "missing expt\n",
      "399\n",
      "(0.6449991332986653, 1.162402744120197)\n"
     ]
    }
   ],
   "source": [
    "from analysis_utils import *\n",
    "import matplotlib.pyplot as plt\n",
    "import matplotlib.patches as mpatches\n",
    "import matplotlib as mpl\n",
    "%matplotlib inline\n",
    "%load_ext autoreload\n",
    "%autoreload\n",
    "gr30_1rib1tRNA_100x_1e9101112_1ang = dict()\n",
    "path = \"/Users/Akshay/Dropbox/Life/EndyLab/Research/TranslationDynamics/data/\"\n",
    "\n",
    "#0nm post reaction; changed box size\n",
    "data = \"190510_0111/\"\n",
    "for i in range(1,3):\n",
    "    sim_i = countIncorrectRepeatReactions(path+data, 1000, 1000, 200*(i-1),200*i,scaling=100)\n",
    "    print(sim_i)"
   ]
  },
  {
   "cell_type": "code",
   "execution_count": 1,
   "metadata": {
    "collapsed": true
   },
   "outputs": [],
   "source": [
    "# We need to pick a distance of separation where 1e-10,1e-11,and 1e-12 converge to the same number of collisions/repeat reactions/osmotic pressure?"
   ]
  },
  {
   "cell_type": "code",
   "execution_count": 5,
   "metadata": {
    "collapsed": false
   },
   "outputs": [
    {
     "name": "stdout",
     "output_type": "stream",
     "text": [
      "test\n",
      "(547.51, 60.869367501231686)\n",
      "test\n",
      "(666.77, 70.00119356125293)\n",
      "test\n",
      "(698.755, 73.96299733650605)\n"
     ]
    }
   ],
   "source": [
    "gr30_1rib1tRNA_100x_1e9101112_5ang = dict()\n",
    "path = \"/Users/Akshay/Dropbox/Life/EndyLab/Research/TranslationDynamics/data/\"\n",
    "\n",
    "#0nm post reaction; changed box size\n",
    "data = \"190820_1540/\"\n",
    "for i in range(1,4):\n",
    "    sim_i = countIncorrectReactions(path+data, 1000, 1000, 200*(i-1),200*i,scaling=100)\n",
    "    print(sim_i)"
   ]
  },
  {
   "cell_type": "code",
   "execution_count": 6,
   "metadata": {
    "collapsed": false
   },
   "outputs": [
    {
     "name": "stdout",
     "output_type": "stream",
     "text": [
      "test\n",
      "(372.68, 41.15783764971139)\n",
      "test\n",
      "(416.135, 45.09763602451907)\n",
      "test\n",
      "(433.265, 51.53547103694697)\n"
     ]
    }
   ],
   "source": [
    "gr30_1rib1tRNA_100x_1e9101112_1nm = dict()\n",
    "path = \"/Users/Akshay/Dropbox/Life/EndyLab/Research/TranslationDynamics/data/\"\n",
    "\n",
    "#0nm post reaction; changed box size\n",
    "data = \"190820_1613/\"\n",
    "for i in range(1,4):\n",
    "    sim_i = countIncorrectReactions(path+data, 1000, 1000, 200*(i-1),200*i,scaling=100)\n",
    "    print(sim_i)"
   ]
  },
  {
   "cell_type": "code",
   "execution_count": 8,
   "metadata": {
    "collapsed": false
   },
   "outputs": [
    {
     "name": "stdout",
     "output_type": "stream",
     "text": [
      "test\n",
      "missing expt\n",
      "84\n",
      "(24178.53768844221, 248.3570280940363)\n",
      "test\n",
      "(26260.75, 301.9191737866279)\n",
      "test\n",
      "missing expt\n",
      "441\n",
      "missing expt\n",
      "442\n",
      "missing expt\n",
      "445\n",
      "missing expt\n",
      "446\n",
      "missing expt\n",
      "447\n",
      "missing expt\n",
      "448\n",
      "missing expt\n",
      "449\n",
      "missing expt\n",
      "450\n",
      "missing expt\n",
      "451\n",
      "missing expt\n",
      "452\n",
      "missing expt\n",
      "453\n",
      "missing expt\n",
      "454\n",
      "missing expt\n",
      "455\n",
      "missing expt\n",
      "456\n",
      "missing expt\n",
      "457\n",
      "missing expt\n",
      "458\n",
      "missing expt\n",
      "459\n",
      "missing expt\n",
      "460\n",
      "missing expt\n",
      "461\n",
      "missing expt\n",
      "462\n",
      "missing expt\n",
      "463\n",
      "missing expt\n",
      "464\n",
      "missing expt\n",
      "465\n",
      "missing expt\n",
      "466\n",
      "missing expt\n",
      "467\n",
      "missing expt\n",
      "468\n",
      "missing expt\n",
      "469\n",
      "missing expt\n",
      "470\n",
      "missing expt\n",
      "471\n",
      "missing expt\n",
      "472\n",
      "missing expt\n",
      "473\n",
      "missing expt\n",
      "474\n",
      "missing expt\n",
      "475\n",
      "missing expt\n",
      "476\n",
      "missing expt\n",
      "477\n",
      "missing expt\n",
      "478\n",
      "missing expt\n",
      "479\n",
      "missing expt\n",
      "480\n",
      "missing expt\n",
      "481\n",
      "missing expt\n",
      "482\n",
      "missing expt\n",
      "483\n",
      "missing expt\n",
      "484\n",
      "missing expt\n",
      "485\n",
      "missing expt\n",
      "486\n",
      "missing expt\n",
      "487\n",
      "missing expt\n",
      "488\n",
      "missing expt\n",
      "489\n",
      "missing expt\n",
      "490\n",
      "missing expt\n",
      "491\n",
      "missing expt\n",
      "492\n",
      "missing expt\n",
      "493\n",
      "missing expt\n",
      "494\n",
      "missing expt\n",
      "495\n",
      "missing expt\n",
      "496\n",
      "missing expt\n",
      "497\n",
      "missing expt\n",
      "498\n",
      "missing expt\n",
      "499\n",
      "missing expt\n",
      "500\n",
      "missing expt\n",
      "501\n",
      "missing expt\n",
      "502\n",
      "missing expt\n",
      "503\n",
      "missing expt\n",
      "504\n",
      "missing expt\n",
      "505\n",
      "missing expt\n",
      "506\n",
      "missing expt\n",
      "507\n",
      "missing expt\n",
      "508\n",
      "missing expt\n",
      "509\n",
      "missing expt\n",
      "510\n",
      "missing expt\n",
      "511\n",
      "missing expt\n",
      "512\n",
      "missing expt\n",
      "513\n",
      "missing expt\n",
      "514\n",
      "missing expt\n",
      "515\n",
      "missing expt\n",
      "516\n",
      "missing expt\n",
      "517\n",
      "missing expt\n",
      "518\n",
      "missing expt\n",
      "519\n",
      "missing expt\n",
      "520\n",
      "missing expt\n",
      "521\n",
      "missing expt\n",
      "522\n",
      "missing expt\n",
      "523\n",
      "missing expt\n",
      "524\n",
      "missing expt\n",
      "525\n",
      "missing expt\n",
      "526\n",
      "missing expt\n",
      "527\n",
      "missing expt\n",
      "528\n",
      "missing expt\n",
      "529\n",
      "missing expt\n",
      "530\n",
      "missing expt\n",
      "531\n",
      "missing expt\n",
      "532\n",
      "missing expt\n",
      "533\n",
      "missing expt\n",
      "534\n",
      "missing expt\n",
      "535\n",
      "missing expt\n",
      "536\n",
      "missing expt\n",
      "537\n",
      "missing expt\n",
      "538\n",
      "missing expt\n",
      "539\n",
      "missing expt\n",
      "540\n",
      "missing expt\n",
      "541\n",
      "missing expt\n",
      "542\n",
      "missing expt\n",
      "543\n",
      "missing expt\n",
      "544\n",
      "missing expt\n",
      "545\n",
      "missing expt\n",
      "546\n",
      "missing expt\n",
      "547\n",
      "missing expt\n",
      "548\n",
      "missing expt\n",
      "549\n",
      "missing expt\n",
      "550\n",
      "missing expt\n",
      "551\n",
      "missing expt\n",
      "552\n",
      "missing expt\n",
      "553\n",
      "missing expt\n",
      "554\n",
      "missing expt\n",
      "555\n",
      "missing expt\n",
      "556\n",
      "missing expt\n",
      "557\n",
      "missing expt\n",
      "558\n",
      "missing expt\n",
      "559\n",
      "missing expt\n",
      "560\n",
      "missing expt\n",
      "561\n",
      "missing expt\n",
      "562\n",
      "missing expt\n",
      "563\n",
      "missing expt\n",
      "564\n",
      "missing expt\n",
      "565\n",
      "missing expt\n",
      "566\n",
      "missing expt\n",
      "567\n",
      "missing expt\n",
      "568\n",
      "missing expt\n",
      "569\n",
      "missing expt\n",
      "570\n",
      "missing expt\n",
      "571\n",
      "missing expt\n",
      "572\n",
      "missing expt\n",
      "573\n",
      "missing expt\n",
      "574\n",
      "missing expt\n",
      "575\n",
      "missing expt\n",
      "576\n",
      "missing expt\n",
      "577\n",
      "missing expt\n",
      "578\n",
      "missing expt\n",
      "579\n",
      "missing expt\n",
      "580\n",
      "missing expt\n",
      "581\n",
      "missing expt\n",
      "582\n",
      "missing expt\n",
      "583\n",
      "missing expt\n",
      "584\n",
      "missing expt\n",
      "585\n",
      "missing expt\n",
      "586\n",
      "missing expt\n",
      "587\n",
      "missing expt\n",
      "588\n",
      "missing expt\n",
      "589\n",
      "missing expt\n",
      "590\n",
      "missing expt\n",
      "591\n",
      "missing expt\n",
      "592\n",
      "missing expt\n",
      "593\n",
      "missing expt\n",
      "594\n",
      "missing expt\n",
      "595\n",
      "missing expt\n",
      "596\n",
      "missing expt\n",
      "597\n",
      "missing expt\n",
      "598\n",
      "missing expt\n",
      "599\n",
      "(26964.25581395349, 273.41272090846473)\n"
     ]
    }
   ],
   "source": [
    "gr30_1rib1tRNA_100x_1e9101112_2nm = dict()\n",
    "path = \"/Users/Akshay/Dropbox/Life/EndyLab/Research/TranslationDynamics/data/\"\n",
    "\n",
    "#0nm post reaction; changed box size\n",
    "data = \"190820_1646/\"\n",
    "for i in range(1,4):\n",
    "    sim_i = countIncorrectReactions(path+data, 1000, 1000, 200*(i-1),200*i,scaling=100)\n",
    "    print(sim_i)"
   ]
  },
  {
   "cell_type": "code",
   "execution_count": 10,
   "metadata": {
    "collapsed": false
   },
   "outputs": [
    {
     "name": "stdout",
     "output_type": "stream",
     "text": [
      "test\n",
      "missing expt\n",
      "149\n",
      "(0.3825503355704698, 0.48600985208675634)\n",
      "test\n",
      "(nan, nan)\n",
      "test\n",
      "(nan, nan)\n"
     ]
    }
   ],
   "source": [
    "gr30_1rib1tRNA_100x_1e9101112_2nmMinusReact = dict()\n",
    "path = \"/Users/Akshay/Dropbox/Life/EndyLab/Research/TranslationDynamics/data/\"\n",
    "\n",
    "#0nm post reaction; changed box size\n",
    "data = \"190820_1811/\"\n",
    "for i in range(1,4):\n",
    "    sim_i = countIncorrectReactions(path+data, 1000, 1000, 200*(i-1),200*i,scaling=100)\n",
    "    print(sim_i)"
   ]
  },
  {
   "cell_type": "code",
   "execution_count": null,
   "metadata": {
    "collapsed": true
   },
   "outputs": [],
   "source": []
  }
 ],
 "metadata": {
  "kernelspec": {
   "display_name": "Python 3",
   "language": "python",
   "name": "python3"
  },
  "language_info": {
   "codemirror_mode": {
    "name": "ipython",
    "version": 3
   },
   "file_extension": ".py",
   "mimetype": "text/x-python",
   "name": "python",
   "nbconvert_exporter": "python",
   "pygments_lexer": "ipython3",
   "version": "3.6.7"
  }
 },
 "nbformat": 4,
 "nbformat_minor": 2
}
